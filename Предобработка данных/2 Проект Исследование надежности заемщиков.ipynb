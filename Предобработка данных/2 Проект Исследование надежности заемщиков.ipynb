{
 "cells": [
  {
   "cell_type": "markdown",
   "id": "386f2ae7",
   "metadata": {
    "deletable": false,
    "editable": false,
    "id": "386f2ae7"
   },
   "source": [
    "# Исследование надежности заемщиков\n"
   ]
  },
  {
   "cell_type": "markdown",
   "id": "ffe86f65",
   "metadata": {
    "deletable": false,
    "editable": false,
    "id": "ffe86f65"
   },
   "source": [
    "Во второй части проекта вы выполните шаги 3 и 4. Их вручную проверит ревьюер.\n",
    "Чтобы вам не пришлось писать код заново для шагов 1 и 2, мы добавили авторские решения в ячейки с кодом. \n",
    "\n"
   ]
  },
  {
   "cell_type": "markdown",
   "id": "26613308",
   "metadata": {
    "deletable": false,
    "editable": false,
    "id": "26613308"
   },
   "source": [
    "## Откройте таблицу и изучите общую информацию о данных"
   ]
  },
  {
   "cell_type": "markdown",
   "id": "3c9f838e",
   "metadata": {
    "deletable": false,
    "editable": false,
    "id": "3c9f838e"
   },
   "source": [
    "**Задание 1. Импортируйте библиотеку pandas. Считайте данные из csv-файла в датафрейм и сохраните в переменную `data`. Путь к файлу:**\n",
    "\n",
    "`/datasets/data.csv`"
   ]
  },
  {
   "cell_type": "code",
   "execution_count": 5,
   "id": "77a68a90",
   "metadata": {
    "deletable": false,
    "id": "77a68a90"
   },
   "outputs": [],
   "source": [
    "import pandas as pd\n",
    "\n",
    "try:\n",
    "    data = pd.read_csv('/datasets/data.csv')\n",
    "except:\n",
    "    data = pd.read_csv('https://code.s3.yandex.net/datasets/data.csv')"
   ]
  },
  {
   "cell_type": "markdown",
   "id": "45365635",
   "metadata": {
    "deletable": false,
    "editable": false,
    "id": "45365635"
   },
   "source": [
    "**Задание 2. Выведите первые 20 строчек датафрейма `data` на экран.**"
   ]
  },
  {
   "cell_type": "code",
   "execution_count": 6,
   "id": "b0451a9a",
   "metadata": {
    "deletable": false,
    "id": "b0451a9a",
    "outputId": "1a8f3ef2-d323-4ec2-ddf7-89670b5944c4"
   },
   "outputs": [
    {
     "data": {
      "text/html": [
       "<div>\n",
       "<style scoped>\n",
       "    .dataframe tbody tr th:only-of-type {\n",
       "        vertical-align: middle;\n",
       "    }\n",
       "\n",
       "    .dataframe tbody tr th {\n",
       "        vertical-align: top;\n",
       "    }\n",
       "\n",
       "    .dataframe thead th {\n",
       "        text-align: right;\n",
       "    }\n",
       "</style>\n",
       "<table border=\"1\" class=\"dataframe\">\n",
       "  <thead>\n",
       "    <tr style=\"text-align: right;\">\n",
       "      <th></th>\n",
       "      <th>children</th>\n",
       "      <th>days_employed</th>\n",
       "      <th>dob_years</th>\n",
       "      <th>education</th>\n",
       "      <th>education_id</th>\n",
       "      <th>family_status</th>\n",
       "      <th>family_status_id</th>\n",
       "      <th>gender</th>\n",
       "      <th>income_type</th>\n",
       "      <th>debt</th>\n",
       "      <th>total_income</th>\n",
       "      <th>purpose</th>\n",
       "    </tr>\n",
       "  </thead>\n",
       "  <tbody>\n",
       "    <tr>\n",
       "      <th>0</th>\n",
       "      <td>1</td>\n",
       "      <td>-8437.673028</td>\n",
       "      <td>42</td>\n",
       "      <td>высшее</td>\n",
       "      <td>0</td>\n",
       "      <td>женат / замужем</td>\n",
       "      <td>0</td>\n",
       "      <td>F</td>\n",
       "      <td>сотрудник</td>\n",
       "      <td>0</td>\n",
       "      <td>253875.639453</td>\n",
       "      <td>покупка жилья</td>\n",
       "    </tr>\n",
       "    <tr>\n",
       "      <th>1</th>\n",
       "      <td>1</td>\n",
       "      <td>-4024.803754</td>\n",
       "      <td>36</td>\n",
       "      <td>среднее</td>\n",
       "      <td>1</td>\n",
       "      <td>женат / замужем</td>\n",
       "      <td>0</td>\n",
       "      <td>F</td>\n",
       "      <td>сотрудник</td>\n",
       "      <td>0</td>\n",
       "      <td>112080.014102</td>\n",
       "      <td>приобретение автомобиля</td>\n",
       "    </tr>\n",
       "    <tr>\n",
       "      <th>2</th>\n",
       "      <td>0</td>\n",
       "      <td>-5623.422610</td>\n",
       "      <td>33</td>\n",
       "      <td>Среднее</td>\n",
       "      <td>1</td>\n",
       "      <td>женат / замужем</td>\n",
       "      <td>0</td>\n",
       "      <td>M</td>\n",
       "      <td>сотрудник</td>\n",
       "      <td>0</td>\n",
       "      <td>145885.952297</td>\n",
       "      <td>покупка жилья</td>\n",
       "    </tr>\n",
       "    <tr>\n",
       "      <th>3</th>\n",
       "      <td>3</td>\n",
       "      <td>-4124.747207</td>\n",
       "      <td>32</td>\n",
       "      <td>среднее</td>\n",
       "      <td>1</td>\n",
       "      <td>женат / замужем</td>\n",
       "      <td>0</td>\n",
       "      <td>M</td>\n",
       "      <td>сотрудник</td>\n",
       "      <td>0</td>\n",
       "      <td>267628.550329</td>\n",
       "      <td>дополнительное образование</td>\n",
       "    </tr>\n",
       "    <tr>\n",
       "      <th>4</th>\n",
       "      <td>0</td>\n",
       "      <td>340266.072047</td>\n",
       "      <td>53</td>\n",
       "      <td>среднее</td>\n",
       "      <td>1</td>\n",
       "      <td>гражданский брак</td>\n",
       "      <td>1</td>\n",
       "      <td>F</td>\n",
       "      <td>пенсионер</td>\n",
       "      <td>0</td>\n",
       "      <td>158616.077870</td>\n",
       "      <td>сыграть свадьбу</td>\n",
       "    </tr>\n",
       "    <tr>\n",
       "      <th>5</th>\n",
       "      <td>0</td>\n",
       "      <td>-926.185831</td>\n",
       "      <td>27</td>\n",
       "      <td>высшее</td>\n",
       "      <td>0</td>\n",
       "      <td>гражданский брак</td>\n",
       "      <td>1</td>\n",
       "      <td>M</td>\n",
       "      <td>компаньон</td>\n",
       "      <td>0</td>\n",
       "      <td>255763.565419</td>\n",
       "      <td>покупка жилья</td>\n",
       "    </tr>\n",
       "    <tr>\n",
       "      <th>6</th>\n",
       "      <td>0</td>\n",
       "      <td>-2879.202052</td>\n",
       "      <td>43</td>\n",
       "      <td>высшее</td>\n",
       "      <td>0</td>\n",
       "      <td>женат / замужем</td>\n",
       "      <td>0</td>\n",
       "      <td>F</td>\n",
       "      <td>компаньон</td>\n",
       "      <td>0</td>\n",
       "      <td>240525.971920</td>\n",
       "      <td>операции с жильем</td>\n",
       "    </tr>\n",
       "    <tr>\n",
       "      <th>7</th>\n",
       "      <td>0</td>\n",
       "      <td>-152.779569</td>\n",
       "      <td>50</td>\n",
       "      <td>СРЕДНЕЕ</td>\n",
       "      <td>1</td>\n",
       "      <td>женат / замужем</td>\n",
       "      <td>0</td>\n",
       "      <td>M</td>\n",
       "      <td>сотрудник</td>\n",
       "      <td>0</td>\n",
       "      <td>135823.934197</td>\n",
       "      <td>образование</td>\n",
       "    </tr>\n",
       "    <tr>\n",
       "      <th>8</th>\n",
       "      <td>2</td>\n",
       "      <td>-6929.865299</td>\n",
       "      <td>35</td>\n",
       "      <td>ВЫСШЕЕ</td>\n",
       "      <td>0</td>\n",
       "      <td>гражданский брак</td>\n",
       "      <td>1</td>\n",
       "      <td>F</td>\n",
       "      <td>сотрудник</td>\n",
       "      <td>0</td>\n",
       "      <td>95856.832424</td>\n",
       "      <td>на проведение свадьбы</td>\n",
       "    </tr>\n",
       "    <tr>\n",
       "      <th>9</th>\n",
       "      <td>0</td>\n",
       "      <td>-2188.756445</td>\n",
       "      <td>41</td>\n",
       "      <td>среднее</td>\n",
       "      <td>1</td>\n",
       "      <td>женат / замужем</td>\n",
       "      <td>0</td>\n",
       "      <td>M</td>\n",
       "      <td>сотрудник</td>\n",
       "      <td>0</td>\n",
       "      <td>144425.938277</td>\n",
       "      <td>покупка жилья для семьи</td>\n",
       "    </tr>\n",
       "    <tr>\n",
       "      <th>10</th>\n",
       "      <td>2</td>\n",
       "      <td>-4171.483647</td>\n",
       "      <td>36</td>\n",
       "      <td>высшее</td>\n",
       "      <td>0</td>\n",
       "      <td>женат / замужем</td>\n",
       "      <td>0</td>\n",
       "      <td>M</td>\n",
       "      <td>компаньон</td>\n",
       "      <td>0</td>\n",
       "      <td>113943.491460</td>\n",
       "      <td>покупка недвижимости</td>\n",
       "    </tr>\n",
       "    <tr>\n",
       "      <th>11</th>\n",
       "      <td>0</td>\n",
       "      <td>-792.701887</td>\n",
       "      <td>40</td>\n",
       "      <td>среднее</td>\n",
       "      <td>1</td>\n",
       "      <td>женат / замужем</td>\n",
       "      <td>0</td>\n",
       "      <td>F</td>\n",
       "      <td>сотрудник</td>\n",
       "      <td>0</td>\n",
       "      <td>77069.234271</td>\n",
       "      <td>покупка коммерческой недвижимости</td>\n",
       "    </tr>\n",
       "    <tr>\n",
       "      <th>12</th>\n",
       "      <td>0</td>\n",
       "      <td>NaN</td>\n",
       "      <td>65</td>\n",
       "      <td>среднее</td>\n",
       "      <td>1</td>\n",
       "      <td>гражданский брак</td>\n",
       "      <td>1</td>\n",
       "      <td>M</td>\n",
       "      <td>пенсионер</td>\n",
       "      <td>0</td>\n",
       "      <td>NaN</td>\n",
       "      <td>сыграть свадьбу</td>\n",
       "    </tr>\n",
       "    <tr>\n",
       "      <th>13</th>\n",
       "      <td>0</td>\n",
       "      <td>-1846.641941</td>\n",
       "      <td>54</td>\n",
       "      <td>неоконченное высшее</td>\n",
       "      <td>2</td>\n",
       "      <td>женат / замужем</td>\n",
       "      <td>0</td>\n",
       "      <td>F</td>\n",
       "      <td>сотрудник</td>\n",
       "      <td>0</td>\n",
       "      <td>130458.228857</td>\n",
       "      <td>приобретение автомобиля</td>\n",
       "    </tr>\n",
       "    <tr>\n",
       "      <th>14</th>\n",
       "      <td>0</td>\n",
       "      <td>-1844.956182</td>\n",
       "      <td>56</td>\n",
       "      <td>высшее</td>\n",
       "      <td>0</td>\n",
       "      <td>гражданский брак</td>\n",
       "      <td>1</td>\n",
       "      <td>F</td>\n",
       "      <td>компаньон</td>\n",
       "      <td>1</td>\n",
       "      <td>165127.911772</td>\n",
       "      <td>покупка жилой недвижимости</td>\n",
       "    </tr>\n",
       "    <tr>\n",
       "      <th>15</th>\n",
       "      <td>1</td>\n",
       "      <td>-972.364419</td>\n",
       "      <td>26</td>\n",
       "      <td>среднее</td>\n",
       "      <td>1</td>\n",
       "      <td>женат / замужем</td>\n",
       "      <td>0</td>\n",
       "      <td>F</td>\n",
       "      <td>сотрудник</td>\n",
       "      <td>0</td>\n",
       "      <td>116820.904450</td>\n",
       "      <td>строительство собственной недвижимости</td>\n",
       "    </tr>\n",
       "    <tr>\n",
       "      <th>16</th>\n",
       "      <td>0</td>\n",
       "      <td>-1719.934226</td>\n",
       "      <td>35</td>\n",
       "      <td>среднее</td>\n",
       "      <td>1</td>\n",
       "      <td>женат / замужем</td>\n",
       "      <td>0</td>\n",
       "      <td>F</td>\n",
       "      <td>сотрудник</td>\n",
       "      <td>0</td>\n",
       "      <td>289202.704229</td>\n",
       "      <td>недвижимость</td>\n",
       "    </tr>\n",
       "    <tr>\n",
       "      <th>17</th>\n",
       "      <td>0</td>\n",
       "      <td>-2369.999720</td>\n",
       "      <td>33</td>\n",
       "      <td>высшее</td>\n",
       "      <td>0</td>\n",
       "      <td>гражданский брак</td>\n",
       "      <td>1</td>\n",
       "      <td>M</td>\n",
       "      <td>сотрудник</td>\n",
       "      <td>0</td>\n",
       "      <td>90410.586745</td>\n",
       "      <td>строительство недвижимости</td>\n",
       "    </tr>\n",
       "    <tr>\n",
       "      <th>18</th>\n",
       "      <td>0</td>\n",
       "      <td>400281.136913</td>\n",
       "      <td>53</td>\n",
       "      <td>среднее</td>\n",
       "      <td>1</td>\n",
       "      <td>вдовец / вдова</td>\n",
       "      <td>2</td>\n",
       "      <td>F</td>\n",
       "      <td>пенсионер</td>\n",
       "      <td>0</td>\n",
       "      <td>56823.777243</td>\n",
       "      <td>на покупку подержанного автомобиля</td>\n",
       "    </tr>\n",
       "    <tr>\n",
       "      <th>19</th>\n",
       "      <td>0</td>\n",
       "      <td>-10038.818549</td>\n",
       "      <td>48</td>\n",
       "      <td>СРЕДНЕЕ</td>\n",
       "      <td>1</td>\n",
       "      <td>в разводе</td>\n",
       "      <td>3</td>\n",
       "      <td>F</td>\n",
       "      <td>сотрудник</td>\n",
       "      <td>0</td>\n",
       "      <td>242831.107982</td>\n",
       "      <td>на покупку своего автомобиля</td>\n",
       "    </tr>\n",
       "  </tbody>\n",
       "</table>\n",
       "</div>"
      ],
      "text/plain": [
       "    children  days_employed  dob_years            education  education_id  \\\n",
       "0          1   -8437.673028         42               высшее             0   \n",
       "1          1   -4024.803754         36              среднее             1   \n",
       "2          0   -5623.422610         33              Среднее             1   \n",
       "3          3   -4124.747207         32              среднее             1   \n",
       "4          0  340266.072047         53              среднее             1   \n",
       "5          0    -926.185831         27               высшее             0   \n",
       "6          0   -2879.202052         43               высшее             0   \n",
       "7          0    -152.779569         50              СРЕДНЕЕ             1   \n",
       "8          2   -6929.865299         35               ВЫСШЕЕ             0   \n",
       "9          0   -2188.756445         41              среднее             1   \n",
       "10         2   -4171.483647         36               высшее             0   \n",
       "11         0    -792.701887         40              среднее             1   \n",
       "12         0            NaN         65              среднее             1   \n",
       "13         0   -1846.641941         54  неоконченное высшее             2   \n",
       "14         0   -1844.956182         56               высшее             0   \n",
       "15         1    -972.364419         26              среднее             1   \n",
       "16         0   -1719.934226         35              среднее             1   \n",
       "17         0   -2369.999720         33               высшее             0   \n",
       "18         0  400281.136913         53              среднее             1   \n",
       "19         0  -10038.818549         48              СРЕДНЕЕ             1   \n",
       "\n",
       "       family_status  family_status_id gender income_type  debt  \\\n",
       "0    женат / замужем                 0      F   сотрудник     0   \n",
       "1    женат / замужем                 0      F   сотрудник     0   \n",
       "2    женат / замужем                 0      M   сотрудник     0   \n",
       "3    женат / замужем                 0      M   сотрудник     0   \n",
       "4   гражданский брак                 1      F   пенсионер     0   \n",
       "5   гражданский брак                 1      M   компаньон     0   \n",
       "6    женат / замужем                 0      F   компаньон     0   \n",
       "7    женат / замужем                 0      M   сотрудник     0   \n",
       "8   гражданский брак                 1      F   сотрудник     0   \n",
       "9    женат / замужем                 0      M   сотрудник     0   \n",
       "10   женат / замужем                 0      M   компаньон     0   \n",
       "11   женат / замужем                 0      F   сотрудник     0   \n",
       "12  гражданский брак                 1      M   пенсионер     0   \n",
       "13   женат / замужем                 0      F   сотрудник     0   \n",
       "14  гражданский брак                 1      F   компаньон     1   \n",
       "15   женат / замужем                 0      F   сотрудник     0   \n",
       "16   женат / замужем                 0      F   сотрудник     0   \n",
       "17  гражданский брак                 1      M   сотрудник     0   \n",
       "18    вдовец / вдова                 2      F   пенсионер     0   \n",
       "19         в разводе                 3      F   сотрудник     0   \n",
       "\n",
       "     total_income                                 purpose  \n",
       "0   253875.639453                           покупка жилья  \n",
       "1   112080.014102                 приобретение автомобиля  \n",
       "2   145885.952297                           покупка жилья  \n",
       "3   267628.550329              дополнительное образование  \n",
       "4   158616.077870                         сыграть свадьбу  \n",
       "5   255763.565419                           покупка жилья  \n",
       "6   240525.971920                       операции с жильем  \n",
       "7   135823.934197                             образование  \n",
       "8    95856.832424                   на проведение свадьбы  \n",
       "9   144425.938277                 покупка жилья для семьи  \n",
       "10  113943.491460                    покупка недвижимости  \n",
       "11   77069.234271       покупка коммерческой недвижимости  \n",
       "12            NaN                         сыграть свадьбу  \n",
       "13  130458.228857                 приобретение автомобиля  \n",
       "14  165127.911772              покупка жилой недвижимости  \n",
       "15  116820.904450  строительство собственной недвижимости  \n",
       "16  289202.704229                            недвижимость  \n",
       "17   90410.586745              строительство недвижимости  \n",
       "18   56823.777243      на покупку подержанного автомобиля  \n",
       "19  242831.107982            на покупку своего автомобиля  "
      ]
     },
     "execution_count": 6,
     "metadata": {},
     "output_type": "execute_result"
    }
   ],
   "source": [
    "data.head(20)"
   ]
  },
  {
   "cell_type": "markdown",
   "id": "0ed8f27f",
   "metadata": {
    "deletable": false,
    "editable": false,
    "id": "0ed8f27f"
   },
   "source": [
    "**Задание 3. Выведите основную информацию о датафрейме с помощью метода `info()`.**"
   ]
  },
  {
   "cell_type": "code",
   "execution_count": 7,
   "id": "ab3f863b",
   "metadata": {
    "deletable": false,
    "id": "ab3f863b",
    "outputId": "15376089-8dad-46c9-b520-c05248d43158"
   },
   "outputs": [
    {
     "name": "stdout",
     "output_type": "stream",
     "text": [
      "<class 'pandas.core.frame.DataFrame'>\n",
      "RangeIndex: 21525 entries, 0 to 21524\n",
      "Data columns (total 12 columns):\n",
      " #   Column            Non-Null Count  Dtype  \n",
      "---  ------            --------------  -----  \n",
      " 0   children          21525 non-null  int64  \n",
      " 1   days_employed     19351 non-null  float64\n",
      " 2   dob_years         21525 non-null  int64  \n",
      " 3   education         21525 non-null  object \n",
      " 4   education_id      21525 non-null  int64  \n",
      " 5   family_status     21525 non-null  object \n",
      " 6   family_status_id  21525 non-null  int64  \n",
      " 7   gender            21525 non-null  object \n",
      " 8   income_type       21525 non-null  object \n",
      " 9   debt              21525 non-null  int64  \n",
      " 10  total_income      19351 non-null  float64\n",
      " 11  purpose           21525 non-null  object \n",
      "dtypes: float64(2), int64(5), object(5)\n",
      "memory usage: 2.0+ MB\n"
     ]
    }
   ],
   "source": [
    "data.info()"
   ]
  },
  {
   "cell_type": "markdown",
   "id": "60e3e22d",
   "metadata": {
    "deletable": false,
    "editable": false,
    "id": "60e3e22d"
   },
   "source": [
    "## Предобработка данных"
   ]
  },
  {
   "cell_type": "markdown",
   "id": "03dc170c",
   "metadata": {
    "deletable": false,
    "editable": false,
    "id": "03dc170c"
   },
   "source": [
    "### Удаление пропусков"
   ]
  },
  {
   "cell_type": "markdown",
   "id": "a4f54eef",
   "metadata": {
    "deletable": false,
    "editable": false,
    "id": "a4f54eef"
   },
   "source": [
    "**Задание 4. Выведите количество пропущенных значений для каждого столбца. Используйте комбинацию двух методов.**"
   ]
  },
  {
   "cell_type": "code",
   "execution_count": 8,
   "id": "2dc372b2",
   "metadata": {
    "deletable": false,
    "id": "2dc372b2",
    "outputId": "81f4d817-781c-465c-ed15-91ce4446810d"
   },
   "outputs": [
    {
     "data": {
      "text/plain": [
       "children               0\n",
       "days_employed       2174\n",
       "dob_years              0\n",
       "education              0\n",
       "education_id           0\n",
       "family_status          0\n",
       "family_status_id       0\n",
       "gender                 0\n",
       "income_type            0\n",
       "debt                   0\n",
       "total_income        2174\n",
       "purpose                0\n",
       "dtype: int64"
      ]
     },
     "execution_count": 8,
     "metadata": {},
     "output_type": "execute_result"
    }
   ],
   "source": [
    "data.isna().sum()"
   ]
  },
  {
   "cell_type": "markdown",
   "id": "14f011b1",
   "metadata": {
    "deletable": false,
    "editable": false,
    "id": "14f011b1"
   },
   "source": [
    "**Задание 5. В двух столбцах есть пропущенные значения. Один из них — `days_employed`. Пропуски в этом столбце вы обработаете на следующем этапе. Другой столбец с пропущенными значениями — `total_income` — хранит данные о доходах. На сумму дохода сильнее всего влияет тип занятости, поэтому заполнить пропуски в этом столбце нужно медианным значением по каждому типу из столбца `income_type`. Например, у человека с типом занятости `сотрудник` пропуск в столбце `total_income` должен быть заполнен медианным доходом среди всех записей с тем же типом.**"
   ]
  },
  {
   "cell_type": "code",
   "execution_count": 9,
   "id": "bdabfb6e",
   "metadata": {
    "deletable": false,
    "id": "bdabfb6e"
   },
   "outputs": [],
   "source": [
    "for t in data['income_type'].unique():\n",
    "    data.loc[(data['income_type'] == t) & (data['total_income'].isna()), 'total_income'] = \\\n",
    "    data.loc[(data['income_type'] == t), 'total_income'].median()"
   ]
  },
  {
   "cell_type": "markdown",
   "id": "5be34059",
   "metadata": {
    "deletable": false,
    "editable": false,
    "id": "5be34059"
   },
   "source": [
    "### Обработка аномальных значений"
   ]
  },
  {
   "cell_type": "markdown",
   "id": "a87606cb",
   "metadata": {
    "deletable": false,
    "editable": false,
    "id": "a87606cb"
   },
   "source": [
    "**Задание 6. В данных могут встречаться артефакты (аномалии) — значения, которые не отражают действительность и появились по какой-то ошибке. таким артефактом будет отрицательное количество дней трудового стажа в столбце `days_employed`. Для реальных данных это нормально. Обработайте значения в этом столбце: замените все отрицательные значения положительными с помощью метода `abs()`.**"
   ]
  },
  {
   "cell_type": "code",
   "execution_count": 10,
   "id": "020c46cc",
   "metadata": {
    "deletable": false,
    "id": "020c46cc"
   },
   "outputs": [],
   "source": [
    "data['days_employed'] = data['days_employed'].abs()"
   ]
  },
  {
   "cell_type": "markdown",
   "id": "45538a3a",
   "metadata": {
    "deletable": false,
    "editable": false,
    "id": "45538a3a"
   },
   "source": [
    "**Задание 7. Для каждого типа занятости выведите медианное значение трудового стажа `days_employed` в днях.**"
   ]
  },
  {
   "cell_type": "code",
   "execution_count": 11,
   "id": "cd3e6328",
   "metadata": {
    "deletable": false,
    "id": "cd3e6328",
    "outputId": "801ef80e-522b-4668-f34e-565af7432bcf"
   },
   "outputs": [
    {
     "data": {
      "text/plain": [
       "income_type\n",
       "безработный        366413.652744\n",
       "в декрете            3296.759962\n",
       "госслужащий          2689.368353\n",
       "компаньон            1547.382223\n",
       "пенсионер          365213.306266\n",
       "предприниматель       520.848083\n",
       "сотрудник            1574.202821\n",
       "студент               578.751554\n",
       "Name: days_employed, dtype: float64"
      ]
     },
     "execution_count": 11,
     "metadata": {},
     "output_type": "execute_result"
    }
   ],
   "source": [
    "data.groupby('income_type')['days_employed'].agg('median')"
   ]
  },
  {
   "cell_type": "markdown",
   "id": "90c5f058",
   "metadata": {
    "deletable": false,
    "editable": false,
    "id": "90c5f058"
   },
   "source": [
    "У двух типов (безработные и пенсионеры) получатся аномально большие значения. Исправить такие значения сложно, поэтому оставьте их как есть."
   ]
  },
  {
   "cell_type": "markdown",
   "id": "9652e50d",
   "metadata": {
    "deletable": false,
    "editable": false,
    "id": "9652e50d"
   },
   "source": [
    "**Задание 8. Выведите перечень уникальных значений столбца `children`.**"
   ]
  },
  {
   "cell_type": "code",
   "execution_count": 12,
   "id": "dbb37b8e",
   "metadata": {
    "deletable": false,
    "id": "dbb37b8e",
    "outputId": "6975b15c-7f95-4697-d16d-a0c79b657b03"
   },
   "outputs": [
    {
     "data": {
      "text/plain": [
       "array([ 1,  0,  3,  2, -1,  4, 20,  5])"
      ]
     },
     "execution_count": 12,
     "metadata": {},
     "output_type": "execute_result"
    }
   ],
   "source": [
    "data['children'].unique()"
   ]
  },
  {
   "cell_type": "markdown",
   "id": "2b8b0715",
   "metadata": {
    "deletable": false,
    "editable": false,
    "id": "2b8b0715"
   },
   "source": [
    "**Задание 9. В столбце `children` есть два аномальных значения. Удалите строки, в которых встречаются такие аномальные значения из датафрейма `data`.**"
   ]
  },
  {
   "cell_type": "code",
   "execution_count": 13,
   "id": "20009df8",
   "metadata": {
    "deletable": false,
    "id": "20009df8"
   },
   "outputs": [],
   "source": [
    "data = data[(data['children'] != -1) & (data['children'] != 20)]"
   ]
  },
  {
   "cell_type": "markdown",
   "id": "8c6ac9f1",
   "metadata": {
    "deletable": false,
    "editable": false,
    "id": "8c6ac9f1"
   },
   "source": [
    "**Задание 10. Ещё раз выведите перечень уникальных значений столбца `children`, чтобы убедиться, что артефакты удалены.**"
   ]
  },
  {
   "cell_type": "code",
   "execution_count": 14,
   "id": "07337b81",
   "metadata": {
    "deletable": false,
    "id": "07337b81",
    "outputId": "b2097101-d49d-44d9-901b-32a65c9463d1"
   },
   "outputs": [
    {
     "data": {
      "text/plain": [
       "array([1, 0, 3, 2, 4, 5])"
      ]
     },
     "execution_count": 14,
     "metadata": {},
     "output_type": "execute_result"
    }
   ],
   "source": [
    "data['children'].unique()"
   ]
  },
  {
   "cell_type": "markdown",
   "id": "ee3f52d4",
   "metadata": {
    "deletable": false,
    "editable": false,
    "id": "ee3f52d4"
   },
   "source": [
    "### Удаление пропусков (продолжение)"
   ]
  },
  {
   "cell_type": "markdown",
   "id": "a700b0e4",
   "metadata": {
    "deletable": false,
    "editable": false,
    "id": "a700b0e4"
   },
   "source": [
    "**Задание 11. Заполните пропуски в столбце `days_employed` медианными значениями по каждого типа занятости `income_type`.**"
   ]
  },
  {
   "cell_type": "code",
   "execution_count": 15,
   "id": "61946b83",
   "metadata": {
    "deletable": false,
    "id": "61946b83"
   },
   "outputs": [],
   "source": [
    "for t in data['income_type'].unique():\n",
    "    data.loc[(data['income_type'] == t) & (data['days_employed'].isna()), 'days_employed'] = \\\n",
    "    data.loc[(data['income_type'] == t), 'days_employed'].median()"
   ]
  },
  {
   "cell_type": "markdown",
   "id": "550dcd9b",
   "metadata": {
    "deletable": false,
    "editable": false,
    "id": "550dcd9b"
   },
   "source": [
    "**Задание 12. Убедитесь, что все пропуски заполнены. Проверьте себя и ещё раз выведите количество пропущенных значений для каждого столбца с помощью двух методов.**"
   ]
  },
  {
   "cell_type": "code",
   "execution_count": 16,
   "id": "937c7014",
   "metadata": {
    "deletable": false,
    "id": "937c7014",
    "outputId": "8da1e4e1-358e-4e87-98c9-f261bce0a7b2"
   },
   "outputs": [
    {
     "data": {
      "text/plain": [
       "children            0\n",
       "days_employed       0\n",
       "dob_years           0\n",
       "education           0\n",
       "education_id        0\n",
       "family_status       0\n",
       "family_status_id    0\n",
       "gender              0\n",
       "income_type         0\n",
       "debt                0\n",
       "total_income        0\n",
       "purpose             0\n",
       "dtype: int64"
      ]
     },
     "execution_count": 16,
     "metadata": {},
     "output_type": "execute_result"
    }
   ],
   "source": [
    "data.isna().sum()"
   ]
  },
  {
   "cell_type": "markdown",
   "id": "d522e295",
   "metadata": {
    "deletable": false,
    "editable": false,
    "id": "d522e295"
   },
   "source": [
    "### Изменение типов данных"
   ]
  },
  {
   "cell_type": "markdown",
   "id": "c229c581",
   "metadata": {
    "deletable": false,
    "editable": false,
    "id": "c229c581"
   },
   "source": [
    "**Задание 13. Замените вещественный тип данных в столбце `total_income` на целочисленный с помощью метода `astype()`.**"
   ]
  },
  {
   "cell_type": "code",
   "execution_count": 17,
   "id": "31036462",
   "metadata": {
    "deletable": false,
    "id": "31036462"
   },
   "outputs": [],
   "source": [
    "data['total_income'] = data['total_income'].astype(int)"
   ]
  },
  {
   "cell_type": "markdown",
   "id": "b8e3d1d9",
   "metadata": {
    "deletable": false,
    "editable": false,
    "id": "b8e3d1d9"
   },
   "source": [
    "### Обработка дубликатов"
   ]
  },
  {
   "cell_type": "markdown",
   "id": "9be53c49",
   "metadata": {
    "deletable": false,
    "editable": false,
    "id": "9be53c49"
   },
   "source": [
    "**Задание 14. Обработайте неявные дубликаты в столбце `education`. В этом столбце есть одни и те же значения, но записанные по-разному: с использованием заглавных и строчных букв. Приведите их к нижнему регистру.**"
   ]
  },
  {
   "cell_type": "code",
   "execution_count": 18,
   "id": "d89e73e1",
   "metadata": {
    "deletable": false,
    "id": "d89e73e1"
   },
   "outputs": [],
   "source": [
    "data['education'] = data['education'].str.lower()"
   ]
  },
  {
   "cell_type": "markdown",
   "id": "01d4500e",
   "metadata": {
    "deletable": false,
    "editable": false,
    "id": "01d4500e"
   },
   "source": [
    "**Задание 15. Выведите на экран количество строк-дубликатов в данных. Если такие строки присутствуют, удалите их.**"
   ]
  },
  {
   "cell_type": "code",
   "execution_count": 19,
   "id": "e10efb23",
   "metadata": {
    "deletable": false,
    "id": "e10efb23",
    "outputId": "9684deba-1934-42d1-99e1-cda61740f822"
   },
   "outputs": [
    {
     "data": {
      "text/plain": [
       "71"
      ]
     },
     "execution_count": 19,
     "metadata": {},
     "output_type": "execute_result"
    }
   ],
   "source": [
    "data.duplicated().sum()"
   ]
  },
  {
   "cell_type": "code",
   "execution_count": 20,
   "id": "df853f20",
   "metadata": {
    "deletable": false,
    "id": "df853f20"
   },
   "outputs": [],
   "source": [
    "data = data.drop_duplicates()"
   ]
  },
  {
   "cell_type": "markdown",
   "id": "627be38f",
   "metadata": {
    "deletable": false,
    "editable": false,
    "id": "627be38f"
   },
   "source": [
    "### Категоризация данных"
   ]
  },
  {
   "cell_type": "markdown",
   "id": "4684c3e0",
   "metadata": {
    "deletable": false,
    "editable": false,
    "id": "4684c3e0"
   },
   "source": [
    "**Задание 16. На основании диапазонов, указанных ниже, создайте в датафрейме `data` столбец `total_income_category` с категориями:**\n",
    "\n",
    "- 0–30000 — `'E'`;\n",
    "- 30001–50000 — `'D'`;\n",
    "- 50001–200000 — `'C'`;\n",
    "- 200001–1000000 — `'B'`;\n",
    "- 1000001 и выше — `'A'`.\n",
    "\n",
    "\n",
    "**Например, кредитополучателю с доходом 25000 нужно назначить категорию `'E'`, а клиенту, получающему 235000, — `'B'`. Используйте собственную функцию с именем `categorize_income()` и метод `apply()`.**"
   ]
  },
  {
   "cell_type": "code",
   "execution_count": 21,
   "id": "78965238",
   "metadata": {
    "deletable": false,
    "id": "78965238"
   },
   "outputs": [],
   "source": [
    "def categorize_income(income):\n",
    "    try:\n",
    "        if 0 <= income <= 30000:\n",
    "            return 'E'\n",
    "        elif 30001 <= income <= 50000:\n",
    "            return 'D'\n",
    "        elif 50001 <= income <= 200000:\n",
    "            return 'C'\n",
    "        elif 200001 <= income <= 1000000:\n",
    "            return 'B'\n",
    "        elif income >= 1000001:\n",
    "            return 'A'\n",
    "    except:\n",
    "        pass"
   ]
  },
  {
   "cell_type": "code",
   "execution_count": 22,
   "id": "0980ada1",
   "metadata": {
    "deletable": false,
    "id": "0980ada1"
   },
   "outputs": [],
   "source": [
    "data['total_income_category'] = data['total_income'].apply(categorize_income)"
   ]
  },
  {
   "cell_type": "markdown",
   "id": "9917bba0",
   "metadata": {
    "deletable": false,
    "editable": false,
    "id": "9917bba0"
   },
   "source": [
    "**Задание 17. Выведите на экран перечень уникальных целей взятия кредита из столбца `purpose`.**"
   ]
  },
  {
   "cell_type": "code",
   "execution_count": 23,
   "id": "ee07b65e",
   "metadata": {
    "deletable": false,
    "id": "ee07b65e",
    "outputId": "673c12d9-7d7e-4ae0-9812-c622c89dd244"
   },
   "outputs": [
    {
     "data": {
      "text/plain": [
       "array(['покупка жилья', 'приобретение автомобиля',\n",
       "       'дополнительное образование', 'сыграть свадьбу',\n",
       "       'операции с жильем', 'образование', 'на проведение свадьбы',\n",
       "       'покупка жилья для семьи', 'покупка недвижимости',\n",
       "       'покупка коммерческой недвижимости', 'покупка жилой недвижимости',\n",
       "       'строительство собственной недвижимости', 'недвижимость',\n",
       "       'строительство недвижимости', 'на покупку подержанного автомобиля',\n",
       "       'на покупку своего автомобиля',\n",
       "       'операции с коммерческой недвижимостью',\n",
       "       'строительство жилой недвижимости', 'жилье',\n",
       "       'операции со своей недвижимостью', 'автомобили',\n",
       "       'заняться образованием', 'сделка с подержанным автомобилем',\n",
       "       'получение образования', 'автомобиль', 'свадьба',\n",
       "       'получение дополнительного образования', 'покупка своего жилья',\n",
       "       'операции с недвижимостью', 'получение высшего образования',\n",
       "       'свой автомобиль', 'сделка с автомобилем',\n",
       "       'профильное образование', 'высшее образование',\n",
       "       'покупка жилья для сдачи', 'на покупку автомобиля', 'ремонт жилью',\n",
       "       'заняться высшим образованием'], dtype=object)"
      ]
     },
     "execution_count": 23,
     "metadata": {},
     "output_type": "execute_result"
    }
   ],
   "source": [
    "data['purpose'].unique()"
   ]
  },
  {
   "cell_type": "markdown",
   "id": "52b79d56",
   "metadata": {
    "deletable": false,
    "editable": false,
    "id": "52b79d56"
   },
   "source": [
    "**Задание 18. Создайте функцию, которая на основании данных из столбца `purpose` сформирует новый столбец `purpose_category`, в который войдут следующие категории:**\n",
    "\n",
    "- `'операции с автомобилем'`,\n",
    "- `'операции с недвижимостью'`,\n",
    "- `'проведение свадьбы'`,\n",
    "- `'получение образования'`.\n",
    "\n",
    "**Например, если в столбце `purpose` находится подстрока `'на покупку автомобиля'`, то в столбце `purpose_category` должна появиться строка `'операции с автомобилем'`.**\n",
    "\n",
    "**Используйте собственную функцию с именем `categorize_purpose()` и метод `apply()`. Изучите данные в столбце `purpose` и определите, какие подстроки помогут вам правильно определить категорию.**"
   ]
  },
  {
   "cell_type": "code",
   "execution_count": 24,
   "id": "be41da5d",
   "metadata": {
    "deletable": false,
    "id": "be41da5d"
   },
   "outputs": [],
   "source": [
    "def categorize_purpose(row):\n",
    "    try:\n",
    "        if 'автом' in row:\n",
    "            return 'операции с автомобилем'\n",
    "        elif 'жил' in row or 'недвиж' in row:\n",
    "            return 'операции с недвижимостью'\n",
    "        elif 'свад' in row:\n",
    "            return 'проведение свадьбы'\n",
    "        elif 'образов' in row:\n",
    "            return 'получение образования'\n",
    "    except:\n",
    "        return 'нет категории'"
   ]
  },
  {
   "cell_type": "code",
   "execution_count": 25,
   "id": "94c4a19a",
   "metadata": {
    "deletable": false,
    "id": "94c4a19a"
   },
   "outputs": [],
   "source": [
    "data['purpose_category'] = data['purpose'].apply(categorize_purpose)"
   ]
  },
  {
   "cell_type": "markdown",
   "id": "3d596c34",
   "metadata": {
    "deletable": false,
    "editable": false,
    "id": "3d596c34"
   },
   "source": [
    "### Шаг 3. Исследуйте данные и ответьте на вопросы"
   ]
  },
  {
   "cell_type": "markdown",
   "id": "648db036",
   "metadata": {
    "deletable": false,
    "editable": false,
    "id": "648db036"
   },
   "source": [
    "#### 3.1 Есть ли зависимость между количеством детей и возвратом кредита в срок?"
   ]
  },
  {
   "cell_type": "code",
   "execution_count": 26,
   "id": "7fcff25e",
   "metadata": {
    "deletable": false,
    "id": "7fcff25e",
    "scrolled": true
   },
   "outputs": [
    {
     "data": {
      "text/html": [
       "<div>\n",
       "<style scoped>\n",
       "    .dataframe tbody tr th:only-of-type {\n",
       "        vertical-align: middle;\n",
       "    }\n",
       "\n",
       "    .dataframe tbody tr th {\n",
       "        vertical-align: top;\n",
       "    }\n",
       "\n",
       "    .dataframe thead th {\n",
       "        text-align: right;\n",
       "    }\n",
       "</style>\n",
       "<table border=\"1\" class=\"dataframe\">\n",
       "  <thead>\n",
       "    <tr style=\"text-align: right;\">\n",
       "      <th></th>\n",
       "      <th>count</th>\n",
       "      <th>my_mean</th>\n",
       "    </tr>\n",
       "    <tr>\n",
       "      <th>children</th>\n",
       "      <th></th>\n",
       "      <th></th>\n",
       "    </tr>\n",
       "  </thead>\n",
       "  <tbody>\n",
       "    <tr>\n",
       "      <th>0</th>\n",
       "      <td>14091</td>\n",
       "      <td>7.54%</td>\n",
       "    </tr>\n",
       "    <tr>\n",
       "      <th>1</th>\n",
       "      <td>4808</td>\n",
       "      <td>9.23%</td>\n",
       "    </tr>\n",
       "    <tr>\n",
       "      <th>2</th>\n",
       "      <td>2052</td>\n",
       "      <td>9.45%</td>\n",
       "    </tr>\n",
       "    <tr>\n",
       "      <th>3</th>\n",
       "      <td>330</td>\n",
       "      <td>8.18%</td>\n",
       "    </tr>\n",
       "    <tr>\n",
       "      <th>4</th>\n",
       "      <td>41</td>\n",
       "      <td>9.76%</td>\n",
       "    </tr>\n",
       "    <tr>\n",
       "      <th>5</th>\n",
       "      <td>9</td>\n",
       "      <td>0.00%</td>\n",
       "    </tr>\n",
       "  </tbody>\n",
       "</table>\n",
       "</div>"
      ],
      "text/plain": [
       "          count my_mean\n",
       "children               \n",
       "0         14091   7.54%\n",
       "1          4808   9.23%\n",
       "2          2052   9.45%\n",
       "3           330   8.18%\n",
       "4            41   9.76%\n",
       "5             9   0.00%"
      ]
     },
     "execution_count": 26,
     "metadata": {},
     "output_type": "execute_result"
    }
   ],
   "source": [
    "#debt_family = data[['children', 'debt']]\n",
    "#print(debt_family)\n",
    "def my_mean(x):\n",
    "    return '{:.2%}'.format(x.mean())\n",
    "data.groupby('children')['debt'].agg(['count', my_mean]).sort_values('children')"
   ]
  },
  {
   "cell_type": "code",
   "execution_count": 27,
   "id": "d4d52692",
   "metadata": {},
   "outputs": [],
   "source": [
    "#debt_family ['count_children'] = debt_family.groupby('children')['debt'].count()\n",
    "#debt_family_grouped ['sum_children'] = debt_family.groupby('children')['debt'].sum()\n",
    "#debt_family_grouped ['result'] = debt_family_grouped ['sum_children'] / debt_family_grouped ['count_children']\n",
    "#print(debt_family_grouped)"
   ]
  },
  {
   "cell_type": "markdown",
   "id": "2eb9088e",
   "metadata": {
    "deletable": false,
    "id": "2eb9088e"
   },
   "source": [
    "Вывод: Возврат кредита в срок имеет тенденцию к увеличению риска невыплаты с увеличением количества детей в семье. Лучше всего возвращают кредит семьи не обремененные расходами на детей."
   ]
  },
  {
   "cell_type": "markdown",
   "id": "74c9b3a7",
   "metadata": {
    "deletable": false,
    "editable": false,
    "id": "74c9b3a7"
   },
   "source": [
    "#### 3.2 Есть ли зависимость между семейным положением и возвратом кредита в срок?"
   ]
  },
  {
   "cell_type": "code",
   "execution_count": 28,
   "id": "8098ab3b",
   "metadata": {
    "deletable": false,
    "id": "8098ab3b"
   },
   "outputs": [
    {
     "data": {
      "text/html": [
       "<div>\n",
       "<style scoped>\n",
       "    .dataframe tbody tr th:only-of-type {\n",
       "        vertical-align: middle;\n",
       "    }\n",
       "\n",
       "    .dataframe tbody tr th {\n",
       "        vertical-align: top;\n",
       "    }\n",
       "\n",
       "    .dataframe thead th {\n",
       "        text-align: right;\n",
       "    }\n",
       "</style>\n",
       "<table border=\"1\" class=\"dataframe\">\n",
       "  <thead>\n",
       "    <tr style=\"text-align: right;\">\n",
       "      <th></th>\n",
       "      <th></th>\n",
       "      <th>count</th>\n",
       "      <th>my_mean</th>\n",
       "    </tr>\n",
       "    <tr>\n",
       "      <th>family_status</th>\n",
       "      <th>family_status_id</th>\n",
       "      <th></th>\n",
       "      <th></th>\n",
       "    </tr>\n",
       "  </thead>\n",
       "  <tbody>\n",
       "    <tr>\n",
       "      <th>женат / замужем</th>\n",
       "      <th>0</th>\n",
       "      <td>12261</td>\n",
       "      <td>7.56%</td>\n",
       "    </tr>\n",
       "    <tr>\n",
       "      <th>гражданский брак</th>\n",
       "      <th>1</th>\n",
       "      <td>4134</td>\n",
       "      <td>9.31%</td>\n",
       "    </tr>\n",
       "    <tr>\n",
       "      <th>вдовец / вдова</th>\n",
       "      <th>2</th>\n",
       "      <td>951</td>\n",
       "      <td>6.62%</td>\n",
       "    </tr>\n",
       "    <tr>\n",
       "      <th>в разводе</th>\n",
       "      <th>3</th>\n",
       "      <td>1189</td>\n",
       "      <td>7.06%</td>\n",
       "    </tr>\n",
       "    <tr>\n",
       "      <th>Не женат / не замужем</th>\n",
       "      <th>4</th>\n",
       "      <td>2796</td>\n",
       "      <td>9.76%</td>\n",
       "    </tr>\n",
       "  </tbody>\n",
       "</table>\n",
       "</div>"
      ],
      "text/plain": [
       "                                        count my_mean\n",
       "family_status         family_status_id               \n",
       "женат / замужем       0                 12261   7.56%\n",
       "гражданский брак      1                  4134   9.31%\n",
       "вдовец / вдова        2                   951   6.62%\n",
       "в разводе             3                  1189   7.06%\n",
       "Не женат / не замужем 4                  2796   9.76%"
      ]
     },
     "execution_count": 28,
     "metadata": {},
     "output_type": "execute_result"
    }
   ],
   "source": [
    "def my_mean(x):\n",
    "    return '{:.2%}'.format(x.mean())\n",
    "data.groupby(['family_status','family_status_id'])['debt'].agg(['count',my_mean]).sort_values('family_status_id')"
   ]
  },
  {
   "cell_type": "markdown",
   "id": "c389ca63",
   "metadata": {
    "deletable": false,
    "id": "c389ca63"
   },
   "source": [
    "**Вывод:** Самые надежные плательщики - супруги, хотя по результату они на 3 месте. Меньше всего % невыплат у людей которые потеряли близких, но их же и меньше нуждающихся в кредите."
   ]
  },
  {
   "cell_type": "markdown",
   "id": "9529de68",
   "metadata": {
    "deletable": false,
    "editable": false,
    "id": "9529de68"
   },
   "source": [
    "#### 3.3 Есть ли зависимость между уровнем дохода и возвратом кредита в срок?"
   ]
  },
  {
   "cell_type": "code",
   "execution_count": 29,
   "id": "8787f44a",
   "metadata": {
    "deletable": false,
    "id": "8787f44a"
   },
   "outputs": [
    {
     "data": {
      "text/html": [
       "<div>\n",
       "<style scoped>\n",
       "    .dataframe tbody tr th:only-of-type {\n",
       "        vertical-align: middle;\n",
       "    }\n",
       "\n",
       "    .dataframe tbody tr th {\n",
       "        vertical-align: top;\n",
       "    }\n",
       "\n",
       "    .dataframe thead th {\n",
       "        text-align: right;\n",
       "    }\n",
       "</style>\n",
       "<table border=\"1\" class=\"dataframe\">\n",
       "  <thead>\n",
       "    <tr style=\"text-align: right;\">\n",
       "      <th></th>\n",
       "      <th>count</th>\n",
       "      <th>my_mean</th>\n",
       "    </tr>\n",
       "    <tr>\n",
       "      <th>total_income_category</th>\n",
       "      <th></th>\n",
       "      <th></th>\n",
       "    </tr>\n",
       "  </thead>\n",
       "  <tbody>\n",
       "    <tr>\n",
       "      <th>D</th>\n",
       "      <td>349</td>\n",
       "      <td>6.02%</td>\n",
       "    </tr>\n",
       "    <tr>\n",
       "      <th>B</th>\n",
       "      <td>5014</td>\n",
       "      <td>7.06%</td>\n",
       "    </tr>\n",
       "    <tr>\n",
       "      <th>A</th>\n",
       "      <td>25</td>\n",
       "      <td>8.00%</td>\n",
       "    </tr>\n",
       "    <tr>\n",
       "      <th>C</th>\n",
       "      <td>15921</td>\n",
       "      <td>8.50%</td>\n",
       "    </tr>\n",
       "    <tr>\n",
       "      <th>E</th>\n",
       "      <td>22</td>\n",
       "      <td>9.09%</td>\n",
       "    </tr>\n",
       "  </tbody>\n",
       "</table>\n",
       "</div>"
      ],
      "text/plain": [
       "                       count my_mean\n",
       "total_income_category               \n",
       "D                        349   6.02%\n",
       "B                       5014   7.06%\n",
       "A                         25   8.00%\n",
       "C                      15921   8.50%\n",
       "E                         22   9.09%"
      ]
     },
     "execution_count": 29,
     "metadata": {},
     "output_type": "execute_result"
    }
   ],
   "source": [
    "data.groupby(['total_income_category'])['debt'].agg(['count', my_mean]).sort_values('my_mean') "
   ]
  },
  {
   "cell_type": "markdown",
   "id": "6dd14b57",
   "metadata": {
    "deletable": false,
    "id": "6dd14b57"
   },
   "source": [
    "**Вывод:** Четкой зависимости неплатежеспособности указанных категорий групп заимствующих не выявлено. Если не брать в рассчет крайние группы, то из 3 оставшихся самая неплатежеспособная - группа С (8,50%), она же и самая многочисленная 3\\4 всего заемщиков. Необходимо более детально разделить группу по уровню дохода для изучения данного вопроса."
   ]
  },
  {
   "cell_type": "markdown",
   "id": "1dcc9b12",
   "metadata": {
    "deletable": false,
    "editable": false,
    "id": "1dcc9b12"
   },
   "source": [
    "#### 3.4 Как разные цели кредита влияют на его возврат в срок?"
   ]
  },
  {
   "cell_type": "code",
   "execution_count": 30,
   "id": "c602bc8b",
   "metadata": {
    "deletable": false,
    "id": "c602bc8b"
   },
   "outputs": [
    {
     "data": {
      "text/html": [
       "<div>\n",
       "<style scoped>\n",
       "    .dataframe tbody tr th:only-of-type {\n",
       "        vertical-align: middle;\n",
       "    }\n",
       "\n",
       "    .dataframe tbody tr th {\n",
       "        vertical-align: top;\n",
       "    }\n",
       "\n",
       "    .dataframe thead th {\n",
       "        text-align: right;\n",
       "    }\n",
       "</style>\n",
       "<table border=\"1\" class=\"dataframe\">\n",
       "  <thead>\n",
       "    <tr style=\"text-align: right;\">\n",
       "      <th></th>\n",
       "      <th>count</th>\n",
       "      <th>my_mean</th>\n",
       "    </tr>\n",
       "    <tr>\n",
       "      <th>purpose_category</th>\n",
       "      <th></th>\n",
       "      <th></th>\n",
       "    </tr>\n",
       "  </thead>\n",
       "  <tbody>\n",
       "    <tr>\n",
       "      <th>операции с недвижимостью</th>\n",
       "      <td>10751</td>\n",
       "      <td>7.26%</td>\n",
       "    </tr>\n",
       "    <tr>\n",
       "      <th>проведение свадьбы</th>\n",
       "      <td>2313</td>\n",
       "      <td>7.91%</td>\n",
       "    </tr>\n",
       "    <tr>\n",
       "      <th>получение образования</th>\n",
       "      <td>3988</td>\n",
       "      <td>9.25%</td>\n",
       "    </tr>\n",
       "    <tr>\n",
       "      <th>операции с автомобилем</th>\n",
       "      <td>4279</td>\n",
       "      <td>9.35%</td>\n",
       "    </tr>\n",
       "  </tbody>\n",
       "</table>\n",
       "</div>"
      ],
      "text/plain": [
       "                          count my_mean\n",
       "purpose_category                       \n",
       "операции с недвижимостью  10751   7.26%\n",
       "проведение свадьбы         2313   7.91%\n",
       "получение образования      3988   9.25%\n",
       "операции с автомобилем     4279   9.35%"
      ]
     },
     "execution_count": 30,
     "metadata": {},
     "output_type": "execute_result"
    }
   ],
   "source": [
    "data.groupby(['purpose_category'])['debt'].agg(['count', my_mean]).sort_values('my_mean')"
   ]
  },
  {
   "cell_type": "markdown",
   "id": "cf05ed63",
   "metadata": {
    "deletable": false,
    "id": "cf05ed63"
   },
   "source": [
    "**Вывод:** Самые не платеженадежные заемщики, те кто покупают пассив - автомобиль и оплачивают образование."
   ]
  },
  {
   "cell_type": "markdown",
   "id": "46c1f10b",
   "metadata": {
    "deletable": false,
    "editable": false,
    "id": "46c1f10b"
   },
   "source": [
    "#### 3.5 Приведите возможные причины появления пропусков в исходных данных."
   ]
  },
  {
   "cell_type": "markdown",
   "id": "3697d2a9",
   "metadata": {
    "deletable": false,
    "id": "3697d2a9"
   },
   "source": [
    "*Ответ:* 10% пропусков данных в категории ежемесячный доход и трудовой стаж - верояно связано с неправильно предоставленными данными, не верно введенными данными. "
   ]
  },
  {
   "cell_type": "markdown",
   "id": "3137d257",
   "metadata": {
    "deletable": false,
    "editable": false,
    "id": "3137d257"
   },
   "source": [
    "#### 3.6 Объясните, почему заполнить пропуски медианным значением — лучшее решение для количественных переменных."
   ]
  },
  {
   "cell_type": "markdown",
   "id": "cf40012a",
   "metadata": {
    "deletable": false,
    "id": "cf40012a"
   },
   "source": [
    "*Ответ:* Медиана исключает влияние аномально больших и малых данных на общую группу."
   ]
  },
  {
   "cell_type": "markdown",
   "id": "57bc304e",
   "metadata": {
    "deletable": false,
    "editable": false,
    "id": "57bc304e"
   },
   "source": [
    "### Шаг 4: общий вывод."
   ]
  },
  {
   "cell_type": "markdown",
   "id": "1ab75d1c",
   "metadata": {
    "deletable": false,
    "id": "1ab75d1c"
   },
   "source": [
    "По итогам проделанной работы с данными по заемщикам делаем выводы:\n",
    "1 Наиболее платежеспособными являются супружеские пары не обремененные детьми со средним уровнем дохада (50000-200000)\n",
    "2 Самые не платеженадежные заемщики, те кто покупают пассив - автомобиль и оплачивают образование.\n",
    "3 10% пропусков в данных по уровню заработной платы могут изменить зависимость платежеспособности от дохода.  "
   ]
  }
 ],
 "metadata": {
  "ExecuteTimeLog": [
   {
    "duration": 50,
    "start_time": "2024-06-18T06:13:27.170Z"
   },
   {
    "duration": 6,
    "start_time": "2024-06-18T06:15:57.450Z"
   },
   {
    "duration": 6,
    "start_time": "2024-06-18T06:19:25.619Z"
   },
   {
    "duration": 5,
    "start_time": "2024-06-18T06:34:39.346Z"
   },
   {
    "duration": 7,
    "start_time": "2024-06-18T06:35:15.417Z"
   },
   {
    "duration": 3,
    "start_time": "2024-06-18T06:36:43.196Z"
   },
   {
    "duration": 6,
    "start_time": "2024-06-18T06:36:47.419Z"
   },
   {
    "duration": 5,
    "start_time": "2024-06-18T06:37:06.734Z"
   },
   {
    "duration": 5,
    "start_time": "2024-06-18T08:37:44.915Z"
   },
   {
    "duration": 2,
    "start_time": "2024-06-18T08:38:34.634Z"
   },
   {
    "duration": 5,
    "start_time": "2024-06-18T08:38:36.315Z"
   },
   {
    "duration": 6,
    "start_time": "2024-06-18T08:49:31.052Z"
   },
   {
    "duration": 6,
    "start_time": "2024-06-18T08:50:15.892Z"
   },
   {
    "duration": 6,
    "start_time": "2024-06-18T08:52:49.674Z"
   },
   {
    "duration": 5,
    "start_time": "2024-06-18T08:53:19.933Z"
   },
   {
    "duration": 3,
    "start_time": "2024-06-18T09:03:45.958Z"
   },
   {
    "duration": 5,
    "start_time": "2024-06-18T09:03:46.919Z"
   },
   {
    "duration": 5,
    "start_time": "2024-06-18T09:04:09.395Z"
   },
   {
    "duration": 5,
    "start_time": "2024-06-18T09:12:33.929Z"
   },
   {
    "duration": 5,
    "start_time": "2024-06-18T09:20:48.333Z"
   },
   {
    "duration": 5,
    "start_time": "2024-06-18T09:20:56.613Z"
   },
   {
    "duration": 3,
    "start_time": "2024-06-18T09:20:59.321Z"
   },
   {
    "duration": 5,
    "start_time": "2024-06-18T09:21:02.984Z"
   },
   {
    "duration": 5,
    "start_time": "2024-06-18T09:42:14.887Z"
   },
   {
    "duration": 5,
    "start_time": "2024-06-18T09:47:20.390Z"
   },
   {
    "duration": 5,
    "start_time": "2024-06-18T10:16:32.076Z"
   },
   {
    "duration": 5,
    "start_time": "2024-06-18T10:18:20.401Z"
   },
   {
    "duration": 64,
    "start_time": "2024-06-18T10:18:54.320Z"
   },
   {
    "duration": 88,
    "start_time": "2024-06-18T10:19:06.775Z"
   },
   {
    "duration": 5,
    "start_time": "2024-06-18T10:20:12.129Z"
   },
   {
    "duration": 6,
    "start_time": "2024-06-18T10:21:14.591Z"
   },
   {
    "duration": 5,
    "start_time": "2024-06-18T10:22:17.680Z"
   },
   {
    "duration": 6,
    "start_time": "2024-06-18T10:22:23.441Z"
   },
   {
    "duration": 6,
    "start_time": "2024-06-18T10:30:22.893Z"
   },
   {
    "duration": 2,
    "start_time": "2024-06-18T10:35:28.757Z"
   },
   {
    "duration": 6,
    "start_time": "2024-06-18T10:35:30.423Z"
   },
   {
    "duration": 6,
    "start_time": "2024-06-18T10:38:06.119Z"
   },
   {
    "duration": 3,
    "start_time": "2024-06-18T10:41:10.219Z"
   },
   {
    "duration": 5,
    "start_time": "2024-06-18T10:41:26.002Z"
   },
   {
    "duration": 5,
    "start_time": "2024-06-18T10:41:47.052Z"
   },
   {
    "duration": 5,
    "start_time": "2024-06-18T11:18:25.912Z"
   },
   {
    "duration": 68,
    "start_time": "2024-06-18T11:53:43.512Z"
   },
   {
    "duration": 55,
    "start_time": "2024-06-18T11:54:16.320Z"
   },
   {
    "duration": 117,
    "start_time": "2024-06-18T12:18:11.741Z"
   },
   {
    "duration": 65,
    "start_time": "2024-06-18T12:21:01.202Z"
   },
   {
    "duration": 571,
    "start_time": "2024-06-18T12:21:08.279Z"
   },
   {
    "duration": 17,
    "start_time": "2024-06-18T12:21:08.852Z"
   },
   {
    "duration": 28,
    "start_time": "2024-06-18T12:21:08.870Z"
   },
   {
    "duration": 18,
    "start_time": "2024-06-18T12:21:08.899Z"
   },
   {
    "duration": 35,
    "start_time": "2024-06-18T12:21:08.918Z"
   },
   {
    "duration": 3,
    "start_time": "2024-06-18T12:21:08.954Z"
   },
   {
    "duration": 22,
    "start_time": "2024-06-18T12:21:08.958Z"
   },
   {
    "duration": 24,
    "start_time": "2024-06-18T12:21:08.981Z"
   },
   {
    "duration": 19,
    "start_time": "2024-06-18T12:21:09.006Z"
   },
   {
    "duration": 25,
    "start_time": "2024-06-18T12:21:09.027Z"
   },
   {
    "duration": 37,
    "start_time": "2024-06-18T12:21:09.054Z"
   },
   {
    "duration": 9,
    "start_time": "2024-06-18T12:21:09.092Z"
   },
   {
    "duration": 24,
    "start_time": "2024-06-18T12:21:09.103Z"
   },
   {
    "duration": 22,
    "start_time": "2024-06-18T12:21:09.128Z"
   },
   {
    "duration": 26,
    "start_time": "2024-06-18T12:21:09.152Z"
   },
   {
    "duration": 24,
    "start_time": "2024-06-18T12:21:09.179Z"
   },
   {
    "duration": 3,
    "start_time": "2024-06-18T12:21:09.205Z"
   },
   {
    "duration": 36,
    "start_time": "2024-06-18T12:21:09.209Z"
   },
   {
    "duration": 15,
    "start_time": "2024-06-18T12:21:09.246Z"
   },
   {
    "duration": 31,
    "start_time": "2024-06-18T12:21:09.263Z"
   },
   {
    "duration": 36,
    "start_time": "2024-06-18T12:21:09.296Z"
   },
   {
    "duration": 124,
    "start_time": "2024-06-18T12:21:09.333Z"
   },
   {
    "duration": 0,
    "start_time": "2024-06-18T12:21:09.459Z"
   },
   {
    "duration": 0,
    "start_time": "2024-06-18T12:21:09.459Z"
   },
   {
    "duration": 0,
    "start_time": "2024-06-18T12:21:09.460Z"
   },
   {
    "duration": 64,
    "start_time": "2024-06-18T12:21:31.100Z"
   },
   {
    "duration": 301,
    "start_time": "2024-06-18T12:30:13.818Z"
   },
   {
    "duration": 268,
    "start_time": "2024-06-18T12:30:37.796Z"
   },
   {
    "duration": 62,
    "start_time": "2024-06-18T12:31:53.289Z"
   },
   {
    "duration": 61,
    "start_time": "2024-06-18T12:32:11.280Z"
   },
   {
    "duration": 21,
    "start_time": "2024-06-18T12:56:17.181Z"
   },
   {
    "duration": 257,
    "start_time": "2024-06-18T12:56:54.026Z"
   },
   {
    "duration": 64,
    "start_time": "2024-06-18T12:57:21.210Z"
   },
   {
    "duration": 18,
    "start_time": "2024-06-18T12:57:21.276Z"
   },
   {
    "duration": 58,
    "start_time": "2024-06-18T12:57:21.296Z"
   },
   {
    "duration": 26,
    "start_time": "2024-06-18T12:57:21.356Z"
   },
   {
    "duration": 67,
    "start_time": "2024-06-18T12:57:21.384Z"
   },
   {
    "duration": 7,
    "start_time": "2024-06-18T12:57:21.452Z"
   },
   {
    "duration": 13,
    "start_time": "2024-06-18T12:57:21.460Z"
   },
   {
    "duration": 13,
    "start_time": "2024-06-18T12:57:21.474Z"
   },
   {
    "duration": 28,
    "start_time": "2024-06-18T12:57:21.488Z"
   },
   {
    "duration": 15,
    "start_time": "2024-06-18T12:57:21.518Z"
   },
   {
    "duration": 50,
    "start_time": "2024-06-18T12:57:21.534Z"
   },
   {
    "duration": 8,
    "start_time": "2024-06-18T12:57:21.586Z"
   },
   {
    "duration": 26,
    "start_time": "2024-06-18T12:57:21.596Z"
   },
   {
    "duration": 31,
    "start_time": "2024-06-18T12:57:21.623Z"
   },
   {
    "duration": 75,
    "start_time": "2024-06-18T12:57:21.655Z"
   },
   {
    "duration": 22,
    "start_time": "2024-06-18T12:57:21.732Z"
   },
   {
    "duration": 12,
    "start_time": "2024-06-18T12:57:21.756Z"
   },
   {
    "duration": 27,
    "start_time": "2024-06-18T12:57:21.770Z"
   },
   {
    "duration": 10,
    "start_time": "2024-06-18T12:57:21.798Z"
   },
   {
    "duration": 20,
    "start_time": "2024-06-18T12:57:21.809Z"
   },
   {
    "duration": 28,
    "start_time": "2024-06-18T12:57:21.831Z"
   },
   {
    "duration": 316,
    "start_time": "2024-06-18T12:57:21.861Z"
   },
   {
    "duration": 0,
    "start_time": "2024-06-18T12:57:22.179Z"
   },
   {
    "duration": 0,
    "start_time": "2024-06-18T12:57:22.181Z"
   },
   {
    "duration": 0,
    "start_time": "2024-06-18T12:57:22.182Z"
   },
   {
    "duration": 0,
    "start_time": "2024-06-18T12:57:22.183Z"
   },
   {
    "duration": 6,
    "start_time": "2024-06-18T13:09:11.169Z"
   },
   {
    "duration": 8,
    "start_time": "2024-06-18T13:13:01.264Z"
   },
   {
    "duration": 11,
    "start_time": "2024-06-18T13:37:16.252Z"
   },
   {
    "duration": 6,
    "start_time": "2024-06-18T13:38:18.706Z"
   },
   {
    "duration": 7,
    "start_time": "2024-06-18T13:44:30.910Z"
   },
   {
    "duration": 61,
    "start_time": "2024-06-18T13:56:15.543Z"
   },
   {
    "duration": 64,
    "start_time": "2024-06-18T13:56:34.944Z"
   },
   {
    "duration": 1041,
    "start_time": "2024-06-18T13:59:20.775Z"
   },
   {
    "duration": 999,
    "start_time": "2024-06-18T13:59:48.295Z"
   },
   {
    "duration": 1164,
    "start_time": "2024-06-18T14:01:09.594Z"
   },
   {
    "duration": 1119,
    "start_time": "2024-06-18T14:03:02.361Z"
   },
   {
    "duration": 7,
    "start_time": "2024-06-18T14:03:56.265Z"
   },
   {
    "duration": 1112,
    "start_time": "2024-06-18T14:05:05.020Z"
   },
   {
    "duration": 9,
    "start_time": "2024-06-18T14:14:45.994Z"
   },
   {
    "duration": 7,
    "start_time": "2024-06-18T14:16:35.132Z"
   },
   {
    "duration": 1023,
    "start_time": "2024-06-18T14:20:02.634Z"
   },
   {
    "duration": 7,
    "start_time": "2024-06-18T14:20:42.330Z"
   },
   {
    "duration": 70,
    "start_time": "2024-06-18T14:27:09.559Z"
   },
   {
    "duration": 7,
    "start_time": "2024-06-18T14:27:31.923Z"
   },
   {
    "duration": 10,
    "start_time": "2024-06-18T14:35:27.906Z"
   },
   {
    "duration": 78,
    "start_time": "2024-06-18T14:38:42.512Z"
   },
   {
    "duration": 68,
    "start_time": "2024-06-18T14:40:55.358Z"
   },
   {
    "duration": 11,
    "start_time": "2024-06-18T14:41:15.389Z"
   },
   {
    "duration": 62,
    "start_time": "2024-06-18T14:47:43.861Z"
   },
   {
    "duration": 12,
    "start_time": "2024-06-18T14:47:43.925Z"
   },
   {
    "duration": 18,
    "start_time": "2024-06-18T14:47:43.938Z"
   },
   {
    "duration": 7,
    "start_time": "2024-06-18T14:47:43.957Z"
   },
   {
    "duration": 41,
    "start_time": "2024-06-18T14:47:43.966Z"
   },
   {
    "duration": 3,
    "start_time": "2024-06-18T14:47:44.008Z"
   },
   {
    "duration": 20,
    "start_time": "2024-06-18T14:47:44.012Z"
   },
   {
    "duration": 18,
    "start_time": "2024-06-18T14:47:44.033Z"
   },
   {
    "duration": 6,
    "start_time": "2024-06-18T14:47:44.052Z"
   },
   {
    "duration": 3,
    "start_time": "2024-06-18T14:47:44.059Z"
   },
   {
    "duration": 41,
    "start_time": "2024-06-18T14:47:44.063Z"
   },
   {
    "duration": 64,
    "start_time": "2024-06-18T14:47:44.105Z"
   },
   {
    "duration": 9,
    "start_time": "2024-06-18T14:47:44.171Z"
   },
   {
    "duration": 12,
    "start_time": "2024-06-18T14:47:44.183Z"
   },
   {
    "duration": 21,
    "start_time": "2024-06-18T14:47:44.196Z"
   },
   {
    "duration": 14,
    "start_time": "2024-06-18T14:47:44.218Z"
   },
   {
    "duration": 2,
    "start_time": "2024-06-18T14:47:44.234Z"
   },
   {
    "duration": 16,
    "start_time": "2024-06-18T14:47:44.238Z"
   },
   {
    "duration": 5,
    "start_time": "2024-06-18T14:47:44.255Z"
   },
   {
    "duration": 4,
    "start_time": "2024-06-18T14:47:44.261Z"
   },
   {
    "duration": 22,
    "start_time": "2024-06-18T14:47:44.266Z"
   },
   {
    "duration": 12,
    "start_time": "2024-06-18T14:47:44.289Z"
   },
   {
    "duration": 9,
    "start_time": "2024-06-18T14:47:44.303Z"
   },
   {
    "duration": 2,
    "start_time": "2024-06-18T14:47:44.313Z"
   },
   {
    "duration": 9,
    "start_time": "2024-06-18T14:47:44.316Z"
   },
   {
    "duration": 4,
    "start_time": "2024-06-18T14:47:44.326Z"
   },
   {
    "duration": 66,
    "start_time": "2024-06-18T14:48:26.919Z"
   },
   {
    "duration": 9,
    "start_time": "2024-06-18T14:48:48.395Z"
   },
   {
    "duration": 9,
    "start_time": "2024-06-18T14:49:45.252Z"
   },
   {
    "duration": 63,
    "start_time": "2024-06-18T14:50:04.100Z"
   },
   {
    "duration": 20,
    "start_time": "2024-06-18T14:50:04.166Z"
   },
   {
    "duration": 50,
    "start_time": "2024-06-18T14:50:04.188Z"
   },
   {
    "duration": 26,
    "start_time": "2024-06-18T14:50:04.241Z"
   },
   {
    "duration": 60,
    "start_time": "2024-06-18T14:50:04.269Z"
   },
   {
    "duration": 3,
    "start_time": "2024-06-18T14:50:04.330Z"
   },
   {
    "duration": 17,
    "start_time": "2024-06-18T14:50:04.334Z"
   },
   {
    "duration": 20,
    "start_time": "2024-06-18T14:50:04.353Z"
   },
   {
    "duration": 19,
    "start_time": "2024-06-18T14:50:04.375Z"
   },
   {
    "duration": 11,
    "start_time": "2024-06-18T14:50:04.397Z"
   },
   {
    "duration": 36,
    "start_time": "2024-06-18T14:50:04.409Z"
   },
   {
    "duration": 11,
    "start_time": "2024-06-18T14:50:04.447Z"
   },
   {
    "duration": 16,
    "start_time": "2024-06-18T14:50:04.460Z"
   },
   {
    "duration": 17,
    "start_time": "2024-06-18T14:50:04.478Z"
   },
   {
    "duration": 26,
    "start_time": "2024-06-18T14:50:04.497Z"
   },
   {
    "duration": 15,
    "start_time": "2024-06-18T14:50:04.524Z"
   },
   {
    "duration": 17,
    "start_time": "2024-06-18T14:50:04.540Z"
   },
   {
    "duration": 16,
    "start_time": "2024-06-18T14:50:04.558Z"
   },
   {
    "duration": 5,
    "start_time": "2024-06-18T14:50:04.576Z"
   },
   {
    "duration": 16,
    "start_time": "2024-06-18T14:50:04.582Z"
   },
   {
    "duration": 33,
    "start_time": "2024-06-18T14:50:04.599Z"
   },
   {
    "duration": 31,
    "start_time": "2024-06-18T14:50:04.633Z"
   },
   {
    "duration": 16,
    "start_time": "2024-06-18T14:50:04.666Z"
   },
   {
    "duration": 15,
    "start_time": "2024-06-18T14:50:04.685Z"
   },
   {
    "duration": 62,
    "start_time": "2024-06-18T14:50:04.701Z"
   },
   {
    "duration": 32,
    "start_time": "2024-06-18T14:50:04.765Z"
   },
   {
    "duration": 179,
    "start_time": "2024-06-18T15:03:26.375Z"
   },
   {
    "duration": 10,
    "start_time": "2024-06-18T15:06:08.219Z"
   },
   {
    "duration": 5,
    "start_time": "2024-06-18T15:06:24.082Z"
   },
   {
    "duration": 9,
    "start_time": "2024-06-18T15:09:57.175Z"
   },
   {
    "duration": 5,
    "start_time": "2024-06-18T15:10:11.258Z"
   },
   {
    "duration": 12,
    "start_time": "2024-06-18T15:18:13.424Z"
   },
   {
    "duration": 61,
    "start_time": "2024-06-18T15:18:34.045Z"
   },
   {
    "duration": 12,
    "start_time": "2024-06-18T15:18:34.107Z"
   },
   {
    "duration": 17,
    "start_time": "2024-06-18T15:18:34.120Z"
   },
   {
    "duration": 15,
    "start_time": "2024-06-18T15:18:34.138Z"
   },
   {
    "duration": 43,
    "start_time": "2024-06-18T15:18:34.154Z"
   },
   {
    "duration": 3,
    "start_time": "2024-06-18T15:18:34.199Z"
   },
   {
    "duration": 12,
    "start_time": "2024-06-18T15:18:34.203Z"
   },
   {
    "duration": 12,
    "start_time": "2024-06-18T15:18:34.217Z"
   },
   {
    "duration": 10,
    "start_time": "2024-06-18T15:18:34.230Z"
   },
   {
    "duration": 11,
    "start_time": "2024-06-18T15:18:34.241Z"
   },
   {
    "duration": 26,
    "start_time": "2024-06-18T15:18:34.253Z"
   },
   {
    "duration": 7,
    "start_time": "2024-06-18T15:18:34.281Z"
   },
   {
    "duration": 11,
    "start_time": "2024-06-18T15:18:34.289Z"
   },
   {
    "duration": 9,
    "start_time": "2024-06-18T15:18:34.302Z"
   },
   {
    "duration": 20,
    "start_time": "2024-06-18T15:18:34.312Z"
   },
   {
    "duration": 15,
    "start_time": "2024-06-18T15:18:34.333Z"
   },
   {
    "duration": 3,
    "start_time": "2024-06-18T15:18:34.349Z"
   },
   {
    "duration": 13,
    "start_time": "2024-06-18T15:18:34.353Z"
   },
   {
    "duration": 5,
    "start_time": "2024-06-18T15:18:34.367Z"
   },
   {
    "duration": 4,
    "start_time": "2024-06-18T15:18:34.373Z"
   },
   {
    "duration": 19,
    "start_time": "2024-06-18T15:18:34.378Z"
   },
   {
    "duration": 7,
    "start_time": "2024-06-18T15:18:34.399Z"
   },
   {
    "duration": 12,
    "start_time": "2024-06-18T15:18:34.407Z"
   },
   {
    "duration": 0,
    "start_time": "2024-06-18T15:18:34.420Z"
   },
   {
    "duration": 0,
    "start_time": "2024-06-18T15:18:34.421Z"
   },
   {
    "duration": 0,
    "start_time": "2024-06-18T15:18:34.422Z"
   },
   {
    "duration": 10,
    "start_time": "2024-06-18T15:18:44.479Z"
   },
   {
    "duration": 15,
    "start_time": "2024-06-18T15:43:22.283Z"
   },
   {
    "duration": 14,
    "start_time": "2024-06-18T17:21:54.716Z"
   },
   {
    "duration": 6,
    "start_time": "2024-06-18T17:46:26.261Z"
   },
   {
    "duration": 11,
    "start_time": "2024-06-18T17:46:36.929Z"
   },
   {
    "duration": 53,
    "start_time": "2024-06-19T14:02:54.094Z"
   },
   {
    "duration": 7,
    "start_time": "2024-06-19T14:09:31.859Z"
   },
   {
    "duration": 6,
    "start_time": "2024-06-19T14:10:30.905Z"
   },
   {
    "duration": 63,
    "start_time": "2024-06-19T14:20:05.845Z"
   },
   {
    "duration": 2,
    "start_time": "2024-06-19T16:39:49.821Z"
   },
   {
    "duration": 2,
    "start_time": "2024-06-19T16:40:03.780Z"
   },
   {
    "duration": 617,
    "start_time": "2024-06-19T16:40:12.879Z"
   },
   {
    "duration": 17,
    "start_time": "2024-06-19T16:40:13.498Z"
   },
   {
    "duration": 12,
    "start_time": "2024-06-19T16:40:13.516Z"
   },
   {
    "duration": 13,
    "start_time": "2024-06-19T16:40:13.529Z"
   },
   {
    "duration": 28,
    "start_time": "2024-06-19T16:40:13.543Z"
   },
   {
    "duration": 3,
    "start_time": "2024-06-19T16:40:13.572Z"
   },
   {
    "duration": 24,
    "start_time": "2024-06-19T16:40:13.576Z"
   },
   {
    "duration": 5,
    "start_time": "2024-06-19T16:40:13.601Z"
   },
   {
    "duration": 7,
    "start_time": "2024-06-19T16:40:13.607Z"
   },
   {
    "duration": 29,
    "start_time": "2024-06-19T16:40:13.616Z"
   },
   {
    "duration": 33,
    "start_time": "2024-06-19T16:40:13.646Z"
   },
   {
    "duration": 8,
    "start_time": "2024-06-19T16:40:13.680Z"
   },
   {
    "duration": 19,
    "start_time": "2024-06-19T16:40:13.689Z"
   },
   {
    "duration": 12,
    "start_time": "2024-06-19T16:40:13.709Z"
   },
   {
    "duration": 24,
    "start_time": "2024-06-19T16:40:13.722Z"
   },
   {
    "duration": 15,
    "start_time": "2024-06-19T16:40:13.747Z"
   },
   {
    "duration": 3,
    "start_time": "2024-06-19T16:40:13.763Z"
   },
   {
    "duration": 14,
    "start_time": "2024-06-19T16:40:13.767Z"
   },
   {
    "duration": 4,
    "start_time": "2024-06-19T16:40:13.782Z"
   },
   {
    "duration": 15,
    "start_time": "2024-06-19T16:40:13.787Z"
   },
   {
    "duration": 31,
    "start_time": "2024-06-19T16:40:13.803Z"
   },
   {
    "duration": 23,
    "start_time": "2024-06-19T16:40:13.836Z"
   },
   {
    "duration": 2,
    "start_time": "2024-06-19T16:40:13.860Z"
   },
   {
    "duration": 15,
    "start_time": "2024-06-19T16:40:13.863Z"
   },
   {
    "duration": 9,
    "start_time": "2024-06-19T16:40:13.879Z"
   },
   {
    "duration": 23,
    "start_time": "2024-06-19T16:40:13.889Z"
   },
   {
    "duration": 2,
    "start_time": "2024-06-19T16:40:56.070Z"
   },
   {
    "duration": 59,
    "start_time": "2024-06-19T16:41:06.386Z"
   },
   {
    "duration": 12,
    "start_time": "2024-06-19T16:41:06.447Z"
   },
   {
    "duration": 19,
    "start_time": "2024-06-19T16:41:06.460Z"
   },
   {
    "duration": 8,
    "start_time": "2024-06-19T16:41:06.481Z"
   },
   {
    "duration": 27,
    "start_time": "2024-06-19T16:41:06.490Z"
   },
   {
    "duration": 3,
    "start_time": "2024-06-19T16:41:06.518Z"
   },
   {
    "duration": 28,
    "start_time": "2024-06-19T16:41:06.523Z"
   },
   {
    "duration": 5,
    "start_time": "2024-06-19T16:41:06.552Z"
   },
   {
    "duration": 24,
    "start_time": "2024-06-19T16:41:06.558Z"
   },
   {
    "duration": 6,
    "start_time": "2024-06-19T16:41:06.585Z"
   },
   {
    "duration": 29,
    "start_time": "2024-06-19T16:41:06.593Z"
   },
   {
    "duration": 8,
    "start_time": "2024-06-19T16:41:06.624Z"
   },
   {
    "duration": 3,
    "start_time": "2024-06-19T16:41:06.633Z"
   },
   {
    "duration": 18,
    "start_time": "2024-06-19T16:41:06.637Z"
   },
   {
    "duration": 21,
    "start_time": "2024-06-19T16:41:06.656Z"
   },
   {
    "duration": 21,
    "start_time": "2024-06-19T16:41:06.678Z"
   },
   {
    "duration": 3,
    "start_time": "2024-06-19T16:41:06.700Z"
   },
   {
    "duration": 13,
    "start_time": "2024-06-19T16:41:06.704Z"
   },
   {
    "duration": 6,
    "start_time": "2024-06-19T16:41:06.718Z"
   },
   {
    "duration": 8,
    "start_time": "2024-06-19T16:41:06.725Z"
   },
   {
    "duration": 13,
    "start_time": "2024-06-19T16:41:06.735Z"
   },
   {
    "duration": 13,
    "start_time": "2024-06-19T16:41:06.749Z"
   },
   {
    "duration": 2,
    "start_time": "2024-06-19T16:41:06.763Z"
   },
   {
    "duration": 28,
    "start_time": "2024-06-19T16:41:06.766Z"
   },
   {
    "duration": 8,
    "start_time": "2024-06-19T16:41:06.796Z"
   },
   {
    "duration": 12,
    "start_time": "2024-06-19T16:41:06.805Z"
   },
   {
    "duration": 2,
    "start_time": "2024-06-19T16:46:25.044Z"
   },
   {
    "duration": 26,
    "start_time": "2024-06-19T16:46:41.747Z"
   },
   {
    "duration": 6,
    "start_time": "2024-06-19T16:47:47.318Z"
   },
   {
    "duration": 2,
    "start_time": "2024-06-19T16:48:57.188Z"
   },
   {
    "duration": 61,
    "start_time": "2024-06-19T16:49:07.609Z"
   },
   {
    "duration": 13,
    "start_time": "2024-06-19T16:49:07.672Z"
   },
   {
    "duration": 19,
    "start_time": "2024-06-19T16:49:07.686Z"
   },
   {
    "duration": 8,
    "start_time": "2024-06-19T16:49:07.707Z"
   },
   {
    "duration": 27,
    "start_time": "2024-06-19T16:49:07.717Z"
   },
   {
    "duration": 3,
    "start_time": "2024-06-19T16:49:07.745Z"
   },
   {
    "duration": 23,
    "start_time": "2024-06-19T16:49:07.749Z"
   },
   {
    "duration": 12,
    "start_time": "2024-06-19T16:49:07.773Z"
   },
   {
    "duration": 7,
    "start_time": "2024-06-19T16:49:07.786Z"
   },
   {
    "duration": 17,
    "start_time": "2024-06-19T16:49:07.796Z"
   },
   {
    "duration": 35,
    "start_time": "2024-06-19T16:49:07.814Z"
   },
   {
    "duration": 8,
    "start_time": "2024-06-19T16:49:07.851Z"
   },
   {
    "duration": 9,
    "start_time": "2024-06-19T16:49:07.860Z"
   },
   {
    "duration": 14,
    "start_time": "2024-06-19T16:49:07.870Z"
   },
   {
    "duration": 16,
    "start_time": "2024-06-19T16:49:07.886Z"
   },
   {
    "duration": 14,
    "start_time": "2024-06-19T16:49:07.903Z"
   },
   {
    "duration": 2,
    "start_time": "2024-06-19T16:49:07.919Z"
   },
   {
    "duration": 11,
    "start_time": "2024-06-19T16:49:07.923Z"
   },
   {
    "duration": 8,
    "start_time": "2024-06-19T16:49:07.935Z"
   },
   {
    "duration": 3,
    "start_time": "2024-06-19T16:49:07.944Z"
   },
   {
    "duration": 8,
    "start_time": "2024-06-19T16:49:07.948Z"
   },
   {
    "duration": 33,
    "start_time": "2024-06-19T16:49:07.957Z"
   },
   {
    "duration": 0,
    "start_time": "2024-06-19T16:49:07.991Z"
   },
   {
    "duration": 0,
    "start_time": "2024-06-19T16:49:07.992Z"
   },
   {
    "duration": 0,
    "start_time": "2024-06-19T16:49:07.993Z"
   },
   {
    "duration": 0,
    "start_time": "2024-06-19T16:49:07.994Z"
   },
   {
    "duration": 5,
    "start_time": "2024-06-19T16:49:57.411Z"
   },
   {
    "duration": 10,
    "start_time": "2024-06-19T16:53:54.968Z"
   },
   {
    "duration": 9,
    "start_time": "2024-06-19T16:55:33.007Z"
   },
   {
    "duration": 5,
    "start_time": "2024-06-19T16:56:21.359Z"
   },
   {
    "duration": 10,
    "start_time": "2024-06-19T16:56:47.966Z"
   },
   {
    "duration": 61,
    "start_time": "2024-06-19T17:07:30.501Z"
   },
   {
    "duration": 52,
    "start_time": "2024-06-19T17:07:30.564Z"
   },
   {
    "duration": 33,
    "start_time": "2024-06-19T17:07:30.617Z"
   },
   {
    "duration": 37,
    "start_time": "2024-06-19T17:07:30.652Z"
   },
   {
    "duration": 43,
    "start_time": "2024-06-19T17:07:30.690Z"
   },
   {
    "duration": 35,
    "start_time": "2024-06-19T17:07:30.734Z"
   },
   {
    "duration": 59,
    "start_time": "2024-06-19T17:07:30.770Z"
   },
   {
    "duration": 52,
    "start_time": "2024-06-19T17:07:30.830Z"
   },
   {
    "duration": 60,
    "start_time": "2024-06-19T17:07:30.883Z"
   },
   {
    "duration": 50,
    "start_time": "2024-06-19T17:07:30.945Z"
   },
   {
    "duration": 99,
    "start_time": "2024-06-19T17:07:30.996Z"
   },
   {
    "duration": 31,
    "start_time": "2024-06-19T17:07:31.097Z"
   },
   {
    "duration": 37,
    "start_time": "2024-06-19T17:07:31.129Z"
   },
   {
    "duration": 57,
    "start_time": "2024-06-19T17:07:31.167Z"
   },
   {
    "duration": 66,
    "start_time": "2024-06-19T17:07:31.225Z"
   },
   {
    "duration": 49,
    "start_time": "2024-06-19T17:07:31.292Z"
   },
   {
    "duration": 3,
    "start_time": "2024-06-19T17:07:31.342Z"
   },
   {
    "duration": 38,
    "start_time": "2024-06-19T17:07:31.346Z"
   },
   {
    "duration": 41,
    "start_time": "2024-06-19T17:07:31.385Z"
   },
   {
    "duration": 27,
    "start_time": "2024-06-19T17:07:31.427Z"
   },
   {
    "duration": 33,
    "start_time": "2024-06-19T17:07:31.455Z"
   },
   {
    "duration": 54,
    "start_time": "2024-06-19T17:07:31.490Z"
   },
   {
    "duration": 65,
    "start_time": "2024-06-19T17:07:31.545Z"
   },
   {
    "duration": 0,
    "start_time": "2024-06-19T17:07:31.611Z"
   },
   {
    "duration": 0,
    "start_time": "2024-06-19T17:07:31.613Z"
   },
   {
    "duration": 0,
    "start_time": "2024-06-19T17:07:31.613Z"
   },
   {
    "duration": 10,
    "start_time": "2024-06-19T17:15:34.899Z"
   },
   {
    "duration": 10,
    "start_time": "2024-06-19T17:15:44.061Z"
   },
   {
    "duration": 14,
    "start_time": "2024-06-19T17:15:52.474Z"
   },
   {
    "duration": 11,
    "start_time": "2024-06-19T17:16:00.043Z"
   },
   {
    "duration": 12,
    "start_time": "2024-06-19T17:17:57.441Z"
   },
   {
    "duration": 12,
    "start_time": "2024-06-19T17:18:22.687Z"
   },
   {
    "duration": 10,
    "start_time": "2024-06-19T17:18:58.280Z"
   },
   {
    "duration": 8,
    "start_time": "2024-06-19T17:21:23.778Z"
   },
   {
    "duration": 9,
    "start_time": "2024-06-19T17:21:38.333Z"
   },
   {
    "duration": 2,
    "start_time": "2024-06-19T17:23:00.751Z"
   },
   {
    "duration": 9,
    "start_time": "2024-06-19T17:24:14.093Z"
   },
   {
    "duration": 11,
    "start_time": "2024-06-19T17:34:07.483Z"
   },
   {
    "duration": 9,
    "start_time": "2024-06-19T17:34:18.223Z"
   },
   {
    "duration": 11,
    "start_time": "2024-06-19T17:35:11.847Z"
   },
   {
    "duration": 67,
    "start_time": "2024-06-19T17:38:08.430Z"
   },
   {
    "duration": 112,
    "start_time": "2024-06-19T17:38:31.087Z"
   },
   {
    "duration": 64,
    "start_time": "2024-06-19T17:38:58.164Z"
   },
   {
    "duration": 9,
    "start_time": "2024-06-19T17:39:28.142Z"
   },
   {
    "duration": 10,
    "start_time": "2024-06-19T18:01:09.530Z"
   },
   {
    "duration": 8,
    "start_time": "2024-06-20T04:54:43.925Z"
   },
   {
    "duration": 39,
    "start_time": "2024-06-20T04:54:45.700Z"
   },
   {
    "duration": 2,
    "start_time": "2024-06-20T04:54:55.758Z"
   },
   {
    "duration": 6,
    "start_time": "2024-06-20T04:55:04.659Z"
   },
   {
    "duration": 639,
    "start_time": "2024-06-20T04:55:23.781Z"
   },
   {
    "duration": 20,
    "start_time": "2024-06-20T04:55:24.421Z"
   },
   {
    "duration": 31,
    "start_time": "2024-06-20T04:55:24.442Z"
   },
   {
    "duration": 9,
    "start_time": "2024-06-20T04:55:24.476Z"
   },
   {
    "duration": 34,
    "start_time": "2024-06-20T04:55:24.487Z"
   },
   {
    "duration": 2,
    "start_time": "2024-06-20T04:55:24.522Z"
   },
   {
    "duration": 16,
    "start_time": "2024-06-20T04:55:24.526Z"
   },
   {
    "duration": 29,
    "start_time": "2024-06-20T04:55:24.543Z"
   },
   {
    "duration": 21,
    "start_time": "2024-06-20T04:55:24.574Z"
   },
   {
    "duration": 13,
    "start_time": "2024-06-20T04:55:24.598Z"
   },
   {
    "duration": 31,
    "start_time": "2024-06-20T04:55:24.612Z"
   },
   {
    "duration": 8,
    "start_time": "2024-06-20T04:55:24.644Z"
   },
   {
    "duration": 32,
    "start_time": "2024-06-20T04:55:24.653Z"
   },
   {
    "duration": 21,
    "start_time": "2024-06-20T04:55:24.686Z"
   },
   {
    "duration": 28,
    "start_time": "2024-06-20T04:55:24.708Z"
   },
   {
    "duration": 17,
    "start_time": "2024-06-20T04:55:24.737Z"
   },
   {
    "duration": 3,
    "start_time": "2024-06-20T04:55:24.755Z"
   },
   {
    "duration": 13,
    "start_time": "2024-06-20T04:55:24.760Z"
   },
   {
    "duration": 11,
    "start_time": "2024-06-20T04:55:24.774Z"
   },
   {
    "duration": 13,
    "start_time": "2024-06-20T04:55:24.787Z"
   },
   {
    "duration": 14,
    "start_time": "2024-06-20T04:55:24.801Z"
   },
   {
    "duration": 28,
    "start_time": "2024-06-20T04:55:24.816Z"
   },
   {
    "duration": 18,
    "start_time": "2024-06-20T04:55:24.845Z"
   },
   {
    "duration": 29,
    "start_time": "2024-06-20T04:55:24.864Z"
   },
   {
    "duration": 15,
    "start_time": "2024-06-20T04:55:24.894Z"
   },
   {
    "duration": 27,
    "start_time": "2024-06-20T04:55:24.911Z"
   }
  ],
  "colab": {
   "provenance": []
  },
  "kernelspec": {
   "display_name": "Python 3 (ipykernel)",
   "language": "python",
   "name": "python3"
  },
  "language_info": {
   "codemirror_mode": {
    "name": "ipython",
    "version": 3
   },
   "file_extension": ".py",
   "mimetype": "text/x-python",
   "name": "python",
   "nbconvert_exporter": "python",
   "pygments_lexer": "ipython3",
   "version": "3.11.7"
  },
  "toc": {
   "base_numbering": 1,
   "nav_menu": {},
   "number_sections": true,
   "sideBar": true,
   "skip_h1_title": true,
   "title_cell": "Table of Contents",
   "title_sidebar": "Contents",
   "toc_cell": false,
   "toc_position": {},
   "toc_section_display": true,
   "toc_window_display": false
  }
 },
 "nbformat": 4,
 "nbformat_minor": 5
}
