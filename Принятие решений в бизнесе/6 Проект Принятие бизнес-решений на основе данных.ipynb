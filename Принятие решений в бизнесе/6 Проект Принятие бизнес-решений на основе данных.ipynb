{
 "cells": [
  {
   "cell_type": "markdown",
   "metadata": {},
   "source": [
    "# Проект курса \"Принятие решений в бизнесе на основе данных\" #"
   ]
  },
  {
   "cell_type": "markdown",
   "metadata": {},
   "source": [
    "# Описание проекта #\n",
    "\n",
    "Мы — аналитик крупного интернет-магазина. Вместе с отделом маркетинга мы подготовили список гипотез для увеличения выручки.\n",
    "\n",
    "**Задача:** \n",
    "1. Произвести приоритизацию гипотез применив фреймворки ICE и RICE.\n",
    "2. Проанализировать A/B-тест, сделать вывод и дать рекомендации по дальнейшим действиям в рамках тестирования.\n",
    "\n",
    "**Описание данных**\n",
    "\n",
    "***Данные для первой части проекта***\n",
    "\n",
    "1. Файл /datasets/hypothesis.csv. \n",
    "        •\tHypothesis — краткое описание гипотезы;\n",
    "        •\tReach — охват пользователей по 10-балльной шкале;\n",
    "        •\tImpact — влияние на пользователей по 10-балльной шкале;\n",
    "        •\tConfidence — уверенность в гипотезе по 10-балльной шкале;\n",
    "        •\tEfforts — затраты ресурсов на проверку гипотезы по 10-балльной шкале. Чем больше значение Efforts, тем дороже проверка гипотезы.\n",
    "\n",
    "***Данные для второй части проекта***\n",
    "\n",
    "2. Файл /datasets/orders.csv. \n",
    "       •\ttransactionId — идентификатор заказа;\n",
    "       •\tvisitorId — идентификатор пользователя, совершившего заказ;\n",
    "       •\tdate — дата, когда был совершён заказ;\n",
    "       •\trevenue — выручка заказа;\n",
    "       •\tgroup — группа A/B-теста, в которую попал заказ.\n",
    "\n",
    "3. Файл /datasets/visitors.csv. \n",
    "       •\tdate — дата;\n",
    "       •\tgroup — группа A/B-теста;\n",
    "       •\tvisitors — количество пользователей в указанную дату в указанной группе A/B-теста\n",
    "\n",
    "**План работы:**\n",
    "1. Подготовка данных\n",
    "2. Предобработка данных\n",
    "3. Приоритизация гипотез\n",
    "4. Анализ А/В теста\n",
    "5. Выводы"
   ]
  },
  {
   "cell_type": "markdown",
   "metadata": {},
   "source": [
    "## Подготовка данных ##"
   ]
  },
  {
   "cell_type": "markdown",
   "metadata": {},
   "source": [
    "### Импортируем библиотеки ###"
   ]
  },
  {
   "cell_type": "code",
   "execution_count": 1,
   "metadata": {},
   "outputs": [],
   "source": [
    "import pandas as pd\n",
    "import numpy as np\n",
    "import matplotlib.pyplot as plt\n",
    "import scipy.stats as stats\n",
    "import datetime as dt\n",
    "import seaborn as sns\n",
    "from IPython.display import display\n",
    "pd.set_option('display.max_columns', 30)\n",
    "pd.set_option(\"display.float_format\", \"{:.2f}\".format)\n",
    "import warnings\n",
    "warnings.simplefilter('ignore')"
   ]
  },
  {
   "cell_type": "code",
   "execution_count": 2,
   "metadata": {},
   "outputs": [],
   "source": [
    "pd.set_option('display.max_colwidth', -1)"
   ]
  },
  {
   "cell_type": "markdown",
   "metadata": {},
   "source": [
    "### Читаем файлы, сохраняем в датафреймы ###"
   ]
  },
  {
   "cell_type": "code",
   "execution_count": 3,
   "metadata": {},
   "outputs": [],
   "source": [
    "hypothesis = pd.read_csv('/datasets/hypothesis.csv')\n",
    "orders = pd.read_csv('/datasets/orders.csv')\n",
    "visitors = pd.read_csv('/datasets/visitors.csv')    "
   ]
  },
  {
   "cell_type": "markdown",
   "metadata": {},
   "source": [
    "## Предобработка данных ##"
   ]
  },
  {
   "cell_type": "code",
   "execution_count": 4,
   "metadata": {},
   "outputs": [
    {
     "name": "stdout",
     "output_type": "stream",
     "text": [
      "<class 'pandas.core.frame.DataFrame'>\n",
      "RangeIndex: 9 entries, 0 to 8\n",
      "Data columns (total 5 columns):\n",
      " #   Column      Non-Null Count  Dtype \n",
      "---  ------      --------------  ----- \n",
      " 0   Hypothesis  9 non-null      object\n",
      " 1   Reach       9 non-null      int64 \n",
      " 2   Impact      9 non-null      int64 \n",
      " 3   Confidence  9 non-null      int64 \n",
      " 4   Efforts     9 non-null      int64 \n",
      "dtypes: int64(4), object(1)\n",
      "memory usage: 488.0+ bytes\n"
     ]
    }
   ],
   "source": [
    "#посмотрим информацию о датафреймах и сами данные\n",
    "hypothesis.info()"
   ]
  },
  {
   "cell_type": "code",
   "execution_count": 5,
   "metadata": {},
   "outputs": [
    {
     "data": {
      "text/html": [
       "<div>\n",
       "<style scoped>\n",
       "    .dataframe tbody tr th:only-of-type {\n",
       "        vertical-align: middle;\n",
       "    }\n",
       "\n",
       "    .dataframe tbody tr th {\n",
       "        vertical-align: top;\n",
       "    }\n",
       "\n",
       "    .dataframe thead th {\n",
       "        text-align: right;\n",
       "    }\n",
       "</style>\n",
       "<table border=\"1\" class=\"dataframe\">\n",
       "  <thead>\n",
       "    <tr style=\"text-align: right;\">\n",
       "      <th></th>\n",
       "      <th>Hypothesis</th>\n",
       "      <th>Reach</th>\n",
       "      <th>Impact</th>\n",
       "      <th>Confidence</th>\n",
       "      <th>Efforts</th>\n",
       "    </tr>\n",
       "  </thead>\n",
       "  <tbody>\n",
       "    <tr>\n",
       "      <th>0</th>\n",
       "      <td>Добавить два новых канала привлечения трафика, что позволит привлекать на 30% больше пользователей</td>\n",
       "      <td>3</td>\n",
       "      <td>10</td>\n",
       "      <td>8</td>\n",
       "      <td>6</td>\n",
       "    </tr>\n",
       "    <tr>\n",
       "      <th>1</th>\n",
       "      <td>Запустить собственную службу доставки, что сократит срок доставки заказов</td>\n",
       "      <td>2</td>\n",
       "      <td>5</td>\n",
       "      <td>4</td>\n",
       "      <td>10</td>\n",
       "    </tr>\n",
       "    <tr>\n",
       "      <th>2</th>\n",
       "      <td>Добавить блоки рекомендаций товаров на сайт интернет магазина, чтобы повысить конверсию и средний чек заказа</td>\n",
       "      <td>8</td>\n",
       "      <td>3</td>\n",
       "      <td>7</td>\n",
       "      <td>3</td>\n",
       "    </tr>\n",
       "    <tr>\n",
       "      <th>3</th>\n",
       "      <td>Изменить структура категорий, что увеличит конверсию, т.к. пользователи быстрее найдут нужный товар</td>\n",
       "      <td>8</td>\n",
       "      <td>3</td>\n",
       "      <td>3</td>\n",
       "      <td>8</td>\n",
       "    </tr>\n",
       "    <tr>\n",
       "      <th>4</th>\n",
       "      <td>Изменить цвет фона главной страницы, чтобы увеличить вовлеченность пользователей</td>\n",
       "      <td>3</td>\n",
       "      <td>1</td>\n",
       "      <td>1</td>\n",
       "      <td>1</td>\n",
       "    </tr>\n",
       "    <tr>\n",
       "      <th>5</th>\n",
       "      <td>Добавить страницу отзывов клиентов о магазине, что позволит увеличить количество заказов</td>\n",
       "      <td>3</td>\n",
       "      <td>2</td>\n",
       "      <td>2</td>\n",
       "      <td>3</td>\n",
       "    </tr>\n",
       "    <tr>\n",
       "      <th>6</th>\n",
       "      <td>Показать на главной странице баннеры с актуальными акциями и распродажами, чтобы увеличить конверсию</td>\n",
       "      <td>5</td>\n",
       "      <td>3</td>\n",
       "      <td>8</td>\n",
       "      <td>3</td>\n",
       "    </tr>\n",
       "    <tr>\n",
       "      <th>7</th>\n",
       "      <td>Добавить форму подписки на все основные страницы, чтобы собрать базу клиентов для email-рассылок</td>\n",
       "      <td>10</td>\n",
       "      <td>7</td>\n",
       "      <td>8</td>\n",
       "      <td>5</td>\n",
       "    </tr>\n",
       "    <tr>\n",
       "      <th>8</th>\n",
       "      <td>Запустить акцию, дающую скидку на товар в день рождения</td>\n",
       "      <td>1</td>\n",
       "      <td>9</td>\n",
       "      <td>9</td>\n",
       "      <td>5</td>\n",
       "    </tr>\n",
       "  </tbody>\n",
       "</table>\n",
       "</div>"
      ],
      "text/plain": [
       "                                                                                                     Hypothesis  \\\n",
       "0  Добавить два новых канала привлечения трафика, что позволит привлекать на 30% больше пользователей             \n",
       "1  Запустить собственную службу доставки, что сократит срок доставки заказов                                      \n",
       "2  Добавить блоки рекомендаций товаров на сайт интернет магазина, чтобы повысить конверсию и средний чек заказа   \n",
       "3  Изменить структура категорий, что увеличит конверсию, т.к. пользователи быстрее найдут нужный товар            \n",
       "4  Изменить цвет фона главной страницы, чтобы увеличить вовлеченность пользователей                               \n",
       "5  Добавить страницу отзывов клиентов о магазине, что позволит увеличить количество заказов                       \n",
       "6  Показать на главной странице баннеры с актуальными акциями и распродажами, чтобы увеличить конверсию           \n",
       "7  Добавить форму подписки на все основные страницы, чтобы собрать базу клиентов для email-рассылок               \n",
       "8  Запустить акцию, дающую скидку на товар в день рождения                                                        \n",
       "\n",
       "   Reach  Impact  Confidence  Efforts  \n",
       "0  3      10      8           6        \n",
       "1  2      5       4           10       \n",
       "2  8      3       7           3        \n",
       "3  8      3       3           8        \n",
       "4  3      1       1           1        \n",
       "5  3      2       2           3        \n",
       "6  5      3       8           3        \n",
       "7  10     7       8           5        \n",
       "8  1      9       9           5        "
      ]
     },
     "execution_count": 5,
     "metadata": {},
     "output_type": "execute_result"
    }
   ],
   "source": [
    "hypothesis"
   ]
  },
  {
   "cell_type": "code",
   "execution_count": 6,
   "metadata": {},
   "outputs": [
    {
     "data": {
      "text/plain": [
       "Index(['hypothesis', 'reach', 'impact', 'confidence', 'efforts'], dtype='object')"
      ]
     },
     "execution_count": 6,
     "metadata": {},
     "output_type": "execute_result"
    }
   ],
   "source": [
    "# приведем названия столбцов к нижнему регистру\n",
    "hypothesis.columns = hypothesis.columns.str.lower()\n",
    "hypothesis.columns"
   ]
  },
  {
   "cell_type": "markdown",
   "metadata": {},
   "source": [
    "Данная таблица имеет малый размер и полностью представлена на обозрение, поэтому не требует каких-либо проверок и изменений."
   ]
  },
  {
   "cell_type": "code",
   "execution_count": 7,
   "metadata": {},
   "outputs": [
    {
     "name": "stdout",
     "output_type": "stream",
     "text": [
      "<class 'pandas.core.frame.DataFrame'>\n",
      "RangeIndex: 1197 entries, 0 to 1196\n",
      "Data columns (total 5 columns):\n",
      " #   Column         Non-Null Count  Dtype \n",
      "---  ------         --------------  ----- \n",
      " 0   transactionId  1197 non-null   int64 \n",
      " 1   visitorId      1197 non-null   int64 \n",
      " 2   date           1197 non-null   object\n",
      " 3   revenue        1197 non-null   int64 \n",
      " 4   group          1197 non-null   object\n",
      "dtypes: int64(3), object(2)\n",
      "memory usage: 46.9+ KB\n"
     ]
    }
   ],
   "source": [
    "orders.info()"
   ]
  },
  {
   "cell_type": "code",
   "execution_count": 8,
   "metadata": {},
   "outputs": [
    {
     "data": {
      "text/html": [
       "<div>\n",
       "<style scoped>\n",
       "    .dataframe tbody tr th:only-of-type {\n",
       "        vertical-align: middle;\n",
       "    }\n",
       "\n",
       "    .dataframe tbody tr th {\n",
       "        vertical-align: top;\n",
       "    }\n",
       "\n",
       "    .dataframe thead th {\n",
       "        text-align: right;\n",
       "    }\n",
       "</style>\n",
       "<table border=\"1\" class=\"dataframe\">\n",
       "  <thead>\n",
       "    <tr style=\"text-align: right;\">\n",
       "      <th></th>\n",
       "      <th>transactionId</th>\n",
       "      <th>visitorId</th>\n",
       "      <th>date</th>\n",
       "      <th>revenue</th>\n",
       "      <th>group</th>\n",
       "    </tr>\n",
       "  </thead>\n",
       "  <tbody>\n",
       "    <tr>\n",
       "      <th>0</th>\n",
       "      <td>3667963787</td>\n",
       "      <td>3312258926</td>\n",
       "      <td>2019-08-15</td>\n",
       "      <td>1650</td>\n",
       "      <td>B</td>\n",
       "    </tr>\n",
       "    <tr>\n",
       "      <th>1</th>\n",
       "      <td>2804400009</td>\n",
       "      <td>3642806036</td>\n",
       "      <td>2019-08-15</td>\n",
       "      <td>730</td>\n",
       "      <td>B</td>\n",
       "    </tr>\n",
       "    <tr>\n",
       "      <th>2</th>\n",
       "      <td>2961555356</td>\n",
       "      <td>4069496402</td>\n",
       "      <td>2019-08-15</td>\n",
       "      <td>400</td>\n",
       "      <td>A</td>\n",
       "    </tr>\n",
       "    <tr>\n",
       "      <th>3</th>\n",
       "      <td>3797467345</td>\n",
       "      <td>1196621759</td>\n",
       "      <td>2019-08-15</td>\n",
       "      <td>9759</td>\n",
       "      <td>B</td>\n",
       "    </tr>\n",
       "    <tr>\n",
       "      <th>4</th>\n",
       "      <td>2282983706</td>\n",
       "      <td>2322279887</td>\n",
       "      <td>2019-08-15</td>\n",
       "      <td>2308</td>\n",
       "      <td>B</td>\n",
       "    </tr>\n",
       "  </tbody>\n",
       "</table>\n",
       "</div>"
      ],
      "text/plain": [
       "   transactionId   visitorId        date  revenue group\n",
       "0  3667963787     3312258926  2019-08-15  1650     B   \n",
       "1  2804400009     3642806036  2019-08-15  730      B   \n",
       "2  2961555356     4069496402  2019-08-15  400      A   \n",
       "3  3797467345     1196621759  2019-08-15  9759     B   \n",
       "4  2282983706     2322279887  2019-08-15  2308     B   "
      ]
     },
     "execution_count": 8,
     "metadata": {},
     "output_type": "execute_result"
    }
   ],
   "source": [
    "orders.head()"
   ]
  },
  {
   "cell_type": "code",
   "execution_count": 9,
   "metadata": {},
   "outputs": [
    {
     "data": {
      "text/plain": [
       "0"
      ]
     },
     "execution_count": 9,
     "metadata": {},
     "output_type": "execute_result"
    }
   ],
   "source": [
    "# проверим наличие дубликатов\n",
    "orders.duplicated().sum()"
   ]
  },
  {
   "cell_type": "code",
   "execution_count": 10,
   "metadata": {},
   "outputs": [
    {
     "name": "stdout",
     "output_type": "stream",
     "text": [
      "<class 'pandas.core.frame.DataFrame'>\n",
      "RangeIndex: 1197 entries, 0 to 1196\n",
      "Data columns (total 5 columns):\n",
      " #   Column         Non-Null Count  Dtype         \n",
      "---  ------         --------------  -----         \n",
      " 0   transactionId  1197 non-null   int64         \n",
      " 1   visitorId      1197 non-null   int64         \n",
      " 2   date           1197 non-null   datetime64[ns]\n",
      " 3   revenue        1197 non-null   int64         \n",
      " 4   group          1197 non-null   object        \n",
      "dtypes: datetime64[ns](1), int64(3), object(1)\n",
      "memory usage: 46.9+ KB\n"
     ]
    }
   ],
   "source": [
    "# приобразуем формат столбца date из object в формат date \n",
    "orders['date'] = pd.to_datetime(orders['date'])\n",
    "orders.info()"
   ]
  },
  {
   "cell_type": "code",
   "execution_count": 11,
   "metadata": {},
   "outputs": [
    {
     "name": "stdout",
     "output_type": "stream",
     "text": [
      "<class 'pandas.core.frame.DataFrame'>\n",
      "RangeIndex: 62 entries, 0 to 61\n",
      "Data columns (total 3 columns):\n",
      " #   Column    Non-Null Count  Dtype \n",
      "---  ------    --------------  ----- \n",
      " 0   date      62 non-null     object\n",
      " 1   group     62 non-null     object\n",
      " 2   visitors  62 non-null     int64 \n",
      "dtypes: int64(1), object(2)\n",
      "memory usage: 1.6+ KB\n"
     ]
    }
   ],
   "source": [
    "visitors.info()"
   ]
  },
  {
   "cell_type": "code",
   "execution_count": 12,
   "metadata": {},
   "outputs": [
    {
     "data": {
      "text/html": [
       "<div>\n",
       "<style scoped>\n",
       "    .dataframe tbody tr th:only-of-type {\n",
       "        vertical-align: middle;\n",
       "    }\n",
       "\n",
       "    .dataframe tbody tr th {\n",
       "        vertical-align: top;\n",
       "    }\n",
       "\n",
       "    .dataframe thead th {\n",
       "        text-align: right;\n",
       "    }\n",
       "</style>\n",
       "<table border=\"1\" class=\"dataframe\">\n",
       "  <thead>\n",
       "    <tr style=\"text-align: right;\">\n",
       "      <th></th>\n",
       "      <th>date</th>\n",
       "      <th>group</th>\n",
       "      <th>visitors</th>\n",
       "    </tr>\n",
       "  </thead>\n",
       "  <tbody>\n",
       "    <tr>\n",
       "      <th>0</th>\n",
       "      <td>2019-08-01</td>\n",
       "      <td>A</td>\n",
       "      <td>719</td>\n",
       "    </tr>\n",
       "    <tr>\n",
       "      <th>1</th>\n",
       "      <td>2019-08-02</td>\n",
       "      <td>A</td>\n",
       "      <td>619</td>\n",
       "    </tr>\n",
       "    <tr>\n",
       "      <th>2</th>\n",
       "      <td>2019-08-03</td>\n",
       "      <td>A</td>\n",
       "      <td>507</td>\n",
       "    </tr>\n",
       "    <tr>\n",
       "      <th>3</th>\n",
       "      <td>2019-08-04</td>\n",
       "      <td>A</td>\n",
       "      <td>717</td>\n",
       "    </tr>\n",
       "    <tr>\n",
       "      <th>4</th>\n",
       "      <td>2019-08-05</td>\n",
       "      <td>A</td>\n",
       "      <td>756</td>\n",
       "    </tr>\n",
       "  </tbody>\n",
       "</table>\n",
       "</div>"
      ],
      "text/plain": [
       "         date group  visitors\n",
       "0  2019-08-01  A     719     \n",
       "1  2019-08-02  A     619     \n",
       "2  2019-08-03  A     507     \n",
       "3  2019-08-04  A     717     \n",
       "4  2019-08-05  A     756     "
      ]
     },
     "execution_count": 12,
     "metadata": {},
     "output_type": "execute_result"
    }
   ],
   "source": [
    "visitors.head()"
   ]
  },
  {
   "cell_type": "code",
   "execution_count": 13,
   "metadata": {},
   "outputs": [
    {
     "data": {
      "text/plain": [
       "0"
      ]
     },
     "execution_count": 13,
     "metadata": {},
     "output_type": "execute_result"
    }
   ],
   "source": [
    "#проверим наличие дубликатов\n",
    "visitors.duplicated().sum()"
   ]
  },
  {
   "cell_type": "code",
   "execution_count": 14,
   "metadata": {},
   "outputs": [
    {
     "name": "stdout",
     "output_type": "stream",
     "text": [
      "<class 'pandas.core.frame.DataFrame'>\n",
      "RangeIndex: 62 entries, 0 to 61\n",
      "Data columns (total 3 columns):\n",
      " #   Column    Non-Null Count  Dtype         \n",
      "---  ------    --------------  -----         \n",
      " 0   date      62 non-null     datetime64[ns]\n",
      " 1   group     62 non-null     object        \n",
      " 2   visitors  62 non-null     int64         \n",
      "dtypes: datetime64[ns](1), int64(1), object(1)\n",
      "memory usage: 1.6+ KB\n"
     ]
    }
   ],
   "source": [
    "# приобразуем формат столбца date из object в формат date \n",
    "visitors['date'] = pd.to_datetime(visitors['date'])\n",
    "visitors.info()"
   ]
  },
  {
   "cell_type": "markdown",
   "metadata": {},
   "source": [
    "### Вывод ###\n",
    "\n",
    "Представленные таблицы изучены, данные приведены к необходимому виду:\n",
    "\n",
    "1. В данных пропусков и дубликатов не обнаружено\n",
    "2. Преобразованы столбцы date в DF orders и visitors в формат даты\n",
    "3. Столбцы DF hypothesis приведены к нижнему регистру"
   ]
  },
  {
   "cell_type": "markdown",
   "metadata": {},
   "source": [
    "## Приоритизация гипотез ##"
   ]
  },
  {
   "cell_type": "markdown",
   "metadata": {},
   "source": [
    "### Фреймворк ICE ###"
   ]
  },
  {
   "cell_type": "code",
   "execution_count": 15,
   "metadata": {},
   "outputs": [
    {
     "data": {
      "text/html": [
       "<div>\n",
       "<style scoped>\n",
       "    .dataframe tbody tr th:only-of-type {\n",
       "        vertical-align: middle;\n",
       "    }\n",
       "\n",
       "    .dataframe tbody tr th {\n",
       "        vertical-align: top;\n",
       "    }\n",
       "\n",
       "    .dataframe thead th {\n",
       "        text-align: right;\n",
       "    }\n",
       "</style>\n",
       "<table border=\"1\" class=\"dataframe\">\n",
       "  <thead>\n",
       "    <tr style=\"text-align: right;\">\n",
       "      <th></th>\n",
       "      <th>hypothesis</th>\n",
       "      <th>ice</th>\n",
       "    </tr>\n",
       "  </thead>\n",
       "  <tbody>\n",
       "    <tr>\n",
       "      <th>8</th>\n",
       "      <td>Запустить акцию, дающую скидку на товар в день рождения</td>\n",
       "      <td>16.20</td>\n",
       "    </tr>\n",
       "    <tr>\n",
       "      <th>0</th>\n",
       "      <td>Добавить два новых канала привлечения трафика, что позволит привлекать на 30% больше пользователей</td>\n",
       "      <td>13.33</td>\n",
       "    </tr>\n",
       "    <tr>\n",
       "      <th>7</th>\n",
       "      <td>Добавить форму подписки на все основные страницы, чтобы собрать базу клиентов для email-рассылок</td>\n",
       "      <td>11.20</td>\n",
       "    </tr>\n",
       "    <tr>\n",
       "      <th>6</th>\n",
       "      <td>Показать на главной странице баннеры с актуальными акциями и распродажами, чтобы увеличить конверсию</td>\n",
       "      <td>8.00</td>\n",
       "    </tr>\n",
       "    <tr>\n",
       "      <th>2</th>\n",
       "      <td>Добавить блоки рекомендаций товаров на сайт интернет магазина, чтобы повысить конверсию и средний чек заказа</td>\n",
       "      <td>7.00</td>\n",
       "    </tr>\n",
       "    <tr>\n",
       "      <th>1</th>\n",
       "      <td>Запустить собственную службу доставки, что сократит срок доставки заказов</td>\n",
       "      <td>2.00</td>\n",
       "    </tr>\n",
       "    <tr>\n",
       "      <th>5</th>\n",
       "      <td>Добавить страницу отзывов клиентов о магазине, что позволит увеличить количество заказов</td>\n",
       "      <td>1.33</td>\n",
       "    </tr>\n",
       "    <tr>\n",
       "      <th>3</th>\n",
       "      <td>Изменить структура категорий, что увеличит конверсию, т.к. пользователи быстрее найдут нужный товар</td>\n",
       "      <td>1.12</td>\n",
       "    </tr>\n",
       "    <tr>\n",
       "      <th>4</th>\n",
       "      <td>Изменить цвет фона главной страницы, чтобы увеличить вовлеченность пользователей</td>\n",
       "      <td>1.00</td>\n",
       "    </tr>\n",
       "  </tbody>\n",
       "</table>\n",
       "</div>"
      ],
      "text/plain": [
       "                                                                                                     hypothesis  \\\n",
       "8  Запустить акцию, дающую скидку на товар в день рождения                                                        \n",
       "0  Добавить два новых канала привлечения трафика, что позволит привлекать на 30% больше пользователей             \n",
       "7  Добавить форму подписки на все основные страницы, чтобы собрать базу клиентов для email-рассылок               \n",
       "6  Показать на главной странице баннеры с актуальными акциями и распродажами, чтобы увеличить конверсию           \n",
       "2  Добавить блоки рекомендаций товаров на сайт интернет магазина, чтобы повысить конверсию и средний чек заказа   \n",
       "1  Запустить собственную службу доставки, что сократит срок доставки заказов                                      \n",
       "5  Добавить страницу отзывов клиентов о магазине, что позволит увеличить количество заказов                       \n",
       "3  Изменить структура категорий, что увеличит конверсию, т.к. пользователи быстрее найдут нужный товар            \n",
       "4  Изменить цвет фона главной страницы, чтобы увеличить вовлеченность пользователей                               \n",
       "\n",
       "    ice  \n",
       "8 16.20  \n",
       "0 13.33  \n",
       "7 11.20  \n",
       "6 8.00   \n",
       "2 7.00   \n",
       "1 2.00   \n",
       "5 1.33   \n",
       "3 1.12   \n",
       "4 1.00   "
      ]
     },
     "execution_count": 15,
     "metadata": {},
     "output_type": "execute_result"
    }
   ],
   "source": [
    "# расчитаем оценку каждой гипотезы в соответствии с фреймворком ICE\n",
    "# применим формулу расчета ICE = Impact * Confidence / Efforts\n",
    "# добавим столбец с оценкой округленной до 2 знака после точки\n",
    "hypothesis['ice'] = (hypothesis['impact'] * hypothesis['confidence'] / hypothesis['efforts']).round(2)\n",
    "hypothesis[['hypothesis','ice']].sort_values(by='ice', ascending=False)"
   ]
  },
  {
   "cell_type": "markdown",
   "metadata": {},
   "source": [
    "В пятерку лидеров вошли гипотезы с номерами 8, 0, 7, 6, 2. "
   ]
  },
  {
   "cell_type": "markdown",
   "metadata": {},
   "source": [
    "### Фреймворк RICE ###"
   ]
  },
  {
   "cell_type": "code",
   "execution_count": 16,
   "metadata": {},
   "outputs": [
    {
     "data": {
      "text/html": [
       "<div>\n",
       "<style scoped>\n",
       "    .dataframe tbody tr th:only-of-type {\n",
       "        vertical-align: middle;\n",
       "    }\n",
       "\n",
       "    .dataframe tbody tr th {\n",
       "        vertical-align: top;\n",
       "    }\n",
       "\n",
       "    .dataframe thead th {\n",
       "        text-align: right;\n",
       "    }\n",
       "</style>\n",
       "<table border=\"1\" class=\"dataframe\">\n",
       "  <thead>\n",
       "    <tr style=\"text-align: right;\">\n",
       "      <th></th>\n",
       "      <th>hypothesis</th>\n",
       "      <th>rice</th>\n",
       "    </tr>\n",
       "  </thead>\n",
       "  <tbody>\n",
       "    <tr>\n",
       "      <th>7</th>\n",
       "      <td>Добавить форму подписки на все основные страницы, чтобы собрать базу клиентов для email-рассылок</td>\n",
       "      <td>112.00</td>\n",
       "    </tr>\n",
       "    <tr>\n",
       "      <th>2</th>\n",
       "      <td>Добавить блоки рекомендаций товаров на сайт интернет магазина, чтобы повысить конверсию и средний чек заказа</td>\n",
       "      <td>56.00</td>\n",
       "    </tr>\n",
       "    <tr>\n",
       "      <th>0</th>\n",
       "      <td>Добавить два новых канала привлечения трафика, что позволит привлекать на 30% больше пользователей</td>\n",
       "      <td>40.00</td>\n",
       "    </tr>\n",
       "    <tr>\n",
       "      <th>6</th>\n",
       "      <td>Показать на главной странице баннеры с актуальными акциями и распродажами, чтобы увеличить конверсию</td>\n",
       "      <td>40.00</td>\n",
       "    </tr>\n",
       "    <tr>\n",
       "      <th>8</th>\n",
       "      <td>Запустить акцию, дающую скидку на товар в день рождения</td>\n",
       "      <td>16.20</td>\n",
       "    </tr>\n",
       "    <tr>\n",
       "      <th>3</th>\n",
       "      <td>Изменить структура категорий, что увеличит конверсию, т.к. пользователи быстрее найдут нужный товар</td>\n",
       "      <td>9.00</td>\n",
       "    </tr>\n",
       "    <tr>\n",
       "      <th>1</th>\n",
       "      <td>Запустить собственную службу доставки, что сократит срок доставки заказов</td>\n",
       "      <td>4.00</td>\n",
       "    </tr>\n",
       "    <tr>\n",
       "      <th>5</th>\n",
       "      <td>Добавить страницу отзывов клиентов о магазине, что позволит увеличить количество заказов</td>\n",
       "      <td>4.00</td>\n",
       "    </tr>\n",
       "    <tr>\n",
       "      <th>4</th>\n",
       "      <td>Изменить цвет фона главной страницы, чтобы увеличить вовлеченность пользователей</td>\n",
       "      <td>3.00</td>\n",
       "    </tr>\n",
       "  </tbody>\n",
       "</table>\n",
       "</div>"
      ],
      "text/plain": [
       "                                                                                                     hypothesis  \\\n",
       "7  Добавить форму подписки на все основные страницы, чтобы собрать базу клиентов для email-рассылок               \n",
       "2  Добавить блоки рекомендаций товаров на сайт интернет магазина, чтобы повысить конверсию и средний чек заказа   \n",
       "0  Добавить два новых канала привлечения трафика, что позволит привлекать на 30% больше пользователей             \n",
       "6  Показать на главной странице баннеры с актуальными акциями и распродажами, чтобы увеличить конверсию           \n",
       "8  Запустить акцию, дающую скидку на товар в день рождения                                                        \n",
       "3  Изменить структура категорий, что увеличит конверсию, т.к. пользователи быстрее найдут нужный товар            \n",
       "1  Запустить собственную службу доставки, что сократит срок доставки заказов                                      \n",
       "5  Добавить страницу отзывов клиентов о магазине, что позволит увеличить количество заказов                       \n",
       "4  Изменить цвет фона главной страницы, чтобы увеличить вовлеченность пользователей                               \n",
       "\n",
       "    rice  \n",
       "7 112.00  \n",
       "2 56.00   \n",
       "0 40.00   \n",
       "6 40.00   \n",
       "8 16.20   \n",
       "3 9.00    \n",
       "1 4.00    \n",
       "5 4.00    \n",
       "4 3.00    "
      ]
     },
     "execution_count": 16,
     "metadata": {},
     "output_type": "execute_result"
    }
   ],
   "source": [
    "# расчитаем оценку каждой гипотезы в соответствии с фреймворком RICE\n",
    "# применим формулу расчета RICE = Reach * Impact * Confidence / Efforts\n",
    "# добавим столбец с оценкой округленной до 2 знака после точки\n",
    "hypothesis['rice'] = (hypothesis['reach'] * hypothesis['impact'] * hypothesis['confidence'] / hypothesis['efforts']).round(2)\n",
    "hypothesis[['hypothesis','rice']].sort_values(by='rice', ascending=False)"
   ]
  },
  {
   "cell_type": "markdown",
   "metadata": {},
   "source": [
    "Пятерка лидеров состоит из тех же гипотез, но в другом порядке - 7, 2, 0, 6, 8."
   ]
  },
  {
   "cell_type": "code",
   "execution_count": 17,
   "metadata": {},
   "outputs": [
    {
     "data": {
      "text/html": [
       "<div>\n",
       "<style scoped>\n",
       "    .dataframe tbody tr th:only-of-type {\n",
       "        vertical-align: middle;\n",
       "    }\n",
       "\n",
       "    .dataframe tbody tr th {\n",
       "        vertical-align: top;\n",
       "    }\n",
       "\n",
       "    .dataframe thead th {\n",
       "        text-align: right;\n",
       "    }\n",
       "</style>\n",
       "<table border=\"1\" class=\"dataframe\">\n",
       "  <thead>\n",
       "    <tr style=\"text-align: right;\">\n",
       "      <th></th>\n",
       "      <th>hypothesis</th>\n",
       "      <th>reach</th>\n",
       "      <th>impact</th>\n",
       "      <th>confidence</th>\n",
       "      <th>efforts</th>\n",
       "      <th>ice</th>\n",
       "      <th>rice</th>\n",
       "      <th>ice_rank</th>\n",
       "      <th>rice_rank</th>\n",
       "    </tr>\n",
       "  </thead>\n",
       "  <tbody>\n",
       "    <tr>\n",
       "      <th>8</th>\n",
       "      <td>Запустить акцию, дающую скидку на товар в день рождения</td>\n",
       "      <td>1</td>\n",
       "      <td>9</td>\n",
       "      <td>9</td>\n",
       "      <td>5</td>\n",
       "      <td>16.20</td>\n",
       "      <td>16.20</td>\n",
       "      <td>1</td>\n",
       "      <td>5</td>\n",
       "    </tr>\n",
       "    <tr>\n",
       "      <th>0</th>\n",
       "      <td>Добавить два новых канала привлечения трафика, что позволит привлекать на 30% больше пользователей</td>\n",
       "      <td>3</td>\n",
       "      <td>10</td>\n",
       "      <td>8</td>\n",
       "      <td>6</td>\n",
       "      <td>13.33</td>\n",
       "      <td>40.00</td>\n",
       "      <td>2</td>\n",
       "      <td>3</td>\n",
       "    </tr>\n",
       "    <tr>\n",
       "      <th>7</th>\n",
       "      <td>Добавить форму подписки на все основные страницы, чтобы собрать базу клиентов для email-рассылок</td>\n",
       "      <td>10</td>\n",
       "      <td>7</td>\n",
       "      <td>8</td>\n",
       "      <td>5</td>\n",
       "      <td>11.20</td>\n",
       "      <td>112.00</td>\n",
       "      <td>3</td>\n",
       "      <td>1</td>\n",
       "    </tr>\n",
       "    <tr>\n",
       "      <th>6</th>\n",
       "      <td>Показать на главной странице баннеры с актуальными акциями и распродажами, чтобы увеличить конверсию</td>\n",
       "      <td>5</td>\n",
       "      <td>3</td>\n",
       "      <td>8</td>\n",
       "      <td>3</td>\n",
       "      <td>8.00</td>\n",
       "      <td>40.00</td>\n",
       "      <td>4</td>\n",
       "      <td>3</td>\n",
       "    </tr>\n",
       "    <tr>\n",
       "      <th>2</th>\n",
       "      <td>Добавить блоки рекомендаций товаров на сайт интернет магазина, чтобы повысить конверсию и средний чек заказа</td>\n",
       "      <td>8</td>\n",
       "      <td>3</td>\n",
       "      <td>7</td>\n",
       "      <td>3</td>\n",
       "      <td>7.00</td>\n",
       "      <td>56.00</td>\n",
       "      <td>5</td>\n",
       "      <td>2</td>\n",
       "    </tr>\n",
       "    <tr>\n",
       "      <th>1</th>\n",
       "      <td>Запустить собственную службу доставки, что сократит срок доставки заказов</td>\n",
       "      <td>2</td>\n",
       "      <td>5</td>\n",
       "      <td>4</td>\n",
       "      <td>10</td>\n",
       "      <td>2.00</td>\n",
       "      <td>4.00</td>\n",
       "      <td>6</td>\n",
       "      <td>7</td>\n",
       "    </tr>\n",
       "    <tr>\n",
       "      <th>5</th>\n",
       "      <td>Добавить страницу отзывов клиентов о магазине, что позволит увеличить количество заказов</td>\n",
       "      <td>3</td>\n",
       "      <td>2</td>\n",
       "      <td>2</td>\n",
       "      <td>3</td>\n",
       "      <td>1.33</td>\n",
       "      <td>4.00</td>\n",
       "      <td>7</td>\n",
       "      <td>7</td>\n",
       "    </tr>\n",
       "    <tr>\n",
       "      <th>3</th>\n",
       "      <td>Изменить структура категорий, что увеличит конверсию, т.к. пользователи быстрее найдут нужный товар</td>\n",
       "      <td>8</td>\n",
       "      <td>3</td>\n",
       "      <td>3</td>\n",
       "      <td>8</td>\n",
       "      <td>1.12</td>\n",
       "      <td>9.00</td>\n",
       "      <td>8</td>\n",
       "      <td>6</td>\n",
       "    </tr>\n",
       "    <tr>\n",
       "      <th>4</th>\n",
       "      <td>Изменить цвет фона главной страницы, чтобы увеличить вовлеченность пользователей</td>\n",
       "      <td>3</td>\n",
       "      <td>1</td>\n",
       "      <td>1</td>\n",
       "      <td>1</td>\n",
       "      <td>1.00</td>\n",
       "      <td>3.00</td>\n",
       "      <td>9</td>\n",
       "      <td>9</td>\n",
       "    </tr>\n",
       "  </tbody>\n",
       "</table>\n",
       "</div>"
      ],
      "text/plain": [
       "                                                                                                     hypothesis  \\\n",
       "8  Запустить акцию, дающую скидку на товар в день рождения                                                        \n",
       "0  Добавить два новых канала привлечения трафика, что позволит привлекать на 30% больше пользователей             \n",
       "7  Добавить форму подписки на все основные страницы, чтобы собрать базу клиентов для email-рассылок               \n",
       "6  Показать на главной странице баннеры с актуальными акциями и распродажами, чтобы увеличить конверсию           \n",
       "2  Добавить блоки рекомендаций товаров на сайт интернет магазина, чтобы повысить конверсию и средний чек заказа   \n",
       "1  Запустить собственную службу доставки, что сократит срок доставки заказов                                      \n",
       "5  Добавить страницу отзывов клиентов о магазине, что позволит увеличить количество заказов                       \n",
       "3  Изменить структура категорий, что увеличит конверсию, т.к. пользователи быстрее найдут нужный товар            \n",
       "4  Изменить цвет фона главной страницы, чтобы увеличить вовлеченность пользователей                               \n",
       "\n",
       "   reach  impact  confidence  efforts   ice   rice  ice_rank  rice_rank  \n",
       "8  1      9       9           5       16.20 16.20   1         5          \n",
       "0  3      10      8           6       13.33 40.00   2         3          \n",
       "7  10     7       8           5       11.20 112.00  3         1          \n",
       "6  5      3       8           3       8.00  40.00   4         3          \n",
       "2  8      3       7           3       7.00  56.00   5         2          \n",
       "1  2      5       4           10      2.00  4.00    6         7          \n",
       "5  3      2       2           3       1.33  4.00    7         7          \n",
       "3  8      3       3           8       1.12  9.00    8         6          \n",
       "4  3      1       1           1       1.00  3.00    9         9          "
      ]
     },
     "execution_count": 17,
     "metadata": {},
     "output_type": "execute_result"
    }
   ],
   "source": [
    "# скомпонуем общую таблицу с фреймворками\n",
    "hypothesis['ice_rank'] = hypothesis['ice'].rank(ascending=False).astype('int')\n",
    "hypothesis['rice_rank'] = hypothesis['rice'].rank(ascending=False).astype('int')\n",
    "hypothesis.sort_values(by='ice', ascending=False)"
   ]
  },
  {
   "cell_type": "markdown",
   "metadata": {},
   "source": [
    "### Вывод ###\n",
    "\n",
    "1. Видим смещение с 1 места на 5 гипотезы \"Запустить акцию, дающую скидку на товар в день рождения\"  после добавления в расчет параметра reach (охват пользователей = 1) не смотря на высокие оценки на эффекта от изменения (impact =9) и уверенность в гипотезе (confidence=9). \n",
    "2. Второе смещение вниз с 2 на 3 место у гипотезы \"Добавить два новых канала привлечения трафика, что позволит привлекать на 30% больше пользователей\", т.к. охват пользователей оценивается в 3 баллка из 10 (что говорит о неуверенности в охвате большой аудитории пользователе - 30%).\n",
    "3. Гипотезы с 6 по 9 место по ice_rank после добавления в расчет параметра охвата пользователей не поднялись выше 6 места т.к. совокупность 4 параметров в формуле расчета RICE не дает резкого увеличения результата.\n",
    "4. На 3 место с 4 перемещается гипотеза \"Показать на главной странице баннеры с актуальными акциями и распродажами, чтобы увеличить конверсию\" - это связано с высокой оценкой охвата пользователей, низким уровнем затрат на реализацию задуманного и высокой уверенностью в гипотезе.\n",
    "5. На 2 место с 5 поднимается гипотеза \"Добавить блоки рекомендаций товаров на сайт интернет магазина, чтобы повысить конверсию и средний чек заказа\" из-за оценки охвата пользователей в 8 балов при низком значении делителя (efforts=8).\n",
    "6. Первое место с 2-х кратным отрывом от всех занимает гипотеза \"Добавить форму подписки на все основные страницы, чтобы собрать базу клиентов для email-рассылок\" - охватим всех пользователей кто получает рассылку, с высоким уровнем влияния на пльзователя и уверенности в гипотезе при среднем уровне затрат на реализацию. "
   ]
  },
  {
   "cell_type": "markdown",
   "metadata": {},
   "source": [
    "## Анализ А/В теста ##"
   ]
  },
  {
   "cell_type": "markdown",
   "metadata": {},
   "source": [
    "Проверим наличие пользователей в обейх группах теста."
   ]
  },
  {
   "cell_type": "code",
   "execution_count": 18,
   "metadata": {},
   "outputs": [
    {
     "name": "stdout",
     "output_type": "stream",
     "text": [
      "Количество заказов в группах: 2580278798479\n",
      "Выручка от заказов в группах: 9992563\n"
     ]
    }
   ],
   "source": [
    "orders.head()\n",
    "print(f\"Количество заказов в группах: {orders[orders.group != 1]['transactionId'].sum()}\")\n",
    "print(f\"Выручка от заказов в группах: {orders[orders.group != 1]['revenue'].sum()}\")"
   ]
  },
  {
   "cell_type": "code",
   "execution_count": 19,
   "metadata": {},
   "outputs": [
    {
     "name": "stdout",
     "output_type": "stream",
     "text": [
      "Количество дублей в группах: 58\n",
      "Количество заказов дублей в группах: 181\n",
      "Выручка от заказов дублей в группах: 1558935\n"
     ]
    }
   ],
   "source": [
    "duplicate = orders.groupby(['visitorId']).agg({'group':'nunique', 'transactionId':'count', 'revenue':'sum'}).reset_index()\n",
    "print(f\"Количество дублей в группах: {duplicate[duplicate.group != 1]['visitorId'].count()}\")\n",
    "print(f\"Количество заказов дублей в группах: {duplicate[duplicate.group != 1]['transactionId'].sum()}\")\n",
    "print(f\"Выручка от заказов дублей в группах: {duplicate[duplicate.group != 1]['revenue'].sum()}\")"
   ]
  },
  {
   "cell_type": "markdown",
   "metadata": {},
   "source": [
    "Так как пользователь совершили покупки на обеих версиях приложения и их данные составляют менее 0,0001 от общего исследуемого параметра то можем удалить данные дубли."
   ]
  },
  {
   "cell_type": "code",
   "execution_count": 20,
   "metadata": {},
   "outputs": [
    {
     "name": "stdout",
     "output_type": "stream",
     "text": [
      "<class 'pandas.core.frame.DataFrame'>\n",
      "Int64Index: 1016 entries, 0 to 1196\n",
      "Data columns (total 5 columns):\n",
      " #   Column         Non-Null Count  Dtype         \n",
      "---  ------         --------------  -----         \n",
      " 0   transactionId  1016 non-null   int64         \n",
      " 1   visitorId      1016 non-null   int64         \n",
      " 2   date           1016 non-null   datetime64[ns]\n",
      " 3   revenue        1016 non-null   int64         \n",
      " 4   group          1016 non-null   object        \n",
      "dtypes: datetime64[ns](1), int64(3), object(1)\n",
      "memory usage: 47.6+ KB\n"
     ]
    }
   ],
   "source": [
    "# удавяем дубликаты из DF \n",
    "new_duplicate = list(duplicate[duplicate.group != 1]['visitorId'])\n",
    "orders = orders.query('visitorId not in @new_duplicate')\n",
    "orders.info()"
   ]
  },
  {
   "cell_type": "markdown",
   "metadata": {},
   "source": [
    "### Построим график кумулятивной выручки по группам. ###"
   ]
  },
  {
   "cell_type": "code",
   "execution_count": 21,
   "metadata": {},
   "outputs": [
    {
     "data": {
      "text/html": [
       "<div>\n",
       "<style scoped>\n",
       "    .dataframe tbody tr th:only-of-type {\n",
       "        vertical-align: middle;\n",
       "    }\n",
       "\n",
       "    .dataframe tbody tr th {\n",
       "        vertical-align: top;\n",
       "    }\n",
       "\n",
       "    .dataframe thead th {\n",
       "        text-align: right;\n",
       "    }\n",
       "</style>\n",
       "<table border=\"1\" class=\"dataframe\">\n",
       "  <thead>\n",
       "    <tr style=\"text-align: right;\">\n",
       "      <th></th>\n",
       "      <th>transactionId</th>\n",
       "      <th>visitorId</th>\n",
       "      <th>date</th>\n",
       "      <th>revenue</th>\n",
       "      <th>group</th>\n",
       "    </tr>\n",
       "  </thead>\n",
       "  <tbody>\n",
       "    <tr>\n",
       "      <th>0</th>\n",
       "      <td>3667963787</td>\n",
       "      <td>3312258926</td>\n",
       "      <td>2019-08-15</td>\n",
       "      <td>1650</td>\n",
       "      <td>B</td>\n",
       "    </tr>\n",
       "    <tr>\n",
       "      <th>1</th>\n",
       "      <td>2804400009</td>\n",
       "      <td>3642806036</td>\n",
       "      <td>2019-08-15</td>\n",
       "      <td>730</td>\n",
       "      <td>B</td>\n",
       "    </tr>\n",
       "    <tr>\n",
       "      <th>3</th>\n",
       "      <td>3797467345</td>\n",
       "      <td>1196621759</td>\n",
       "      <td>2019-08-15</td>\n",
       "      <td>9759</td>\n",
       "      <td>B</td>\n",
       "    </tr>\n",
       "    <tr>\n",
       "      <th>4</th>\n",
       "      <td>2282983706</td>\n",
       "      <td>2322279887</td>\n",
       "      <td>2019-08-15</td>\n",
       "      <td>2308</td>\n",
       "      <td>B</td>\n",
       "    </tr>\n",
       "    <tr>\n",
       "      <th>5</th>\n",
       "      <td>182168103</td>\n",
       "      <td>935554773</td>\n",
       "      <td>2019-08-15</td>\n",
       "      <td>2210</td>\n",
       "      <td>B</td>\n",
       "    </tr>\n",
       "  </tbody>\n",
       "</table>\n",
       "</div>"
      ],
      "text/plain": [
       "   transactionId   visitorId       date  revenue group\n",
       "0  3667963787     3312258926 2019-08-15  1650     B   \n",
       "1  2804400009     3642806036 2019-08-15  730      B   \n",
       "3  3797467345     1196621759 2019-08-15  9759     B   \n",
       "4  2282983706     2322279887 2019-08-15  2308     B   \n",
       "5  182168103      935554773  2019-08-15  2210     B   "
      ]
     },
     "execution_count": 21,
     "metadata": {},
     "output_type": "execute_result"
    }
   ],
   "source": [
    "orders.head()"
   ]
  },
  {
   "cell_type": "code",
   "execution_count": 22,
   "metadata": {},
   "outputs": [
    {
     "data": {
      "text/html": [
       "<div>\n",
       "<style scoped>\n",
       "    .dataframe tbody tr th:only-of-type {\n",
       "        vertical-align: middle;\n",
       "    }\n",
       "\n",
       "    .dataframe tbody tr th {\n",
       "        vertical-align: top;\n",
       "    }\n",
       "\n",
       "    .dataframe thead th {\n",
       "        text-align: right;\n",
       "    }\n",
       "</style>\n",
       "<table border=\"1\" class=\"dataframe\">\n",
       "  <thead>\n",
       "    <tr style=\"text-align: right;\">\n",
       "      <th></th>\n",
       "      <th>date</th>\n",
       "      <th>group</th>\n",
       "    </tr>\n",
       "  </thead>\n",
       "  <tbody>\n",
       "    <tr>\n",
       "      <th>0</th>\n",
       "      <td>2019-08-15</td>\n",
       "      <td>B</td>\n",
       "    </tr>\n",
       "    <tr>\n",
       "      <th>7</th>\n",
       "      <td>2019-08-15</td>\n",
       "      <td>A</td>\n",
       "    </tr>\n",
       "    <tr>\n",
       "      <th>45</th>\n",
       "      <td>2019-08-16</td>\n",
       "      <td>A</td>\n",
       "    </tr>\n",
       "    <tr>\n",
       "      <th>47</th>\n",
       "      <td>2019-08-16</td>\n",
       "      <td>B</td>\n",
       "    </tr>\n",
       "    <tr>\n",
       "      <th>55</th>\n",
       "      <td>2019-08-01</td>\n",
       "      <td>A</td>\n",
       "    </tr>\n",
       "    <tr>\n",
       "      <th>...</th>\n",
       "      <td>...</td>\n",
       "      <td>...</td>\n",
       "    </tr>\n",
       "    <tr>\n",
       "      <th>1068</th>\n",
       "      <td>2019-08-12</td>\n",
       "      <td>A</td>\n",
       "    </tr>\n",
       "    <tr>\n",
       "      <th>1114</th>\n",
       "      <td>2019-08-13</td>\n",
       "      <td>B</td>\n",
       "    </tr>\n",
       "    <tr>\n",
       "      <th>1116</th>\n",
       "      <td>2019-08-13</td>\n",
       "      <td>A</td>\n",
       "    </tr>\n",
       "    <tr>\n",
       "      <th>1149</th>\n",
       "      <td>2019-08-14</td>\n",
       "      <td>B</td>\n",
       "    </tr>\n",
       "    <tr>\n",
       "      <th>1150</th>\n",
       "      <td>2019-08-14</td>\n",
       "      <td>A</td>\n",
       "    </tr>\n",
       "  </tbody>\n",
       "</table>\n",
       "<p>62 rows × 2 columns</p>\n",
       "</div>"
      ],
      "text/plain": [
       "           date group\n",
       "0    2019-08-15  B   \n",
       "7    2019-08-15  A   \n",
       "45   2019-08-16  A   \n",
       "47   2019-08-16  B   \n",
       "55   2019-08-01  A   \n",
       "...         ... ..   \n",
       "1068 2019-08-12  A   \n",
       "1114 2019-08-13  B   \n",
       "1116 2019-08-13  A   \n",
       "1149 2019-08-14  B   \n",
       "1150 2019-08-14  A   \n",
       "\n",
       "[62 rows x 2 columns]"
      ]
     },
     "execution_count": 22,
     "metadata": {},
     "output_type": "execute_result"
    }
   ],
   "source": [
    "# создадим DF с 2 столбцами date, group\n",
    "datesGroups = orders[['date', 'group']].drop_duplicates()\n",
    "datesGroups"
   ]
  },
  {
   "cell_type": "code",
   "execution_count": 23,
   "metadata": {},
   "outputs": [],
   "source": [
    "# получаем агрегированные кумулятивные данные по дням о заказах \n",
    "ordersAggregated = datesGroups.apply(lambda x: orders[np.logical_and(\\\n",
    "                   orders['date'] <= x['date'], orders['group'] == x['group'])].agg({\\\n",
    "                    'date':'max', 'group':'max', 'transactionId': pd.Series.nunique, 'visitorId': pd.Series.nunique,\\\n",
    "                    'revenue': 'sum'}), axis=1).sort_values(by=['date', 'group'])"
   ]
  },
  {
   "cell_type": "code",
   "execution_count": 24,
   "metadata": {},
   "outputs": [
    {
     "data": {
      "text/html": [
       "<div>\n",
       "<style scoped>\n",
       "    .dataframe tbody tr th:only-of-type {\n",
       "        vertical-align: middle;\n",
       "    }\n",
       "\n",
       "    .dataframe tbody tr th {\n",
       "        vertical-align: top;\n",
       "    }\n",
       "\n",
       "    .dataframe thead th {\n",
       "        text-align: right;\n",
       "    }\n",
       "</style>\n",
       "<table border=\"1\" class=\"dataframe\">\n",
       "  <thead>\n",
       "    <tr style=\"text-align: right;\">\n",
       "      <th></th>\n",
       "      <th>date</th>\n",
       "      <th>group</th>\n",
       "      <th>transactionId</th>\n",
       "      <th>visitorId</th>\n",
       "      <th>revenue</th>\n",
       "    </tr>\n",
       "  </thead>\n",
       "  <tbody>\n",
       "    <tr>\n",
       "      <th>55</th>\n",
       "      <td>2019-08-01</td>\n",
       "      <td>A</td>\n",
       "      <td>23</td>\n",
       "      <td>19</td>\n",
       "      <td>142779</td>\n",
       "    </tr>\n",
       "    <tr>\n",
       "      <th>66</th>\n",
       "      <td>2019-08-01</td>\n",
       "      <td>B</td>\n",
       "      <td>17</td>\n",
       "      <td>17</td>\n",
       "      <td>59758</td>\n",
       "    </tr>\n",
       "    <tr>\n",
       "      <th>175</th>\n",
       "      <td>2019-08-02</td>\n",
       "      <td>A</td>\n",
       "      <td>42</td>\n",
       "      <td>36</td>\n",
       "      <td>234381</td>\n",
       "    </tr>\n",
       "    <tr>\n",
       "      <th>173</th>\n",
       "      <td>2019-08-02</td>\n",
       "      <td>B</td>\n",
       "      <td>40</td>\n",
       "      <td>39</td>\n",
       "      <td>221801</td>\n",
       "    </tr>\n",
       "    <tr>\n",
       "      <th>291</th>\n",
       "      <td>2019-08-03</td>\n",
       "      <td>A</td>\n",
       "      <td>66</td>\n",
       "      <td>60</td>\n",
       "      <td>346854</td>\n",
       "    </tr>\n",
       "    <tr>\n",
       "      <th>...</th>\n",
       "      <td>...</td>\n",
       "      <td>...</td>\n",
       "      <td>...</td>\n",
       "      <td>...</td>\n",
       "      <td>...</td>\n",
       "    </tr>\n",
       "    <tr>\n",
       "      <th>533</th>\n",
       "      <td>2019-08-29</td>\n",
       "      <td>B</td>\n",
       "      <td>510</td>\n",
       "      <td>490</td>\n",
       "      <td>4746610</td>\n",
       "    </tr>\n",
       "    <tr>\n",
       "      <th>757</th>\n",
       "      <td>2019-08-30</td>\n",
       "      <td>A</td>\n",
       "      <td>460</td>\n",
       "      <td>437</td>\n",
       "      <td>3311413</td>\n",
       "    </tr>\n",
       "    <tr>\n",
       "      <th>690</th>\n",
       "      <td>2019-08-30</td>\n",
       "      <td>B</td>\n",
       "      <td>531</td>\n",
       "      <td>511</td>\n",
       "      <td>4955833</td>\n",
       "    </tr>\n",
       "    <tr>\n",
       "      <th>958</th>\n",
       "      <td>2019-08-31</td>\n",
       "      <td>A</td>\n",
       "      <td>468</td>\n",
       "      <td>445</td>\n",
       "      <td>3364656</td>\n",
       "    </tr>\n",
       "    <tr>\n",
       "      <th>930</th>\n",
       "      <td>2019-08-31</td>\n",
       "      <td>B</td>\n",
       "      <td>548</td>\n",
       "      <td>528</td>\n",
       "      <td>5068972</td>\n",
       "    </tr>\n",
       "  </tbody>\n",
       "</table>\n",
       "<p>62 rows × 5 columns</p>\n",
       "</div>"
      ],
      "text/plain": [
       "          date group  transactionId  visitorId  revenue\n",
       "55  2019-08-01  A     23             19         142779 \n",
       "66  2019-08-01  B     17             17         59758  \n",
       "175 2019-08-02  A     42             36         234381 \n",
       "173 2019-08-02  B     40             39         221801 \n",
       "291 2019-08-03  A     66             60         346854 \n",
       "..         ... ..     ..             ..            ... \n",
       "533 2019-08-29  B     510            490        4746610\n",
       "757 2019-08-30  A     460            437        3311413\n",
       "690 2019-08-30  B     531            511        4955833\n",
       "958 2019-08-31  A     468            445        3364656\n",
       "930 2019-08-31  B     548            528        5068972\n",
       "\n",
       "[62 rows x 5 columns]"
      ]
     },
     "execution_count": 24,
     "metadata": {},
     "output_type": "execute_result"
    }
   ],
   "source": [
    "ordersAggregated"
   ]
  },
  {
   "cell_type": "code",
   "execution_count": 25,
   "metadata": {},
   "outputs": [
    {
     "data": {
      "image/png": "[encoded data removed]",
      "text/plain": [
       "<Figure size 1080x360 with 1 Axes>"
      ]
     },
     "metadata": {
      "needs_background": "light"
     },
     "output_type": "display_data"
    }
   ],
   "source": [
    "# построим график динамики изменения кумулятивной выручки по дате и группам А/В тестирования\n",
    "plt.figure(figsize=(15,5))\n",
    "plt.title('Динамика кумулятивной выручки по дате и группам тестирования')\n",
    "plt.xlabel('Дата', fontsize=10)\n",
    "plt.ylabel('Сумма', fontsize=10)\n",
    "plt.plot(ordersAggregated[ordersAggregated['group'] == 'A']['date'],\\\n",
    "         ordersAggregated[ordersAggregated['group'] == 'A']['revenue'], label='Группа А')\n",
    "plt.plot(ordersAggregated[ordersAggregated['group'] == 'B']['date'],\\\n",
    "         ordersAggregated[ordersAggregated['group'] == 'B']['revenue'], label='Группа В')\n",
    "plt.legend()\n",
    "plt.show()"
   ]
  },
  {
   "cell_type": "markdown",
   "metadata": {},
   "source": [
    "***Вывод***\n",
    "\n",
    "Выручки в группах непрерывно растут. Выручка от группы В на протяжении всего периода теста имеет незначительное превышение над выручкой группы А.\n",
    "Скачок выручки 17.08.2019 группы В необходимо рассмотреть отдельно (это может быть большой заказ на сумму превышающую среднюю, рекламная акция в этот день а в группе был заинтересованный пользователь и т.д.). "
   ]
  },
  {
   "cell_type": "markdown",
   "metadata": {},
   "source": [
    "### График кумулятивного среднего чека по группам теста ###"
   ]
  },
  {
   "cell_type": "code",
   "execution_count": 26,
   "metadata": {},
   "outputs": [
    {
     "data": {
      "image/png": "[encoded data removed]",
      "text/plain": [
       "<Figure size 1080x360 with 1 Axes>"
      ]
     },
     "metadata": {
      "needs_background": "light"
     },
     "output_type": "display_data"
    }
   ],
   "source": [
    "# Простроим график изменения среднего чека\n",
    "plt.figure(figsize=(15,5))\n",
    "plt.title('Динамика кумулятивного среднего чека')\n",
    "plt.xlabel('Дата', fontsize=10)\n",
    "plt.ylabel('Сумма', fontsize=10)\n",
    "plt.plot(ordersAggregated[ordersAggregated['group'] == 'A']['date'],\\\n",
    "         ordersAggregated[ordersAggregated['group'] == 'A']['revenue']\\\n",
    "         / ordersAggregated[ordersAggregated['group'] == 'A']['transactionId'], label='Группа А')\n",
    "\n",
    "plt.plot(ordersAggregated[ordersAggregated['group'] == 'B']['date'],\\\n",
    "         ordersAggregated[ordersAggregated['group'] == 'B']['revenue']\\\n",
    "         / ordersAggregated[ordersAggregated['group'] == 'B']['transactionId'], label='Группа В')\n",
    "plt.legend()\n",
    "plt.show()"
   ]
  },
  {
   "cell_type": "markdown",
   "metadata": {},
   "source": [
    "***Вывод***\n",
    "\n",
    "1. В начале теста в течении 5 дней имеет рост чека группы В с незначительным снижением 4.08 и падение размера чека группы А до 6.08.  \n",
    "2. С 6.08 средний чек группы А в течении 5 дней имеет такой же по количеству рост как и у группы В с 1.08 по 7.08 и тоже протяженностью 7 дней. Предположим какое то событие отложило покупки группы А на 5 дней.\n",
    "3. 17.08.2017 происходит резкий рост среднего чека группы В с 7000 до 10000 y.е - возможные причины такого роста - пришли новые клиенты, крупный заказ.\n",
    "4. В оставшийся период с 17 по 31.08 наблюдаем движение чека группы А в сторону незначительного роста и такое же движение чека группы В в сторону снижения. С течением времени средний чек группы В должен стабилизироваться возле реального среднего чека."
   ]
  },
  {
   "cell_type": "markdown",
   "metadata": {},
   "source": [
    "### График относительного изменения кумулятивного среднего чека группы В к группе А ###"
   ]
  },
  {
   "cell_type": "code",
   "execution_count": 27,
   "metadata": {},
   "outputs": [
    {
     "data": {
      "image/png": "[encoded data removed]",
      "text/plain": [
       "<Figure size 1080x360 with 1 Axes>"
      ]
     },
     "metadata": {
      "needs_background": "light"
     },
     "output_type": "display_data"
    }
   ],
   "source": [
    "# создадим датафрейм с кумулятивными данными для обеих групп\n",
    "cumulativeRevenueA = ordersAggregated[ordersAggregated['group'] == 'A'][['date', 'revenue', 'transactionId']]\n",
    "cumulativeRevenueB = ordersAggregated[ordersAggregated['group'] == 'B'][['date', 'revenue', 'transactionId']]\n",
    "cumulative_revenue = cumulativeRevenueA.merge(cumulativeRevenueB, on='date', how='left', suffixes=['A','B'])\n",
    "# строим отношение средних чеков\n",
    "plt.figure(figsize=(15,5))\n",
    "plt.title('Отношение кумулятивного среднего чека группы В к группе А')\n",
    "plt.plot(cumulative_revenue['date'],\\\n",
    "         ((cumulative_revenue['revenueB'] / cumulative_revenue['transactionIdB'])/\\\n",
    "         (cumulative_revenue['revenueA'] / cumulative_revenue['transactionIdA']) -1))\n",
    "plt.xlabel('Дата')\n",
    "plt.ylabel('Отношение чека')\n",
    "# Добавляем ось Х\n",
    "plt.axhline(y=0, color='black', linestyle='--')\n",
    "plt.show()"
   ]
  },
  {
   "cell_type": "markdown",
   "metadata": {},
   "source": [
    "***Вывод***\n",
    "\n",
    "Рост чека группы В в начале теста с 1 по 4.08 скорее всего обусловлено привлечением внимания пользователей при введении какого-то обновления. Дальше чек подрос и начал снижение где 11.08 пересек нулевую линию . С 13.08 начинается рост отношения чека В группы к чеку А группы и 17.08 проходит аномальный рост с плавным снижением в дальнейшем - вероятно надо проанализровать аномальность в данных."
   ]
  },
  {
   "cell_type": "markdown",
   "metadata": {},
   "source": [
    "### График кумулятивного среднего количества заказов на посетителя по группам ###"
   ]
  },
  {
   "cell_type": "code",
   "execution_count": 28,
   "metadata": {},
   "outputs": [],
   "source": [
    "# формируем DF с кумулятивными данными по посетитедлям\n",
    "visitorsAggregated = datesGroups.apply(\\\n",
    "            lambda x: visitors[np.logical_and(visitors['date'] <= x['date'],\\\n",
    "                                              visitors['group'] == x['group'])\\\n",
    "                              ].agg({'date': 'max', 'group': 'max', 'visitors': 'sum'}),\\\n",
    "                                     axis=1).sort_values(by=['date', 'group'])"
   ]
  },
  {
   "cell_type": "code",
   "execution_count": 29,
   "metadata": {},
   "outputs": [
    {
     "data": {
      "text/html": [
       "<div>\n",
       "<style scoped>\n",
       "    .dataframe tbody tr th:only-of-type {\n",
       "        vertical-align: middle;\n",
       "    }\n",
       "\n",
       "    .dataframe tbody tr th {\n",
       "        vertical-align: top;\n",
       "    }\n",
       "\n",
       "    .dataframe thead th {\n",
       "        text-align: right;\n",
       "    }\n",
       "</style>\n",
       "<table border=\"1\" class=\"dataframe\">\n",
       "  <thead>\n",
       "    <tr style=\"text-align: right;\">\n",
       "      <th></th>\n",
       "      <th>date</th>\n",
       "      <th>group</th>\n",
       "      <th>transactionId</th>\n",
       "      <th>visitorId</th>\n",
       "      <th>revenue</th>\n",
       "      <th>visitors</th>\n",
       "    </tr>\n",
       "  </thead>\n",
       "  <tbody>\n",
       "    <tr>\n",
       "      <th>0</th>\n",
       "      <td>2019-08-01</td>\n",
       "      <td>A</td>\n",
       "      <td>23</td>\n",
       "      <td>19</td>\n",
       "      <td>142779</td>\n",
       "      <td>719</td>\n",
       "    </tr>\n",
       "    <tr>\n",
       "      <th>1</th>\n",
       "      <td>2019-08-01</td>\n",
       "      <td>B</td>\n",
       "      <td>17</td>\n",
       "      <td>17</td>\n",
       "      <td>59758</td>\n",
       "      <td>713</td>\n",
       "    </tr>\n",
       "    <tr>\n",
       "      <th>2</th>\n",
       "      <td>2019-08-02</td>\n",
       "      <td>A</td>\n",
       "      <td>42</td>\n",
       "      <td>36</td>\n",
       "      <td>234381</td>\n",
       "      <td>1338</td>\n",
       "    </tr>\n",
       "    <tr>\n",
       "      <th>3</th>\n",
       "      <td>2019-08-02</td>\n",
       "      <td>B</td>\n",
       "      <td>40</td>\n",
       "      <td>39</td>\n",
       "      <td>221801</td>\n",
       "      <td>1294</td>\n",
       "    </tr>\n",
       "    <tr>\n",
       "      <th>4</th>\n",
       "      <td>2019-08-03</td>\n",
       "      <td>A</td>\n",
       "      <td>66</td>\n",
       "      <td>60</td>\n",
       "      <td>346854</td>\n",
       "      <td>1845</td>\n",
       "    </tr>\n",
       "  </tbody>\n",
       "</table>\n",
       "</div>"
      ],
      "text/plain": [
       "        date group  transactionId  visitorId  revenue  visitors\n",
       "0 2019-08-01  A     23             19         142779   719     \n",
       "1 2019-08-01  B     17             17         59758    713     \n",
       "2 2019-08-02  A     42             36         234381   1338    \n",
       "3 2019-08-02  B     40             39         221801   1294    \n",
       "4 2019-08-03  A     66             60         346854   1845    "
      ]
     },
     "execution_count": 29,
     "metadata": {},
     "output_type": "execute_result"
    }
   ],
   "source": [
    "cumulative_data = ordersAggregated.merge(visitorsAggregated, on=['date', 'group'],how='left')\n",
    "cumulative_data.head()"
   ]
  },
  {
   "cell_type": "code",
   "execution_count": 30,
   "metadata": {},
   "outputs": [
    {
     "data": {
      "text/html": [
       "<div>\n",
       "<style scoped>\n",
       "    .dataframe tbody tr th:only-of-type {\n",
       "        vertical-align: middle;\n",
       "    }\n",
       "\n",
       "    .dataframe tbody tr th {\n",
       "        vertical-align: top;\n",
       "    }\n",
       "\n",
       "    .dataframe thead th {\n",
       "        text-align: right;\n",
       "    }\n",
       "</style>\n",
       "<table border=\"1\" class=\"dataframe\">\n",
       "  <thead>\n",
       "    <tr style=\"text-align: right;\">\n",
       "      <th></th>\n",
       "      <th>date</th>\n",
       "      <th>group</th>\n",
       "      <th>transactionId</th>\n",
       "      <th>visitorId</th>\n",
       "      <th>revenue</th>\n",
       "      <th>visitors</th>\n",
       "      <th>conversion</th>\n",
       "    </tr>\n",
       "  </thead>\n",
       "  <tbody>\n",
       "    <tr>\n",
       "      <th>0</th>\n",
       "      <td>2019-08-01</td>\n",
       "      <td>A</td>\n",
       "      <td>23</td>\n",
       "      <td>19</td>\n",
       "      <td>142779</td>\n",
       "      <td>719</td>\n",
       "      <td>0.03</td>\n",
       "    </tr>\n",
       "    <tr>\n",
       "      <th>1</th>\n",
       "      <td>2019-08-01</td>\n",
       "      <td>B</td>\n",
       "      <td>17</td>\n",
       "      <td>17</td>\n",
       "      <td>59758</td>\n",
       "      <td>713</td>\n",
       "      <td>0.02</td>\n",
       "    </tr>\n",
       "    <tr>\n",
       "      <th>2</th>\n",
       "      <td>2019-08-02</td>\n",
       "      <td>A</td>\n",
       "      <td>42</td>\n",
       "      <td>36</td>\n",
       "      <td>234381</td>\n",
       "      <td>1338</td>\n",
       "      <td>0.03</td>\n",
       "    </tr>\n",
       "    <tr>\n",
       "      <th>3</th>\n",
       "      <td>2019-08-02</td>\n",
       "      <td>B</td>\n",
       "      <td>40</td>\n",
       "      <td>39</td>\n",
       "      <td>221801</td>\n",
       "      <td>1294</td>\n",
       "      <td>0.03</td>\n",
       "    </tr>\n",
       "    <tr>\n",
       "      <th>4</th>\n",
       "      <td>2019-08-03</td>\n",
       "      <td>A</td>\n",
       "      <td>66</td>\n",
       "      <td>60</td>\n",
       "      <td>346854</td>\n",
       "      <td>1845</td>\n",
       "      <td>0.04</td>\n",
       "    </tr>\n",
       "  </tbody>\n",
       "</table>\n",
       "</div>"
      ],
      "text/plain": [
       "        date group  transactionId  visitorId  revenue  visitors  conversion\n",
       "0 2019-08-01  A     23             19         142779   719      0.03       \n",
       "1 2019-08-01  B     17             17         59758    713      0.02       \n",
       "2 2019-08-02  A     42             36         234381   1338     0.03       \n",
       "3 2019-08-02  B     40             39         221801   1294     0.03       \n",
       "4 2019-08-03  A     66             60         346854   1845     0.04       "
      ]
     },
     "execution_count": 30,
     "metadata": {},
     "output_type": "execute_result"
    }
   ],
   "source": [
    "# добавим столбец с конверсией\n",
    "cumulative_data['conversion'] = cumulative_data['transactionId'] / cumulative_data['visitors']\n",
    "cumulative_data.head()"
   ]
  },
  {
   "cell_type": "code",
   "execution_count": 31,
   "metadata": {},
   "outputs": [
    {
     "data": {
      "image/png": "[encoded data removed]",
      "text/plain": [
       "<Figure size 1080x360 with 1 Axes>"
      ]
     },
     "metadata": {
      "needs_background": "light"
     },
     "output_type": "display_data"
    }
   ],
   "source": [
    "# строим график кумулятивного среднего количества заказов на посетителя\n",
    "plt.figure(figsize=(15,5))\n",
    "plt.title('Количество заказов по группам')\n",
    "plt.plot(cumulative_data[cumulative_data['group'] == 'A']['date'],\\\n",
    "         cumulative_data[cumulative_data['group'] == 'A']['conversion'], label='Группа А')\n",
    "plt.plot(cumulative_data[cumulative_data['group'] == 'B']['date'],\\\n",
    "         cumulative_data[cumulative_data['group'] == 'B']['conversion'], label='Группа B')         \n",
    "plt.xlabel('Дата')\n",
    "plt.ylabel('Количество заказов')\n",
    "plt.legend()\n",
    "plt.show()"
   ]
  },
  {
   "cell_type": "markdown",
   "metadata": {},
   "source": [
    "***Вывод***\n",
    "\n",
    "В начале периода теста видим колебания количество заказов и после 6.08 количество заказов начинает выравниваться где группа В опережает группу А на 20% - возможно нововведения понравились пользователям."
   ]
  },
  {
   "cell_type": "markdown",
   "metadata": {},
   "source": [
    "### График относительного изменения кумулятивного среднего количества заказов на посетителя группы В к группе А ###"
   ]
  },
  {
   "cell_type": "code",
   "execution_count": 32,
   "metadata": {},
   "outputs": [
    {
     "data": {
      "text/html": [
       "<div>\n",
       "<style scoped>\n",
       "    .dataframe tbody tr th:only-of-type {\n",
       "        vertical-align: middle;\n",
       "    }\n",
       "\n",
       "    .dataframe tbody tr th {\n",
       "        vertical-align: top;\n",
       "    }\n",
       "\n",
       "    .dataframe thead th {\n",
       "        text-align: right;\n",
       "    }\n",
       "</style>\n",
       "<table border=\"1\" class=\"dataframe\">\n",
       "  <thead>\n",
       "    <tr style=\"text-align: right;\">\n",
       "      <th></th>\n",
       "      <th>date</th>\n",
       "      <th>conversionA</th>\n",
       "      <th>conversionB</th>\n",
       "    </tr>\n",
       "  </thead>\n",
       "  <tbody>\n",
       "    <tr>\n",
       "      <th>0</th>\n",
       "      <td>2019-08-01</td>\n",
       "      <td>0.03</td>\n",
       "      <td>0.02</td>\n",
       "    </tr>\n",
       "    <tr>\n",
       "      <th>1</th>\n",
       "      <td>2019-08-02</td>\n",
       "      <td>0.03</td>\n",
       "      <td>0.03</td>\n",
       "    </tr>\n",
       "    <tr>\n",
       "      <th>2</th>\n",
       "      <td>2019-08-03</td>\n",
       "      <td>0.04</td>\n",
       "      <td>0.03</td>\n",
       "    </tr>\n",
       "    <tr>\n",
       "      <th>3</th>\n",
       "      <td>2019-08-04</td>\n",
       "      <td>0.03</td>\n",
       "      <td>0.03</td>\n",
       "    </tr>\n",
       "    <tr>\n",
       "      <th>4</th>\n",
       "      <td>2019-08-05</td>\n",
       "      <td>0.03</td>\n",
       "      <td>0.03</td>\n",
       "    </tr>\n",
       "  </tbody>\n",
       "</table>\n",
       "</div>"
      ],
      "text/plain": [
       "        date  conversionA  conversionB\n",
       "0 2019-08-01 0.03         0.02        \n",
       "1 2019-08-02 0.03         0.03        \n",
       "2 2019-08-03 0.04         0.03        \n",
       "3 2019-08-04 0.03         0.03        \n",
       "4 2019-08-05 0.03         0.03        "
      ]
     },
     "execution_count": 32,
     "metadata": {},
     "output_type": "execute_result"
    }
   ],
   "source": [
    "# создадим датафрейм с кумулятивными данными для обеих групп\n",
    "cumulative_dataA = cumulative_data[cumulative_data['group'] == 'A']\n",
    "cumulative_dataB = cumulative_data[cumulative_data['group'] == 'B']\n",
    "# соединим два DF\n",
    "cumulative_conversion_merge = cumulative_dataA[['date', 'conversion']]\\\n",
    "                              .merge(cumulative_dataB[['date', 'conversion']],\\\n",
    "                                    on='date', how='left', suffixes=['A', 'B'])\n",
    "cumulative_conversion_merge.head()"
   ]
  },
  {
   "cell_type": "code",
   "execution_count": 33,
   "metadata": {},
   "outputs": [
    {
     "data": {
      "image/png": "[encoded data removed]",
      "text/plain": [
       "<Figure size 1080x360 with 1 Axes>"
      ]
     },
     "metadata": {
      "needs_background": "light"
     },
     "output_type": "display_data"
    }
   ],
   "source": [
    "# строим конверсию отношения средних заказов группы В к группе А\n",
    "plt.figure(figsize=(15,5))\n",
    "plt.title('Конверсия кумулятивного среднего количества заказов на посетителя группы В к группе А')\n",
    "plt.plot(cumulative_conversion_merge['date'],\\\n",
    "         (cumulative_conversion_merge['conversionB'] / cumulative_conversion_merge['conversionA']-1))\n",
    "plt.xlabel('Дата')\n",
    "plt.ylabel('Конверсия')\n",
    "# Добавляем ось Х\n",
    "plt.axhline(y=0, color='black', linestyle='--')\n",
    "plt.show()"
   ]
  },
  {
   "cell_type": "markdown",
   "metadata": {},
   "source": [
    "***Вывод***\n",
    "\n",
    "С 6.08 начинается разрыв между конверсиями групп и длится до 17.08.\n",
    "Отношение конверсии стабилизируется после 18.08 и группа В выигрывает почти на всем протяжении теста.\n"
   ]
  },
  {
   "cell_type": "markdown",
   "metadata": {},
   "source": [
    "### Точечный график количества заказов по пользователям ###"
   ]
  },
  {
   "cell_type": "code",
   "execution_count": 34,
   "metadata": {},
   "outputs": [
    {
     "data": {
      "text/html": [
       "<div>\n",
       "<style scoped>\n",
       "    .dataframe tbody tr th:only-of-type {\n",
       "        vertical-align: middle;\n",
       "    }\n",
       "\n",
       "    .dataframe tbody tr th {\n",
       "        vertical-align: top;\n",
       "    }\n",
       "\n",
       "    .dataframe thead th {\n",
       "        text-align: right;\n",
       "    }\n",
       "</style>\n",
       "<table border=\"1\" class=\"dataframe\">\n",
       "  <thead>\n",
       "    <tr style=\"text-align: right;\">\n",
       "      <th></th>\n",
       "      <th>transactionId</th>\n",
       "      <th>visitorId</th>\n",
       "      <th>date</th>\n",
       "      <th>revenue</th>\n",
       "      <th>group</th>\n",
       "    </tr>\n",
       "  </thead>\n",
       "  <tbody>\n",
       "    <tr>\n",
       "      <th>0</th>\n",
       "      <td>3667963787</td>\n",
       "      <td>3312258926</td>\n",
       "      <td>2019-08-15</td>\n",
       "      <td>1650</td>\n",
       "      <td>B</td>\n",
       "    </tr>\n",
       "    <tr>\n",
       "      <th>1</th>\n",
       "      <td>2804400009</td>\n",
       "      <td>3642806036</td>\n",
       "      <td>2019-08-15</td>\n",
       "      <td>730</td>\n",
       "      <td>B</td>\n",
       "    </tr>\n",
       "    <tr>\n",
       "      <th>3</th>\n",
       "      <td>3797467345</td>\n",
       "      <td>1196621759</td>\n",
       "      <td>2019-08-15</td>\n",
       "      <td>9759</td>\n",
       "      <td>B</td>\n",
       "    </tr>\n",
       "    <tr>\n",
       "      <th>4</th>\n",
       "      <td>2282983706</td>\n",
       "      <td>2322279887</td>\n",
       "      <td>2019-08-15</td>\n",
       "      <td>2308</td>\n",
       "      <td>B</td>\n",
       "    </tr>\n",
       "    <tr>\n",
       "      <th>5</th>\n",
       "      <td>182168103</td>\n",
       "      <td>935554773</td>\n",
       "      <td>2019-08-15</td>\n",
       "      <td>2210</td>\n",
       "      <td>B</td>\n",
       "    </tr>\n",
       "  </tbody>\n",
       "</table>\n",
       "</div>"
      ],
      "text/plain": [
       "   transactionId   visitorId       date  revenue group\n",
       "0  3667963787     3312258926 2019-08-15  1650     B   \n",
       "1  2804400009     3642806036 2019-08-15  730      B   \n",
       "3  3797467345     1196621759 2019-08-15  9759     B   \n",
       "4  2282983706     2322279887 2019-08-15  2308     B   \n",
       "5  182168103      935554773  2019-08-15  2210     B   "
      ]
     },
     "execution_count": 34,
     "metadata": {},
     "output_type": "execute_result"
    }
   ],
   "source": [
    "# возьмем данные из DF orders\n",
    "orders.head()"
   ]
  },
  {
   "cell_type": "code",
   "execution_count": 35,
   "metadata": {},
   "outputs": [
    {
     "data": {
      "text/html": [
       "<div>\n",
       "<style scoped>\n",
       "    .dataframe tbody tr th:only-of-type {\n",
       "        vertical-align: middle;\n",
       "    }\n",
       "\n",
       "    .dataframe tbody tr th {\n",
       "        vertical-align: top;\n",
       "    }\n",
       "\n",
       "    .dataframe thead th {\n",
       "        text-align: right;\n",
       "    }\n",
       "</style>\n",
       "<table border=\"1\" class=\"dataframe\">\n",
       "  <thead>\n",
       "    <tr style=\"text-align: right;\">\n",
       "      <th></th>\n",
       "      <th>visitorId</th>\n",
       "      <th>transactionId</th>\n",
       "    </tr>\n",
       "  </thead>\n",
       "  <tbody>\n",
       "    <tr>\n",
       "      <th>908</th>\n",
       "      <td>3967698036</td>\n",
       "      <td>3</td>\n",
       "    </tr>\n",
       "    <tr>\n",
       "      <th>55</th>\n",
       "      <td>249864742</td>\n",
       "      <td>3</td>\n",
       "    </tr>\n",
       "    <tr>\n",
       "      <th>478</th>\n",
       "      <td>2108163459</td>\n",
       "      <td>3</td>\n",
       "    </tr>\n",
       "    <tr>\n",
       "      <th>687</th>\n",
       "      <td>2988190573</td>\n",
       "      <td>3</td>\n",
       "    </tr>\n",
       "    <tr>\n",
       "      <th>890</th>\n",
       "      <td>3908431265</td>\n",
       "      <td>3</td>\n",
       "    </tr>\n",
       "  </tbody>\n",
       "</table>\n",
       "</div>"
      ],
      "text/plain": [
       "      visitorId  transactionId\n",
       "908  3967698036  3            \n",
       "55   249864742   3            \n",
       "478  2108163459  3            \n",
       "687  2988190573  3            \n",
       "890  3908431265  3            "
      ]
     },
     "execution_count": 35,
     "metadata": {},
     "output_type": "execute_result"
    }
   ],
   "source": [
    "# формиуем таблицу с пользователями и заказами\n",
    "ordersByusers = orders.groupby('visitorId', as_index=False)['transactionId'].nunique()\n",
    "ordersByusers.sort_values(by='transactionId', ascending=False).head()"
   ]
  },
  {
   "cell_type": "code",
   "execution_count": 36,
   "metadata": {},
   "outputs": [
    {
     "data": {
      "image/png": "[encoded data removed]",
      "text/plain": [
       "<Figure size 432x288 with 1 Axes>"
      ]
     },
     "metadata": {
      "needs_background": "light"
     },
     "output_type": "display_data"
    }
   ],
   "source": [
    "# ось распределения заказов будет длина списка этих заказов\n",
    "x_values = pd.Series(range(0,len(ordersByusers['transactionId'])))\n",
    "plt.scatter(x_values, ordersByusers['transactionId']) \n",
    "# оформляем график количества заказов по пользователям\n",
    "plt.title('Распределение числа заказов по пользователям')\n",
    "plt.xlabel('Индекс пользователя')\n",
    "plt.ylabel('Количество заказов')\n",
    "plt.show()"
   ]
  },
  {
   "cell_type": "markdown",
   "metadata": {},
   "source": [
    " ***Вывод***\n",
    "\n",
    "По графику видим что пользователи совершают один или 2 заказа  - сплошная линия на отметке 1 и почти сплошная на отметке 2. Свыше 2-х заказов совершают уже незначительное количество пользователей - 7. "
   ]
  },
  {
   "cell_type": "markdown",
   "metadata": {},
   "source": [
    "### Находим 95-й и 99-й перцентиль количества заказов на пользователя ###"
   ]
  },
  {
   "cell_type": "code",
   "execution_count": 37,
   "metadata": {},
   "outputs": [
    {
     "name": "stdout",
     "output_type": "stream",
     "text": [
      "[1. 2. 2.]\n"
     ]
    }
   ],
   "source": [
    "# Посчитаем выборочные перцентили количества заказов на одного пользователя:\n",
    "print(np.percentile(ordersByusers['transactionId'], [95, 98, 99]))"
   ]
  },
  {
   "cell_type": "markdown",
   "metadata": {},
   "source": [
    "***Вывод***\n",
    "\n",
    "За все время теста 95% пользователей совершили  2 заказа, 1% пользователей совершили не менее 4 заказов. Выбираем 3 и выше количество заказов на одного пользователя за верхнюю границу числа заказов."
   ]
  },
  {
   "cell_type": "markdown",
   "metadata": {},
   "source": [
    "### Точечный график стоимостей заказов ###"
   ]
  },
  {
   "cell_type": "code",
   "execution_count": 38,
   "metadata": {},
   "outputs": [
    {
     "data": {
      "text/html": [
       "<div>\n",
       "<style scoped>\n",
       "    .dataframe tbody tr th:only-of-type {\n",
       "        vertical-align: middle;\n",
       "    }\n",
       "\n",
       "    .dataframe tbody tr th {\n",
       "        vertical-align: top;\n",
       "    }\n",
       "\n",
       "    .dataframe thead th {\n",
       "        text-align: right;\n",
       "    }\n",
       "</style>\n",
       "<table border=\"1\" class=\"dataframe\">\n",
       "  <thead>\n",
       "    <tr style=\"text-align: right;\">\n",
       "      <th></th>\n",
       "      <th>transactionId</th>\n",
       "      <th>visitorId</th>\n",
       "      <th>date</th>\n",
       "      <th>revenue</th>\n",
       "      <th>group</th>\n",
       "    </tr>\n",
       "  </thead>\n",
       "  <tbody>\n",
       "    <tr>\n",
       "      <th>0</th>\n",
       "      <td>3667963787</td>\n",
       "      <td>3312258926</td>\n",
       "      <td>2019-08-15</td>\n",
       "      <td>1650</td>\n",
       "      <td>B</td>\n",
       "    </tr>\n",
       "    <tr>\n",
       "      <th>1</th>\n",
       "      <td>2804400009</td>\n",
       "      <td>3642806036</td>\n",
       "      <td>2019-08-15</td>\n",
       "      <td>730</td>\n",
       "      <td>B</td>\n",
       "    </tr>\n",
       "    <tr>\n",
       "      <th>3</th>\n",
       "      <td>3797467345</td>\n",
       "      <td>1196621759</td>\n",
       "      <td>2019-08-15</td>\n",
       "      <td>9759</td>\n",
       "      <td>B</td>\n",
       "    </tr>\n",
       "    <tr>\n",
       "      <th>4</th>\n",
       "      <td>2282983706</td>\n",
       "      <td>2322279887</td>\n",
       "      <td>2019-08-15</td>\n",
       "      <td>2308</td>\n",
       "      <td>B</td>\n",
       "    </tr>\n",
       "    <tr>\n",
       "      <th>5</th>\n",
       "      <td>182168103</td>\n",
       "      <td>935554773</td>\n",
       "      <td>2019-08-15</td>\n",
       "      <td>2210</td>\n",
       "      <td>B</td>\n",
       "    </tr>\n",
       "  </tbody>\n",
       "</table>\n",
       "</div>"
      ],
      "text/plain": [
       "   transactionId   visitorId       date  revenue group\n",
       "0  3667963787     3312258926 2019-08-15  1650     B   \n",
       "1  2804400009     3642806036 2019-08-15  730      B   \n",
       "3  3797467345     1196621759 2019-08-15  9759     B   \n",
       "4  2282983706     2322279887 2019-08-15  2308     B   \n",
       "5  182168103      935554773  2019-08-15  2210     B   "
      ]
     },
     "execution_count": 38,
     "metadata": {},
     "output_type": "execute_result"
    }
   ],
   "source": [
    "# посмотрим DF orders\n",
    "orders.head()"
   ]
  },
  {
   "cell_type": "code",
   "execution_count": 39,
   "metadata": {},
   "outputs": [
    {
     "data": {
      "image/png": "[encoded data removed]",
      "text/plain": [
       "<Figure size 432x288 with 1 Axes>"
      ]
     },
     "metadata": {
      "needs_background": "light"
     },
     "output_type": "display_data"
    }
   ],
   "source": [
    "# ось распределения заказов будет длина списка этих заказов\n",
    "x_values = pd.Series(range(0,len(orders['transactionId'])))\n",
    "plt.scatter(x_values, orders['revenue']) \n",
    "# оформляем график количества заказов по пользователям\n",
    "plt.title('Стоимость заказа')\n",
    "plt.xlabel('Индекс пользователя')\n",
    "plt.ylabel('Стоимость у.е.')\n",
    "plt.show()"
   ]
  },
  {
   "cell_type": "markdown",
   "metadata": {},
   "source": [
    "На графике распределения стоимости есть 2 точки (стоимость заказа  свыше 1,2 млн у.е и 0,2 млн у.е).\n",
    "Данные заказы не позволяют внимательнее изучить область основных заказов и сильно влияют на данные."
   ]
  },
  {
   "cell_type": "code",
   "execution_count": 40,
   "metadata": {},
   "outputs": [
    {
     "data": {
      "image/png": "[encoded data removed]",
      "text/plain": [
       "<Figure size 1080x720 with 1 Axes>"
      ]
     },
     "metadata": {
      "needs_background": "light"
     },
     "output_type": "display_data"
    }
   ],
   "source": [
    "# исключим указанные 2 точки с заказами и построим новый график распределения стоимостей заказов\n",
    "plt.figure(figsize=(15,10))\n",
    "plt.title('Стоимость заказа')\n",
    "plt.ylim(0,100000)\n",
    "plt.scatter(x_values, orders['revenue']) \n",
    "plt.xlabel('Индекс пользователя')\n",
    "plt.ylabel('Стоимость у.е.')\n",
    "plt.show()"
   ]
  },
  {
   "cell_type": "markdown",
   "metadata": {},
   "source": [
    "***Вывод***\n",
    "\n",
    "Удалив 2 выброса данных получили график с данными более наглядно распределенными, что позволяет предположить что данных достаточно для дальнейшего анализа."
   ]
  },
  {
   "cell_type": "markdown",
   "metadata": {},
   "source": [
    "### Находим 95-й и 99-й перцентиль стоимости заказов ###"
   ]
  },
  {
   "cell_type": "code",
   "execution_count": 41,
   "metadata": {},
   "outputs": [
    {
     "name": "stdout",
     "output_type": "stream",
     "text": [
      "[26785. 30649. 34792. 42353. 53904.]\n"
     ]
    }
   ],
   "source": [
    "# Посчитаем выборочные перцентили стоимости заказов:\n",
    "print(np.percentile(orders['revenue'], [95, 96, 97, 98, 99]))"
   ]
  },
  {
   "cell_type": "code",
   "execution_count": 42,
   "metadata": {},
   "outputs": [
    {
     "name": "stdout",
     "output_type": "stream",
     "text": [
      "5.02%\n"
     ]
    }
   ],
   "source": [
    "# посмотрим сколько пользователей совершили покупку на сумму свеше 26785 y.e.\n",
    "print('{:.2%}'.format(len(orders[orders.revenue > 26785]) / len(orders)))"
   ]
  },
  {
   "cell_type": "markdown",
   "metadata": {},
   "source": [
    "За верхнюю границу выбираем сумму заказа 95 перцентиля равную 26785 у.е., т.к. всего 5% заказов превышают 95 перцентиль."
   ]
  },
  {
   "cell_type": "markdown",
   "metadata": {},
   "source": [
    "### Определяем статистическую значимость различий в среднем количестве заказов на посетителя между группами по сырым данным ###"
   ]
  },
  {
   "cell_type": "code",
   "execution_count": 43,
   "metadata": {},
   "outputs": [
    {
     "data": {
      "text/html": [
       "<div>\n",
       "<style scoped>\n",
       "    .dataframe tbody tr th:only-of-type {\n",
       "        vertical-align: middle;\n",
       "    }\n",
       "\n",
       "    .dataframe tbody tr th {\n",
       "        vertical-align: top;\n",
       "    }\n",
       "\n",
       "    .dataframe thead th {\n",
       "        text-align: right;\n",
       "    }\n",
       "</style>\n",
       "<table border=\"1\" class=\"dataframe\">\n",
       "  <thead>\n",
       "    <tr style=\"text-align: right;\">\n",
       "      <th></th>\n",
       "      <th>transactionId</th>\n",
       "      <th>visitorId</th>\n",
       "      <th>date</th>\n",
       "      <th>revenue</th>\n",
       "      <th>group</th>\n",
       "    </tr>\n",
       "  </thead>\n",
       "  <tbody>\n",
       "    <tr>\n",
       "      <th>0</th>\n",
       "      <td>3667963787</td>\n",
       "      <td>3312258926</td>\n",
       "      <td>2019-08-15</td>\n",
       "      <td>1650</td>\n",
       "      <td>B</td>\n",
       "    </tr>\n",
       "    <tr>\n",
       "      <th>1</th>\n",
       "      <td>2804400009</td>\n",
       "      <td>3642806036</td>\n",
       "      <td>2019-08-15</td>\n",
       "      <td>730</td>\n",
       "      <td>B</td>\n",
       "    </tr>\n",
       "    <tr>\n",
       "      <th>3</th>\n",
       "      <td>3797467345</td>\n",
       "      <td>1196621759</td>\n",
       "      <td>2019-08-15</td>\n",
       "      <td>9759</td>\n",
       "      <td>B</td>\n",
       "    </tr>\n",
       "    <tr>\n",
       "      <th>4</th>\n",
       "      <td>2282983706</td>\n",
       "      <td>2322279887</td>\n",
       "      <td>2019-08-15</td>\n",
       "      <td>2308</td>\n",
       "      <td>B</td>\n",
       "    </tr>\n",
       "    <tr>\n",
       "      <th>5</th>\n",
       "      <td>182168103</td>\n",
       "      <td>935554773</td>\n",
       "      <td>2019-08-15</td>\n",
       "      <td>2210</td>\n",
       "      <td>B</td>\n",
       "    </tr>\n",
       "  </tbody>\n",
       "</table>\n",
       "</div>"
      ],
      "text/plain": [
       "   transactionId   visitorId       date  revenue group\n",
       "0  3667963787     3312258926 2019-08-15  1650     B   \n",
       "1  2804400009     3642806036 2019-08-15  730      B   \n",
       "3  3797467345     1196621759 2019-08-15  9759     B   \n",
       "4  2282983706     2322279887 2019-08-15  2308     B   \n",
       "5  182168103      935554773  2019-08-15  2210     B   "
      ]
     },
     "execution_count": 43,
     "metadata": {},
     "output_type": "execute_result"
    }
   ],
   "source": [
    "orders.head()"
   ]
  },
  {
   "cell_type": "code",
   "execution_count": 44,
   "metadata": {},
   "outputs": [],
   "source": [
    "# подготовим данные сгруппированные по группам А и В\n",
    "ordersByusers_A = orders[orders['group'] == 'A'].groupby('visitorId', as_index=False).agg({'transactionId':'nunique'})\n",
    "ordersByusers_B = orders[orders['group'] == 'B'].groupby('visitorId', as_index=False).agg({'transactionId':'nunique'})"
   ]
  },
  {
   "cell_type": "code",
   "execution_count": 45,
   "metadata": {},
   "outputs": [],
   "source": [
    "sample_A = pd.concat([ordersByusers_A['transactionId'], pd.Series\\\n",
    "                    (0, index=np.arange(visitors[visitors['group'] == 'A']\\\n",
    "                    ['visitors'].sum() - len(ordersByusers_A['transactionId'])), name='transactionId')], axis=0)\n",
    "sample_B = pd.concat([ordersByusers_B['transactionId'], pd.Series\\\n",
    "                    (0, index=np.arange(visitors[visitors['group'] == 'B']\\\n",
    "                    ['visitors'].sum() - len(ordersByusers_B['transactionId'])), name='transactionId')], axis=0)"
   ]
  },
  {
   "cell_type": "markdown",
   "metadata": {},
   "source": [
    "***формулируем гипотезу***\n",
    "1. нулевая гипотеза (Н0): между конверсией 2-х групп нет статистически значимой разницы\n",
    "2. гипотеза(Н1): между конверсиями есть статистически значимая разница"
   ]
  },
  {
   "cell_type": "code",
   "execution_count": 46,
   "metadata": {},
   "outputs": [
    {
     "name": "stdout",
     "output_type": "stream",
     "text": [
      "Вероятность получения различия случайно: 1.10%\n",
      "Прирост среднего количества заказов для группы В:15.98%\n"
     ]
    }
   ],
   "source": [
    "print(\"Вероятность получения различия случайно: {0:.2f}%\".format(stats.mannwhitneyu\\\n",
    "                    (sample_A, sample_B, alternative = 'two-sided')[1]*100))\n",
    "print('Прирост среднего количества заказов для группы В:{0:.2f}%'.format((sample_B.mean() / sample_A.mean() -1)*100))"
   ]
  },
  {
   "cell_type": "code",
   "execution_count": 47,
   "metadata": {},
   "outputs": [
    {
     "name": "stdout",
     "output_type": "stream",
     "text": [
      "Отвергаем нулевую гипотезу\n"
     ]
    }
   ],
   "source": [
    "alpha = 0.05\n",
    "if stats.mannwhitneyu(sample_A, sample_B, alternative = 'two-sided')[1] < alpha:\n",
    "    print('Отвергаем нулевую гипотезу')\n",
    "else:\n",
    "    print('Не получилось отвергнуть нулевую гипотезу')    "
   ]
  },
  {
   "cell_type": "markdown",
   "metadata": {},
   "source": [
    "***Вывод***\n",
    "\n",
    "По сырым данным статистическая значимость показывает отрыв в среднем количестве заказов на посетителя на 16,96%  группы В от А."
   ]
  },
  {
   "cell_type": "markdown",
   "metadata": {},
   "source": [
    "### Определяем статистическую значимость различий в среднем чеке заказа  между группами по сырым данным ###"
   ]
  },
  {
   "cell_type": "markdown",
   "metadata": {},
   "source": [
    "***формулируем гипотезу***\n",
    "1. нулевая гипотеза (Н0): между средними чеками 2-х групп нет статистически значимой разницы\n",
    "2. гипотеза(Н1): между средними чеками есть статистически значимая разница"
   ]
  },
  {
   "cell_type": "code",
   "execution_count": 48,
   "metadata": {},
   "outputs": [
    {
     "name": "stdout",
     "output_type": "stream",
     "text": [
      "Вероятность получения различия случайно: 82.95%\n",
      "Прирост конверсии чека для группы В:28.66%\n"
     ]
    }
   ],
   "source": [
    "print(\"Вероятность получения различия случайно: {0:.2f}%\".format(stats.mannwhitneyu\\\n",
    "                    (orders[orders['group'] == 'A']['revenue'],\\\n",
    "                    orders[orders['group'] == 'B']['revenue'], alternative = 'two-sided')[1]*100))\n",
    "print('Прирост конверсии чека для группы В:{0:.2f}%'.format((orders[orders['group'] == 'B']['revenue'].mean()\\\n",
    "                                                        / orders[orders['group'] == 'A']['revenue'].mean() -1)*100))"
   ]
  },
  {
   "cell_type": "code",
   "execution_count": 49,
   "metadata": {},
   "outputs": [
    {
     "name": "stdout",
     "output_type": "stream",
     "text": [
      "Не получилось отвергнуть нулевую гипотезу\n"
     ]
    }
   ],
   "source": [
    "alpha = 0.05\n",
    "if stats.mannwhitneyu(orders[orders['group'] == 'A']['revenue'], orders[orders['group'] == 'B']['revenue'],\\\n",
    "                      alternative = 'two-sided')[1] < alpha:\n",
    "    print('Отвергаем нулевую гипотезу')\n",
    "else:\n",
    "    print('Не получилось отвергнуть нулевую гипотезу')    "
   ]
  },
  {
   "cell_type": "markdown",
   "metadata": {},
   "source": [
    "***Вывод***\n"
   ]
  },
  {
   "cell_type": "markdown",
   "metadata": {},
   "source": [
    "По сырым данным наблюдаем различие среднего чека группы В и А в 28,66% что не является статистически значимым."
   ]
  },
  {
   "cell_type": "markdown",
   "metadata": {},
   "source": [
    "### Определяем статистическую значимость различий в среднем количестве заказов на посетителя  между группами по очищенным данным ###"
   ]
  },
  {
   "cell_type": "code",
   "execution_count": 50,
   "metadata": {},
   "outputs": [
    {
     "name": "stdout",
     "output_type": "stream",
     "text": [
      "Количество пользователей с аномальными заказами 51\n"
     ]
    }
   ],
   "source": [
    "# очистим данные от аномалий\n",
    "revenue_lim = 26785\n",
    "orders_transaction = ordersByusers[ordersByusers['transactionId'] > 3]['visitorId']\n",
    "orders_revenue = orders[orders['revenue'] > revenue_lim]['visitorId']\n",
    "# объединим данные и очистим от дубликатов\n",
    "new_date = pd.concat([orders_transaction, orders_revenue], axis=0).drop_duplicates()\n",
    "print('Количество пользователей с аномальными заказами', len(new_date))"
   ]
  },
  {
   "cell_type": "code",
   "execution_count": 51,
   "metadata": {},
   "outputs": [],
   "source": [
    "# сформируем семплы для анализа выборки\n",
    "sample_A = pd.concat([ordersByusers_A[np.logical_not(ordersByusers_A['visitorId'].isin(new_date))]\\\n",
    "                      ['transactionId'],pd.Series(0, index=np.arange(visitors[visitors['group'] == 'A']['visitors'].sum()\\\n",
    "                      - len(ordersByusers_A['transactionId'])), name='transactionId')], axis=0)\n",
    "sample_B = pd.concat([ordersByusers_B[np.logical_not(ordersByusers_B['visitorId'].isin(new_date))]\\\n",
    "                      ['transactionId'],pd.Series(0, index=np.arange(visitors[visitors['group'] == 'B']['visitors'].sum()\\\n",
    "                      - len(ordersByusers_B['transactionId'])), name='transactionId')], axis=0)"
   ]
  },
  {
   "cell_type": "markdown",
   "metadata": {},
   "source": [
    "***формулируем гипотезу***\n",
    "1. нулевая гипотеза (Н0): между конверсией 2-х групп нет статистически значимой разницы\n",
    "2. гипотеза(Н1): между конверсиями есть статистически значимая разница"
   ]
  },
  {
   "cell_type": "code",
   "execution_count": 52,
   "metadata": {},
   "outputs": [
    {
     "name": "stdout",
     "output_type": "stream",
     "text": [
      "Вероятность получения различия случайно: 1.68%\n",
      "Прирост среднего количества заказов для группы В:15.56%\n"
     ]
    }
   ],
   "source": [
    "print(\"Вероятность получения различия случайно: {0:.2f}%\".format(stats.mannwhitneyu\\\n",
    "                    (sample_A, sample_B, alternative = 'two-sided')[1]*100))\n",
    "print('Прирост среднего количества заказов для группы В:{0:.2f}%'.format((sample_B.mean() / sample_A.mean() -1)*100))"
   ]
  },
  {
   "cell_type": "code",
   "execution_count": 53,
   "metadata": {},
   "outputs": [
    {
     "name": "stdout",
     "output_type": "stream",
     "text": [
      "Отвергаем нулевую гипотезу\n"
     ]
    }
   ],
   "source": [
    "alpha = 0.05\n",
    "if stats.mannwhitneyu(sample_A, sample_B, alternative = 'two-sided')[1] < alpha:\n",
    "    print('Отвергаем нулевую гипотезу')\n",
    "else:\n",
    "    print('Не получилось отвергнуть нулевую гипотезу')"
   ]
  },
  {
   "cell_type": "markdown",
   "metadata": {},
   "source": [
    "***Вывод***\n",
    "\n",
    "Можем сказать что на очищенных данных существует статистически значимая разница в 15,56% в среднем количестве заказов на посетителя между группами."
   ]
  },
  {
   "cell_type": "markdown",
   "metadata": {},
   "source": [
    "### Определяем статистическую значимость различий в среднем чеке заказа  между группами по очищенным  данным ###"
   ]
  },
  {
   "cell_type": "code",
   "execution_count": 54,
   "metadata": {},
   "outputs": [
    {
     "name": "stdout",
     "output_type": "stream",
     "text": [
      "Вероятность получения различия случайно: 74.13%\n",
      "Прирост среднего чека группы В:0.95%\n"
     ]
    }
   ],
   "source": [
    "# исключим аномальных пользователей из сравнительных выборок\n",
    "print(\"Вероятность получения различия случайно: {0:.2f}%\".format(stats.mannwhitneyu\\\n",
    "        (orders[np.logical_and(orders['group'] == 'A', np.logical_not(orders['visitorId'].isin(new_date)))]['revenue'],\\\n",
    "                    orders[np.logical_and(orders['group'] == 'B', np.logical_not(orders['visitorId']\\\n",
    "                    .isin(new_date)))]['revenue'], alternative = 'two-sided')[1]*100))\n",
    "print('Прирост среднего чека группы В:{0:.2f}%'.format(orders[np.logical_and(orders['group'] == 'B', \\\n",
    "                    np.logical_not(orders['visitorId'].isin(new_date)))]['revenue'].mean() /\\\n",
    "                   orders[np.logical_and(orders['group'] == 'A', np.logical_not(orders['visitorId'].isin(new_date)))]\\\n",
    "                                                       ['revenue'].mean()))"
   ]
  },
  {
   "cell_type": "markdown",
   "metadata": {},
   "source": [
    "***формулируем гипотезу***\n",
    "1. нулевая гипотеза (Н0): между средними чеками 2-х групп нет статистически значимой разницы\n",
    "2. гипотеза(Н1): между средними чеками есть статистически значимая разница"
   ]
  },
  {
   "cell_type": "code",
   "execution_count": 55,
   "metadata": {},
   "outputs": [
    {
     "name": "stdout",
     "output_type": "stream",
     "text": [
      "Не получилось отвергнуть нулевую гипотезу\n"
     ]
    }
   ],
   "source": [
    "alpha = 0.05\n",
    "if stats.mannwhitneyu(orders[np.logical_and(orders['group'] == 'A', np.logical_not(orders['visitorId']\\\n",
    "                                            .isin(new_date)))]['revenue'],\\\n",
    "                      orders[np.logical_and(orders['group'] == 'B', np.logical_not(orders['visitorId']\\\n",
    "                                            .isin(new_date)))]['revenue'],\\\n",
    "                      alternative = 'two-sided')[1] < alpha:\n",
    "    print('Отвергаем нулевую гипотезу')\n",
    "else:\n",
    "    print('Не получилось отвергнуть нулевую гипотезу')   "
   ]
  },
  {
   "cell_type": "markdown",
   "metadata": {},
   "source": [
    "Вывод\n",
    "    \n",
    "Наблюдаемое различие в средних чеках группы В и А в 0,95% не является статистическа значимым."
   ]
  },
  {
   "cell_type": "markdown",
   "metadata": {},
   "source": [
    "***Вывод***\n",
    "\n",
    "P-value увеличился - причин отвергать нулевую гипотезу и считать, что в среднем чеке есть различия нет. Средний чек группы B без выбросов стал незначительно выше среднего чека группы A."
   ]
  },
  {
   "cell_type": "markdown",
   "metadata": {},
   "source": [
    "### Решение по результатам теста ###"
   ]
  },
  {
   "cell_type": "markdown",
   "metadata": {},
   "source": [
    "Решение по результатам теста\n",
    "    \n",
    "Тест признать успешным и закончить. Результаты статистических тестов показали остутствие статистически значимых различий в среднем чеке между группами (по очищенным данным + 0,95% для группы В), при статистически подтвержденном увеличении количества заказов (по данным + 15,56% для группы В). По резельтатам А\\В теста победу одерживает группа В, т.к. при одинаковом среднем чеке но возросших заказах для группы В выручка будет в данный группе расти."
   ]
  },
  {
   "cell_type": "markdown",
   "metadata": {},
   "source": [
    "## Вывод ##"
   ]
  },
  {
   "cell_type": "markdown",
   "metadata": {},
   "source": [
    "**Рекомендации:** "
   ]
  },
  {
   "cell_type": "markdown",
   "metadata": {},
   "source": [
    "**Вывод**\n",
    "    \n",
    "1. С помощью фреймворков ICE и RICE определили рейтинг гипотез для возможного увеличения выручки:\n",
    "- Добавить форму подписки на все основные страницы, чтобы собрать базу клиентов для email-рассылок\n",
    "- Добавить блоки рекомендаций товаров на сайт интернет магазина, чтобы повысить конверсию и средний чек заказа\n",
    "- Добавить два новых канала привлечения трафика, что позволит привлекать на 30% больше пользователей\n",
    "- Показать на главной странице баннеры с актуальными акциями и распродажами, чтобы увеличить конверсию \n",
    "    \n",
    "    Гипотезы с большим охватом аудитории и меньшими затратами на реализацию поднялись в рейтинге на 2-3 позиции.\n",
    "\n",
    "2. Анализ различий группы В от группы А  А\\В тестом показал:\n",
    "- А\\В тест прошел успешно. Группа В одерживает победу. Совокупность результатов статистических тестов дает увеличение выручки в группе В при  остутствие различий в среднем чеке между группами (по очищенным данным + 0,95% для группы В) и увеличении количества заказов (по данным + 15,56% для группы В)."
   ]
  }
 ],
 "metadata": {
  "ExecuteTimeLog": [
   {
    "duration": 4,
    "start_time": "2024-10-04T12:55:13.969Z"
   },
   {
    "duration": 2,
    "start_time": "2024-10-04T12:56:56.978Z"
   },
   {
    "duration": 1453,
    "start_time": "2024-10-04T13:01:31.631Z"
   },
   {
    "duration": 4,
    "start_time": "2024-10-04T13:01:57.642Z"
   },
   {
    "duration": 2,
    "start_time": "2024-10-04T13:12:30.000Z"
   },
   {
    "duration": 8,
    "start_time": "2024-10-04T13:22:06.466Z"
   },
   {
    "duration": 7,
    "start_time": "2024-10-04T13:22:46.435Z"
   },
   {
    "duration": 3,
    "start_time": "2024-10-04T13:22:51.090Z"
   },
   {
    "duration": 236,
    "start_time": "2024-10-04T13:22:51.095Z"
   },
   {
    "duration": 11,
    "start_time": "2024-10-04T13:22:51.333Z"
   },
   {
    "duration": 1118,
    "start_time": "2024-10-04T13:23:11.977Z"
   },
   {
    "duration": 77,
    "start_time": "2024-10-04T13:23:13.096Z"
   },
   {
    "duration": 11,
    "start_time": "2024-10-04T13:23:13.175Z"
   },
   {
    "duration": 10,
    "start_time": "2024-10-04T13:24:09.915Z"
   },
   {
    "duration": 10,
    "start_time": "2024-10-04T13:24:32.762Z"
   },
   {
    "duration": 7,
    "start_time": "2024-10-04T13:24:36.709Z"
   },
   {
    "duration": 1152,
    "start_time": "2024-10-04T13:28:08.838Z"
   },
   {
    "duration": 77,
    "start_time": "2024-10-04T13:28:09.992Z"
   },
   {
    "duration": 12,
    "start_time": "2024-10-04T13:28:10.070Z"
   },
   {
    "duration": 26,
    "start_time": "2024-10-04T13:28:10.083Z"
   },
   {
    "duration": 12,
    "start_time": "2024-10-04T13:28:10.111Z"
   },
   {
    "duration": 12,
    "start_time": "2024-10-04T13:28:10.125Z"
   },
   {
    "duration": 10,
    "start_time": "2024-10-04T13:28:10.138Z"
   },
   {
    "duration": 27,
    "start_time": "2024-10-04T13:28:10.150Z"
   },
   {
    "duration": 100,
    "start_time": "2024-10-04T13:44:18.354Z"
   },
   {
    "duration": 8,
    "start_time": "2024-10-04T13:51:50.751Z"
   },
   {
    "duration": 1066,
    "start_time": "2024-10-04T13:52:54.120Z"
   },
   {
    "duration": 76,
    "start_time": "2024-10-04T13:52:55.188Z"
   },
   {
    "duration": 10,
    "start_time": "2024-10-04T13:52:55.265Z"
   },
   {
    "duration": 11,
    "start_time": "2024-10-04T13:52:55.277Z"
   },
   {
    "duration": 99,
    "start_time": "2024-10-04T13:52:55.290Z"
   },
   {
    "duration": 0,
    "start_time": "2024-10-04T13:52:55.391Z"
   },
   {
    "duration": 0,
    "start_time": "2024-10-04T13:52:55.392Z"
   },
   {
    "duration": 0,
    "start_time": "2024-10-04T13:52:55.393Z"
   },
   {
    "duration": 0,
    "start_time": "2024-10-04T13:52:55.394Z"
   },
   {
    "duration": 7,
    "start_time": "2024-10-04T13:53:25.568Z"
   },
   {
    "duration": 4,
    "start_time": "2024-10-04T13:53:48.387Z"
   },
   {
    "duration": 5,
    "start_time": "2024-10-04T13:54:28.464Z"
   },
   {
    "duration": 11,
    "start_time": "2024-10-04T13:57:40.724Z"
   },
   {
    "duration": 11,
    "start_time": "2024-10-04T13:57:47.542Z"
   },
   {
    "duration": 5,
    "start_time": "2024-10-04T14:01:45.244Z"
   },
   {
    "duration": 6,
    "start_time": "2024-10-04T14:02:26.126Z"
   },
   {
    "duration": 5,
    "start_time": "2024-10-04T14:02:55.678Z"
   },
   {
    "duration": 5,
    "start_time": "2024-10-04T14:03:19.928Z"
   },
   {
    "duration": 13,
    "start_time": "2024-10-04T14:06:41.534Z"
   },
   {
    "duration": 14,
    "start_time": "2024-10-04T14:09:53.680Z"
   },
   {
    "duration": 12,
    "start_time": "2024-10-04T14:10:06.605Z"
   },
   {
    "duration": 10,
    "start_time": "2024-10-04T14:11:32.652Z"
   },
   {
    "duration": 9,
    "start_time": "2024-10-04T14:11:36.733Z"
   },
   {
    "duration": 10,
    "start_time": "2024-10-04T14:12:52.364Z"
   },
   {
    "duration": 3,
    "start_time": "2024-10-04T14:38:26.626Z"
   },
   {
    "duration": 12,
    "start_time": "2024-10-04T14:57:26.963Z"
   },
   {
    "duration": 1213,
    "start_time": "2024-10-04T14:59:02.975Z"
   },
   {
    "duration": 78,
    "start_time": "2024-10-04T14:59:04.190Z"
   },
   {
    "duration": 11,
    "start_time": "2024-10-04T14:59:04.270Z"
   },
   {
    "duration": 33,
    "start_time": "2024-10-04T14:59:04.282Z"
   },
   {
    "duration": 19,
    "start_time": "2024-10-04T14:59:04.317Z"
   },
   {
    "duration": 32,
    "start_time": "2024-10-04T14:59:04.337Z"
   },
   {
    "duration": 20,
    "start_time": "2024-10-04T14:59:04.371Z"
   },
   {
    "duration": 17,
    "start_time": "2024-10-04T14:59:04.392Z"
   },
   {
    "duration": 27,
    "start_time": "2024-10-04T14:59:04.410Z"
   },
   {
    "duration": 22,
    "start_time": "2024-10-04T14:59:04.438Z"
   },
   {
    "duration": 10,
    "start_time": "2024-10-04T14:59:04.462Z"
   },
   {
    "duration": 13,
    "start_time": "2024-10-04T14:59:04.473Z"
   },
   {
    "duration": 35,
    "start_time": "2024-10-04T14:59:04.487Z"
   },
   {
    "duration": 13,
    "start_time": "2024-10-04T14:59:04.524Z"
   },
   {
    "duration": 4,
    "start_time": "2024-10-04T15:03:06.404Z"
   },
   {
    "duration": 5,
    "start_time": "2024-10-04T15:03:36.648Z"
   },
   {
    "duration": 3,
    "start_time": "2024-10-04T15:04:14.798Z"
   },
   {
    "duration": 2,
    "start_time": "2024-10-04T15:04:16.785Z"
   },
   {
    "duration": 1075,
    "start_time": "2024-10-04T15:04:28.614Z"
   },
   {
    "duration": 3,
    "start_time": "2024-10-04T15:04:29.691Z"
   },
   {
    "duration": 78,
    "start_time": "2024-10-04T15:04:29.697Z"
   },
   {
    "duration": 10,
    "start_time": "2024-10-04T15:04:29.777Z"
   },
   {
    "duration": 11,
    "start_time": "2024-10-04T15:04:29.789Z"
   },
   {
    "duration": 5,
    "start_time": "2024-10-04T15:04:29.801Z"
   },
   {
    "duration": 9,
    "start_time": "2024-10-04T15:04:29.807Z"
   },
   {
    "duration": 12,
    "start_time": "2024-10-04T15:04:29.818Z"
   },
   {
    "duration": 5,
    "start_time": "2024-10-04T15:04:29.831Z"
   },
   {
    "duration": 45,
    "start_time": "2024-10-04T15:04:29.838Z"
   },
   {
    "duration": 9,
    "start_time": "2024-10-04T15:04:29.884Z"
   },
   {
    "duration": 10,
    "start_time": "2024-10-04T15:04:29.895Z"
   },
   {
    "duration": 5,
    "start_time": "2024-10-04T15:04:29.907Z"
   },
   {
    "duration": 10,
    "start_time": "2024-10-04T15:04:29.915Z"
   },
   {
    "duration": 50,
    "start_time": "2024-10-04T15:04:29.927Z"
   },
   {
    "duration": 11,
    "start_time": "2024-10-04T16:54:52.462Z"
   },
   {
    "duration": 12,
    "start_time": "2024-10-04T17:02:48.342Z"
   },
   {
    "duration": 13,
    "start_time": "2024-10-04T17:34:55.158Z"
   },
   {
    "duration": 14,
    "start_time": "2024-10-04T17:42:05.986Z"
   },
   {
    "duration": 1136,
    "start_time": "2024-10-04T18:53:54.642Z"
   },
   {
    "duration": 2,
    "start_time": "2024-10-04T18:53:55.780Z"
   },
   {
    "duration": 78,
    "start_time": "2024-10-04T18:53:55.783Z"
   },
   {
    "duration": 10,
    "start_time": "2024-10-04T18:53:55.862Z"
   },
   {
    "duration": 10,
    "start_time": "2024-10-04T18:53:55.874Z"
   },
   {
    "duration": 4,
    "start_time": "2024-10-04T18:53:55.885Z"
   },
   {
    "duration": 8,
    "start_time": "2024-10-04T18:53:55.891Z"
   },
   {
    "duration": 18,
    "start_time": "2024-10-04T18:53:55.900Z"
   },
   {
    "duration": 6,
    "start_time": "2024-10-04T18:53:55.920Z"
   },
   {
    "duration": 12,
    "start_time": "2024-10-04T18:53:55.927Z"
   },
   {
    "duration": 35,
    "start_time": "2024-10-04T18:53:55.941Z"
   },
   {
    "duration": 10,
    "start_time": "2024-10-04T18:53:55.978Z"
   },
   {
    "duration": 9,
    "start_time": "2024-10-04T18:53:55.989Z"
   },
   {
    "duration": 13,
    "start_time": "2024-10-04T18:53:56.001Z"
   },
   {
    "duration": 13,
    "start_time": "2024-10-04T18:53:56.016Z"
   },
   {
    "duration": 12,
    "start_time": "2024-10-04T18:53:56.030Z"
   },
   {
    "duration": 52,
    "start_time": "2024-10-04T18:53:56.043Z"
   },
   {
    "duration": 3,
    "start_time": "2024-10-05T08:51:30.175Z"
   },
   {
    "duration": 50,
    "start_time": "2024-10-05T09:18:28.137Z"
   },
   {
    "duration": 6,
    "start_time": "2024-10-05T09:19:46.376Z"
   },
   {
    "duration": 1417,
    "start_time": "2024-10-05T09:19:53.364Z"
   },
   {
    "duration": 4,
    "start_time": "2024-10-05T09:19:54.784Z"
   },
   {
    "duration": 249,
    "start_time": "2024-10-05T09:19:54.789Z"
   },
   {
    "duration": 13,
    "start_time": "2024-10-05T09:19:55.040Z"
   },
   {
    "duration": 30,
    "start_time": "2024-10-05T09:19:55.055Z"
   },
   {
    "duration": 7,
    "start_time": "2024-10-05T09:19:55.087Z"
   },
   {
    "duration": 14,
    "start_time": "2024-10-05T09:19:55.096Z"
   },
   {
    "duration": 28,
    "start_time": "2024-10-05T09:19:55.112Z"
   },
   {
    "duration": 13,
    "start_time": "2024-10-05T09:19:55.141Z"
   },
   {
    "duration": 26,
    "start_time": "2024-10-05T09:19:55.156Z"
   },
   {
    "duration": 20,
    "start_time": "2024-10-05T09:19:55.184Z"
   },
   {
    "duration": 15,
    "start_time": "2024-10-05T09:19:55.206Z"
   },
   {
    "duration": 24,
    "start_time": "2024-10-05T09:19:55.223Z"
   },
   {
    "duration": 12,
    "start_time": "2024-10-05T09:19:55.250Z"
   },
   {
    "duration": 131,
    "start_time": "2024-10-05T09:19:55.265Z"
   },
   {
    "duration": 29,
    "start_time": "2024-10-05T09:19:55.398Z"
   },
   {
    "duration": 24,
    "start_time": "2024-10-05T09:19:55.429Z"
   },
   {
    "duration": 29,
    "start_time": "2024-10-05T09:19:55.455Z"
   },
   {
    "duration": 23,
    "start_time": "2024-10-05T09:19:55.486Z"
   },
   {
    "duration": 20,
    "start_time": "2024-10-05T09:43:30.694Z"
   },
   {
    "duration": 193,
    "start_time": "2024-10-05T10:02:25.538Z"
   },
   {
    "duration": 13,
    "start_time": "2024-10-05T10:02:54.539Z"
   },
   {
    "duration": 3,
    "start_time": "2024-10-05T10:14:25.363Z"
   },
   {
    "duration": 113,
    "start_time": "2024-10-05T10:14:25.928Z"
   },
   {
    "duration": 17,
    "start_time": "2024-10-05T10:15:01.295Z"
   },
   {
    "duration": 207,
    "start_time": "2024-10-05T10:34:51.822Z"
   },
   {
    "duration": 1176,
    "start_time": "2024-10-05T10:39:19.961Z"
   },
   {
    "duration": 315,
    "start_time": "2024-10-05T10:41:11.105Z"
   },
   {
    "duration": 224,
    "start_time": "2024-10-05T10:41:37.646Z"
   },
   {
    "duration": 229,
    "start_time": "2024-10-05T10:41:49.015Z"
   },
   {
    "duration": 4,
    "start_time": "2024-10-05T13:16:13.349Z"
   },
   {
    "duration": 66,
    "start_time": "2024-10-05T13:40:40.980Z"
   },
   {
    "duration": 48,
    "start_time": "2024-10-05T13:43:08.786Z"
   },
   {
    "duration": 8,
    "start_time": "2024-10-05T13:43:13.881Z"
   },
   {
    "duration": 7,
    "start_time": "2024-10-05T13:44:04.668Z"
   },
   {
    "duration": 1411,
    "start_time": "2024-10-05T13:44:32.214Z"
   },
   {
    "duration": 3,
    "start_time": "2024-10-05T13:44:33.627Z"
   },
   {
    "duration": 296,
    "start_time": "2024-10-05T13:44:33.631Z"
   },
   {
    "duration": 11,
    "start_time": "2024-10-05T13:44:33.928Z"
   },
   {
    "duration": 34,
    "start_time": "2024-10-05T13:44:33.941Z"
   },
   {
    "duration": 23,
    "start_time": "2024-10-05T13:44:33.976Z"
   },
   {
    "duration": 39,
    "start_time": "2024-10-05T13:44:34.001Z"
   },
   {
    "duration": 60,
    "start_time": "2024-10-05T13:44:34.041Z"
   },
   {
    "duration": 52,
    "start_time": "2024-10-05T13:44:34.102Z"
   },
   {
    "duration": 38,
    "start_time": "2024-10-05T13:44:34.156Z"
   },
   {
    "duration": 26,
    "start_time": "2024-10-05T13:44:34.196Z"
   },
   {
    "duration": 41,
    "start_time": "2024-10-05T13:44:34.223Z"
   },
   {
    "duration": 29,
    "start_time": "2024-10-05T13:44:34.266Z"
   },
   {
    "duration": 24,
    "start_time": "2024-10-05T13:44:34.299Z"
   },
   {
    "duration": 77,
    "start_time": "2024-10-05T13:44:34.325Z"
   },
   {
    "duration": 32,
    "start_time": "2024-10-05T13:44:34.404Z"
   },
   {
    "duration": 39,
    "start_time": "2024-10-05T13:44:34.437Z"
   },
   {
    "duration": 33,
    "start_time": "2024-10-05T13:44:34.478Z"
   },
   {
    "duration": 95,
    "start_time": "2024-10-05T13:44:34.513Z"
   },
   {
    "duration": 212,
    "start_time": "2024-10-05T13:44:34.609Z"
   },
   {
    "duration": 11,
    "start_time": "2024-10-05T13:44:34.822Z"
   },
   {
    "duration": 295,
    "start_time": "2024-10-05T13:44:34.834Z"
   },
   {
    "duration": 11,
    "start_time": "2024-10-05T13:44:35.131Z"
   },
   {
    "duration": 1048,
    "start_time": "2024-10-05T13:44:35.144Z"
   },
   {
    "duration": 209,
    "start_time": "2024-10-05T13:52:05.761Z"
   },
   {
    "duration": 1090,
    "start_time": "2024-10-05T13:56:27.859Z"
   },
   {
    "duration": 2,
    "start_time": "2024-10-05T13:56:28.951Z"
   },
   {
    "duration": 92,
    "start_time": "2024-10-05T13:56:28.955Z"
   },
   {
    "duration": 11,
    "start_time": "2024-10-05T13:56:29.048Z"
   },
   {
    "duration": 27,
    "start_time": "2024-10-05T13:56:29.062Z"
   },
   {
    "duration": 4,
    "start_time": "2024-10-05T13:56:29.091Z"
   },
   {
    "duration": 19,
    "start_time": "2024-10-05T13:56:29.096Z"
   },
   {
    "duration": 20,
    "start_time": "2024-10-05T13:56:29.117Z"
   },
   {
    "duration": 17,
    "start_time": "2024-10-05T13:56:29.138Z"
   },
   {
    "duration": 19,
    "start_time": "2024-10-05T13:56:29.157Z"
   },
   {
    "duration": 10,
    "start_time": "2024-10-05T13:56:29.178Z"
   },
   {
    "duration": 9,
    "start_time": "2024-10-05T13:56:29.190Z"
   },
   {
    "duration": 7,
    "start_time": "2024-10-05T13:56:29.201Z"
   },
   {
    "duration": 15,
    "start_time": "2024-10-05T13:56:29.210Z"
   },
   {
    "duration": 17,
    "start_time": "2024-10-05T13:56:29.227Z"
   },
   {
    "duration": 20,
    "start_time": "2024-10-05T13:56:29.245Z"
   },
   {
    "duration": 57,
    "start_time": "2024-10-05T13:56:29.266Z"
   },
   {
    "duration": 9,
    "start_time": "2024-10-05T13:56:29.325Z"
   },
   {
    "duration": 30,
    "start_time": "2024-10-05T13:56:29.335Z"
   },
   {
    "duration": 179,
    "start_time": "2024-10-05T13:56:29.367Z"
   },
   {
    "duration": 11,
    "start_time": "2024-10-05T13:56:29.548Z"
   },
   {
    "duration": 302,
    "start_time": "2024-10-05T13:56:29.561Z"
   },
   {
    "duration": 223,
    "start_time": "2024-10-05T13:56:29.865Z"
   },
   {
    "duration": 108,
    "start_time": "2024-10-05T14:57:03.140Z"
   },
   {
    "duration": 16,
    "start_time": "2024-10-05T14:58:40.273Z"
   },
   {
    "duration": 228,
    "start_time": "2024-10-05T16:01:59.797Z"
   },
   {
    "duration": 320,
    "start_time": "2024-10-05T16:02:28.189Z"
   },
   {
    "duration": 12,
    "start_time": "2024-10-05T16:52:35.736Z"
   },
   {
    "duration": 116,
    "start_time": "2024-10-05T16:52:52.308Z"
   },
   {
    "duration": 14,
    "start_time": "2024-10-05T16:55:23.962Z"
   },
   {
    "duration": 10,
    "start_time": "2024-10-05T16:59:47.134Z"
   },
   {
    "duration": 236,
    "start_time": "2024-10-05T17:11:02.366Z"
   },
   {
    "duration": 16,
    "start_time": "2024-10-05T17:37:07.672Z"
   },
   {
    "duration": 16,
    "start_time": "2024-10-05T17:37:29.333Z"
   },
   {
    "duration": 15,
    "start_time": "2024-10-05T17:37:47.014Z"
   },
   {
    "duration": 317,
    "start_time": "2024-10-05T17:52:54.607Z"
   },
   {
    "duration": 54,
    "start_time": "2024-10-06T10:09:44.265Z"
   },
   {
    "duration": 1455,
    "start_time": "2024-10-06T10:12:00.325Z"
   },
   {
    "duration": 3,
    "start_time": "2024-10-06T10:12:01.782Z"
   },
   {
    "duration": 257,
    "start_time": "2024-10-06T10:12:01.787Z"
   },
   {
    "duration": 12,
    "start_time": "2024-10-06T10:12:02.046Z"
   },
   {
    "duration": 19,
    "start_time": "2024-10-06T10:12:02.061Z"
   },
   {
    "duration": 6,
    "start_time": "2024-10-06T10:12:02.082Z"
   },
   {
    "duration": 14,
    "start_time": "2024-10-06T10:12:02.089Z"
   },
   {
    "duration": 20,
    "start_time": "2024-10-06T10:12:02.105Z"
   },
   {
    "duration": 20,
    "start_time": "2024-10-06T10:12:02.145Z"
   },
   {
    "duration": 17,
    "start_time": "2024-10-06T10:12:02.169Z"
   },
   {
    "duration": 17,
    "start_time": "2024-10-06T10:12:02.189Z"
   },
   {
    "duration": 35,
    "start_time": "2024-10-06T10:12:02.208Z"
   },
   {
    "duration": 24,
    "start_time": "2024-10-06T10:12:02.246Z"
   },
   {
    "duration": 33,
    "start_time": "2024-10-06T10:12:02.271Z"
   },
   {
    "duration": 52,
    "start_time": "2024-10-06T10:12:02.306Z"
   },
   {
    "duration": 25,
    "start_time": "2024-10-06T10:12:02.359Z"
   },
   {
    "duration": 43,
    "start_time": "2024-10-06T10:12:02.386Z"
   },
   {
    "duration": 25,
    "start_time": "2024-10-06T10:12:02.431Z"
   },
   {
    "duration": 18,
    "start_time": "2024-10-06T10:12:02.457Z"
   },
   {
    "duration": 235,
    "start_time": "2024-10-06T10:12:02.476Z"
   },
   {
    "duration": 11,
    "start_time": "2024-10-06T10:12:02.713Z"
   },
   {
    "duration": 356,
    "start_time": "2024-10-06T10:12:02.726Z"
   },
   {
    "duration": 236,
    "start_time": "2024-10-06T10:12:03.084Z"
   },
   {
    "duration": 402,
    "start_time": "2024-10-06T10:12:03.322Z"
   },
   {
    "duration": 145,
    "start_time": "2024-10-06T10:12:03.726Z"
   },
   {
    "duration": 13,
    "start_time": "2024-10-06T10:12:03.873Z"
   },
   {
    "duration": 26,
    "start_time": "2024-10-06T10:12:03.888Z"
   },
   {
    "duration": 262,
    "start_time": "2024-10-06T10:12:03.918Z"
   },
   {
    "duration": 15,
    "start_time": "2024-10-06T10:12:04.182Z"
   },
   {
    "duration": 371,
    "start_time": "2024-10-06T10:12:04.199Z"
   },
   {
    "duration": 9,
    "start_time": "2024-10-06T10:12:04.572Z"
   },
   {
    "duration": 13,
    "start_time": "2024-10-06T10:12:04.583Z"
   },
   {
    "duration": 110,
    "start_time": "2024-10-06T10:22:16.176Z"
   },
   {
    "duration": 10,
    "start_time": "2024-10-06T10:24:47.122Z"
   },
   {
    "duration": 72,
    "start_time": "2024-10-06T10:35:43.890Z"
   },
   {
    "duration": 14,
    "start_time": "2024-10-06T10:37:08.459Z"
   },
   {
    "duration": 1270,
    "start_time": "2024-10-06T10:37:19.926Z"
   },
   {
    "duration": 4,
    "start_time": "2024-10-06T10:37:21.198Z"
   },
   {
    "duration": 101,
    "start_time": "2024-10-06T10:37:21.203Z"
   },
   {
    "duration": 17,
    "start_time": "2024-10-06T10:37:21.306Z"
   },
   {
    "duration": 32,
    "start_time": "2024-10-06T10:37:21.327Z"
   },
   {
    "duration": 27,
    "start_time": "2024-10-06T10:37:21.361Z"
   },
   {
    "duration": 16,
    "start_time": "2024-10-06T10:37:21.389Z"
   },
   {
    "duration": 16,
    "start_time": "2024-10-06T10:37:21.407Z"
   },
   {
    "duration": 11,
    "start_time": "2024-10-06T10:37:21.424Z"
   },
   {
    "duration": 13,
    "start_time": "2024-10-06T10:37:21.437Z"
   },
   {
    "duration": 20,
    "start_time": "2024-10-06T10:37:21.452Z"
   },
   {
    "duration": 26,
    "start_time": "2024-10-06T10:37:21.474Z"
   },
   {
    "duration": 23,
    "start_time": "2024-10-06T10:37:21.502Z"
   },
   {
    "duration": 40,
    "start_time": "2024-10-06T10:37:21.529Z"
   },
   {
    "duration": 36,
    "start_time": "2024-10-06T10:37:21.571Z"
   },
   {
    "duration": 24,
    "start_time": "2024-10-06T10:37:21.609Z"
   },
   {
    "duration": 28,
    "start_time": "2024-10-06T10:37:21.636Z"
   },
   {
    "duration": 18,
    "start_time": "2024-10-06T10:37:21.666Z"
   },
   {
    "duration": 23,
    "start_time": "2024-10-06T10:37:21.686Z"
   },
   {
    "duration": 235,
    "start_time": "2024-10-06T10:37:21.711Z"
   },
   {
    "duration": 11,
    "start_time": "2024-10-06T10:37:21.947Z"
   },
   {
    "duration": 326,
    "start_time": "2024-10-06T10:37:21.960Z"
   },
   {
    "duration": 234,
    "start_time": "2024-10-06T10:37:22.288Z"
   },
   {
    "duration": 363,
    "start_time": "2024-10-06T10:37:22.524Z"
   },
   {
    "duration": 138,
    "start_time": "2024-10-06T10:37:22.889Z"
   },
   {
    "duration": 18,
    "start_time": "2024-10-06T10:37:23.029Z"
   },
   {
    "duration": 12,
    "start_time": "2024-10-06T10:37:23.049Z"
   },
   {
    "duration": 261,
    "start_time": "2024-10-06T10:37:23.062Z"
   },
   {
    "duration": 23,
    "start_time": "2024-10-06T10:37:23.324Z"
   },
   {
    "duration": 346,
    "start_time": "2024-10-06T10:37:23.348Z"
   },
   {
    "duration": 9,
    "start_time": "2024-10-06T10:37:23.696Z"
   },
   {
    "duration": 119,
    "start_time": "2024-10-06T10:37:23.706Z"
   },
   {
    "duration": 0,
    "start_time": "2024-10-06T10:37:23.826Z"
   },
   {
    "duration": 12,
    "start_time": "2024-10-06T10:39:13.526Z"
   },
   {
    "duration": 254,
    "start_time": "2024-10-06T10:58:44.237Z"
   },
   {
    "duration": 286,
    "start_time": "2024-10-06T10:59:03.360Z"
   },
   {
    "duration": 319,
    "start_time": "2024-10-06T10:59:23.198Z"
   },
   {
    "duration": 135,
    "start_time": "2024-10-06T10:59:38.026Z"
   },
   {
    "duration": 76,
    "start_time": "2024-10-06T12:00:33.083Z"
   },
   {
    "duration": 6,
    "start_time": "2024-10-06T12:00:46.680Z"
   },
   {
    "duration": 4,
    "start_time": "2024-10-06T12:08:10.853Z"
   },
   {
    "duration": 5,
    "start_time": "2024-10-06T12:08:48.003Z"
   },
   {
    "duration": 4,
    "start_time": "2024-10-06T12:09:02.668Z"
   },
   {
    "duration": 5,
    "start_time": "2024-10-06T12:10:08.271Z"
   },
   {
    "duration": 5,
    "start_time": "2024-10-06T12:10:19.647Z"
   },
   {
    "duration": 4,
    "start_time": "2024-10-06T12:10:51.051Z"
   },
   {
    "duration": 5,
    "start_time": "2024-10-06T12:20:27.672Z"
   },
   {
    "duration": 12,
    "start_time": "2024-10-06T12:21:30.047Z"
   },
   {
    "duration": 1062,
    "start_time": "2024-10-06T12:41:03.249Z"
   },
   {
    "duration": 145,
    "start_time": "2024-10-06T12:41:35.415Z"
   },
   {
    "duration": 1218,
    "start_time": "2024-10-06T12:41:47.777Z"
   },
   {
    "duration": 3,
    "start_time": "2024-10-06T12:41:48.997Z"
   },
   {
    "duration": 126,
    "start_time": "2024-10-06T12:41:49.003Z"
   },
   {
    "duration": 17,
    "start_time": "2024-10-06T12:41:49.132Z"
   },
   {
    "duration": 26,
    "start_time": "2024-10-06T12:41:49.151Z"
   },
   {
    "duration": 7,
    "start_time": "2024-10-06T12:41:49.179Z"
   },
   {
    "duration": 17,
    "start_time": "2024-10-06T12:41:49.188Z"
   },
   {
    "duration": 38,
    "start_time": "2024-10-06T12:41:49.207Z"
   },
   {
    "duration": 7,
    "start_time": "2024-10-06T12:41:49.248Z"
   },
   {
    "duration": 17,
    "start_time": "2024-10-06T12:41:49.257Z"
   },
   {
    "duration": 22,
    "start_time": "2024-10-06T12:41:49.276Z"
   },
   {
    "duration": 34,
    "start_time": "2024-10-06T12:41:49.299Z"
   },
   {
    "duration": 11,
    "start_time": "2024-10-06T12:41:49.335Z"
   },
   {
    "duration": 16,
    "start_time": "2024-10-06T12:41:49.348Z"
   },
   {
    "duration": 49,
    "start_time": "2024-10-06T12:41:49.366Z"
   },
   {
    "duration": 11,
    "start_time": "2024-10-06T12:41:49.417Z"
   },
   {
    "duration": 18,
    "start_time": "2024-10-06T12:41:49.430Z"
   },
   {
    "duration": 12,
    "start_time": "2024-10-06T12:41:49.449Z"
   },
   {
    "duration": 14,
    "start_time": "2024-10-06T12:41:49.463Z"
   },
   {
    "duration": 223,
    "start_time": "2024-10-06T12:41:49.479Z"
   },
   {
    "duration": 13,
    "start_time": "2024-10-06T12:41:49.704Z"
   },
   {
    "duration": 365,
    "start_time": "2024-10-06T12:41:49.719Z"
   },
   {
    "duration": 269,
    "start_time": "2024-10-06T12:41:50.086Z"
   },
   {
    "duration": 331,
    "start_time": "2024-10-06T12:41:50.357Z"
   },
   {
    "duration": 138,
    "start_time": "2024-10-06T12:41:50.690Z"
   },
   {
    "duration": 26,
    "start_time": "2024-10-06T12:41:50.830Z"
   },
   {
    "duration": 28,
    "start_time": "2024-10-06T12:41:50.858Z"
   },
   {
    "duration": 237,
    "start_time": "2024-10-06T12:41:50.889Z"
   },
   {
    "duration": 22,
    "start_time": "2024-10-06T12:41:51.128Z"
   },
   {
    "duration": 340,
    "start_time": "2024-10-06T12:41:51.153Z"
   },
   {
    "duration": 9,
    "start_time": "2024-10-06T12:41:51.495Z"
   },
   {
    "duration": 11,
    "start_time": "2024-10-06T12:41:51.506Z"
   },
   {
    "duration": 176,
    "start_time": "2024-10-06T12:41:51.519Z"
   },
   {
    "duration": 4,
    "start_time": "2024-10-06T12:41:51.697Z"
   },
   {
    "duration": 12,
    "start_time": "2024-10-06T12:41:51.702Z"
   },
   {
    "duration": 184,
    "start_time": "2024-10-06T12:41:51.716Z"
   },
   {
    "duration": 285,
    "start_time": "2024-10-06T13:03:01.142Z"
   },
   {
    "duration": 177,
    "start_time": "2024-10-06T13:03:21.105Z"
   },
   {
    "duration": 228,
    "start_time": "2024-10-06T13:03:32.543Z"
   },
   {
    "duration": 203,
    "start_time": "2024-10-06T13:03:59.347Z"
   },
   {
    "duration": 3,
    "start_time": "2024-10-06T13:35:52.011Z"
   },
   {
    "duration": 5,
    "start_time": "2024-10-06T13:39:26.796Z"
   },
   {
    "duration": 6,
    "start_time": "2024-10-06T13:54:15.112Z"
   },
   {
    "duration": 4,
    "start_time": "2024-10-06T13:54:26.475Z"
   },
   {
    "duration": 4,
    "start_time": "2024-10-06T13:54:48.081Z"
   },
   {
    "duration": 5,
    "start_time": "2024-10-06T13:55:44.939Z"
   },
   {
    "duration": 5,
    "start_time": "2024-10-06T13:56:29.687Z"
   },
   {
    "duration": 1261,
    "start_time": "2024-10-06T14:05:12.428Z"
   },
   {
    "duration": 4,
    "start_time": "2024-10-06T14:05:13.691Z"
   },
   {
    "duration": 108,
    "start_time": "2024-10-06T14:05:13.697Z"
   },
   {
    "duration": 12,
    "start_time": "2024-10-06T14:05:13.807Z"
   },
   {
    "duration": 34,
    "start_time": "2024-10-06T14:05:13.822Z"
   },
   {
    "duration": 13,
    "start_time": "2024-10-06T14:05:13.858Z"
   },
   {
    "duration": 19,
    "start_time": "2024-10-06T14:05:13.873Z"
   },
   {
    "duration": 29,
    "start_time": "2024-10-06T14:05:13.894Z"
   },
   {
    "duration": 7,
    "start_time": "2024-10-06T14:05:13.925Z"
   },
   {
    "duration": 22,
    "start_time": "2024-10-06T14:05:13.934Z"
   },
   {
    "duration": 24,
    "start_time": "2024-10-06T14:05:13.958Z"
   },
   {
    "duration": 26,
    "start_time": "2024-10-06T14:05:13.983Z"
   },
   {
    "duration": 33,
    "start_time": "2024-10-06T14:05:14.011Z"
   },
   {
    "duration": 24,
    "start_time": "2024-10-06T14:05:14.047Z"
   },
   {
    "duration": 21,
    "start_time": "2024-10-06T14:05:14.073Z"
   },
   {
    "duration": 27,
    "start_time": "2024-10-06T14:05:14.096Z"
   },
   {
    "duration": 14,
    "start_time": "2024-10-06T14:05:14.125Z"
   },
   {
    "duration": 21,
    "start_time": "2024-10-06T14:05:14.140Z"
   },
   {
    "duration": 34,
    "start_time": "2024-10-06T14:05:14.163Z"
   },
   {
    "duration": 251,
    "start_time": "2024-10-06T14:05:14.199Z"
   },
   {
    "duration": 11,
    "start_time": "2024-10-06T14:05:14.452Z"
   },
   {
    "duration": 329,
    "start_time": "2024-10-06T14:05:14.465Z"
   },
   {
    "duration": 219,
    "start_time": "2024-10-06T14:05:14.796Z"
   },
   {
    "duration": 352,
    "start_time": "2024-10-06T14:05:15.017Z"
   },
   {
    "duration": 140,
    "start_time": "2024-10-06T14:05:15.371Z"
   },
   {
    "duration": 12,
    "start_time": "2024-10-06T14:05:15.513Z"
   },
   {
    "duration": 27,
    "start_time": "2024-10-06T14:05:15.527Z"
   },
   {
    "duration": 269,
    "start_time": "2024-10-06T14:05:15.556Z"
   },
   {
    "duration": 25,
    "start_time": "2024-10-06T14:05:15.827Z"
   },
   {
    "duration": 321,
    "start_time": "2024-10-06T14:05:15.854Z"
   },
   {
    "duration": 8,
    "start_time": "2024-10-06T14:05:16.176Z"
   },
   {
    "duration": 26,
    "start_time": "2024-10-06T14:05:16.186Z"
   },
   {
    "duration": 143,
    "start_time": "2024-10-06T14:05:16.213Z"
   },
   {
    "duration": 5,
    "start_time": "2024-10-06T14:05:16.357Z"
   },
   {
    "duration": 30,
    "start_time": "2024-10-06T14:05:16.363Z"
   },
   {
    "duration": 156,
    "start_time": "2024-10-06T14:05:16.395Z"
   },
   {
    "duration": 287,
    "start_time": "2024-10-06T14:05:16.553Z"
   },
   {
    "duration": 6,
    "start_time": "2024-10-06T14:05:16.842Z"
   },
   {
    "duration": 10,
    "start_time": "2024-10-06T14:22:44.349Z"
   },
   {
    "duration": 23,
    "start_time": "2024-10-06T14:32:33.735Z"
   },
   {
    "duration": 21,
    "start_time": "2024-10-06T14:40:05.067Z"
   },
   {
    "duration": 12,
    "start_time": "2024-10-06T14:49:08.001Z"
   },
   {
    "duration": 9,
    "start_time": "2024-10-06T14:53:09.362Z"
   },
   {
    "duration": 9,
    "start_time": "2024-10-06T15:04:36.142Z"
   },
   {
    "duration": 13,
    "start_time": "2024-10-06T18:12:46.153Z"
   },
   {
    "duration": 29,
    "start_time": "2024-10-06T18:12:56.744Z"
   },
   {
    "duration": 26,
    "start_time": "2024-10-06T18:13:18.829Z"
   },
   {
    "duration": 28,
    "start_time": "2024-10-06T18:18:29.780Z"
   },
   {
    "duration": 97,
    "start_time": "2024-10-07T07:56:21.090Z"
   },
   {
    "duration": 1514,
    "start_time": "2024-10-07T07:56:46.597Z"
   },
   {
    "duration": 3,
    "start_time": "2024-10-07T07:56:48.113Z"
   },
   {
    "duration": 266,
    "start_time": "2024-10-07T07:56:48.117Z"
   },
   {
    "duration": 12,
    "start_time": "2024-10-07T07:56:48.385Z"
   },
   {
    "duration": 26,
    "start_time": "2024-10-07T07:56:48.400Z"
   },
   {
    "duration": 30,
    "start_time": "2024-10-07T07:56:48.427Z"
   },
   {
    "duration": 36,
    "start_time": "2024-10-07T07:56:48.458Z"
   },
   {
    "duration": 18,
    "start_time": "2024-10-07T07:56:48.496Z"
   },
   {
    "duration": 36,
    "start_time": "2024-10-07T07:56:48.516Z"
   },
   {
    "duration": 17,
    "start_time": "2024-10-07T07:56:48.554Z"
   },
   {
    "duration": 14,
    "start_time": "2024-10-07T07:56:48.573Z"
   },
   {
    "duration": 18,
    "start_time": "2024-10-07T07:56:48.590Z"
   },
   {
    "duration": 9,
    "start_time": "2024-10-07T07:56:48.610Z"
   },
   {
    "duration": 34,
    "start_time": "2024-10-07T07:56:48.648Z"
   },
   {
    "duration": 14,
    "start_time": "2024-10-07T07:56:48.684Z"
   },
   {
    "duration": 11,
    "start_time": "2024-10-07T07:56:48.700Z"
   },
   {
    "duration": 34,
    "start_time": "2024-10-07T07:56:48.714Z"
   },
   {
    "duration": 11,
    "start_time": "2024-10-07T07:56:48.750Z"
   },
   {
    "duration": 24,
    "start_time": "2024-10-07T07:56:48.763Z"
   },
   {
    "duration": 216,
    "start_time": "2024-10-07T07:56:48.788Z"
   },
   {
    "duration": 11,
    "start_time": "2024-10-07T07:56:49.006Z"
   },
   {
    "duration": 336,
    "start_time": "2024-10-07T07:56:49.019Z"
   },
   {
    "duration": 237,
    "start_time": "2024-10-07T07:56:49.356Z"
   },
   {
    "duration": 406,
    "start_time": "2024-10-07T07:56:49.595Z"
   },
   {
    "duration": 133,
    "start_time": "2024-10-07T07:56:50.003Z"
   },
   {
    "duration": 13,
    "start_time": "2024-10-07T07:56:50.137Z"
   },
   {
    "duration": 13,
    "start_time": "2024-10-07T07:56:50.151Z"
   },
   {
    "duration": 263,
    "start_time": "2024-10-07T07:56:50.166Z"
   },
   {
    "duration": 23,
    "start_time": "2024-10-07T07:56:50.431Z"
   },
   {
    "duration": 354,
    "start_time": "2024-10-07T07:56:50.456Z"
   },
   {
    "duration": 8,
    "start_time": "2024-10-07T07:56:50.812Z"
   },
   {
    "duration": 28,
    "start_time": "2024-10-07T07:56:50.823Z"
   },
   {
    "duration": 154,
    "start_time": "2024-10-07T07:56:50.853Z"
   },
   {
    "duration": 6,
    "start_time": "2024-10-07T07:56:51.009Z"
   },
   {
    "duration": 21,
    "start_time": "2024-10-07T07:56:51.017Z"
   },
   {
    "duration": 162,
    "start_time": "2024-10-07T07:56:51.045Z"
   },
   {
    "duration": 280,
    "start_time": "2024-10-07T07:56:51.209Z"
   },
   {
    "duration": 4,
    "start_time": "2024-10-07T07:56:51.491Z"
   },
   {
    "duration": 12,
    "start_time": "2024-10-07T07:56:51.497Z"
   },
   {
    "duration": 10,
    "start_time": "2024-10-07T07:56:51.511Z"
   },
   {
    "duration": 23,
    "start_time": "2024-10-07T07:56:51.525Z"
   },
   {
    "duration": 30,
    "start_time": "2024-10-07T07:56:51.549Z"
   },
   {
    "duration": 26,
    "start_time": "2024-10-07T07:56:51.580Z"
   },
   {
    "duration": 78,
    "start_time": "2024-10-07T07:56:51.608Z"
   },
   {
    "duration": 0,
    "start_time": "2024-10-07T07:56:51.688Z"
   },
   {
    "duration": 1177,
    "start_time": "2024-10-07T07:57:48.684Z"
   },
   {
    "duration": 11,
    "start_time": "2024-10-07T07:58:08.422Z"
   },
   {
    "duration": 9,
    "start_time": "2024-10-07T08:01:50.265Z"
   },
   {
    "duration": 81,
    "start_time": "2024-10-07T10:09:33.211Z"
   },
   {
    "duration": 70,
    "start_time": "2024-10-07T10:09:41.215Z"
   },
   {
    "duration": 1109,
    "start_time": "2024-10-07T10:09:55.042Z"
   },
   {
    "duration": 1079,
    "start_time": "2024-10-07T10:10:21.551Z"
   },
   {
    "duration": 15,
    "start_time": "2024-10-07T10:10:43.368Z"
   },
   {
    "duration": 8,
    "start_time": "2024-10-07T10:12:01.559Z"
   },
   {
    "duration": 7,
    "start_time": "2024-10-07T10:12:44.186Z"
   },
   {
    "duration": 17,
    "start_time": "2024-10-07T11:17:23.852Z"
   },
   {
    "duration": 28,
    "start_time": "2024-10-07T11:30:52.260Z"
   },
   {
    "duration": 25,
    "start_time": "2024-10-07T11:31:18.439Z"
   },
   {
    "duration": 8,
    "start_time": "2024-10-07T13:48:37.772Z"
   },
   {
    "duration": 105,
    "start_time": "2024-10-07T14:09:38.754Z"
   },
   {
    "duration": 76,
    "start_time": "2024-10-07T14:12:21.892Z"
   },
   {
    "duration": 1301,
    "start_time": "2024-10-07T14:12:28.217Z"
   },
   {
    "duration": 3,
    "start_time": "2024-10-07T14:12:29.520Z"
   },
   {
    "duration": 81,
    "start_time": "2024-10-07T14:12:29.525Z"
   },
   {
    "duration": 12,
    "start_time": "2024-10-07T14:12:29.608Z"
   },
   {
    "duration": 13,
    "start_time": "2024-10-07T14:12:29.623Z"
   },
   {
    "duration": 10,
    "start_time": "2024-10-07T14:12:29.638Z"
   },
   {
    "duration": 37,
    "start_time": "2024-10-07T14:12:29.649Z"
   },
   {
    "duration": 18,
    "start_time": "2024-10-07T14:12:29.688Z"
   },
   {
    "duration": 10,
    "start_time": "2024-10-07T14:12:29.708Z"
   },
   {
    "duration": 19,
    "start_time": "2024-10-07T14:12:29.719Z"
   },
   {
    "duration": 21,
    "start_time": "2024-10-07T14:12:29.740Z"
   },
   {
    "duration": 13,
    "start_time": "2024-10-07T14:12:29.762Z"
   },
   {
    "duration": 8,
    "start_time": "2024-10-07T14:12:29.777Z"
   },
   {
    "duration": 11,
    "start_time": "2024-10-07T14:12:29.789Z"
   },
   {
    "duration": 12,
    "start_time": "2024-10-07T14:12:29.802Z"
   },
   {
    "duration": 34,
    "start_time": "2024-10-07T14:12:29.816Z"
   },
   {
    "duration": 14,
    "start_time": "2024-10-07T14:12:29.852Z"
   },
   {
    "duration": 16,
    "start_time": "2024-10-07T14:12:29.868Z"
   },
   {
    "duration": 20,
    "start_time": "2024-10-07T14:12:29.885Z"
   },
   {
    "duration": 228,
    "start_time": "2024-10-07T14:12:29.907Z"
   },
   {
    "duration": 15,
    "start_time": "2024-10-07T14:12:30.136Z"
   },
   {
    "duration": 351,
    "start_time": "2024-10-07T14:12:30.153Z"
   },
   {
    "duration": 237,
    "start_time": "2024-10-07T14:12:30.506Z"
   },
   {
    "duration": 345,
    "start_time": "2024-10-07T14:12:30.744Z"
   },
   {
    "duration": 142,
    "start_time": "2024-10-07T14:12:31.091Z"
   },
   {
    "duration": 15,
    "start_time": "2024-10-07T14:12:31.234Z"
   },
   {
    "duration": 29,
    "start_time": "2024-10-07T14:12:31.251Z"
   },
   {
    "duration": 264,
    "start_time": "2024-10-07T14:12:31.282Z"
   },
   {
    "duration": 23,
    "start_time": "2024-10-07T14:12:31.549Z"
   },
   {
    "duration": 321,
    "start_time": "2024-10-07T14:12:31.574Z"
   },
   {
    "duration": 10,
    "start_time": "2024-10-07T14:12:31.898Z"
   },
   {
    "duration": 35,
    "start_time": "2024-10-07T14:12:31.910Z"
   },
   {
    "duration": 141,
    "start_time": "2024-10-07T14:12:31.947Z"
   },
   {
    "duration": 5,
    "start_time": "2024-10-07T14:12:32.089Z"
   },
   {
    "duration": 15,
    "start_time": "2024-10-07T14:12:32.095Z"
   },
   {
    "duration": 160,
    "start_time": "2024-10-07T14:12:32.112Z"
   },
   {
    "duration": 290,
    "start_time": "2024-10-07T14:12:32.273Z"
   },
   {
    "duration": 5,
    "start_time": "2024-10-07T14:12:32.565Z"
   },
   {
    "duration": 123,
    "start_time": "2024-10-07T14:12:32.572Z"
   },
   {
    "duration": 37,
    "start_time": "2024-10-07T14:12:32.697Z"
   },
   {
    "duration": 7,
    "start_time": "2024-10-07T14:12:32.738Z"
   },
   {
    "duration": 26,
    "start_time": "2024-10-07T14:12:32.747Z"
   },
   {
    "duration": 30,
    "start_time": "2024-10-07T14:12:32.775Z"
   },
   {
    "duration": 12,
    "start_time": "2024-10-07T14:12:32.806Z"
   },
   {
    "duration": 30,
    "start_time": "2024-10-07T14:12:32.820Z"
   },
   {
    "duration": 14,
    "start_time": "2024-10-07T14:12:32.852Z"
   },
   {
    "duration": 35,
    "start_time": "2024-10-07T14:12:32.868Z"
   },
   {
    "duration": 33,
    "start_time": "2024-10-07T14:12:32.905Z"
   },
   {
    "duration": 26,
    "start_time": "2024-10-07T14:12:32.941Z"
   },
   {
    "duration": 80,
    "start_time": "2024-10-07T14:12:32.969Z"
   },
   {
    "duration": 0,
    "start_time": "2024-10-07T14:12:33.051Z"
   },
   {
    "duration": 0,
    "start_time": "2024-10-07T14:12:33.055Z"
   },
   {
    "duration": 15,
    "start_time": "2024-10-07T14:13:33.177Z"
   },
   {
    "duration": 12,
    "start_time": "2024-10-07T14:22:45.905Z"
   },
   {
    "duration": 14,
    "start_time": "2024-10-07T14:26:09.713Z"
   },
   {
    "duration": 26,
    "start_time": "2024-10-07T14:26:27.605Z"
   },
   {
    "duration": 27,
    "start_time": "2024-10-07T14:27:07.874Z"
   },
   {
    "duration": 11,
    "start_time": "2024-10-07T14:27:48.005Z"
   },
   {
    "duration": 1261,
    "start_time": "2024-10-07T16:18:54.252Z"
   },
   {
    "duration": 4,
    "start_time": "2024-10-07T16:18:55.514Z"
   },
   {
    "duration": 101,
    "start_time": "2024-10-07T16:18:55.520Z"
   },
   {
    "duration": 12,
    "start_time": "2024-10-07T16:18:55.623Z"
   },
   {
    "duration": 14,
    "start_time": "2024-10-07T16:18:55.637Z"
   },
   {
    "duration": 10,
    "start_time": "2024-10-07T16:18:55.653Z"
   },
   {
    "duration": 18,
    "start_time": "2024-10-07T16:18:55.664Z"
   },
   {
    "duration": 25,
    "start_time": "2024-10-07T16:18:55.684Z"
   },
   {
    "duration": 8,
    "start_time": "2024-10-07T16:18:55.711Z"
   },
   {
    "duration": 31,
    "start_time": "2024-10-07T16:18:55.722Z"
   },
   {
    "duration": 15,
    "start_time": "2024-10-07T16:18:55.756Z"
   },
   {
    "duration": 18,
    "start_time": "2024-10-07T16:18:55.774Z"
   },
   {
    "duration": 8,
    "start_time": "2024-10-07T16:18:55.794Z"
   },
   {
    "duration": 43,
    "start_time": "2024-10-07T16:18:55.804Z"
   },
   {
    "duration": 26,
    "start_time": "2024-10-07T16:18:55.849Z"
   },
   {
    "duration": 12,
    "start_time": "2024-10-07T16:18:55.878Z"
   },
   {
    "duration": 15,
    "start_time": "2024-10-07T16:18:55.892Z"
   },
   {
    "duration": 27,
    "start_time": "2024-10-07T16:18:55.909Z"
   },
   {
    "duration": 24,
    "start_time": "2024-10-07T16:18:55.937Z"
   },
   {
    "duration": 201,
    "start_time": "2024-10-07T16:18:55.963Z"
   },
   {
    "duration": 12,
    "start_time": "2024-10-07T16:18:56.166Z"
   },
   {
    "duration": 340,
    "start_time": "2024-10-07T16:18:56.180Z"
   },
   {
    "duration": 241,
    "start_time": "2024-10-07T16:18:56.521Z"
   },
   {
    "duration": 325,
    "start_time": "2024-10-07T16:18:56.763Z"
   },
   {
    "duration": 142,
    "start_time": "2024-10-07T16:18:57.090Z"
   },
   {
    "duration": 17,
    "start_time": "2024-10-07T16:18:57.246Z"
   },
   {
    "duration": 17,
    "start_time": "2024-10-07T16:18:57.265Z"
   },
   {
    "duration": 270,
    "start_time": "2024-10-07T16:18:57.286Z"
   },
   {
    "duration": 16,
    "start_time": "2024-10-07T16:18:57.558Z"
   },
   {
    "duration": 325,
    "start_time": "2024-10-07T16:18:57.575Z"
   },
   {
    "duration": 9,
    "start_time": "2024-10-07T16:18:57.901Z"
   },
   {
    "duration": 10,
    "start_time": "2024-10-07T16:18:57.911Z"
   },
   {
    "duration": 154,
    "start_time": "2024-10-07T16:18:57.922Z"
   },
   {
    "duration": 5,
    "start_time": "2024-10-07T16:18:58.077Z"
   },
   {
    "duration": 13,
    "start_time": "2024-10-07T16:18:58.083Z"
   },
   {
    "duration": 157,
    "start_time": "2024-10-07T16:18:58.098Z"
   },
   {
    "duration": 278,
    "start_time": "2024-10-07T16:18:58.257Z"
   },
   {
    "duration": 6,
    "start_time": "2024-10-07T16:18:58.545Z"
   },
   {
    "duration": 32,
    "start_time": "2024-10-07T16:18:58.553Z"
   },
   {
    "duration": 21,
    "start_time": "2024-10-07T16:18:58.587Z"
   },
   {
    "duration": 10,
    "start_time": "2024-10-07T16:18:58.610Z"
   },
   {
    "duration": 41,
    "start_time": "2024-10-07T16:18:58.622Z"
   },
   {
    "duration": 28,
    "start_time": "2024-10-07T16:18:58.665Z"
   },
   {
    "duration": 13,
    "start_time": "2024-10-07T16:18:58.695Z"
   },
   {
    "duration": 12,
    "start_time": "2024-10-07T16:18:58.710Z"
   },
   {
    "duration": 7,
    "start_time": "2024-10-07T16:18:58.745Z"
   },
   {
    "duration": 18,
    "start_time": "2024-10-07T16:18:58.754Z"
   },
   {
    "duration": 26,
    "start_time": "2024-10-07T16:18:58.774Z"
   },
   {
    "duration": 27,
    "start_time": "2024-10-07T16:18:58.802Z"
   },
   {
    "duration": 15,
    "start_time": "2024-10-07T16:18:58.847Z"
   },
   {
    "duration": 45,
    "start_time": "2024-10-07T16:18:58.864Z"
   },
   {
    "duration": 1255,
    "start_time": "2024-10-07T19:08:35.736Z"
   },
   {
    "duration": 3,
    "start_time": "2024-10-07T19:08:36.993Z"
   },
   {
    "duration": 112,
    "start_time": "2024-10-07T19:08:36.997Z"
   },
   {
    "duration": 11,
    "start_time": "2024-10-07T19:08:37.111Z"
   },
   {
    "duration": 23,
    "start_time": "2024-10-07T19:08:37.124Z"
   },
   {
    "duration": 5,
    "start_time": "2024-10-07T19:08:37.149Z"
   },
   {
    "duration": 12,
    "start_time": "2024-10-07T19:08:37.155Z"
   },
   {
    "duration": 27,
    "start_time": "2024-10-07T19:08:37.168Z"
   },
   {
    "duration": 25,
    "start_time": "2024-10-07T19:08:37.197Z"
   },
   {
    "duration": 17,
    "start_time": "2024-10-07T19:08:37.225Z"
   },
   {
    "duration": 68,
    "start_time": "2024-10-07T19:08:37.244Z"
   },
   {
    "duration": 16,
    "start_time": "2024-10-07T19:08:37.314Z"
   },
   {
    "duration": 10,
    "start_time": "2024-10-07T19:08:37.331Z"
   },
   {
    "duration": 14,
    "start_time": "2024-10-07T19:08:37.342Z"
   },
   {
    "duration": 21,
    "start_time": "2024-10-07T19:08:37.358Z"
   },
   {
    "duration": 10,
    "start_time": "2024-10-07T19:08:37.381Z"
   },
   {
    "duration": 23,
    "start_time": "2024-10-07T19:08:37.393Z"
   },
   {
    "duration": 32,
    "start_time": "2024-10-07T19:08:37.417Z"
   },
   {
    "duration": 11,
    "start_time": "2024-10-07T19:08:37.451Z"
   },
   {
    "duration": 198,
    "start_time": "2024-10-07T19:08:37.464Z"
   },
   {
    "duration": 12,
    "start_time": "2024-10-07T19:08:37.663Z"
   },
   {
    "duration": 330,
    "start_time": "2024-10-07T19:08:37.677Z"
   },
   {
    "duration": 242,
    "start_time": "2024-10-07T19:08:38.010Z"
   },
   {
    "duration": 348,
    "start_time": "2024-10-07T19:08:38.254Z"
   },
   {
    "duration": 160,
    "start_time": "2024-10-07T19:08:38.606Z"
   },
   {
    "duration": 11,
    "start_time": "2024-10-07T19:08:38.767Z"
   },
   {
    "duration": 13,
    "start_time": "2024-10-07T19:08:38.780Z"
   },
   {
    "duration": 248,
    "start_time": "2024-10-07T19:08:38.796Z"
   },
   {
    "duration": 15,
    "start_time": "2024-10-07T19:08:39.046Z"
   },
   {
    "duration": 323,
    "start_time": "2024-10-07T19:08:39.062Z"
   },
   {
    "duration": 9,
    "start_time": "2024-10-07T19:08:39.386Z"
   },
   {
    "duration": 19,
    "start_time": "2024-10-07T19:08:39.396Z"
   },
   {
    "duration": 153,
    "start_time": "2024-10-07T19:08:39.416Z"
   },
   {
    "duration": 5,
    "start_time": "2024-10-07T19:08:39.570Z"
   },
   {
    "duration": 21,
    "start_time": "2024-10-07T19:08:39.577Z"
   },
   {
    "duration": 158,
    "start_time": "2024-10-07T19:08:39.600Z"
   },
   {
    "duration": 295,
    "start_time": "2024-10-07T19:08:39.759Z"
   },
   {
    "duration": 5,
    "start_time": "2024-10-07T19:08:40.056Z"
   },
   {
    "duration": 27,
    "start_time": "2024-10-07T19:08:40.063Z"
   },
   {
    "duration": 24,
    "start_time": "2024-10-07T19:08:40.092Z"
   },
   {
    "duration": 7,
    "start_time": "2024-10-07T19:08:40.118Z"
   },
   {
    "duration": 34,
    "start_time": "2024-10-07T19:08:40.127Z"
   },
   {
    "duration": 26,
    "start_time": "2024-10-07T19:08:40.163Z"
   },
   {
    "duration": 11,
    "start_time": "2024-10-07T19:08:40.190Z"
   },
   {
    "duration": 8,
    "start_time": "2024-10-07T19:08:40.203Z"
   },
   {
    "duration": 34,
    "start_time": "2024-10-07T19:08:40.213Z"
   },
   {
    "duration": 10,
    "start_time": "2024-10-07T19:08:40.249Z"
   },
   {
    "duration": 33,
    "start_time": "2024-10-07T19:08:40.262Z"
   },
   {
    "duration": 26,
    "start_time": "2024-10-07T19:08:40.296Z"
   },
   {
    "duration": 35,
    "start_time": "2024-10-07T19:08:40.324Z"
   },
   {
    "duration": 13,
    "start_time": "2024-10-07T19:08:40.361Z"
   },
   {
    "duration": 1412,
    "start_time": "2024-10-08T06:12:42.165Z"
   },
   {
    "duration": 3,
    "start_time": "2024-10-08T06:12:43.579Z"
   },
   {
    "duration": 251,
    "start_time": "2024-10-08T06:12:43.584Z"
   },
   {
    "duration": 12,
    "start_time": "2024-10-08T06:12:43.837Z"
   },
   {
    "duration": 13,
    "start_time": "2024-10-08T06:12:43.851Z"
   },
   {
    "duration": 6,
    "start_time": "2024-10-08T06:12:43.865Z"
   },
   {
    "duration": 12,
    "start_time": "2024-10-08T06:12:43.872Z"
   },
   {
    "duration": 23,
    "start_time": "2024-10-08T06:12:43.885Z"
   },
   {
    "duration": 12,
    "start_time": "2024-10-08T06:12:43.910Z"
   },
   {
    "duration": 12,
    "start_time": "2024-10-08T06:12:43.923Z"
   },
   {
    "duration": 25,
    "start_time": "2024-10-08T06:12:43.937Z"
   },
   {
    "duration": 25,
    "start_time": "2024-10-08T06:12:43.964Z"
   },
   {
    "duration": 11,
    "start_time": "2024-10-08T06:12:43.991Z"
   },
   {
    "duration": 11,
    "start_time": "2024-10-08T06:12:44.005Z"
   },
   {
    "duration": 17,
    "start_time": "2024-10-08T06:12:44.018Z"
   },
   {
    "duration": 11,
    "start_time": "2024-10-08T06:12:44.037Z"
   },
   {
    "duration": 26,
    "start_time": "2024-10-08T06:12:44.050Z"
   },
   {
    "duration": 26,
    "start_time": "2024-10-08T06:12:44.078Z"
   },
   {
    "duration": 13,
    "start_time": "2024-10-08T06:12:44.105Z"
   },
   {
    "duration": 210,
    "start_time": "2024-10-08T06:12:44.120Z"
   },
   {
    "duration": 11,
    "start_time": "2024-10-08T06:12:44.332Z"
   },
   {
    "duration": 328,
    "start_time": "2024-10-08T06:12:44.344Z"
   },
   {
    "duration": 233,
    "start_time": "2024-10-08T06:12:44.674Z"
   },
   {
    "duration": 355,
    "start_time": "2024-10-08T06:12:44.909Z"
   },
   {
    "duration": 141,
    "start_time": "2024-10-08T06:12:45.266Z"
   },
   {
    "duration": 11,
    "start_time": "2024-10-08T06:12:45.408Z"
   },
   {
    "duration": 30,
    "start_time": "2024-10-08T06:12:45.421Z"
   },
   {
    "duration": 254,
    "start_time": "2024-10-08T06:12:45.453Z"
   },
   {
    "duration": 15,
    "start_time": "2024-10-08T06:12:45.708Z"
   },
   {
    "duration": 311,
    "start_time": "2024-10-08T06:12:45.725Z"
   },
   {
    "duration": 9,
    "start_time": "2024-10-08T06:12:46.038Z"
   },
   {
    "duration": 10,
    "start_time": "2024-10-08T06:12:46.048Z"
   },
   {
    "duration": 157,
    "start_time": "2024-10-08T06:12:46.060Z"
   },
   {
    "duration": 4,
    "start_time": "2024-10-08T06:12:46.219Z"
   },
   {
    "duration": 10,
    "start_time": "2024-10-08T06:12:46.225Z"
   },
   {
    "duration": 162,
    "start_time": "2024-10-08T06:12:46.237Z"
   },
   {
    "duration": 278,
    "start_time": "2024-10-08T06:12:46.401Z"
   },
   {
    "duration": 17,
    "start_time": "2024-10-08T06:12:46.680Z"
   },
   {
    "duration": 9,
    "start_time": "2024-10-08T06:12:46.699Z"
   },
   {
    "duration": 16,
    "start_time": "2024-10-08T06:12:46.709Z"
   },
   {
    "duration": 8,
    "start_time": "2024-10-08T06:12:46.729Z"
   },
   {
    "duration": 29,
    "start_time": "2024-10-08T06:12:46.739Z"
   },
   {
    "duration": 46,
    "start_time": "2024-10-08T06:12:46.769Z"
   },
   {
    "duration": 11,
    "start_time": "2024-10-08T06:12:46.817Z"
   },
   {
    "duration": 10,
    "start_time": "2024-10-08T06:12:46.830Z"
   },
   {
    "duration": 32,
    "start_time": "2024-10-08T06:12:46.841Z"
   },
   {
    "duration": 21,
    "start_time": "2024-10-08T06:12:46.874Z"
   },
   {
    "duration": 49,
    "start_time": "2024-10-08T06:12:46.897Z"
   },
   {
    "duration": 27,
    "start_time": "2024-10-08T06:12:46.948Z"
   },
   {
    "duration": 15,
    "start_time": "2024-10-08T06:12:46.977Z"
   },
   {
    "duration": 11,
    "start_time": "2024-10-08T06:12:46.997Z"
   },
   {
    "duration": 1215,
    "start_time": "2024-10-08T06:34:45.668Z"
   },
   {
    "duration": 3,
    "start_time": "2024-10-08T06:34:46.885Z"
   },
   {
    "duration": 103,
    "start_time": "2024-10-08T06:34:46.889Z"
   },
   {
    "duration": 11,
    "start_time": "2024-10-08T06:34:46.994Z"
   },
   {
    "duration": 11,
    "start_time": "2024-10-08T06:34:47.007Z"
   },
   {
    "duration": 5,
    "start_time": "2024-10-08T06:34:47.019Z"
   },
   {
    "duration": 15,
    "start_time": "2024-10-08T06:34:47.025Z"
   },
   {
    "duration": 14,
    "start_time": "2024-10-08T06:34:47.041Z"
   },
   {
    "duration": 22,
    "start_time": "2024-10-08T06:34:47.057Z"
   },
   {
    "duration": 13,
    "start_time": "2024-10-08T06:34:47.081Z"
   },
   {
    "duration": 17,
    "start_time": "2024-10-08T06:34:47.095Z"
   },
   {
    "duration": 10,
    "start_time": "2024-10-08T06:34:47.113Z"
   },
   {
    "duration": 6,
    "start_time": "2024-10-08T06:34:47.124Z"
   },
   {
    "duration": 11,
    "start_time": "2024-10-08T06:34:47.133Z"
   },
   {
    "duration": 20,
    "start_time": "2024-10-08T06:34:47.146Z"
   },
   {
    "duration": 11,
    "start_time": "2024-10-08T06:34:47.168Z"
   },
   {
    "duration": 30,
    "start_time": "2024-10-08T06:34:47.181Z"
   },
   {
    "duration": 8,
    "start_time": "2024-10-08T06:34:47.213Z"
   },
   {
    "duration": 13,
    "start_time": "2024-10-08T06:34:47.223Z"
   },
   {
    "duration": 223,
    "start_time": "2024-10-08T06:34:47.237Z"
   },
   {
    "duration": 11,
    "start_time": "2024-10-08T06:34:47.462Z"
   },
   {
    "duration": 323,
    "start_time": "2024-10-08T06:34:47.475Z"
   },
   {
    "duration": 230,
    "start_time": "2024-10-08T06:34:47.800Z"
   },
   {
    "duration": 365,
    "start_time": "2024-10-08T06:34:48.032Z"
   },
   {
    "duration": 283,
    "start_time": "2024-10-08T06:34:48.399Z"
   },
   {
    "duration": 12,
    "start_time": "2024-10-08T06:34:48.683Z"
   },
   {
    "duration": 70,
    "start_time": "2024-10-08T06:34:48.696Z"
   },
   {
    "duration": 514,
    "start_time": "2024-10-08T06:34:48.768Z"
   },
   {
    "duration": 14,
    "start_time": "2024-10-08T06:34:49.284Z"
   },
   {
    "duration": 508,
    "start_time": "2024-10-08T06:34:49.300Z"
   },
   {
    "duration": 63,
    "start_time": "2024-10-08T06:34:49.811Z"
   },
   {
    "duration": 34,
    "start_time": "2024-10-08T06:34:49.876Z"
   },
   {
    "duration": 145,
    "start_time": "2024-10-08T06:34:49.912Z"
   },
   {
    "duration": 8,
    "start_time": "2024-10-08T06:34:50.059Z"
   },
   {
    "duration": 22,
    "start_time": "2024-10-08T06:34:50.069Z"
   },
   {
    "duration": 154,
    "start_time": "2024-10-08T06:34:50.092Z"
   },
   {
    "duration": 272,
    "start_time": "2024-10-08T06:34:50.248Z"
   },
   {
    "duration": 4,
    "start_time": "2024-10-08T06:34:50.521Z"
   },
   {
    "duration": 9,
    "start_time": "2024-10-08T06:34:50.527Z"
   },
   {
    "duration": 29,
    "start_time": "2024-10-08T06:34:50.538Z"
   },
   {
    "duration": 6,
    "start_time": "2024-10-08T06:34:50.572Z"
   },
   {
    "duration": 28,
    "start_time": "2024-10-08T06:34:50.580Z"
   },
   {
    "duration": 25,
    "start_time": "2024-10-08T06:34:50.610Z"
   },
   {
    "duration": 30,
    "start_time": "2024-10-08T06:34:50.637Z"
   },
   {
    "duration": 10,
    "start_time": "2024-10-08T06:34:50.669Z"
   },
   {
    "duration": 24,
    "start_time": "2024-10-08T06:34:50.680Z"
   },
   {
    "duration": 11,
    "start_time": "2024-10-08T06:34:50.705Z"
   },
   {
    "duration": 49,
    "start_time": "2024-10-08T06:34:50.720Z"
   },
   {
    "duration": 28,
    "start_time": "2024-10-08T06:34:50.771Z"
   },
   {
    "duration": 14,
    "start_time": "2024-10-08T06:34:50.800Z"
   },
   {
    "duration": 9,
    "start_time": "2024-10-08T06:34:50.816Z"
   },
   {
    "duration": 72,
    "start_time": "2024-10-08T06:39:13.908Z"
   },
   {
    "duration": 45,
    "start_time": "2024-10-08T11:42:14.501Z"
   },
   {
    "duration": 1398,
    "start_time": "2024-10-08T11:42:24.945Z"
   },
   {
    "duration": 4,
    "start_time": "2024-10-08T11:42:26.345Z"
   },
   {
    "duration": 273,
    "start_time": "2024-10-08T11:42:26.350Z"
   },
   {
    "duration": 12,
    "start_time": "2024-10-08T11:42:26.626Z"
   },
   {
    "duration": 14,
    "start_time": "2024-10-08T11:42:26.641Z"
   },
   {
    "duration": 5,
    "start_time": "2024-10-08T11:42:26.657Z"
   },
   {
    "duration": 11,
    "start_time": "2024-10-08T11:42:26.664Z"
   },
   {
    "duration": 21,
    "start_time": "2024-10-08T11:42:26.678Z"
   },
   {
    "duration": 13,
    "start_time": "2024-10-08T11:42:26.701Z"
   },
   {
    "duration": 15,
    "start_time": "2024-10-08T11:42:26.715Z"
   },
   {
    "duration": 10,
    "start_time": "2024-10-08T11:42:26.731Z"
   },
   {
    "duration": 7,
    "start_time": "2024-10-08T11:42:26.742Z"
   },
   {
    "duration": 5,
    "start_time": "2024-10-08T11:42:26.751Z"
   },
   {
    "duration": 39,
    "start_time": "2024-10-08T11:42:26.759Z"
   },
   {
    "duration": 14,
    "start_time": "2024-10-08T11:42:26.800Z"
   },
   {
    "duration": 12,
    "start_time": "2024-10-08T11:42:26.816Z"
   },
   {
    "duration": 15,
    "start_time": "2024-10-08T11:42:26.830Z"
   },
   {
    "duration": 8,
    "start_time": "2024-10-08T11:42:26.846Z"
   },
   {
    "duration": 42,
    "start_time": "2024-10-08T11:42:26.856Z"
   },
   {
    "duration": 194,
    "start_time": "2024-10-08T11:42:26.900Z"
   },
   {
    "duration": 11,
    "start_time": "2024-10-08T11:42:27.097Z"
   },
   {
    "duration": 312,
    "start_time": "2024-10-08T11:42:27.110Z"
   },
   {
    "duration": 223,
    "start_time": "2024-10-08T11:42:27.423Z"
   },
   {
    "duration": 395,
    "start_time": "2024-10-08T11:42:27.648Z"
   },
   {
    "duration": 131,
    "start_time": "2024-10-08T11:42:28.045Z"
   },
   {
    "duration": 21,
    "start_time": "2024-10-08T11:42:28.177Z"
   },
   {
    "duration": 15,
    "start_time": "2024-10-08T11:42:28.200Z"
   },
   {
    "duration": 255,
    "start_time": "2024-10-08T11:42:28.217Z"
   },
   {
    "duration": 25,
    "start_time": "2024-10-08T11:42:28.473Z"
   },
   {
    "duration": 316,
    "start_time": "2024-10-08T11:42:28.500Z"
   },
   {
    "duration": 8,
    "start_time": "2024-10-08T11:42:28.818Z"
   },
   {
    "duration": 35,
    "start_time": "2024-10-08T11:42:28.828Z"
   },
   {
    "duration": 141,
    "start_time": "2024-10-08T11:42:28.865Z"
   },
   {
    "duration": 4,
    "start_time": "2024-10-08T11:42:29.007Z"
   },
   {
    "duration": 21,
    "start_time": "2024-10-08T11:42:29.013Z"
   },
   {
    "duration": 166,
    "start_time": "2024-10-08T11:42:29.036Z"
   },
   {
    "duration": 280,
    "start_time": "2024-10-08T11:42:29.203Z"
   },
   {
    "duration": 14,
    "start_time": "2024-10-08T11:42:29.484Z"
   },
   {
    "duration": 30,
    "start_time": "2024-10-08T11:42:29.500Z"
   },
   {
    "duration": 11,
    "start_time": "2024-10-08T11:42:29.533Z"
   },
   {
    "duration": 8,
    "start_time": "2024-10-08T11:42:29.548Z"
   },
   {
    "duration": 125,
    "start_time": "2024-10-08T11:42:29.557Z"
   },
   {
    "duration": 25,
    "start_time": "2024-10-08T11:42:29.684Z"
   },
   {
    "duration": 10,
    "start_time": "2024-10-08T11:42:29.711Z"
   },
   {
    "duration": 13,
    "start_time": "2024-10-08T11:42:29.723Z"
   },
   {
    "duration": 7,
    "start_time": "2024-10-08T11:42:29.738Z"
   },
   {
    "duration": 9,
    "start_time": "2024-10-08T11:42:29.746Z"
   },
   {
    "duration": 49,
    "start_time": "2024-10-08T11:42:29.757Z"
   },
   {
    "duration": 24,
    "start_time": "2024-10-08T11:42:29.808Z"
   },
   {
    "duration": 13,
    "start_time": "2024-10-08T11:42:29.834Z"
   },
   {
    "duration": 10,
    "start_time": "2024-10-08T11:42:29.849Z"
   },
   {
    "duration": 8,
    "start_time": "2024-10-08T11:44:01.447Z"
   },
   {
    "duration": 72,
    "start_time": "2024-10-08T12:11:44.973Z"
   },
   {
    "duration": 55,
    "start_time": "2024-10-08T12:12:10.279Z"
   },
   {
    "duration": 105,
    "start_time": "2024-10-08T12:12:43.017Z"
   },
   {
    "duration": 1222,
    "start_time": "2024-10-08T12:13:12.502Z"
   },
   {
    "duration": 3,
    "start_time": "2024-10-08T12:13:13.726Z"
   },
   {
    "duration": 100,
    "start_time": "2024-10-08T12:13:13.730Z"
   },
   {
    "duration": 12,
    "start_time": "2024-10-08T12:13:13.832Z"
   },
   {
    "duration": 34,
    "start_time": "2024-10-08T12:13:13.845Z"
   },
   {
    "duration": 5,
    "start_time": "2024-10-08T12:13:13.880Z"
   },
   {
    "duration": 11,
    "start_time": "2024-10-08T12:13:13.887Z"
   },
   {
    "duration": 8,
    "start_time": "2024-10-08T12:13:13.900Z"
   },
   {
    "duration": 18,
    "start_time": "2024-10-08T12:13:13.909Z"
   },
   {
    "duration": 13,
    "start_time": "2024-10-08T12:13:13.930Z"
   },
   {
    "duration": 11,
    "start_time": "2024-10-08T12:13:13.944Z"
   },
   {
    "duration": 12,
    "start_time": "2024-10-08T12:13:13.957Z"
   },
   {
    "duration": 5,
    "start_time": "2024-10-08T12:13:13.971Z"
   },
   {
    "duration": 12,
    "start_time": "2024-10-08T12:13:13.998Z"
   },
   {
    "duration": 15,
    "start_time": "2024-10-08T12:13:14.011Z"
   },
   {
    "duration": 13,
    "start_time": "2024-10-08T12:13:14.028Z"
   },
   {
    "duration": 16,
    "start_time": "2024-10-08T12:13:14.042Z"
   },
   {
    "duration": 146,
    "start_time": "2024-10-08T12:13:14.059Z"
   },
   {
    "duration": 0,
    "start_time": "2024-10-08T12:13:14.208Z"
   },
   {
    "duration": 0,
    "start_time": "2024-10-08T12:13:14.209Z"
   },
   {
    "duration": 0,
    "start_time": "2024-10-08T12:13:14.210Z"
   },
   {
    "duration": 0,
    "start_time": "2024-10-08T12:13:14.211Z"
   },
   {
    "duration": 0,
    "start_time": "2024-10-08T12:13:14.213Z"
   },
   {
    "duration": 0,
    "start_time": "2024-10-08T12:13:14.214Z"
   },
   {
    "duration": 0,
    "start_time": "2024-10-08T12:13:14.215Z"
   },
   {
    "duration": 0,
    "start_time": "2024-10-08T12:13:14.216Z"
   },
   {
    "duration": 0,
    "start_time": "2024-10-08T12:13:14.218Z"
   },
   {
    "duration": 0,
    "start_time": "2024-10-08T12:13:14.218Z"
   },
   {
    "duration": 0,
    "start_time": "2024-10-08T12:13:14.220Z"
   },
   {
    "duration": 0,
    "start_time": "2024-10-08T12:13:14.221Z"
   },
   {
    "duration": 0,
    "start_time": "2024-10-08T12:13:14.222Z"
   },
   {
    "duration": 0,
    "start_time": "2024-10-08T12:13:14.223Z"
   },
   {
    "duration": 0,
    "start_time": "2024-10-08T12:13:14.224Z"
   },
   {
    "duration": 0,
    "start_time": "2024-10-08T12:13:14.225Z"
   },
   {
    "duration": 0,
    "start_time": "2024-10-08T12:13:14.226Z"
   },
   {
    "duration": 0,
    "start_time": "2024-10-08T12:13:14.227Z"
   },
   {
    "duration": 0,
    "start_time": "2024-10-08T12:13:14.228Z"
   },
   {
    "duration": 0,
    "start_time": "2024-10-08T12:13:14.229Z"
   },
   {
    "duration": 0,
    "start_time": "2024-10-08T12:13:14.230Z"
   },
   {
    "duration": 0,
    "start_time": "2024-10-08T12:13:14.230Z"
   },
   {
    "duration": 0,
    "start_time": "2024-10-08T12:13:14.231Z"
   },
   {
    "duration": 0,
    "start_time": "2024-10-08T12:13:14.233Z"
   },
   {
    "duration": 0,
    "start_time": "2024-10-08T12:13:14.234Z"
   },
   {
    "duration": 0,
    "start_time": "2024-10-08T12:13:14.235Z"
   },
   {
    "duration": 0,
    "start_time": "2024-10-08T12:13:14.236Z"
   },
   {
    "duration": 0,
    "start_time": "2024-10-08T12:13:14.237Z"
   },
   {
    "duration": 0,
    "start_time": "2024-10-08T12:13:14.238Z"
   },
   {
    "duration": 0,
    "start_time": "2024-10-08T12:13:14.239Z"
   },
   {
    "duration": 0,
    "start_time": "2024-10-08T12:13:14.240Z"
   },
   {
    "duration": 0,
    "start_time": "2024-10-08T12:13:14.298Z"
   },
   {
    "duration": 0,
    "start_time": "2024-10-08T12:13:14.299Z"
   },
   {
    "duration": 0,
    "start_time": "2024-10-08T12:13:14.300Z"
   },
   {
    "duration": 7,
    "start_time": "2024-10-08T12:18:32.136Z"
   },
   {
    "duration": 14,
    "start_time": "2024-10-08T12:19:20.751Z"
   },
   {
    "duration": 54,
    "start_time": "2024-10-08T12:21:34.930Z"
   },
   {
    "duration": 66,
    "start_time": "2024-10-08T12:21:56.847Z"
   },
   {
    "duration": 9,
    "start_time": "2024-10-08T12:22:22.924Z"
   },
   {
    "duration": 10,
    "start_time": "2024-10-08T12:24:59.394Z"
   },
   {
    "duration": 12,
    "start_time": "2024-10-08T12:26:05.764Z"
   },
   {
    "duration": 8,
    "start_time": "2024-10-08T12:31:37.430Z"
   },
   {
    "duration": 6,
    "start_time": "2024-10-08T12:32:09.356Z"
   },
   {
    "duration": 7,
    "start_time": "2024-10-08T12:37:11.846Z"
   },
   {
    "duration": 11,
    "start_time": "2024-10-08T12:37:18.692Z"
   },
   {
    "duration": 6,
    "start_time": "2024-10-08T12:44:19.754Z"
   },
   {
    "duration": 19,
    "start_time": "2024-10-08T13:21:00.763Z"
   },
   {
    "duration": 11,
    "start_time": "2024-10-08T13:21:47.754Z"
   },
   {
    "duration": 17,
    "start_time": "2024-10-08T13:22:07.572Z"
   },
   {
    "duration": 1220,
    "start_time": "2024-10-08T13:34:58.232Z"
   },
   {
    "duration": 3,
    "start_time": "2024-10-08T13:34:59.453Z"
   },
   {
    "duration": 97,
    "start_time": "2024-10-08T13:34:59.458Z"
   },
   {
    "duration": 11,
    "start_time": "2024-10-08T13:34:59.556Z"
   },
   {
    "duration": 12,
    "start_time": "2024-10-08T13:34:59.570Z"
   },
   {
    "duration": 4,
    "start_time": "2024-10-08T13:34:59.584Z"
   },
   {
    "duration": 19,
    "start_time": "2024-10-08T13:34:59.590Z"
   },
   {
    "duration": 16,
    "start_time": "2024-10-08T13:34:59.611Z"
   },
   {
    "duration": 10,
    "start_time": "2024-10-08T13:34:59.628Z"
   },
   {
    "duration": 21,
    "start_time": "2024-10-08T13:34:59.640Z"
   },
   {
    "duration": 22,
    "start_time": "2024-10-08T13:34:59.662Z"
   },
   {
    "duration": 23,
    "start_time": "2024-10-08T13:34:59.686Z"
   },
   {
    "duration": 20,
    "start_time": "2024-10-08T13:34:59.712Z"
   },
   {
    "duration": 20,
    "start_time": "2024-10-08T13:34:59.736Z"
   },
   {
    "duration": 21,
    "start_time": "2024-10-08T13:34:59.758Z"
   },
   {
    "duration": 11,
    "start_time": "2024-10-08T13:34:59.781Z"
   },
   {
    "duration": 43,
    "start_time": "2024-10-08T13:34:59.793Z"
   },
   {
    "duration": 7,
    "start_time": "2024-10-08T13:34:59.837Z"
   },
   {
    "duration": 22,
    "start_time": "2024-10-08T13:34:59.846Z"
   },
   {
    "duration": 14,
    "start_time": "2024-10-08T13:34:59.870Z"
   },
   {
    "duration": 35,
    "start_time": "2024-10-08T13:34:59.885Z"
   },
   {
    "duration": 34,
    "start_time": "2024-10-08T13:34:59.922Z"
   },
   {
    "duration": 194,
    "start_time": "2024-10-08T13:34:59.958Z"
   },
   {
    "duration": 11,
    "start_time": "2024-10-08T13:35:00.153Z"
   },
   {
    "duration": 374,
    "start_time": "2024-10-08T13:35:00.166Z"
   },
   {
    "duration": 244,
    "start_time": "2024-10-08T13:35:00.541Z"
   },
   {
    "duration": 354,
    "start_time": "2024-10-08T13:35:00.787Z"
   },
   {
    "duration": 132,
    "start_time": "2024-10-08T13:35:01.143Z"
   },
   {
    "duration": 13,
    "start_time": "2024-10-08T13:35:01.276Z"
   },
   {
    "duration": 20,
    "start_time": "2024-10-08T13:35:01.302Z"
   },
   {
    "duration": 248,
    "start_time": "2024-10-08T13:35:01.324Z"
   },
   {
    "duration": 38,
    "start_time": "2024-10-08T13:35:01.573Z"
   },
   {
    "duration": 316,
    "start_time": "2024-10-08T13:35:01.613Z"
   },
   {
    "duration": 9,
    "start_time": "2024-10-08T13:35:01.932Z"
   },
   {
    "duration": 52,
    "start_time": "2024-10-08T13:35:01.943Z"
   },
   {
    "duration": 191,
    "start_time": "2024-10-08T13:35:01.997Z"
   },
   {
    "duration": 7,
    "start_time": "2024-10-08T13:35:02.190Z"
   },
   {
    "duration": 27,
    "start_time": "2024-10-08T13:35:02.200Z"
   },
   {
    "duration": 151,
    "start_time": "2024-10-08T13:35:02.229Z"
   },
   {
    "duration": 280,
    "start_time": "2024-10-08T13:35:02.382Z"
   },
   {
    "duration": 4,
    "start_time": "2024-10-08T13:35:02.666Z"
   },
   {
    "duration": 51,
    "start_time": "2024-10-08T13:35:02.671Z"
   },
   {
    "duration": 32,
    "start_time": "2024-10-08T13:35:02.723Z"
   },
   {
    "duration": 37,
    "start_time": "2024-10-08T13:35:02.757Z"
   },
   {
    "duration": 64,
    "start_time": "2024-10-08T13:35:02.796Z"
   },
   {
    "duration": 25,
    "start_time": "2024-10-08T13:35:02.861Z"
   },
   {
    "duration": 127,
    "start_time": "2024-10-08T13:35:02.888Z"
   },
   {
    "duration": 34,
    "start_time": "2024-10-08T13:35:03.017Z"
   },
   {
    "duration": 26,
    "start_time": "2024-10-08T13:35:03.052Z"
   },
   {
    "duration": 36,
    "start_time": "2024-10-08T13:35:03.080Z"
   },
   {
    "duration": 48,
    "start_time": "2024-10-08T13:35:03.117Z"
   },
   {
    "duration": 26,
    "start_time": "2024-10-08T13:35:03.167Z"
   },
   {
    "duration": 22,
    "start_time": "2024-10-08T13:35:03.195Z"
   },
   {
    "duration": 47,
    "start_time": "2024-10-08T13:35:03.218Z"
   },
   {
    "duration": 228,
    "start_time": "2024-10-08T13:41:02.652Z"
   },
   {
    "duration": 219,
    "start_time": "2024-10-08T13:41:05.337Z"
   },
   {
    "duration": 215,
    "start_time": "2024-10-08T13:42:10.023Z"
   },
   {
    "duration": 4,
    "start_time": "2024-10-08T13:47:54.105Z"
   },
   {
    "duration": 49,
    "start_time": "2024-10-08T13:58:56.380Z"
   },
   {
    "duration": 4,
    "start_time": "2024-10-08T13:59:36.027Z"
   },
   {
    "duration": 5,
    "start_time": "2024-10-08T13:59:40.740Z"
   },
   {
    "duration": 29,
    "start_time": "2024-10-08T14:09:55.034Z"
   },
   {
    "duration": 27,
    "start_time": "2024-10-08T18:08:42.288Z"
   },
   {
    "duration": 8,
    "start_time": "2024-10-08T18:16:05.720Z"
   },
   {
    "duration": 27,
    "start_time": "2024-10-08T18:19:27.789Z"
   },
   {
    "duration": 58,
    "start_time": "2024-10-09T03:55:55.230Z"
   },
   {
    "duration": 1708,
    "start_time": "2024-10-09T03:56:19.989Z"
   },
   {
    "duration": 2,
    "start_time": "2024-10-09T03:56:21.699Z"
   },
   {
    "duration": 213,
    "start_time": "2024-10-09T03:56:21.703Z"
   },
   {
    "duration": 10,
    "start_time": "2024-10-09T03:56:21.918Z"
   },
   {
    "duration": 10,
    "start_time": "2024-10-09T03:56:21.930Z"
   },
   {
    "duration": 4,
    "start_time": "2024-10-09T03:56:21.942Z"
   },
   {
    "duration": 32,
    "start_time": "2024-10-09T03:56:21.947Z"
   },
   {
    "duration": 23,
    "start_time": "2024-10-09T03:56:21.980Z"
   },
   {
    "duration": 6,
    "start_time": "2024-10-09T03:56:22.004Z"
   },
   {
    "duration": 12,
    "start_time": "2024-10-09T03:56:22.011Z"
   },
   {
    "duration": 9,
    "start_time": "2024-10-09T03:56:22.024Z"
   },
   {
    "duration": 7,
    "start_time": "2024-10-09T03:56:22.034Z"
   },
   {
    "duration": 11,
    "start_time": "2024-10-09T03:56:22.042Z"
   },
   {
    "duration": 33,
    "start_time": "2024-10-09T03:56:22.056Z"
   },
   {
    "duration": 16,
    "start_time": "2024-10-09T03:56:22.091Z"
   },
   {
    "duration": 9,
    "start_time": "2024-10-09T03:56:22.108Z"
   },
   {
    "duration": 13,
    "start_time": "2024-10-09T03:56:22.119Z"
   },
   {
    "duration": 6,
    "start_time": "2024-10-09T03:56:22.133Z"
   },
   {
    "duration": 10,
    "start_time": "2024-10-09T03:56:22.140Z"
   },
   {
    "duration": 40,
    "start_time": "2024-10-09T03:56:22.152Z"
   },
   {
    "duration": 8,
    "start_time": "2024-10-09T03:56:22.194Z"
   },
   {
    "duration": 12,
    "start_time": "2024-10-09T03:56:22.203Z"
   },
   {
    "duration": 234,
    "start_time": "2024-10-09T03:56:22.217Z"
   },
   {
    "duration": 10,
    "start_time": "2024-10-09T03:56:22.453Z"
   },
   {
    "duration": 286,
    "start_time": "2024-10-09T03:56:22.476Z"
   },
   {
    "duration": 227,
    "start_time": "2024-10-09T03:56:22.763Z"
   },
   {
    "duration": 336,
    "start_time": "2024-10-09T03:56:22.991Z"
   },
   {
    "duration": 116,
    "start_time": "2024-10-09T03:56:23.328Z"
   },
   {
    "duration": 10,
    "start_time": "2024-10-09T03:56:23.446Z"
   },
   {
    "duration": 26,
    "start_time": "2024-10-09T03:56:23.457Z"
   },
   {
    "duration": 210,
    "start_time": "2024-10-09T03:56:23.484Z"
   },
   {
    "duration": 15,
    "start_time": "2024-10-09T03:56:23.696Z"
   },
   {
    "duration": 291,
    "start_time": "2024-10-09T03:56:23.712Z"
   },
   {
    "duration": 8,
    "start_time": "2024-10-09T03:56:24.005Z"
   },
   {
    "duration": 10,
    "start_time": "2024-10-09T03:56:24.014Z"
   },
   {
    "duration": 171,
    "start_time": "2024-10-09T03:56:24.025Z"
   },
   {
    "duration": 3,
    "start_time": "2024-10-09T03:56:24.198Z"
   },
   {
    "duration": 8,
    "start_time": "2024-10-09T03:56:24.203Z"
   },
   {
    "duration": 201,
    "start_time": "2024-10-09T03:56:24.213Z"
   },
   {
    "duration": 246,
    "start_time": "2024-10-09T03:56:24.416Z"
   },
   {
    "duration": 4,
    "start_time": "2024-10-09T03:56:24.665Z"
   },
   {
    "duration": 5,
    "start_time": "2024-10-09T03:56:24.684Z"
   },
   {
    "duration": 8,
    "start_time": "2024-10-09T03:56:24.691Z"
   },
   {
    "duration": 10,
    "start_time": "2024-10-09T03:56:24.701Z"
   },
   {
    "duration": 7,
    "start_time": "2024-10-09T03:56:24.712Z"
   },
   {
    "duration": 23,
    "start_time": "2024-10-09T03:56:24.720Z"
   },
   {
    "duration": 53,
    "start_time": "2024-10-09T03:56:24.745Z"
   },
   {
    "duration": 11,
    "start_time": "2024-10-09T03:56:24.799Z"
   },
   {
    "duration": 56,
    "start_time": "2024-10-09T03:56:24.811Z"
   },
   {
    "duration": 10,
    "start_time": "2024-10-09T03:56:24.869Z"
   },
   {
    "duration": 9,
    "start_time": "2024-10-09T03:56:24.888Z"
   },
   {
    "duration": 25,
    "start_time": "2024-10-09T03:56:24.898Z"
   },
   {
    "duration": 21,
    "start_time": "2024-10-09T03:56:24.924Z"
   },
   {
    "duration": 12,
    "start_time": "2024-10-09T03:56:24.947Z"
   },
   {
    "duration": 28,
    "start_time": "2024-10-09T03:56:24.960Z"
   },
   {
    "duration": 24,
    "start_time": "2024-10-09T04:18:28.031Z"
   },
   {
    "duration": 47,
    "start_time": "2024-10-09T04:20:49.315Z"
   },
   {
    "duration": 1482,
    "start_time": "2024-10-09T10:18:57.494Z"
   },
   {
    "duration": 3,
    "start_time": "2024-10-09T10:18:58.978Z"
   },
   {
    "duration": 240,
    "start_time": "2024-10-09T10:18:58.983Z"
   },
   {
    "duration": 12,
    "start_time": "2024-10-09T10:18:59.225Z"
   },
   {
    "duration": 11,
    "start_time": "2024-10-09T10:18:59.239Z"
   },
   {
    "duration": 5,
    "start_time": "2024-10-09T10:18:59.251Z"
   },
   {
    "duration": 11,
    "start_time": "2024-10-09T10:18:59.258Z"
   },
   {
    "duration": 50,
    "start_time": "2024-10-09T10:18:59.270Z"
   },
   {
    "duration": 6,
    "start_time": "2024-10-09T10:18:59.322Z"
   },
   {
    "duration": 12,
    "start_time": "2024-10-09T10:18:59.331Z"
   },
   {
    "duration": 18,
    "start_time": "2024-10-09T10:18:59.345Z"
   },
   {
    "duration": 7,
    "start_time": "2024-10-09T10:18:59.364Z"
   },
   {
    "duration": 5,
    "start_time": "2024-10-09T10:18:59.373Z"
   },
   {
    "duration": 11,
    "start_time": "2024-10-09T10:18:59.379Z"
   },
   {
    "duration": 43,
    "start_time": "2024-10-09T10:18:59.392Z"
   },
   {
    "duration": 11,
    "start_time": "2024-10-09T10:18:59.436Z"
   },
   {
    "duration": 14,
    "start_time": "2024-10-09T10:18:59.449Z"
   },
   {
    "duration": 8,
    "start_time": "2024-10-09T10:18:59.465Z"
   },
   {
    "duration": 11,
    "start_time": "2024-10-09T10:18:59.474Z"
   },
   {
    "duration": 50,
    "start_time": "2024-10-09T10:18:59.487Z"
   },
   {
    "duration": 9,
    "start_time": "2024-10-09T10:18:59.539Z"
   },
   {
    "duration": 14,
    "start_time": "2024-10-09T10:18:59.549Z"
   },
   {
    "duration": 244,
    "start_time": "2024-10-09T10:18:59.565Z"
   },
   {
    "duration": 15,
    "start_time": "2024-10-09T10:18:59.811Z"
   },
   {
    "duration": 322,
    "start_time": "2024-10-09T10:18:59.828Z"
   },
   {
    "duration": 259,
    "start_time": "2024-10-09T10:19:00.152Z"
   },
   {
    "duration": 371,
    "start_time": "2024-10-09T10:19:00.413Z"
   },
   {
    "duration": 256,
    "start_time": "2024-10-09T10:19:00.788Z"
   },
   {
    "duration": 16,
    "start_time": "2024-10-09T10:19:01.046Z"
   },
   {
    "duration": 65,
    "start_time": "2024-10-09T10:19:01.064Z"
   },
   {
    "duration": 495,
    "start_time": "2024-10-09T10:19:01.131Z"
   },
   {
    "duration": 15,
    "start_time": "2024-10-09T10:19:01.627Z"
   },
   {
    "duration": 427,
    "start_time": "2024-10-09T10:19:01.644Z"
   },
   {
    "duration": 9,
    "start_time": "2024-10-09T10:19:02.125Z"
   },
   {
    "duration": 16,
    "start_time": "2024-10-09T10:19:02.135Z"
   },
   {
    "duration": 324,
    "start_time": "2024-10-09T10:19:02.153Z"
   },
   {
    "duration": 4,
    "start_time": "2024-10-09T10:19:02.478Z"
   },
   {
    "duration": 9,
    "start_time": "2024-10-09T10:19:02.484Z"
   },
   {
    "duration": 201,
    "start_time": "2024-10-09T10:19:02.494Z"
   },
   {
    "duration": 268,
    "start_time": "2024-10-09T10:19:02.697Z"
   },
   {
    "duration": 5,
    "start_time": "2024-10-09T10:19:02.967Z"
   },
   {
    "duration": 11,
    "start_time": "2024-10-09T10:19:02.974Z"
   },
   {
    "duration": 19,
    "start_time": "2024-10-09T10:19:02.987Z"
   },
   {
    "duration": 24,
    "start_time": "2024-10-09T10:19:03.008Z"
   },
   {
    "duration": 14,
    "start_time": "2024-10-09T10:19:03.034Z"
   },
   {
    "duration": 40,
    "start_time": "2024-10-09T10:19:03.049Z"
   },
   {
    "duration": 34,
    "start_time": "2024-10-09T10:19:03.091Z"
   },
   {
    "duration": 11,
    "start_time": "2024-10-09T10:19:03.127Z"
   },
   {
    "duration": 7,
    "start_time": "2024-10-09T10:19:03.140Z"
   },
   {
    "duration": 35,
    "start_time": "2024-10-09T10:19:03.149Z"
   },
   {
    "duration": 9,
    "start_time": "2024-10-09T10:19:03.186Z"
   },
   {
    "duration": 42,
    "start_time": "2024-10-09T10:19:03.197Z"
   },
   {
    "duration": 26,
    "start_time": "2024-10-09T10:19:03.241Z"
   },
   {
    "duration": 16,
    "start_time": "2024-10-09T10:19:03.269Z"
   },
   {
    "duration": 52,
    "start_time": "2024-10-09T10:19:03.287Z"
   }
  ],
  "kernelspec": {
   "display_name": "Python 3 (ipykernel)",
   "language": "python",
   "name": "python3"
  },
  "language_info": {
   "codemirror_mode": {
    "name": "ipython",
    "version": 3
   },
   "file_extension": ".py",
   "mimetype": "text/x-python",
   "name": "python",
   "nbconvert_exporter": "python",
   "pygments_lexer": "ipython3",
   "version": "3.11.7"
  },
  "toc": {
   "base_numbering": 1,
   "nav_menu": {},
   "number_sections": true,
   "sideBar": true,
   "skip_h1_title": true,
   "title_cell": "Table of Contents",
   "title_sidebar": "Contents",
   "toc_cell": false,
   "toc_position": {
    "height": "calc(100% - 180px)",
    "left": "10px",
    "top": "150px",
    "width": "410.299988px"
   },
   "toc_section_display": true,
   "toc_window_display": true
  }
 },
 "nbformat": 4,
 "nbformat_minor": 4
}
