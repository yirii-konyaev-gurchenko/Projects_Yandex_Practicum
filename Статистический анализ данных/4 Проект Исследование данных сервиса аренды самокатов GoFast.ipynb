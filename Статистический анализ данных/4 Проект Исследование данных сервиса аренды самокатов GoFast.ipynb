{
 "cells": [
  {
   "cell_type": "markdown",
   "id": "7a078ecf",
   "metadata": {},
   "source": [
    "**Исследование данных сервиса аренды самокатов GoFast**\n",
    "\n",
    "Нам предоставлены данные о пользователях сервиса аренды самокатов из нескольких городов и их поездках. Необходимо проанализировать данные и помочь бизнесу развиваться дальше. \n",
    " Пользователи используют мобильное приложение\n",
    " - с подпиской\n",
    "   - абонентская плата 199 рублей в месяц\n",
    "   - стоимость одной минуты поездки 6 рублей\n",
    "   - стоимость начала поездки - бесплатно\n",
    " - без подписки\n",
    "   - абонентская плата отсутствует\n",
    "   - стоимость одной минуты поездки 8 рублей\n",
    "   - стоимость начала поездки 50 рублей\n",
    "   \n",
    "**Цель исследования**\n",
    "    \n",
    "  - проанализировать данные\n",
    "  - проверить гипотезы и сделать заключение для сервиса аренды самокатов\n",
    "  \n",
    "**Ход исследования**\n",
    "    \n",
    "  - загрузка библиотек и их настройка\n",
    "  - загрузка и анализ общей информации о каждом датафрейме\n",
    "  - предобработка (поиск дубликатов и их удаление, изменение типов данных, добавление нового столбца)\n",
    "  - исследование и обработка и рассчет необходимых метрик сервиса\n",
    "  - проверка гипотез \n",
    "  - выводная часть исследования\n",
    "  "
   ]
  },
  {
   "cell_type": "code",
   "execution_count": 1,
   "id": "72576667",
   "metadata": {},
   "outputs": [],
   "source": [
    "import pandas as pd\n",
    "import matplotlib.pyplot as plt\n",
    "import numpy as np\n",
    "import seaborn as sns\n",
    "from scipy import stats as st\n",
    "from scipy.stats import binom"
   ]
  },
  {
   "cell_type": "markdown",
   "id": "c42cbe00",
   "metadata": {},
   "source": [
    "#### Шаг 1. Загрузка данных"
   ]
  },
  {
   "cell_type": "markdown",
   "id": "809e2fd4",
   "metadata": {},
   "source": [
    "**1.1 Считаем csv-файлы**"
   ]
  },
  {
   "cell_type": "code",
   "execution_count": 2,
   "id": "9760e618",
   "metadata": {},
   "outputs": [],
   "source": [
    "users_go = pd.read_csv('/datasets/users_go.csv', sep=',')\n",
    "rides_go = pd.read_csv('/datasets/rides_go.csv', sep=',')\n",
    "subscriptions_go = pd.read_csv('/datasets/subscriptions_go.csv', sep=',')\n",
    "pd.set_option('display.max_columns', None)"
   ]
  },
  {
   "cell_type": "markdown",
   "id": "49620855",
   "metadata": {},
   "source": [
    "**1.2 Изучим общую информацию о датафреймах**"
   ]
  },
  {
   "cell_type": "code",
   "execution_count": 3,
   "id": "7c5fa21e",
   "metadata": {},
   "outputs": [
    {
     "data": {
      "text/html": [
       "<div>\n",
       "<style scoped>\n",
       "    .dataframe tbody tr th:only-of-type {\n",
       "        vertical-align: middle;\n",
       "    }\n",
       "\n",
       "    .dataframe tbody tr th {\n",
       "        vertical-align: top;\n",
       "    }\n",
       "\n",
       "    .dataframe thead th {\n",
       "        text-align: right;\n",
       "    }\n",
       "</style>\n",
       "<table border=\"1\" class=\"dataframe\">\n",
       "  <thead>\n",
       "    <tr style=\"text-align: right;\">\n",
       "      <th></th>\n",
       "      <th>user_id</th>\n",
       "      <th>name</th>\n",
       "      <th>age</th>\n",
       "      <th>city</th>\n",
       "      <th>subscription_type</th>\n",
       "    </tr>\n",
       "  </thead>\n",
       "  <tbody>\n",
       "    <tr>\n",
       "      <th>0</th>\n",
       "      <td>1</td>\n",
       "      <td>Кира</td>\n",
       "      <td>22</td>\n",
       "      <td>Тюмень</td>\n",
       "      <td>ultra</td>\n",
       "    </tr>\n",
       "    <tr>\n",
       "      <th>1</th>\n",
       "      <td>2</td>\n",
       "      <td>Станислав</td>\n",
       "      <td>31</td>\n",
       "      <td>Омск</td>\n",
       "      <td>ultra</td>\n",
       "    </tr>\n",
       "    <tr>\n",
       "      <th>2</th>\n",
       "      <td>3</td>\n",
       "      <td>Алексей</td>\n",
       "      <td>20</td>\n",
       "      <td>Москва</td>\n",
       "      <td>ultra</td>\n",
       "    </tr>\n",
       "    <tr>\n",
       "      <th>3</th>\n",
       "      <td>4</td>\n",
       "      <td>Константин</td>\n",
       "      <td>26</td>\n",
       "      <td>Ростов-на-Дону</td>\n",
       "      <td>ultra</td>\n",
       "    </tr>\n",
       "    <tr>\n",
       "      <th>4</th>\n",
       "      <td>5</td>\n",
       "      <td>Адель</td>\n",
       "      <td>28</td>\n",
       "      <td>Омск</td>\n",
       "      <td>ultra</td>\n",
       "    </tr>\n",
       "  </tbody>\n",
       "</table>\n",
       "</div>"
      ],
      "text/plain": [
       "   user_id        name  age            city subscription_type\n",
       "0        1        Кира   22          Тюмень             ultra\n",
       "1        2   Станислав   31            Омск             ultra\n",
       "2        3     Алексей   20          Москва             ultra\n",
       "3        4  Константин   26  Ростов-на-Дону             ultra\n",
       "4        5       Адель   28            Омск             ultra"
      ]
     },
     "execution_count": 3,
     "metadata": {},
     "output_type": "execute_result"
    }
   ],
   "source": [
    "users_go.head()"
   ]
  },
  {
   "cell_type": "code",
   "execution_count": 4,
   "id": "5bf53155",
   "metadata": {},
   "outputs": [
    {
     "name": "stdout",
     "output_type": "stream",
     "text": [
      "<class 'pandas.core.frame.DataFrame'>\n",
      "RangeIndex: 1565 entries, 0 to 1564\n",
      "Data columns (total 5 columns):\n",
      " #   Column             Non-Null Count  Dtype \n",
      "---  ------             --------------  ----- \n",
      " 0   user_id            1565 non-null   int64 \n",
      " 1   name               1565 non-null   object\n",
      " 2   age                1565 non-null   int64 \n",
      " 3   city               1565 non-null   object\n",
      " 4   subscription_type  1565 non-null   object\n",
      "dtypes: int64(2), object(3)\n",
      "memory usage: 61.3+ KB\n"
     ]
    }
   ],
   "source": [
    "users_go.info()"
   ]
  },
  {
   "cell_type": "code",
   "execution_count": 5,
   "id": "4df05a97",
   "metadata": {},
   "outputs": [
    {
     "data": {
      "text/plain": [
       "31"
      ]
     },
     "execution_count": 5,
     "metadata": {},
     "output_type": "execute_result"
    }
   ],
   "source": [
    "users_go.duplicated().sum()"
   ]
  },
  {
   "cell_type": "code",
   "execution_count": 6,
   "id": "70ff67e6",
   "metadata": {},
   "outputs": [
    {
     "data": {
      "text/plain": [
       "array(['Тюмень', 'Омск', 'Москва', 'Ростов-на-Дону', 'Краснодар',\n",
       "       'Пятигорск', 'Екатеринбург', 'Сочи'], dtype=object)"
      ]
     },
     "execution_count": 6,
     "metadata": {},
     "output_type": "execute_result"
    }
   ],
   "source": [
    "users_go['city'].unique()"
   ]
  },
  {
   "cell_type": "code",
   "execution_count": 7,
   "id": "799192ef",
   "metadata": {},
   "outputs": [
    {
     "data": {
      "text/plain": [
       "user_id              0\n",
       "name                 0\n",
       "age                  0\n",
       "city                 0\n",
       "subscription_type    0\n",
       "dtype: int64"
      ]
     },
     "execution_count": 7,
     "metadata": {},
     "output_type": "execute_result"
    }
   ],
   "source": [
    "users_go.isna().sum()"
   ]
  },
  {
   "cell_type": "code",
   "execution_count": 8,
   "id": "20278a7b",
   "metadata": {},
   "outputs": [
    {
     "data": {
      "text/html": [
       "<div>\n",
       "<style scoped>\n",
       "    .dataframe tbody tr th:only-of-type {\n",
       "        vertical-align: middle;\n",
       "    }\n",
       "\n",
       "    .dataframe tbody tr th {\n",
       "        vertical-align: top;\n",
       "    }\n",
       "\n",
       "    .dataframe thead th {\n",
       "        text-align: right;\n",
       "    }\n",
       "</style>\n",
       "<table border=\"1\" class=\"dataframe\">\n",
       "  <thead>\n",
       "    <tr style=\"text-align: right;\">\n",
       "      <th></th>\n",
       "      <th>user_id</th>\n",
       "      <th>distance</th>\n",
       "      <th>duration</th>\n",
       "      <th>date</th>\n",
       "    </tr>\n",
       "  </thead>\n",
       "  <tbody>\n",
       "    <tr>\n",
       "      <th>0</th>\n",
       "      <td>1</td>\n",
       "      <td>4409.919140</td>\n",
       "      <td>25.599769</td>\n",
       "      <td>2021-01-01</td>\n",
       "    </tr>\n",
       "    <tr>\n",
       "      <th>1</th>\n",
       "      <td>1</td>\n",
       "      <td>2617.592153</td>\n",
       "      <td>15.816871</td>\n",
       "      <td>2021-01-18</td>\n",
       "    </tr>\n",
       "    <tr>\n",
       "      <th>2</th>\n",
       "      <td>1</td>\n",
       "      <td>754.159807</td>\n",
       "      <td>6.232113</td>\n",
       "      <td>2021-04-20</td>\n",
       "    </tr>\n",
       "    <tr>\n",
       "      <th>3</th>\n",
       "      <td>1</td>\n",
       "      <td>2694.783254</td>\n",
       "      <td>18.511000</td>\n",
       "      <td>2021-08-11</td>\n",
       "    </tr>\n",
       "    <tr>\n",
       "      <th>4</th>\n",
       "      <td>1</td>\n",
       "      <td>4028.687306</td>\n",
       "      <td>26.265803</td>\n",
       "      <td>2021-08-28</td>\n",
       "    </tr>\n",
       "  </tbody>\n",
       "</table>\n",
       "</div>"
      ],
      "text/plain": [
       "   user_id     distance   duration        date\n",
       "0        1  4409.919140  25.599769  2021-01-01\n",
       "1        1  2617.592153  15.816871  2021-01-18\n",
       "2        1   754.159807   6.232113  2021-04-20\n",
       "3        1  2694.783254  18.511000  2021-08-11\n",
       "4        1  4028.687306  26.265803  2021-08-28"
      ]
     },
     "execution_count": 8,
     "metadata": {},
     "output_type": "execute_result"
    }
   ],
   "source": [
    "rides_go.head()"
   ]
  },
  {
   "cell_type": "code",
   "execution_count": 9,
   "id": "e72ff0d6",
   "metadata": {},
   "outputs": [
    {
     "name": "stdout",
     "output_type": "stream",
     "text": [
      "<class 'pandas.core.frame.DataFrame'>\n",
      "RangeIndex: 18068 entries, 0 to 18067\n",
      "Data columns (total 4 columns):\n",
      " #   Column    Non-Null Count  Dtype  \n",
      "---  ------    --------------  -----  \n",
      " 0   user_id   18068 non-null  int64  \n",
      " 1   distance  18068 non-null  float64\n",
      " 2   duration  18068 non-null  float64\n",
      " 3   date      18068 non-null  object \n",
      "dtypes: float64(2), int64(1), object(1)\n",
      "memory usage: 564.8+ KB\n"
     ]
    }
   ],
   "source": [
    "rides_go.info()"
   ]
  },
  {
   "cell_type": "code",
   "execution_count": 10,
   "id": "ad6bf72b",
   "metadata": {},
   "outputs": [
    {
     "data": {
      "text/plain": [
       "0"
      ]
     },
     "execution_count": 10,
     "metadata": {},
     "output_type": "execute_result"
    }
   ],
   "source": [
    "rides_go.duplicated().sum()"
   ]
  },
  {
   "cell_type": "code",
   "execution_count": 11,
   "id": "9caa14bc",
   "metadata": {},
   "outputs": [
    {
     "data": {
      "text/plain": [
       "user_id     0\n",
       "distance    0\n",
       "duration    0\n",
       "date        0\n",
       "dtype: int64"
      ]
     },
     "execution_count": 11,
     "metadata": {},
     "output_type": "execute_result"
    }
   ],
   "source": [
    "rides_go.isna().sum()"
   ]
  },
  {
   "cell_type": "code",
   "execution_count": 12,
   "id": "f612f2d0",
   "metadata": {},
   "outputs": [
    {
     "data": {
      "text/html": [
       "<div>\n",
       "<style scoped>\n",
       "    .dataframe tbody tr th:only-of-type {\n",
       "        vertical-align: middle;\n",
       "    }\n",
       "\n",
       "    .dataframe tbody tr th {\n",
       "        vertical-align: top;\n",
       "    }\n",
       "\n",
       "    .dataframe thead th {\n",
       "        text-align: right;\n",
       "    }\n",
       "</style>\n",
       "<table border=\"1\" class=\"dataframe\">\n",
       "  <thead>\n",
       "    <tr style=\"text-align: right;\">\n",
       "      <th></th>\n",
       "      <th>subscription_type</th>\n",
       "      <th>minute_price</th>\n",
       "      <th>start_ride_price</th>\n",
       "      <th>subscription_fee</th>\n",
       "    </tr>\n",
       "  </thead>\n",
       "  <tbody>\n",
       "    <tr>\n",
       "      <th>0</th>\n",
       "      <td>free</td>\n",
       "      <td>8</td>\n",
       "      <td>50</td>\n",
       "      <td>0</td>\n",
       "    </tr>\n",
       "    <tr>\n",
       "      <th>1</th>\n",
       "      <td>ultra</td>\n",
       "      <td>6</td>\n",
       "      <td>0</td>\n",
       "      <td>199</td>\n",
       "    </tr>\n",
       "  </tbody>\n",
       "</table>\n",
       "</div>"
      ],
      "text/plain": [
       "  subscription_type  minute_price  start_ride_price  subscription_fee\n",
       "0              free             8                50                 0\n",
       "1             ultra             6                 0               199"
      ]
     },
     "execution_count": 12,
     "metadata": {},
     "output_type": "execute_result"
    }
   ],
   "source": [
    "subscriptions_go.head()"
   ]
  },
  {
   "cell_type": "code",
   "execution_count": 13,
   "id": "72094663",
   "metadata": {},
   "outputs": [
    {
     "name": "stdout",
     "output_type": "stream",
     "text": [
      "<class 'pandas.core.frame.DataFrame'>\n",
      "RangeIndex: 2 entries, 0 to 1\n",
      "Data columns (total 4 columns):\n",
      " #   Column             Non-Null Count  Dtype \n",
      "---  ------             --------------  ----- \n",
      " 0   subscription_type  2 non-null      object\n",
      " 1   minute_price       2 non-null      int64 \n",
      " 2   start_ride_price   2 non-null      int64 \n",
      " 3   subscription_fee   2 non-null      int64 \n",
      "dtypes: int64(3), object(1)\n",
      "memory usage: 192.0+ bytes\n"
     ]
    }
   ],
   "source": [
    "subscriptions_go.info()"
   ]
  },
  {
   "cell_type": "code",
   "execution_count": 14,
   "id": "cc89ae49",
   "metadata": {},
   "outputs": [
    {
     "data": {
      "image/png": "[encoded data removed]",
      "text/plain": [
       "<Figure size 432x288 with 1 Axes>"
      ]
     },
     "metadata": {
      "needs_background": "light"
     },
     "output_type": "display_data"
    }
   ],
   "source": [
    "plt.hist(users_go['age'], bins=70)\n",
    "plt.title('age')\n",
    "plt.xlabel('возраст,лет')\n",
    "plt.ylabel('количество')\n",
    "plt.show()"
   ]
  },
  {
   "cell_type": "code",
   "execution_count": 15,
   "id": "8d0cb099",
   "metadata": {},
   "outputs": [
    {
     "data": {
      "image/png": "[encoded data removed]",
      "text/plain": [
       "<Figure size 432x288 with 1 Axes>"
      ]
     },
     "metadata": {
      "needs_background": "light"
     },
     "output_type": "display_data"
    }
   ],
   "source": [
    "plt.hist(rides_go['distance'], bins=100)\n",
    "plt.title('distance')\n",
    "plt.xlabel('расстояние, м')\n",
    "plt.ylabel('количество')\n",
    "plt.show()"
   ]
  },
  {
   "cell_type": "code",
   "execution_count": 16,
   "id": "cc1ba93f",
   "metadata": {},
   "outputs": [
    {
     "data": {
      "image/png": "[encoded data removed]",
      "text/plain": [
       "<Figure size 432x288 with 1 Axes>"
      ]
     },
     "metadata": {
      "needs_background": "light"
     },
     "output_type": "display_data"
    }
   ],
   "source": [
    "plt.hist(rides_go['duration'], bins=100)\n",
    "plt.title('duration')\n",
    "plt.xlabel('продолжительность, мин')\n",
    "plt.ylabel('количество')\n",
    "plt.show()"
   ]
  },
  {
   "cell_type": "markdown",
   "id": "1a3c3189",
   "metadata": {},
   "source": [
    "**Вывод**\n",
    "\n",
    "Наименования столбцов не нуждаются в исправлении.\n",
    "В первом датафрейме users_go 1565 строк, дубликатов 31, пропусков нет.\n",
    "Во втором датафрейме rides_go 18068 строк, дубликатов нет, пропусков нет.\n",
    "В третьем датафрейме subscriptions_go 2 строки, дубликатов нет, пропусков нет.\n",
    "Необходимо поменять тип данных для некоторых столбцов."
   ]
  },
  {
   "cell_type": "markdown",
   "id": "e95ebca7",
   "metadata": {},
   "source": [
    "#### Шаг 2. Предобработка данных"
   ]
  },
  {
   "cell_type": "markdown",
   "id": "42553ab7",
   "metadata": {},
   "source": [
    "***2.1 Приводим столбец date к типу даты pandas***"
   ]
  },
  {
   "cell_type": "code",
   "execution_count": 17,
   "id": "af6d202c",
   "metadata": {},
   "outputs": [
    {
     "name": "stdout",
     "output_type": "stream",
     "text": [
      "<class 'pandas.core.frame.DataFrame'>\n",
      "RangeIndex: 18068 entries, 0 to 18067\n",
      "Data columns (total 4 columns):\n",
      " #   Column    Non-Null Count  Dtype         \n",
      "---  ------    --------------  -----         \n",
      " 0   user_id   18068 non-null  int64         \n",
      " 1   distance  18068 non-null  float64       \n",
      " 2   duration  18068 non-null  float64       \n",
      " 3   date      18068 non-null  datetime64[ns]\n",
      "dtypes: datetime64[ns](1), float64(2), int64(1)\n",
      "memory usage: 564.8 KB\n"
     ]
    }
   ],
   "source": [
    "#изменяем тип столбца date\n",
    "rides_go['date'] = rides_go['date'].astype('datetime64')\n",
    "rides_go.info()"
   ]
  },
  {
   "cell_type": "markdown",
   "id": "edb70296",
   "metadata": {},
   "source": [
    "***2.2 Создаем новый столбец с номером месяца***"
   ]
  },
  {
   "cell_type": "code",
   "execution_count": 18,
   "id": "b892458f",
   "metadata": {},
   "outputs": [
    {
     "data": {
      "text/html": [
       "<div>\n",
       "<style scoped>\n",
       "    .dataframe tbody tr th:only-of-type {\n",
       "        vertical-align: middle;\n",
       "    }\n",
       "\n",
       "    .dataframe tbody tr th {\n",
       "        vertical-align: top;\n",
       "    }\n",
       "\n",
       "    .dataframe thead th {\n",
       "        text-align: right;\n",
       "    }\n",
       "</style>\n",
       "<table border=\"1\" class=\"dataframe\">\n",
       "  <thead>\n",
       "    <tr style=\"text-align: right;\">\n",
       "      <th></th>\n",
       "      <th>user_id</th>\n",
       "      <th>distance</th>\n",
       "      <th>duration</th>\n",
       "      <th>date</th>\n",
       "      <th>month</th>\n",
       "    </tr>\n",
       "  </thead>\n",
       "  <tbody>\n",
       "    <tr>\n",
       "      <th>0</th>\n",
       "      <td>1</td>\n",
       "      <td>4409.919140</td>\n",
       "      <td>25.599769</td>\n",
       "      <td>2021-01-01</td>\n",
       "      <td>1</td>\n",
       "    </tr>\n",
       "    <tr>\n",
       "      <th>1</th>\n",
       "      <td>1</td>\n",
       "      <td>2617.592153</td>\n",
       "      <td>15.816871</td>\n",
       "      <td>2021-01-18</td>\n",
       "      <td>1</td>\n",
       "    </tr>\n",
       "    <tr>\n",
       "      <th>2</th>\n",
       "      <td>1</td>\n",
       "      <td>754.159807</td>\n",
       "      <td>6.232113</td>\n",
       "      <td>2021-04-20</td>\n",
       "      <td>4</td>\n",
       "    </tr>\n",
       "    <tr>\n",
       "      <th>3</th>\n",
       "      <td>1</td>\n",
       "      <td>2694.783254</td>\n",
       "      <td>18.511000</td>\n",
       "      <td>2021-08-11</td>\n",
       "      <td>8</td>\n",
       "    </tr>\n",
       "    <tr>\n",
       "      <th>4</th>\n",
       "      <td>1</td>\n",
       "      <td>4028.687306</td>\n",
       "      <td>26.265803</td>\n",
       "      <td>2021-08-28</td>\n",
       "      <td>8</td>\n",
       "    </tr>\n",
       "  </tbody>\n",
       "</table>\n",
       "</div>"
      ],
      "text/plain": [
       "   user_id     distance   duration       date  month\n",
       "0        1  4409.919140  25.599769 2021-01-01      1\n",
       "1        1  2617.592153  15.816871 2021-01-18      1\n",
       "2        1   754.159807   6.232113 2021-04-20      4\n",
       "3        1  2694.783254  18.511000 2021-08-11      8\n",
       "4        1  4028.687306  26.265803 2021-08-28      8"
      ]
     },
     "execution_count": 18,
     "metadata": {},
     "output_type": "execute_result"
    }
   ],
   "source": [
    "#создаем новый стобец month\n",
    "rides_go['month'] = rides_go['date'].dt.month\n",
    "rides_go.head()"
   ]
  },
  {
   "cell_type": "code",
   "execution_count": 19,
   "id": "d07f948b",
   "metadata": {},
   "outputs": [
    {
     "data": {
      "text/plain": [
       "<AxesSubplot:>"
      ]
     },
     "execution_count": 19,
     "metadata": {},
     "output_type": "execute_result"
    },
    {
     "data": {
      "image/png": "[encoded data removed]",
      "text/plain": [
       "<Figure size 432x288 with 1 Axes>"
      ]
     },
     "metadata": {
      "needs_background": "light"
     },
     "output_type": "display_data"
    }
   ],
   "source": [
    "# построим гистограмму по столбцу date\n",
    "rides_go['date'].hist()"
   ]
  },
  {
   "cell_type": "code",
   "execution_count": 20,
   "id": "c875dac4",
   "metadata": {},
   "outputs": [
    {
     "name": "stdout",
     "output_type": "stream",
     "text": [
      "Минимальная дата : 2021-01-01 00:00:00\n",
      "Максимальная дата: 2021-12-30 00:00:00\n"
     ]
    }
   ],
   "source": [
    "print('Минимальная дата :', rides_go['date'].min())\n",
    "print('Максимальная дата:', rides_go['date'].max())"
   ]
  },
  {
   "cell_type": "markdown",
   "id": "3bfd25b6",
   "metadata": {},
   "source": [
    "***2.3 Работа с пропусками и дубликатами***"
   ]
  },
  {
   "cell_type": "markdown",
   "id": "fe34dc12",
   "metadata": {},
   "source": [
    "В представленных датафреймах пропуски в значениях отсутствуют, а дубликаты присутствуют только в users_go. "
   ]
  },
  {
   "cell_type": "code",
   "execution_count": 21,
   "id": "6acdc63a",
   "metadata": {},
   "outputs": [
    {
     "data": {
      "text/plain": [
       "1557"
      ]
     },
     "execution_count": 21,
     "metadata": {},
     "output_type": "execute_result"
    }
   ],
   "source": [
    "users_go['city'].duplicated().sum()"
   ]
  },
  {
   "cell_type": "code",
   "execution_count": 22,
   "id": "ac6b3b75",
   "metadata": {},
   "outputs": [
    {
     "data": {
      "text/plain": [
       "array(['Тюмень', 'Омск', 'Москва', 'Ростов-на-Дону', 'Краснодар',\n",
       "       'Пятигорск', 'Екатеринбург', 'Сочи'], dtype=object)"
      ]
     },
     "execution_count": 22,
     "metadata": {},
     "output_type": "execute_result"
    }
   ],
   "source": [
    "users_go['city'].unique()"
   ]
  },
  {
   "cell_type": "code",
   "execution_count": 23,
   "id": "9f2196e4",
   "metadata": {},
   "outputs": [
    {
     "data": {
      "text/plain": [
       "1371"
      ]
     },
     "execution_count": 23,
     "metadata": {},
     "output_type": "execute_result"
    }
   ],
   "source": [
    "users_go['name'].duplicated().sum()"
   ]
  },
  {
   "cell_type": "code",
   "execution_count": 24,
   "id": "1ab519cc",
   "metadata": {},
   "outputs": [
    {
     "data": {
      "text/plain": [
       "array(['Кира', 'Станислав', 'Алексей', 'Константин', 'Адель', 'Регина',\n",
       "       'Игорь', 'Юрий', 'Ян', 'Валерий', 'Агата', 'Марк', 'Ева',\n",
       "       'Антонина', 'Валерия', 'Амалия', 'Даниил', 'Аделина', 'Святогор',\n",
       "       'Борис', 'Вероника', 'Ростислав', 'Назар', 'Эдуард', 'Василий',\n",
       "       'Денис', 'Тамара', 'Николай', 'Эвелина', 'Федор', 'Руслан', 'Иван',\n",
       "       'Любовь', 'Ярослава', 'Майя', 'Ильдар', 'Данила', 'Нина',\n",
       "       'Стефания', 'Ясмина', 'Дмитрий', 'Александр', 'Одиссей', 'Арсений',\n",
       "       'Алла', 'Таисия', 'Максим', 'Юлиана', 'Павел', 'Карина', 'Алиса',\n",
       "       'Лидия', 'Рамиль', 'Родион', 'Ника', 'Оксана', 'Анастасия',\n",
       "       'Маргарита', 'Вера', 'Тимур', 'Никита', 'Лев', 'Влад', 'Артур',\n",
       "       'Анна', 'Ольга', 'Вячеслав', 'Ксения', 'Виталина', 'Владислав',\n",
       "       'Тамерлан', 'Амина', 'Вадим', 'Олеся', 'Зарина', 'Егор', 'Гордей',\n",
       "       'Лилия', 'Святослав', 'Роберт', 'Амир', 'Влада', 'Богдан',\n",
       "       'Полина', 'Марат', 'Елисей', 'Макар', 'Алина', 'Глеб', 'Андрей',\n",
       "       'Альбина', 'Людмила', 'Марсель', 'Милена', 'Диана', 'Дарина',\n",
       "       'Данил', 'Артемий', 'Лиана', 'Альберт', 'Герман', 'Жанна', 'Нелли',\n",
       "       'Евгения', 'Ариана', 'Самира', 'Захар', 'Эльвира', 'Екатерина',\n",
       "       'Инна', 'Демид', 'Яна', 'Михаил', 'Татьяна', 'Степан', 'Мелания',\n",
       "       'Тимофей', 'Ирина', 'Анжелика', 'Владислава', 'Елизавета',\n",
       "       'Мадина', 'Снежана', 'Даниэль', 'Рустам', 'Каролина', 'Ангелина',\n",
       "       'Владимир', 'Виктория', 'Валентина', 'Семен', 'Арина', 'Лариса',\n",
       "       'Есения', 'Галина', 'Кирилл', 'Игнат', 'Виталий', 'Эмилия',\n",
       "       'Виолетта', 'Яромир', 'Софья', 'Мирослава', 'Евгений', 'Варвара',\n",
       "       'Платон', 'Наталия', 'Анатолий', 'Кристина', 'Всеволод', 'Дарья',\n",
       "       'Наташа', 'Мария', 'Марина', 'Василиса', 'Юлия', 'Илья', 'Злата',\n",
       "       'Роман', 'Наталья', 'Элина', 'Арсен', 'Айдар', 'Алия', 'Виктор',\n",
       "       'Мирон', 'Ульяна', 'Георгий', 'Петр', 'Эльмира', 'Олег', 'Дамир',\n",
       "       'Самир', 'Ярослав', 'Камилла', 'Сергей', 'Эмиль', 'Радмир',\n",
       "       'Савелий', 'Елена', 'Антон', 'Мирослав', 'София', 'Тихон', 'Артём',\n",
       "       'Давид', 'Григорий', 'Алёна', 'Светлана', 'Леонид', 'Александра',\n",
       "       'Василина', 'Милана', 'Матвей'], dtype=object)"
      ]
     },
     "execution_count": 24,
     "metadata": {},
     "output_type": "execute_result"
    }
   ],
   "source": [
    "users_go['name'].unique()"
   ]
  },
  {
   "cell_type": "code",
   "execution_count": 25,
   "id": "b1d1cdef",
   "metadata": {},
   "outputs": [
    {
     "data": {
      "text/plain": [
       "1536"
      ]
     },
     "execution_count": 25,
     "metadata": {},
     "output_type": "execute_result"
    }
   ],
   "source": [
    "users_go['age'].duplicated().sum()"
   ]
  },
  {
   "cell_type": "code",
   "execution_count": 26,
   "id": "4571c7bc",
   "metadata": {},
   "outputs": [
    {
     "data": {
      "text/plain": [
       "array([22, 31, 20, 26, 28, 25, 23, 21, 18, 27, 24, 29, 32, 14, 19, 30, 17,\n",
       "       12, 35, 33, 13, 15, 37, 16, 34, 38, 36, 39, 43])"
      ]
     },
     "execution_count": 26,
     "metadata": {},
     "output_type": "execute_result"
    }
   ],
   "source": [
    "users_go['age'].unique()"
   ]
  },
  {
   "cell_type": "code",
   "execution_count": 27,
   "id": "1d8d36a7",
   "metadata": {},
   "outputs": [
    {
     "data": {
      "text/plain": [
       "31"
      ]
     },
     "execution_count": 27,
     "metadata": {},
     "output_type": "execute_result"
    }
   ],
   "source": [
    "users_go.duplicated().sum()"
   ]
  },
  {
   "cell_type": "code",
   "execution_count": 28,
   "id": "f7405bda",
   "metadata": {},
   "outputs": [],
   "source": [
    "users_go = users_go.drop_duplicates()"
   ]
  },
  {
   "cell_type": "code",
   "execution_count": 29,
   "id": "41310138",
   "metadata": {},
   "outputs": [
    {
     "data": {
      "text/plain": [
       "0"
      ]
     },
     "execution_count": 29,
     "metadata": {},
     "output_type": "execute_result"
    }
   ],
   "source": [
    "users_go.duplicated().sum()"
   ]
  },
  {
   "cell_type": "code",
   "execution_count": 30,
   "id": "0557c0cd",
   "metadata": {},
   "outputs": [
    {
     "name": "stdout",
     "output_type": "stream",
     "text": [
      "<class 'pandas.core.frame.DataFrame'>\n",
      "Int64Index: 1534 entries, 0 to 1533\n",
      "Data columns (total 5 columns):\n",
      " #   Column             Non-Null Count  Dtype \n",
      "---  ------             --------------  ----- \n",
      " 0   user_id            1534 non-null   int64 \n",
      " 1   name               1534 non-null   object\n",
      " 2   age                1534 non-null   int64 \n",
      " 3   city               1534 non-null   object\n",
      " 4   subscription_type  1534 non-null   object\n",
      "dtypes: int64(2), object(3)\n",
      "memory usage: 71.9+ KB\n"
     ]
    }
   ],
   "source": [
    "users_go.info()"
   ]
  },
  {
   "cell_type": "code",
   "execution_count": 31,
   "id": "4f60f55b",
   "metadata": {},
   "outputs": [],
   "source": [
    "#в столбце distance  изменим тип данных\n",
    "rides_go['distance'] = rides_go['distance'].astype('int')"
   ]
  },
  {
   "cell_type": "code",
   "execution_count": 32,
   "id": "7fdeb958",
   "metadata": {},
   "outputs": [],
   "source": [
    "#в столбце duration округляем значение до целого числа в большую сторону, изменим тип данных\n",
    "rides_go['duration'] = np.ceil(rides_go['duration']).astype('int')"
   ]
  },
  {
   "cell_type": "code",
   "execution_count": 33,
   "id": "46b19d4c",
   "metadata": {},
   "outputs": [
    {
     "name": "stdout",
     "output_type": "stream",
     "text": [
      "<class 'pandas.core.frame.DataFrame'>\n",
      "RangeIndex: 18068 entries, 0 to 18067\n",
      "Data columns (total 5 columns):\n",
      " #   Column    Non-Null Count  Dtype         \n",
      "---  ------    --------------  -----         \n",
      " 0   user_id   18068 non-null  int64         \n",
      " 1   distance  18068 non-null  int64         \n",
      " 2   duration  18068 non-null  int64         \n",
      " 3   date      18068 non-null  datetime64[ns]\n",
      " 4   month     18068 non-null  int64         \n",
      "dtypes: datetime64[ns](1), int64(4)\n",
      "memory usage: 705.9 KB\n"
     ]
    },
    {
     "data": {
      "text/html": [
       "<div>\n",
       "<style scoped>\n",
       "    .dataframe tbody tr th:only-of-type {\n",
       "        vertical-align: middle;\n",
       "    }\n",
       "\n",
       "    .dataframe tbody tr th {\n",
       "        vertical-align: top;\n",
       "    }\n",
       "\n",
       "    .dataframe thead th {\n",
       "        text-align: right;\n",
       "    }\n",
       "</style>\n",
       "<table border=\"1\" class=\"dataframe\">\n",
       "  <thead>\n",
       "    <tr style=\"text-align: right;\">\n",
       "      <th></th>\n",
       "      <th>user_id</th>\n",
       "      <th>distance</th>\n",
       "      <th>duration</th>\n",
       "      <th>date</th>\n",
       "      <th>month</th>\n",
       "    </tr>\n",
       "  </thead>\n",
       "  <tbody>\n",
       "    <tr>\n",
       "      <th>0</th>\n",
       "      <td>1</td>\n",
       "      <td>4409</td>\n",
       "      <td>26</td>\n",
       "      <td>2021-01-01</td>\n",
       "      <td>1</td>\n",
       "    </tr>\n",
       "    <tr>\n",
       "      <th>1</th>\n",
       "      <td>1</td>\n",
       "      <td>2617</td>\n",
       "      <td>16</td>\n",
       "      <td>2021-01-18</td>\n",
       "      <td>1</td>\n",
       "    </tr>\n",
       "    <tr>\n",
       "      <th>2</th>\n",
       "      <td>1</td>\n",
       "      <td>754</td>\n",
       "      <td>7</td>\n",
       "      <td>2021-04-20</td>\n",
       "      <td>4</td>\n",
       "    </tr>\n",
       "    <tr>\n",
       "      <th>3</th>\n",
       "      <td>1</td>\n",
       "      <td>2694</td>\n",
       "      <td>19</td>\n",
       "      <td>2021-08-11</td>\n",
       "      <td>8</td>\n",
       "    </tr>\n",
       "    <tr>\n",
       "      <th>4</th>\n",
       "      <td>1</td>\n",
       "      <td>4028</td>\n",
       "      <td>27</td>\n",
       "      <td>2021-08-28</td>\n",
       "      <td>8</td>\n",
       "    </tr>\n",
       "  </tbody>\n",
       "</table>\n",
       "</div>"
      ],
      "text/plain": [
       "   user_id  distance  duration       date  month\n",
       "0        1      4409        26 2021-01-01      1\n",
       "1        1      2617        16 2021-01-18      1\n",
       "2        1       754         7 2021-04-20      4\n",
       "3        1      2694        19 2021-08-11      8\n",
       "4        1      4028        27 2021-08-28      8"
      ]
     },
     "execution_count": 33,
     "metadata": {},
     "output_type": "execute_result"
    }
   ],
   "source": [
    "rides_go.info()\n",
    "rides_go.head()"
   ]
  },
  {
   "cell_type": "markdown",
   "id": "49d4748c",
   "metadata": {},
   "source": [
    "**Вывод**\n",
    "\n",
    "Изменили типы данных в столбцах date, distance, duration.\n",
    "Создали столбец с номером месяца  на основе столбца date.\n",
    "Удалили дубликаты в датафрейме users_go."
   ]
  },
  {
   "cell_type": "markdown",
   "id": "212593c7",
   "metadata": {},
   "source": [
    "#### Шаг 3. Исследовательский анализ данных"
   ]
  },
  {
   "cell_type": "markdown",
   "id": "22b51ddb",
   "metadata": {},
   "source": [
    "***3.1 Частота встречаемости городов***"
   ]
  },
  {
   "cell_type": "code",
   "execution_count": 34,
   "id": "b613d331",
   "metadata": {},
   "outputs": [
    {
     "data": {
      "image/png": "[encoded data removed]",
      "text/plain": [
       "<Figure size 720x216 with 1 Axes>"
      ]
     },
     "metadata": {
      "needs_background": "light"
     },
     "output_type": "display_data"
    }
   ],
   "source": [
    "(\n",
    "    users_go.pivot_table(index='city', values='user_id', aggfunc='count')\n",
    "    .sort_values(by='user_id', ascending=True).plot(kind='barh', grid=True, figsize=(10,3))\n",
    ")                                                 \n",
    "plt.title('количество пользователей')\n",
    "plt.xlabel('количество пользователей')\n",
    "plt.ylabel('города')\n",
    "plt.show()"
   ]
  },
  {
   "cell_type": "code",
   "execution_count": 35,
   "id": "c18b8657",
   "metadata": {},
   "outputs": [
    {
     "data": {
      "text/html": [
       "<div>\n",
       "<style scoped>\n",
       "    .dataframe tbody tr th:only-of-type {\n",
       "        vertical-align: middle;\n",
       "    }\n",
       "\n",
       "    .dataframe tbody tr th {\n",
       "        vertical-align: top;\n",
       "    }\n",
       "\n",
       "    .dataframe thead th {\n",
       "        text-align: right;\n",
       "    }\n",
       "</style>\n",
       "<table border=\"1\" class=\"dataframe\">\n",
       "  <thead>\n",
       "    <tr style=\"text-align: right;\">\n",
       "      <th></th>\n",
       "      <th>user_id</th>\n",
       "    </tr>\n",
       "    <tr>\n",
       "      <th>city</th>\n",
       "      <th></th>\n",
       "    </tr>\n",
       "  </thead>\n",
       "  <tbody>\n",
       "    <tr>\n",
       "      <th>Пятигорск</th>\n",
       "      <td>219</td>\n",
       "    </tr>\n",
       "    <tr>\n",
       "      <th>Екатеринбург</th>\n",
       "      <td>204</td>\n",
       "    </tr>\n",
       "    <tr>\n",
       "      <th>Ростов-на-Дону</th>\n",
       "      <td>198</td>\n",
       "    </tr>\n",
       "    <tr>\n",
       "      <th>Краснодар</th>\n",
       "      <td>193</td>\n",
       "    </tr>\n",
       "    <tr>\n",
       "      <th>Сочи</th>\n",
       "      <td>189</td>\n",
       "    </tr>\n",
       "    <tr>\n",
       "      <th>Омск</th>\n",
       "      <td>183</td>\n",
       "    </tr>\n",
       "    <tr>\n",
       "      <th>Тюмень</th>\n",
       "      <td>180</td>\n",
       "    </tr>\n",
       "    <tr>\n",
       "      <th>Москва</th>\n",
       "      <td>168</td>\n",
       "    </tr>\n",
       "  </tbody>\n",
       "</table>\n",
       "</div>"
      ],
      "text/plain": [
       "                user_id\n",
       "city                   \n",
       "Пятигорск           219\n",
       "Екатеринбург        204\n",
       "Ростов-на-Дону      198\n",
       "Краснодар           193\n",
       "Сочи                189\n",
       "Омск                183\n",
       "Тюмень              180\n",
       "Москва              168"
      ]
     },
     "execution_count": 35,
     "metadata": {},
     "output_type": "execute_result"
    }
   ],
   "source": [
    "users_go.pivot_table(index='city', values='user_id', aggfunc='count').sort_values(by='user_id', ascending=False)"
   ]
  },
  {
   "cell_type": "markdown",
   "id": "8a7a3099",
   "metadata": {},
   "source": [
    "Визуализация показала что в южных городах используют самокаты чаще чем в северных. Вероятно это связано с более длительным сезоном катаная. Екатеринбург - исключение. "
   ]
  },
  {
   "cell_type": "markdown",
   "id": "8cf20f4b",
   "metadata": {},
   "source": [
    "***3.2 Соотношение пользователей с подпиской и без нее***"
   ]
  },
  {
   "cell_type": "code",
   "execution_count": 36,
   "id": "64a8c0d0",
   "metadata": {},
   "outputs": [
    {
     "data": {
      "image/png": "[encoded data removed]",
      "text/plain": [
       "<Figure size 360x360 with 1 Axes>"
      ]
     },
     "metadata": {},
     "output_type": "display_data"
    }
   ],
   "source": [
    "(\n",
    "    users_go.pivot_table(index='subscription_type', values='user_id', aggfunc='count')\n",
    "    .plot.pie(y='user_id', figsize=(5,5), label='количество пользователей', autopct='%.1f%%', startangle=45, title='Соотношение с подписой и без подписки')\n",
    ")\n",
    "plt.axis('equal')\n",
    "plt.show()"
   ]
  },
  {
   "cell_type": "markdown",
   "id": "482ae20b",
   "metadata": {},
   "source": [
    "Из круговой диаграммы видно, что пользователей с подпиской 45.6%, без подписки 54.4%."
   ]
  },
  {
   "cell_type": "code",
   "execution_count": 37,
   "id": "0bbe784a",
   "metadata": {},
   "outputs": [
    {
     "data": {
      "text/plain": [
       "count        2\n",
       "unique       2\n",
       "top       free\n",
       "freq         1\n",
       "Name: subscription_type, dtype: object"
      ]
     },
     "execution_count": 37,
     "metadata": {},
     "output_type": "execute_result"
    }
   ],
   "source": [
    "subscriptions_go['subscription_type'].describe()"
   ]
  },
  {
   "cell_type": "markdown",
   "id": "17c9d2f0",
   "metadata": {},
   "source": [
    "***3.3 Визуализация пользователей по возрасту***"
   ]
  },
  {
   "cell_type": "code",
   "execution_count": 38,
   "id": "053d5628",
   "metadata": {},
   "outputs": [
    {
     "data": {
      "image/png": "[encoded data removed]",
      "text/plain": [
       "<Figure size 1008x216 with 1 Axes>"
      ]
     },
     "metadata": {
      "needs_background": "light"
     },
     "output_type": "display_data"
    }
   ],
   "source": [
    "(\n",
    "    users_go.pivot_table(index='age', values='user_id', aggfunc='count')\n",
    "    .sort_values(by='age', ascending=True).plot(kind='bar', grid=True, figsize=(14,3))\n",
    ")                                                 \n",
    "plt.title('количество пользователей')\n",
    "plt.xlabel('возраст, лет')\n",
    "plt.ylabel('количество')\n",
    "plt.show()"
   ]
  },
  {
   "cell_type": "code",
   "execution_count": 39,
   "id": "b635c3ee",
   "metadata": {
    "scrolled": true
   },
   "outputs": [
    {
     "data": {
      "text/plain": [
       "count    1534.000000\n",
       "mean       24.903520\n",
       "std         4.572367\n",
       "min        12.000000\n",
       "25%        22.000000\n",
       "50%        25.000000\n",
       "75%        28.000000\n",
       "max        43.000000\n",
       "Name: age, dtype: float64"
      ]
     },
     "execution_count": 39,
     "metadata": {},
     "output_type": "execute_result"
    }
   ],
   "source": [
    "users_go['age'].describe()"
   ]
  },
  {
   "cell_type": "markdown",
   "id": "fbf9ec64",
   "metadata": {},
   "source": [
    "График показывает нормальное распределение пользователей по возрасту. Среднее значение данных близко к медиане."
   ]
  },
  {
   "cell_type": "markdown",
   "id": "7c9e4d40",
   "metadata": {},
   "source": [
    "***3.4 Расстояние одной поездки пользователя***"
   ]
  },
  {
   "cell_type": "code",
   "execution_count": 40,
   "id": "24496bec",
   "metadata": {},
   "outputs": [
    {
     "data": {
      "text/plain": [
       "count    18068.000000\n",
       "mean      3070.159841\n",
       "std       1116.831548\n",
       "min          0.000000\n",
       "25%       2542.750000\n",
       "50%       3133.000000\n",
       "75%       3776.000000\n",
       "max       7211.000000\n",
       "Name: distance, dtype: float64"
      ]
     },
     "execution_count": 40,
     "metadata": {},
     "output_type": "execute_result"
    }
   ],
   "source": [
    "rides_go['distance'].describe()"
   ]
  },
  {
   "cell_type": "code",
   "execution_count": 41,
   "id": "826c27ba",
   "metadata": {},
   "outputs": [
    {
     "data": {
      "image/png": "[encoded data removed]",
      "text/plain": [
       "<Figure size 432x288 with 1 Axes>"
      ]
     },
     "metadata": {
      "needs_background": "light"
     },
     "output_type": "display_data"
    }
   ],
   "source": [
    "plt.hist(rides_go['distance'], bins=700, range=(1,8000))\n",
    "plt.title('количество поездок')\n",
    "plt.xlabel('расстояние, м')\n",
    "plt.ylabel('количество')\n",
    "plt.show()"
   ]
  },
  {
   "cell_type": "markdown",
   "id": "ebbff52e",
   "metadata": {},
   "source": [
    "На гистограмме отображено 2 области с нормальным распределением значений в районе 650 и 3100."
   ]
  },
  {
   "cell_type": "markdown",
   "id": "9f9e05d5",
   "metadata": {},
   "source": [
    "***3.5 Визуализация продолжительности поездки пользователя***"
   ]
  },
  {
   "cell_type": "code",
   "execution_count": 42,
   "id": "d7c40189",
   "metadata": {},
   "outputs": [
    {
     "data": {
      "text/plain": [
       "count    18068.000000\n",
       "mean        18.303520\n",
       "std          6.094928\n",
       "min          1.000000\n",
       "25%         14.000000\n",
       "50%         18.000000\n",
       "75%         22.000000\n",
       "max         41.000000\n",
       "Name: duration, dtype: float64"
      ]
     },
     "execution_count": 42,
     "metadata": {},
     "output_type": "execute_result"
    }
   ],
   "source": [
    "rides_go['duration'].describe()"
   ]
  },
  {
   "cell_type": "code",
   "execution_count": 43,
   "id": "88b285bc",
   "metadata": {},
   "outputs": [
    {
     "data": {
      "image/png": "[encoded data removed]",
      "text/plain": [
       "<Figure size 432x288 with 1 Axes>"
      ]
     },
     "metadata": {
      "needs_background": "light"
     },
     "output_type": "display_data"
    },
    {
     "data": {
      "text/plain": [
       "(0.0, 50.0)"
      ]
     },
     "execution_count": 43,
     "metadata": {},
     "output_type": "execute_result"
    },
    {
     "data": {
      "image/png": "[encoded data removed]",
      "text/plain": [
       "<Figure size 432x288 with 1 Axes>"
      ]
     },
     "metadata": {
      "needs_background": "light"
     },
     "output_type": "display_data"
    }
   ],
   "source": [
    "plt.hist(rides_go['duration'], bins=100, range=(0,50))\n",
    "plt.title('количество поездок в зависимости от продолжительности')\n",
    "plt.xlabel('продолжительность поездки, мин')\n",
    "plt.ylabel('количество поездок')\n",
    "plt.show()\n",
    "plt.boxplot(rides_go['duration'])\n",
    "plt.ylim(0, 50)"
   ]
  },
  {
   "cell_type": "markdown",
   "id": "2ccc16e6",
   "metadata": {},
   "source": [
    "Продолжительность поездок нормально распределена между значениями 2 и 36. \n",
    "Среднее значение времени поездки равно 17 мин, что совпадает с медианой данных.\n",
    "Есть поездки короткие в 1 мин это связано с поездками на короткие расстояния."
   ]
  },
  {
   "cell_type": "markdown",
   "id": "df703646",
   "metadata": {},
   "source": [
    "**Вывод**\n",
    "\n",
    "1. В прокате самокатов первое место занимает курортный город Пятигорск. Екатеринбург  на 2 месте.\n",
    "2. Пользователей без подписки больше на 20% чем с подпиской - 54,4% и 45,6% соответственно.\n",
    "3. Распределение пользователей по возрасту по гистограмме указывает что среднее значение данных близко к медиане и находится в районе 25 лет.\n",
    "4. Большая часть поездок приходится на расстояния от 2500 до 3800м  со средним значением в 3100м. Но на гистограмме отображена 2-я область с нормальным распределением значений в районе 650м.\n",
    "5. Средняя продолжительность поездки 17 мин, что совпадает с медианой данных. Есть выбросы - поездки короткие в 1 мин."
   ]
  },
  {
   "cell_type": "markdown",
   "id": "4ef51331",
   "metadata": {},
   "source": [
    "#### Шаг 4. Объединение данных"
   ]
  },
  {
   "cell_type": "markdown",
   "id": "e6bb6992",
   "metadata": {},
   "source": [
    "***4.1 Объединение данных о пользователях, поездках и подписках в один датафрейм***"
   ]
  },
  {
   "cell_type": "markdown",
   "id": "f3dd62c8",
   "metadata": {},
   "source": [
    "***Определим размерность датафреймов до и после объединения***"
   ]
  },
  {
   "cell_type": "code",
   "execution_count": 44,
   "id": "1afa99b0",
   "metadata": {},
   "outputs": [
    {
     "data": {
      "text/plain": [
       "7670"
      ]
     },
     "execution_count": 44,
     "metadata": {},
     "output_type": "execute_result"
    }
   ],
   "source": [
    "users_go.size"
   ]
  },
  {
   "cell_type": "code",
   "execution_count": 45,
   "id": "e757dbf9",
   "metadata": {},
   "outputs": [
    {
     "data": {
      "text/plain": [
       "8"
      ]
     },
     "execution_count": 45,
     "metadata": {},
     "output_type": "execute_result"
    }
   ],
   "source": [
    "subscriptions_go.size"
   ]
  },
  {
   "cell_type": "code",
   "execution_count": 69,
   "id": "4581e7a3",
   "metadata": {},
   "outputs": [
    {
     "data": {
      "text/plain": [
       "(18068, 5)"
      ]
     },
     "execution_count": 69,
     "metadata": {},
     "output_type": "execute_result"
    }
   ],
   "source": [
    "rides_go.shape"
   ]
  },
  {
   "cell_type": "code",
   "execution_count": 47,
   "id": "c0525ec2",
   "metadata": {},
   "outputs": [
    {
     "data": {
      "text/html": [
       "<div>\n",
       "<style scoped>\n",
       "    .dataframe tbody tr th:only-of-type {\n",
       "        vertical-align: middle;\n",
       "    }\n",
       "\n",
       "    .dataframe tbody tr th {\n",
       "        vertical-align: top;\n",
       "    }\n",
       "\n",
       "    .dataframe thead th {\n",
       "        text-align: right;\n",
       "    }\n",
       "</style>\n",
       "<table border=\"1\" class=\"dataframe\">\n",
       "  <thead>\n",
       "    <tr style=\"text-align: right;\">\n",
       "      <th></th>\n",
       "      <th>user_id</th>\n",
       "      <th>name</th>\n",
       "      <th>age</th>\n",
       "      <th>city</th>\n",
       "      <th>subscription_type</th>\n",
       "      <th>minute_price</th>\n",
       "      <th>start_ride_price</th>\n",
       "      <th>subscription_fee</th>\n",
       "      <th>distance</th>\n",
       "      <th>duration</th>\n",
       "      <th>date</th>\n",
       "      <th>month</th>\n",
       "    </tr>\n",
       "  </thead>\n",
       "  <tbody>\n",
       "    <tr>\n",
       "      <th>0</th>\n",
       "      <td>1</td>\n",
       "      <td>Кира</td>\n",
       "      <td>22</td>\n",
       "      <td>Тюмень</td>\n",
       "      <td>ultra</td>\n",
       "      <td>6</td>\n",
       "      <td>0</td>\n",
       "      <td>199</td>\n",
       "      <td>4409</td>\n",
       "      <td>26</td>\n",
       "      <td>2021-01-01</td>\n",
       "      <td>1</td>\n",
       "    </tr>\n",
       "    <tr>\n",
       "      <th>1</th>\n",
       "      <td>1</td>\n",
       "      <td>Кира</td>\n",
       "      <td>22</td>\n",
       "      <td>Тюмень</td>\n",
       "      <td>ultra</td>\n",
       "      <td>6</td>\n",
       "      <td>0</td>\n",
       "      <td>199</td>\n",
       "      <td>2617</td>\n",
       "      <td>16</td>\n",
       "      <td>2021-01-18</td>\n",
       "      <td>1</td>\n",
       "    </tr>\n",
       "    <tr>\n",
       "      <th>2</th>\n",
       "      <td>1</td>\n",
       "      <td>Кира</td>\n",
       "      <td>22</td>\n",
       "      <td>Тюмень</td>\n",
       "      <td>ultra</td>\n",
       "      <td>6</td>\n",
       "      <td>0</td>\n",
       "      <td>199</td>\n",
       "      <td>754</td>\n",
       "      <td>7</td>\n",
       "      <td>2021-04-20</td>\n",
       "      <td>4</td>\n",
       "    </tr>\n",
       "    <tr>\n",
       "      <th>3</th>\n",
       "      <td>1</td>\n",
       "      <td>Кира</td>\n",
       "      <td>22</td>\n",
       "      <td>Тюмень</td>\n",
       "      <td>ultra</td>\n",
       "      <td>6</td>\n",
       "      <td>0</td>\n",
       "      <td>199</td>\n",
       "      <td>2694</td>\n",
       "      <td>19</td>\n",
       "      <td>2021-08-11</td>\n",
       "      <td>8</td>\n",
       "    </tr>\n",
       "    <tr>\n",
       "      <th>4</th>\n",
       "      <td>1</td>\n",
       "      <td>Кира</td>\n",
       "      <td>22</td>\n",
       "      <td>Тюмень</td>\n",
       "      <td>ultra</td>\n",
       "      <td>6</td>\n",
       "      <td>0</td>\n",
       "      <td>199</td>\n",
       "      <td>4028</td>\n",
       "      <td>27</td>\n",
       "      <td>2021-08-28</td>\n",
       "      <td>8</td>\n",
       "    </tr>\n",
       "  </tbody>\n",
       "</table>\n",
       "</div>"
      ],
      "text/plain": [
       "   user_id  name  age    city subscription_type  minute_price  \\\n",
       "0        1  Кира   22  Тюмень             ultra             6   \n",
       "1        1  Кира   22  Тюмень             ultra             6   \n",
       "2        1  Кира   22  Тюмень             ultra             6   \n",
       "3        1  Кира   22  Тюмень             ultra             6   \n",
       "4        1  Кира   22  Тюмень             ultra             6   \n",
       "\n",
       "   start_ride_price  subscription_fee  distance  duration       date  month  \n",
       "0                 0               199      4409        26 2021-01-01      1  \n",
       "1                 0               199      2617        16 2021-01-18      1  \n",
       "2                 0               199       754         7 2021-04-20      4  \n",
       "3                 0               199      2694        19 2021-08-11      8  \n",
       "4                 0               199      4028        27 2021-08-28      8  "
      ]
     },
     "execution_count": 47,
     "metadata": {},
     "output_type": "execute_result"
    }
   ],
   "source": [
    "scooter = users_go.merge(subscriptions_go, on='subscription_type').merge(rides_go, on='user_id')\n",
    "scooter.head()"
   ]
  },
  {
   "cell_type": "code",
   "execution_count": 70,
   "id": "b5e07c85",
   "metadata": {},
   "outputs": [
    {
     "name": "stdout",
     "output_type": "stream",
     "text": [
      "<class 'pandas.core.frame.DataFrame'>\n",
      "Int64Index: 18068 entries, 0 to 18067\n",
      "Data columns (total 12 columns):\n",
      " #   Column             Non-Null Count  Dtype         \n",
      "---  ------             --------------  -----         \n",
      " 0   user_id            18068 non-null  int64         \n",
      " 1   name               18068 non-null  object        \n",
      " 2   age                18068 non-null  int64         \n",
      " 3   city               18068 non-null  object        \n",
      " 4   subscription_type  18068 non-null  object        \n",
      " 5   minute_price       18068 non-null  int64         \n",
      " 6   start_ride_price   18068 non-null  int64         \n",
      " 7   subscription_fee   18068 non-null  int64         \n",
      " 8   distance           18068 non-null  int64         \n",
      " 9   duration           18068 non-null  int64         \n",
      " 10  date               18068 non-null  datetime64[ns]\n",
      " 11  month              18068 non-null  int64         \n",
      "dtypes: datetime64[ns](1), int64(8), object(3)\n",
      "memory usage: 2.3+ MB\n"
     ]
    },
    {
     "data": {
      "text/plain": [
       "(18068, 12)"
      ]
     },
     "execution_count": 70,
     "metadata": {},
     "output_type": "execute_result"
    }
   ],
   "source": [
    "scooter.info()\n",
    "scooter.shape"
   ]
  },
  {
   "cell_type": "code",
   "execution_count": 49,
   "id": "78f9cd9f",
   "metadata": {},
   "outputs": [
    {
     "data": {
      "text/plain": [
       "0"
      ]
     },
     "execution_count": 49,
     "metadata": {},
     "output_type": "execute_result"
    }
   ],
   "source": [
    "scooter.duplicated().sum()"
   ]
  },
  {
   "cell_type": "markdown",
   "id": "6fbbe663",
   "metadata": {},
   "source": [
    "***4.2 Создаем 2 новых датафрейма из scooter***"
   ]
  },
  {
   "cell_type": "code",
   "execution_count": 50,
   "id": "aab6c1b6",
   "metadata": {},
   "outputs": [
    {
     "data": {
      "text/html": [
       "<div>\n",
       "<style scoped>\n",
       "    .dataframe tbody tr th:only-of-type {\n",
       "        vertical-align: middle;\n",
       "    }\n",
       "\n",
       "    .dataframe tbody tr th {\n",
       "        vertical-align: top;\n",
       "    }\n",
       "\n",
       "    .dataframe thead th {\n",
       "        text-align: right;\n",
       "    }\n",
       "</style>\n",
       "<table border=\"1\" class=\"dataframe\">\n",
       "  <thead>\n",
       "    <tr style=\"text-align: right;\">\n",
       "      <th></th>\n",
       "      <th>user_id</th>\n",
       "      <th>name</th>\n",
       "      <th>age</th>\n",
       "      <th>city</th>\n",
       "      <th>subscription_type</th>\n",
       "      <th>minute_price</th>\n",
       "      <th>start_ride_price</th>\n",
       "      <th>subscription_fee</th>\n",
       "      <th>distance</th>\n",
       "      <th>duration</th>\n",
       "      <th>date</th>\n",
       "      <th>month</th>\n",
       "    </tr>\n",
       "  </thead>\n",
       "  <tbody>\n",
       "    <tr>\n",
       "      <th>6500</th>\n",
       "      <td>700</td>\n",
       "      <td>Айдар</td>\n",
       "      <td>22</td>\n",
       "      <td>Омск</td>\n",
       "      <td>free</td>\n",
       "      <td>8</td>\n",
       "      <td>50</td>\n",
       "      <td>0</td>\n",
       "      <td>2515</td>\n",
       "      <td>15</td>\n",
       "      <td>2021-01-02</td>\n",
       "      <td>1</td>\n",
       "    </tr>\n",
       "    <tr>\n",
       "      <th>6501</th>\n",
       "      <td>700</td>\n",
       "      <td>Айдар</td>\n",
       "      <td>22</td>\n",
       "      <td>Омск</td>\n",
       "      <td>free</td>\n",
       "      <td>8</td>\n",
       "      <td>50</td>\n",
       "      <td>0</td>\n",
       "      <td>846</td>\n",
       "      <td>17</td>\n",
       "      <td>2021-02-01</td>\n",
       "      <td>2</td>\n",
       "    </tr>\n",
       "    <tr>\n",
       "      <th>6502</th>\n",
       "      <td>700</td>\n",
       "      <td>Айдар</td>\n",
       "      <td>22</td>\n",
       "      <td>Омск</td>\n",
       "      <td>free</td>\n",
       "      <td>8</td>\n",
       "      <td>50</td>\n",
       "      <td>0</td>\n",
       "      <td>4004</td>\n",
       "      <td>21</td>\n",
       "      <td>2021-02-04</td>\n",
       "      <td>2</td>\n",
       "    </tr>\n",
       "    <tr>\n",
       "      <th>6503</th>\n",
       "      <td>700</td>\n",
       "      <td>Айдар</td>\n",
       "      <td>22</td>\n",
       "      <td>Омск</td>\n",
       "      <td>free</td>\n",
       "      <td>8</td>\n",
       "      <td>50</td>\n",
       "      <td>0</td>\n",
       "      <td>1205</td>\n",
       "      <td>10</td>\n",
       "      <td>2021-02-10</td>\n",
       "      <td>2</td>\n",
       "    </tr>\n",
       "    <tr>\n",
       "      <th>6504</th>\n",
       "      <td>700</td>\n",
       "      <td>Айдар</td>\n",
       "      <td>22</td>\n",
       "      <td>Омск</td>\n",
       "      <td>free</td>\n",
       "      <td>8</td>\n",
       "      <td>50</td>\n",
       "      <td>0</td>\n",
       "      <td>3047</td>\n",
       "      <td>18</td>\n",
       "      <td>2021-02-14</td>\n",
       "      <td>2</td>\n",
       "    </tr>\n",
       "  </tbody>\n",
       "</table>\n",
       "</div>"
      ],
      "text/plain": [
       "      user_id   name  age  city subscription_type  minute_price  \\\n",
       "6500      700  Айдар   22  Омск              free             8   \n",
       "6501      700  Айдар   22  Омск              free             8   \n",
       "6502      700  Айдар   22  Омск              free             8   \n",
       "6503      700  Айдар   22  Омск              free             8   \n",
       "6504      700  Айдар   22  Омск              free             8   \n",
       "\n",
       "      start_ride_price  subscription_fee  distance  duration       date  month  \n",
       "6500                50                 0      2515        15 2021-01-02      1  \n",
       "6501                50                 0       846        17 2021-02-01      2  \n",
       "6502                50                 0      4004        21 2021-02-04      2  \n",
       "6503                50                 0      1205        10 2021-02-10      2  \n",
       "6504                50                 0      3047        18 2021-02-14      2  "
      ]
     },
     "execution_count": 50,
     "metadata": {},
     "output_type": "execute_result"
    }
   ],
   "source": [
    "# создадим DF scooter_free с данными о пользователях без подписки\n",
    "scooter_free = scooter[scooter['subscription_type'] =='free']\n",
    "scooter_free.head()"
   ]
  },
  {
   "cell_type": "code",
   "execution_count": 51,
   "id": "655d67ee",
   "metadata": {},
   "outputs": [
    {
     "name": "stdout",
     "output_type": "stream",
     "text": [
      "<class 'pandas.core.frame.DataFrame'>\n",
      "Int64Index: 11568 entries, 6500 to 18067\n",
      "Data columns (total 12 columns):\n",
      " #   Column             Non-Null Count  Dtype         \n",
      "---  ------             --------------  -----         \n",
      " 0   user_id            11568 non-null  int64         \n",
      " 1   name               11568 non-null  object        \n",
      " 2   age                11568 non-null  int64         \n",
      " 3   city               11568 non-null  object        \n",
      " 4   subscription_type  11568 non-null  object        \n",
      " 5   minute_price       11568 non-null  int64         \n",
      " 6   start_ride_price   11568 non-null  int64         \n",
      " 7   subscription_fee   11568 non-null  int64         \n",
      " 8   distance           11568 non-null  int64         \n",
      " 9   duration           11568 non-null  int64         \n",
      " 10  date               11568 non-null  datetime64[ns]\n",
      " 11  month              11568 non-null  int64         \n",
      "dtypes: datetime64[ns](1), int64(8), object(3)\n",
      "memory usage: 1.1+ MB\n"
     ]
    }
   ],
   "source": [
    "scooter_free.info()"
   ]
  },
  {
   "cell_type": "code",
   "execution_count": 52,
   "id": "d81a8e09",
   "metadata": {},
   "outputs": [
    {
     "data": {
      "text/html": [
       "<div>\n",
       "<style scoped>\n",
       "    .dataframe tbody tr th:only-of-type {\n",
       "        vertical-align: middle;\n",
       "    }\n",
       "\n",
       "    .dataframe tbody tr th {\n",
       "        vertical-align: top;\n",
       "    }\n",
       "\n",
       "    .dataframe thead th {\n",
       "        text-align: right;\n",
       "    }\n",
       "</style>\n",
       "<table border=\"1\" class=\"dataframe\">\n",
       "  <thead>\n",
       "    <tr style=\"text-align: right;\">\n",
       "      <th></th>\n",
       "      <th>user_id</th>\n",
       "      <th>name</th>\n",
       "      <th>age</th>\n",
       "      <th>city</th>\n",
       "      <th>subscription_type</th>\n",
       "      <th>minute_price</th>\n",
       "      <th>start_ride_price</th>\n",
       "      <th>subscription_fee</th>\n",
       "      <th>distance</th>\n",
       "      <th>duration</th>\n",
       "      <th>date</th>\n",
       "      <th>month</th>\n",
       "    </tr>\n",
       "  </thead>\n",
       "  <tbody>\n",
       "    <tr>\n",
       "      <th>0</th>\n",
       "      <td>1</td>\n",
       "      <td>Кира</td>\n",
       "      <td>22</td>\n",
       "      <td>Тюмень</td>\n",
       "      <td>ultra</td>\n",
       "      <td>6</td>\n",
       "      <td>0</td>\n",
       "      <td>199</td>\n",
       "      <td>4409</td>\n",
       "      <td>26</td>\n",
       "      <td>2021-01-01</td>\n",
       "      <td>1</td>\n",
       "    </tr>\n",
       "    <tr>\n",
       "      <th>1</th>\n",
       "      <td>1</td>\n",
       "      <td>Кира</td>\n",
       "      <td>22</td>\n",
       "      <td>Тюмень</td>\n",
       "      <td>ultra</td>\n",
       "      <td>6</td>\n",
       "      <td>0</td>\n",
       "      <td>199</td>\n",
       "      <td>2617</td>\n",
       "      <td>16</td>\n",
       "      <td>2021-01-18</td>\n",
       "      <td>1</td>\n",
       "    </tr>\n",
       "    <tr>\n",
       "      <th>2</th>\n",
       "      <td>1</td>\n",
       "      <td>Кира</td>\n",
       "      <td>22</td>\n",
       "      <td>Тюмень</td>\n",
       "      <td>ultra</td>\n",
       "      <td>6</td>\n",
       "      <td>0</td>\n",
       "      <td>199</td>\n",
       "      <td>754</td>\n",
       "      <td>7</td>\n",
       "      <td>2021-04-20</td>\n",
       "      <td>4</td>\n",
       "    </tr>\n",
       "    <tr>\n",
       "      <th>3</th>\n",
       "      <td>1</td>\n",
       "      <td>Кира</td>\n",
       "      <td>22</td>\n",
       "      <td>Тюмень</td>\n",
       "      <td>ultra</td>\n",
       "      <td>6</td>\n",
       "      <td>0</td>\n",
       "      <td>199</td>\n",
       "      <td>2694</td>\n",
       "      <td>19</td>\n",
       "      <td>2021-08-11</td>\n",
       "      <td>8</td>\n",
       "    </tr>\n",
       "    <tr>\n",
       "      <th>4</th>\n",
       "      <td>1</td>\n",
       "      <td>Кира</td>\n",
       "      <td>22</td>\n",
       "      <td>Тюмень</td>\n",
       "      <td>ultra</td>\n",
       "      <td>6</td>\n",
       "      <td>0</td>\n",
       "      <td>199</td>\n",
       "      <td>4028</td>\n",
       "      <td>27</td>\n",
       "      <td>2021-08-28</td>\n",
       "      <td>8</td>\n",
       "    </tr>\n",
       "  </tbody>\n",
       "</table>\n",
       "</div>"
      ],
      "text/plain": [
       "   user_id  name  age    city subscription_type  minute_price  \\\n",
       "0        1  Кира   22  Тюмень             ultra             6   \n",
       "1        1  Кира   22  Тюмень             ultra             6   \n",
       "2        1  Кира   22  Тюмень             ultra             6   \n",
       "3        1  Кира   22  Тюмень             ultra             6   \n",
       "4        1  Кира   22  Тюмень             ultra             6   \n",
       "\n",
       "   start_ride_price  subscription_fee  distance  duration       date  month  \n",
       "0                 0               199      4409        26 2021-01-01      1  \n",
       "1                 0               199      2617        16 2021-01-18      1  \n",
       "2                 0               199       754         7 2021-04-20      4  \n",
       "3                 0               199      2694        19 2021-08-11      8  \n",
       "4                 0               199      4028        27 2021-08-28      8  "
      ]
     },
     "execution_count": 52,
     "metadata": {},
     "output_type": "execute_result"
    }
   ],
   "source": [
    "# создадим DF scooter_ultra с данными о пользователях с подпиской\n",
    "scooter_ultra = scooter[scooter['subscription_type'] =='ultra']\n",
    "scooter_ultra.head()"
   ]
  },
  {
   "cell_type": "code",
   "execution_count": 53,
   "id": "1a4f25d2",
   "metadata": {
    "scrolled": true
   },
   "outputs": [
    {
     "name": "stdout",
     "output_type": "stream",
     "text": [
      "<class 'pandas.core.frame.DataFrame'>\n",
      "Int64Index: 6500 entries, 0 to 6499\n",
      "Data columns (total 12 columns):\n",
      " #   Column             Non-Null Count  Dtype         \n",
      "---  ------             --------------  -----         \n",
      " 0   user_id            6500 non-null   int64         \n",
      " 1   name               6500 non-null   object        \n",
      " 2   age                6500 non-null   int64         \n",
      " 3   city               6500 non-null   object        \n",
      " 4   subscription_type  6500 non-null   object        \n",
      " 5   minute_price       6500 non-null   int64         \n",
      " 6   start_ride_price   6500 non-null   int64         \n",
      " 7   subscription_fee   6500 non-null   int64         \n",
      " 8   distance           6500 non-null   int64         \n",
      " 9   duration           6500 non-null   int64         \n",
      " 10  date               6500 non-null   datetime64[ns]\n",
      " 11  month              6500 non-null   int64         \n",
      "dtypes: datetime64[ns](1), int64(8), object(3)\n",
      "memory usage: 660.2+ KB\n"
     ]
    }
   ],
   "source": [
    "scooter_ultra.info()"
   ]
  },
  {
   "cell_type": "markdown",
   "id": "8e30577e",
   "metadata": {},
   "source": []
  },
  {
   "cell_type": "markdown",
   "id": "d653f344",
   "metadata": {},
   "source": [
    "***4.2 Визуализируем информацию о расстоянии и времени поездок для пользователей без подписки и с подпиской***"
   ]
  },
  {
   "cell_type": "code",
   "execution_count": 54,
   "id": "152d9e72",
   "metadata": {},
   "outputs": [
    {
     "data": {
      "image/png": "[encoded data removed]",
      "text/plain": [
       "<Figure size 432x288 with 1 Axes>"
      ]
     },
     "metadata": {
      "needs_background": "light"
     },
     "output_type": "display_data"
    },
    {
     "data": {
      "image/png": "[encoded data removed]",
      "text/plain": [
       "<Figure size 432x288 with 1 Axes>"
      ]
     },
     "metadata": {
      "needs_background": "light"
     },
     "output_type": "display_data"
    }
   ],
   "source": [
    "plt.hist(scooter_free['distance'],bins=50, range=(0,7500), label='free')\n",
    "plt.hist(scooter_ultra['distance'],bins=50, range=(0,7500), alpha=0.5, label='ultra')\n",
    "plt.legend(loc='upper right')\n",
    "plt.title('зависимость количества поездок от расстояния поездки')\n",
    "plt.xlabel('расстояние, м')\n",
    "plt.ylabel('количество поездок')\n",
    "plt.show(),\n",
    "plt.hist([scooter_free['duration'], scooter_ultra['duration']],bins=50, range=(0,50), label=['free, ultra'])\n",
    "plt.legend(loc='upper right')\n",
    "plt.title('зависимость количества поездок от продолжительности поездки')\n",
    "plt.xlabel('продолжительность, мин')\n",
    "plt.ylabel('количество поездок')\n",
    "plt.show()"
   ]
  },
  {
   "cell_type": "code",
   "execution_count": 55,
   "id": "b36971a7",
   "metadata": {},
   "outputs": [
    {
     "data": {
      "text/plain": [
       "count    11568.000000\n",
       "mean      3044.992911\n",
       "std       1246.174341\n",
       "min          0.000000\n",
       "25%       2366.000000\n",
       "50%       3114.000000\n",
       "75%       3905.000000\n",
       "max       7211.000000\n",
       "Name: distance, dtype: float64"
      ]
     },
     "execution_count": 55,
     "metadata": {},
     "output_type": "execute_result"
    }
   ],
   "source": [
    "scooter_free['distance'].describe()"
   ]
  },
  {
   "cell_type": "code",
   "execution_count": 56,
   "id": "b475b64e",
   "metadata": {},
   "outputs": [
    {
     "data": {
      "text/plain": [
       "count    6500.000000\n",
       "mean     3114.949231\n",
       "std       836.894838\n",
       "min       244.000000\n",
       "25%      2785.000000\n",
       "50%      3148.000000\n",
       "75%      3560.000000\n",
       "max      5699.000000\n",
       "Name: distance, dtype: float64"
      ]
     },
     "execution_count": 56,
     "metadata": {},
     "output_type": "execute_result"
    }
   ],
   "source": [
    "scooter_ultra['distance'].describe()"
   ]
  },
  {
   "cell_type": "code",
   "execution_count": 57,
   "id": "995c0dad",
   "metadata": {},
   "outputs": [
    {
     "data": {
      "text/plain": [
       "count    11568.000000\n",
       "mean        17.890992\n",
       "std          6.330250\n",
       "min          1.000000\n",
       "25%         13.000000\n",
       "50%         18.000000\n",
       "75%         22.000000\n",
       "max         35.000000\n",
       "Name: duration, dtype: float64"
      ]
     },
     "execution_count": 57,
     "metadata": {},
     "output_type": "execute_result"
    }
   ],
   "source": [
    "scooter_free['duration'].describe()"
   ]
  },
  {
   "cell_type": "code",
   "execution_count": 58,
   "id": "ed13c327",
   "metadata": {},
   "outputs": [
    {
     "data": {
      "text/plain": [
       "count    6500.000000\n",
       "mean       19.037692\n",
       "std         5.577439\n",
       "min         4.000000\n",
       "25%        15.000000\n",
       "50%        19.000000\n",
       "75%        22.000000\n",
       "max        41.000000\n",
       "Name: duration, dtype: float64"
      ]
     },
     "execution_count": 58,
     "metadata": {},
     "output_type": "execute_result"
    }
   ],
   "source": [
    "scooter_ultra['duration'].describe()"
   ]
  },
  {
   "cell_type": "markdown",
   "id": "548425f5",
   "metadata": {},
   "source": [
    "**Вывод**\n",
    "\n",
    "1. С помощью описательной статитики и графиков визуализации можем сказать что среднее и медианное расстояние поездок примерно одинаково у пользователей без подписки и с подпиской. Наблюдаем сокращение дальности поездки (5699 к 7211м) и среднего отклонения у пользователей с подпиской (836 к 1246). Также видим смещение 2-го распределения данных  у пользователей с подпиской в сторону увеличения продолжительности поездки (среднее значение в 1000м).\n",
    "2. Длительность поездки по подписке отличается от поездки без подписки в максимально длинной поездке (до 40 мин). Также по подписке значения медианы превышают сравнительную медиану примерно на 6-7%.\n"
   ]
  },
  {
   "cell_type": "markdown",
   "id": "402d620f",
   "metadata": {},
   "source": [
    "#### Шаг 5. Подсчёт выручки"
   ]
  },
  {
   "cell_type": "markdown",
   "id": "9f529044",
   "metadata": {},
   "source": [
    "***5.1 Создаем датафрейм с данными о поездках на основе датафрейма scooter***"
   ]
  },
  {
   "cell_type": "code",
   "execution_count": 59,
   "id": "43244c18",
   "metadata": {},
   "outputs": [
    {
     "data": {
      "text/html": [
       "<div>\n",
       "<style scoped>\n",
       "    .dataframe tbody tr th:only-of-type {\n",
       "        vertical-align: middle;\n",
       "    }\n",
       "\n",
       "    .dataframe tbody tr th {\n",
       "        vertical-align: top;\n",
       "    }\n",
       "\n",
       "    .dataframe thead tr th {\n",
       "        text-align: left;\n",
       "    }\n",
       "\n",
       "    .dataframe thead tr:last-of-type th {\n",
       "        text-align: right;\n",
       "    }\n",
       "</style>\n",
       "<table border=\"1\" class=\"dataframe\">\n",
       "  <thead>\n",
       "    <tr>\n",
       "      <th></th>\n",
       "      <th></th>\n",
       "      <th colspan=\"2\" halign=\"left\">distance</th>\n",
       "      <th>duration</th>\n",
       "      <th>minute_price</th>\n",
       "      <th>start_ride_price</th>\n",
       "      <th>subscription_fee</th>\n",
       "    </tr>\n",
       "    <tr>\n",
       "      <th></th>\n",
       "      <th></th>\n",
       "      <th>count</th>\n",
       "      <th>sum</th>\n",
       "      <th>sum</th>\n",
       "      <th>mean</th>\n",
       "      <th>mean</th>\n",
       "      <th>mean</th>\n",
       "    </tr>\n",
       "    <tr>\n",
       "      <th>user_id</th>\n",
       "      <th>month</th>\n",
       "      <th></th>\n",
       "      <th></th>\n",
       "      <th></th>\n",
       "      <th></th>\n",
       "      <th></th>\n",
       "      <th></th>\n",
       "    </tr>\n",
       "  </thead>\n",
       "  <tbody>\n",
       "    <tr>\n",
       "      <th rowspan=\"6\" valign=\"top\">1</th>\n",
       "      <th>1</th>\n",
       "      <td>2</td>\n",
       "      <td>7026</td>\n",
       "      <td>42</td>\n",
       "      <td>6</td>\n",
       "      <td>0</td>\n",
       "      <td>199</td>\n",
       "    </tr>\n",
       "    <tr>\n",
       "      <th>4</th>\n",
       "      <td>1</td>\n",
       "      <td>754</td>\n",
       "      <td>7</td>\n",
       "      <td>6</td>\n",
       "      <td>0</td>\n",
       "      <td>199</td>\n",
       "    </tr>\n",
       "    <tr>\n",
       "      <th>8</th>\n",
       "      <td>2</td>\n",
       "      <td>6722</td>\n",
       "      <td>46</td>\n",
       "      <td>6</td>\n",
       "      <td>0</td>\n",
       "      <td>199</td>\n",
       "    </tr>\n",
       "    <tr>\n",
       "      <th>10</th>\n",
       "      <td>2</td>\n",
       "      <td>5809</td>\n",
       "      <td>32</td>\n",
       "      <td>6</td>\n",
       "      <td>0</td>\n",
       "      <td>199</td>\n",
       "    </tr>\n",
       "    <tr>\n",
       "      <th>11</th>\n",
       "      <td>3</td>\n",
       "      <td>7002</td>\n",
       "      <td>56</td>\n",
       "      <td>6</td>\n",
       "      <td>0</td>\n",
       "      <td>199</td>\n",
       "    </tr>\n",
       "    <tr>\n",
       "      <th>12</th>\n",
       "      <td>2</td>\n",
       "      <td>6751</td>\n",
       "      <td>28</td>\n",
       "      <td>6</td>\n",
       "      <td>0</td>\n",
       "      <td>199</td>\n",
       "    </tr>\n",
       "    <tr>\n",
       "      <th rowspan=\"4\" valign=\"top\">2</th>\n",
       "      <th>3</th>\n",
       "      <td>3</td>\n",
       "      <td>10187</td>\n",
       "      <td>63</td>\n",
       "      <td>6</td>\n",
       "      <td>0</td>\n",
       "      <td>199</td>\n",
       "    </tr>\n",
       "    <tr>\n",
       "      <th>4</th>\n",
       "      <td>2</td>\n",
       "      <td>6163</td>\n",
       "      <td>40</td>\n",
       "      <td>6</td>\n",
       "      <td>0</td>\n",
       "      <td>199</td>\n",
       "    </tr>\n",
       "    <tr>\n",
       "      <th>6</th>\n",
       "      <td>1</td>\n",
       "      <td>3255</td>\n",
       "      <td>14</td>\n",
       "      <td>6</td>\n",
       "      <td>0</td>\n",
       "      <td>199</td>\n",
       "    </tr>\n",
       "    <tr>\n",
       "      <th>7</th>\n",
       "      <td>2</td>\n",
       "      <td>6779</td>\n",
       "      <td>48</td>\n",
       "      <td>6</td>\n",
       "      <td>0</td>\n",
       "      <td>199</td>\n",
       "    </tr>\n",
       "  </tbody>\n",
       "</table>\n",
       "</div>"
      ],
      "text/plain": [
       "              distance        duration minute_price start_ride_price  \\\n",
       "                 count    sum      sum         mean             mean   \n",
       "user_id month                                                          \n",
       "1       1            2   7026       42            6                0   \n",
       "        4            1    754        7            6                0   \n",
       "        8            2   6722       46            6                0   \n",
       "        10           2   5809       32            6                0   \n",
       "        11           3   7002       56            6                0   \n",
       "        12           2   6751       28            6                0   \n",
       "2       3            3  10187       63            6                0   \n",
       "        4            2   6163       40            6                0   \n",
       "        6            1   3255       14            6                0   \n",
       "        7            2   6779       48            6                0   \n",
       "\n",
       "              subscription_fee  \n",
       "                          mean  \n",
       "user_id month                   \n",
       "1       1                  199  \n",
       "        4                  199  \n",
       "        8                  199  \n",
       "        10                 199  \n",
       "        11                 199  \n",
       "        12                 199  \n",
       "2       3                  199  \n",
       "        4                  199  \n",
       "        6                  199  \n",
       "        7                  199  "
      ]
     },
     "execution_count": 59,
     "metadata": {},
     "output_type": "execute_result"
    }
   ],
   "source": [
    "scooter_new = scooter.pivot_table(\n",
    "    index=('user_id', 'month'), \n",
    "    values=('distance', 'duration', 'minute_price', 'start_ride_price', 'subscription_fee'), \n",
    "    aggfunc=({'distance':{'count', 'sum'},'duration':'sum', 'minute_price': 'mean', 'start_ride_price': 'mean', 'subscription_fee':'mean'}))\n",
    "scooter_new.head(10)"
   ]
  },
  {
   "cell_type": "markdown",
   "id": "2414f820",
   "metadata": {},
   "source": [
    "***Округлил значение времени поездки в шаге 2 предобработка даннных***"
   ]
  },
  {
   "cell_type": "code",
   "execution_count": 60,
   "id": "28a3950d",
   "metadata": {},
   "outputs": [
    {
     "data": {
      "text/html": [
       "<div>\n",
       "<style scoped>\n",
       "    .dataframe tbody tr th:only-of-type {\n",
       "        vertical-align: middle;\n",
       "    }\n",
       "\n",
       "    .dataframe tbody tr th {\n",
       "        vertical-align: top;\n",
       "    }\n",
       "\n",
       "    .dataframe thead th {\n",
       "        text-align: right;\n",
       "    }\n",
       "</style>\n",
       "<table border=\"1\" class=\"dataframe\">\n",
       "  <thead>\n",
       "    <tr style=\"text-align: right;\">\n",
       "      <th></th>\n",
       "      <th></th>\n",
       "      <th>count</th>\n",
       "      <th>distance</th>\n",
       "      <th>duration</th>\n",
       "      <th>minute_price</th>\n",
       "      <th>start_ride_price</th>\n",
       "      <th>subscription_fee</th>\n",
       "    </tr>\n",
       "    <tr>\n",
       "      <th>user_id</th>\n",
       "      <th>month</th>\n",
       "      <th></th>\n",
       "      <th></th>\n",
       "      <th></th>\n",
       "      <th></th>\n",
       "      <th></th>\n",
       "      <th></th>\n",
       "    </tr>\n",
       "  </thead>\n",
       "  <tbody>\n",
       "    <tr>\n",
       "      <th rowspan=\"5\" valign=\"top\">1</th>\n",
       "      <th>1</th>\n",
       "      <td>2</td>\n",
       "      <td>7026</td>\n",
       "      <td>42</td>\n",
       "      <td>6</td>\n",
       "      <td>0</td>\n",
       "      <td>199</td>\n",
       "    </tr>\n",
       "    <tr>\n",
       "      <th>4</th>\n",
       "      <td>1</td>\n",
       "      <td>754</td>\n",
       "      <td>7</td>\n",
       "      <td>6</td>\n",
       "      <td>0</td>\n",
       "      <td>199</td>\n",
       "    </tr>\n",
       "    <tr>\n",
       "      <th>8</th>\n",
       "      <td>2</td>\n",
       "      <td>6722</td>\n",
       "      <td>46</td>\n",
       "      <td>6</td>\n",
       "      <td>0</td>\n",
       "      <td>199</td>\n",
       "    </tr>\n",
       "    <tr>\n",
       "      <th>10</th>\n",
       "      <td>2</td>\n",
       "      <td>5809</td>\n",
       "      <td>32</td>\n",
       "      <td>6</td>\n",
       "      <td>0</td>\n",
       "      <td>199</td>\n",
       "    </tr>\n",
       "    <tr>\n",
       "      <th>11</th>\n",
       "      <td>3</td>\n",
       "      <td>7002</td>\n",
       "      <td>56</td>\n",
       "      <td>6</td>\n",
       "      <td>0</td>\n",
       "      <td>199</td>\n",
       "    </tr>\n",
       "  </tbody>\n",
       "</table>\n",
       "</div>"
      ],
      "text/plain": [
       "               count  distance  duration  minute_price  start_ride_price  \\\n",
       "user_id month                                                              \n",
       "1       1          2      7026        42             6                 0   \n",
       "        4          1       754         7             6                 0   \n",
       "        8          2      6722        46             6                 0   \n",
       "        10         2      5809        32             6                 0   \n",
       "        11         3      7002        56             6                 0   \n",
       "\n",
       "               subscription_fee  \n",
       "user_id month                    \n",
       "1       1                   199  \n",
       "        4                   199  \n",
       "        8                   199  \n",
       "        10                  199  \n",
       "        11                  199  "
      ]
     },
     "execution_count": 60,
     "metadata": {},
     "output_type": "execute_result"
    }
   ],
   "source": [
    "#переименуем столбцы с двухэтажными названиями\n",
    "scooter_new.columns = ['count', 'distance', 'duration', 'minute_price', 'start_ride_price','subscription_fee']\n",
    "scooter_new.head()"
   ]
  },
  {
   "cell_type": "code",
   "execution_count": 61,
   "id": "4e946e5b",
   "metadata": {},
   "outputs": [
    {
     "data": {
      "text/plain": [
       "count               0\n",
       "distance            0\n",
       "duration            0\n",
       "minute_price        0\n",
       "start_ride_price    0\n",
       "subscription_fee    0\n",
       "dtype: int64"
      ]
     },
     "execution_count": 61,
     "metadata": {},
     "output_type": "execute_result"
    }
   ],
   "source": [
    "scooter_new.isna().sum()"
   ]
  },
  {
   "cell_type": "markdown",
   "id": "c64daa0f",
   "metadata": {},
   "source": [
    "***5.2 В DF scooter_new добавим стобец с помесячной выручкой по каждому пользователю***"
   ]
  },
  {
   "cell_type": "code",
   "execution_count": 62,
   "id": "2749695a",
   "metadata": {},
   "outputs": [
    {
     "data": {
      "text/html": [
       "<div>\n",
       "<style scoped>\n",
       "    .dataframe tbody tr th:only-of-type {\n",
       "        vertical-align: middle;\n",
       "    }\n",
       "\n",
       "    .dataframe tbody tr th {\n",
       "        vertical-align: top;\n",
       "    }\n",
       "\n",
       "    .dataframe thead th {\n",
       "        text-align: right;\n",
       "    }\n",
       "</style>\n",
       "<table border=\"1\" class=\"dataframe\">\n",
       "  <thead>\n",
       "    <tr style=\"text-align: right;\">\n",
       "      <th></th>\n",
       "      <th></th>\n",
       "      <th>count</th>\n",
       "      <th>distance</th>\n",
       "      <th>duration</th>\n",
       "      <th>minute_price</th>\n",
       "      <th>start_ride_price</th>\n",
       "      <th>subscription_fee</th>\n",
       "      <th>monthly_revenue</th>\n",
       "    </tr>\n",
       "    <tr>\n",
       "      <th>user_id</th>\n",
       "      <th>month</th>\n",
       "      <th></th>\n",
       "      <th></th>\n",
       "      <th></th>\n",
       "      <th></th>\n",
       "      <th></th>\n",
       "      <th></th>\n",
       "      <th></th>\n",
       "    </tr>\n",
       "  </thead>\n",
       "  <tbody>\n",
       "    <tr>\n",
       "      <th rowspan=\"5\" valign=\"top\">1</th>\n",
       "      <th>1</th>\n",
       "      <td>2</td>\n",
       "      <td>7026</td>\n",
       "      <td>42</td>\n",
       "      <td>6</td>\n",
       "      <td>0</td>\n",
       "      <td>199</td>\n",
       "      <td>451</td>\n",
       "    </tr>\n",
       "    <tr>\n",
       "      <th>4</th>\n",
       "      <td>1</td>\n",
       "      <td>754</td>\n",
       "      <td>7</td>\n",
       "      <td>6</td>\n",
       "      <td>0</td>\n",
       "      <td>199</td>\n",
       "      <td>241</td>\n",
       "    </tr>\n",
       "    <tr>\n",
       "      <th>8</th>\n",
       "      <td>2</td>\n",
       "      <td>6722</td>\n",
       "      <td>46</td>\n",
       "      <td>6</td>\n",
       "      <td>0</td>\n",
       "      <td>199</td>\n",
       "      <td>475</td>\n",
       "    </tr>\n",
       "    <tr>\n",
       "      <th>10</th>\n",
       "      <td>2</td>\n",
       "      <td>5809</td>\n",
       "      <td>32</td>\n",
       "      <td>6</td>\n",
       "      <td>0</td>\n",
       "      <td>199</td>\n",
       "      <td>391</td>\n",
       "    </tr>\n",
       "    <tr>\n",
       "      <th>11</th>\n",
       "      <td>3</td>\n",
       "      <td>7002</td>\n",
       "      <td>56</td>\n",
       "      <td>6</td>\n",
       "      <td>0</td>\n",
       "      <td>199</td>\n",
       "      <td>535</td>\n",
       "    </tr>\n",
       "    <tr>\n",
       "      <th>...</th>\n",
       "      <th>...</th>\n",
       "      <td>...</td>\n",
       "      <td>...</td>\n",
       "      <td>...</td>\n",
       "      <td>...</td>\n",
       "      <td>...</td>\n",
       "      <td>...</td>\n",
       "      <td>...</td>\n",
       "    </tr>\n",
       "    <tr>\n",
       "      <th rowspan=\"5\" valign=\"top\">1534</th>\n",
       "      <th>6</th>\n",
       "      <td>2</td>\n",
       "      <td>3409</td>\n",
       "      <td>26</td>\n",
       "      <td>8</td>\n",
       "      <td>50</td>\n",
       "      <td>0</td>\n",
       "      <td>308</td>\n",
       "    </tr>\n",
       "    <tr>\n",
       "      <th>8</th>\n",
       "      <td>2</td>\n",
       "      <td>7621</td>\n",
       "      <td>48</td>\n",
       "      <td>8</td>\n",
       "      <td>50</td>\n",
       "      <td>0</td>\n",
       "      <td>484</td>\n",
       "    </tr>\n",
       "    <tr>\n",
       "      <th>9</th>\n",
       "      <td>1</td>\n",
       "      <td>4928</td>\n",
       "      <td>23</td>\n",
       "      <td>8</td>\n",
       "      <td>50</td>\n",
       "      <td>0</td>\n",
       "      <td>234</td>\n",
       "    </tr>\n",
       "    <tr>\n",
       "      <th>11</th>\n",
       "      <td>4</td>\n",
       "      <td>13349</td>\n",
       "      <td>78</td>\n",
       "      <td>8</td>\n",
       "      <td>50</td>\n",
       "      <td>0</td>\n",
       "      <td>824</td>\n",
       "    </tr>\n",
       "    <tr>\n",
       "      <th>12</th>\n",
       "      <td>1</td>\n",
       "      <td>2371</td>\n",
       "      <td>16</td>\n",
       "      <td>8</td>\n",
       "      <td>50</td>\n",
       "      <td>0</td>\n",
       "      <td>178</td>\n",
       "    </tr>\n",
       "  </tbody>\n",
       "</table>\n",
       "<p>11331 rows × 7 columns</p>\n",
       "</div>"
      ],
      "text/plain": [
       "               count  distance  duration  minute_price  start_ride_price  \\\n",
       "user_id month                                                              \n",
       "1       1          2      7026        42             6                 0   \n",
       "        4          1       754         7             6                 0   \n",
       "        8          2      6722        46             6                 0   \n",
       "        10         2      5809        32             6                 0   \n",
       "        11         3      7002        56             6                 0   \n",
       "...              ...       ...       ...           ...               ...   \n",
       "1534    6          2      3409        26             8                50   \n",
       "        8          2      7621        48             8                50   \n",
       "        9          1      4928        23             8                50   \n",
       "        11         4     13349        78             8                50   \n",
       "        12         1      2371        16             8                50   \n",
       "\n",
       "               subscription_fee  monthly_revenue  \n",
       "user_id month                                     \n",
       "1       1                   199              451  \n",
       "        4                   199              241  \n",
       "        8                   199              475  \n",
       "        10                  199              391  \n",
       "        11                  199              535  \n",
       "...                         ...              ...  \n",
       "1534    6                     0              308  \n",
       "        8                     0              484  \n",
       "        9                     0              234  \n",
       "        11                    0              824  \n",
       "        12                    0              178  \n",
       "\n",
       "[11331 rows x 7 columns]"
      ]
     },
     "execution_count": 62,
     "metadata": {},
     "output_type": "execute_result"
    }
   ],
   "source": [
    "scooter_new['monthly_revenue'] = (scooter_new['start_ride_price']*scooter_new['count']+\n",
    "                                  scooter_new['minute_price']*scooter_new['duration']+\n",
    "                                  scooter_new['subscription_fee'])\n",
    "scooter_new"
   ]
  },
  {
   "cell_type": "code",
   "execution_count": 63,
   "id": "a5eb33fe",
   "metadata": {},
   "outputs": [
    {
     "name": "stdout",
     "output_type": "stream",
     "text": [
      "Общая выручка: 3878641 руб\n"
     ]
    }
   ],
   "source": [
    "print('Общая выручка:', scooter_new['monthly_revenue'].sum().round(0), 'руб')"
   ]
  },
  {
   "cell_type": "markdown",
   "id": "1181c637",
   "metadata": {},
   "source": [
    "**Вывод**\n",
    "\n",
    "В результате работы с новым датафреймом добавили столбец помесячной выручки каждого пользователя. Общая выручка компании составляет 3878641руб."
   ]
  },
  {
   "cell_type": "markdown",
   "id": "41545ac0",
   "metadata": {},
   "source": [
    "#### Шаг 6. Проверка гипотез"
   ]
  },
  {
   "cell_type": "markdown",
   "id": "4c06402b",
   "metadata": {},
   "source": [
    "***6.1 Гипотеза 1 - тратят ли пользователи с подпиской больше времени на поездки чем пользователи без подписки***"
   ]
  },
  {
   "cell_type": "code",
   "execution_count": 64,
   "id": "1c5227ef",
   "metadata": {},
   "outputs": [
    {
     "name": "stdout",
     "output_type": "stream",
     "text": [
      "р-значение 1.1814679253701353e-36\n",
      "Отвергаем нулевую гипотезу\n"
     ]
    }
   ],
   "source": [
    "# пропишем гипотезу: \n",
    "# H0 -  время использования самокатов по подписке равно времени использования без подписки\n",
    "# H1 - время с подпиской больше чем без подписки\n",
    "alpha = 0.05\n",
    "results = st.ttest_ind(scooter_ultra['duration'], scooter_free['duration'], equal_var=False, alternative='greater')\n",
    "print('р-значение', results.pvalue)\n",
    "if results.pvalue < alpha:\n",
    "    print('Отвергаем нулевую гипотезу')\n",
    "else:\n",
    "    print('Не получилось отвергнуть нулевую гипотезу')"
   ]
  },
  {
   "cell_type": "markdown",
   "id": "9c485497",
   "metadata": {},
   "source": [
    "Есть основание утверждать что средняя продолжительность поездок с подпиской больше чем без подписки, что так же подтверждается числовым описанием данных на гистограмме."
   ]
  },
  {
   "cell_type": "markdown",
   "id": "87ca783f",
   "metadata": {},
   "source": [
    "***6.2 Гипотеза 2 - среднее расстояние поездки по подписке не превышает 3130 метров***"
   ]
  },
  {
   "cell_type": "code",
   "execution_count": 65,
   "id": "6ea68283",
   "metadata": {},
   "outputs": [
    {
     "name": "stdout",
     "output_type": "stream",
     "text": [
      "р-значение 0.9264356652998772\n",
      "Не получилось отвергнуть нулевую гипотезу\n"
     ]
    }
   ],
   "source": [
    "# Расстояние одной поездки в 3130 метров - оптимальное с точки зрения износа самоката\n",
    "# пропишем гипотезу: \n",
    "# H0 - среднее расстояние поездки по подписки равно 3130 метров\n",
    "# H1 - среднее расстояние поездки по подписки больше 3130 метров\n",
    "mean_distance = 3130\n",
    "alpha = 0.05\n",
    "results = st.ttest_1samp(scooter_ultra['distance'], mean_distance, alternative='greater')\n",
    "print('р-значение', results.pvalue)\n",
    "if results.pvalue < alpha:\n",
    "    print('Отвергаем нулевую гипотезу')\n",
    "else:\n",
    "    print('Не получилось отвергнуть нулевую гипотезу')"
   ]
  },
  {
   "cell_type": "markdown",
   "id": "c30e4217",
   "metadata": {},
   "source": [
    "Т.к. нулевая гипотеза не отвергнута, то утверждаем что среднее расстояние поездки пользователей с подпиской не превышает расстояние в 3130м, которое считается оптимальным с точки зрения износа."
   ]
  },
  {
   "cell_type": "markdown",
   "id": "51805762",
   "metadata": {},
   "source": [
    "***6.3 Гипотеза 3 - помесячная выручка пользователей с подпиской выше чем у пользователей без подписки***"
   ]
  },
  {
   "cell_type": "code",
   "execution_count": 66,
   "id": "bea8b3cb",
   "metadata": {},
   "outputs": [
    {
     "name": "stdout",
     "output_type": "stream",
     "text": [
      "р-значение 8.874140893976874e-40\n",
      "Отвергаем нулевую гипотезу\n"
     ]
    }
   ],
   "source": [
    "# пропишем гипотезу: \n",
    "# H0 - средняя помесячная выручка пользователей с подпиской равна помесячной выручке пользователей без подписки\n",
    "# H1 - средняя помесячная выручка пользователей с подпиской больше помесячной выручки пользователей без подписки\n",
    "alpha = 0.05\n",
    "results = st.ttest_ind(scooter_new.loc[scooter_new['subscription_fee']==199, 'monthly_revenue'], \n",
    "                       scooter_new.loc[scooter_new['subscription_fee']==0, 'monthly_revenue'], equal_var=False, alternative='greater')\n",
    "print('р-значение', results.pvalue)\n",
    "if results.pvalue < alpha:\n",
    "    print('Отвергаем нулевую гипотезу')\n",
    "else:\n",
    "    print('Не получилось отвергнуть нулевую гипотезу')"
   ]
  },
  {
   "cell_type": "markdown",
   "id": "db17b8dc",
   "metadata": {},
   "source": [
    "Основная гипотеза о равенстве выручки от подписчиков и пользователей без подписки отвергнута. Это дает возможность утверждать что выручка от подписки превышает выручку от пользователей без подписки."
   ]
  },
  {
   "cell_type": "markdown",
   "id": "acdbe68b",
   "metadata": {},
   "source": [
    "***6.4 Гипотеза 4 - при обновлении сервера снизилось ли обращение в сервис***"
   ]
  },
  {
   "cell_type": "markdown",
   "id": "02027cd9",
   "metadata": {},
   "source": [
    "Так как данные зависимы по времени между собой, то в первую очередь надо сравнить данные до и после обновления на соответствие данных (уникальных). Если данные не имеют различий то применяем метод scipy.stats.ttest_rel.\n",
    "Если есть различия то используют метод scipy.stats.ttest_ind с параметрами equal_var=False (данные не одинаковы) и alternative=’less’ т.к. первая гипотеза отвергнута (обращений до обновления сервера было меньше)."
   ]
  },
  {
   "cell_type": "markdown",
   "id": "1f42ccdc",
   "metadata": {},
   "source": [
    "**Вывод**\n",
    "\n",
    "При проверки гипотез удалось установить:\n",
    "1. Средняя продолжительность поездок с подпиской больше чем без подписки, что так же подтверждается числовым описанием данных на гистограмме.\n",
    "2. Оптимальная дальность поездки для сервиса самокатов не превышает установленного значения в 3130 м для пользователей с подпиской (среднее значение в 3148 незначительно превышает медиану в 3114).\n",
    "3. Нулевая гипотеза о равенстве выручки пользователей с подпиской и без не подтвердилась - можем сказать что выручка по подписки превышает выручку от пользователей без подписки.\n",
    "4. После обновления сервера необходимо проверить данные на аналогичность, и в случае \"зависимости\" данных друг от друга использовать тест scipy.stats.ttest_rel, в противном случае использовать тест scipy.stats.ttest_ind."
   ]
  },
  {
   "cell_type": "markdown",
   "id": "c3302e96",
   "metadata": {},
   "source": [
    "**Общий вывод**\n",
    "\n",
    "В процессе работы с данными сервиса аренды самокатов провели следующие работы:\n",
    "    1. Загрузка данных\n",
    "        - В первом датафрейме users_go 1565 строк, дубликатов 31, пропуски отсутствуют.\n",
    "        - Во втором датафрейме rides_go 18068 строк, дубликатов нет, пропусков нет.\n",
    "        - В третьем датафрейме subscriptions_go 2 строки, дубликатов и пропусков нет.\n",
    "    Наименования столбцов не нуждаются в исправлении. Необходимо поменять тип данных для некоторых столбцов.\n",
    "    \n",
    "    2. Предобработка данных\n",
    "        - Изменили тип в столбце date на datetime64, в столбце distance и duration на int.\n",
    "        - Изменили типы данных в столбцах date, distance, duration. \n",
    "        - Создали столбец с номером месяца month на основе столбца date. \n",
    "        - Удалили дубликаты (31) в датафрейме users_go.\n",
    "        \n",
    "    3. Исследовательский анализ данных\n",
    "        - Первое место по количеству поездок занимает курортный город Пятигорск(219), Екатеринбург на 2 месте(204), Москва на последнем месте (168).\n",
    "        - Из общего числа пользователей сервиса аренды самокатов пользователей без подписки 54,4%, с подпиской 45,6%.\n",
    "        - Среднее значение данных пользователей по возрасту близко к медиане и находится в районе 25 лет.\n",
    "        - Большая часть поездок приходится на расстояния от 2500 до 3800м со средним значением в 3100м. Но на гистограмме отображена 2-я область с нормальным распределением значений в районе 650м.\n",
    "        - Средняя продолжительность поездки 17 мин совпадает с медианой данных. Есть выбросы - поездки короткие в 1 мин.\n",
    "   \n",
    "    4. Объединение данных\n",
    "        - Из созданных датафреймов делаем заключение - поездки по подписке меньше по расстоянию 5699 против 7211 м, а также и  среднего отклонения у пользователей с подпиской (836 к 1246). Во втором распределении данных у пользователей с подпиской имеется увеличение продолжительности поездки - среднее значение в 1000 м).\n",
    "        - Продолжительность  поездки по подписке немного выше чем без подписки\n",
    "            а. максимально длинная поездка  40 мин против 34 мин без подписки\n",
    "            б. средняя продолжительность поездки и медиана по подписке 18, 18,03 против 17 и 16,89 без подписки соответственно (разница в 5-6%)\n",
    "    \n",
    "    5. Подсчет выручки \n",
    "    \n",
    "        Общая выручка компании составляет 3878641 руб.\n",
    "    \n",
    "    6. Проверка гипотез\n",
    "    \n",
    "        - Нулевая гипотеза отвергнута. Средняя продолжительность поездок с подпиской (шаг 4.2.б) больше чем без подписки, что так же подтверждается числовым описанием данных на гистограмме.\n",
    "        - Нулевая гипотеза не отвергнута, считаем что оптимальная дальность поездки для сервиса самокатов не превышает установленного значения в 3130 м для пользователей с подпиской (также подтверждается медианой 3114).\n",
    "        - Нулевая гипотеза о равенстве выручки пользователей с подпиской и без не подтвердилась - можем сказать что выручка по подписки превышает выручку от пользователей без подписки.\n",
    "        - При обновлении сервера с данными необходимо проверить данные на аналогичность, и в случае \"зависимости\" данных друг от друга нужно использовать тест scipy.stats.ttest_rel, в противном случае использовать тест scipy.stats.ttest_ind.\n",
    "        \n",
    "Резюме: \n",
    "\n",
    "Для сервиса аренды самокатов GoFast предпочтительнее развивать направление сдачи самокатов в аренду по подписке, т.к данные подтвердили превышение выручки от подписчиков над пользователями без подписки, несмотря на их большее количество (55%).\n",
    " "
   ]
  }
 ],
 "metadata": {
  "ExecuteTimeLog": [
   {
    "duration": 86,
    "start_time": "2024-07-15T14:37:10.043Z"
   },
   {
    "duration": 68,
    "start_time": "2024-07-15T14:37:40.982Z"
   },
   {
    "duration": 65,
    "start_time": "2024-07-15T14:37:49.984Z"
   },
   {
    "duration": 75,
    "start_time": "2024-07-15T14:38:27.974Z"
   },
   {
    "duration": 45,
    "start_time": "2024-07-15T14:38:46.594Z"
   },
   {
    "duration": 7,
    "start_time": "2024-07-15T14:39:18.252Z"
   },
   {
    "duration": 1427,
    "start_time": "2024-07-15T14:39:41.907Z"
   },
   {
    "duration": 290,
    "start_time": "2024-07-15T14:39:46.880Z"
   },
   {
    "duration": 64,
    "start_time": "2024-07-15T14:39:51.360Z"
   },
   {
    "duration": 68,
    "start_time": "2024-07-15T14:39:55.982Z"
   },
   {
    "duration": 64,
    "start_time": "2024-07-15T14:41:14.418Z"
   },
   {
    "duration": 66,
    "start_time": "2024-07-15T14:46:10.556Z"
   },
   {
    "duration": 66,
    "start_time": "2024-07-15T14:46:18.011Z"
   },
   {
    "duration": 318,
    "start_time": "2024-07-15T14:48:20.334Z"
   },
   {
    "duration": 69,
    "start_time": "2024-07-15T14:49:43.180Z"
   },
   {
    "duration": 70,
    "start_time": "2024-07-15T14:51:23.749Z"
   },
   {
    "duration": 10,
    "start_time": "2024-07-15T14:52:00.964Z"
   },
   {
    "duration": 10,
    "start_time": "2024-07-15T14:53:10.905Z"
   },
   {
    "duration": 5,
    "start_time": "2024-07-15T14:53:53.107Z"
   },
   {
    "duration": 16,
    "start_time": "2024-07-15T14:55:40.532Z"
   },
   {
    "duration": 12,
    "start_time": "2024-07-15T14:56:18.689Z"
   },
   {
    "duration": 18,
    "start_time": "2024-07-15T14:56:46.000Z"
   },
   {
    "duration": 6,
    "start_time": "2024-07-15T14:56:51.450Z"
   },
   {
    "duration": 13,
    "start_time": "2024-07-15T15:00:15.077Z"
   },
   {
    "duration": 6,
    "start_time": "2024-07-15T15:02:38.820Z"
   },
   {
    "duration": 8,
    "start_time": "2024-07-15T16:42:53.991Z"
   },
   {
    "duration": 6,
    "start_time": "2024-07-15T16:50:08.280Z"
   },
   {
    "duration": 7,
    "start_time": "2024-07-15T16:50:21.807Z"
   },
   {
    "duration": 74,
    "start_time": "2024-07-15T16:55:52.647Z"
   },
   {
    "duration": 8,
    "start_time": "2024-07-15T16:55:58.162Z"
   },
   {
    "duration": 11,
    "start_time": "2024-07-15T16:56:09.611Z"
   },
   {
    "duration": 7,
    "start_time": "2024-07-15T16:56:16.989Z"
   },
   {
    "duration": 6,
    "start_time": "2024-07-15T16:56:19.549Z"
   },
   {
    "duration": 84,
    "start_time": "2024-07-15T16:56:38.111Z"
   },
   {
    "duration": 7,
    "start_time": "2024-07-15T16:56:49.053Z"
   },
   {
    "duration": 66,
    "start_time": "2024-07-15T16:57:19.206Z"
   },
   {
    "duration": 9,
    "start_time": "2024-07-15T16:57:20.322Z"
   },
   {
    "duration": 11,
    "start_time": "2024-07-15T16:57:20.548Z"
   },
   {
    "duration": 8,
    "start_time": "2024-07-15T16:57:21.564Z"
   },
   {
    "duration": 10,
    "start_time": "2024-07-15T16:57:22.652Z"
   },
   {
    "duration": 9,
    "start_time": "2024-07-15T16:57:51.860Z"
   },
   {
    "duration": 10,
    "start_time": "2024-07-15T16:58:18.090Z"
   },
   {
    "duration": 11,
    "start_time": "2024-07-15T16:58:23.556Z"
   },
   {
    "duration": 8,
    "start_time": "2024-07-15T16:59:43.899Z"
   },
   {
    "duration": 14,
    "start_time": "2024-07-15T17:00:37.987Z"
   },
   {
    "duration": 7,
    "start_time": "2024-07-15T17:01:31.746Z"
   },
   {
    "duration": 7,
    "start_time": "2024-07-15T17:02:48.862Z"
   },
   {
    "duration": 11,
    "start_time": "2024-07-15T17:02:56.834Z"
   },
   {
    "duration": 5,
    "start_time": "2024-07-15T17:04:10.383Z"
   },
   {
    "duration": 16,
    "start_time": "2024-07-15T17:11:11.544Z"
   },
   {
    "duration": 11,
    "start_time": "2024-07-15T17:12:01.183Z"
   },
   {
    "duration": 9,
    "start_time": "2024-07-15T17:12:36.051Z"
   },
   {
    "duration": 6,
    "start_time": "2024-07-15T17:14:53.207Z"
   },
   {
    "duration": 7,
    "start_time": "2024-07-15T17:15:28.018Z"
   },
   {
    "duration": 6,
    "start_time": "2024-07-15T17:16:13.226Z"
   },
   {
    "duration": 335,
    "start_time": "2024-07-15T17:25:12.136Z"
   },
   {
    "duration": 256,
    "start_time": "2024-07-15T17:28:27.655Z"
   },
   {
    "duration": 233,
    "start_time": "2024-07-15T17:28:46.126Z"
   },
   {
    "duration": 244,
    "start_time": "2024-07-15T17:28:57.075Z"
   },
   {
    "duration": 317,
    "start_time": "2024-07-15T17:29:30.902Z"
   },
   {
    "duration": 252,
    "start_time": "2024-07-15T17:56:03.906Z"
   },
   {
    "duration": 186,
    "start_time": "2024-07-15T17:56:28.475Z"
   },
   {
    "duration": 203,
    "start_time": "2024-07-15T17:57:08.686Z"
   },
   {
    "duration": 207,
    "start_time": "2024-07-15T17:59:47.140Z"
   },
   {
    "duration": 268,
    "start_time": "2024-07-15T18:00:08.809Z"
   },
   {
    "duration": 332,
    "start_time": "2024-07-15T18:01:42.477Z"
   },
   {
    "duration": 238,
    "start_time": "2024-07-15T18:02:54.581Z"
   },
   {
    "duration": 4852,
    "start_time": "2024-07-15T18:03:03.821Z"
   },
   {
    "duration": 4831,
    "start_time": "2024-07-15T18:04:24.071Z"
   },
   {
    "duration": 4938,
    "start_time": "2024-07-15T18:04:51.602Z"
   },
   {
    "duration": 4773,
    "start_time": "2024-07-15T18:05:05.655Z"
   },
   {
    "duration": 5217,
    "start_time": "2024-07-15T18:05:22.351Z"
   },
   {
    "duration": 1227,
    "start_time": "2024-07-15T18:23:39.287Z"
   },
   {
    "duration": 79,
    "start_time": "2024-07-15T18:23:40.517Z"
   },
   {
    "duration": 14,
    "start_time": "2024-07-15T18:23:40.598Z"
   },
   {
    "duration": 11,
    "start_time": "2024-07-15T18:23:40.614Z"
   },
   {
    "duration": 6,
    "start_time": "2024-07-15T18:23:40.628Z"
   },
   {
    "duration": 8,
    "start_time": "2024-07-15T18:23:40.635Z"
   },
   {
    "duration": 12,
    "start_time": "2024-07-15T18:23:40.645Z"
   },
   {
    "duration": 11,
    "start_time": "2024-07-15T18:23:40.659Z"
   },
   {
    "duration": 40,
    "start_time": "2024-07-15T18:23:40.672Z"
   },
   {
    "duration": 6,
    "start_time": "2024-07-15T18:23:40.715Z"
   },
   {
    "duration": 8,
    "start_time": "2024-07-15T18:23:40.723Z"
   },
   {
    "duration": 12,
    "start_time": "2024-07-15T18:23:40.733Z"
   },
   {
    "duration": 257,
    "start_time": "2024-07-15T18:23:40.746Z"
   },
   {
    "duration": 269,
    "start_time": "2024-07-15T18:23:41.006Z"
   },
   {
    "duration": 253,
    "start_time": "2024-07-15T18:23:41.277Z"
   },
   {
    "duration": 55,
    "start_time": "2024-07-16T05:20:23.479Z"
   },
   {
    "duration": 7,
    "start_time": "2024-07-16T05:28:51.059Z"
   },
   {
    "duration": 6,
    "start_time": "2024-07-16T05:29:09.658Z"
   },
   {
    "duration": 6,
    "start_time": "2024-07-16T05:29:51.897Z"
   },
   {
    "duration": 6,
    "start_time": "2024-07-16T05:30:19.017Z"
   },
   {
    "duration": 1441,
    "start_time": "2024-07-16T05:38:14.274Z"
   },
   {
    "duration": 311,
    "start_time": "2024-07-16T05:38:15.717Z"
   },
   {
    "duration": 14,
    "start_time": "2024-07-16T05:38:16.030Z"
   },
   {
    "duration": 13,
    "start_time": "2024-07-16T05:38:16.045Z"
   },
   {
    "duration": 5,
    "start_time": "2024-07-16T05:38:16.061Z"
   },
   {
    "duration": 10,
    "start_time": "2024-07-16T05:38:16.068Z"
   },
   {
    "duration": 8,
    "start_time": "2024-07-16T05:38:16.080Z"
   },
   {
    "duration": 10,
    "start_time": "2024-07-16T05:38:16.090Z"
   },
   {
    "duration": 14,
    "start_time": "2024-07-16T05:38:16.102Z"
   },
   {
    "duration": 9,
    "start_time": "2024-07-16T05:38:16.117Z"
   },
   {
    "duration": 39,
    "start_time": "2024-07-16T05:38:16.127Z"
   },
   {
    "duration": 8,
    "start_time": "2024-07-16T05:38:16.168Z"
   },
   {
    "duration": 12,
    "start_time": "2024-07-16T05:38:16.178Z"
   },
   {
    "duration": 239,
    "start_time": "2024-07-16T05:38:16.193Z"
   },
   {
    "duration": 274,
    "start_time": "2024-07-16T05:38:16.433Z"
   },
   {
    "duration": 247,
    "start_time": "2024-07-16T05:38:16.708Z"
   },
   {
    "duration": 17,
    "start_time": "2024-07-16T05:38:16.957Z"
   },
   {
    "duration": 5,
    "start_time": "2024-07-16T05:38:58.723Z"
   },
   {
    "duration": 17,
    "start_time": "2024-07-16T05:48:06.576Z"
   },
   {
    "duration": 17,
    "start_time": "2024-07-16T05:49:27.966Z"
   },
   {
    "duration": 4,
    "start_time": "2024-07-16T05:49:32.672Z"
   },
   {
    "duration": 9,
    "start_time": "2024-07-16T05:52:39.719Z"
   },
   {
    "duration": 117,
    "start_time": "2024-07-16T05:53:36.787Z"
   },
   {
    "duration": 14,
    "start_time": "2024-07-16T05:54:05.149Z"
   },
   {
    "duration": 14,
    "start_time": "2024-07-16T05:54:18.203Z"
   },
   {
    "duration": 13,
    "start_time": "2024-07-16T05:54:49.500Z"
   },
   {
    "duration": 1209,
    "start_time": "2024-07-16T05:54:56.486Z"
   },
   {
    "duration": 74,
    "start_time": "2024-07-16T05:54:57.696Z"
   },
   {
    "duration": 15,
    "start_time": "2024-07-16T05:54:57.771Z"
   },
   {
    "duration": 61,
    "start_time": "2024-07-16T05:54:57.789Z"
   },
   {
    "duration": 6,
    "start_time": "2024-07-16T05:54:57.853Z"
   },
   {
    "duration": 7,
    "start_time": "2024-07-16T05:54:57.860Z"
   },
   {
    "duration": 8,
    "start_time": "2024-07-16T05:54:57.869Z"
   },
   {
    "duration": 11,
    "start_time": "2024-07-16T05:54:57.879Z"
   },
   {
    "duration": 28,
    "start_time": "2024-07-16T05:54:57.892Z"
   },
   {
    "duration": 12,
    "start_time": "2024-07-16T05:54:57.922Z"
   },
   {
    "duration": 8,
    "start_time": "2024-07-16T05:54:57.936Z"
   },
   {
    "duration": 26,
    "start_time": "2024-07-16T05:54:57.946Z"
   },
   {
    "duration": 19,
    "start_time": "2024-07-16T05:54:57.974Z"
   },
   {
    "duration": 256,
    "start_time": "2024-07-16T05:54:57.996Z"
   },
   {
    "duration": 286,
    "start_time": "2024-07-16T05:54:58.253Z"
   },
   {
    "duration": 263,
    "start_time": "2024-07-16T05:54:58.541Z"
   },
   {
    "duration": 13,
    "start_time": "2024-07-16T05:54:58.806Z"
   },
   {
    "duration": 11,
    "start_time": "2024-07-16T06:00:18.005Z"
   },
   {
    "duration": 11,
    "start_time": "2024-07-16T06:00:55.293Z"
   },
   {
    "duration": 12,
    "start_time": "2024-07-16T06:01:05.325Z"
   },
   {
    "duration": 12,
    "start_time": "2024-07-16T06:01:09.808Z"
   },
   {
    "duration": 18,
    "start_time": "2024-07-16T06:01:30.594Z"
   },
   {
    "duration": 12,
    "start_time": "2024-07-16T06:01:41.060Z"
   },
   {
    "duration": 7,
    "start_time": "2024-07-16T06:05:46.719Z"
   },
   {
    "duration": 12,
    "start_time": "2024-07-16T06:06:01.199Z"
   },
   {
    "duration": 15,
    "start_time": "2024-07-16T06:06:30.716Z"
   },
   {
    "duration": 106,
    "start_time": "2024-07-16T06:37:26.233Z"
   },
   {
    "duration": 6,
    "start_time": "2024-07-16T06:37:38.054Z"
   },
   {
    "duration": 5,
    "start_time": "2024-07-16T06:37:41.037Z"
   },
   {
    "duration": 6,
    "start_time": "2024-07-16T06:39:58.186Z"
   },
   {
    "duration": 5,
    "start_time": "2024-07-16T06:41:34.995Z"
   },
   {
    "duration": 5,
    "start_time": "2024-07-16T06:41:48.065Z"
   },
   {
    "duration": 6,
    "start_time": "2024-07-16T06:43:21.611Z"
   },
   {
    "duration": 5,
    "start_time": "2024-07-16T06:43:39.024Z"
   },
   {
    "duration": 10,
    "start_time": "2024-07-16T06:43:51.588Z"
   },
   {
    "duration": 5,
    "start_time": "2024-07-16T06:44:04.877Z"
   },
   {
    "duration": 4,
    "start_time": "2024-07-16T06:44:55.148Z"
   },
   {
    "duration": 5,
    "start_time": "2024-07-16T07:20:11.488Z"
   },
   {
    "duration": 4,
    "start_time": "2024-07-16T07:20:13.506Z"
   },
   {
    "duration": 14,
    "start_time": "2024-07-16T07:21:01.814Z"
   },
   {
    "duration": 21,
    "start_time": "2024-07-16T07:21:20.724Z"
   },
   {
    "duration": 11,
    "start_time": "2024-07-16T07:22:06.173Z"
   },
   {
    "duration": 10,
    "start_time": "2024-07-16T07:22:24.720Z"
   },
   {
    "duration": 1241,
    "start_time": "2024-07-16T07:22:48.959Z"
   },
   {
    "duration": 72,
    "start_time": "2024-07-16T07:22:50.202Z"
   },
   {
    "duration": 13,
    "start_time": "2024-07-16T07:22:50.275Z"
   },
   {
    "duration": 12,
    "start_time": "2024-07-16T07:22:50.289Z"
   },
   {
    "duration": 8,
    "start_time": "2024-07-16T07:22:50.303Z"
   },
   {
    "duration": 4,
    "start_time": "2024-07-16T07:22:50.313Z"
   },
   {
    "duration": 6,
    "start_time": "2024-07-16T07:22:50.319Z"
   },
   {
    "duration": 15,
    "start_time": "2024-07-16T07:22:50.326Z"
   },
   {
    "duration": 35,
    "start_time": "2024-07-16T07:22:50.343Z"
   },
   {
    "duration": 11,
    "start_time": "2024-07-16T07:22:50.380Z"
   },
   {
    "duration": 7,
    "start_time": "2024-07-16T07:22:50.393Z"
   },
   {
    "duration": 7,
    "start_time": "2024-07-16T07:22:50.401Z"
   },
   {
    "duration": 18,
    "start_time": "2024-07-16T07:22:50.410Z"
   },
   {
    "duration": 269,
    "start_time": "2024-07-16T07:22:50.431Z"
   },
   {
    "duration": 283,
    "start_time": "2024-07-16T07:22:50.701Z"
   },
   {
    "duration": 262,
    "start_time": "2024-07-16T07:22:50.986Z"
   },
   {
    "duration": 23,
    "start_time": "2024-07-16T07:22:51.250Z"
   },
   {
    "duration": 10,
    "start_time": "2024-07-16T07:22:51.275Z"
   },
   {
    "duration": 4,
    "start_time": "2024-07-16T07:22:51.287Z"
   },
   {
    "duration": 4,
    "start_time": "2024-07-16T07:22:51.292Z"
   },
   {
    "duration": 6,
    "start_time": "2024-07-16T07:22:51.297Z"
   },
   {
    "duration": 9,
    "start_time": "2024-07-16T07:22:51.305Z"
   },
   {
    "duration": 7,
    "start_time": "2024-07-16T07:22:51.315Z"
   },
   {
    "duration": 4,
    "start_time": "2024-07-16T07:22:51.323Z"
   },
   {
    "duration": 37,
    "start_time": "2024-07-16T07:22:51.328Z"
   },
   {
    "duration": 4,
    "start_time": "2024-07-16T07:22:51.367Z"
   },
   {
    "duration": 15,
    "start_time": "2024-07-16T07:22:51.373Z"
   },
   {
    "duration": 4,
    "start_time": "2024-07-16T07:26:32.512Z"
   },
   {
    "duration": 17,
    "start_time": "2024-07-16T07:26:37.213Z"
   },
   {
    "duration": 4,
    "start_time": "2024-07-16T07:27:09.128Z"
   },
   {
    "duration": 3,
    "start_time": "2024-07-16T07:27:10.205Z"
   },
   {
    "duration": 16,
    "start_time": "2024-07-16T07:27:10.568Z"
   },
   {
    "duration": 4,
    "start_time": "2024-07-16T07:27:26.302Z"
   },
   {
    "duration": 4,
    "start_time": "2024-07-16T07:27:26.728Z"
   },
   {
    "duration": 17,
    "start_time": "2024-07-16T07:27:27.044Z"
   },
   {
    "duration": 2,
    "start_time": "2024-07-16T07:27:43.965Z"
   },
   {
    "duration": 16,
    "start_time": "2024-07-16T07:27:46.083Z"
   },
   {
    "duration": 2,
    "start_time": "2024-07-16T07:27:57.545Z"
   },
   {
    "duration": 3,
    "start_time": "2024-07-16T07:27:57.992Z"
   },
   {
    "duration": 16,
    "start_time": "2024-07-16T07:27:59.160Z"
   },
   {
    "duration": 1280,
    "start_time": "2024-07-16T07:28:05.031Z"
   },
   {
    "duration": 76,
    "start_time": "2024-07-16T07:28:06.313Z"
   },
   {
    "duration": 13,
    "start_time": "2024-07-16T07:28:06.390Z"
   },
   {
    "duration": 27,
    "start_time": "2024-07-16T07:28:06.405Z"
   },
   {
    "duration": 7,
    "start_time": "2024-07-16T07:28:06.434Z"
   },
   {
    "duration": 4,
    "start_time": "2024-07-16T07:28:06.443Z"
   },
   {
    "duration": 7,
    "start_time": "2024-07-16T07:28:06.448Z"
   },
   {
    "duration": 15,
    "start_time": "2024-07-16T07:28:06.457Z"
   },
   {
    "duration": 16,
    "start_time": "2024-07-16T07:28:06.473Z"
   },
   {
    "duration": 9,
    "start_time": "2024-07-16T07:28:06.490Z"
   },
   {
    "duration": 14,
    "start_time": "2024-07-16T07:28:06.501Z"
   },
   {
    "duration": 11,
    "start_time": "2024-07-16T07:28:06.517Z"
   },
   {
    "duration": 14,
    "start_time": "2024-07-16T07:28:06.529Z"
   },
   {
    "duration": 233,
    "start_time": "2024-07-16T07:28:06.564Z"
   },
   {
    "duration": 263,
    "start_time": "2024-07-16T07:28:06.799Z"
   },
   {
    "duration": 266,
    "start_time": "2024-07-16T07:28:07.064Z"
   },
   {
    "duration": 15,
    "start_time": "2024-07-16T07:28:07.332Z"
   },
   {
    "duration": 32,
    "start_time": "2024-07-16T07:28:07.349Z"
   },
   {
    "duration": 19,
    "start_time": "2024-07-16T07:28:07.383Z"
   },
   {
    "duration": 10,
    "start_time": "2024-07-16T07:28:07.404Z"
   },
   {
    "duration": 7,
    "start_time": "2024-07-16T07:28:07.416Z"
   },
   {
    "duration": 16,
    "start_time": "2024-07-16T07:28:07.425Z"
   },
   {
    "duration": 6,
    "start_time": "2024-07-16T07:28:07.443Z"
   },
   {
    "duration": 16,
    "start_time": "2024-07-16T07:28:07.451Z"
   },
   {
    "duration": 3,
    "start_time": "2024-07-16T07:28:07.468Z"
   },
   {
    "duration": 6,
    "start_time": "2024-07-16T07:28:07.472Z"
   },
   {
    "duration": 18,
    "start_time": "2024-07-16T07:28:07.480Z"
   },
   {
    "duration": 5,
    "start_time": "2024-07-16T07:28:34.873Z"
   },
   {
    "duration": 18,
    "start_time": "2024-07-16T07:28:38.384Z"
   },
   {
    "duration": 4,
    "start_time": "2024-07-16T07:30:19.622Z"
   },
   {
    "duration": 3,
    "start_time": "2024-07-16T07:30:20.189Z"
   },
   {
    "duration": 16,
    "start_time": "2024-07-16T07:30:21.703Z"
   },
   {
    "duration": 11,
    "start_time": "2024-07-16T08:09:42.561Z"
   },
   {
    "duration": 1219,
    "start_time": "2024-07-16T08:44:51.991Z"
   },
   {
    "duration": 75,
    "start_time": "2024-07-16T08:44:53.213Z"
   },
   {
    "duration": 14,
    "start_time": "2024-07-16T08:44:53.289Z"
   },
   {
    "duration": 21,
    "start_time": "2024-07-16T08:44:53.306Z"
   },
   {
    "duration": 20,
    "start_time": "2024-07-16T08:44:53.329Z"
   },
   {
    "duration": 11,
    "start_time": "2024-07-16T08:44:53.351Z"
   },
   {
    "duration": 26,
    "start_time": "2024-07-16T08:44:53.364Z"
   },
   {
    "duration": 33,
    "start_time": "2024-07-16T08:44:53.392Z"
   },
   {
    "duration": 15,
    "start_time": "2024-07-16T08:44:53.428Z"
   },
   {
    "duration": 17,
    "start_time": "2024-07-16T08:44:53.447Z"
   },
   {
    "duration": 10,
    "start_time": "2024-07-16T08:44:53.466Z"
   },
   {
    "duration": 27,
    "start_time": "2024-07-16T08:44:53.478Z"
   },
   {
    "duration": 15,
    "start_time": "2024-07-16T08:44:53.507Z"
   },
   {
    "duration": 232,
    "start_time": "2024-07-16T08:44:53.524Z"
   },
   {
    "duration": 297,
    "start_time": "2024-07-16T08:44:53.758Z"
   },
   {
    "duration": 275,
    "start_time": "2024-07-16T08:44:54.058Z"
   },
   {
    "duration": 15,
    "start_time": "2024-07-16T08:44:54.335Z"
   },
   {
    "duration": 22,
    "start_time": "2024-07-16T08:44:54.352Z"
   },
   {
    "duration": 5,
    "start_time": "2024-07-16T08:44:54.375Z"
   },
   {
    "duration": 14,
    "start_time": "2024-07-16T08:44:54.382Z"
   },
   {
    "duration": 14,
    "start_time": "2024-07-16T08:44:54.398Z"
   },
   {
    "duration": 86,
    "start_time": "2024-07-16T08:44:54.414Z"
   },
   {
    "duration": 22,
    "start_time": "2024-07-16T08:44:54.502Z"
   },
   {
    "duration": 13,
    "start_time": "2024-07-16T08:44:54.525Z"
   },
   {
    "duration": 14,
    "start_time": "2024-07-16T08:44:54.540Z"
   },
   {
    "duration": 5,
    "start_time": "2024-07-16T08:44:54.556Z"
   },
   {
    "duration": 21,
    "start_time": "2024-07-16T08:44:54.563Z"
   },
   {
    "duration": 8,
    "start_time": "2024-07-16T08:44:54.588Z"
   },
   {
    "duration": 190,
    "start_time": "2024-07-16T09:01:38.293Z"
   },
   {
    "duration": 178,
    "start_time": "2024-07-16T09:01:51.877Z"
   },
   {
    "duration": 83,
    "start_time": "2024-07-16T09:03:35.553Z"
   },
   {
    "duration": 13,
    "start_time": "2024-07-16T09:03:59.143Z"
   },
   {
    "duration": 264,
    "start_time": "2024-07-16T09:05:08.820Z"
   },
   {
    "duration": 153,
    "start_time": "2024-07-16T09:34:05.306Z"
   },
   {
    "duration": 13,
    "start_time": "2024-07-16T09:34:08.078Z"
   },
   {
    "duration": 174,
    "start_time": "2024-07-16T09:35:02.928Z"
   },
   {
    "duration": 13,
    "start_time": "2024-07-16T09:35:08.480Z"
   },
   {
    "duration": 119,
    "start_time": "2024-07-16T09:37:48.734Z"
   },
   {
    "duration": 154,
    "start_time": "2024-07-16T09:38:03.293Z"
   },
   {
    "duration": 174,
    "start_time": "2024-07-16T09:55:23.582Z"
   },
   {
    "duration": 146,
    "start_time": "2024-07-16T10:02:10.450Z"
   },
   {
    "duration": 159,
    "start_time": "2024-07-16T10:46:11.219Z"
   },
   {
    "duration": 148,
    "start_time": "2024-07-16T10:46:25.055Z"
   },
   {
    "duration": 150,
    "start_time": "2024-07-16T10:46:37.591Z"
   },
   {
    "duration": 153,
    "start_time": "2024-07-16T10:59:04.179Z"
   },
   {
    "duration": 155,
    "start_time": "2024-07-16T10:59:16.920Z"
   },
   {
    "duration": 163,
    "start_time": "2024-07-16T10:59:27.058Z"
   },
   {
    "duration": 146,
    "start_time": "2024-07-16T10:59:56.924Z"
   },
   {
    "duration": 284,
    "start_time": "2024-07-16T11:00:11.509Z"
   },
   {
    "duration": 146,
    "start_time": "2024-07-16T11:00:21.025Z"
   },
   {
    "duration": 161,
    "start_time": "2024-07-16T11:00:27.838Z"
   },
   {
    "duration": 160,
    "start_time": "2024-07-16T11:00:40.951Z"
   },
   {
    "duration": 168,
    "start_time": "2024-07-16T11:00:48.536Z"
   },
   {
    "duration": 146,
    "start_time": "2024-07-16T11:00:59.377Z"
   },
   {
    "duration": 151,
    "start_time": "2024-07-16T11:01:10.188Z"
   },
   {
    "duration": 169,
    "start_time": "2024-07-16T11:03:02.963Z"
   },
   {
    "duration": 225,
    "start_time": "2024-07-16T11:10:34.603Z"
   },
   {
    "duration": 179,
    "start_time": "2024-07-16T11:10:53.878Z"
   },
   {
    "duration": 419,
    "start_time": "2024-07-16T11:14:32.299Z"
   },
   {
    "duration": 313,
    "start_time": "2024-07-16T11:14:50.141Z"
   },
   {
    "duration": 9,
    "start_time": "2024-07-16T11:15:53.743Z"
   },
   {
    "duration": 250,
    "start_time": "2024-07-16T11:25:49.437Z"
   },
   {
    "duration": 255,
    "start_time": "2024-07-16T11:26:24.564Z"
   },
   {
    "duration": 254,
    "start_time": "2024-07-16T11:26:35.055Z"
   },
   {
    "duration": 238,
    "start_time": "2024-07-16T11:26:47.445Z"
   },
   {
    "duration": 8,
    "start_time": "2024-07-16T11:27:59.017Z"
   },
   {
    "duration": 378,
    "start_time": "2024-07-16T11:28:19.180Z"
   },
   {
    "duration": 145,
    "start_time": "2024-07-16T11:28:30.238Z"
   },
   {
    "duration": 268,
    "start_time": "2024-07-16T11:28:41.070Z"
   },
   {
    "duration": 1253,
    "start_time": "2024-07-16T11:28:54.244Z"
   },
   {
    "duration": 1148,
    "start_time": "2024-07-16T11:29:09.212Z"
   },
   {
    "duration": 11,
    "start_time": "2024-07-16T11:41:33.663Z"
   },
   {
    "duration": 193,
    "start_time": "2024-07-16T11:45:02.967Z"
   },
   {
    "duration": 271,
    "start_time": "2024-07-16T11:50:47.229Z"
   },
   {
    "duration": 279,
    "start_time": "2024-07-16T11:50:57.911Z"
   },
   {
    "duration": 254,
    "start_time": "2024-07-16T11:51:04.872Z"
   },
   {
    "duration": 174,
    "start_time": "2024-07-16T11:51:31.891Z"
   },
   {
    "duration": 1643,
    "start_time": "2024-07-16T11:51:52.899Z"
   },
   {
    "duration": 411,
    "start_time": "2024-07-16T11:51:59.877Z"
   },
   {
    "duration": 1272,
    "start_time": "2024-07-16T12:33:13.949Z"
   },
   {
    "duration": 76,
    "start_time": "2024-07-16T12:33:15.223Z"
   },
   {
    "duration": 25,
    "start_time": "2024-07-16T12:33:15.301Z"
   },
   {
    "duration": 71,
    "start_time": "2024-07-16T12:33:15.328Z"
   },
   {
    "duration": 38,
    "start_time": "2024-07-16T12:33:15.402Z"
   },
   {
    "duration": 24,
    "start_time": "2024-07-16T12:33:15.443Z"
   },
   {
    "duration": 8,
    "start_time": "2024-07-16T12:33:15.470Z"
   },
   {
    "duration": 11,
    "start_time": "2024-07-16T12:33:15.480Z"
   },
   {
    "duration": 15,
    "start_time": "2024-07-16T12:33:15.493Z"
   },
   {
    "duration": 18,
    "start_time": "2024-07-16T12:33:15.510Z"
   },
   {
    "duration": 8,
    "start_time": "2024-07-16T12:33:15.529Z"
   },
   {
    "duration": 28,
    "start_time": "2024-07-16T12:33:15.538Z"
   },
   {
    "duration": 19,
    "start_time": "2024-07-16T12:33:15.568Z"
   },
   {
    "duration": 250,
    "start_time": "2024-07-16T12:33:15.591Z"
   },
   {
    "duration": 274,
    "start_time": "2024-07-16T12:33:15.842Z"
   },
   {
    "duration": 256,
    "start_time": "2024-07-16T12:33:16.118Z"
   },
   {
    "duration": 17,
    "start_time": "2024-07-16T12:33:16.375Z"
   },
   {
    "duration": 11,
    "start_time": "2024-07-16T12:33:16.394Z"
   },
   {
    "duration": 5,
    "start_time": "2024-07-16T12:33:16.407Z"
   },
   {
    "duration": 6,
    "start_time": "2024-07-16T12:33:16.413Z"
   },
   {
    "duration": 11,
    "start_time": "2024-07-16T12:33:16.420Z"
   },
   {
    "duration": 37,
    "start_time": "2024-07-16T12:33:16.432Z"
   },
   {
    "duration": 6,
    "start_time": "2024-07-16T12:33:16.471Z"
   },
   {
    "duration": 5,
    "start_time": "2024-07-16T12:33:16.478Z"
   },
   {
    "duration": 4,
    "start_time": "2024-07-16T12:33:16.484Z"
   },
   {
    "duration": 5,
    "start_time": "2024-07-16T12:33:16.489Z"
   },
   {
    "duration": 16,
    "start_time": "2024-07-16T12:33:16.495Z"
   },
   {
    "duration": 229,
    "start_time": "2024-07-16T12:33:16.512Z"
   },
   {
    "duration": 13,
    "start_time": "2024-07-16T12:33:16.742Z"
   },
   {
    "duration": 158,
    "start_time": "2024-07-16T12:33:16.757Z"
   },
   {
    "duration": 419,
    "start_time": "2024-07-16T12:33:16.918Z"
   },
   {
    "duration": 9,
    "start_time": "2024-07-16T12:33:17.339Z"
   },
   {
    "duration": 31,
    "start_time": "2024-07-16T12:33:17.350Z"
   },
   {
    "duration": 1020,
    "start_time": "2024-07-16T12:33:17.383Z"
   },
   {
    "duration": 8,
    "start_time": "2024-07-16T12:33:18.405Z"
   },
   {
    "duration": 365,
    "start_time": "2024-07-16T12:33:18.415Z"
   },
   {
    "duration": 71,
    "start_time": "2024-07-16T12:33:18.782Z"
   },
   {
    "duration": 12,
    "start_time": "2024-07-16T12:48:53.467Z"
   },
   {
    "duration": 9,
    "start_time": "2024-07-16T12:49:03.062Z"
   },
   {
    "duration": 139,
    "start_time": "2024-07-16T13:19:59.264Z"
   },
   {
    "duration": 20,
    "start_time": "2024-07-16T13:20:06.959Z"
   },
   {
    "duration": 32,
    "start_time": "2024-07-16T13:21:00.627Z"
   },
   {
    "duration": 59,
    "start_time": "2024-07-16T13:26:09.385Z"
   },
   {
    "duration": 27,
    "start_time": "2024-07-16T13:26:19.903Z"
   },
   {
    "duration": 22,
    "start_time": "2024-07-16T13:27:19.183Z"
   },
   {
    "duration": 18,
    "start_time": "2024-07-16T13:27:41.540Z"
   },
   {
    "duration": 13,
    "start_time": "2024-07-16T13:28:26.143Z"
   },
   {
    "duration": 13,
    "start_time": "2024-07-16T13:39:30.457Z"
   },
   {
    "duration": 4,
    "start_time": "2024-07-16T13:39:37.605Z"
   },
   {
    "duration": 6,
    "start_time": "2024-07-16T13:39:46.072Z"
   },
   {
    "duration": 7,
    "start_time": "2024-07-16T13:45:27.762Z"
   },
   {
    "duration": 5,
    "start_time": "2024-07-16T13:45:49.185Z"
   },
   {
    "duration": 13,
    "start_time": "2024-07-16T13:47:40.172Z"
   },
   {
    "duration": 16,
    "start_time": "2024-07-16T13:48:11.946Z"
   },
   {
    "duration": 14,
    "start_time": "2024-07-16T13:50:32.214Z"
   },
   {
    "duration": 9,
    "start_time": "2024-07-16T13:50:38.366Z"
   },
   {
    "duration": 9,
    "start_time": "2024-07-16T13:51:13.099Z"
   },
   {
    "duration": 20,
    "start_time": "2024-07-16T13:51:23.629Z"
   },
   {
    "duration": 14,
    "start_time": "2024-07-16T13:51:25.842Z"
   },
   {
    "duration": 12,
    "start_time": "2024-07-16T13:51:39.118Z"
   },
   {
    "duration": 1246,
    "start_time": "2024-07-16T13:51:50.949Z"
   },
   {
    "duration": 75,
    "start_time": "2024-07-16T13:51:52.197Z"
   },
   {
    "duration": 11,
    "start_time": "2024-07-16T13:51:52.274Z"
   },
   {
    "duration": 16,
    "start_time": "2024-07-16T13:51:52.287Z"
   },
   {
    "duration": 7,
    "start_time": "2024-07-16T13:51:52.305Z"
   },
   {
    "duration": 5,
    "start_time": "2024-07-16T13:51:52.313Z"
   },
   {
    "duration": 6,
    "start_time": "2024-07-16T13:51:52.319Z"
   },
   {
    "duration": 23,
    "start_time": "2024-07-16T13:51:52.327Z"
   },
   {
    "duration": 28,
    "start_time": "2024-07-16T13:51:52.351Z"
   },
   {
    "duration": 21,
    "start_time": "2024-07-16T13:51:52.380Z"
   },
   {
    "duration": 20,
    "start_time": "2024-07-16T13:51:52.403Z"
   },
   {
    "duration": 29,
    "start_time": "2024-07-16T13:51:52.425Z"
   },
   {
    "duration": 23,
    "start_time": "2024-07-16T13:51:52.455Z"
   },
   {
    "duration": 228,
    "start_time": "2024-07-16T13:51:52.481Z"
   },
   {
    "duration": 272,
    "start_time": "2024-07-16T13:51:52.710Z"
   },
   {
    "duration": 280,
    "start_time": "2024-07-16T13:51:52.985Z"
   },
   {
    "duration": 17,
    "start_time": "2024-07-16T13:51:53.267Z"
   },
   {
    "duration": 15,
    "start_time": "2024-07-16T13:51:53.285Z"
   },
   {
    "duration": 5,
    "start_time": "2024-07-16T13:51:53.301Z"
   },
   {
    "duration": 17,
    "start_time": "2024-07-16T13:51:53.307Z"
   },
   {
    "duration": 7,
    "start_time": "2024-07-16T13:51:53.326Z"
   },
   {
    "duration": 33,
    "start_time": "2024-07-16T13:51:53.335Z"
   },
   {
    "duration": 6,
    "start_time": "2024-07-16T13:51:53.370Z"
   },
   {
    "duration": 6,
    "start_time": "2024-07-16T13:51:53.378Z"
   },
   {
    "duration": 4,
    "start_time": "2024-07-16T13:51:53.386Z"
   },
   {
    "duration": 6,
    "start_time": "2024-07-16T13:51:53.392Z"
   },
   {
    "duration": 16,
    "start_time": "2024-07-16T13:51:53.400Z"
   },
   {
    "duration": 220,
    "start_time": "2024-07-16T13:51:53.418Z"
   },
   {
    "duration": 13,
    "start_time": "2024-07-16T13:51:53.640Z"
   },
   {
    "duration": 167,
    "start_time": "2024-07-16T13:51:53.655Z"
   },
   {
    "duration": 405,
    "start_time": "2024-07-16T13:51:53.824Z"
   },
   {
    "duration": 9,
    "start_time": "2024-07-16T13:51:54.231Z"
   },
   {
    "duration": 8,
    "start_time": "2024-07-16T13:51:54.241Z"
   },
   {
    "duration": 1031,
    "start_time": "2024-07-16T13:51:54.265Z"
   },
   {
    "duration": 9,
    "start_time": "2024-07-16T13:51:55.298Z"
   },
   {
    "duration": 384,
    "start_time": "2024-07-16T13:51:55.308Z"
   },
   {
    "duration": 14,
    "start_time": "2024-07-16T13:51:55.694Z"
   },
   {
    "duration": 13,
    "start_time": "2024-07-16T13:51:55.710Z"
   },
   {
    "duration": 122,
    "start_time": "2024-07-16T13:51:55.724Z"
   },
   {
    "duration": 9,
    "start_time": "2024-07-16T13:52:46.976Z"
   },
   {
    "duration": 9,
    "start_time": "2024-07-16T13:52:52.607Z"
   },
   {
    "duration": 19,
    "start_time": "2024-07-16T13:54:06.876Z"
   },
   {
    "duration": 14,
    "start_time": "2024-07-16T13:54:34.792Z"
   },
   {
    "duration": 6,
    "start_time": "2024-07-16T13:57:13.617Z"
   },
   {
    "duration": 6,
    "start_time": "2024-07-16T13:59:58.154Z"
   },
   {
    "duration": 7,
    "start_time": "2024-07-16T14:00:39.349Z"
   },
   {
    "duration": 14,
    "start_time": "2024-07-16T14:00:59.832Z"
   },
   {
    "duration": 1292,
    "start_time": "2024-07-16T14:02:09.238Z"
   },
   {
    "duration": 90,
    "start_time": "2024-07-16T14:02:10.532Z"
   },
   {
    "duration": 191,
    "start_time": "2024-07-16T14:02:10.625Z"
   },
   {
    "duration": 922,
    "start_time": "2024-07-16T14:02:10.818Z"
   },
   {
    "duration": 17,
    "start_time": "2024-07-16T14:02:11.742Z"
   },
   {
    "duration": 11,
    "start_time": "2024-07-16T14:02:11.761Z"
   },
   {
    "duration": 8,
    "start_time": "2024-07-16T14:02:11.773Z"
   },
   {
    "duration": 17,
    "start_time": "2024-07-16T14:02:11.783Z"
   },
   {
    "duration": 18,
    "start_time": "2024-07-16T14:02:11.802Z"
   },
   {
    "duration": 11,
    "start_time": "2024-07-16T14:02:11.822Z"
   },
   {
    "duration": 8,
    "start_time": "2024-07-16T14:02:11.836Z"
   },
   {
    "duration": 11,
    "start_time": "2024-07-16T14:02:11.864Z"
   },
   {
    "duration": 15,
    "start_time": "2024-07-16T14:02:11.878Z"
   },
   {
    "duration": 279,
    "start_time": "2024-07-16T14:02:11.898Z"
   },
   {
    "duration": 300,
    "start_time": "2024-07-16T14:02:12.178Z"
   },
   {
    "duration": 270,
    "start_time": "2024-07-16T14:02:12.479Z"
   },
   {
    "duration": 25,
    "start_time": "2024-07-16T14:02:12.751Z"
   },
   {
    "duration": 16,
    "start_time": "2024-07-16T14:02:12.779Z"
   },
   {
    "duration": 5,
    "start_time": "2024-07-16T14:02:12.797Z"
   },
   {
    "duration": 39,
    "start_time": "2024-07-16T14:02:12.804Z"
   },
   {
    "duration": 46,
    "start_time": "2024-07-16T14:02:12.845Z"
   },
   {
    "duration": 5,
    "start_time": "2024-07-16T14:02:12.893Z"
   },
   {
    "duration": 18,
    "start_time": "2024-07-16T14:02:12.900Z"
   },
   {
    "duration": 7,
    "start_time": "2024-07-16T14:02:12.920Z"
   },
   {
    "duration": 6,
    "start_time": "2024-07-16T14:02:12.929Z"
   },
   {
    "duration": 5,
    "start_time": "2024-07-16T14:02:12.936Z"
   },
   {
    "duration": 13,
    "start_time": "2024-07-16T14:02:12.943Z"
   },
   {
    "duration": 21,
    "start_time": "2024-07-16T14:02:12.958Z"
   },
   {
    "duration": 18,
    "start_time": "2024-07-16T14:02:12.981Z"
   },
   {
    "duration": 11,
    "start_time": "2024-07-16T14:02:13.000Z"
   },
   {
    "duration": 25,
    "start_time": "2024-07-16T14:02:13.013Z"
   },
   {
    "duration": 190,
    "start_time": "2024-07-16T14:02:13.040Z"
   },
   {
    "duration": 12,
    "start_time": "2024-07-16T14:02:13.232Z"
   },
   {
    "duration": 160,
    "start_time": "2024-07-16T14:02:13.246Z"
   },
   {
    "duration": 408,
    "start_time": "2024-07-16T14:02:13.408Z"
   },
   {
    "duration": 9,
    "start_time": "2024-07-16T14:02:13.818Z"
   },
   {
    "duration": 14,
    "start_time": "2024-07-16T14:02:13.829Z"
   },
   {
    "duration": 1079,
    "start_time": "2024-07-16T14:02:13.845Z"
   },
   {
    "duration": 9,
    "start_time": "2024-07-16T14:02:14.926Z"
   },
   {
    "duration": 378,
    "start_time": "2024-07-16T14:02:14.937Z"
   },
   {
    "duration": 14,
    "start_time": "2024-07-16T14:02:15.319Z"
   },
   {
    "duration": 29,
    "start_time": "2024-07-16T14:02:15.334Z"
   },
   {
    "duration": 27,
    "start_time": "2024-07-16T14:02:15.365Z"
   },
   {
    "duration": 13,
    "start_time": "2024-07-16T14:02:15.394Z"
   },
   {
    "duration": 23,
    "start_time": "2024-07-16T14:05:20.183Z"
   },
   {
    "duration": 16,
    "start_time": "2024-07-16T14:05:27.372Z"
   },
   {
    "duration": 54,
    "start_time": "2024-07-16T14:10:58.743Z"
   },
   {
    "duration": 13,
    "start_time": "2024-07-16T14:11:03.873Z"
   },
   {
    "duration": 66,
    "start_time": "2024-07-16T14:23:04.805Z"
   },
   {
    "duration": 1325,
    "start_time": "2024-07-16T14:23:21.003Z"
   },
   {
    "duration": 18,
    "start_time": "2024-07-16T14:23:39.543Z"
   },
   {
    "duration": 18,
    "start_time": "2024-07-16T14:24:29.631Z"
   },
   {
    "duration": 17,
    "start_time": "2024-07-16T14:37:42.461Z"
   },
   {
    "duration": 15,
    "start_time": "2024-07-16T14:37:47.021Z"
   },
   {
    "duration": 14,
    "start_time": "2024-07-16T14:38:47.593Z"
   },
   {
    "duration": 13,
    "start_time": "2024-07-16T14:39:11.519Z"
   },
   {
    "duration": 15,
    "start_time": "2024-07-16T14:39:19.046Z"
   },
   {
    "duration": 72,
    "start_time": "2024-07-16T16:12:00.757Z"
   },
   {
    "duration": 433,
    "start_time": "2024-07-16T16:13:00.739Z"
   },
   {
    "duration": 451,
    "start_time": "2024-07-16T16:14:30.670Z"
   },
   {
    "duration": 765,
    "start_time": "2024-07-16T16:17:58.607Z"
   },
   {
    "duration": 669,
    "start_time": "2024-07-16T16:18:12.840Z"
   },
   {
    "duration": 761,
    "start_time": "2024-07-16T16:19:16.633Z"
   },
   {
    "duration": 697,
    "start_time": "2024-07-16T16:19:40.596Z"
   },
   {
    "duration": 589,
    "start_time": "2024-07-16T16:20:03.459Z"
   },
   {
    "duration": 590,
    "start_time": "2024-07-16T16:21:40.557Z"
   },
   {
    "duration": 553,
    "start_time": "2024-07-16T16:21:51.724Z"
   },
   {
    "duration": 60,
    "start_time": "2024-07-16T16:27:26.106Z"
   },
   {
    "duration": 506,
    "start_time": "2024-07-16T16:27:38.003Z"
   },
   {
    "duration": 694,
    "start_time": "2024-07-16T16:27:54.957Z"
   },
   {
    "duration": 557,
    "start_time": "2024-07-16T16:29:35.667Z"
   },
   {
    "duration": 549,
    "start_time": "2024-07-16T16:32:49.916Z"
   },
   {
    "duration": 674,
    "start_time": "2024-07-16T16:33:07.736Z"
   },
   {
    "duration": 61,
    "start_time": "2024-07-16T16:57:43.446Z"
   },
   {
    "duration": 80,
    "start_time": "2024-07-16T16:57:57.609Z"
   },
   {
    "duration": 573,
    "start_time": "2024-07-16T16:58:26.832Z"
   },
   {
    "duration": 674,
    "start_time": "2024-07-16T17:12:21.269Z"
   },
   {
    "duration": 236,
    "start_time": "2024-07-16T17:13:59.816Z"
   },
   {
    "duration": 584,
    "start_time": "2024-07-16T17:14:12.997Z"
   },
   {
    "duration": 558,
    "start_time": "2024-07-16T17:14:38.812Z"
   },
   {
    "duration": 16,
    "start_time": "2024-07-16T17:17:15.207Z"
   },
   {
    "duration": 17,
    "start_time": "2024-07-16T17:19:08.055Z"
   },
   {
    "duration": 9,
    "start_time": "2024-07-16T17:19:51.366Z"
   },
   {
    "duration": 8,
    "start_time": "2024-07-16T17:19:54.337Z"
   },
   {
    "duration": 8,
    "start_time": "2024-07-16T17:19:57.512Z"
   },
   {
    "duration": 12,
    "start_time": "2024-07-16T17:19:58.676Z"
   },
   {
    "duration": 8,
    "start_time": "2024-07-16T17:19:59.896Z"
   },
   {
    "duration": 702,
    "start_time": "2024-07-16T17:21:21.208Z"
   },
   {
    "duration": 555,
    "start_time": "2024-07-16T17:21:32.378Z"
   },
   {
    "duration": 586,
    "start_time": "2024-07-16T17:30:04.393Z"
   },
   {
    "duration": 502,
    "start_time": "2024-07-16T17:30:23.895Z"
   },
   {
    "duration": 525,
    "start_time": "2024-07-16T17:30:53.540Z"
   },
   {
    "duration": 686,
    "start_time": "2024-07-16T17:31:10.712Z"
   },
   {
    "duration": 265,
    "start_time": "2024-07-16T17:33:47.281Z"
   },
   {
    "duration": 539,
    "start_time": "2024-07-16T17:34:12.631Z"
   },
   {
    "duration": 1193,
    "start_time": "2024-07-16T18:02:40.592Z"
   },
   {
    "duration": 77,
    "start_time": "2024-07-16T18:02:41.787Z"
   },
   {
    "duration": 13,
    "start_time": "2024-07-16T18:02:41.866Z"
   },
   {
    "duration": 11,
    "start_time": "2024-07-16T18:02:41.881Z"
   },
   {
    "duration": 7,
    "start_time": "2024-07-16T18:02:41.895Z"
   },
   {
    "duration": 4,
    "start_time": "2024-07-16T18:02:41.904Z"
   },
   {
    "duration": 5,
    "start_time": "2024-07-16T18:02:41.910Z"
   },
   {
    "duration": 15,
    "start_time": "2024-07-16T18:02:41.916Z"
   },
   {
    "duration": 11,
    "start_time": "2024-07-16T18:02:41.964Z"
   },
   {
    "duration": 8,
    "start_time": "2024-07-16T18:02:41.977Z"
   },
   {
    "duration": 7,
    "start_time": "2024-07-16T18:02:41.987Z"
   },
   {
    "duration": 7,
    "start_time": "2024-07-16T18:02:41.996Z"
   },
   {
    "duration": 18,
    "start_time": "2024-07-16T18:02:42.005Z"
   },
   {
    "duration": 251,
    "start_time": "2024-07-16T18:02:42.026Z"
   },
   {
    "duration": 283,
    "start_time": "2024-07-16T18:02:42.278Z"
   },
   {
    "duration": 264,
    "start_time": "2024-07-16T18:02:42.562Z"
   },
   {
    "duration": 21,
    "start_time": "2024-07-16T18:02:42.828Z"
   },
   {
    "duration": 28,
    "start_time": "2024-07-16T18:02:42.851Z"
   },
   {
    "duration": 5,
    "start_time": "2024-07-16T18:02:42.882Z"
   },
   {
    "duration": 8,
    "start_time": "2024-07-16T18:02:42.889Z"
   },
   {
    "duration": 5,
    "start_time": "2024-07-16T18:02:42.899Z"
   },
   {
    "duration": 5,
    "start_time": "2024-07-16T18:02:42.906Z"
   },
   {
    "duration": 10,
    "start_time": "2024-07-16T18:02:42.913Z"
   },
   {
    "duration": 17,
    "start_time": "2024-07-16T18:02:42.925Z"
   },
   {
    "duration": 26,
    "start_time": "2024-07-16T18:02:42.944Z"
   },
   {
    "duration": 6,
    "start_time": "2024-07-16T18:02:42.972Z"
   },
   {
    "duration": 8,
    "start_time": "2024-07-16T18:02:42.980Z"
   },
   {
    "duration": 11,
    "start_time": "2024-07-16T18:02:42.989Z"
   },
   {
    "duration": 4,
    "start_time": "2024-07-16T18:02:43.002Z"
   },
   {
    "duration": 4,
    "start_time": "2024-07-16T18:02:43.008Z"
   },
   {
    "duration": 65,
    "start_time": "2024-07-16T18:02:43.013Z"
   },
   {
    "duration": 202,
    "start_time": "2024-07-16T18:02:43.080Z"
   },
   {
    "duration": 13,
    "start_time": "2024-07-16T18:02:43.284Z"
   },
   {
    "duration": 155,
    "start_time": "2024-07-16T18:02:43.299Z"
   },
   {
    "duration": 391,
    "start_time": "2024-07-16T18:02:43.455Z"
   },
   {
    "duration": 18,
    "start_time": "2024-07-16T18:02:43.848Z"
   },
   {
    "duration": 13,
    "start_time": "2024-07-16T18:02:43.868Z"
   },
   {
    "duration": 990,
    "start_time": "2024-07-16T18:02:43.883Z"
   },
   {
    "duration": 10,
    "start_time": "2024-07-16T18:02:44.875Z"
   },
   {
    "duration": 370,
    "start_time": "2024-07-16T18:02:44.886Z"
   },
   {
    "duration": 23,
    "start_time": "2024-07-16T18:02:45.260Z"
   },
   {
    "duration": 16,
    "start_time": "2024-07-16T18:02:45.285Z"
   },
   {
    "duration": 12,
    "start_time": "2024-07-16T18:02:45.303Z"
   },
   {
    "duration": 15,
    "start_time": "2024-07-16T18:02:45.317Z"
   },
   {
    "duration": 14,
    "start_time": "2024-07-16T18:02:45.364Z"
   },
   {
    "duration": 27,
    "start_time": "2024-07-16T18:02:45.380Z"
   },
   {
    "duration": 12,
    "start_time": "2024-07-16T18:02:45.408Z"
   },
   {
    "duration": 632,
    "start_time": "2024-07-16T18:02:45.422Z"
   },
   {
    "duration": 14,
    "start_time": "2024-07-16T18:02:46.055Z"
   },
   {
    "duration": 8,
    "start_time": "2024-07-16T18:02:46.071Z"
   },
   {
    "duration": 8,
    "start_time": "2024-07-16T18:02:46.081Z"
   },
   {
    "duration": 16,
    "start_time": "2024-07-16T18:02:46.090Z"
   },
   {
    "duration": 50,
    "start_time": "2024-07-17T08:47:38.233Z"
   },
   {
    "duration": 85,
    "start_time": "2024-07-17T08:48:39.237Z"
   },
   {
    "duration": 8,
    "start_time": "2024-07-17T08:49:37.483Z"
   },
   {
    "duration": 1344,
    "start_time": "2024-07-17T08:49:50.452Z"
   },
   {
    "duration": 284,
    "start_time": "2024-07-17T08:49:51.799Z"
   },
   {
    "duration": 14,
    "start_time": "2024-07-17T08:49:52.085Z"
   },
   {
    "duration": 35,
    "start_time": "2024-07-17T08:49:52.101Z"
   },
   {
    "duration": 26,
    "start_time": "2024-07-17T08:49:52.138Z"
   },
   {
    "duration": 73,
    "start_time": "2024-07-17T08:49:52.166Z"
   },
   {
    "duration": 27,
    "start_time": "2024-07-17T08:49:52.241Z"
   },
   {
    "duration": 26,
    "start_time": "2024-07-17T08:49:52.270Z"
   },
   {
    "duration": 17,
    "start_time": "2024-07-17T08:49:52.298Z"
   },
   {
    "duration": 20,
    "start_time": "2024-07-17T08:49:52.317Z"
   },
   {
    "duration": 6,
    "start_time": "2024-07-17T08:49:52.338Z"
   },
   {
    "duration": 7,
    "start_time": "2024-07-17T08:49:52.346Z"
   },
   {
    "duration": 10,
    "start_time": "2024-07-17T08:49:52.354Z"
   },
   {
    "duration": 221,
    "start_time": "2024-07-17T08:49:52.367Z"
   },
   {
    "duration": 249,
    "start_time": "2024-07-17T08:49:52.590Z"
   },
   {
    "duration": 245,
    "start_time": "2024-07-17T08:49:52.840Z"
   },
   {
    "duration": 13,
    "start_time": "2024-07-17T08:49:53.087Z"
   },
   {
    "duration": 19,
    "start_time": "2024-07-17T08:49:53.102Z"
   },
   {
    "duration": 15,
    "start_time": "2024-07-17T08:49:53.123Z"
   },
   {
    "duration": 31,
    "start_time": "2024-07-17T08:49:53.139Z"
   },
   {
    "duration": 23,
    "start_time": "2024-07-17T08:49:53.171Z"
   },
   {
    "duration": 18,
    "start_time": "2024-07-17T08:49:53.195Z"
   },
   {
    "duration": 9,
    "start_time": "2024-07-17T08:49:53.215Z"
   },
   {
    "duration": 7,
    "start_time": "2024-07-17T08:49:53.226Z"
   },
   {
    "duration": 14,
    "start_time": "2024-07-17T08:49:53.234Z"
   },
   {
    "duration": 35,
    "start_time": "2024-07-17T08:49:53.249Z"
   },
   {
    "duration": 18,
    "start_time": "2024-07-17T08:49:53.285Z"
   },
   {
    "duration": 31,
    "start_time": "2024-07-17T08:49:53.304Z"
   },
   {
    "duration": 5,
    "start_time": "2024-07-17T08:49:53.336Z"
   },
   {
    "duration": 8,
    "start_time": "2024-07-17T08:49:53.342Z"
   },
   {
    "duration": 17,
    "start_time": "2024-07-17T08:49:53.352Z"
   },
   {
    "duration": 196,
    "start_time": "2024-07-17T08:49:53.371Z"
   },
   {
    "duration": 11,
    "start_time": "2024-07-17T08:49:53.569Z"
   },
   {
    "duration": 158,
    "start_time": "2024-07-17T08:49:53.582Z"
   },
   {
    "duration": 332,
    "start_time": "2024-07-17T08:49:53.742Z"
   },
   {
    "duration": 6,
    "start_time": "2024-07-17T08:49:54.076Z"
   },
   {
    "duration": 11,
    "start_time": "2024-07-17T08:49:54.084Z"
   },
   {
    "duration": 864,
    "start_time": "2024-07-17T08:49:54.098Z"
   },
   {
    "duration": 9,
    "start_time": "2024-07-17T08:49:54.964Z"
   },
   {
    "duration": 346,
    "start_time": "2024-07-17T08:49:54.974Z"
   },
   {
    "duration": 28,
    "start_time": "2024-07-17T08:49:55.323Z"
   },
   {
    "duration": 14,
    "start_time": "2024-07-17T08:49:55.353Z"
   },
   {
    "duration": 11,
    "start_time": "2024-07-17T08:49:55.368Z"
   },
   {
    "duration": 13,
    "start_time": "2024-07-17T08:49:55.381Z"
   },
   {
    "duration": 10,
    "start_time": "2024-07-17T08:49:55.396Z"
   },
   {
    "duration": 44,
    "start_time": "2024-07-17T08:49:55.408Z"
   },
   {
    "duration": 16,
    "start_time": "2024-07-17T08:49:55.454Z"
   },
   {
    "duration": 507,
    "start_time": "2024-07-17T08:49:55.471Z"
   },
   {
    "duration": 7,
    "start_time": "2024-07-17T08:49:55.980Z"
   },
   {
    "duration": 44,
    "start_time": "2024-07-17T08:49:55.988Z"
   },
   {
    "duration": 6,
    "start_time": "2024-07-17T08:49:56.034Z"
   },
   {
    "duration": 6,
    "start_time": "2024-07-17T08:49:56.041Z"
   },
   {
    "duration": 100,
    "start_time": "2024-07-17T08:49:56.048Z"
   },
   {
    "duration": 0,
    "start_time": "2024-07-17T08:49:56.150Z"
   },
   {
    "duration": 9,
    "start_time": "2024-07-17T08:50:14.461Z"
   },
   {
    "duration": 43,
    "start_time": "2024-07-17T08:50:35.209Z"
   },
   {
    "duration": 39,
    "start_time": "2024-07-17T08:51:18.755Z"
   },
   {
    "duration": 40,
    "start_time": "2024-07-17T08:52:02.510Z"
   },
   {
    "duration": 40,
    "start_time": "2024-07-17T08:52:46.783Z"
   },
   {
    "duration": 43,
    "start_time": "2024-07-17T08:53:05.557Z"
   },
   {
    "duration": 39,
    "start_time": "2024-07-17T09:00:38.478Z"
   },
   {
    "duration": 26,
    "start_time": "2024-07-17T09:02:54.430Z"
   },
   {
    "duration": 41,
    "start_time": "2024-07-17T09:03:17.921Z"
   },
   {
    "duration": 11,
    "start_time": "2024-07-17T09:06:39.231Z"
   },
   {
    "duration": 66,
    "start_time": "2024-07-17T09:14:57.206Z"
   },
   {
    "duration": 280,
    "start_time": "2024-07-17T09:15:08.011Z"
   },
   {
    "duration": 93,
    "start_time": "2024-07-17T09:18:36.118Z"
   },
   {
    "duration": 27,
    "start_time": "2024-07-17T09:18:53.436Z"
   },
   {
    "duration": 40,
    "start_time": "2024-07-17T09:19:38.153Z"
   },
   {
    "duration": 347,
    "start_time": "2024-07-17T09:21:22.445Z"
   },
   {
    "duration": 3,
    "start_time": "2024-07-17T09:27:09.354Z"
   },
   {
    "duration": 13,
    "start_time": "2024-07-17T09:27:44.576Z"
   },
   {
    "duration": 495,
    "start_time": "2024-07-17T09:40:31.986Z"
   },
   {
    "duration": 600,
    "start_time": "2024-07-17T09:41:39.093Z"
   },
   {
    "duration": 11,
    "start_time": "2024-07-17T10:15:32.458Z"
   },
   {
    "duration": 8,
    "start_time": "2024-07-17T10:15:33.480Z"
   },
   {
    "duration": 8,
    "start_time": "2024-07-17T10:15:36.706Z"
   },
   {
    "duration": 8,
    "start_time": "2024-07-17T10:15:39.219Z"
   },
   {
    "duration": 40,
    "start_time": "2024-07-17T10:15:49.856Z"
   },
   {
    "duration": 10,
    "start_time": "2024-07-17T10:16:08.305Z"
   },
   {
    "duration": 8,
    "start_time": "2024-07-17T10:16:15.468Z"
   },
   {
    "duration": 112,
    "start_time": "2024-07-17T10:17:56.618Z"
   },
   {
    "duration": 8,
    "start_time": "2024-07-17T10:19:16.076Z"
   },
   {
    "duration": 11,
    "start_time": "2024-07-17T10:19:20.809Z"
   },
   {
    "duration": 12,
    "start_time": "2024-07-17T10:19:33.533Z"
   },
   {
    "duration": 9,
    "start_time": "2024-07-17T10:19:58.943Z"
   },
   {
    "duration": 12,
    "start_time": "2024-07-17T10:20:01.611Z"
   },
   {
    "duration": 14,
    "start_time": "2024-07-17T10:40:50.432Z"
   },
   {
    "duration": 10,
    "start_time": "2024-07-17T10:41:51.933Z"
   },
   {
    "duration": 10,
    "start_time": "2024-07-17T10:42:39.450Z"
   },
   {
    "duration": 9,
    "start_time": "2024-07-17T10:42:47.837Z"
   },
   {
    "duration": 9,
    "start_time": "2024-07-17T10:45:26.362Z"
   },
   {
    "duration": 13,
    "start_time": "2024-07-17T10:46:16.677Z"
   },
   {
    "duration": 11,
    "start_time": "2024-07-17T10:46:54.308Z"
   },
   {
    "duration": 11,
    "start_time": "2024-07-17T10:47:29.367Z"
   },
   {
    "duration": 14,
    "start_time": "2024-07-17T10:54:04.991Z"
   },
   {
    "duration": 4,
    "start_time": "2024-07-17T11:02:07.297Z"
   },
   {
    "duration": 4,
    "start_time": "2024-07-17T11:02:50.982Z"
   },
   {
    "duration": 4,
    "start_time": "2024-07-17T11:03:21.833Z"
   },
   {
    "duration": 8,
    "start_time": "2024-07-17T11:14:14.424Z"
   },
   {
    "duration": 12,
    "start_time": "2024-07-17T11:17:23.238Z"
   },
   {
    "duration": 20,
    "start_time": "2024-07-17T11:18:47.587Z"
   },
   {
    "duration": 4,
    "start_time": "2024-07-17T11:20:28.146Z"
   },
   {
    "duration": 8,
    "start_time": "2024-07-17T11:21:32.412Z"
   },
   {
    "duration": 10,
    "start_time": "2024-07-17T11:22:04.106Z"
   },
   {
    "duration": 12,
    "start_time": "2024-07-17T11:22:30.190Z"
   },
   {
    "duration": 13,
    "start_time": "2024-07-17T11:22:49.074Z"
   },
   {
    "duration": 15,
    "start_time": "2024-07-17T11:23:01.162Z"
   },
   {
    "duration": 145,
    "start_time": "2024-07-17T11:29:06.269Z"
   },
   {
    "duration": 132,
    "start_time": "2024-07-17T11:31:16.686Z"
   },
   {
    "duration": 124,
    "start_time": "2024-07-17T11:32:15.557Z"
   },
   {
    "duration": 139,
    "start_time": "2024-07-17T11:32:46.588Z"
   },
   {
    "duration": 6,
    "start_time": "2024-07-17T11:33:59.104Z"
   },
   {
    "duration": 10,
    "start_time": "2024-07-17T11:34:21.326Z"
   },
   {
    "duration": 4,
    "start_time": "2024-07-17T11:34:32.578Z"
   },
   {
    "duration": 138,
    "start_time": "2024-07-17T11:35:46.104Z"
   },
   {
    "duration": 118,
    "start_time": "2024-07-17T11:35:59.728Z"
   },
   {
    "duration": 131,
    "start_time": "2024-07-17T11:36:13.667Z"
   },
   {
    "duration": 3,
    "start_time": "2024-07-17T11:37:50.373Z"
   },
   {
    "duration": 4,
    "start_time": "2024-07-17T11:39:27.622Z"
   },
   {
    "duration": 68,
    "start_time": "2024-07-17T11:42:34.271Z"
   },
   {
    "duration": 1104,
    "start_time": "2024-07-17T11:43:04.643Z"
   },
   {
    "duration": 64,
    "start_time": "2024-07-17T11:43:05.748Z"
   },
   {
    "duration": 12,
    "start_time": "2024-07-17T11:43:05.814Z"
   },
   {
    "duration": 42,
    "start_time": "2024-07-17T11:43:05.828Z"
   },
   {
    "duration": 29,
    "start_time": "2024-07-17T11:43:05.872Z"
   },
   {
    "duration": 48,
    "start_time": "2024-07-17T11:43:05.903Z"
   },
   {
    "duration": 30,
    "start_time": "2024-07-17T11:43:05.953Z"
   },
   {
    "duration": 36,
    "start_time": "2024-07-17T11:43:05.984Z"
   },
   {
    "duration": 52,
    "start_time": "2024-07-17T11:43:06.022Z"
   },
   {
    "duration": 27,
    "start_time": "2024-07-17T11:43:06.076Z"
   },
   {
    "duration": 40,
    "start_time": "2024-07-17T11:43:06.105Z"
   },
   {
    "duration": 40,
    "start_time": "2024-07-17T11:43:06.147Z"
   },
   {
    "duration": 64,
    "start_time": "2024-07-17T11:43:06.189Z"
   },
   {
    "duration": 257,
    "start_time": "2024-07-17T11:43:06.254Z"
   },
   {
    "duration": 229,
    "start_time": "2024-07-17T11:43:06.512Z"
   },
   {
    "duration": 241,
    "start_time": "2024-07-17T11:43:06.743Z"
   },
   {
    "duration": 15,
    "start_time": "2024-07-17T11:43:06.986Z"
   },
   {
    "duration": 36,
    "start_time": "2024-07-17T11:43:07.003Z"
   },
   {
    "duration": 28,
    "start_time": "2024-07-17T11:43:07.041Z"
   },
   {
    "duration": 32,
    "start_time": "2024-07-17T11:43:07.071Z"
   },
   {
    "duration": 25,
    "start_time": "2024-07-17T11:43:07.105Z"
   },
   {
    "duration": 16,
    "start_time": "2024-07-17T11:43:07.132Z"
   },
   {
    "duration": 34,
    "start_time": "2024-07-17T11:43:07.150Z"
   },
   {
    "duration": 36,
    "start_time": "2024-07-17T11:43:07.186Z"
   },
   {
    "duration": 37,
    "start_time": "2024-07-17T11:43:07.224Z"
   },
   {
    "duration": 26,
    "start_time": "2024-07-17T11:43:07.262Z"
   },
   {
    "duration": 33,
    "start_time": "2024-07-17T11:43:07.290Z"
   },
   {
    "duration": 26,
    "start_time": "2024-07-17T11:43:07.326Z"
   },
   {
    "duration": 22,
    "start_time": "2024-07-17T11:43:07.354Z"
   },
   {
    "duration": 25,
    "start_time": "2024-07-17T11:43:07.377Z"
   },
   {
    "duration": 26,
    "start_time": "2024-07-17T11:43:07.403Z"
   },
   {
    "duration": 167,
    "start_time": "2024-07-17T11:43:07.430Z"
   },
   {
    "duration": 12,
    "start_time": "2024-07-17T11:43:07.598Z"
   },
   {
    "duration": 142,
    "start_time": "2024-07-17T11:43:07.611Z"
   },
   {
    "duration": 358,
    "start_time": "2024-07-17T11:43:07.754Z"
   },
   {
    "duration": 8,
    "start_time": "2024-07-17T11:43:08.114Z"
   },
   {
    "duration": 19,
    "start_time": "2024-07-17T11:43:08.123Z"
   },
   {
    "duration": 928,
    "start_time": "2024-07-17T11:43:08.143Z"
   },
   {
    "duration": 7,
    "start_time": "2024-07-17T11:43:09.072Z"
   },
   {
    "duration": 329,
    "start_time": "2024-07-17T11:43:09.080Z"
   },
   {
    "duration": 29,
    "start_time": "2024-07-17T11:43:09.410Z"
   },
   {
    "duration": 13,
    "start_time": "2024-07-17T11:43:09.440Z"
   },
   {
    "duration": 11,
    "start_time": "2024-07-17T11:43:09.455Z"
   },
   {
    "duration": 16,
    "start_time": "2024-07-17T11:43:09.467Z"
   },
   {
    "duration": 13,
    "start_time": "2024-07-17T11:43:09.484Z"
   },
   {
    "duration": 45,
    "start_time": "2024-07-17T11:43:09.499Z"
   },
   {
    "duration": 17,
    "start_time": "2024-07-17T11:43:09.546Z"
   },
   {
    "duration": 522,
    "start_time": "2024-07-17T11:43:09.565Z"
   },
   {
    "duration": 9,
    "start_time": "2024-07-17T11:43:10.088Z"
   },
   {
    "duration": 54,
    "start_time": "2024-07-17T11:43:10.098Z"
   },
   {
    "duration": 12,
    "start_time": "2024-07-17T11:43:10.154Z"
   },
   {
    "duration": 7,
    "start_time": "2024-07-17T11:43:10.168Z"
   },
   {
    "duration": 38,
    "start_time": "2024-07-17T11:43:10.177Z"
   },
   {
    "duration": 22,
    "start_time": "2024-07-17T11:43:10.217Z"
   },
   {
    "duration": 11,
    "start_time": "2024-07-17T11:43:10.240Z"
   },
   {
    "duration": 21,
    "start_time": "2024-07-17T11:43:10.252Z"
   },
   {
    "duration": 3,
    "start_time": "2024-07-17T11:43:10.275Z"
   },
   {
    "duration": 367,
    "start_time": "2024-07-17T11:44:17.979Z"
   },
   {
    "duration": 338,
    "start_time": "2024-07-17T11:45:40.014Z"
   },
   {
    "duration": 658,
    "start_time": "2024-07-17T11:47:50.533Z"
   },
   {
    "duration": 1104,
    "start_time": "2024-07-17T11:50:18.585Z"
   },
   {
    "duration": 73,
    "start_time": "2024-07-17T11:50:19.691Z"
   },
   {
    "duration": 13,
    "start_time": "2024-07-17T11:50:19.766Z"
   },
   {
    "duration": 26,
    "start_time": "2024-07-17T11:50:19.780Z"
   },
   {
    "duration": 39,
    "start_time": "2024-07-17T11:50:19.808Z"
   },
   {
    "duration": 10,
    "start_time": "2024-07-17T11:50:19.849Z"
   },
   {
    "duration": 32,
    "start_time": "2024-07-17T11:50:19.861Z"
   },
   {
    "duration": 34,
    "start_time": "2024-07-17T11:50:19.895Z"
   },
   {
    "duration": 41,
    "start_time": "2024-07-17T11:50:19.931Z"
   },
   {
    "duration": 27,
    "start_time": "2024-07-17T11:50:19.974Z"
   },
   {
    "duration": 23,
    "start_time": "2024-07-17T11:50:20.003Z"
   },
   {
    "duration": 28,
    "start_time": "2024-07-17T11:50:20.027Z"
   },
   {
    "duration": 38,
    "start_time": "2024-07-17T11:50:20.057Z"
   },
   {
    "duration": 206,
    "start_time": "2024-07-17T11:50:20.097Z"
   },
   {
    "duration": 256,
    "start_time": "2024-07-17T11:50:20.305Z"
   },
   {
    "duration": 259,
    "start_time": "2024-07-17T11:50:20.563Z"
   },
   {
    "duration": 21,
    "start_time": "2024-07-17T11:50:20.824Z"
   },
   {
    "duration": 49,
    "start_time": "2024-07-17T11:50:20.846Z"
   },
   {
    "duration": 5,
    "start_time": "2024-07-17T11:50:20.897Z"
   },
   {
    "duration": 9,
    "start_time": "2024-07-17T11:50:20.904Z"
   },
   {
    "duration": 11,
    "start_time": "2024-07-17T11:50:20.914Z"
   },
   {
    "duration": 6,
    "start_time": "2024-07-17T11:50:20.926Z"
   },
   {
    "duration": 5,
    "start_time": "2024-07-17T11:50:20.934Z"
   },
   {
    "duration": 6,
    "start_time": "2024-07-17T11:50:20.940Z"
   },
   {
    "duration": 14,
    "start_time": "2024-07-17T11:50:20.947Z"
   },
   {
    "duration": 38,
    "start_time": "2024-07-17T11:50:20.962Z"
   },
   {
    "duration": 19,
    "start_time": "2024-07-17T11:50:21.002Z"
   },
   {
    "duration": 9,
    "start_time": "2024-07-17T11:50:21.025Z"
   },
   {
    "duration": 5,
    "start_time": "2024-07-17T11:50:21.036Z"
   },
   {
    "duration": 4,
    "start_time": "2024-07-17T11:50:21.043Z"
   },
   {
    "duration": 21,
    "start_time": "2024-07-17T11:50:21.048Z"
   },
   {
    "duration": 198,
    "start_time": "2024-07-17T11:50:21.070Z"
   },
   {
    "duration": 12,
    "start_time": "2024-07-17T11:50:21.269Z"
   },
   {
    "duration": 226,
    "start_time": "2024-07-17T11:50:21.282Z"
   },
   {
    "duration": 362,
    "start_time": "2024-07-17T11:50:21.509Z"
   },
   {
    "duration": 7,
    "start_time": "2024-07-17T11:50:21.872Z"
   },
   {
    "duration": 9,
    "start_time": "2024-07-17T11:50:21.881Z"
   },
   {
    "duration": 906,
    "start_time": "2024-07-17T11:50:21.891Z"
   },
   {
    "duration": 10,
    "start_time": "2024-07-17T11:50:22.798Z"
   },
   {
    "duration": 385,
    "start_time": "2024-07-17T11:50:22.809Z"
   },
   {
    "duration": 19,
    "start_time": "2024-07-17T11:50:23.196Z"
   },
   {
    "duration": 25,
    "start_time": "2024-07-17T11:50:23.217Z"
   },
   {
    "duration": 31,
    "start_time": "2024-07-17T11:50:23.244Z"
   },
   {
    "duration": 14,
    "start_time": "2024-07-17T11:50:23.277Z"
   },
   {
    "duration": 17,
    "start_time": "2024-07-17T11:50:23.292Z"
   },
   {
    "duration": 18,
    "start_time": "2024-07-17T11:50:23.310Z"
   },
   {
    "duration": 10,
    "start_time": "2024-07-17T11:50:23.329Z"
   },
   {
    "duration": 528,
    "start_time": "2024-07-17T11:50:23.340Z"
   },
   {
    "duration": 9,
    "start_time": "2024-07-17T11:50:23.870Z"
   },
   {
    "duration": 8,
    "start_time": "2024-07-17T11:50:23.880Z"
   },
   {
    "duration": 8,
    "start_time": "2024-07-17T11:50:23.890Z"
   },
   {
    "duration": 38,
    "start_time": "2024-07-17T11:50:23.899Z"
   },
   {
    "duration": 37,
    "start_time": "2024-07-17T11:50:23.939Z"
   },
   {
    "duration": 8,
    "start_time": "2024-07-17T11:50:23.978Z"
   },
   {
    "duration": 15,
    "start_time": "2024-07-17T11:50:23.988Z"
   },
   {
    "duration": 4,
    "start_time": "2024-07-17T11:50:24.004Z"
   },
   {
    "duration": 63,
    "start_time": "2024-07-17T12:00:04.596Z"
   },
   {
    "duration": 6,
    "start_time": "2024-07-17T12:36:20.581Z"
   },
   {
    "duration": 6,
    "start_time": "2024-07-17T12:37:23.915Z"
   },
   {
    "duration": 7,
    "start_time": "2024-07-17T13:00:06.338Z"
   },
   {
    "duration": 5,
    "start_time": "2024-07-17T13:00:17.256Z"
   },
   {
    "duration": 6,
    "start_time": "2024-07-17T13:00:58.155Z"
   },
   {
    "duration": 6,
    "start_time": "2024-07-17T13:01:15.229Z"
   },
   {
    "duration": 62,
    "start_time": "2024-07-17T13:12:16.174Z"
   },
   {
    "duration": 7,
    "start_time": "2024-07-17T13:53:16.848Z"
   },
   {
    "duration": 5,
    "start_time": "2024-07-17T14:08:09.835Z"
   },
   {
    "duration": 129,
    "start_time": "2024-07-17T14:09:13.629Z"
   },
   {
    "duration": 5,
    "start_time": "2024-07-17T14:50:08.329Z"
   },
   {
    "duration": 3,
    "start_time": "2024-07-17T14:54:27.258Z"
   },
   {
    "duration": 96,
    "start_time": "2024-07-17T14:54:51.311Z"
   },
   {
    "duration": 8,
    "start_time": "2024-07-17T14:55:14.291Z"
   },
   {
    "duration": 854,
    "start_time": "2024-07-17T14:55:37.505Z"
   },
   {
    "duration": 557,
    "start_time": "2024-07-17T14:56:03.779Z"
   },
   {
    "duration": 542,
    "start_time": "2024-07-17T14:56:09.129Z"
   },
   {
    "duration": 10,
    "start_time": "2024-07-17T14:57:11.879Z"
   },
   {
    "duration": 1086,
    "start_time": "2024-07-17T15:26:12.925Z"
   },
   {
    "duration": 8,
    "start_time": "2024-07-17T15:27:13.261Z"
   },
   {
    "duration": 11,
    "start_time": "2024-07-17T15:30:18.531Z"
   },
   {
    "duration": 9,
    "start_time": "2024-07-17T15:31:24.170Z"
   },
   {
    "duration": 10,
    "start_time": "2024-07-17T15:31:49.709Z"
   },
   {
    "duration": 5,
    "start_time": "2024-07-17T15:35:33.348Z"
   },
   {
    "duration": 4,
    "start_time": "2024-07-17T15:36:58.936Z"
   },
   {
    "duration": 14,
    "start_time": "2024-07-17T15:37:28.295Z"
   },
   {
    "duration": 10,
    "start_time": "2024-07-17T15:40:28.448Z"
   },
   {
    "duration": 1041,
    "start_time": "2024-07-17T15:40:35.985Z"
   },
   {
    "duration": 65,
    "start_time": "2024-07-17T15:40:37.028Z"
   },
   {
    "duration": 11,
    "start_time": "2024-07-17T15:40:37.094Z"
   },
   {
    "duration": 28,
    "start_time": "2024-07-17T15:40:37.106Z"
   },
   {
    "duration": 6,
    "start_time": "2024-07-17T15:40:37.136Z"
   },
   {
    "duration": 4,
    "start_time": "2024-07-17T15:40:37.143Z"
   },
   {
    "duration": 15,
    "start_time": "2024-07-17T15:40:37.148Z"
   },
   {
    "duration": 8,
    "start_time": "2024-07-17T15:40:37.164Z"
   },
   {
    "duration": 9,
    "start_time": "2024-07-17T15:40:37.173Z"
   },
   {
    "duration": 7,
    "start_time": "2024-07-17T15:40:37.184Z"
   },
   {
    "duration": 5,
    "start_time": "2024-07-17T15:40:37.192Z"
   },
   {
    "duration": 7,
    "start_time": "2024-07-17T15:40:37.198Z"
   },
   {
    "duration": 37,
    "start_time": "2024-07-17T15:40:37.206Z"
   },
   {
    "duration": 229,
    "start_time": "2024-07-17T15:40:37.246Z"
   },
   {
    "duration": 262,
    "start_time": "2024-07-17T15:40:37.477Z"
   },
   {
    "duration": 276,
    "start_time": "2024-07-17T15:40:37.741Z"
   },
   {
    "duration": 23,
    "start_time": "2024-07-17T15:40:38.020Z"
   },
   {
    "duration": 25,
    "start_time": "2024-07-17T15:40:38.045Z"
   },
   {
    "duration": 4,
    "start_time": "2024-07-17T15:40:38.071Z"
   },
   {
    "duration": 15,
    "start_time": "2024-07-17T15:40:38.076Z"
   },
   {
    "duration": 7,
    "start_time": "2024-07-17T15:40:38.092Z"
   },
   {
    "duration": 5,
    "start_time": "2024-07-17T15:40:38.101Z"
   },
   {
    "duration": 4,
    "start_time": "2024-07-17T15:40:38.107Z"
   },
   {
    "duration": 4,
    "start_time": "2024-07-17T15:40:38.112Z"
   },
   {
    "duration": 21,
    "start_time": "2024-07-17T15:40:38.117Z"
   },
   {
    "duration": 8,
    "start_time": "2024-07-17T15:40:38.140Z"
   },
   {
    "duration": 6,
    "start_time": "2024-07-17T15:40:38.150Z"
   },
   {
    "duration": 10,
    "start_time": "2024-07-17T15:40:38.157Z"
   },
   {
    "duration": 4,
    "start_time": "2024-07-17T15:40:38.169Z"
   },
   {
    "duration": 4,
    "start_time": "2024-07-17T15:40:38.174Z"
   },
   {
    "duration": 16,
    "start_time": "2024-07-17T15:40:38.179Z"
   },
   {
    "duration": 190,
    "start_time": "2024-07-17T15:40:38.196Z"
   },
   {
    "duration": 12,
    "start_time": "2024-07-17T15:40:38.387Z"
   },
   {
    "duration": 140,
    "start_time": "2024-07-17T15:40:38.401Z"
   },
   {
    "duration": 342,
    "start_time": "2024-07-17T15:40:38.542Z"
   },
   {
    "duration": 8,
    "start_time": "2024-07-17T15:40:38.885Z"
   },
   {
    "duration": 9,
    "start_time": "2024-07-17T15:40:38.894Z"
   },
   {
    "duration": 936,
    "start_time": "2024-07-17T15:40:38.905Z"
   },
   {
    "duration": 9,
    "start_time": "2024-07-17T15:40:39.842Z"
   },
   {
    "duration": 312,
    "start_time": "2024-07-17T15:40:39.852Z"
   },
   {
    "duration": 19,
    "start_time": "2024-07-17T15:40:40.169Z"
   },
   {
    "duration": 13,
    "start_time": "2024-07-17T15:40:40.190Z"
   },
   {
    "duration": 36,
    "start_time": "2024-07-17T15:40:40.204Z"
   },
   {
    "duration": 14,
    "start_time": "2024-07-17T15:40:40.242Z"
   },
   {
    "duration": 11,
    "start_time": "2024-07-17T15:40:40.257Z"
   },
   {
    "duration": 22,
    "start_time": "2024-07-17T15:40:40.270Z"
   },
   {
    "duration": 14,
    "start_time": "2024-07-17T15:40:40.293Z"
   },
   {
    "duration": 550,
    "start_time": "2024-07-17T15:40:40.308Z"
   },
   {
    "duration": 7,
    "start_time": "2024-07-17T15:40:40.860Z"
   },
   {
    "duration": 19,
    "start_time": "2024-07-17T15:40:40.868Z"
   },
   {
    "duration": 42,
    "start_time": "2024-07-17T15:40:40.888Z"
   },
   {
    "duration": 26,
    "start_time": "2024-07-17T15:40:40.932Z"
   },
   {
    "duration": 45,
    "start_time": "2024-07-17T15:40:40.959Z"
   },
   {
    "duration": 8,
    "start_time": "2024-07-17T15:40:41.006Z"
   },
   {
    "duration": 22,
    "start_time": "2024-07-17T15:40:41.015Z"
   },
   {
    "duration": 20,
    "start_time": "2024-07-17T15:40:41.038Z"
   },
   {
    "duration": 58,
    "start_time": "2024-07-17T15:40:41.060Z"
   },
   {
    "duration": 35,
    "start_time": "2024-07-17T15:40:41.120Z"
   },
   {
    "duration": 29,
    "start_time": "2024-07-17T15:40:41.157Z"
   },
   {
    "duration": 1053,
    "start_time": "2024-07-17T16:29:49.084Z"
   },
   {
    "duration": 66,
    "start_time": "2024-07-17T16:29:50.139Z"
   },
   {
    "duration": 12,
    "start_time": "2024-07-17T16:29:50.206Z"
   },
   {
    "duration": 11,
    "start_time": "2024-07-17T16:29:50.220Z"
   },
   {
    "duration": 8,
    "start_time": "2024-07-17T16:29:50.232Z"
   },
   {
    "duration": 13,
    "start_time": "2024-07-17T16:29:50.241Z"
   },
   {
    "duration": 10,
    "start_time": "2024-07-17T16:29:50.255Z"
   },
   {
    "duration": 14,
    "start_time": "2024-07-17T16:29:50.266Z"
   },
   {
    "duration": 11,
    "start_time": "2024-07-17T16:29:50.282Z"
   },
   {
    "duration": 20,
    "start_time": "2024-07-17T16:29:50.295Z"
   },
   {
    "duration": 11,
    "start_time": "2024-07-17T16:29:50.316Z"
   },
   {
    "duration": 6,
    "start_time": "2024-07-17T16:29:50.329Z"
   },
   {
    "duration": 26,
    "start_time": "2024-07-17T16:29:50.336Z"
   },
   {
    "duration": 218,
    "start_time": "2024-07-17T16:29:50.364Z"
   },
   {
    "duration": 242,
    "start_time": "2024-07-17T16:29:50.584Z"
   },
   {
    "duration": 255,
    "start_time": "2024-07-17T16:29:50.828Z"
   },
   {
    "duration": 15,
    "start_time": "2024-07-17T16:29:51.084Z"
   },
   {
    "duration": 24,
    "start_time": "2024-07-17T16:29:51.101Z"
   },
   {
    "duration": 12,
    "start_time": "2024-07-17T16:29:51.127Z"
   },
   {
    "duration": 13,
    "start_time": "2024-07-17T16:29:51.141Z"
   },
   {
    "duration": 13,
    "start_time": "2024-07-17T16:29:51.156Z"
   },
   {
    "duration": 15,
    "start_time": "2024-07-17T16:29:51.171Z"
   },
   {
    "duration": 13,
    "start_time": "2024-07-17T16:29:51.187Z"
   },
   {
    "duration": 21,
    "start_time": "2024-07-17T16:29:51.201Z"
   },
   {
    "duration": 29,
    "start_time": "2024-07-17T16:29:51.223Z"
   },
   {
    "duration": 24,
    "start_time": "2024-07-17T16:29:51.253Z"
   },
   {
    "duration": 32,
    "start_time": "2024-07-17T16:29:51.279Z"
   },
   {
    "duration": 32,
    "start_time": "2024-07-17T16:29:51.316Z"
   },
   {
    "duration": 6,
    "start_time": "2024-07-17T16:29:51.350Z"
   },
   {
    "duration": 10,
    "start_time": "2024-07-17T16:29:51.357Z"
   },
   {
    "duration": 14,
    "start_time": "2024-07-17T16:29:51.369Z"
   },
   {
    "duration": 174,
    "start_time": "2024-07-17T16:29:51.385Z"
   },
   {
    "duration": 12,
    "start_time": "2024-07-17T16:29:51.561Z"
   },
   {
    "duration": 146,
    "start_time": "2024-07-17T16:29:51.575Z"
   },
   {
    "duration": 348,
    "start_time": "2024-07-17T16:29:51.723Z"
   },
   {
    "duration": 8,
    "start_time": "2024-07-17T16:29:52.073Z"
   },
   {
    "duration": 29,
    "start_time": "2024-07-17T16:29:52.083Z"
   },
   {
    "duration": 929,
    "start_time": "2024-07-17T16:29:52.114Z"
   },
   {
    "duration": 9,
    "start_time": "2024-07-17T16:29:53.045Z"
   },
   {
    "duration": 329,
    "start_time": "2024-07-17T16:29:53.055Z"
   },
   {
    "duration": 20,
    "start_time": "2024-07-17T16:29:53.386Z"
   },
   {
    "duration": 13,
    "start_time": "2024-07-17T16:29:53.407Z"
   },
   {
    "duration": 12,
    "start_time": "2024-07-17T16:29:53.438Z"
   },
   {
    "duration": 15,
    "start_time": "2024-07-17T16:29:53.452Z"
   },
   {
    "duration": 10,
    "start_time": "2024-07-17T16:29:53.469Z"
   },
   {
    "duration": 26,
    "start_time": "2024-07-17T16:29:53.481Z"
   },
   {
    "duration": 34,
    "start_time": "2024-07-17T16:29:53.509Z"
   },
   {
    "duration": 537,
    "start_time": "2024-07-17T16:29:53.545Z"
   },
   {
    "duration": 8,
    "start_time": "2024-07-17T16:29:54.083Z"
   },
   {
    "duration": 6,
    "start_time": "2024-07-17T16:29:54.092Z"
   },
   {
    "duration": 6,
    "start_time": "2024-07-17T16:29:54.100Z"
   },
   {
    "duration": 7,
    "start_time": "2024-07-17T16:29:54.107Z"
   },
   {
    "duration": 36,
    "start_time": "2024-07-17T16:29:54.137Z"
   },
   {
    "duration": 80,
    "start_time": "2024-07-17T16:29:54.175Z"
   },
   {
    "duration": 22,
    "start_time": "2024-07-17T16:29:54.257Z"
   },
   {
    "duration": 6,
    "start_time": "2024-07-17T16:29:54.280Z"
   },
   {
    "duration": 19,
    "start_time": "2024-07-17T16:29:54.287Z"
   },
   {
    "duration": 6,
    "start_time": "2024-07-17T16:29:54.307Z"
   },
   {
    "duration": 6,
    "start_time": "2024-07-17T16:29:54.315Z"
   },
   {
    "duration": 47,
    "start_time": "2024-07-18T11:47:41.795Z"
   },
   {
    "duration": 65,
    "start_time": "2024-07-18T11:48:16.247Z"
   },
   {
    "duration": 63,
    "start_time": "2024-07-18T11:48:19.439Z"
   },
   {
    "duration": 576,
    "start_time": "2024-07-18T11:49:30.240Z"
   },
   {
    "duration": 69,
    "start_time": "2024-07-18T11:49:32.796Z"
   },
   {
    "duration": 22,
    "start_time": "2024-07-18T12:26:11.660Z"
   },
   {
    "duration": 61,
    "start_time": "2024-07-18T18:50:58.459Z"
   },
   {
    "duration": 8,
    "start_time": "2024-07-18T18:51:11.303Z"
   },
   {
    "duration": 7,
    "start_time": "2024-07-18T18:51:24.207Z"
   },
   {
    "duration": 66,
    "start_time": "2024-07-18T18:51:25.827Z"
   },
   {
    "duration": 66,
    "start_time": "2024-07-18T18:51:31.066Z"
   },
   {
    "duration": 7,
    "start_time": "2024-07-18T18:51:37.128Z"
   },
   {
    "duration": 48,
    "start_time": "2024-07-18T18:54:08.728Z"
   },
   {
    "duration": 10,
    "start_time": "2024-07-18T18:54:36.645Z"
   },
   {
    "duration": 9,
    "start_time": "2024-07-18T18:55:32.868Z"
   },
   {
    "duration": 1383,
    "start_time": "2024-07-18T19:10:13.311Z"
   },
   {
    "duration": 186,
    "start_time": "2024-07-18T19:11:21.669Z"
   },
   {
    "duration": 171,
    "start_time": "2024-07-18T19:11:40.426Z"
   },
   {
    "duration": 67,
    "start_time": "2024-07-21T17:50:35.612Z"
   },
   {
    "duration": 2244,
    "start_time": "2024-07-21T17:52:39.383Z"
   },
   {
    "duration": 65,
    "start_time": "2024-07-21T17:58:16.065Z"
   },
   {
    "duration": 12,
    "start_time": "2024-07-21T17:58:45.874Z"
   },
   {
    "duration": 10,
    "start_time": "2024-07-21T17:59:09.833Z"
   },
   {
    "duration": 1714,
    "start_time": "2024-07-21T18:01:06.304Z"
   },
   {
    "duration": 11,
    "start_time": "2024-07-21T18:17:53.760Z"
   },
   {
    "duration": 433,
    "start_time": "2024-07-21T18:18:14.867Z"
   },
   {
    "duration": 8,
    "start_time": "2024-07-21T18:18:28.551Z"
   },
   {
    "duration": 10,
    "start_time": "2024-07-21T18:19:48.336Z"
   },
   {
    "duration": 11,
    "start_time": "2024-07-21T18:20:26.447Z"
   },
   {
    "duration": 10,
    "start_time": "2024-07-21T18:21:08.166Z"
   },
   {
    "duration": 503,
    "start_time": "2024-07-21T18:23:39.439Z"
   },
   {
    "duration": 5,
    "start_time": "2024-07-21T18:25:00.568Z"
   },
   {
    "duration": 5,
    "start_time": "2024-07-21T18:37:45.519Z"
   },
   {
    "duration": 5,
    "start_time": "2024-07-21T18:37:49.767Z"
   },
   {
    "duration": 5,
    "start_time": "2024-07-21T18:47:30.239Z"
   },
   {
    "duration": 59,
    "start_time": "2024-07-22T03:16:50.078Z"
   },
   {
    "duration": 8,
    "start_time": "2024-07-22T03:17:07.277Z"
   },
   {
    "duration": 1359,
    "start_time": "2024-07-22T03:17:16.267Z"
   },
   {
    "duration": 306,
    "start_time": "2024-07-22T03:17:17.628Z"
   },
   {
    "duration": 13,
    "start_time": "2024-07-22T03:17:17.935Z"
   },
   {
    "duration": 11,
    "start_time": "2024-07-22T03:17:17.950Z"
   },
   {
    "duration": 8,
    "start_time": "2024-07-22T03:17:17.963Z"
   },
   {
    "duration": 30,
    "start_time": "2024-07-22T03:17:17.973Z"
   },
   {
    "duration": 7,
    "start_time": "2024-07-22T03:17:18.004Z"
   },
   {
    "duration": 10,
    "start_time": "2024-07-22T03:17:18.012Z"
   },
   {
    "duration": 12,
    "start_time": "2024-07-22T03:17:18.024Z"
   },
   {
    "duration": 8,
    "start_time": "2024-07-22T03:17:18.039Z"
   },
   {
    "duration": 10,
    "start_time": "2024-07-22T03:17:18.048Z"
   },
   {
    "duration": 6,
    "start_time": "2024-07-22T03:17:18.060Z"
   },
   {
    "duration": 38,
    "start_time": "2024-07-22T03:17:18.068Z"
   },
   {
    "duration": 245,
    "start_time": "2024-07-22T03:17:18.108Z"
   },
   {
    "duration": 267,
    "start_time": "2024-07-22T03:17:18.355Z"
   },
   {
    "duration": 279,
    "start_time": "2024-07-22T03:17:18.624Z"
   },
   {
    "duration": 16,
    "start_time": "2024-07-22T03:17:18.905Z"
   },
   {
    "duration": 56,
    "start_time": "2024-07-22T03:17:18.923Z"
   },
   {
    "duration": 6,
    "start_time": "2024-07-22T03:17:18.981Z"
   },
   {
    "duration": 12,
    "start_time": "2024-07-22T03:17:18.989Z"
   },
   {
    "duration": 5,
    "start_time": "2024-07-22T03:17:19.002Z"
   },
   {
    "duration": 5,
    "start_time": "2024-07-22T03:17:19.009Z"
   },
   {
    "duration": 7,
    "start_time": "2024-07-22T03:17:19.016Z"
   },
   {
    "duration": 5,
    "start_time": "2024-07-22T03:17:19.025Z"
   },
   {
    "duration": 7,
    "start_time": "2024-07-22T03:17:19.032Z"
   },
   {
    "duration": 5,
    "start_time": "2024-07-22T03:17:19.040Z"
   },
   {
    "duration": 8,
    "start_time": "2024-07-22T03:17:19.047Z"
   },
   {
    "duration": 48,
    "start_time": "2024-07-22T03:17:19.058Z"
   },
   {
    "duration": 5,
    "start_time": "2024-07-22T03:17:19.108Z"
   },
   {
    "duration": 4,
    "start_time": "2024-07-22T03:17:19.114Z"
   },
   {
    "duration": 15,
    "start_time": "2024-07-22T03:17:19.120Z"
   },
   {
    "duration": 200,
    "start_time": "2024-07-22T03:17:19.137Z"
   },
   {
    "duration": 13,
    "start_time": "2024-07-22T03:17:19.339Z"
   },
   {
    "duration": 166,
    "start_time": "2024-07-22T03:17:19.353Z"
   },
   {
    "duration": 388,
    "start_time": "2024-07-22T03:17:19.521Z"
   },
   {
    "duration": 8,
    "start_time": "2024-07-22T03:17:19.910Z"
   },
   {
    "duration": 8,
    "start_time": "2024-07-22T03:17:19.920Z"
   },
   {
    "duration": 1043,
    "start_time": "2024-07-22T03:17:19.929Z"
   },
   {
    "duration": 11,
    "start_time": "2024-07-22T03:17:20.974Z"
   },
   {
    "duration": 365,
    "start_time": "2024-07-22T03:17:20.987Z"
   },
   {
    "duration": 20,
    "start_time": "2024-07-22T03:17:21.354Z"
   },
   {
    "duration": 34,
    "start_time": "2024-07-22T03:17:21.376Z"
   },
   {
    "duration": 22,
    "start_time": "2024-07-22T03:17:21.411Z"
   },
   {
    "duration": 20,
    "start_time": "2024-07-22T03:17:21.434Z"
   },
   {
    "duration": 12,
    "start_time": "2024-07-22T03:17:21.456Z"
   },
   {
    "duration": 35,
    "start_time": "2024-07-22T03:17:21.470Z"
   },
   {
    "duration": 83,
    "start_time": "2024-07-22T03:17:21.506Z"
   },
   {
    "duration": 566,
    "start_time": "2024-07-22T03:17:21.590Z"
   },
   {
    "duration": 9,
    "start_time": "2024-07-22T03:17:22.158Z"
   },
   {
    "duration": 12,
    "start_time": "2024-07-22T03:17:22.169Z"
   },
   {
    "duration": 23,
    "start_time": "2024-07-22T03:17:22.183Z"
   },
   {
    "duration": 9,
    "start_time": "2024-07-22T03:17:22.209Z"
   },
   {
    "duration": 50,
    "start_time": "2024-07-22T03:17:22.219Z"
   },
   {
    "duration": 8,
    "start_time": "2024-07-22T03:17:22.271Z"
   },
   {
    "duration": 29,
    "start_time": "2024-07-22T03:17:22.280Z"
   },
   {
    "duration": 4,
    "start_time": "2024-07-22T03:17:22.310Z"
   },
   {
    "duration": 10,
    "start_time": "2024-07-22T03:17:22.316Z"
   },
   {
    "duration": 21,
    "start_time": "2024-07-22T03:17:22.328Z"
   },
   {
    "duration": 31,
    "start_time": "2024-07-22T03:17:22.351Z"
   },
   {
    "duration": 104,
    "start_time": "2024-07-22T03:17:22.383Z"
   },
   {
    "duration": 10,
    "start_time": "2024-07-22T03:18:05.240Z"
   },
   {
    "duration": 11,
    "start_time": "2024-07-22T03:18:42.064Z"
   },
   {
    "duration": 4,
    "start_time": "2024-07-22T03:33:06.719Z"
   },
   {
    "duration": 4,
    "start_time": "2024-07-22T03:33:07.127Z"
   },
   {
    "duration": 79,
    "start_time": "2024-07-22T03:36:50.183Z"
   },
   {
    "duration": 73,
    "start_time": "2024-07-22T03:37:03.896Z"
   },
   {
    "duration": 57,
    "start_time": "2024-07-22T03:37:22.130Z"
   },
   {
    "duration": 57,
    "start_time": "2024-07-22T03:37:36.673Z"
   },
   {
    "duration": 123,
    "start_time": "2024-07-22T03:38:03.045Z"
   },
   {
    "duration": 76,
    "start_time": "2024-07-22T03:38:21.640Z"
   },
   {
    "duration": 63,
    "start_time": "2024-07-22T03:38:32.246Z"
   },
   {
    "duration": 9,
    "start_time": "2024-07-22T03:56:35.356Z"
   },
   {
    "duration": 10,
    "start_time": "2024-07-22T05:30:06.211Z"
   },
   {
    "duration": 14,
    "start_time": "2024-07-22T05:30:10.703Z"
   },
   {
    "duration": 7,
    "start_time": "2024-07-22T05:30:25.999Z"
   },
   {
    "duration": 10,
    "start_time": "2024-07-22T05:30:33.402Z"
   },
   {
    "duration": 1166,
    "start_time": "2024-07-22T06:16:37.432Z"
   },
   {
    "duration": 73,
    "start_time": "2024-07-22T06:16:38.600Z"
   },
   {
    "duration": 11,
    "start_time": "2024-07-22T06:16:38.674Z"
   },
   {
    "duration": 11,
    "start_time": "2024-07-22T06:16:38.688Z"
   },
   {
    "duration": 6,
    "start_time": "2024-07-22T06:16:38.701Z"
   },
   {
    "duration": 4,
    "start_time": "2024-07-22T06:16:38.708Z"
   },
   {
    "duration": 9,
    "start_time": "2024-07-22T06:16:38.713Z"
   },
   {
    "duration": 8,
    "start_time": "2024-07-22T06:16:38.723Z"
   },
   {
    "duration": 14,
    "start_time": "2024-07-22T06:16:38.733Z"
   },
   {
    "duration": 7,
    "start_time": "2024-07-22T06:16:38.750Z"
   },
   {
    "duration": 8,
    "start_time": "2024-07-22T06:16:38.759Z"
   },
   {
    "duration": 7,
    "start_time": "2024-07-22T06:16:38.769Z"
   },
   {
    "duration": 13,
    "start_time": "2024-07-22T06:16:38.806Z"
   },
   {
    "duration": 237,
    "start_time": "2024-07-22T06:16:38.820Z"
   },
   {
    "duration": 273,
    "start_time": "2024-07-22T06:16:39.059Z"
   },
   {
    "duration": 254,
    "start_time": "2024-07-22T06:16:39.333Z"
   },
   {
    "duration": 19,
    "start_time": "2024-07-22T06:16:39.589Z"
   },
   {
    "duration": 12,
    "start_time": "2024-07-22T06:16:39.610Z"
   },
   {
    "duration": 4,
    "start_time": "2024-07-22T06:16:39.624Z"
   },
   {
    "duration": 13,
    "start_time": "2024-07-22T06:16:39.629Z"
   },
   {
    "duration": 6,
    "start_time": "2024-07-22T06:16:39.643Z"
   },
   {
    "duration": 9,
    "start_time": "2024-07-22T06:16:39.650Z"
   },
   {
    "duration": 14,
    "start_time": "2024-07-22T06:16:39.660Z"
   },
   {
    "duration": 5,
    "start_time": "2024-07-22T06:16:39.675Z"
   },
   {
    "duration": 6,
    "start_time": "2024-07-22T06:16:39.706Z"
   },
   {
    "duration": 5,
    "start_time": "2024-07-22T06:16:39.714Z"
   },
   {
    "duration": 15,
    "start_time": "2024-07-22T06:16:39.720Z"
   },
   {
    "duration": 14,
    "start_time": "2024-07-22T06:16:39.741Z"
   },
   {
    "duration": 5,
    "start_time": "2024-07-22T06:16:39.757Z"
   },
   {
    "duration": 3,
    "start_time": "2024-07-22T06:16:39.764Z"
   },
   {
    "duration": 49,
    "start_time": "2024-07-22T06:16:39.769Z"
   },
   {
    "duration": 187,
    "start_time": "2024-07-22T06:16:39.820Z"
   },
   {
    "duration": 13,
    "start_time": "2024-07-22T06:16:40.008Z"
   },
   {
    "duration": 222,
    "start_time": "2024-07-22T06:16:40.022Z"
   },
   {
    "duration": 7,
    "start_time": "2024-07-22T06:16:40.245Z"
   },
   {
    "duration": 377,
    "start_time": "2024-07-22T06:16:40.253Z"
   },
   {
    "duration": 9,
    "start_time": "2024-07-22T06:16:40.631Z"
   },
   {
    "duration": 15,
    "start_time": "2024-07-22T06:16:40.641Z"
   },
   {
    "duration": 1007,
    "start_time": "2024-07-22T06:16:40.658Z"
   },
   {
    "duration": 7,
    "start_time": "2024-07-22T06:16:41.667Z"
   },
   {
    "duration": 354,
    "start_time": "2024-07-22T06:16:41.676Z"
   },
   {
    "duration": 19,
    "start_time": "2024-07-22T06:16:42.032Z"
   },
   {
    "duration": 48,
    "start_time": "2024-07-22T06:16:42.053Z"
   },
   {
    "duration": 11,
    "start_time": "2024-07-22T06:16:42.103Z"
   },
   {
    "duration": 15,
    "start_time": "2024-07-22T06:16:42.115Z"
   },
   {
    "duration": 12,
    "start_time": "2024-07-22T06:16:42.131Z"
   },
   {
    "duration": 13,
    "start_time": "2024-07-22T06:16:42.145Z"
   },
   {
    "duration": 11,
    "start_time": "2024-07-22T06:16:42.159Z"
   },
   {
    "duration": 580,
    "start_time": "2024-07-22T06:16:42.172Z"
   },
   {
    "duration": 9,
    "start_time": "2024-07-22T06:16:42.753Z"
   },
   {
    "duration": 9,
    "start_time": "2024-07-22T06:16:42.764Z"
   },
   {
    "duration": 34,
    "start_time": "2024-07-22T06:16:42.774Z"
   },
   {
    "duration": 9,
    "start_time": "2024-07-22T06:16:42.809Z"
   },
   {
    "duration": 48,
    "start_time": "2024-07-22T06:16:42.819Z"
   },
   {
    "duration": 36,
    "start_time": "2024-07-22T06:16:42.869Z"
   },
   {
    "duration": 25,
    "start_time": "2024-07-22T06:16:42.907Z"
   },
   {
    "duration": 11,
    "start_time": "2024-07-22T06:16:42.935Z"
   },
   {
    "duration": 30,
    "start_time": "2024-07-22T06:16:42.947Z"
   },
   {
    "duration": 6,
    "start_time": "2024-07-22T06:16:42.979Z"
   },
   {
    "duration": 10,
    "start_time": "2024-07-22T06:16:42.987Z"
   },
   {
    "duration": 1128,
    "start_time": "2024-07-22T06:31:47.415Z"
   },
   {
    "duration": 67,
    "start_time": "2024-07-22T06:31:48.544Z"
   },
   {
    "duration": 11,
    "start_time": "2024-07-22T06:31:48.612Z"
   },
   {
    "duration": 10,
    "start_time": "2024-07-22T06:31:48.624Z"
   },
   {
    "duration": 8,
    "start_time": "2024-07-22T06:31:48.636Z"
   },
   {
    "duration": 4,
    "start_time": "2024-07-22T06:31:48.645Z"
   },
   {
    "duration": 8,
    "start_time": "2024-07-22T06:31:48.650Z"
   },
   {
    "duration": 28,
    "start_time": "2024-07-22T06:31:48.659Z"
   },
   {
    "duration": 39,
    "start_time": "2024-07-22T06:31:48.688Z"
   },
   {
    "duration": 32,
    "start_time": "2024-07-22T06:31:48.729Z"
   },
   {
    "duration": 5,
    "start_time": "2024-07-22T06:31:48.763Z"
   },
   {
    "duration": 8,
    "start_time": "2024-07-22T06:31:48.770Z"
   },
   {
    "duration": 11,
    "start_time": "2024-07-22T06:31:48.779Z"
   },
   {
    "duration": 195,
    "start_time": "2024-07-22T06:31:48.793Z"
   },
   {
    "duration": 233,
    "start_time": "2024-07-22T06:31:48.990Z"
   },
   {
    "duration": 236,
    "start_time": "2024-07-22T06:31:49.225Z"
   },
   {
    "duration": 15,
    "start_time": "2024-07-22T06:31:49.462Z"
   },
   {
    "duration": 10,
    "start_time": "2024-07-22T06:31:49.479Z"
   },
   {
    "duration": 3,
    "start_time": "2024-07-22T06:31:49.491Z"
   },
   {
    "duration": 3,
    "start_time": "2024-07-22T06:31:49.496Z"
   },
   {
    "duration": 37,
    "start_time": "2024-07-22T06:31:49.501Z"
   },
   {
    "duration": 9,
    "start_time": "2024-07-22T06:31:49.540Z"
   },
   {
    "duration": 13,
    "start_time": "2024-07-22T06:31:49.550Z"
   },
   {
    "duration": 6,
    "start_time": "2024-07-22T06:31:49.564Z"
   },
   {
    "duration": 22,
    "start_time": "2024-07-22T06:31:49.571Z"
   },
   {
    "duration": 5,
    "start_time": "2024-07-22T06:31:49.595Z"
   },
   {
    "duration": 12,
    "start_time": "2024-07-22T06:31:49.602Z"
   },
   {
    "duration": 10,
    "start_time": "2024-07-22T06:31:49.615Z"
   },
   {
    "duration": 5,
    "start_time": "2024-07-22T06:31:49.627Z"
   },
   {
    "duration": 17,
    "start_time": "2024-07-22T06:31:49.634Z"
   },
   {
    "duration": 19,
    "start_time": "2024-07-22T06:31:49.652Z"
   },
   {
    "duration": 168,
    "start_time": "2024-07-22T06:31:49.672Z"
   },
   {
    "duration": 15,
    "start_time": "2024-07-22T06:31:49.843Z"
   },
   {
    "duration": 157,
    "start_time": "2024-07-22T06:31:49.860Z"
   },
   {
    "duration": 6,
    "start_time": "2024-07-22T06:31:50.019Z"
   },
   {
    "duration": 344,
    "start_time": "2024-07-22T06:31:50.037Z"
   },
   {
    "duration": 8,
    "start_time": "2024-07-22T06:31:50.383Z"
   },
   {
    "duration": 60,
    "start_time": "2024-07-22T06:31:50.392Z"
   },
   {
    "duration": 985,
    "start_time": "2024-07-22T06:31:50.454Z"
   },
   {
    "duration": 9,
    "start_time": "2024-07-22T06:31:51.440Z"
   },
   {
    "duration": 354,
    "start_time": "2024-07-22T06:31:51.454Z"
   },
   {
    "duration": 19,
    "start_time": "2024-07-22T06:31:51.810Z"
   },
   {
    "duration": 13,
    "start_time": "2024-07-22T06:31:51.838Z"
   },
   {
    "duration": 11,
    "start_time": "2024-07-22T06:31:51.853Z"
   },
   {
    "duration": 14,
    "start_time": "2024-07-22T06:31:51.866Z"
   },
   {
    "duration": 12,
    "start_time": "2024-07-22T06:31:51.882Z"
   },
   {
    "duration": 44,
    "start_time": "2024-07-22T06:31:51.895Z"
   },
   {
    "duration": 12,
    "start_time": "2024-07-22T06:31:51.940Z"
   },
   {
    "duration": 516,
    "start_time": "2024-07-22T06:31:51.953Z"
   },
   {
    "duration": 7,
    "start_time": "2024-07-22T06:31:52.470Z"
   },
   {
    "duration": 79,
    "start_time": "2024-07-22T06:31:52.478Z"
   },
   {
    "duration": 10,
    "start_time": "2024-07-22T06:31:52.558Z"
   },
   {
    "duration": 15,
    "start_time": "2024-07-22T06:31:52.569Z"
   },
   {
    "duration": 44,
    "start_time": "2024-07-22T06:31:52.586Z"
   },
   {
    "duration": 8,
    "start_time": "2024-07-22T06:31:52.632Z"
   },
   {
    "duration": 22,
    "start_time": "2024-07-22T06:31:52.641Z"
   },
   {
    "duration": 4,
    "start_time": "2024-07-22T06:31:52.665Z"
   },
   {
    "duration": 6,
    "start_time": "2024-07-22T06:31:52.670Z"
   },
   {
    "duration": 11,
    "start_time": "2024-07-22T06:31:52.677Z"
   },
   {
    "duration": 105,
    "start_time": "2024-07-22T06:31:52.689Z"
   },
   {
    "duration": 50,
    "start_time": "2024-07-22T16:42:05.766Z"
   },
   {
    "duration": 7,
    "start_time": "2024-07-22T16:42:21.205Z"
   },
   {
    "duration": 6,
    "start_time": "2024-07-22T16:43:15.301Z"
   },
   {
    "duration": 6,
    "start_time": "2024-07-22T16:43:44.164Z"
   },
   {
    "duration": 6,
    "start_time": "2024-07-22T16:44:39.558Z"
   },
   {
    "duration": 1338,
    "start_time": "2024-07-22T16:44:50.912Z"
   },
   {
    "duration": 408,
    "start_time": "2024-07-22T16:44:52.253Z"
   },
   {
    "duration": 12,
    "start_time": "2024-07-22T16:44:52.662Z"
   },
   {
    "duration": 18,
    "start_time": "2024-07-22T16:44:52.676Z"
   },
   {
    "duration": 12,
    "start_time": "2024-07-22T16:44:52.696Z"
   },
   {
    "duration": 4,
    "start_time": "2024-07-22T16:44:52.710Z"
   },
   {
    "duration": 6,
    "start_time": "2024-07-22T16:44:52.716Z"
   },
   {
    "duration": 11,
    "start_time": "2024-07-22T16:44:52.724Z"
   },
   {
    "duration": 33,
    "start_time": "2024-07-22T16:44:52.737Z"
   },
   {
    "duration": 28,
    "start_time": "2024-07-22T16:44:52.771Z"
   },
   {
    "duration": 7,
    "start_time": "2024-07-22T16:44:52.800Z"
   },
   {
    "duration": 9,
    "start_time": "2024-07-22T16:44:52.808Z"
   },
   {
    "duration": 18,
    "start_time": "2024-07-22T16:44:52.819Z"
   },
   {
    "duration": 240,
    "start_time": "2024-07-22T16:44:52.841Z"
   },
   {
    "duration": 262,
    "start_time": "2024-07-22T16:44:53.083Z"
   },
   {
    "duration": 255,
    "start_time": "2024-07-22T16:44:53.347Z"
   },
   {
    "duration": 15,
    "start_time": "2024-07-22T16:44:53.603Z"
   },
   {
    "duration": 14,
    "start_time": "2024-07-22T16:44:53.620Z"
   },
   {
    "duration": 119,
    "start_time": "2024-07-22T16:44:53.636Z"
   },
   {
    "duration": 0,
    "start_time": "2024-07-22T16:44:53.757Z"
   },
   {
    "duration": 0,
    "start_time": "2024-07-22T16:44:53.759Z"
   },
   {
    "duration": 0,
    "start_time": "2024-07-22T16:44:53.761Z"
   },
   {
    "duration": 0,
    "start_time": "2024-07-22T16:44:53.762Z"
   },
   {
    "duration": 0,
    "start_time": "2024-07-22T16:44:53.763Z"
   },
   {
    "duration": 0,
    "start_time": "2024-07-22T16:44:53.765Z"
   },
   {
    "duration": 0,
    "start_time": "2024-07-22T16:44:53.766Z"
   },
   {
    "duration": 0,
    "start_time": "2024-07-22T16:44:53.767Z"
   },
   {
    "duration": 0,
    "start_time": "2024-07-22T16:44:53.769Z"
   },
   {
    "duration": 0,
    "start_time": "2024-07-22T16:44:53.770Z"
   },
   {
    "duration": 0,
    "start_time": "2024-07-22T16:44:53.772Z"
   },
   {
    "duration": 0,
    "start_time": "2024-07-22T16:44:53.773Z"
   },
   {
    "duration": 0,
    "start_time": "2024-07-22T16:44:53.774Z"
   },
   {
    "duration": 0,
    "start_time": "2024-07-22T16:44:53.776Z"
   },
   {
    "duration": 0,
    "start_time": "2024-07-22T16:44:53.777Z"
   },
   {
    "duration": 0,
    "start_time": "2024-07-22T16:44:53.808Z"
   },
   {
    "duration": 0,
    "start_time": "2024-07-22T16:44:53.810Z"
   },
   {
    "duration": 0,
    "start_time": "2024-07-22T16:44:53.811Z"
   },
   {
    "duration": 0,
    "start_time": "2024-07-22T16:44:53.812Z"
   },
   {
    "duration": 0,
    "start_time": "2024-07-22T16:44:53.813Z"
   },
   {
    "duration": 0,
    "start_time": "2024-07-22T16:44:53.814Z"
   },
   {
    "duration": 0,
    "start_time": "2024-07-22T16:44:53.815Z"
   },
   {
    "duration": 0,
    "start_time": "2024-07-22T16:44:53.816Z"
   },
   {
    "duration": 0,
    "start_time": "2024-07-22T16:44:53.817Z"
   },
   {
    "duration": 0,
    "start_time": "2024-07-22T16:44:53.818Z"
   },
   {
    "duration": 0,
    "start_time": "2024-07-22T16:44:53.819Z"
   },
   {
    "duration": 0,
    "start_time": "2024-07-22T16:44:53.820Z"
   },
   {
    "duration": 0,
    "start_time": "2024-07-22T16:44:53.821Z"
   },
   {
    "duration": 0,
    "start_time": "2024-07-22T16:44:53.822Z"
   },
   {
    "duration": 0,
    "start_time": "2024-07-22T16:44:53.823Z"
   },
   {
    "duration": 0,
    "start_time": "2024-07-22T16:44:53.824Z"
   },
   {
    "duration": 0,
    "start_time": "2024-07-22T16:44:53.825Z"
   },
   {
    "duration": 0,
    "start_time": "2024-07-22T16:44:53.826Z"
   },
   {
    "duration": 0,
    "start_time": "2024-07-22T16:44:53.827Z"
   },
   {
    "duration": 0,
    "start_time": "2024-07-22T16:44:53.828Z"
   },
   {
    "duration": 0,
    "start_time": "2024-07-22T16:44:53.829Z"
   },
   {
    "duration": 0,
    "start_time": "2024-07-22T16:44:53.830Z"
   },
   {
    "duration": 0,
    "start_time": "2024-07-22T16:44:53.831Z"
   },
   {
    "duration": 0,
    "start_time": "2024-07-22T16:44:53.832Z"
   },
   {
    "duration": 0,
    "start_time": "2024-07-22T16:44:53.833Z"
   },
   {
    "duration": 0,
    "start_time": "2024-07-22T16:44:53.834Z"
   },
   {
    "duration": 0,
    "start_time": "2024-07-22T16:44:53.835Z"
   },
   {
    "duration": 238,
    "start_time": "2024-07-22T16:46:05.997Z"
   },
   {
    "duration": 4,
    "start_time": "2024-07-22T16:46:55.636Z"
   },
   {
    "duration": 5,
    "start_time": "2024-07-22T16:50:18.660Z"
   },
   {
    "duration": 4,
    "start_time": "2024-07-22T16:50:20.693Z"
   },
   {
    "duration": 5,
    "start_time": "2024-07-22T16:50:22.959Z"
   },
   {
    "duration": 5,
    "start_time": "2024-07-22T16:50:25.227Z"
   },
   {
    "duration": 4,
    "start_time": "2024-07-22T16:50:28.723Z"
   },
   {
    "duration": 4,
    "start_time": "2024-07-22T16:50:31.496Z"
   },
   {
    "duration": 5,
    "start_time": "2024-07-22T16:50:53.536Z"
   },
   {
    "duration": 5,
    "start_time": "2024-07-22T16:50:56.467Z"
   },
   {
    "duration": 5,
    "start_time": "2024-07-22T16:50:59.562Z"
   },
   {
    "duration": 7,
    "start_time": "2024-07-22T16:51:03.206Z"
   },
   {
    "duration": 5,
    "start_time": "2024-07-22T16:51:18.476Z"
   },
   {
    "duration": 10,
    "start_time": "2024-07-22T16:51:21.899Z"
   },
   {
    "duration": 16,
    "start_time": "2024-07-22T17:12:29.274Z"
   },
   {
    "duration": 4,
    "start_time": "2024-07-22T17:24:11.997Z"
   },
   {
    "duration": 12,
    "start_time": "2024-07-22T17:24:42.537Z"
   },
   {
    "duration": 10,
    "start_time": "2024-07-22T17:25:37.617Z"
   },
   {
    "duration": 10,
    "start_time": "2024-07-22T17:33:16.504Z"
   },
   {
    "duration": 9,
    "start_time": "2024-07-22T17:33:26.840Z"
   },
   {
    "duration": 5,
    "start_time": "2024-07-22T17:33:40.574Z"
   },
   {
    "duration": 3,
    "start_time": "2024-07-22T17:40:55.138Z"
   },
   {
    "duration": 12,
    "start_time": "2024-07-22T17:43:38.396Z"
   },
   {
    "duration": 5,
    "start_time": "2024-07-22T17:56:37.303Z"
   },
   {
    "duration": 16,
    "start_time": "2024-07-22T17:56:39.414Z"
   },
   {
    "duration": 3,
    "start_time": "2024-07-22T17:56:44.991Z"
   },
   {
    "duration": 9,
    "start_time": "2024-07-22T17:57:07.265Z"
   },
   {
    "duration": 8,
    "start_time": "2024-07-22T17:57:13.472Z"
   },
   {
    "duration": 9,
    "start_time": "2024-07-22T17:57:17.350Z"
   },
   {
    "duration": 8,
    "start_time": "2024-07-22T17:57:19.561Z"
   },
   {
    "duration": 3,
    "start_time": "2024-07-22T17:57:36.410Z"
   },
   {
    "duration": 16,
    "start_time": "2024-07-22T17:59:40.167Z"
   },
   {
    "duration": 2,
    "start_time": "2024-07-22T18:00:00.316Z"
   },
   {
    "duration": 17,
    "start_time": "2024-07-22T18:02:34.414Z"
   },
   {
    "duration": 1212,
    "start_time": "2024-07-22T18:04:16.632Z"
   },
   {
    "duration": 82,
    "start_time": "2024-07-22T18:04:17.845Z"
   },
   {
    "duration": 12,
    "start_time": "2024-07-22T18:04:17.929Z"
   },
   {
    "duration": 11,
    "start_time": "2024-07-22T18:04:17.943Z"
   },
   {
    "duration": 14,
    "start_time": "2024-07-22T18:04:17.956Z"
   },
   {
    "duration": 4,
    "start_time": "2024-07-22T18:04:17.972Z"
   },
   {
    "duration": 6,
    "start_time": "2024-07-22T18:04:17.977Z"
   },
   {
    "duration": 8,
    "start_time": "2024-07-22T18:04:17.984Z"
   },
   {
    "duration": 19,
    "start_time": "2024-07-22T18:04:17.994Z"
   },
   {
    "duration": 9,
    "start_time": "2024-07-22T18:04:18.015Z"
   },
   {
    "duration": 6,
    "start_time": "2024-07-22T18:04:18.025Z"
   },
   {
    "duration": 6,
    "start_time": "2024-07-22T18:04:18.033Z"
   },
   {
    "duration": 13,
    "start_time": "2024-07-22T18:04:18.041Z"
   },
   {
    "duration": 248,
    "start_time": "2024-07-22T18:04:18.055Z"
   },
   {
    "duration": 268,
    "start_time": "2024-07-22T18:04:18.307Z"
   },
   {
    "duration": 260,
    "start_time": "2024-07-22T18:04:18.577Z"
   },
   {
    "duration": 15,
    "start_time": "2024-07-22T18:04:18.839Z"
   },
   {
    "duration": 27,
    "start_time": "2024-07-22T18:04:18.856Z"
   },
   {
    "duration": 255,
    "start_time": "2024-07-22T18:04:18.885Z"
   },
   {
    "duration": 5,
    "start_time": "2024-07-22T18:04:19.142Z"
   },
   {
    "duration": 31,
    "start_time": "2024-07-22T18:04:19.149Z"
   },
   {
    "duration": 5,
    "start_time": "2024-07-22T18:04:19.182Z"
   },
   {
    "duration": 5,
    "start_time": "2024-07-22T18:04:19.189Z"
   },
   {
    "duration": 15,
    "start_time": "2024-07-22T18:04:19.196Z"
   },
   {
    "duration": 7,
    "start_time": "2024-07-22T18:04:19.213Z"
   },
   {
    "duration": 5,
    "start_time": "2024-07-22T18:04:19.221Z"
   },
   {
    "duration": 7,
    "start_time": "2024-07-22T18:04:19.228Z"
   },
   {
    "duration": 5,
    "start_time": "2024-07-22T18:04:19.240Z"
   },
   {
    "duration": 8,
    "start_time": "2024-07-22T18:04:19.247Z"
   },
   {
    "duration": 13,
    "start_time": "2024-07-22T18:04:19.257Z"
   },
   {
    "duration": 3,
    "start_time": "2024-07-22T18:04:19.308Z"
   },
   {
    "duration": 5,
    "start_time": "2024-07-22T18:04:19.312Z"
   },
   {
    "duration": 106,
    "start_time": "2024-07-22T18:04:19.318Z"
   },
   {
    "duration": 169,
    "start_time": "2024-07-22T18:04:19.425Z"
   },
   {
    "duration": 16,
    "start_time": "2024-07-22T18:04:19.596Z"
   },
   {
    "duration": 154,
    "start_time": "2024-07-22T18:04:19.613Z"
   },
   {
    "duration": 6,
    "start_time": "2024-07-22T18:04:19.769Z"
   },
   {
    "duration": 303,
    "start_time": "2024-07-22T18:04:19.777Z"
   },
   {
    "duration": 7,
    "start_time": "2024-07-22T18:04:20.082Z"
   },
   {
    "duration": 20,
    "start_time": "2024-07-22T18:04:20.091Z"
   },
   {
    "duration": 1064,
    "start_time": "2024-07-22T18:04:20.113Z"
   },
   {
    "duration": 9,
    "start_time": "2024-07-22T18:04:21.179Z"
   },
   {
    "duration": 266,
    "start_time": "2024-07-22T18:04:21.189Z"
   },
   {
    "duration": 22,
    "start_time": "2024-07-22T18:04:21.456Z"
   },
   {
    "duration": 32,
    "start_time": "2024-07-22T18:04:21.479Z"
   },
   {
    "duration": 14,
    "start_time": "2024-07-22T18:04:21.512Z"
   },
   {
    "duration": 16,
    "start_time": "2024-07-22T18:04:21.527Z"
   },
   {
    "duration": 13,
    "start_time": "2024-07-22T18:04:21.545Z"
   },
   {
    "duration": 14,
    "start_time": "2024-07-22T18:04:21.559Z"
   },
   {
    "duration": 13,
    "start_time": "2024-07-22T18:04:21.607Z"
   },
   {
    "duration": 574,
    "start_time": "2024-07-22T18:04:21.621Z"
   },
   {
    "duration": 16,
    "start_time": "2024-07-22T18:04:22.197Z"
   },
   {
    "duration": 8,
    "start_time": "2024-07-22T18:04:22.214Z"
   },
   {
    "duration": 25,
    "start_time": "2024-07-22T18:04:22.223Z"
   },
   {
    "duration": 7,
    "start_time": "2024-07-22T18:04:22.250Z"
   },
   {
    "duration": 57,
    "start_time": "2024-07-22T18:04:22.258Z"
   },
   {
    "duration": 9,
    "start_time": "2024-07-22T18:04:22.317Z"
   },
   {
    "duration": 23,
    "start_time": "2024-07-22T18:04:22.328Z"
   },
   {
    "duration": 3,
    "start_time": "2024-07-22T18:04:22.353Z"
   },
   {
    "duration": 9,
    "start_time": "2024-07-22T18:04:22.358Z"
   },
   {
    "duration": 5,
    "start_time": "2024-07-22T18:04:22.368Z"
   },
   {
    "duration": 36,
    "start_time": "2024-07-22T18:04:22.374Z"
   },
   {
    "duration": 5,
    "start_time": "2024-07-22T18:05:18.840Z"
   },
   {
    "duration": 18,
    "start_time": "2024-07-22T18:05:22.259Z"
   },
   {
    "duration": 430,
    "start_time": "2024-07-22T18:15:51.724Z"
   },
   {
    "duration": 557,
    "start_time": "2024-07-22T18:17:03.563Z"
   },
   {
    "duration": 423,
    "start_time": "2024-07-22T18:17:11.017Z"
   },
   {
    "duration": 361,
    "start_time": "2024-07-22T18:17:50.638Z"
   },
   {
    "duration": 333,
    "start_time": "2024-07-22T18:19:22.567Z"
   },
   {
    "duration": 1169,
    "start_time": "2024-07-22T18:23:44.089Z"
   },
   {
    "duration": 1162,
    "start_time": "2024-07-22T18:23:58.393Z"
   },
   {
    "duration": 1190,
    "start_time": "2024-07-22T18:24:16.143Z"
   },
   {
    "duration": 1220,
    "start_time": "2024-07-22T18:24:32.843Z"
   },
   {
    "duration": 1198,
    "start_time": "2024-07-22T18:27:24.379Z"
   },
   {
    "duration": 1072,
    "start_time": "2024-07-22T18:27:39.416Z"
   },
   {
    "duration": 9,
    "start_time": "2024-07-22T18:37:43.335Z"
   },
   {
    "duration": 11,
    "start_time": "2024-07-22T18:37:54.931Z"
   },
   {
    "duration": 10,
    "start_time": "2024-07-22T18:37:59.455Z"
   },
   {
    "duration": 10,
    "start_time": "2024-07-22T18:38:05.565Z"
   },
   {
    "duration": 5,
    "start_time": "2024-07-22T18:54:28.461Z"
   },
   {
    "duration": 4,
    "start_time": "2024-07-22T18:55:13.904Z"
   },
   {
    "duration": 5,
    "start_time": "2024-07-22T18:55:22.897Z"
   },
   {
    "duration": 16,
    "start_time": "2024-07-22T18:56:01.001Z"
   },
   {
    "duration": 7,
    "start_time": "2024-07-22T18:59:52.752Z"
   },
   {
    "duration": 15,
    "start_time": "2024-07-22T19:00:13.913Z"
   },
   {
    "duration": 12,
    "start_time": "2024-07-22T19:13:03.537Z"
   },
   {
    "duration": 46,
    "start_time": "2024-07-22T19:14:25.612Z"
   },
   {
    "duration": 10,
    "start_time": "2024-07-22T19:14:51.321Z"
   },
   {
    "duration": 45,
    "start_time": "2024-07-22T19:15:10.695Z"
   },
   {
    "duration": 1189,
    "start_time": "2024-07-22T19:15:41.188Z"
   },
   {
    "duration": 81,
    "start_time": "2024-07-22T19:15:42.378Z"
   },
   {
    "duration": 11,
    "start_time": "2024-07-22T19:15:42.461Z"
   },
   {
    "duration": 12,
    "start_time": "2024-07-22T19:15:42.473Z"
   },
   {
    "duration": 6,
    "start_time": "2024-07-22T19:15:42.486Z"
   },
   {
    "duration": 5,
    "start_time": "2024-07-22T19:15:42.493Z"
   },
   {
    "duration": 6,
    "start_time": "2024-07-22T19:15:42.499Z"
   },
   {
    "duration": 9,
    "start_time": "2024-07-22T19:15:42.507Z"
   },
   {
    "duration": 11,
    "start_time": "2024-07-22T19:15:42.517Z"
   },
   {
    "duration": 8,
    "start_time": "2024-07-22T19:15:42.530Z"
   },
   {
    "duration": 7,
    "start_time": "2024-07-22T19:15:42.539Z"
   },
   {
    "duration": 7,
    "start_time": "2024-07-22T19:15:42.547Z"
   },
   {
    "duration": 10,
    "start_time": "2024-07-22T19:15:42.555Z"
   },
   {
    "duration": 259,
    "start_time": "2024-07-22T19:15:42.566Z"
   },
   {
    "duration": 276,
    "start_time": "2024-07-22T19:15:42.826Z"
   },
   {
    "duration": 256,
    "start_time": "2024-07-22T19:15:43.107Z"
   },
   {
    "duration": 14,
    "start_time": "2024-07-22T19:15:43.365Z"
   },
   {
    "duration": 27,
    "start_time": "2024-07-22T19:15:43.381Z"
   },
   {
    "duration": 245,
    "start_time": "2024-07-22T19:15:43.410Z"
   },
   {
    "duration": 4,
    "start_time": "2024-07-22T19:15:43.657Z"
   },
   {
    "duration": 6,
    "start_time": "2024-07-22T19:15:43.662Z"
   },
   {
    "duration": 4,
    "start_time": "2024-07-22T19:15:43.670Z"
   },
   {
    "duration": 5,
    "start_time": "2024-07-22T19:15:43.675Z"
   },
   {
    "duration": 5,
    "start_time": "2024-07-22T19:15:43.708Z"
   },
   {
    "duration": 14,
    "start_time": "2024-07-22T19:15:43.714Z"
   },
   {
    "duration": 11,
    "start_time": "2024-07-22T19:15:43.729Z"
   },
   {
    "duration": 8,
    "start_time": "2024-07-22T19:15:43.741Z"
   },
   {
    "duration": 5,
    "start_time": "2024-07-22T19:15:43.753Z"
   },
   {
    "duration": 19,
    "start_time": "2024-07-22T19:15:43.759Z"
   },
   {
    "duration": 17,
    "start_time": "2024-07-22T19:15:43.780Z"
   },
   {
    "duration": 14,
    "start_time": "2024-07-22T19:15:43.798Z"
   },
   {
    "duration": 4,
    "start_time": "2024-07-22T19:15:43.814Z"
   },
   {
    "duration": 104,
    "start_time": "2024-07-22T19:15:43.819Z"
   },
   {
    "duration": 163,
    "start_time": "2024-07-22T19:15:43.925Z"
   },
   {
    "duration": 17,
    "start_time": "2024-07-22T19:15:44.090Z"
   },
   {
    "duration": 145,
    "start_time": "2024-07-22T19:15:44.108Z"
   },
   {
    "duration": 6,
    "start_time": "2024-07-22T19:15:44.255Z"
   },
   {
    "duration": 304,
    "start_time": "2024-07-22T19:15:44.262Z"
   },
   {
    "duration": 7,
    "start_time": "2024-07-22T19:15:44.568Z"
   },
   {
    "duration": 10,
    "start_time": "2024-07-22T19:15:44.577Z"
   },
   {
    "duration": 1051,
    "start_time": "2024-07-22T19:15:44.588Z"
   },
   {
    "duration": 8,
    "start_time": "2024-07-22T19:15:45.641Z"
   },
   {
    "duration": 337,
    "start_time": "2024-07-22T19:15:45.650Z"
   },
   {
    "duration": 3,
    "start_time": "2024-07-22T19:15:45.989Z"
   },
   {
    "duration": 15,
    "start_time": "2024-07-22T19:15:45.993Z"
   },
   {
    "duration": 11,
    "start_time": "2024-07-22T19:15:46.009Z"
   },
   {
    "duration": 24,
    "start_time": "2024-07-22T19:15:46.021Z"
   },
   {
    "duration": 15,
    "start_time": "2024-07-22T19:15:46.046Z"
   },
   {
    "duration": 22,
    "start_time": "2024-07-22T19:15:46.062Z"
   },
   {
    "duration": 31,
    "start_time": "2024-07-22T19:15:46.085Z"
   },
   {
    "duration": 11,
    "start_time": "2024-07-22T19:15:46.118Z"
   },
   {
    "duration": 12,
    "start_time": "2024-07-22T19:15:46.131Z"
   },
   {
    "duration": 14,
    "start_time": "2024-07-22T19:15:46.145Z"
   },
   {
    "duration": 561,
    "start_time": "2024-07-22T19:15:46.161Z"
   },
   {
    "duration": 8,
    "start_time": "2024-07-22T19:15:46.724Z"
   },
   {
    "duration": 23,
    "start_time": "2024-07-22T19:15:46.733Z"
   },
   {
    "duration": 11,
    "start_time": "2024-07-22T19:15:46.757Z"
   },
   {
    "duration": 7,
    "start_time": "2024-07-22T19:15:46.770Z"
   },
   {
    "duration": 53,
    "start_time": "2024-07-22T19:15:46.778Z"
   },
   {
    "duration": 8,
    "start_time": "2024-07-22T19:15:46.833Z"
   },
   {
    "duration": 24,
    "start_time": "2024-07-22T19:15:46.843Z"
   },
   {
    "duration": 3,
    "start_time": "2024-07-22T19:15:46.869Z"
   },
   {
    "duration": 5,
    "start_time": "2024-07-22T19:15:46.874Z"
   },
   {
    "duration": 5,
    "start_time": "2024-07-22T19:15:46.880Z"
   },
   {
    "duration": 8,
    "start_time": "2024-07-22T19:15:46.908Z"
   },
   {
    "duration": 6,
    "start_time": "2024-07-22T19:17:14.660Z"
   },
   {
    "duration": 5,
    "start_time": "2024-07-22T19:18:43.008Z"
   },
   {
    "duration": 6,
    "start_time": "2024-07-22T19:18:53.827Z"
   },
   {
    "duration": 71,
    "start_time": "2024-07-22T19:22:37.012Z"
   },
   {
    "duration": 1211,
    "start_time": "2024-07-22T19:26:53.611Z"
   },
   {
    "duration": 80,
    "start_time": "2024-07-22T19:26:54.824Z"
   },
   {
    "duration": 13,
    "start_time": "2024-07-22T19:26:54.905Z"
   },
   {
    "duration": 12,
    "start_time": "2024-07-22T19:26:54.920Z"
   },
   {
    "duration": 6,
    "start_time": "2024-07-22T19:26:54.934Z"
   },
   {
    "duration": 4,
    "start_time": "2024-07-22T19:26:54.942Z"
   },
   {
    "duration": 19,
    "start_time": "2024-07-22T19:26:54.948Z"
   },
   {
    "duration": 12,
    "start_time": "2024-07-22T19:26:54.969Z"
   },
   {
    "duration": 33,
    "start_time": "2024-07-22T19:26:54.982Z"
   },
   {
    "duration": 8,
    "start_time": "2024-07-22T19:26:55.018Z"
   },
   {
    "duration": 21,
    "start_time": "2024-07-22T19:26:55.027Z"
   },
   {
    "duration": 9,
    "start_time": "2024-07-22T19:26:55.049Z"
   },
   {
    "duration": 11,
    "start_time": "2024-07-22T19:26:55.060Z"
   },
   {
    "duration": 249,
    "start_time": "2024-07-22T19:26:55.072Z"
   },
   {
    "duration": 264,
    "start_time": "2024-07-22T19:26:55.323Z"
   },
   {
    "duration": 268,
    "start_time": "2024-07-22T19:26:55.589Z"
   },
   {
    "duration": 15,
    "start_time": "2024-07-22T19:26:55.858Z"
   },
   {
    "duration": 10,
    "start_time": "2024-07-22T19:26:55.875Z"
   },
   {
    "duration": 269,
    "start_time": "2024-07-22T19:26:55.887Z"
   },
   {
    "duration": 5,
    "start_time": "2024-07-22T19:26:56.158Z"
   },
   {
    "duration": 11,
    "start_time": "2024-07-22T19:26:56.165Z"
   },
   {
    "duration": 8,
    "start_time": "2024-07-22T19:26:56.177Z"
   },
   {
    "duration": 20,
    "start_time": "2024-07-22T19:26:56.187Z"
   },
   {
    "duration": 5,
    "start_time": "2024-07-22T19:26:56.208Z"
   },
   {
    "duration": 23,
    "start_time": "2024-07-22T19:26:56.214Z"
   },
   {
    "duration": 6,
    "start_time": "2024-07-22T19:26:56.239Z"
   },
   {
    "duration": 7,
    "start_time": "2024-07-22T19:26:56.247Z"
   },
   {
    "duration": 8,
    "start_time": "2024-07-22T19:26:56.257Z"
   },
   {
    "duration": 6,
    "start_time": "2024-07-22T19:26:56.266Z"
   },
   {
    "duration": 10,
    "start_time": "2024-07-22T19:26:56.273Z"
   },
   {
    "duration": 23,
    "start_time": "2024-07-22T19:26:56.284Z"
   },
   {
    "duration": 77,
    "start_time": "2024-07-22T19:26:56.308Z"
   },
   {
    "duration": 28,
    "start_time": "2024-07-22T19:26:56.387Z"
   },
   {
    "duration": 165,
    "start_time": "2024-07-22T19:26:56.417Z"
   },
   {
    "duration": 23,
    "start_time": "2024-07-22T19:26:56.584Z"
   },
   {
    "duration": 148,
    "start_time": "2024-07-22T19:26:56.609Z"
   },
   {
    "duration": 6,
    "start_time": "2024-07-22T19:26:56.759Z"
   },
   {
    "duration": 330,
    "start_time": "2024-07-22T19:26:56.766Z"
   },
   {
    "duration": 16,
    "start_time": "2024-07-22T19:26:57.098Z"
   },
   {
    "duration": 14,
    "start_time": "2024-07-22T19:26:57.115Z"
   },
   {
    "duration": 1147,
    "start_time": "2024-07-22T19:26:57.130Z"
   },
   {
    "duration": 11,
    "start_time": "2024-07-22T19:26:58.279Z"
   },
   {
    "duration": 423,
    "start_time": "2024-07-22T19:26:58.292Z"
   },
   {
    "duration": 4,
    "start_time": "2024-07-22T19:26:58.717Z"
   },
   {
    "duration": 38,
    "start_time": "2024-07-22T19:26:58.722Z"
   },
   {
    "duration": 59,
    "start_time": "2024-07-22T19:26:58.761Z"
   },
   {
    "duration": 59,
    "start_time": "2024-07-22T19:26:58.822Z"
   },
   {
    "duration": 50,
    "start_time": "2024-07-22T19:26:58.883Z"
   },
   {
    "duration": 19,
    "start_time": "2024-07-22T19:26:58.936Z"
   },
   {
    "duration": 43,
    "start_time": "2024-07-22T19:26:58.957Z"
   },
   {
    "duration": 16,
    "start_time": "2024-07-22T19:26:59.002Z"
   },
   {
    "duration": 21,
    "start_time": "2024-07-22T19:26:59.020Z"
   },
   {
    "duration": 42,
    "start_time": "2024-07-22T19:26:59.043Z"
   },
   {
    "duration": 592,
    "start_time": "2024-07-22T19:26:59.087Z"
   },
   {
    "duration": 9,
    "start_time": "2024-07-22T19:26:59.680Z"
   },
   {
    "duration": 21,
    "start_time": "2024-07-22T19:26:59.691Z"
   },
   {
    "duration": 17,
    "start_time": "2024-07-22T19:26:59.713Z"
   },
   {
    "duration": 8,
    "start_time": "2024-07-22T19:26:59.732Z"
   },
   {
    "duration": 43,
    "start_time": "2024-07-22T19:26:59.742Z"
   },
   {
    "duration": 13,
    "start_time": "2024-07-22T19:26:59.808Z"
   },
   {
    "duration": 10,
    "start_time": "2024-07-22T19:26:59.823Z"
   },
   {
    "duration": 16,
    "start_time": "2024-07-22T19:26:59.835Z"
   },
   {
    "duration": 4,
    "start_time": "2024-07-22T19:26:59.854Z"
   },
   {
    "duration": 30,
    "start_time": "2024-07-22T19:26:59.859Z"
   },
   {
    "duration": 12,
    "start_time": "2024-07-22T19:26:59.891Z"
   },
   {
    "duration": 20,
    "start_time": "2024-07-22T19:26:59.907Z"
   },
   {
    "duration": 12,
    "start_time": "2024-07-22T19:30:07.731Z"
   },
   {
    "duration": 122,
    "start_time": "2024-07-22T19:31:02.198Z"
   },
   {
    "duration": 1149,
    "start_time": "2024-07-23T04:44:58.953Z"
   },
   {
    "duration": 70,
    "start_time": "2024-07-23T04:45:00.104Z"
   },
   {
    "duration": 11,
    "start_time": "2024-07-23T04:45:00.175Z"
   },
   {
    "duration": 53,
    "start_time": "2024-07-23T04:45:00.188Z"
   },
   {
    "duration": 57,
    "start_time": "2024-07-23T04:45:00.243Z"
   },
   {
    "duration": 68,
    "start_time": "2024-07-23T04:45:00.301Z"
   },
   {
    "duration": 144,
    "start_time": "2024-07-23T04:45:00.370Z"
   },
   {
    "duration": 44,
    "start_time": "2024-07-23T04:45:00.515Z"
   },
   {
    "duration": 35,
    "start_time": "2024-07-23T04:45:00.560Z"
   },
   {
    "duration": 32,
    "start_time": "2024-07-23T04:45:00.596Z"
   },
   {
    "duration": 54,
    "start_time": "2024-07-23T04:45:00.629Z"
   },
   {
    "duration": 54,
    "start_time": "2024-07-23T04:45:00.685Z"
   },
   {
    "duration": 48,
    "start_time": "2024-07-23T04:45:00.741Z"
   },
   {
    "duration": 242,
    "start_time": "2024-07-23T04:45:00.792Z"
   },
   {
    "duration": 249,
    "start_time": "2024-07-23T04:45:01.035Z"
   },
   {
    "duration": 282,
    "start_time": "2024-07-23T04:45:01.286Z"
   },
   {
    "duration": 15,
    "start_time": "2024-07-23T04:45:01.570Z"
   },
   {
    "duration": 40,
    "start_time": "2024-07-23T04:45:01.586Z"
   },
   {
    "duration": 248,
    "start_time": "2024-07-23T04:45:01.627Z"
   },
   {
    "duration": 6,
    "start_time": "2024-07-23T04:45:01.877Z"
   },
   {
    "duration": 44,
    "start_time": "2024-07-23T04:45:01.884Z"
   },
   {
    "duration": 24,
    "start_time": "2024-07-23T04:45:01.929Z"
   },
   {
    "duration": 33,
    "start_time": "2024-07-23T04:45:01.955Z"
   },
   {
    "duration": 112,
    "start_time": "2024-07-23T04:45:01.990Z"
   },
   {
    "duration": 15,
    "start_time": "2024-07-23T04:45:02.103Z"
   },
   {
    "duration": 62,
    "start_time": "2024-07-23T04:45:02.120Z"
   },
   {
    "duration": 21,
    "start_time": "2024-07-23T04:45:02.183Z"
   },
   {
    "duration": 7,
    "start_time": "2024-07-23T04:45:02.205Z"
   },
   {
    "duration": 7,
    "start_time": "2024-07-23T04:45:02.213Z"
   },
   {
    "duration": 10,
    "start_time": "2024-07-23T04:45:02.221Z"
   },
   {
    "duration": 29,
    "start_time": "2024-07-23T04:45:02.232Z"
   },
   {
    "duration": 48,
    "start_time": "2024-07-23T04:45:02.262Z"
   },
   {
    "duration": 60,
    "start_time": "2024-07-23T04:45:02.312Z"
   },
   {
    "duration": 244,
    "start_time": "2024-07-23T04:45:02.373Z"
   },
   {
    "duration": 18,
    "start_time": "2024-07-23T04:45:02.619Z"
   },
   {
    "duration": 156,
    "start_time": "2024-07-23T04:45:02.639Z"
   },
   {
    "duration": 7,
    "start_time": "2024-07-23T04:45:02.796Z"
   },
   {
    "duration": 328,
    "start_time": "2024-07-23T04:45:02.804Z"
   },
   {
    "duration": 7,
    "start_time": "2024-07-23T04:45:03.137Z"
   },
   {
    "duration": 12,
    "start_time": "2024-07-23T04:45:03.146Z"
   },
   {
    "duration": 986,
    "start_time": "2024-07-23T04:45:03.162Z"
   },
   {
    "duration": 7,
    "start_time": "2024-07-23T04:45:04.149Z"
   },
   {
    "duration": 327,
    "start_time": "2024-07-23T04:45:04.158Z"
   },
   {
    "duration": 4,
    "start_time": "2024-07-23T04:45:04.487Z"
   },
   {
    "duration": 42,
    "start_time": "2024-07-23T04:45:04.492Z"
   },
   {
    "duration": 21,
    "start_time": "2024-07-23T04:45:04.535Z"
   },
   {
    "duration": 43,
    "start_time": "2024-07-23T04:45:04.557Z"
   },
   {
    "duration": 21,
    "start_time": "2024-07-23T04:45:04.602Z"
   },
   {
    "duration": 12,
    "start_time": "2024-07-23T04:45:04.624Z"
   },
   {
    "duration": 19,
    "start_time": "2024-07-23T04:45:04.639Z"
   },
   {
    "duration": 11,
    "start_time": "2024-07-23T04:45:04.659Z"
   },
   {
    "duration": 37,
    "start_time": "2024-07-23T04:45:04.671Z"
   },
   {
    "duration": 15,
    "start_time": "2024-07-23T04:45:04.710Z"
   },
   {
    "duration": 518,
    "start_time": "2024-07-23T04:45:04.726Z"
   },
   {
    "duration": 8,
    "start_time": "2024-07-23T04:45:05.245Z"
   },
   {
    "duration": 70,
    "start_time": "2024-07-23T04:45:05.254Z"
   },
   {
    "duration": 25,
    "start_time": "2024-07-23T04:45:05.326Z"
   },
   {
    "duration": 28,
    "start_time": "2024-07-23T04:45:05.352Z"
   },
   {
    "duration": 43,
    "start_time": "2024-07-23T04:45:05.381Z"
   },
   {
    "duration": 7,
    "start_time": "2024-07-23T04:45:05.425Z"
   },
   {
    "duration": 34,
    "start_time": "2024-07-23T04:45:05.434Z"
   },
   {
    "duration": 23,
    "start_time": "2024-07-23T04:45:05.470Z"
   },
   {
    "duration": 4,
    "start_time": "2024-07-23T04:45:05.495Z"
   },
   {
    "duration": 14,
    "start_time": "2024-07-23T04:45:05.501Z"
   },
   {
    "duration": 30,
    "start_time": "2024-07-23T04:45:05.517Z"
   },
   {
    "duration": 37,
    "start_time": "2024-07-23T04:45:05.548Z"
   },
   {
    "duration": 94,
    "start_time": "2024-07-23T04:45:30.031Z"
   },
   {
    "duration": 14,
    "start_time": "2024-07-23T04:45:34.061Z"
   },
   {
    "duration": 4,
    "start_time": "2024-07-23T04:45:36.587Z"
   },
   {
    "duration": 15,
    "start_time": "2024-07-23T04:45:56.666Z"
   }
  ],
  "kernelspec": {
   "display_name": "Python 3 (ipykernel)",
   "language": "python",
   "name": "python3"
  },
  "language_info": {
   "codemirror_mode": {
    "name": "ipython",
    "version": 3
   },
   "file_extension": ".py",
   "mimetype": "text/x-python",
   "name": "python",
   "nbconvert_exporter": "python",
   "pygments_lexer": "ipython3",
   "version": "3.11.7"
  },
  "toc": {
   "base_numbering": 1,
   "nav_menu": {},
   "number_sections": true,
   "sideBar": true,
   "skip_h1_title": true,
   "title_cell": "Table of Contents",
   "title_sidebar": "Contents",
   "toc_cell": false,
   "toc_position": {
    "height": "calc(100% - 180px)",
    "left": "10px",
    "top": "150px",
    "width": "270.545px"
   },
   "toc_section_display": true,
   "toc_window_display": false
  }
 },
 "nbformat": 4,
 "nbformat_minor": 5
}
