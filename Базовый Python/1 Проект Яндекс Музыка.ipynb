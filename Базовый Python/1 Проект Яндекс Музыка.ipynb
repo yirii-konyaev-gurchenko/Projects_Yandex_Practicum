{
 "cells": [
  {
   "cell_type": "markdown",
   "metadata": {
    "deletable": false,
    "editable": false,
    "id": "E0vqbgi9ay0H"
   },
   "source": [
    "# Яндекс Музыка"
   ]
  },
  {
   "cell_type": "markdown",
   "metadata": {
    "deletable": false,
    "editable": false,
    "id": "VUC88oWjTJw2"
   },
   "source": [
    "Сравнение Москвы и Петербурга окружено мифами. Например:\n",
    " * Москва — мегаполис, подчинённый жёсткому ритму рабочей недели;\n",
    " * Петербург — культурная столица, со своими вкусами.\n",
    "\n",
    "На данных Яндекс Музыки вы сравните поведение пользователей двух столиц.\n",
    "\n",
    "**Цель исследования** — проверьте три гипотезы:\n",
    "1. Активность пользователей зависит от дня недели. Причём в Москве и Петербурге это проявляется по-разному.\n",
    "2. В понедельник утром в Москве преобладают одни жанры, а в Петербурге — другие. Так же и вечером пятницы преобладают разные жанры — в зависимости от города.\n",
    "3. Москва и Петербург предпочитают разные жанры музыки. В Москве чаще слушают поп-музыку, в Петербурге — русский рэп.\n",
    "\n",
    "**Ход исследования**\n",
    "\n",
    "Данные о поведении пользователей вы получите из файла `yandex_music_project.csv`. О качестве данных ничего не известно. Поэтому перед проверкой гипотез понадобится обзор данных.\n",
    "\n",
    "Вы проверите данные на ошибки и оцените их влияние на исследование. Затем, на этапе предобработки вы поищете возможность исправить самые критичные ошибки данных.\n",
    "\n",
    "Таким образом, исследование пройдёт в три этапа:\n",
    " 1. Обзор данных.\n",
    " 2. Предобработка данных.\n",
    " 3. Проверка гипотез.\n",
    "\n"
   ]
  },
  {
   "cell_type": "markdown",
   "metadata": {
    "deletable": false,
    "editable": false,
    "id": "Ml1hmfXC_Zcs"
   },
   "source": [
    "## Обзор данных\n",
    "\n",
    "Составьте первое представление о данных Яндекс Музыки.\n",
    "\n",
    "\n"
   ]
  },
  {
   "cell_type": "markdown",
   "metadata": {
    "deletable": false,
    "editable": false,
    "id": "57eAOGIz_Zcs",
    "tags": [
     "start_task"
    ]
   },
   "source": [
    "**Задание 1**"
   ]
  },
  {
   "cell_type": "code",
   "execution_count": 1238,
   "metadata": {
    "deletable": false,
    "id": "AXN7PHPN_Zcs"
   },
   "outputs": [],
   "source": [
    "import pandas as pd # импорт библиотеки pandas"
   ]
  },
  {
   "cell_type": "markdown",
   "metadata": {
    "deletable": false,
    "editable": false,
    "id": "SG23P8tt_Zcs",
    "tags": [
     "start_task"
    ]
   },
   "source": [
    "**Задание 2**"
   ]
  },
  {
   "cell_type": "code",
   "execution_count": 1239,
   "metadata": {
    "deletable": false,
    "id": "fFVu7vqh_Zct"
   },
   "outputs": [],
   "source": [
    "df = pd.read_csv('/datasets/yandex_music_project.csv') # чтение файла с данными и сохранение в df"
   ]
  },
  {
   "cell_type": "markdown",
   "metadata": {
    "deletable": false,
    "editable": false,
    "id": "rDoOMd3uTqnZ",
    "tags": [
     "start_task"
    ]
   },
   "source": [
    "**Задание 3**"
   ]
  },
  {
   "cell_type": "code",
   "execution_count": 1240,
   "metadata": {
    "deletable": false,
    "id": "oWTVX3gW_Zct"
   },
   "outputs": [
    {
     "name": "stdout",
     "output_type": "stream",
     "text": [
      "     userID                        Track            artist   genre  \\\n",
      "0  FFB692EC            Kamigata To Boots  The Mass Missile    rock   \n",
      "1  55204538  Delayed Because of Accident  Andreas Rönnberg    rock   \n",
      "2    20EC38            Funiculì funiculà       Mario Lanza     pop   \n",
      "3  A3DD03C9        Dragons in the Sunset        Fire + Ice    folk   \n",
      "4  E2DC1FAE                  Soul People        Space Echo   dance   \n",
      "5  842029A1                    Преданная         IMPERVTOR  rusrap   \n",
      "6  4CB90AA5                         True      Roman Messer   dance   \n",
      "7  F03E1C1F             Feeling This Way   Polina Griffith   dance   \n",
      "8  8FA1D3BE     И вновь продолжается бой               NaN  ruspop   \n",
      "9  E772D5C0                    Pessimist               NaN   dance   \n",
      "\n",
      "             City        time        Day  \n",
      "0  Saint-Petersburg  20:28:33  Wednesday  \n",
      "1            Moscow  14:07:09     Friday  \n",
      "2  Saint-Petersburg  20:58:07  Wednesday  \n",
      "3  Saint-Petersburg  08:37:09     Monday  \n",
      "4            Moscow  08:34:34     Monday  \n",
      "5  Saint-Petersburg  13:09:41     Friday  \n",
      "6            Moscow  13:00:07  Wednesday  \n",
      "7            Moscow  20:47:49  Wednesday  \n",
      "8            Moscow  09:17:40     Friday  \n",
      "9  Saint-Petersburg  21:20:49  Wednesday  \n"
     ]
    }
   ],
   "source": [
    "print(df.head(10)) # получение первых 10 строк таблицы df"
   ]
  },
  {
   "cell_type": "markdown",
   "metadata": {
    "deletable": false,
    "editable": false,
    "id": "EO73Kwic_Zct",
    "tags": [
     "start_task"
    ]
   },
   "source": [
    "**Задание 4**"
   ]
  },
  {
   "cell_type": "code",
   "execution_count": 1241,
   "metadata": {
    "deletable": false,
    "id": "DSf2kIb-_Zct"
   },
   "outputs": [
    {
     "name": "stdout",
     "output_type": "stream",
     "text": [
      "<class 'pandas.core.frame.DataFrame'>\n",
      "RangeIndex: 65079 entries, 0 to 65078\n",
      "Data columns (total 7 columns):\n",
      " #   Column    Non-Null Count  Dtype \n",
      "---  ------    --------------  ----- \n",
      " 0     userID  65079 non-null  object\n",
      " 1   Track     63848 non-null  object\n",
      " 2   artist    57876 non-null  object\n",
      " 3   genre     63881 non-null  object\n",
      " 4     City    65079 non-null  object\n",
      " 5   time      65079 non-null  object\n",
      " 6   Day       65079 non-null  object\n",
      "dtypes: object(7)\n",
      "memory usage: 3.5+ MB\n"
     ]
    }
   ],
   "source": [
    "df.info() # получение общей информации о данных в таблице df"
   ]
  },
  {
   "cell_type": "markdown",
   "metadata": {
    "deletable": false,
    "editable": false,
    "id": "TaQ2Iwbr_Zct"
   },
   "source": [
    "Количество значений в столбцах различается. Значит, в данных есть пропущенные значения."
   ]
  },
  {
   "cell_type": "markdown",
   "metadata": {
    "deletable": false,
    "editable": false,
    "id": "4P0UCWzswgEm",
    "tags": [
     "start_task"
    ]
   },
   "source": [
    "**Задание 5**"
   ]
  },
  {
   "cell_type": "code",
   "execution_count": 1242,
   "metadata": {
    "id": "c137-ZstwgEm"
   },
   "outputs": [],
   "source": [
    "# пропущены нижние подчеркивания # Напишите ваш ответ здесь комментарием. Не удаляйте символ #. Не меняйте тип этой ячейки на Markdown."
   ]
  },
  {
   "cell_type": "markdown",
   "metadata": {
    "deletable": false,
    "editable": false,
    "id": "MCB6-dXG_Zct"
   },
   "source": [
    "**Выводы**\n",
    "\n",
    "В каждой строке таблицы — данные о прослушанном треке. Часть колонок описывает саму композицию: название, исполнителя и жанр. Остальные данные рассказывают о пользователе: из какого он города, когда он слушал музыку.\n",
    "\n",
    "Предварительно можно утверждать, что данных достаточно для проверки гипотез. Но встречаются пропуски в данных, а в названиях колонок — расхождения с хорошим стилем.\n",
    "\n",
    "Чтобы двигаться дальше, нужно устранить проблемы в данных."
   ]
  },
  {
   "cell_type": "markdown",
   "metadata": {
    "deletable": false,
    "editable": false,
    "id": "SjYF6Ub9_Zct"
   },
   "source": [
    "## Предобработка данных"
   ]
  },
  {
   "cell_type": "markdown",
   "metadata": {
    "deletable": false,
    "editable": false,
    "id": "dIaKXr29_Zct",
    "tags": [
     "start_task"
    ]
   },
   "source": [
    "### Переименование столбцов\n",
    "\n",
    "**Задание 6**"
   ]
  },
  {
   "cell_type": "code",
   "execution_count": 1243,
   "metadata": {
    "deletable": false,
    "id": "oKOTdF_Q_Zct"
   },
   "outputs": [
    {
     "name": "stdout",
     "output_type": "stream",
     "text": [
      "Index(['  userID', 'Track', 'artist', 'genre', '  City  ', 'time', 'Day'], dtype='object')\n"
     ]
    }
   ],
   "source": [
    "print(df.columns) # перечень названий столбцов таблицы df"
   ]
  },
  {
   "cell_type": "markdown",
   "metadata": {
    "deletable": false,
    "editable": false,
    "id": "zj5534cv_Zct",
    "tags": [
     "start_task"
    ]
   },
   "source": [
    "**Задание 7**"
   ]
  },
  {
   "cell_type": "code",
   "execution_count": 1244,
   "metadata": {
    "deletable": false,
    "id": "ISlFqs5y_Zct"
   },
   "outputs": [],
   "source": [
    "df = df.rename(columns={'  userID': 'user_id', 'Track': 'track', '  City  ': 'city', 'Day': 'day'}) # переименование столбцов"
   ]
  },
  {
   "cell_type": "markdown",
   "metadata": {
    "deletable": false,
    "editable": false,
    "id": "1dqbh00J_Zct",
    "tags": [
     "start_task"
    ]
   },
   "source": [
    "**Задание 8**"
   ]
  },
  {
   "cell_type": "code",
   "execution_count": 1245,
   "metadata": {
    "deletable": false,
    "id": "d4NOAmTW_Zct"
   },
   "outputs": [
    {
     "name": "stdout",
     "output_type": "stream",
     "text": [
      "Index(['user_id', 'track', 'artist', 'genre', 'city', 'time', 'day'], dtype='object')\n"
     ]
    }
   ],
   "source": [
    "print(df.columns)# проверка результатов - перечень названий столбцов"
   ]
  },
  {
   "cell_type": "markdown",
   "metadata": {
    "deletable": false,
    "editable": false,
    "id": "5ISfbcfY_Zct",
    "tags": [
     "start_task"
    ]
   },
   "source": [
    "### Обработка пропущенных значений\n",
    "\n",
    "**Задание 9**"
   ]
  },
  {
   "cell_type": "code",
   "execution_count": 1246,
   "metadata": {
    "deletable": false,
    "id": "RskX29qr_Zct"
   },
   "outputs": [
    {
     "name": "stdout",
     "output_type": "stream",
     "text": [
      "user_id       0\n",
      "track      1231\n",
      "artist     7203\n",
      "genre      1198\n",
      "city          0\n",
      "time          0\n",
      "day           0\n",
      "dtype: int64\n"
     ]
    }
   ],
   "source": [
    "print(df.isna().sum()) # подсчёт пропусков"
   ]
  },
  {
   "cell_type": "markdown",
   "metadata": {
    "deletable": false,
    "editable": false,
    "id": "fSv2laPA_Zct",
    "tags": [
     "start_task"
    ]
   },
   "source": [
    "**Задание 10**"
   ]
  },
  {
   "cell_type": "code",
   "execution_count": 1247,
   "metadata": {
    "deletable": false,
    "id": "KplB5qWs_Zct"
   },
   "outputs": [],
   "source": [
    "columns_to_replace = ['track', 'artist', 'genre']\n",
    "for column in columns_to_replace:\n",
    "    df[column] = df[column].fillna('unknown')# замена пропущенных значений на 'unknown'"
   ]
  },
  {
   "cell_type": "markdown",
   "metadata": {
    "deletable": false,
    "editable": false,
    "id": "Ilsm-MZo_Zct",
    "tags": [
     "start_task"
    ]
   },
   "source": [
    "**Задание 11**"
   ]
  },
  {
   "cell_type": "code",
   "execution_count": 1248,
   "metadata": {
    "deletable": false,
    "id": "Tq4nYRX4_Zct"
   },
   "outputs": [
    {
     "name": "stdout",
     "output_type": "stream",
     "text": [
      "user_id    0\n",
      "track      0\n",
      "artist     0\n",
      "genre      0\n",
      "city       0\n",
      "time       0\n",
      "day        0\n",
      "dtype: int64\n"
     ]
    }
   ],
   "source": [
    "print(df.isna().sum())# проверка на отсутствие пропусков"
   ]
  },
  {
   "cell_type": "markdown",
   "metadata": {
    "deletable": false,
    "editable": false,
    "id": "BWKRtBJ3_Zct",
    "tags": [
     "start_task"
    ]
   },
   "source": [
    "### Обработка дубликатов\n",
    "\n",
    "**Задание 12**"
   ]
  },
  {
   "cell_type": "code",
   "execution_count": 1249,
   "metadata": {
    "deletable": false,
    "id": "36eES_S0_Zct"
   },
   "outputs": [
    {
     "name": "stdout",
     "output_type": "stream",
     "text": [
      "3826\n"
     ]
    }
   ],
   "source": [
    "print(df.duplicated().sum())# подсчёт явных дубликатов"
   ]
  },
  {
   "cell_type": "markdown",
   "metadata": {
    "deletable": false,
    "editable": false,
    "id": "Ot25h6XR_Zct",
    "tags": [
     "start_task"
    ]
   },
   "source": [
    "**Задание 13**"
   ]
  },
  {
   "cell_type": "code",
   "execution_count": 1250,
   "metadata": {
    "deletable": false,
    "id": "exFHq6tt_Zct"
   },
   "outputs": [],
   "source": [
    "df = df.drop_duplicates().reset_index(drop=True)# удаление явных дубликатов, создание новых индексов и удаление старых"
   ]
  },
  {
   "cell_type": "markdown",
   "metadata": {
    "deletable": false,
    "editable": false,
    "id": "Im2YwBEG_Zct",
    "tags": [
     "start_task"
    ]
   },
   "source": [
    "**Задание 14**"
   ]
  },
  {
   "cell_type": "code",
   "execution_count": 1251,
   "metadata": {
    "deletable": false,
    "id": "-8PuNWQ0_Zct"
   },
   "outputs": [
    {
     "name": "stdout",
     "output_type": "stream",
     "text": [
      "0\n"
     ]
    }
   ],
   "source": [
    "print(df.duplicated().sum())# проверка на отсутствие явных дубликатов"
   ]
  },
  {
   "cell_type": "markdown",
   "metadata": {
    "deletable": false,
    "editable": false,
    "id": "eSjWwsOh_Zct",
    "tags": [
     "start_task"
    ]
   },
   "source": [
    "**Задание 15**"
   ]
  },
  {
   "cell_type": "code",
   "execution_count": 1252,
   "metadata": {
    "deletable": false,
    "id": "JIUcqzZN_Zct",
    "scrolled": true
   },
   "outputs": [
    {
     "name": "stdout",
     "output_type": "stream",
     "text": [
      "['acid' 'acoustic' 'action' 'adult' 'africa' 'afrikaans' 'alternative'\n",
      " 'alternativepunk' 'ambient' 'americana' 'animated' 'anime' 'arabesk'\n",
      " 'arabic' 'arena' 'argentinetango' 'art' 'audiobook' 'author' 'avantgarde'\n",
      " 'axé' 'baile' 'balkan' 'beats' 'bigroom' 'black' 'bluegrass' 'blues'\n",
      " 'bollywood' 'bossa' 'brazilian' 'breakbeat' 'breaks' 'broadway'\n",
      " 'cantautori' 'cantopop' 'canzone' 'caribbean' 'caucasian' 'celtic'\n",
      " 'chamber' 'chanson' 'children' 'chill' 'chinese' 'choral' 'christian'\n",
      " 'christmas' 'classical' 'classicmetal' 'club' 'colombian' 'comedy'\n",
      " 'conjazz' 'contemporary' 'country' 'cuban' 'dance' 'dancehall' 'dancepop'\n",
      " 'dark' 'death' 'deep' 'deutschrock' 'deutschspr' 'dirty' 'disco' 'dnb'\n",
      " 'documentary' 'downbeat' 'downtempo' 'drum' 'dub' 'dubstep' 'eastern'\n",
      " 'easy' 'electronic' 'electropop' 'emo' 'entehno' 'epicmetal' 'estrada'\n",
      " 'ethnic' 'eurofolk' 'european' 'experimental' 'extrememetal' 'fado'\n",
      " 'fairytail' 'film' 'fitness' 'flamenco' 'folk' 'folklore' 'folkmetal'\n",
      " 'folkrock' 'folktronica' 'forró' 'frankreich' 'französisch' 'french'\n",
      " 'funk' 'future' 'gangsta' 'garage' 'german' 'ghazal' 'gitarre' 'glitch'\n",
      " 'gospel' 'gothic' 'grime' 'grunge' 'gypsy' 'handsup' \"hard'n'heavy\"\n",
      " 'hardcore' 'hardstyle' 'hardtechno' 'hip' 'hip-hop' 'hiphop' 'historisch'\n",
      " 'holiday' 'hop' 'horror' 'house' 'hymn' 'idm' 'independent' 'indian'\n",
      " 'indie' 'indipop' 'industrial' 'inspirational' 'instrumental'\n",
      " 'international' 'irish' 'jam' 'japanese' 'jazz' 'jewish' 'jpop' 'jungle'\n",
      " 'k-pop' 'karadeniz' 'karaoke' 'kayokyoku' 'korean' 'laiko' 'latin'\n",
      " 'latino' 'leftfield' 'local' 'lounge' 'loungeelectronic' 'lovers'\n",
      " 'malaysian' 'mandopop' 'marschmusik' 'meditative' 'mediterranean'\n",
      " 'melodic' 'metal' 'metalcore' 'mexican' 'middle' 'minimal'\n",
      " 'miscellaneous' 'modern' 'mood' 'mpb' 'muslim' 'native' 'neoklassik'\n",
      " 'neue' 'new' 'newage' 'newwave' 'nu' 'nujazz' 'numetal' 'oceania' 'old'\n",
      " 'opera' 'orchestral' 'other' 'piano' 'podcasts' 'pop' 'popdance'\n",
      " 'popelectronic' 'popeurodance' 'poprussian' 'post' 'posthardcore'\n",
      " 'postrock' 'power' 'progmetal' 'progressive' 'psychedelic' 'punjabi'\n",
      " 'punk' 'quebecois' 'ragga' 'ram' 'rancheras' 'rap' 'rave' 'reggae'\n",
      " 'reggaeton' 'regional' 'relax' 'religious' 'retro' 'rhythm' 'rnb' 'rnr'\n",
      " 'rock' 'rockabilly' 'rockalternative' 'rockindie' 'rockother' 'romance'\n",
      " 'roots' 'ruspop' 'rusrap' 'rusrock' 'russian' 'salsa' 'samba' 'scenic'\n",
      " 'schlager' 'self' 'sertanejo' 'shanson' 'shoegazing' 'showtunes' 'singer'\n",
      " 'ska' 'skarock' 'slow' 'smooth' 'soft' 'soul' 'soulful' 'sound'\n",
      " 'soundtrack' 'southern' 'specialty' 'speech' 'spiritual' 'sport'\n",
      " 'stonerrock' 'surf' 'swing' 'synthpop' 'synthrock' 'sängerportrait'\n",
      " 'tango' 'tanzorchester' 'taraftar' 'tatar' 'tech' 'techno' 'teen'\n",
      " 'thrash' 'top' 'traditional' 'tradjazz' 'trance' 'tribal' 'trip'\n",
      " 'triphop' 'tropical' 'türk' 'türkçe' 'ukrrock' 'unknown' 'urban' 'uzbek'\n",
      " 'variété' 'vi' 'videogame' 'vocal' 'western' 'world' 'worldbeat' 'ïîï'\n",
      " 'электроника']\n"
     ]
    }
   ],
   "source": [
    "genr = df[['genre']]\n",
    "genr = genr.sort_values(by = 'genre')# просмотр уникальных отсортированных названий жанров\n",
    "print(genr['genre'].unique())"
   ]
  },
  {
   "cell_type": "markdown",
   "metadata": {
    "deletable": false,
    "editable": false,
    "id": "qej-Qmuo_Zct",
    "tags": [
     "start_task"
    ]
   },
   "source": [
    "**Задание 16**"
   ]
  },
  {
   "cell_type": "code",
   "execution_count": 1253,
   "metadata": {
    "deletable": false,
    "id": "ErNDkmns_Zct"
   },
   "outputs": [
    {
     "name": "stdout",
     "output_type": "stream",
     "text": [
      "        user_id                              track            artist  \\\n",
      "0      FFB692EC                  Kamigata To Boots  The Mass Missile   \n",
      "1      55204538        Delayed Because of Accident  Andreas Rönnberg   \n",
      "2        20EC38                  Funiculì funiculà       Mario Lanza   \n",
      "3      A3DD03C9              Dragons in the Sunset        Fire + Ice   \n",
      "4      E2DC1FAE                        Soul People        Space Echo   \n",
      "...         ...                                ...               ...   \n",
      "61248  729CBB09                            My Name            McLean   \n",
      "61249  D08D4A55  Maybe One Day (feat. Black Spade)       Blu & Exile   \n",
      "61250  C5E3A0D5                          Jalopiina           unknown   \n",
      "61251  321D0506                      Freight Train     Chas McDevitt   \n",
      "61252  3A64EF84          Tell Me Sweet Little Lies      Monica Lopez   \n",
      "\n",
      "            genre              city      time        day  \n",
      "0            rock  Saint-Petersburg  20:28:33  Wednesday  \n",
      "1            rock            Moscow  14:07:09     Friday  \n",
      "2             pop  Saint-Petersburg  20:58:07  Wednesday  \n",
      "3            folk  Saint-Petersburg  08:37:09     Monday  \n",
      "4           dance            Moscow  08:34:34     Monday  \n",
      "...           ...               ...       ...        ...  \n",
      "61248         rnb            Moscow  13:32:28  Wednesday  \n",
      "61249      hiphop  Saint-Petersburg  10:00:00     Monday  \n",
      "61250  industrial            Moscow  20:09:26     Friday  \n",
      "61251        rock            Moscow  21:43:59     Friday  \n",
      "61252     country            Moscow  21:59:46     Friday  \n",
      "\n",
      "[61253 rows x 7 columns]\n"
     ]
    }
   ],
   "source": [
    "\n",
    "def replace_wrong_genres(wrong_genres, correct_genre):\n",
    "    for wrong_genre in wrong_genres:\n",
    "        df['genre'] = df['genre'].replace(wrong_genre, correct_genre)\n",
    "\n",
    "first_name = ['hip', 'hop', 'hip-hop']\n",
    "two_name = 'hiphop'\n",
    "replace_wrong_genres(first_name, two_name)\n",
    "print(df)"
   ]
  },
  {
   "cell_type": "markdown",
   "metadata": {
    "deletable": false,
    "editable": false,
    "id": "zQKF16_RG15m",
    "tags": [
     "start_task"
    ]
   },
   "source": [
    "**Задание 17**"
   ]
  },
  {
   "cell_type": "code",
   "execution_count": 1254,
   "metadata": {
    "deletable": false,
    "id": "wvixALnFG15m"
   },
   "outputs": [
    {
     "name": "stdout",
     "output_type": "stream",
     "text": [
      "['acid' 'acoustic' 'action' 'adult' 'africa' 'afrikaans' 'alternative'\n",
      " 'alternativepunk' 'ambient' 'americana' 'animated' 'anime' 'arabesk'\n",
      " 'arabic' 'arena' 'argentinetango' 'art' 'audiobook' 'author' 'avantgarde'\n",
      " 'axé' 'baile' 'balkan' 'beats' 'bigroom' 'black' 'bluegrass' 'blues'\n",
      " 'bollywood' 'bossa' 'brazilian' 'breakbeat' 'breaks' 'broadway'\n",
      " 'cantautori' 'cantopop' 'canzone' 'caribbean' 'caucasian' 'celtic'\n",
      " 'chamber' 'chanson' 'children' 'chill' 'chinese' 'choral' 'christian'\n",
      " 'christmas' 'classical' 'classicmetal' 'club' 'colombian' 'comedy'\n",
      " 'conjazz' 'contemporary' 'country' 'cuban' 'dance' 'dancehall' 'dancepop'\n",
      " 'dark' 'death' 'deep' 'deutschrock' 'deutschspr' 'dirty' 'disco' 'dnb'\n",
      " 'documentary' 'downbeat' 'downtempo' 'drum' 'dub' 'dubstep' 'eastern'\n",
      " 'easy' 'electronic' 'electropop' 'emo' 'entehno' 'epicmetal' 'estrada'\n",
      " 'ethnic' 'eurofolk' 'european' 'experimental' 'extrememetal' 'fado'\n",
      " 'fairytail' 'film' 'fitness' 'flamenco' 'folk' 'folklore' 'folkmetal'\n",
      " 'folkrock' 'folktronica' 'forró' 'frankreich' 'französisch' 'french'\n",
      " 'funk' 'future' 'gangsta' 'garage' 'german' 'ghazal' 'gitarre' 'glitch'\n",
      " 'gospel' 'gothic' 'grime' 'grunge' 'gypsy' 'handsup' \"hard'n'heavy\"\n",
      " 'hardcore' 'hardstyle' 'hardtechno' 'hiphop' 'historisch' 'holiday'\n",
      " 'horror' 'house' 'hymn' 'idm' 'independent' 'indian' 'indie' 'indipop'\n",
      " 'industrial' 'inspirational' 'instrumental' 'international' 'irish' 'jam'\n",
      " 'japanese' 'jazz' 'jewish' 'jpop' 'jungle' 'k-pop' 'karadeniz' 'karaoke'\n",
      " 'kayokyoku' 'korean' 'laiko' 'latin' 'latino' 'leftfield' 'local'\n",
      " 'lounge' 'loungeelectronic' 'lovers' 'malaysian' 'mandopop' 'marschmusik'\n",
      " 'meditative' 'mediterranean' 'melodic' 'metal' 'metalcore' 'mexican'\n",
      " 'middle' 'minimal' 'miscellaneous' 'modern' 'mood' 'mpb' 'muslim'\n",
      " 'native' 'neoklassik' 'neue' 'new' 'newage' 'newwave' 'nu' 'nujazz'\n",
      " 'numetal' 'oceania' 'old' 'opera' 'orchestral' 'other' 'piano' 'podcasts'\n",
      " 'pop' 'popdance' 'popelectronic' 'popeurodance' 'poprussian' 'post'\n",
      " 'posthardcore' 'postrock' 'power' 'progmetal' 'progressive' 'psychedelic'\n",
      " 'punjabi' 'punk' 'quebecois' 'ragga' 'ram' 'rancheras' 'rap' 'rave'\n",
      " 'reggae' 'reggaeton' 'regional' 'relax' 'religious' 'retro' 'rhythm'\n",
      " 'rnb' 'rnr' 'rock' 'rockabilly' 'rockalternative' 'rockindie' 'rockother'\n",
      " 'romance' 'roots' 'ruspop' 'rusrap' 'rusrock' 'russian' 'salsa' 'samba'\n",
      " 'scenic' 'schlager' 'self' 'sertanejo' 'shanson' 'shoegazing' 'showtunes'\n",
      " 'singer' 'ska' 'skarock' 'slow' 'smooth' 'soft' 'soul' 'soulful' 'sound'\n",
      " 'soundtrack' 'southern' 'specialty' 'speech' 'spiritual' 'sport'\n",
      " 'stonerrock' 'surf' 'swing' 'synthpop' 'synthrock' 'sängerportrait'\n",
      " 'tango' 'tanzorchester' 'taraftar' 'tatar' 'tech' 'techno' 'teen'\n",
      " 'thrash' 'top' 'traditional' 'tradjazz' 'trance' 'tribal' 'trip'\n",
      " 'triphop' 'tropical' 'türk' 'türkçe' 'ukrrock' 'unknown' 'urban' 'uzbek'\n",
      " 'variété' 'vi' 'videogame' 'vocal' 'western' 'world' 'worldbeat' 'ïîï'\n",
      " 'электроника']\n"
     ]
    }
   ],
   "source": [
    "genr = df[['genre']]\n",
    "genr = genr.sort_values(by = 'genre')# просмотр уникальных отсортированных названий жанров\n",
    "print(genr['genre'].unique())"
   ]
  },
  {
   "cell_type": "markdown",
   "metadata": {
    "deletable": false,
    "editable": false,
    "id": "jz6a9-7HQUDd"
   },
   "source": [
    "**Выводы**\n",
    "\n",
    "Предобработка обнаружила три проблемы в данных:\n",
    "\n",
    "- нарушения в стиле заголовков,\n",
    "- пропущенные значения,\n",
    "- дубликаты — явные и неявные.\n",
    "\n",
    "Вы исправили заголовки, чтобы упростить работу с таблицей. Без дубликатов исследование станет более точным.\n",
    "\n",
    "Пропущенные значения вы заменили на `'unknown'`. Ещё предстоит увидеть, не повредят ли исследованию пропуски в колонке `genre`.\n",
    "\n",
    "Теперь можно перейти к проверке гипотез."
   ]
  },
  {
   "cell_type": "markdown",
   "metadata": {
    "deletable": false,
    "editable": false,
    "id": "WttZHXH0SqKk"
   },
   "source": [
    "## Проверка гипотез"
   ]
  },
  {
   "cell_type": "markdown",
   "metadata": {
    "deletable": false,
    "editable": false,
    "id": "Im936VVi_Zcu"
   },
   "source": [
    "### Сравнение поведения пользователей двух столиц"
   ]
  },
  {
   "cell_type": "markdown",
   "metadata": {
    "deletable": false,
    "editable": false,
    "id": "nwt_MuaL_Zcu"
   },
   "source": [
    "Первая гипотеза утверждает, что пользователи по-разному слушают музыку в Москве и Санкт-Петербурге. Проверим это предположение по данным о трёх днях недели — понедельнике, среде и пятнице. Для этого:\n",
    "\n",
    "* Разделим пользователей Москвы и Санкт-Петербурга.\n",
    "* Сравним, сколько треков послушала каждая группа пользователей в понедельник, среду и пятницу.\n"
   ]
  },
  {
   "cell_type": "markdown",
   "metadata": {
    "deletable": false,
    "id": "8Dw_YMmT_Zcu",
    "tags": [
     "start_task"
    ]
   },
   "source": [
    "**Задание 18**\n",
    "\n"
   ]
  },
  {
   "cell_type": "code",
   "execution_count": 1255,
   "metadata": {
    "deletable": false,
    "id": "0_Qs96oh_Zcu"
   },
   "outputs": [
    {
     "name": "stdout",
     "output_type": "stream",
     "text": [
      "city\n",
      "Moscow              42741\n",
      "Saint-Petersburg    18512\n",
      "Name: time, dtype: int64\n"
     ]
    }
   ],
   "source": [
    "df_city_time = df.groupby('city')['time'].count()# подсчёт прослушиваний в каждом городе\n",
    "print(df_city_time)"
   ]
  },
  {
   "cell_type": "markdown",
   "metadata": {
    "id": "dzli3w8o_Zcu",
    "tags": [
     "start_task"
    ]
   },
   "source": [
    "**Задание 19**\n"
   ]
  },
  {
   "cell_type": "code",
   "execution_count": 1256,
   "metadata": {
    "deletable": false,
    "id": "uZMKjiJz_Zcu"
   },
   "outputs": [
    {
     "name": "stdout",
     "output_type": "stream",
     "text": [
      "day\n",
      "Friday       21840\n",
      "Monday       21354\n",
      "Wednesday    18059\n",
      "Name: time, dtype: int64\n"
     ]
    }
   ],
   "source": [
    "df_day_time = df.groupby('day')['time'].count()# подсчёт прослушиваний в каждый из трёх дней\n",
    "print(df_day_time)"
   ]
  },
  {
   "cell_type": "markdown",
   "metadata": {
    "deletable": false,
    "editable": false,
    "id": "POzs8bGa_Zcu",
    "tags": [
     "start_task"
    ]
   },
   "source": [
    "**Задание 20**"
   ]
  },
  {
   "cell_type": "code",
   "execution_count": 1257,
   "metadata": {
    "deletable": false,
    "id": "Nz3GdQB1_Zcu"
   },
   "outputs": [],
   "source": [
    "def number_tracks(day, city):\n",
    "    track_list = df[(df['day'] == day)] # выберите только строки df со значением переменной day в столбце day\n",
    "    track_list = track_list[(track_list['city'] == city)] # выберите только строки track_list со значением переменной city в столбце city\n",
    "    track_list_count = track_list['user_id'].count()# вызовите метод подсчета строк для track_list и выберите столбец user_id\n",
    "    return track_list_count # верните значение track_list_count из функции\n"
   ]
  },
  {
   "cell_type": "markdown",
   "metadata": {
    "deletable": false,
    "editable": false,
    "id": "ytf7xFrFJQ2r",
    "tags": [
     "start_task"
    ]
   },
   "source": [
    "**Задание 21**"
   ]
  },
  {
   "cell_type": "code",
   "execution_count": 1258,
   "metadata": {
    "deletable": false,
    "id": "rJcRATNQ_Zcu"
   },
   "outputs": [
    {
     "name": "stdout",
     "output_type": "stream",
     "text": [
      "15740\n"
     ]
    }
   ],
   "source": [
    "print(number_tracks('Monday', 'Moscow')) # количество прослушиваний в Москве по понедельникам"
   ]
  },
  {
   "cell_type": "code",
   "execution_count": 1259,
   "metadata": {
    "deletable": false,
    "id": "hq_ncZ5T_Zcu"
   },
   "outputs": [
    {
     "name": "stdout",
     "output_type": "stream",
     "text": [
      "5614\n"
     ]
    }
   ],
   "source": [
    "print(number_tracks('Monday', 'Saint-Petersburg'))# количество прослушиваний в Санкт-Петербурге по понедельникам"
   ]
  },
  {
   "cell_type": "code",
   "execution_count": 1260,
   "metadata": {
    "deletable": false,
    "id": "_NTy2VPU_Zcu"
   },
   "outputs": [
    {
     "name": "stdout",
     "output_type": "stream",
     "text": [
      "11056\n"
     ]
    }
   ],
   "source": [
    "print(number_tracks('Wednesday', 'Moscow'))# количество прослушиваний в Москве по средам"
   ]
  },
  {
   "cell_type": "code",
   "execution_count": 1261,
   "metadata": {
    "deletable": false,
    "id": "j2y3TAwo_Zcu"
   },
   "outputs": [
    {
     "name": "stdout",
     "output_type": "stream",
     "text": [
      "7003\n"
     ]
    }
   ],
   "source": [
    "print(number_tracks('Wednesday', 'Saint-Petersburg'))# количество прослушиваний в Санкт-Петербурге по средам"
   ]
  },
  {
   "cell_type": "code",
   "execution_count": 1262,
   "metadata": {
    "deletable": false,
    "id": "vYDw5u_K_Zcu"
   },
   "outputs": [
    {
     "name": "stdout",
     "output_type": "stream",
     "text": [
      "15945\n"
     ]
    }
   ],
   "source": [
    "print(number_tracks('Friday', 'Moscow'))# количество прослушиваний в Москве по пятницам"
   ]
  },
  {
   "cell_type": "code",
   "execution_count": 1263,
   "metadata": {
    "deletable": false,
    "id": "8_yzFtW3_Zcu"
   },
   "outputs": [
    {
     "name": "stdout",
     "output_type": "stream",
     "text": [
      "5895\n"
     ]
    }
   ],
   "source": [
    "print(number_tracks('Friday', 'Saint-Petersburg'))# количество прослушиваний в Санкт-Петербурге по пятницам"
   ]
  },
  {
   "cell_type": "markdown",
   "metadata": {
    "deletable": false,
    "editable": false,
    "id": "7QXffbO-_Zcu",
    "tags": [
     "start_task"
    ]
   },
   "source": [
    "**Задание 22**"
   ]
  },
  {
   "cell_type": "code",
   "execution_count": 1264,
   "metadata": {
    "deletable": false,
    "id": "APAcLpOr_Zcu"
   },
   "outputs": [
    {
     "name": "stdout",
     "output_type": "stream",
     "text": [
      "              city  monday  wednesday  friday\n",
      "0           Москва   15750      11056   15945\n",
      "1  Санкт-Петербург    5614       7003    5895\n"
     ]
    }
   ],
   "source": [
    "info = pd.DataFrame(data=[['Москва', 15750, 11056, 15945], ['Санкт-Петербург', 5614, 7003, 5895]], columns=['city', 'monday','wednesday','friday'])  # создание таблицы с результатами\n",
    "print(info) # вывод таблицы на экран"
   ]
  },
  {
   "cell_type": "markdown",
   "metadata": {
    "deletable": false,
    "editable": false,
    "id": "-EgPIHYu_Zcu"
   },
   "source": [
    "**Выводы**\n",
    "\n",
    "Данные показывают разницу поведения пользователей:\n",
    "\n",
    "- В Москве пик прослушиваний приходится на понедельник и пятницу, а в среду заметен спад.\n",
    "- В Петербурге, наоборот, больше слушают музыку по средам. Активность в понедельник и пятницу здесь почти в равной мере уступает среде.\n",
    "\n",
    "Значит, данные говорят в пользу первой гипотезы."
   ]
  },
  {
   "cell_type": "markdown",
   "metadata": {
    "deletable": false,
    "editable": false,
    "id": "atZAxtq4_Zcu"
   },
   "source": [
    "### Музыка в начале и в конце недели"
   ]
  },
  {
   "cell_type": "markdown",
   "metadata": {
    "deletable": false,
    "editable": false,
    "id": "eXrQqXFH_Zcu"
   },
   "source": [
    "Согласно второй гипотезе, утром в понедельник в Москве преобладают одни жанры, а в Петербурге — другие. Так же и вечером пятницы преобладают разные жанры — в зависимости от города."
   ]
  },
  {
   "cell_type": "markdown",
   "metadata": {
    "deletable": false,
    "editable": false,
    "id": "S8UcW6Hw_Zcu",
    "tags": [
     "start_task"
    ]
   },
   "source": [
    "**Задание 23**"
   ]
  },
  {
   "cell_type": "code",
   "execution_count": 1265,
   "metadata": {
    "deletable": false,
    "id": "qeaFfM_P_Zcu"
   },
   "outputs": [],
   "source": [
    "moscow_general = df[(df['city'] == 'Moscow')] # получение таблицы moscow_general из тех строк таблицы df, для которых значение в столбце 'city' равно 'Moscow'\n"
   ]
  },
  {
   "cell_type": "code",
   "execution_count": 1266,
   "metadata": {
    "deletable": false,
    "id": "ORaVRKto_Zcu"
   },
   "outputs": [],
   "source": [
    "spb_general = df[(df['city'] == 'Saint-Petersburg')]# получение таблицы spb_general из тех строк таблицы df, для которых значение в столбце 'city' равно 'Saint-Petersburg'\n"
   ]
  },
  {
   "cell_type": "markdown",
   "metadata": {
    "deletable": false,
    "editable": false,
    "id": "MEJV-CX2_Zcu",
    "tags": [
     "start_task"
    ]
   },
   "source": [
    "**Задание 24**"
   ]
  },
  {
   "cell_type": "code",
   "execution_count": 1267,
   "metadata": {
    "deletable": false,
    "id": "laJT9BYl_Zcu"
   },
   "outputs": [],
   "source": [
    "def genre_weekday(df, day, time1, time2):\n",
    "    # последовательная фильтрация\n",
    "    # оставляем в genre_df только те строки df, у которых день равен day\n",
    "    genre_df = df[(df['day'] == day)] # ваш код здесь\n",
    "    # оставляем в genre_df только те строки genre_df, у которых время меньше time2\n",
    "    genre_df = genre_df[(genre_df['time'] < time2)] # ваш код здесь\n",
    "    # оставляем в genre_df только те строки genre_df, у которых время больше time1\n",
    "    genre_df = genre_df[(genre_df['time'] > time1)] # ваш код здесь\n",
    "    # сгруппируем отфильтрованный датафрейм по столбцу с названиями жанров, возьмём столбец genre и посчитаем кол-во строк для каждого жанра методом count()\n",
    "    genre_df_grouped = genre_df.groupby('genre')['genre'].count() # ваш код здесь\n",
    "    # отсортируем результат по убыванию (чтобы в начале Series оказались самые популярные жанры)\n",
    "    genre_df_sorted = genre_df_grouped.sort_values(ascending = False)# ваш код здесь\n",
    "    # вернём Series с 10 самыми популярными жанрами в указанный отрезок времени заданного дня\n",
    "    return genre_df_sorted[:10]"
   ]
  },
  {
   "cell_type": "markdown",
   "metadata": {
    "deletable": false,
    "editable": false,
    "id": "la2s2_PF_Zcu",
    "tags": [
     "start_task"
    ]
   },
   "source": [
    "**Задание 25**"
   ]
  },
  {
   "cell_type": "code",
   "execution_count": 1268,
   "metadata": {
    "deletable": false,
    "id": "yz7itPUQ_Zcu"
   },
   "outputs": [
    {
     "name": "stdout",
     "output_type": "stream",
     "text": [
      "genre\n",
      "pop            781\n",
      "dance          549\n",
      "electronic     480\n",
      "rock           474\n",
      "hiphop         286\n",
      "ruspop         186\n",
      "world          181\n",
      "rusrap         175\n",
      "alternative    164\n",
      "unknown        161\n",
      "Name: genre, dtype: int64\n"
     ]
    }
   ],
   "source": [
    "print(genre_weekday(moscow_general, 'Monday', '07:00', '11:00'))# вызов функции для утра понедельника в Москве (вместо df — таблица moscow_general)"
   ]
  },
  {
   "cell_type": "code",
   "execution_count": 1269,
   "metadata": {
    "deletable": false,
    "id": "kwUcHPdy_Zcu"
   },
   "outputs": [
    {
     "name": "stdout",
     "output_type": "stream",
     "text": [
      "genre\n",
      "pop            218\n",
      "dance          182\n",
      "rock           162\n",
      "electronic     147\n",
      "hiphop          80\n",
      "ruspop          64\n",
      "alternative     58\n",
      "rusrap          55\n",
      "jazz            44\n",
      "classical       40\n",
      "Name: genre, dtype: int64\n"
     ]
    }
   ],
   "source": [
    "print(genre_weekday(spb_general, 'Monday', '07:00', '11:00'))# вызов функции для утра понедельника в Петербурге (вместо df — таблица spb_general)"
   ]
  },
  {
   "cell_type": "code",
   "execution_count": 1270,
   "metadata": {
    "deletable": false,
    "id": "EzXVRE1o_Zcu"
   },
   "outputs": [
    {
     "name": "stdout",
     "output_type": "stream",
     "text": [
      "genre\n",
      "pop            713\n",
      "rock           517\n",
      "dance          495\n",
      "electronic     482\n",
      "hiphop         273\n",
      "world          208\n",
      "ruspop         170\n",
      "alternative    163\n",
      "classical      163\n",
      "rusrap         142\n",
      "Name: genre, dtype: int64\n"
     ]
    }
   ],
   "source": [
    "print(genre_weekday(moscow_general, 'Friday', '17:00', '23:00'))# вызов функции для вечера пятницы в Москве"
   ]
  },
  {
   "cell_type": "code",
   "execution_count": 1271,
   "metadata": {
    "deletable": false,
    "id": "JZaEKu5v_Zcu"
   },
   "outputs": [
    {
     "name": "stdout",
     "output_type": "stream",
     "text": [
      "genre\n",
      "pop            256\n",
      "electronic     216\n",
      "rock           216\n",
      "dance          210\n",
      "hiphop          97\n",
      "alternative     63\n",
      "jazz            61\n",
      "classical       60\n",
      "rusrap          59\n",
      "world           54\n",
      "Name: genre, dtype: int64\n"
     ]
    }
   ],
   "source": [
    "print(genre_weekday(spb_general, 'Friday', '17:00', '23:00'))# вызов функции для вечера пятницы в Петербурге"
   ]
  },
  {
   "cell_type": "markdown",
   "metadata": {
    "deletable": false,
    "editable": false,
    "id": "wrCe4MNX_Zcu"
   },
   "source": [
    "**Выводы**\n",
    "\n",
    "Если сравнить топ-10 жанров в понедельник утром, можно сделать такие выводы:\n",
    "\n",
    "1. В Москве и Петербурге слушают похожую музыку. Единственное различие — в московский рейтинг вошёл жанр “world”, а в петербургский — джаз и классика.\n",
    "\n",
    "2. В Москве пропущенных значений оказалось так много, что значение `'unknown'` заняло десятое место среди самых популярных жанров. Значит, пропущенные значения занимают существенную долю в данных и угрожают достоверности исследования.\n",
    "\n",
    "Вечер пятницы не меняет эту картину. Некоторые жанры поднимаются немного выше, другие спускаются, но в целом топ-10 остаётся тем же самым.\n",
    "\n",
    "Таким образом, вторая гипотеза подтвердилась лишь частично:\n",
    "* Пользователи слушают похожую музыку в начале недели и в конце.\n",
    "* Разница между Москвой и Петербургом не слишком выражена. В Москве чаще слушают русскую популярную музыку, в Петербурге — джаз.\n",
    "\n",
    "Однако пропуски в данных ставят под сомнение этот результат. В Москве их так много, что рейтинг топ-10 мог бы выглядеть иначе, если бы не утерянные  данные о жанрах."
   ]
  },
  {
   "cell_type": "markdown",
   "metadata": {
    "deletable": false,
    "editable": false,
    "id": "JolODAqr_Zcu"
   },
   "source": [
    "### Жанровые предпочтения в Москве и Петербурге\n",
    "\n",
    "Гипотеза: Петербург — столица рэпа, музыку этого жанра там слушают чаще, чем в Москве.  А Москва — город контрастов, в котором, тем не менее, преобладает поп-музыка."
   ]
  },
  {
   "cell_type": "markdown",
   "metadata": {
    "deletable": false,
    "editable": false,
    "id": "DlegSvaT_Zcu",
    "tags": [
     "start_task"
    ]
   },
   "source": [
    "**Задание 26**"
   ]
  },
  {
   "cell_type": "code",
   "execution_count": 1272,
   "metadata": {
    "deletable": false,
    "id": "r19lIPke_Zcu"
   },
   "outputs": [],
   "source": [
    "moscow_genres = moscow_general.groupby('genre')['genre'].count()# одной строкой: группировка таблицы moscow_general по столбцу 'genre', выбор столбца `genre`, подсчёт числа значений 'genre' методом count(), сохранение в moscow_genres\n",
    "moscow_genres = moscow_genres.sort_values(ascending = False)# сортировка получившегося Series в порядке убывания и сохранение обратно в moscow_genres\n"
   ]
  },
  {
   "cell_type": "markdown",
   "metadata": {
    "deletable": false,
    "editable": false,
    "id": "6kMuomxTiIr8",
    "tags": [
     "start_task"
    ]
   },
   "source": [
    "**Задание 27**"
   ]
  },
  {
   "cell_type": "code",
   "execution_count": 1273,
   "metadata": {
    "deletable": false,
    "id": "WhCSooF8_Zcv"
   },
   "outputs": [
    {
     "name": "stdout",
     "output_type": "stream",
     "text": [
      "genre\n",
      "pop            5892\n",
      "dance          4435\n",
      "rock           3965\n",
      "electronic     3786\n",
      "hiphop         2096\n",
      "classical      1616\n",
      "world          1432\n",
      "alternative    1379\n",
      "ruspop         1372\n",
      "rusrap         1161\n",
      "Name: genre, dtype: int64\n"
     ]
    }
   ],
   "source": [
    "print(moscow_genres.head(10))# просмотр первых 10 строк moscow_genres"
   ]
  },
  {
   "cell_type": "markdown",
   "metadata": {
    "deletable": false,
    "editable": false,
    "id": "cnPG2vnN_Zcv",
    "tags": [
     "start_task"
    ]
   },
   "source": [
    "**Задание 28**"
   ]
  },
  {
   "cell_type": "code",
   "execution_count": 1274,
   "metadata": {
    "deletable": false,
    "id": "gluLIpE7_Zcv"
   },
   "outputs": [],
   "source": [
    "spb_genres = spb_general.groupby('genre')['genre'].count()# одной строкой: группировка таблицы spb_general по столбцу 'genre', выбор столбца `genre`, подсчёт числа значений 'genre' методом count(), сохранение в spb_genres\n",
    "spb_genres = spb_genres.sort_values(ascending = False)# сортировка получившегося Series в порядке убывания и сохранение обратно в spb_genres"
   ]
  },
  {
   "cell_type": "markdown",
   "metadata": {
    "deletable": false,
    "editable": false,
    "id": "5Doha_ODgyQ8",
    "tags": [
     "start_task"
    ]
   },
   "source": [
    "**Задание 29**"
   ]
  },
  {
   "cell_type": "code",
   "execution_count": 1275,
   "metadata": {
    "deletable": false,
    "id": "uaGJHjVU_Zcv"
   },
   "outputs": [
    {
     "name": "stdout",
     "output_type": "stream",
     "text": [
      "genre\n",
      "pop            2431\n",
      "dance          1932\n",
      "rock           1879\n",
      "electronic     1736\n",
      "hiphop          960\n",
      "alternative     649\n",
      "classical       646\n",
      "rusrap          564\n",
      "ruspop          538\n",
      "world           515\n",
      "Name: genre, dtype: int64\n"
     ]
    }
   ],
   "source": [
    "print(spb_genres.head(10))# просмотр первых 10 строк spb_genres"
   ]
  },
  {
   "cell_type": "markdown",
   "metadata": {
    "deletable": false,
    "editable": false,
    "id": "RY51YJYu_Zcv"
   },
   "source": [
    "**Выводы**"
   ]
  },
  {
   "cell_type": "markdown",
   "metadata": {
    "deletable": false,
    "editable": false,
    "id": "nVhnJEm__Zcv"
   },
   "source": [
    "Гипотеза частично подтвердилась:\n",
    "* Поп-музыка — самый популярный жанр в Москве, как и предполагала гипотеза. Более того, в топ-10 жанров встречается близкий жанр — русская популярная музыка.\n",
    "* Вопреки ожиданиям, рэп одинаково популярен в Москве и Петербурге.\n"
   ]
  },
  {
   "cell_type": "markdown",
   "metadata": {
    "deletable": false,
    "editable": false,
    "id": "ykKQ0N65_Zcv"
   },
   "source": [
    "## Итоги исследования"
   ]
  },
  {
   "cell_type": "markdown",
   "metadata": {
    "deletable": false,
    "editable": false,
    "id": "tjUwbHb3_Zcv"
   },
   "source": [
    "Вы проверили три гипотезы и установили:\n",
    "\n",
    "1. День недели по-разному влияет на активность пользователей в Москве и Петербурге.\n",
    "\n",
    "Первая гипотеза полностью подтвердилась.\n",
    "\n",
    "2. Музыкальные предпочтения не сильно меняются в течение недели — будь то Москва или Петербург. Небольшие различия заметны в начале недели, по понедельникам:\n",
    "* в Москве слушают музыку жанра “world”,\n",
    "* в Петербурге — джаз и классику.\n",
    "\n",
    "Таким образом, вторая гипотеза подтвердилась лишь отчасти. Этот результат мог оказаться иным, если бы не пропуски в данных.\n",
    "\n",
    "3. Во вкусах пользователей Москвы и Петербурга больше общего, чем различий. Вопреки ожиданиям, предпочтения жанров в Петербурге напоминают московские.\n",
    "\n",
    "Третья гипотеза не подтвердилась. Если различия в предпочтениях и существуют, на основной массе пользователей они незаметны.\n",
    "\n",
    "**На практике исследования содержат проверки статистических гипотез.**\n",
    "Из части данных одного сервиса невозможно сделать какие-то выводы о всех пользователях сервиса без методов статистики.\n",
    "Проверки статистических гипотез покажут, насколько они достоверны, исходя из имеющихся данных.\n",
    "С методами проверок гипотез вы ещё познакомитесь в следующих темах."
   ]
  },
  {
   "cell_type": "code",
   "execution_count": 1,
   "metadata": {},
   "outputs": [
    {
     "name": "stdout",
     "output_type": "stream",
     "text": [
      "Requirement already satisfied: sqlalchemy in /opt/conda/lib/python3.9/site-packages (1.4.20)\n",
      "Requirement already satisfied: greenlet!=0.4.17 in /opt/conda/lib/python3.9/site-packages (from sqlalchemy) (1.1.0)\n"
     ]
    }
   ],
   "source": [
    "!pip install sqlalchemy\n",
    "import pandas as pd\n",
    "import matplotlib.pyplot as plt\n",
    "import seaborn as sns\n",
    "from sqlalchemy import create_engine"
   ]
  },
  {
   "cell_type": "code",
   "execution_count": 2,
   "metadata": {},
   "outputs": [],
   "source": [
    "db_config = {\n",
    "    'user': 'praktikum_student', # имя пользователя\n",
    "    'pwd': 'Sdf4$2;d-d30pp', # пароль\n",
    "    'host': 'rc1b-wcoijxj3yxfsf3fs.mdb.yandexcloud.net',\n",
    "    'port': 6432, # порт подключения\n",
    "    'db': 'data-analyst-advanced-sql' # название базы данных\n",
    "} "
   ]
  },
  {
   "cell_type": "code",
   "execution_count": 3,
   "metadata": {},
   "outputs": [],
   "source": [
    "connection_string = 'postgresql://{}:{}@{}:{}/{}'.format(\n",
    "    db_config['user'],\n",
    "    db_config['pwd'],\n",
    "    db_config['host'],\n",
    "    db_config['port'],\n",
    "    db_config['db'],\n",
    ") "
   ]
  },
  {
   "cell_type": "code",
   "execution_count": 4,
   "metadata": {},
   "outputs": [],
   "source": [
    "engine = create_engine(connection_string)"
   ]
  },
  {
   "cell_type": "code",
   "execution_count": 5,
   "metadata": {},
   "outputs": [],
   "source": [
    "query = '''\n",
    "WITH profile AS\n",
    "  (SELECT user_id,\n",
    "          dt,\n",
    "          COUNT(*) OVER (PARTITION BY dt) AS cohort_users_cnt\n",
    "   FROM online_store.profiles\n",
    "   WHERE channel = 'Organic'),\n",
    "sessions AS \n",
    "(SELECT user_id,\n",
    "        session_start::date AS session_date\n",
    "FROM online_store.sessions\n",
    "GROUP BY 1,\n",
    "         2)\n",
    "SELECT p.dt AS cohort_dt,\n",
    "       session_date,\n",
    "       COUNT(p.user_id) AS users_cnt,\n",
    "       cohort_users_cnt,\n",
    "       ROUND(COUNT(p.user_id) * 100.0 / cohort_users_cnt, 2) AS retention_rate\n",
    "FROM profile p\n",
    "JOIN sessions s ON p.user_id = s.user_id\n",
    "GROUP BY 1,\n",
    "         2,\n",
    "         4\n",
    "''' "
   ]
  },
  {
   "cell_type": "code",
   "execution_count": 6,
   "metadata": {},
   "outputs": [],
   "source": [
    "retention_rate_df = pd.read_sql_query(query, con = engine) "
   ]
  },
  {
   "cell_type": "code",
   "execution_count": 7,
   "metadata": {},
   "outputs": [
    {
     "name": "stdout",
     "output_type": "stream",
     "text": [
      "    cohort_dt session_date  users_cnt  cohort_users_cnt  retention_rate\n",
      "0  2020-06-15   2020-06-21        688              4139           16.62\n",
      "1  2020-06-17   2020-06-25        110              5600            1.96\n",
      "2  2020-06-17   2020-06-24        122              5600            2.18\n",
      "3  2020-06-22   2020-06-25       1059              4450           23.80\n",
      "4  2020-06-16   2020-06-20        222              4438            5.00\n"
     ]
    }
   ],
   "source": [
    "print(retention_rate_df.head()) "
   ]
  },
  {
   "cell_type": "code",
   "execution_count": 8,
   "metadata": {},
   "outputs": [
    {
     "data": {
      "image/png": "[encoded data removed]",
      "text/plain": [
       "<Figure size 1152x1152 with 2 Axes>"
      ]
     },
     "metadata": {
      "needs_background": "light"
     },
     "output_type": "display_data"
    }
   ],
   "source": [
    "retention = retention_rate_df.pivot(index='cohort_dt', columns='session_date', values='retention_rate')\n",
    "retention.index = [str(x)[0:10] for x in retention.index]\n",
    "retention.columns = [str(x)[0:10] for x in retention.columns]\n",
    "\n",
    "# строим хитмэп\n",
    "plt.figure(figsize=(16, 16)) # задаём размер графика\n",
    "sns.heatmap(retention, # датафрейм с данными\n",
    "            annot=True, # добавляем подписи\n",
    "            fmt='') # задаём исходный формат\n",
    "plt.title('Тепловая карта') # название графика\n",
    "plt.show() "
   ]
  },
  {
   "cell_type": "code",
   "execution_count": null,
   "metadata": {},
   "outputs": [],
   "source": []
  }
 ],
 "metadata": {
  "ExecuteTimeLog": [
   {
    "duration": 317,
    "start_time": "2024-05-30T07:29:42.854Z"
   },
   {
    "duration": 456,
    "start_time": "2024-05-30T07:29:43.173Z"
   },
   {
    "duration": 7,
    "start_time": "2024-05-30T07:29:43.630Z"
   },
   {
    "duration": 48,
    "start_time": "2024-05-30T07:29:43.638Z"
   },
   {
    "duration": 11,
    "start_time": "2024-05-30T07:29:43.688Z"
   },
   {
    "duration": 5,
    "start_time": "2024-05-30T07:29:43.700Z"
   },
   {
    "duration": 19,
    "start_time": "2024-05-30T07:29:43.707Z"
   },
   {
    "duration": 2,
    "start_time": "2024-05-30T07:29:43.727Z"
   },
   {
    "duration": 19,
    "start_time": "2024-05-30T07:29:43.731Z"
   },
   {
    "duration": 13,
    "start_time": "2024-05-30T07:29:43.752Z"
   },
   {
    "duration": 17,
    "start_time": "2024-05-30T07:29:43.766Z"
   },
   {
    "duration": 60,
    "start_time": "2024-05-30T07:29:43.812Z"
   },
   {
    "duration": 75,
    "start_time": "2024-05-30T07:29:43.873Z"
   },
   {
    "duration": 68,
    "start_time": "2024-05-30T07:29:43.952Z"
   },
   {
    "duration": 47,
    "start_time": "2024-05-30T07:29:44.021Z"
   },
   {
    "duration": 2,
    "start_time": "2024-05-30T07:29:44.070Z"
   },
   {
    "duration": 23,
    "start_time": "2024-05-30T07:29:44.073Z"
   },
   {
    "duration": 16,
    "start_time": "2024-05-30T07:29:44.098Z"
   },
   {
    "duration": 7,
    "start_time": "2024-05-30T07:29:44.115Z"
   },
   {
    "duration": 54,
    "start_time": "2024-05-30T07:29:44.123Z"
   },
   {
    "duration": 0,
    "start_time": "2024-05-30T07:29:44.178Z"
   },
   {
    "duration": 0,
    "start_time": "2024-05-30T07:29:44.179Z"
   },
   {
    "duration": 0,
    "start_time": "2024-05-30T07:29:44.180Z"
   },
   {
    "duration": 0,
    "start_time": "2024-05-30T07:29:44.182Z"
   },
   {
    "duration": 0,
    "start_time": "2024-05-30T07:29:44.183Z"
   },
   {
    "duration": 0,
    "start_time": "2024-05-30T07:29:44.183Z"
   },
   {
    "duration": 0,
    "start_time": "2024-05-30T07:29:44.184Z"
   },
   {
    "duration": 0,
    "start_time": "2024-05-30T07:29:44.185Z"
   },
   {
    "duration": 0,
    "start_time": "2024-05-30T07:29:44.186Z"
   },
   {
    "duration": 0,
    "start_time": "2024-05-30T07:29:44.186Z"
   },
   {
    "duration": 0,
    "start_time": "2024-05-30T07:29:44.187Z"
   },
   {
    "duration": 0,
    "start_time": "2024-05-30T07:29:44.188Z"
   },
   {
    "duration": 0,
    "start_time": "2024-05-30T07:29:44.189Z"
   },
   {
    "duration": 0,
    "start_time": "2024-05-30T07:29:44.189Z"
   },
   {
    "duration": 0,
    "start_time": "2024-05-30T07:29:44.190Z"
   },
   {
    "duration": 0,
    "start_time": "2024-05-30T07:29:44.191Z"
   },
   {
    "duration": 0,
    "start_time": "2024-05-30T07:29:44.192Z"
   },
   {
    "duration": 0,
    "start_time": "2024-05-30T07:29:44.192Z"
   },
   {
    "duration": 37,
    "start_time": "2024-05-30T09:47:22.407Z"
   },
   {
    "duration": 31,
    "start_time": "2024-05-30T09:47:35.433Z"
   },
   {
    "duration": 2,
    "start_time": "2024-05-30T10:11:38.270Z"
   },
   {
    "duration": 165,
    "start_time": "2024-05-30T10:11:38.274Z"
   },
   {
    "duration": 6,
    "start_time": "2024-05-30T10:11:38.440Z"
   },
   {
    "duration": 55,
    "start_time": "2024-05-30T10:11:38.447Z"
   },
   {
    "duration": 5,
    "start_time": "2024-05-30T10:11:38.503Z"
   },
   {
    "duration": 11,
    "start_time": "2024-05-30T10:11:38.508Z"
   },
   {
    "duration": 19,
    "start_time": "2024-05-30T10:11:38.520Z"
   },
   {
    "duration": 2,
    "start_time": "2024-05-30T10:11:38.540Z"
   },
   {
    "duration": 30,
    "start_time": "2024-05-30T10:11:38.543Z"
   },
   {
    "duration": 19,
    "start_time": "2024-05-30T10:11:38.574Z"
   },
   {
    "duration": 21,
    "start_time": "2024-05-30T10:11:38.594Z"
   },
   {
    "duration": 72,
    "start_time": "2024-05-30T10:11:38.616Z"
   },
   {
    "duration": 60,
    "start_time": "2024-05-30T10:11:38.689Z"
   },
   {
    "duration": 52,
    "start_time": "2024-05-30T10:11:38.752Z"
   },
   {
    "duration": 36,
    "start_time": "2024-05-30T10:11:38.805Z"
   },
   {
    "duration": 68,
    "start_time": "2024-05-30T10:11:38.843Z"
   },
   {
    "duration": 0,
    "start_time": "2024-05-30T10:11:38.912Z"
   },
   {
    "duration": 0,
    "start_time": "2024-05-30T10:11:38.913Z"
   },
   {
    "duration": 0,
    "start_time": "2024-05-30T10:11:38.914Z"
   },
   {
    "duration": 0,
    "start_time": "2024-05-30T10:11:38.915Z"
   },
   {
    "duration": 0,
    "start_time": "2024-05-30T10:11:38.915Z"
   },
   {
    "duration": 0,
    "start_time": "2024-05-30T10:11:38.916Z"
   },
   {
    "duration": 0,
    "start_time": "2024-05-30T10:11:38.917Z"
   },
   {
    "duration": 0,
    "start_time": "2024-05-30T10:11:38.918Z"
   },
   {
    "duration": 0,
    "start_time": "2024-05-30T10:11:38.919Z"
   },
   {
    "duration": 0,
    "start_time": "2024-05-30T10:11:38.920Z"
   },
   {
    "duration": 0,
    "start_time": "2024-05-30T10:11:38.921Z"
   },
   {
    "duration": 0,
    "start_time": "2024-05-30T10:11:38.922Z"
   },
   {
    "duration": 0,
    "start_time": "2024-05-30T10:11:38.923Z"
   },
   {
    "duration": 0,
    "start_time": "2024-05-30T10:11:38.923Z"
   },
   {
    "duration": 0,
    "start_time": "2024-05-30T10:11:38.924Z"
   },
   {
    "duration": 0,
    "start_time": "2024-05-30T10:11:38.925Z"
   },
   {
    "duration": 1,
    "start_time": "2024-05-30T10:11:38.925Z"
   },
   {
    "duration": 0,
    "start_time": "2024-05-30T10:11:38.926Z"
   },
   {
    "duration": 0,
    "start_time": "2024-05-30T10:11:38.927Z"
   },
   {
    "duration": 0,
    "start_time": "2024-05-30T10:11:38.928Z"
   },
   {
    "duration": 0,
    "start_time": "2024-05-30T10:11:38.929Z"
   },
   {
    "duration": 0,
    "start_time": "2024-05-30T10:11:38.929Z"
   },
   {
    "duration": 2,
    "start_time": "2024-05-30T10:32:17.757Z"
   },
   {
    "duration": 165,
    "start_time": "2024-05-30T10:32:17.760Z"
   },
   {
    "duration": 5,
    "start_time": "2024-05-30T10:32:17.926Z"
   },
   {
    "duration": 45,
    "start_time": "2024-05-30T10:32:17.932Z"
   },
   {
    "duration": 12,
    "start_time": "2024-05-30T10:32:17.979Z"
   },
   {
    "duration": 36,
    "start_time": "2024-05-30T10:32:17.993Z"
   },
   {
    "duration": 23,
    "start_time": "2024-05-30T10:32:18.030Z"
   },
   {
    "duration": 73,
    "start_time": "2024-05-30T10:32:18.054Z"
   },
   {
    "duration": 24,
    "start_time": "2024-05-30T10:32:18.129Z"
   },
   {
    "duration": 14,
    "start_time": "2024-05-30T10:32:18.154Z"
   },
   {
    "duration": 29,
    "start_time": "2024-05-30T10:32:18.170Z"
   },
   {
    "duration": 57,
    "start_time": "2024-05-30T10:32:18.200Z"
   },
   {
    "duration": 63,
    "start_time": "2024-05-30T10:32:18.259Z"
   },
   {
    "duration": 53,
    "start_time": "2024-05-30T10:32:18.324Z"
   },
   {
    "duration": 52,
    "start_time": "2024-05-30T10:32:18.379Z"
   },
   {
    "duration": 2,
    "start_time": "2024-05-30T10:32:18.433Z"
   },
   {
    "duration": 3,
    "start_time": "2024-05-30T10:32:18.437Z"
   },
   {
    "duration": 9,
    "start_time": "2024-05-30T10:32:18.441Z"
   },
   {
    "duration": 60,
    "start_time": "2024-05-30T10:32:18.452Z"
   },
   {
    "duration": 0,
    "start_time": "2024-05-30T10:32:18.513Z"
   },
   {
    "duration": 0,
    "start_time": "2024-05-30T10:32:18.514Z"
   },
   {
    "duration": 0,
    "start_time": "2024-05-30T10:32:18.516Z"
   },
   {
    "duration": 0,
    "start_time": "2024-05-30T10:32:18.517Z"
   },
   {
    "duration": 0,
    "start_time": "2024-05-30T10:32:18.518Z"
   },
   {
    "duration": 0,
    "start_time": "2024-05-30T10:32:18.519Z"
   },
   {
    "duration": 0,
    "start_time": "2024-05-30T10:32:18.520Z"
   },
   {
    "duration": 0,
    "start_time": "2024-05-30T10:32:18.521Z"
   },
   {
    "duration": 0,
    "start_time": "2024-05-30T10:32:18.522Z"
   },
   {
    "duration": 0,
    "start_time": "2024-05-30T10:32:18.523Z"
   },
   {
    "duration": 0,
    "start_time": "2024-05-30T10:32:18.525Z"
   },
   {
    "duration": 0,
    "start_time": "2024-05-30T10:32:18.525Z"
   },
   {
    "duration": 0,
    "start_time": "2024-05-30T10:32:18.527Z"
   },
   {
    "duration": 0,
    "start_time": "2024-05-30T10:32:18.528Z"
   },
   {
    "duration": 0,
    "start_time": "2024-05-30T10:32:18.529Z"
   },
   {
    "duration": 0,
    "start_time": "2024-05-30T10:32:18.530Z"
   },
   {
    "duration": 0,
    "start_time": "2024-05-30T10:32:18.531Z"
   },
   {
    "duration": 0,
    "start_time": "2024-05-30T10:32:18.532Z"
   },
   {
    "duration": 2,
    "start_time": "2024-05-30T13:25:15.754Z"
   },
   {
    "duration": 150,
    "start_time": "2024-05-30T13:25:15.757Z"
   },
   {
    "duration": 6,
    "start_time": "2024-05-30T13:25:15.908Z"
   },
   {
    "duration": 35,
    "start_time": "2024-05-30T13:25:15.915Z"
   },
   {
    "duration": 12,
    "start_time": "2024-05-30T13:25:15.952Z"
   },
   {
    "duration": 19,
    "start_time": "2024-05-30T13:25:15.965Z"
   },
   {
    "duration": 14,
    "start_time": "2024-05-30T13:25:15.985Z"
   },
   {
    "duration": 10,
    "start_time": "2024-05-30T13:25:16.000Z"
   },
   {
    "duration": 20,
    "start_time": "2024-05-30T13:25:16.011Z"
   },
   {
    "duration": 26,
    "start_time": "2024-05-30T13:25:16.032Z"
   },
   {
    "duration": 17,
    "start_time": "2024-05-30T13:25:16.059Z"
   },
   {
    "duration": 54,
    "start_time": "2024-05-30T13:25:16.077Z"
   },
   {
    "duration": 54,
    "start_time": "2024-05-30T13:25:16.134Z"
   },
   {
    "duration": 59,
    "start_time": "2024-05-30T13:25:16.190Z"
   },
   {
    "duration": 59,
    "start_time": "2024-05-30T13:25:16.251Z"
   },
   {
    "duration": 11,
    "start_time": "2024-05-30T13:25:16.311Z"
   },
   {
    "duration": 4,
    "start_time": "2024-05-30T13:25:16.323Z"
   },
   {
    "duration": 9,
    "start_time": "2024-05-30T13:25:16.328Z"
   },
   {
    "duration": 3,
    "start_time": "2024-05-30T13:25:16.338Z"
   },
   {
    "duration": 268,
    "start_time": "2024-05-30T13:25:16.342Z"
   },
   {
    "duration": 0,
    "start_time": "2024-05-30T13:25:16.611Z"
   },
   {
    "duration": 0,
    "start_time": "2024-05-30T13:25:16.612Z"
   },
   {
    "duration": 0,
    "start_time": "2024-05-30T13:25:16.613Z"
   },
   {
    "duration": 0,
    "start_time": "2024-05-30T13:25:16.614Z"
   },
   {
    "duration": 0,
    "start_time": "2024-05-30T13:25:16.615Z"
   },
   {
    "duration": 0,
    "start_time": "2024-05-30T13:25:16.616Z"
   },
   {
    "duration": 0,
    "start_time": "2024-05-30T13:25:16.617Z"
   },
   {
    "duration": 0,
    "start_time": "2024-05-30T13:25:16.617Z"
   },
   {
    "duration": 0,
    "start_time": "2024-05-30T13:25:16.618Z"
   },
   {
    "duration": 0,
    "start_time": "2024-05-30T13:25:16.619Z"
   },
   {
    "duration": 0,
    "start_time": "2024-05-30T13:25:16.620Z"
   },
   {
    "duration": 0,
    "start_time": "2024-05-30T13:25:16.621Z"
   },
   {
    "duration": 0,
    "start_time": "2024-05-30T13:25:16.621Z"
   },
   {
    "duration": 0,
    "start_time": "2024-05-30T13:25:16.622Z"
   },
   {
    "duration": 0,
    "start_time": "2024-05-30T13:25:16.623Z"
   },
   {
    "duration": 0,
    "start_time": "2024-05-30T13:25:16.624Z"
   },
   {
    "duration": 0,
    "start_time": "2024-05-30T13:25:16.625Z"
   },
   {
    "duration": 0,
    "start_time": "2024-05-30T13:25:16.626Z"
   },
   {
    "duration": 2,
    "start_time": "2024-05-30T13:28:19.870Z"
   },
   {
    "duration": 153,
    "start_time": "2024-05-30T13:28:19.873Z"
   },
   {
    "duration": 5,
    "start_time": "2024-05-30T13:28:20.027Z"
   },
   {
    "duration": 30,
    "start_time": "2024-05-30T13:28:20.034Z"
   },
   {
    "duration": 11,
    "start_time": "2024-05-30T13:28:20.065Z"
   },
   {
    "duration": 19,
    "start_time": "2024-05-30T13:28:20.077Z"
   },
   {
    "duration": 32,
    "start_time": "2024-05-30T13:28:20.097Z"
   },
   {
    "duration": 3,
    "start_time": "2024-05-30T13:28:20.130Z"
   },
   {
    "duration": 32,
    "start_time": "2024-05-30T13:28:20.135Z"
   },
   {
    "duration": 12,
    "start_time": "2024-05-30T13:28:20.169Z"
   },
   {
    "duration": 17,
    "start_time": "2024-05-30T13:28:20.183Z"
   },
   {
    "duration": 52,
    "start_time": "2024-05-30T13:28:20.201Z"
   },
   {
    "duration": 64,
    "start_time": "2024-05-30T13:28:20.254Z"
   },
   {
    "duration": 49,
    "start_time": "2024-05-30T13:28:20.320Z"
   },
   {
    "duration": 88,
    "start_time": "2024-05-30T13:28:20.372Z"
   },
   {
    "duration": 11,
    "start_time": "2024-05-30T13:28:20.462Z"
   },
   {
    "duration": 16,
    "start_time": "2024-05-30T13:28:20.474Z"
   },
   {
    "duration": 5,
    "start_time": "2024-05-30T13:28:20.492Z"
   },
   {
    "duration": 4,
    "start_time": "2024-05-30T13:28:20.498Z"
   },
   {
    "duration": 281,
    "start_time": "2024-05-30T13:28:20.503Z"
   },
   {
    "duration": 0,
    "start_time": "2024-05-30T13:28:20.785Z"
   },
   {
    "duration": 0,
    "start_time": "2024-05-30T13:28:20.787Z"
   },
   {
    "duration": 0,
    "start_time": "2024-05-30T13:28:20.787Z"
   },
   {
    "duration": 0,
    "start_time": "2024-05-30T13:28:20.789Z"
   },
   {
    "duration": 0,
    "start_time": "2024-05-30T13:28:20.790Z"
   },
   {
    "duration": 0,
    "start_time": "2024-05-30T13:28:20.791Z"
   },
   {
    "duration": 0,
    "start_time": "2024-05-30T13:28:20.792Z"
   },
   {
    "duration": 0,
    "start_time": "2024-05-30T13:28:20.793Z"
   },
   {
    "duration": 0,
    "start_time": "2024-05-30T13:28:20.794Z"
   },
   {
    "duration": 0,
    "start_time": "2024-05-30T13:28:20.795Z"
   },
   {
    "duration": 0,
    "start_time": "2024-05-30T13:28:20.796Z"
   },
   {
    "duration": 0,
    "start_time": "2024-05-30T13:28:20.797Z"
   },
   {
    "duration": 0,
    "start_time": "2024-05-30T13:28:20.798Z"
   },
   {
    "duration": 0,
    "start_time": "2024-05-30T13:28:20.799Z"
   },
   {
    "duration": 0,
    "start_time": "2024-05-30T13:28:20.800Z"
   },
   {
    "duration": 0,
    "start_time": "2024-05-30T13:28:20.800Z"
   },
   {
    "duration": 0,
    "start_time": "2024-05-30T13:28:20.801Z"
   },
   {
    "duration": 0,
    "start_time": "2024-05-30T13:28:20.802Z"
   },
   {
    "duration": 2,
    "start_time": "2024-05-30T13:29:29.816Z"
   },
   {
    "duration": 139,
    "start_time": "2024-05-30T13:29:29.819Z"
   },
   {
    "duration": 5,
    "start_time": "2024-05-30T13:29:29.959Z"
   },
   {
    "duration": 29,
    "start_time": "2024-05-30T13:29:29.966Z"
   },
   {
    "duration": 2,
    "start_time": "2024-05-30T13:29:29.996Z"
   },
   {
    "duration": 17,
    "start_time": "2024-05-30T13:29:30.001Z"
   },
   {
    "duration": 79,
    "start_time": "2024-05-30T13:29:30.019Z"
   },
   {
    "duration": 34,
    "start_time": "2024-05-30T13:29:30.099Z"
   },
   {
    "duration": 43,
    "start_time": "2024-05-30T13:29:30.135Z"
   },
   {
    "duration": 42,
    "start_time": "2024-05-30T13:29:30.180Z"
   },
   {
    "duration": 29,
    "start_time": "2024-05-30T13:29:30.223Z"
   },
   {
    "duration": 123,
    "start_time": "2024-05-30T13:29:30.253Z"
   },
   {
    "duration": 70,
    "start_time": "2024-05-30T13:29:30.378Z"
   },
   {
    "duration": 175,
    "start_time": "2024-05-30T13:29:30.450Z"
   },
   {
    "duration": 100,
    "start_time": "2024-05-30T13:29:30.626Z"
   },
   {
    "duration": 108,
    "start_time": "2024-05-30T13:29:30.727Z"
   },
   {
    "duration": 63,
    "start_time": "2024-05-30T13:29:30.836Z"
   },
   {
    "duration": 48,
    "start_time": "2024-05-30T13:29:30.900Z"
   },
   {
    "duration": 59,
    "start_time": "2024-05-30T13:29:30.950Z"
   },
   {
    "duration": 86,
    "start_time": "2024-05-30T13:29:31.011Z"
   },
   {
    "duration": 0,
    "start_time": "2024-05-30T13:29:31.099Z"
   },
   {
    "duration": 0,
    "start_time": "2024-05-30T13:29:31.100Z"
   },
   {
    "duration": 0,
    "start_time": "2024-05-30T13:29:31.101Z"
   },
   {
    "duration": 0,
    "start_time": "2024-05-30T13:29:31.101Z"
   },
   {
    "duration": 0,
    "start_time": "2024-05-30T13:29:31.102Z"
   },
   {
    "duration": 0,
    "start_time": "2024-05-30T13:29:31.102Z"
   },
   {
    "duration": 0,
    "start_time": "2024-05-30T13:29:31.103Z"
   },
   {
    "duration": 0,
    "start_time": "2024-05-30T13:29:31.104Z"
   },
   {
    "duration": 0,
    "start_time": "2024-05-30T13:29:31.104Z"
   },
   {
    "duration": 0,
    "start_time": "2024-05-30T13:29:31.105Z"
   },
   {
    "duration": 0,
    "start_time": "2024-05-30T13:29:31.106Z"
   },
   {
    "duration": 0,
    "start_time": "2024-05-30T13:29:31.106Z"
   },
   {
    "duration": 0,
    "start_time": "2024-05-30T13:29:31.107Z"
   },
   {
    "duration": 0,
    "start_time": "2024-05-30T13:29:31.108Z"
   },
   {
    "duration": 0,
    "start_time": "2024-05-30T13:29:31.109Z"
   },
   {
    "duration": 0,
    "start_time": "2024-05-30T13:29:31.110Z"
   },
   {
    "duration": 0,
    "start_time": "2024-05-30T13:29:31.110Z"
   },
   {
    "duration": 0,
    "start_time": "2024-05-30T13:29:31.111Z"
   },
   {
    "duration": 3,
    "start_time": "2024-05-30T15:45:44.656Z"
   },
   {
    "duration": 165,
    "start_time": "2024-05-30T15:45:44.661Z"
   },
   {
    "duration": 6,
    "start_time": "2024-05-30T15:45:44.827Z"
   },
   {
    "duration": 29,
    "start_time": "2024-05-30T15:45:44.834Z"
   },
   {
    "duration": 14,
    "start_time": "2024-05-30T15:45:44.865Z"
   },
   {
    "duration": 4,
    "start_time": "2024-05-30T15:45:44.880Z"
   },
   {
    "duration": 17,
    "start_time": "2024-05-30T15:45:44.885Z"
   },
   {
    "duration": 3,
    "start_time": "2024-05-30T15:45:44.903Z"
   },
   {
    "duration": 28,
    "start_time": "2024-05-30T15:45:44.908Z"
   },
   {
    "duration": 18,
    "start_time": "2024-05-30T15:45:44.937Z"
   },
   {
    "duration": 20,
    "start_time": "2024-05-30T15:45:44.957Z"
   },
   {
    "duration": 94,
    "start_time": "2024-05-30T15:45:44.978Z"
   },
   {
    "duration": 61,
    "start_time": "2024-05-30T15:45:45.075Z"
   },
   {
    "duration": 181,
    "start_time": "2024-05-30T15:45:45.137Z"
   },
   {
    "duration": 81,
    "start_time": "2024-05-30T15:45:45.320Z"
   },
   {
    "duration": 15,
    "start_time": "2024-05-30T15:45:45.403Z"
   },
   {
    "duration": 0,
    "start_time": "2024-05-30T15:45:45.419Z"
   },
   {
    "duration": 0,
    "start_time": "2024-05-30T15:45:45.420Z"
   },
   {
    "duration": 0,
    "start_time": "2024-05-30T15:45:45.421Z"
   },
   {
    "duration": 0,
    "start_time": "2024-05-30T15:45:45.422Z"
   },
   {
    "duration": 0,
    "start_time": "2024-05-30T15:45:45.423Z"
   },
   {
    "duration": 0,
    "start_time": "2024-05-30T15:45:45.424Z"
   },
   {
    "duration": 0,
    "start_time": "2024-05-30T15:45:45.425Z"
   },
   {
    "duration": 0,
    "start_time": "2024-05-30T15:45:45.426Z"
   },
   {
    "duration": 0,
    "start_time": "2024-05-30T15:45:45.426Z"
   },
   {
    "duration": 0,
    "start_time": "2024-05-30T15:45:45.427Z"
   },
   {
    "duration": 0,
    "start_time": "2024-05-30T15:45:45.428Z"
   },
   {
    "duration": 0,
    "start_time": "2024-05-30T15:45:45.428Z"
   },
   {
    "duration": 0,
    "start_time": "2024-05-30T15:45:45.429Z"
   },
   {
    "duration": 0,
    "start_time": "2024-05-30T15:45:45.430Z"
   },
   {
    "duration": 0,
    "start_time": "2024-05-30T15:45:45.431Z"
   },
   {
    "duration": 0,
    "start_time": "2024-05-30T15:45:45.432Z"
   },
   {
    "duration": 0,
    "start_time": "2024-05-30T15:45:45.433Z"
   },
   {
    "duration": 0,
    "start_time": "2024-05-30T15:45:45.433Z"
   },
   {
    "duration": 0,
    "start_time": "2024-05-30T15:45:45.434Z"
   },
   {
    "duration": 0,
    "start_time": "2024-05-30T15:45:45.435Z"
   },
   {
    "duration": 0,
    "start_time": "2024-05-30T15:45:45.436Z"
   },
   {
    "duration": 0,
    "start_time": "2024-05-30T15:45:45.437Z"
   },
   {
    "duration": 2,
    "start_time": "2024-05-30T15:46:25.423Z"
   },
   {
    "duration": 195,
    "start_time": "2024-05-30T15:46:25.426Z"
   },
   {
    "duration": 5,
    "start_time": "2024-05-30T15:46:25.622Z"
   },
   {
    "duration": 27,
    "start_time": "2024-05-30T15:46:25.629Z"
   },
   {
    "duration": 16,
    "start_time": "2024-05-30T15:46:25.657Z"
   },
   {
    "duration": 5,
    "start_time": "2024-05-30T15:46:25.674Z"
   },
   {
    "duration": 9,
    "start_time": "2024-05-30T15:46:25.680Z"
   },
   {
    "duration": 3,
    "start_time": "2024-05-30T15:46:25.690Z"
   },
   {
    "duration": 16,
    "start_time": "2024-05-30T15:46:25.695Z"
   },
   {
    "duration": 20,
    "start_time": "2024-05-30T15:46:25.712Z"
   },
   {
    "duration": 16,
    "start_time": "2024-05-30T15:46:25.733Z"
   },
   {
    "duration": 54,
    "start_time": "2024-05-30T15:46:25.750Z"
   },
   {
    "duration": 66,
    "start_time": "2024-05-30T15:46:25.805Z"
   },
   {
    "duration": 61,
    "start_time": "2024-05-30T15:46:25.873Z"
   },
   {
    "duration": 41,
    "start_time": "2024-05-30T15:46:25.935Z"
   },
   {
    "duration": 14,
    "start_time": "2024-05-30T15:46:25.977Z"
   },
   {
    "duration": 6,
    "start_time": "2024-05-30T15:46:26.002Z"
   },
   {
    "duration": 57,
    "start_time": "2024-05-30T15:46:26.009Z"
   },
   {
    "duration": 30,
    "start_time": "2024-05-30T15:46:26.067Z"
   },
   {
    "duration": 254,
    "start_time": "2024-05-30T15:46:26.098Z"
   },
   {
    "duration": 0,
    "start_time": "2024-05-30T15:46:26.377Z"
   },
   {
    "duration": 0,
    "start_time": "2024-05-30T15:46:26.378Z"
   },
   {
    "duration": 0,
    "start_time": "2024-05-30T15:46:26.379Z"
   },
   {
    "duration": 0,
    "start_time": "2024-05-30T15:46:26.380Z"
   },
   {
    "duration": 0,
    "start_time": "2024-05-30T15:46:26.381Z"
   },
   {
    "duration": 0,
    "start_time": "2024-05-30T15:46:26.383Z"
   },
   {
    "duration": 0,
    "start_time": "2024-05-30T15:46:26.383Z"
   },
   {
    "duration": 0,
    "start_time": "2024-05-30T15:46:26.384Z"
   },
   {
    "duration": 0,
    "start_time": "2024-05-30T15:46:26.385Z"
   },
   {
    "duration": 0,
    "start_time": "2024-05-30T15:46:26.385Z"
   },
   {
    "duration": 0,
    "start_time": "2024-05-30T15:46:26.386Z"
   },
   {
    "duration": 0,
    "start_time": "2024-05-30T15:46:26.387Z"
   },
   {
    "duration": 0,
    "start_time": "2024-05-30T15:46:26.388Z"
   },
   {
    "duration": 0,
    "start_time": "2024-05-30T15:46:26.389Z"
   },
   {
    "duration": 0,
    "start_time": "2024-05-30T15:46:26.389Z"
   },
   {
    "duration": 0,
    "start_time": "2024-05-30T15:46:26.390Z"
   },
   {
    "duration": 0,
    "start_time": "2024-05-30T15:46:26.391Z"
   },
   {
    "duration": 0,
    "start_time": "2024-05-30T15:46:26.392Z"
   },
   {
    "duration": 2,
    "start_time": "2024-05-30T15:51:20.381Z"
   },
   {
    "duration": 152,
    "start_time": "2024-05-30T15:51:20.385Z"
   },
   {
    "duration": 5,
    "start_time": "2024-05-30T15:51:20.538Z"
   },
   {
    "duration": 24,
    "start_time": "2024-05-30T15:51:20.545Z"
   },
   {
    "duration": 2,
    "start_time": "2024-05-30T15:51:20.571Z"
   },
   {
    "duration": 16,
    "start_time": "2024-05-30T15:51:20.574Z"
   },
   {
    "duration": 29,
    "start_time": "2024-05-30T15:51:20.591Z"
   },
   {
    "duration": 6,
    "start_time": "2024-05-30T15:51:20.622Z"
   },
   {
    "duration": 29,
    "start_time": "2024-05-30T15:51:20.629Z"
   },
   {
    "duration": 36,
    "start_time": "2024-05-30T15:51:20.659Z"
   },
   {
    "duration": 27,
    "start_time": "2024-05-30T15:51:20.696Z"
   },
   {
    "duration": 83,
    "start_time": "2024-05-30T15:51:20.724Z"
   },
   {
    "duration": 59,
    "start_time": "2024-05-30T15:51:20.808Z"
   },
   {
    "duration": 58,
    "start_time": "2024-05-30T15:51:20.871Z"
   },
   {
    "duration": 44,
    "start_time": "2024-05-30T15:51:20.931Z"
   },
   {
    "duration": 30,
    "start_time": "2024-05-30T15:51:20.976Z"
   },
   {
    "duration": 12,
    "start_time": "2024-05-30T15:51:21.008Z"
   },
   {
    "duration": 46,
    "start_time": "2024-05-30T15:51:21.021Z"
   },
   {
    "duration": 49,
    "start_time": "2024-05-30T15:51:21.068Z"
   },
   {
    "duration": 52,
    "start_time": "2024-05-30T15:51:21.119Z"
   },
   {
    "duration": 0,
    "start_time": "2024-05-30T15:51:21.172Z"
   },
   {
    "duration": 0,
    "start_time": "2024-05-30T15:51:21.173Z"
   },
   {
    "duration": 0,
    "start_time": "2024-05-30T15:51:21.174Z"
   },
   {
    "duration": 0,
    "start_time": "2024-05-30T15:51:21.175Z"
   },
   {
    "duration": 0,
    "start_time": "2024-05-30T15:51:21.176Z"
   },
   {
    "duration": 0,
    "start_time": "2024-05-30T15:51:21.177Z"
   },
   {
    "duration": 0,
    "start_time": "2024-05-30T15:51:21.179Z"
   },
   {
    "duration": 1,
    "start_time": "2024-05-30T15:51:21.179Z"
   },
   {
    "duration": 0,
    "start_time": "2024-05-30T15:51:21.181Z"
   },
   {
    "duration": 0,
    "start_time": "2024-05-30T15:51:21.182Z"
   },
   {
    "duration": 0,
    "start_time": "2024-05-30T15:51:21.183Z"
   },
   {
    "duration": 1,
    "start_time": "2024-05-30T15:51:21.184Z"
   },
   {
    "duration": 0,
    "start_time": "2024-05-30T15:51:21.186Z"
   },
   {
    "duration": 0,
    "start_time": "2024-05-30T15:51:21.187Z"
   },
   {
    "duration": 0,
    "start_time": "2024-05-30T15:51:21.188Z"
   },
   {
    "duration": 0,
    "start_time": "2024-05-30T15:51:21.189Z"
   },
   {
    "duration": 0,
    "start_time": "2024-05-30T15:51:21.190Z"
   },
   {
    "duration": 0,
    "start_time": "2024-05-30T15:51:21.191Z"
   },
   {
    "duration": 2,
    "start_time": "2024-05-30T15:54:12.118Z"
   },
   {
    "duration": 140,
    "start_time": "2024-05-30T15:54:12.123Z"
   },
   {
    "duration": 5,
    "start_time": "2024-05-30T15:54:12.265Z"
   },
   {
    "duration": 26,
    "start_time": "2024-05-30T15:54:12.271Z"
   },
   {
    "duration": 28,
    "start_time": "2024-05-30T15:54:12.301Z"
   },
   {
    "duration": 15,
    "start_time": "2024-05-30T15:54:12.330Z"
   },
   {
    "duration": 8,
    "start_time": "2024-05-30T15:54:12.347Z"
   },
   {
    "duration": 4,
    "start_time": "2024-05-30T15:54:12.356Z"
   },
   {
    "duration": 20,
    "start_time": "2024-05-30T15:54:12.361Z"
   },
   {
    "duration": 17,
    "start_time": "2024-05-30T15:54:12.382Z"
   },
   {
    "duration": 18,
    "start_time": "2024-05-30T15:54:12.402Z"
   },
   {
    "duration": 61,
    "start_time": "2024-05-30T15:54:12.421Z"
   },
   {
    "duration": 76,
    "start_time": "2024-05-30T15:54:12.483Z"
   },
   {
    "duration": 60,
    "start_time": "2024-05-30T15:54:12.560Z"
   },
   {
    "duration": 58,
    "start_time": "2024-05-30T15:54:12.621Z"
   },
   {
    "duration": 29,
    "start_time": "2024-05-30T15:54:12.680Z"
   },
   {
    "duration": 9,
    "start_time": "2024-05-30T15:54:12.711Z"
   },
   {
    "duration": 39,
    "start_time": "2024-05-30T15:54:12.721Z"
   },
   {
    "duration": 50,
    "start_time": "2024-05-30T15:54:12.762Z"
   },
   {
    "duration": 67,
    "start_time": "2024-05-30T15:54:12.813Z"
   },
   {
    "duration": 0,
    "start_time": "2024-05-30T15:54:12.882Z"
   },
   {
    "duration": 0,
    "start_time": "2024-05-30T15:54:12.883Z"
   },
   {
    "duration": 0,
    "start_time": "2024-05-30T15:54:12.883Z"
   },
   {
    "duration": 0,
    "start_time": "2024-05-30T15:54:12.884Z"
   },
   {
    "duration": 0,
    "start_time": "2024-05-30T15:54:12.884Z"
   },
   {
    "duration": 0,
    "start_time": "2024-05-30T15:54:12.885Z"
   },
   {
    "duration": 0,
    "start_time": "2024-05-30T15:54:12.886Z"
   },
   {
    "duration": 0,
    "start_time": "2024-05-30T15:54:12.887Z"
   },
   {
    "duration": 0,
    "start_time": "2024-05-30T15:54:12.887Z"
   },
   {
    "duration": 0,
    "start_time": "2024-05-30T15:54:12.888Z"
   },
   {
    "duration": 0,
    "start_time": "2024-05-30T15:54:12.889Z"
   },
   {
    "duration": 0,
    "start_time": "2024-05-30T15:54:12.890Z"
   },
   {
    "duration": 0,
    "start_time": "2024-05-30T15:54:12.890Z"
   },
   {
    "duration": 0,
    "start_time": "2024-05-30T15:54:12.891Z"
   },
   {
    "duration": 0,
    "start_time": "2024-05-30T15:54:12.892Z"
   },
   {
    "duration": 0,
    "start_time": "2024-05-30T15:54:12.893Z"
   },
   {
    "duration": 0,
    "start_time": "2024-05-30T15:54:12.894Z"
   },
   {
    "duration": 0,
    "start_time": "2024-05-30T15:54:12.895Z"
   },
   {
    "duration": 2,
    "start_time": "2024-05-30T15:56:14.180Z"
   },
   {
    "duration": 148,
    "start_time": "2024-05-30T15:56:14.184Z"
   },
   {
    "duration": 5,
    "start_time": "2024-05-30T15:56:14.334Z"
   },
   {
    "duration": 34,
    "start_time": "2024-05-30T15:56:14.340Z"
   },
   {
    "duration": 2,
    "start_time": "2024-05-30T15:56:14.376Z"
   },
   {
    "duration": 8,
    "start_time": "2024-05-30T15:56:14.379Z"
   },
   {
    "duration": 16,
    "start_time": "2024-05-30T15:56:14.388Z"
   },
   {
    "duration": 7,
    "start_time": "2024-05-30T15:56:14.405Z"
   },
   {
    "duration": 22,
    "start_time": "2024-05-30T15:56:14.413Z"
   },
   {
    "duration": 17,
    "start_time": "2024-05-30T15:56:14.436Z"
   },
   {
    "duration": 24,
    "start_time": "2024-05-30T15:56:14.455Z"
   },
   {
    "duration": 56,
    "start_time": "2024-05-30T15:56:14.480Z"
   },
   {
    "duration": 56,
    "start_time": "2024-05-30T15:56:14.537Z"
   },
   {
    "duration": 10,
    "start_time": "2024-05-30T15:56:14.595Z"
   },
   {
    "duration": 0,
    "start_time": "2024-05-30T15:56:14.607Z"
   },
   {
    "duration": 0,
    "start_time": "2024-05-30T15:56:14.608Z"
   },
   {
    "duration": 0,
    "start_time": "2024-05-30T15:56:14.609Z"
   },
   {
    "duration": 0,
    "start_time": "2024-05-30T15:56:14.609Z"
   },
   {
    "duration": 0,
    "start_time": "2024-05-30T15:56:14.610Z"
   },
   {
    "duration": 0,
    "start_time": "2024-05-30T15:56:14.611Z"
   },
   {
    "duration": 0,
    "start_time": "2024-05-30T15:56:14.612Z"
   },
   {
    "duration": 0,
    "start_time": "2024-05-30T15:56:14.613Z"
   },
   {
    "duration": 0,
    "start_time": "2024-05-30T15:56:14.614Z"
   },
   {
    "duration": 0,
    "start_time": "2024-05-30T15:56:14.614Z"
   },
   {
    "duration": 0,
    "start_time": "2024-05-30T15:56:14.615Z"
   },
   {
    "duration": 0,
    "start_time": "2024-05-30T15:56:14.616Z"
   },
   {
    "duration": 0,
    "start_time": "2024-05-30T15:56:14.617Z"
   },
   {
    "duration": 0,
    "start_time": "2024-05-30T15:56:14.617Z"
   },
   {
    "duration": 0,
    "start_time": "2024-05-30T15:56:14.618Z"
   },
   {
    "duration": 0,
    "start_time": "2024-05-30T15:56:14.619Z"
   },
   {
    "duration": 0,
    "start_time": "2024-05-30T15:56:14.620Z"
   },
   {
    "duration": 0,
    "start_time": "2024-05-30T15:56:14.620Z"
   },
   {
    "duration": 0,
    "start_time": "2024-05-30T15:56:14.621Z"
   },
   {
    "duration": 0,
    "start_time": "2024-05-30T15:56:14.622Z"
   },
   {
    "duration": 0,
    "start_time": "2024-05-30T15:56:14.622Z"
   },
   {
    "duration": 0,
    "start_time": "2024-05-30T15:56:14.623Z"
   },
   {
    "duration": 0,
    "start_time": "2024-05-30T15:56:14.624Z"
   },
   {
    "duration": 0,
    "start_time": "2024-05-30T15:56:14.625Z"
   },
   {
    "duration": 3,
    "start_time": "2024-05-30T15:58:28.441Z"
   },
   {
    "duration": 151,
    "start_time": "2024-05-30T15:58:28.445Z"
   },
   {
    "duration": 7,
    "start_time": "2024-05-30T15:58:28.597Z"
   },
   {
    "duration": 43,
    "start_time": "2024-05-30T15:58:28.606Z"
   },
   {
    "duration": 9,
    "start_time": "2024-05-30T15:58:28.651Z"
   },
   {
    "duration": 35,
    "start_time": "2024-05-30T15:58:28.662Z"
   },
   {
    "duration": 30,
    "start_time": "2024-05-30T15:58:28.698Z"
   },
   {
    "duration": 31,
    "start_time": "2024-05-30T15:58:28.730Z"
   },
   {
    "duration": 32,
    "start_time": "2024-05-30T15:58:28.763Z"
   },
   {
    "duration": 43,
    "start_time": "2024-05-30T15:58:28.796Z"
   },
   {
    "duration": 39,
    "start_time": "2024-05-30T15:58:28.841Z"
   },
   {
    "duration": 81,
    "start_time": "2024-05-30T15:58:28.881Z"
   },
   {
    "duration": 68,
    "start_time": "2024-05-30T15:58:28.964Z"
   },
   {
    "duration": 8,
    "start_time": "2024-05-30T15:58:29.034Z"
   },
   {
    "duration": 0,
    "start_time": "2024-05-30T15:58:29.043Z"
   },
   {
    "duration": 0,
    "start_time": "2024-05-30T15:58:29.044Z"
   },
   {
    "duration": 0,
    "start_time": "2024-05-30T15:58:29.045Z"
   },
   {
    "duration": 0,
    "start_time": "2024-05-30T15:58:29.046Z"
   },
   {
    "duration": 0,
    "start_time": "2024-05-30T15:58:29.047Z"
   },
   {
    "duration": 0,
    "start_time": "2024-05-30T15:58:29.048Z"
   },
   {
    "duration": 0,
    "start_time": "2024-05-30T15:58:29.049Z"
   },
   {
    "duration": 0,
    "start_time": "2024-05-30T15:58:29.051Z"
   },
   {
    "duration": 0,
    "start_time": "2024-05-30T15:58:29.052Z"
   },
   {
    "duration": 0,
    "start_time": "2024-05-30T15:58:29.053Z"
   },
   {
    "duration": 0,
    "start_time": "2024-05-30T15:58:29.054Z"
   },
   {
    "duration": 0,
    "start_time": "2024-05-30T15:58:29.055Z"
   },
   {
    "duration": 0,
    "start_time": "2024-05-30T15:58:29.056Z"
   },
   {
    "duration": 0,
    "start_time": "2024-05-30T15:58:29.057Z"
   },
   {
    "duration": 0,
    "start_time": "2024-05-30T15:58:29.058Z"
   },
   {
    "duration": 0,
    "start_time": "2024-05-30T15:58:29.059Z"
   },
   {
    "duration": 0,
    "start_time": "2024-05-30T15:58:29.060Z"
   },
   {
    "duration": 0,
    "start_time": "2024-05-30T15:58:29.061Z"
   },
   {
    "duration": 0,
    "start_time": "2024-05-30T15:58:29.062Z"
   },
   {
    "duration": 0,
    "start_time": "2024-05-30T15:58:29.101Z"
   },
   {
    "duration": 0,
    "start_time": "2024-05-30T15:58:29.103Z"
   },
   {
    "duration": 0,
    "start_time": "2024-05-30T15:58:29.103Z"
   },
   {
    "duration": 0,
    "start_time": "2024-05-30T15:58:29.104Z"
   },
   {
    "duration": 0,
    "start_time": "2024-05-30T15:58:29.105Z"
   },
   {
    "duration": 2,
    "start_time": "2024-05-30T16:01:52.356Z"
   },
   {
    "duration": 138,
    "start_time": "2024-05-30T16:01:52.360Z"
   },
   {
    "duration": 5,
    "start_time": "2024-05-30T16:01:52.500Z"
   },
   {
    "duration": 28,
    "start_time": "2024-05-30T16:01:52.507Z"
   },
   {
    "duration": 14,
    "start_time": "2024-05-30T16:01:52.536Z"
   },
   {
    "duration": 13,
    "start_time": "2024-05-30T16:01:52.552Z"
   },
   {
    "duration": 22,
    "start_time": "2024-05-30T16:01:52.566Z"
   },
   {
    "duration": 3,
    "start_time": "2024-05-30T16:01:52.589Z"
   },
   {
    "duration": 21,
    "start_time": "2024-05-30T16:01:52.593Z"
   },
   {
    "duration": 29,
    "start_time": "2024-05-30T16:01:52.615Z"
   },
   {
    "duration": 18,
    "start_time": "2024-05-30T16:01:52.645Z"
   },
   {
    "duration": 55,
    "start_time": "2024-05-30T16:01:52.664Z"
   },
   {
    "duration": 56,
    "start_time": "2024-05-30T16:01:52.720Z"
   },
   {
    "duration": 6,
    "start_time": "2024-05-30T16:01:52.777Z"
   },
   {
    "duration": 0,
    "start_time": "2024-05-30T16:01:52.785Z"
   },
   {
    "duration": 0,
    "start_time": "2024-05-30T16:01:52.785Z"
   },
   {
    "duration": 0,
    "start_time": "2024-05-30T16:01:52.786Z"
   },
   {
    "duration": 0,
    "start_time": "2024-05-30T16:01:52.787Z"
   },
   {
    "duration": 0,
    "start_time": "2024-05-30T16:01:52.788Z"
   },
   {
    "duration": 0,
    "start_time": "2024-05-30T16:01:52.789Z"
   },
   {
    "duration": 0,
    "start_time": "2024-05-30T16:01:52.789Z"
   },
   {
    "duration": 0,
    "start_time": "2024-05-30T16:01:52.802Z"
   },
   {
    "duration": 0,
    "start_time": "2024-05-30T16:01:52.802Z"
   },
   {
    "duration": 0,
    "start_time": "2024-05-30T16:01:52.803Z"
   },
   {
    "duration": 0,
    "start_time": "2024-05-30T16:01:52.804Z"
   },
   {
    "duration": 0,
    "start_time": "2024-05-30T16:01:52.805Z"
   },
   {
    "duration": 0,
    "start_time": "2024-05-30T16:01:52.805Z"
   },
   {
    "duration": 0,
    "start_time": "2024-05-30T16:01:52.806Z"
   },
   {
    "duration": 0,
    "start_time": "2024-05-30T16:01:52.807Z"
   },
   {
    "duration": 0,
    "start_time": "2024-05-30T16:01:52.808Z"
   },
   {
    "duration": 0,
    "start_time": "2024-05-30T16:01:52.809Z"
   },
   {
    "duration": 0,
    "start_time": "2024-05-30T16:01:52.810Z"
   },
   {
    "duration": 0,
    "start_time": "2024-05-30T16:01:52.811Z"
   },
   {
    "duration": 0,
    "start_time": "2024-05-30T16:01:52.812Z"
   },
   {
    "duration": 0,
    "start_time": "2024-05-30T16:01:52.813Z"
   },
   {
    "duration": 0,
    "start_time": "2024-05-30T16:01:52.813Z"
   },
   {
    "duration": 0,
    "start_time": "2024-05-30T16:01:52.814Z"
   },
   {
    "duration": 0,
    "start_time": "2024-05-30T16:01:52.815Z"
   },
   {
    "duration": 2,
    "start_time": "2024-05-30T16:06:55.969Z"
   },
   {
    "duration": 130,
    "start_time": "2024-05-30T16:06:55.973Z"
   },
   {
    "duration": 6,
    "start_time": "2024-05-30T16:06:56.104Z"
   },
   {
    "duration": 29,
    "start_time": "2024-05-30T16:06:56.111Z"
   },
   {
    "duration": 5,
    "start_time": "2024-05-30T16:06:56.141Z"
   },
   {
    "duration": 21,
    "start_time": "2024-05-30T16:06:56.147Z"
   },
   {
    "duration": 16,
    "start_time": "2024-05-30T16:06:56.169Z"
   },
   {
    "duration": 3,
    "start_time": "2024-05-30T16:06:56.186Z"
   },
   {
    "duration": 36,
    "start_time": "2024-05-30T16:06:56.190Z"
   },
   {
    "duration": 19,
    "start_time": "2024-05-30T16:06:56.228Z"
   },
   {
    "duration": 18,
    "start_time": "2024-05-30T16:06:56.248Z"
   },
   {
    "duration": 60,
    "start_time": "2024-05-30T16:06:56.268Z"
   },
   {
    "duration": 58,
    "start_time": "2024-05-30T16:06:56.329Z"
   },
   {
    "duration": 55,
    "start_time": "2024-05-30T16:06:56.390Z"
   },
   {
    "duration": 42,
    "start_time": "2024-05-30T16:06:56.446Z"
   },
   {
    "duration": 24,
    "start_time": "2024-05-30T16:06:56.489Z"
   },
   {
    "duration": 20,
    "start_time": "2024-05-30T16:06:56.515Z"
   },
   {
    "duration": 34,
    "start_time": "2024-05-30T16:06:56.536Z"
   },
   {
    "duration": 37,
    "start_time": "2024-05-30T16:06:56.571Z"
   },
   {
    "duration": 49,
    "start_time": "2024-05-30T16:06:56.610Z"
   },
   {
    "duration": 0,
    "start_time": "2024-05-30T16:06:56.661Z"
   },
   {
    "duration": 0,
    "start_time": "2024-05-30T16:06:56.662Z"
   },
   {
    "duration": 0,
    "start_time": "2024-05-30T16:06:56.662Z"
   },
   {
    "duration": 0,
    "start_time": "2024-05-30T16:06:56.663Z"
   },
   {
    "duration": 0,
    "start_time": "2024-05-30T16:06:56.664Z"
   },
   {
    "duration": 0,
    "start_time": "2024-05-30T16:06:56.665Z"
   },
   {
    "duration": 0,
    "start_time": "2024-05-30T16:06:56.666Z"
   },
   {
    "duration": 0,
    "start_time": "2024-05-30T16:06:56.667Z"
   },
   {
    "duration": 0,
    "start_time": "2024-05-30T16:06:56.667Z"
   },
   {
    "duration": 0,
    "start_time": "2024-05-30T16:06:56.668Z"
   },
   {
    "duration": 0,
    "start_time": "2024-05-30T16:06:56.669Z"
   },
   {
    "duration": 0,
    "start_time": "2024-05-30T16:06:56.670Z"
   },
   {
    "duration": 0,
    "start_time": "2024-05-30T16:06:56.670Z"
   },
   {
    "duration": 0,
    "start_time": "2024-05-30T16:06:56.671Z"
   },
   {
    "duration": 0,
    "start_time": "2024-05-30T16:06:56.671Z"
   },
   {
    "duration": 0,
    "start_time": "2024-05-30T16:06:56.672Z"
   },
   {
    "duration": 0,
    "start_time": "2024-05-30T16:06:56.673Z"
   },
   {
    "duration": 0,
    "start_time": "2024-05-30T16:06:56.674Z"
   },
   {
    "duration": 3,
    "start_time": "2024-05-30T16:10:33.954Z"
   },
   {
    "duration": 169,
    "start_time": "2024-05-30T16:10:33.958Z"
   },
   {
    "duration": 6,
    "start_time": "2024-05-30T16:10:34.128Z"
   },
   {
    "duration": 74,
    "start_time": "2024-05-30T16:10:34.135Z"
   },
   {
    "duration": 28,
    "start_time": "2024-05-30T16:10:34.210Z"
   },
   {
    "duration": 13,
    "start_time": "2024-05-30T16:10:34.240Z"
   },
   {
    "duration": 29,
    "start_time": "2024-05-30T16:10:34.254Z"
   },
   {
    "duration": 3,
    "start_time": "2024-05-30T16:10:34.285Z"
   },
   {
    "duration": 47,
    "start_time": "2024-05-30T16:10:34.289Z"
   },
   {
    "duration": 19,
    "start_time": "2024-05-30T16:10:34.338Z"
   },
   {
    "duration": 23,
    "start_time": "2024-05-30T16:10:34.358Z"
   },
   {
    "duration": 75,
    "start_time": "2024-05-30T16:10:34.382Z"
   },
   {
    "duration": 59,
    "start_time": "2024-05-30T16:10:34.460Z"
   },
   {
    "duration": 0,
    "start_time": "2024-05-30T16:10:34.521Z"
   },
   {
    "duration": 0,
    "start_time": "2024-05-30T16:10:34.521Z"
   },
   {
    "duration": 0,
    "start_time": "2024-05-30T16:10:34.522Z"
   },
   {
    "duration": 0,
    "start_time": "2024-05-30T16:10:34.523Z"
   },
   {
    "duration": 0,
    "start_time": "2024-05-30T16:10:34.525Z"
   },
   {
    "duration": 0,
    "start_time": "2024-05-30T16:10:34.526Z"
   },
   {
    "duration": 0,
    "start_time": "2024-05-30T16:10:34.527Z"
   },
   {
    "duration": 0,
    "start_time": "2024-05-30T16:10:34.527Z"
   },
   {
    "duration": 0,
    "start_time": "2024-05-30T16:10:34.528Z"
   },
   {
    "duration": 0,
    "start_time": "2024-05-30T16:10:34.529Z"
   },
   {
    "duration": 0,
    "start_time": "2024-05-30T16:10:34.530Z"
   },
   {
    "duration": 0,
    "start_time": "2024-05-30T16:10:34.531Z"
   },
   {
    "duration": 0,
    "start_time": "2024-05-30T16:10:34.532Z"
   },
   {
    "duration": 0,
    "start_time": "2024-05-30T16:10:34.533Z"
   },
   {
    "duration": 0,
    "start_time": "2024-05-30T16:10:34.534Z"
   },
   {
    "duration": 0,
    "start_time": "2024-05-30T16:10:34.534Z"
   },
   {
    "duration": 0,
    "start_time": "2024-05-30T16:10:34.535Z"
   },
   {
    "duration": 0,
    "start_time": "2024-05-30T16:10:34.537Z"
   },
   {
    "duration": 0,
    "start_time": "2024-05-30T16:10:34.538Z"
   },
   {
    "duration": 0,
    "start_time": "2024-05-30T16:10:34.539Z"
   },
   {
    "duration": 0,
    "start_time": "2024-05-30T16:10:34.540Z"
   },
   {
    "duration": 0,
    "start_time": "2024-05-30T16:10:34.540Z"
   },
   {
    "duration": 0,
    "start_time": "2024-05-30T16:10:34.541Z"
   },
   {
    "duration": 0,
    "start_time": "2024-05-30T16:10:34.542Z"
   },
   {
    "duration": 0,
    "start_time": "2024-05-30T16:10:34.543Z"
   },
   {
    "duration": 2,
    "start_time": "2024-05-30T16:11:22.520Z"
   },
   {
    "duration": 143,
    "start_time": "2024-05-30T16:11:22.524Z"
   },
   {
    "duration": 5,
    "start_time": "2024-05-30T16:11:22.669Z"
   },
   {
    "duration": 27,
    "start_time": "2024-05-30T16:11:22.675Z"
   },
   {
    "duration": 2,
    "start_time": "2024-05-30T16:11:22.704Z"
   },
   {
    "duration": 15,
    "start_time": "2024-05-30T16:11:22.707Z"
   },
   {
    "duration": 7,
    "start_time": "2024-05-30T16:11:22.723Z"
   },
   {
    "duration": 7,
    "start_time": "2024-05-30T16:11:22.731Z"
   },
   {
    "duration": 17,
    "start_time": "2024-05-30T16:11:22.739Z"
   },
   {
    "duration": 19,
    "start_time": "2024-05-30T16:11:22.758Z"
   },
   {
    "duration": 27,
    "start_time": "2024-05-30T16:11:22.779Z"
   },
   {
    "duration": 53,
    "start_time": "2024-05-30T16:11:22.808Z"
   },
   {
    "duration": 60,
    "start_time": "2024-05-30T16:11:22.862Z"
   },
   {
    "duration": 44,
    "start_time": "2024-05-30T16:11:22.923Z"
   },
   {
    "duration": 51,
    "start_time": "2024-05-30T16:11:22.968Z"
   },
   {
    "duration": 14,
    "start_time": "2024-05-30T16:11:23.020Z"
   },
   {
    "duration": 14,
    "start_time": "2024-05-30T16:11:23.035Z"
   },
   {
    "duration": 37,
    "start_time": "2024-05-30T16:11:23.050Z"
   },
   {
    "duration": 39,
    "start_time": "2024-05-30T16:11:23.088Z"
   },
   {
    "duration": 50,
    "start_time": "2024-05-30T16:11:23.129Z"
   },
   {
    "duration": 0,
    "start_time": "2024-05-30T16:11:23.180Z"
   },
   {
    "duration": 0,
    "start_time": "2024-05-30T16:11:23.181Z"
   },
   {
    "duration": 0,
    "start_time": "2024-05-30T16:11:23.182Z"
   },
   {
    "duration": 0,
    "start_time": "2024-05-30T16:11:23.183Z"
   },
   {
    "duration": 0,
    "start_time": "2024-05-30T16:11:23.184Z"
   },
   {
    "duration": 0,
    "start_time": "2024-05-30T16:11:23.185Z"
   },
   {
    "duration": 0,
    "start_time": "2024-05-30T16:11:23.186Z"
   },
   {
    "duration": 0,
    "start_time": "2024-05-30T16:11:23.187Z"
   },
   {
    "duration": 0,
    "start_time": "2024-05-30T16:11:23.188Z"
   },
   {
    "duration": 0,
    "start_time": "2024-05-30T16:11:23.189Z"
   },
   {
    "duration": 0,
    "start_time": "2024-05-30T16:11:23.190Z"
   },
   {
    "duration": 0,
    "start_time": "2024-05-30T16:11:23.191Z"
   },
   {
    "duration": 0,
    "start_time": "2024-05-30T16:11:23.192Z"
   },
   {
    "duration": 0,
    "start_time": "2024-05-30T16:11:23.193Z"
   },
   {
    "duration": 0,
    "start_time": "2024-05-30T16:11:23.194Z"
   },
   {
    "duration": 0,
    "start_time": "2024-05-30T16:11:23.195Z"
   },
   {
    "duration": 0,
    "start_time": "2024-05-30T16:11:23.196Z"
   },
   {
    "duration": 0,
    "start_time": "2024-05-30T16:11:23.197Z"
   },
   {
    "duration": 2,
    "start_time": "2024-05-30T16:16:01.353Z"
   },
   {
    "duration": 205,
    "start_time": "2024-05-30T16:16:01.357Z"
   },
   {
    "duration": 58,
    "start_time": "2024-05-30T16:16:01.563Z"
   },
   {
    "duration": 165,
    "start_time": "2024-05-30T16:16:01.622Z"
   },
   {
    "duration": 33,
    "start_time": "2024-05-30T16:16:01.790Z"
   },
   {
    "duration": 9,
    "start_time": "2024-05-30T16:16:01.824Z"
   },
   {
    "duration": 28,
    "start_time": "2024-05-30T16:16:01.834Z"
   },
   {
    "duration": 32,
    "start_time": "2024-05-30T16:16:01.864Z"
   },
   {
    "duration": 32,
    "start_time": "2024-05-30T16:16:01.897Z"
   },
   {
    "duration": 16,
    "start_time": "2024-05-30T16:16:01.930Z"
   },
   {
    "duration": 21,
    "start_time": "2024-05-30T16:16:01.947Z"
   },
   {
    "duration": 76,
    "start_time": "2024-05-30T16:16:01.969Z"
   },
   {
    "duration": 64,
    "start_time": "2024-05-30T16:16:02.048Z"
   },
   {
    "duration": 47,
    "start_time": "2024-05-30T16:16:02.113Z"
   },
   {
    "duration": 48,
    "start_time": "2024-05-30T16:16:02.162Z"
   },
   {
    "duration": 24,
    "start_time": "2024-05-30T16:16:02.212Z"
   },
   {
    "duration": 11,
    "start_time": "2024-05-30T16:16:02.238Z"
   },
   {
    "duration": 68,
    "start_time": "2024-05-30T16:16:02.251Z"
   },
   {
    "duration": 40,
    "start_time": "2024-05-30T16:16:02.320Z"
   },
   {
    "duration": 57,
    "start_time": "2024-05-30T16:16:02.361Z"
   },
   {
    "duration": 0,
    "start_time": "2024-05-30T16:16:02.419Z"
   },
   {
    "duration": 0,
    "start_time": "2024-05-30T16:16:02.421Z"
   },
   {
    "duration": 0,
    "start_time": "2024-05-30T16:16:02.421Z"
   },
   {
    "duration": 0,
    "start_time": "2024-05-30T16:16:02.422Z"
   },
   {
    "duration": 0,
    "start_time": "2024-05-30T16:16:02.423Z"
   },
   {
    "duration": 0,
    "start_time": "2024-05-30T16:16:02.424Z"
   },
   {
    "duration": 0,
    "start_time": "2024-05-30T16:16:02.425Z"
   },
   {
    "duration": 0,
    "start_time": "2024-05-30T16:16:02.426Z"
   },
   {
    "duration": 0,
    "start_time": "2024-05-30T16:16:02.427Z"
   },
   {
    "duration": 0,
    "start_time": "2024-05-30T16:16:02.428Z"
   },
   {
    "duration": 0,
    "start_time": "2024-05-30T16:16:02.429Z"
   },
   {
    "duration": 0,
    "start_time": "2024-05-30T16:16:02.430Z"
   },
   {
    "duration": 0,
    "start_time": "2024-05-30T16:16:02.431Z"
   },
   {
    "duration": 0,
    "start_time": "2024-05-30T16:16:02.432Z"
   },
   {
    "duration": 0,
    "start_time": "2024-05-30T16:16:02.433Z"
   },
   {
    "duration": 0,
    "start_time": "2024-05-30T16:16:02.434Z"
   },
   {
    "duration": 0,
    "start_time": "2024-05-30T16:16:02.435Z"
   },
   {
    "duration": 0,
    "start_time": "2024-05-30T16:16:02.436Z"
   },
   {
    "duration": 2,
    "start_time": "2024-05-30T16:17:23.156Z"
   },
   {
    "duration": 187,
    "start_time": "2024-05-30T16:17:23.160Z"
   },
   {
    "duration": 11,
    "start_time": "2024-05-30T16:17:23.348Z"
   },
   {
    "duration": 27,
    "start_time": "2024-05-30T16:17:23.361Z"
   },
   {
    "duration": 15,
    "start_time": "2024-05-30T16:17:23.390Z"
   },
   {
    "duration": 78,
    "start_time": "2024-05-30T16:17:23.406Z"
   },
   {
    "duration": 85,
    "start_time": "2024-05-30T16:17:23.485Z"
   },
   {
    "duration": 14,
    "start_time": "2024-05-30T16:17:23.572Z"
   },
   {
    "duration": 24,
    "start_time": "2024-05-30T16:17:23.588Z"
   },
   {
    "duration": 18,
    "start_time": "2024-05-30T16:17:23.613Z"
   },
   {
    "duration": 23,
    "start_time": "2024-05-30T16:17:23.632Z"
   },
   {
    "duration": 67,
    "start_time": "2024-05-30T16:17:23.656Z"
   },
   {
    "duration": 67,
    "start_time": "2024-05-30T16:17:23.725Z"
   },
   {
    "duration": 52,
    "start_time": "2024-05-30T16:17:23.794Z"
   },
   {
    "duration": 38,
    "start_time": "2024-05-30T16:17:23.848Z"
   },
   {
    "duration": 24,
    "start_time": "2024-05-30T16:17:23.887Z"
   },
   {
    "duration": 18,
    "start_time": "2024-05-30T16:17:23.913Z"
   },
   {
    "duration": 42,
    "start_time": "2024-05-30T16:17:23.932Z"
   },
   {
    "duration": 51,
    "start_time": "2024-05-30T16:17:23.976Z"
   },
   {
    "duration": 53,
    "start_time": "2024-05-30T16:17:24.029Z"
   },
   {
    "duration": 0,
    "start_time": "2024-05-30T16:17:24.083Z"
   },
   {
    "duration": 0,
    "start_time": "2024-05-30T16:17:24.084Z"
   },
   {
    "duration": 0,
    "start_time": "2024-05-30T16:17:24.085Z"
   },
   {
    "duration": 0,
    "start_time": "2024-05-30T16:17:24.086Z"
   },
   {
    "duration": 0,
    "start_time": "2024-05-30T16:17:24.087Z"
   },
   {
    "duration": 0,
    "start_time": "2024-05-30T16:17:24.088Z"
   },
   {
    "duration": 0,
    "start_time": "2024-05-30T16:17:24.089Z"
   },
   {
    "duration": 0,
    "start_time": "2024-05-30T16:17:24.090Z"
   },
   {
    "duration": 0,
    "start_time": "2024-05-30T16:17:24.091Z"
   },
   {
    "duration": 0,
    "start_time": "2024-05-30T16:17:24.092Z"
   },
   {
    "duration": 0,
    "start_time": "2024-05-30T16:17:24.093Z"
   },
   {
    "duration": 0,
    "start_time": "2024-05-30T16:17:24.093Z"
   },
   {
    "duration": 0,
    "start_time": "2024-05-30T16:17:24.095Z"
   },
   {
    "duration": 0,
    "start_time": "2024-05-30T16:17:24.095Z"
   },
   {
    "duration": 0,
    "start_time": "2024-05-30T16:17:24.096Z"
   },
   {
    "duration": 0,
    "start_time": "2024-05-30T16:17:24.097Z"
   },
   {
    "duration": 0,
    "start_time": "2024-05-30T16:17:24.098Z"
   },
   {
    "duration": 0,
    "start_time": "2024-05-30T16:17:24.099Z"
   },
   {
    "duration": 2,
    "start_time": "2024-05-30T16:19:32.728Z"
   },
   {
    "duration": 166,
    "start_time": "2024-05-30T16:19:32.734Z"
   },
   {
    "duration": 5,
    "start_time": "2024-05-30T16:19:32.901Z"
   },
   {
    "duration": 30,
    "start_time": "2024-05-30T16:19:32.908Z"
   },
   {
    "duration": 3,
    "start_time": "2024-05-30T16:19:32.939Z"
   },
   {
    "duration": 6,
    "start_time": "2024-05-30T16:19:32.945Z"
   },
   {
    "duration": 11,
    "start_time": "2024-05-30T16:19:32.953Z"
   },
   {
    "duration": 3,
    "start_time": "2024-05-30T16:19:32.965Z"
   },
   {
    "duration": 38,
    "start_time": "2024-05-30T16:19:32.969Z"
   },
   {
    "duration": 25,
    "start_time": "2024-05-30T16:19:33.008Z"
   },
   {
    "duration": 35,
    "start_time": "2024-05-30T16:19:33.034Z"
   },
   {
    "duration": 67,
    "start_time": "2024-05-30T16:19:33.071Z"
   },
   {
    "duration": 65,
    "start_time": "2024-05-30T16:19:33.140Z"
   },
   {
    "duration": 58,
    "start_time": "2024-05-30T16:19:33.206Z"
   },
   {
    "duration": 48,
    "start_time": "2024-05-30T16:19:33.268Z"
   },
   {
    "duration": 13,
    "start_time": "2024-05-30T16:19:33.318Z"
   },
   {
    "duration": 6,
    "start_time": "2024-05-30T16:19:33.333Z"
   },
   {
    "duration": 46,
    "start_time": "2024-05-30T16:19:33.341Z"
   },
   {
    "duration": 42,
    "start_time": "2024-05-30T16:19:33.389Z"
   },
   {
    "duration": 51,
    "start_time": "2024-05-30T16:19:33.433Z"
   },
   {
    "duration": 0,
    "start_time": "2024-05-30T16:19:33.486Z"
   },
   {
    "duration": 0,
    "start_time": "2024-05-30T16:19:33.487Z"
   },
   {
    "duration": 0,
    "start_time": "2024-05-30T16:19:33.488Z"
   },
   {
    "duration": 0,
    "start_time": "2024-05-30T16:19:33.489Z"
   },
   {
    "duration": 0,
    "start_time": "2024-05-30T16:19:33.490Z"
   },
   {
    "duration": 0,
    "start_time": "2024-05-30T16:19:33.492Z"
   },
   {
    "duration": 0,
    "start_time": "2024-05-30T16:19:33.493Z"
   },
   {
    "duration": 0,
    "start_time": "2024-05-30T16:19:33.494Z"
   },
   {
    "duration": 0,
    "start_time": "2024-05-30T16:19:33.495Z"
   },
   {
    "duration": 0,
    "start_time": "2024-05-30T16:19:33.496Z"
   },
   {
    "duration": 0,
    "start_time": "2024-05-30T16:19:33.497Z"
   },
   {
    "duration": 0,
    "start_time": "2024-05-30T16:19:33.498Z"
   },
   {
    "duration": 0,
    "start_time": "2024-05-30T16:19:33.499Z"
   },
   {
    "duration": 0,
    "start_time": "2024-05-30T16:19:33.501Z"
   },
   {
    "duration": 0,
    "start_time": "2024-05-30T16:19:33.502Z"
   },
   {
    "duration": 0,
    "start_time": "2024-05-30T16:19:33.503Z"
   },
   {
    "duration": 0,
    "start_time": "2024-05-30T16:19:33.504Z"
   },
   {
    "duration": 0,
    "start_time": "2024-05-30T16:19:33.505Z"
   },
   {
    "duration": 2,
    "start_time": "2024-05-30T16:33:06.461Z"
   },
   {
    "duration": 149,
    "start_time": "2024-05-30T16:33:06.465Z"
   },
   {
    "duration": 7,
    "start_time": "2024-05-30T16:33:06.616Z"
   },
   {
    "duration": 33,
    "start_time": "2024-05-30T16:33:06.624Z"
   },
   {
    "duration": 2,
    "start_time": "2024-05-30T16:33:06.660Z"
   },
   {
    "duration": 9,
    "start_time": "2024-05-30T16:33:06.664Z"
   },
   {
    "duration": 14,
    "start_time": "2024-05-30T16:33:06.675Z"
   },
   {
    "duration": 21,
    "start_time": "2024-05-30T16:33:06.691Z"
   },
   {
    "duration": 24,
    "start_time": "2024-05-30T16:33:06.713Z"
   },
   {
    "duration": 15,
    "start_time": "2024-05-30T16:33:06.739Z"
   },
   {
    "duration": 18,
    "start_time": "2024-05-30T16:33:06.756Z"
   },
   {
    "duration": 78,
    "start_time": "2024-05-30T16:33:06.776Z"
   },
   {
    "duration": 63,
    "start_time": "2024-05-30T16:33:06.855Z"
   },
   {
    "duration": 53,
    "start_time": "2024-05-30T16:33:06.920Z"
   },
   {
    "duration": 63,
    "start_time": "2024-05-30T16:33:06.974Z"
   },
   {
    "duration": 16,
    "start_time": "2024-05-30T16:33:07.039Z"
   },
   {
    "duration": 5,
    "start_time": "2024-05-30T16:33:07.056Z"
   },
   {
    "duration": 52,
    "start_time": "2024-05-30T16:33:07.062Z"
   },
   {
    "duration": 31,
    "start_time": "2024-05-30T16:33:07.115Z"
   },
   {
    "duration": 56,
    "start_time": "2024-05-30T16:33:07.148Z"
   },
   {
    "duration": 0,
    "start_time": "2024-05-30T16:33:07.206Z"
   },
   {
    "duration": 0,
    "start_time": "2024-05-30T16:33:07.207Z"
   },
   {
    "duration": 0,
    "start_time": "2024-05-30T16:33:07.208Z"
   },
   {
    "duration": 0,
    "start_time": "2024-05-30T16:33:07.209Z"
   },
   {
    "duration": 0,
    "start_time": "2024-05-30T16:33:07.210Z"
   },
   {
    "duration": 0,
    "start_time": "2024-05-30T16:33:07.211Z"
   },
   {
    "duration": 0,
    "start_time": "2024-05-30T16:33:07.211Z"
   },
   {
    "duration": 0,
    "start_time": "2024-05-30T16:33:07.213Z"
   },
   {
    "duration": 0,
    "start_time": "2024-05-30T16:33:07.214Z"
   },
   {
    "duration": 0,
    "start_time": "2024-05-30T16:33:07.215Z"
   },
   {
    "duration": 0,
    "start_time": "2024-05-30T16:33:07.216Z"
   },
   {
    "duration": 0,
    "start_time": "2024-05-30T16:33:07.217Z"
   },
   {
    "duration": 0,
    "start_time": "2024-05-30T16:33:07.218Z"
   },
   {
    "duration": 0,
    "start_time": "2024-05-30T16:33:07.219Z"
   },
   {
    "duration": 0,
    "start_time": "2024-05-30T16:33:07.220Z"
   },
   {
    "duration": 0,
    "start_time": "2024-05-30T16:33:07.221Z"
   },
   {
    "duration": 0,
    "start_time": "2024-05-30T16:33:07.222Z"
   },
   {
    "duration": 0,
    "start_time": "2024-05-30T16:33:07.223Z"
   },
   {
    "duration": 2,
    "start_time": "2024-05-30T16:36:33.034Z"
   },
   {
    "duration": 175,
    "start_time": "2024-05-30T16:36:33.037Z"
   },
   {
    "duration": 6,
    "start_time": "2024-05-30T16:36:33.213Z"
   },
   {
    "duration": 44,
    "start_time": "2024-05-30T16:36:33.220Z"
   },
   {
    "duration": 2,
    "start_time": "2024-05-30T16:36:33.266Z"
   },
   {
    "duration": 11,
    "start_time": "2024-05-30T16:36:33.270Z"
   },
   {
    "duration": 8,
    "start_time": "2024-05-30T16:36:33.282Z"
   },
   {
    "duration": 12,
    "start_time": "2024-05-30T16:36:33.292Z"
   },
   {
    "duration": 22,
    "start_time": "2024-05-30T16:36:33.305Z"
   },
   {
    "duration": 22,
    "start_time": "2024-05-30T16:36:33.328Z"
   },
   {
    "duration": 31,
    "start_time": "2024-05-30T16:36:33.351Z"
   },
   {
    "duration": 53,
    "start_time": "2024-05-30T16:36:33.383Z"
   },
   {
    "duration": 59,
    "start_time": "2024-05-30T16:36:33.439Z"
   },
   {
    "duration": 45,
    "start_time": "2024-05-30T16:36:33.501Z"
   },
   {
    "duration": 76,
    "start_time": "2024-05-30T16:36:33.548Z"
   },
   {
    "duration": 13,
    "start_time": "2024-05-30T16:36:33.626Z"
   },
   {
    "duration": 6,
    "start_time": "2024-05-30T16:36:33.640Z"
   },
   {
    "duration": 31,
    "start_time": "2024-05-30T16:36:33.647Z"
   },
   {
    "duration": 29,
    "start_time": "2024-05-30T16:36:33.701Z"
   },
   {
    "duration": 73,
    "start_time": "2024-05-30T16:36:33.732Z"
   },
   {
    "duration": 0,
    "start_time": "2024-05-30T16:36:33.806Z"
   },
   {
    "duration": 0,
    "start_time": "2024-05-30T16:36:33.807Z"
   },
   {
    "duration": 0,
    "start_time": "2024-05-30T16:36:33.808Z"
   },
   {
    "duration": 0,
    "start_time": "2024-05-30T16:36:33.810Z"
   },
   {
    "duration": 0,
    "start_time": "2024-05-30T16:36:33.811Z"
   },
   {
    "duration": 0,
    "start_time": "2024-05-30T16:36:33.812Z"
   },
   {
    "duration": 0,
    "start_time": "2024-05-30T16:36:33.813Z"
   },
   {
    "duration": 0,
    "start_time": "2024-05-30T16:36:33.814Z"
   },
   {
    "duration": 0,
    "start_time": "2024-05-30T16:36:33.815Z"
   },
   {
    "duration": 0,
    "start_time": "2024-05-30T16:36:33.817Z"
   },
   {
    "duration": 0,
    "start_time": "2024-05-30T16:36:33.818Z"
   },
   {
    "duration": 0,
    "start_time": "2024-05-30T16:36:33.819Z"
   },
   {
    "duration": 0,
    "start_time": "2024-05-30T16:36:33.820Z"
   },
   {
    "duration": 0,
    "start_time": "2024-05-30T16:36:33.821Z"
   },
   {
    "duration": 0,
    "start_time": "2024-05-30T16:36:33.823Z"
   },
   {
    "duration": 0,
    "start_time": "2024-05-30T16:36:33.824Z"
   },
   {
    "duration": 0,
    "start_time": "2024-05-30T16:36:33.825Z"
   },
   {
    "duration": 0,
    "start_time": "2024-05-30T16:36:33.826Z"
   },
   {
    "duration": 3,
    "start_time": "2024-05-30T16:39:14.244Z"
   },
   {
    "duration": 153,
    "start_time": "2024-05-30T16:39:14.248Z"
   },
   {
    "duration": 5,
    "start_time": "2024-05-30T16:39:14.403Z"
   },
   {
    "duration": 30,
    "start_time": "2024-05-30T16:39:14.410Z"
   },
   {
    "duration": 3,
    "start_time": "2024-05-30T16:39:14.442Z"
   },
   {
    "duration": 6,
    "start_time": "2024-05-30T16:39:14.446Z"
   },
   {
    "duration": 11,
    "start_time": "2024-05-30T16:39:14.454Z"
   },
   {
    "duration": 3,
    "start_time": "2024-05-30T16:39:14.466Z"
   },
   {
    "duration": 33,
    "start_time": "2024-05-30T16:39:14.472Z"
   },
   {
    "duration": 14,
    "start_time": "2024-05-30T16:39:14.506Z"
   },
   {
    "duration": 24,
    "start_time": "2024-05-30T16:39:14.522Z"
   },
   {
    "duration": 72,
    "start_time": "2024-05-30T16:39:14.550Z"
   },
   {
    "duration": 57,
    "start_time": "2024-05-30T16:39:14.624Z"
   },
   {
    "duration": 62,
    "start_time": "2024-05-30T16:39:14.684Z"
   },
   {
    "duration": 41,
    "start_time": "2024-05-30T16:39:14.748Z"
   },
   {
    "duration": 17,
    "start_time": "2024-05-30T16:39:14.790Z"
   },
   {
    "duration": 0,
    "start_time": "2024-05-30T16:39:14.808Z"
   },
   {
    "duration": 0,
    "start_time": "2024-05-30T16:39:14.809Z"
   },
   {
    "duration": 0,
    "start_time": "2024-05-30T16:39:14.810Z"
   },
   {
    "duration": 0,
    "start_time": "2024-05-30T16:39:14.811Z"
   },
   {
    "duration": 0,
    "start_time": "2024-05-30T16:39:14.812Z"
   },
   {
    "duration": 0,
    "start_time": "2024-05-30T16:39:14.813Z"
   },
   {
    "duration": 0,
    "start_time": "2024-05-30T16:39:14.813Z"
   },
   {
    "duration": 0,
    "start_time": "2024-05-30T16:39:14.814Z"
   },
   {
    "duration": 0,
    "start_time": "2024-05-30T16:39:14.815Z"
   },
   {
    "duration": 0,
    "start_time": "2024-05-30T16:39:14.816Z"
   },
   {
    "duration": 0,
    "start_time": "2024-05-30T16:39:14.817Z"
   },
   {
    "duration": 0,
    "start_time": "2024-05-30T16:39:14.818Z"
   },
   {
    "duration": 0,
    "start_time": "2024-05-30T16:39:14.818Z"
   },
   {
    "duration": 0,
    "start_time": "2024-05-30T16:39:14.819Z"
   },
   {
    "duration": 0,
    "start_time": "2024-05-30T16:39:14.820Z"
   },
   {
    "duration": 0,
    "start_time": "2024-05-30T16:39:14.821Z"
   },
   {
    "duration": 0,
    "start_time": "2024-05-30T16:39:14.822Z"
   },
   {
    "duration": 0,
    "start_time": "2024-05-30T16:39:14.823Z"
   },
   {
    "duration": 0,
    "start_time": "2024-05-30T16:39:14.824Z"
   },
   {
    "duration": 0,
    "start_time": "2024-05-30T16:39:14.825Z"
   },
   {
    "duration": 0,
    "start_time": "2024-05-30T16:39:14.826Z"
   },
   {
    "duration": 0,
    "start_time": "2024-05-30T16:39:14.826Z"
   },
   {
    "duration": 2,
    "start_time": "2024-05-30T16:40:44.292Z"
   },
   {
    "duration": 163,
    "start_time": "2024-05-30T16:40:44.296Z"
   },
   {
    "duration": 6,
    "start_time": "2024-05-30T16:40:44.460Z"
   },
   {
    "duration": 44,
    "start_time": "2024-05-30T16:40:44.467Z"
   },
   {
    "duration": 7,
    "start_time": "2024-05-30T16:40:44.513Z"
   },
   {
    "duration": 22,
    "start_time": "2024-05-30T16:40:44.521Z"
   },
   {
    "duration": 12,
    "start_time": "2024-05-30T16:40:44.544Z"
   },
   {
    "duration": 15,
    "start_time": "2024-05-30T16:40:44.557Z"
   },
   {
    "duration": 46,
    "start_time": "2024-05-30T16:40:44.573Z"
   },
   {
    "duration": 38,
    "start_time": "2024-05-30T16:40:44.620Z"
   },
   {
    "duration": 42,
    "start_time": "2024-05-30T16:40:44.660Z"
   },
   {
    "duration": 81,
    "start_time": "2024-05-30T16:40:44.704Z"
   },
   {
    "duration": 61,
    "start_time": "2024-05-30T16:40:44.787Z"
   },
   {
    "duration": 54,
    "start_time": "2024-05-30T16:40:44.851Z"
   },
   {
    "duration": 37,
    "start_time": "2024-05-30T16:40:44.906Z"
   },
   {
    "duration": 13,
    "start_time": "2024-05-30T16:40:44.944Z"
   },
   {
    "duration": 12,
    "start_time": "2024-05-30T16:40:44.959Z"
   },
   {
    "duration": 48,
    "start_time": "2024-05-30T16:40:44.972Z"
   },
   {
    "duration": 47,
    "start_time": "2024-05-30T16:40:45.021Z"
   },
   {
    "duration": 60,
    "start_time": "2024-05-30T16:40:45.070Z"
   },
   {
    "duration": 0,
    "start_time": "2024-05-30T16:40:45.132Z"
   },
   {
    "duration": 0,
    "start_time": "2024-05-30T16:40:45.133Z"
   },
   {
    "duration": 0,
    "start_time": "2024-05-30T16:40:45.133Z"
   },
   {
    "duration": 0,
    "start_time": "2024-05-30T16:40:45.134Z"
   },
   {
    "duration": 0,
    "start_time": "2024-05-30T16:40:45.135Z"
   },
   {
    "duration": 0,
    "start_time": "2024-05-30T16:40:45.135Z"
   },
   {
    "duration": 0,
    "start_time": "2024-05-30T16:40:45.136Z"
   },
   {
    "duration": 0,
    "start_time": "2024-05-30T16:40:45.137Z"
   },
   {
    "duration": 0,
    "start_time": "2024-05-30T16:40:45.138Z"
   },
   {
    "duration": 0,
    "start_time": "2024-05-30T16:40:45.138Z"
   },
   {
    "duration": 0,
    "start_time": "2024-05-30T16:40:45.139Z"
   },
   {
    "duration": 0,
    "start_time": "2024-05-30T16:40:45.140Z"
   },
   {
    "duration": 1,
    "start_time": "2024-05-30T16:40:45.140Z"
   },
   {
    "duration": 0,
    "start_time": "2024-05-30T16:40:45.141Z"
   },
   {
    "duration": 0,
    "start_time": "2024-05-30T16:40:45.142Z"
   },
   {
    "duration": 0,
    "start_time": "2024-05-30T16:40:45.143Z"
   },
   {
    "duration": 0,
    "start_time": "2024-05-30T16:40:45.143Z"
   },
   {
    "duration": 0,
    "start_time": "2024-05-30T16:40:45.144Z"
   },
   {
    "duration": 2,
    "start_time": "2024-05-30T16:48:04.828Z"
   },
   {
    "duration": 189,
    "start_time": "2024-05-30T16:48:04.831Z"
   },
   {
    "duration": 6,
    "start_time": "2024-05-30T16:48:05.021Z"
   },
   {
    "duration": 67,
    "start_time": "2024-05-30T16:48:05.028Z"
   },
   {
    "duration": 29,
    "start_time": "2024-05-30T16:48:05.097Z"
   },
   {
    "duration": 30,
    "start_time": "2024-05-30T16:48:05.127Z"
   },
   {
    "duration": 33,
    "start_time": "2024-05-30T16:48:05.158Z"
   },
   {
    "duration": 5,
    "start_time": "2024-05-30T16:48:05.192Z"
   },
   {
    "duration": 37,
    "start_time": "2024-05-30T16:48:05.198Z"
   },
   {
    "duration": 47,
    "start_time": "2024-05-30T16:48:05.236Z"
   },
   {
    "duration": 33,
    "start_time": "2024-05-30T16:48:05.285Z"
   },
   {
    "duration": 80,
    "start_time": "2024-05-30T16:48:05.320Z"
   },
   {
    "duration": 60,
    "start_time": "2024-05-30T16:48:05.403Z"
   },
   {
    "duration": 61,
    "start_time": "2024-05-30T16:48:05.465Z"
   },
   {
    "duration": 38,
    "start_time": "2024-05-30T16:48:05.527Z"
   },
   {
    "duration": 14,
    "start_time": "2024-05-30T16:48:05.566Z"
   },
   {
    "duration": 73,
    "start_time": "2024-05-30T16:48:05.582Z"
   },
   {
    "duration": 58,
    "start_time": "2024-05-30T16:48:05.656Z"
   },
   {
    "duration": 40,
    "start_time": "2024-05-30T16:48:05.715Z"
   },
   {
    "duration": 54,
    "start_time": "2024-05-30T16:48:05.757Z"
   },
   {
    "duration": 0,
    "start_time": "2024-05-30T16:48:05.813Z"
   },
   {
    "duration": 0,
    "start_time": "2024-05-30T16:48:05.813Z"
   },
   {
    "duration": 0,
    "start_time": "2024-05-30T16:48:05.814Z"
   },
   {
    "duration": 0,
    "start_time": "2024-05-30T16:48:05.815Z"
   },
   {
    "duration": 0,
    "start_time": "2024-05-30T16:48:05.816Z"
   },
   {
    "duration": 0,
    "start_time": "2024-05-30T16:48:05.817Z"
   },
   {
    "duration": 0,
    "start_time": "2024-05-30T16:48:05.818Z"
   },
   {
    "duration": 0,
    "start_time": "2024-05-30T16:48:05.819Z"
   },
   {
    "duration": 0,
    "start_time": "2024-05-30T16:48:05.819Z"
   },
   {
    "duration": 0,
    "start_time": "2024-05-30T16:48:05.820Z"
   },
   {
    "duration": 0,
    "start_time": "2024-05-30T16:48:05.821Z"
   },
   {
    "duration": 0,
    "start_time": "2024-05-30T16:48:05.821Z"
   },
   {
    "duration": 0,
    "start_time": "2024-05-30T16:48:05.822Z"
   },
   {
    "duration": 0,
    "start_time": "2024-05-30T16:48:05.823Z"
   },
   {
    "duration": 0,
    "start_time": "2024-05-30T16:48:05.824Z"
   },
   {
    "duration": 0,
    "start_time": "2024-05-30T16:48:05.825Z"
   },
   {
    "duration": 0,
    "start_time": "2024-05-30T16:48:05.826Z"
   },
   {
    "duration": 0,
    "start_time": "2024-05-30T16:48:05.826Z"
   },
   {
    "duration": 3,
    "start_time": "2024-05-30T16:50:30.777Z"
   },
   {
    "duration": 245,
    "start_time": "2024-05-30T16:50:30.781Z"
   },
   {
    "duration": 5,
    "start_time": "2024-05-30T16:50:31.027Z"
   },
   {
    "duration": 81,
    "start_time": "2024-05-30T16:50:31.034Z"
   },
   {
    "duration": 55,
    "start_time": "2024-05-30T16:50:31.117Z"
   },
   {
    "duration": 67,
    "start_time": "2024-05-30T16:50:31.173Z"
   },
   {
    "duration": 77,
    "start_time": "2024-05-30T16:50:31.242Z"
   },
   {
    "duration": 46,
    "start_time": "2024-05-30T16:50:31.320Z"
   },
   {
    "duration": 53,
    "start_time": "2024-05-30T16:50:31.368Z"
   },
   {
    "duration": 119,
    "start_time": "2024-05-30T16:50:31.424Z"
   },
   {
    "duration": 174,
    "start_time": "2024-05-30T16:50:31.544Z"
   },
   {
    "duration": 70,
    "start_time": "2024-05-30T16:50:31.720Z"
   },
   {
    "duration": 58,
    "start_time": "2024-05-30T16:50:31.792Z"
   },
   {
    "duration": 47,
    "start_time": "2024-05-30T16:50:31.851Z"
   },
   {
    "duration": 38,
    "start_time": "2024-05-30T16:50:31.899Z"
   },
   {
    "duration": 12,
    "start_time": "2024-05-30T16:50:31.939Z"
   },
   {
    "duration": 24,
    "start_time": "2024-05-30T16:50:31.952Z"
   },
   {
    "duration": 62,
    "start_time": "2024-05-30T16:50:31.977Z"
   },
   {
    "duration": 36,
    "start_time": "2024-05-30T16:50:32.041Z"
   },
   {
    "duration": 64,
    "start_time": "2024-05-30T16:50:32.079Z"
   },
   {
    "duration": 1,
    "start_time": "2024-05-30T16:50:32.145Z"
   },
   {
    "duration": 0,
    "start_time": "2024-05-30T16:50:32.147Z"
   },
   {
    "duration": 0,
    "start_time": "2024-05-30T16:50:32.148Z"
   },
   {
    "duration": 0,
    "start_time": "2024-05-30T16:50:32.150Z"
   },
   {
    "duration": 0,
    "start_time": "2024-05-30T16:50:32.151Z"
   },
   {
    "duration": 0,
    "start_time": "2024-05-30T16:50:32.153Z"
   },
   {
    "duration": 0,
    "start_time": "2024-05-30T16:50:32.154Z"
   },
   {
    "duration": 0,
    "start_time": "2024-05-30T16:50:32.156Z"
   },
   {
    "duration": 0,
    "start_time": "2024-05-30T16:50:32.157Z"
   },
   {
    "duration": 0,
    "start_time": "2024-05-30T16:50:32.158Z"
   },
   {
    "duration": 0,
    "start_time": "2024-05-30T16:50:32.159Z"
   },
   {
    "duration": 0,
    "start_time": "2024-05-30T16:50:32.160Z"
   },
   {
    "duration": 0,
    "start_time": "2024-05-30T16:50:32.161Z"
   },
   {
    "duration": 0,
    "start_time": "2024-05-30T16:50:32.162Z"
   },
   {
    "duration": 0,
    "start_time": "2024-05-30T16:50:32.163Z"
   },
   {
    "duration": 0,
    "start_time": "2024-05-30T16:50:32.164Z"
   },
   {
    "duration": 0,
    "start_time": "2024-05-30T16:50:32.165Z"
   },
   {
    "duration": 0,
    "start_time": "2024-05-30T16:50:32.166Z"
   },
   {
    "duration": 2,
    "start_time": "2024-05-30T16:51:30.647Z"
   },
   {
    "duration": 205,
    "start_time": "2024-05-30T16:51:30.651Z"
   },
   {
    "duration": 7,
    "start_time": "2024-05-30T16:51:30.857Z"
   },
   {
    "duration": 43,
    "start_time": "2024-05-30T16:51:30.865Z"
   },
   {
    "duration": 26,
    "start_time": "2024-05-30T16:51:30.910Z"
   },
   {
    "duration": 34,
    "start_time": "2024-05-30T16:51:30.938Z"
   },
   {
    "duration": 135,
    "start_time": "2024-05-30T16:51:30.973Z"
   },
   {
    "duration": 90,
    "start_time": "2024-05-30T16:51:31.109Z"
   },
   {
    "duration": 114,
    "start_time": "2024-05-30T16:51:31.200Z"
   },
   {
    "duration": 117,
    "start_time": "2024-05-30T16:51:31.317Z"
   },
   {
    "duration": 67,
    "start_time": "2024-05-30T16:51:31.435Z"
   },
   {
    "duration": 87,
    "start_time": "2024-05-30T16:51:31.504Z"
   },
   {
    "duration": 92,
    "start_time": "2024-05-30T16:51:31.592Z"
   },
   {
    "duration": 49,
    "start_time": "2024-05-30T16:51:31.685Z"
   },
   {
    "duration": 38,
    "start_time": "2024-05-30T16:51:31.735Z"
   },
   {
    "duration": 12,
    "start_time": "2024-05-30T16:51:31.774Z"
   },
   {
    "duration": 42,
    "start_time": "2024-05-30T16:51:31.787Z"
   },
   {
    "duration": 47,
    "start_time": "2024-05-30T16:51:31.830Z"
   },
   {
    "duration": 28,
    "start_time": "2024-05-30T16:51:31.879Z"
   },
   {
    "duration": 46,
    "start_time": "2024-05-30T16:51:31.909Z"
   },
   {
    "duration": 0,
    "start_time": "2024-05-30T16:51:31.957Z"
   },
   {
    "duration": 0,
    "start_time": "2024-05-30T16:51:31.958Z"
   },
   {
    "duration": 0,
    "start_time": "2024-05-30T16:51:31.959Z"
   },
   {
    "duration": 0,
    "start_time": "2024-05-30T16:51:31.960Z"
   },
   {
    "duration": 0,
    "start_time": "2024-05-30T16:51:31.961Z"
   },
   {
    "duration": 0,
    "start_time": "2024-05-30T16:51:31.962Z"
   },
   {
    "duration": 0,
    "start_time": "2024-05-30T16:51:31.962Z"
   },
   {
    "duration": 0,
    "start_time": "2024-05-30T16:51:31.963Z"
   },
   {
    "duration": 0,
    "start_time": "2024-05-30T16:51:31.964Z"
   },
   {
    "duration": 0,
    "start_time": "2024-05-30T16:51:31.965Z"
   },
   {
    "duration": 0,
    "start_time": "2024-05-30T16:51:31.966Z"
   },
   {
    "duration": 0,
    "start_time": "2024-05-30T16:51:31.966Z"
   },
   {
    "duration": 0,
    "start_time": "2024-05-30T16:51:31.967Z"
   },
   {
    "duration": 0,
    "start_time": "2024-05-30T16:51:31.968Z"
   },
   {
    "duration": 0,
    "start_time": "2024-05-30T16:51:31.969Z"
   },
   {
    "duration": 0,
    "start_time": "2024-05-30T16:51:31.970Z"
   },
   {
    "duration": 0,
    "start_time": "2024-05-30T16:51:31.971Z"
   },
   {
    "duration": 0,
    "start_time": "2024-05-30T16:51:31.972Z"
   },
   {
    "duration": 369,
    "start_time": "2024-05-31T08:33:38.148Z"
   },
   {
    "duration": 433,
    "start_time": "2024-05-31T08:33:38.519Z"
   },
   {
    "duration": 7,
    "start_time": "2024-05-31T08:33:38.953Z"
   },
   {
    "duration": 26,
    "start_time": "2024-05-31T08:33:38.962Z"
   },
   {
    "duration": 2,
    "start_time": "2024-05-31T08:33:38.990Z"
   },
   {
    "duration": 5,
    "start_time": "2024-05-31T08:33:38.993Z"
   },
   {
    "duration": 19,
    "start_time": "2024-05-31T08:33:38.999Z"
   },
   {
    "duration": 12,
    "start_time": "2024-05-31T08:33:39.020Z"
   },
   {
    "duration": 24,
    "start_time": "2024-05-31T08:33:39.034Z"
   },
   {
    "duration": 25,
    "start_time": "2024-05-31T08:33:39.060Z"
   },
   {
    "duration": 25,
    "start_time": "2024-05-31T08:33:39.087Z"
   },
   {
    "duration": 62,
    "start_time": "2024-05-31T08:33:39.114Z"
   },
   {
    "duration": 84,
    "start_time": "2024-05-31T08:33:39.178Z"
   },
   {
    "duration": 61,
    "start_time": "2024-05-31T08:33:39.263Z"
   },
   {
    "duration": 44,
    "start_time": "2024-05-31T08:33:39.325Z"
   },
   {
    "duration": 89,
    "start_time": "2024-05-31T08:33:39.370Z"
   },
   {
    "duration": 0,
    "start_time": "2024-05-31T08:33:39.461Z"
   },
   {
    "duration": 0,
    "start_time": "2024-05-31T08:33:39.463Z"
   },
   {
    "duration": 0,
    "start_time": "2024-05-31T08:33:39.464Z"
   },
   {
    "duration": 0,
    "start_time": "2024-05-31T08:33:39.465Z"
   },
   {
    "duration": 0,
    "start_time": "2024-05-31T08:33:39.466Z"
   },
   {
    "duration": 0,
    "start_time": "2024-05-31T08:33:39.468Z"
   },
   {
    "duration": 0,
    "start_time": "2024-05-31T08:33:39.469Z"
   },
   {
    "duration": 0,
    "start_time": "2024-05-31T08:33:39.470Z"
   },
   {
    "duration": 0,
    "start_time": "2024-05-31T08:33:39.470Z"
   },
   {
    "duration": 0,
    "start_time": "2024-05-31T08:33:39.471Z"
   },
   {
    "duration": 0,
    "start_time": "2024-05-31T08:33:39.472Z"
   },
   {
    "duration": 0,
    "start_time": "2024-05-31T08:33:39.473Z"
   },
   {
    "duration": 0,
    "start_time": "2024-05-31T08:33:39.474Z"
   },
   {
    "duration": 0,
    "start_time": "2024-05-31T08:33:39.475Z"
   },
   {
    "duration": 0,
    "start_time": "2024-05-31T08:33:39.476Z"
   },
   {
    "duration": 0,
    "start_time": "2024-05-31T08:33:39.476Z"
   },
   {
    "duration": 0,
    "start_time": "2024-05-31T08:33:39.478Z"
   },
   {
    "duration": 0,
    "start_time": "2024-05-31T08:33:39.479Z"
   },
   {
    "duration": 0,
    "start_time": "2024-05-31T08:33:39.479Z"
   },
   {
    "duration": 0,
    "start_time": "2024-05-31T08:33:39.480Z"
   },
   {
    "duration": 0,
    "start_time": "2024-05-31T08:33:39.512Z"
   },
   {
    "duration": 0,
    "start_time": "2024-05-31T08:33:39.513Z"
   },
   {
    "duration": 2,
    "start_time": "2024-05-31T08:36:09.557Z"
   },
   {
    "duration": 183,
    "start_time": "2024-05-31T08:36:09.561Z"
   },
   {
    "duration": 6,
    "start_time": "2024-05-31T08:36:09.746Z"
   },
   {
    "duration": 30,
    "start_time": "2024-05-31T08:36:09.753Z"
   },
   {
    "duration": 2,
    "start_time": "2024-05-31T08:36:09.785Z"
   },
   {
    "duration": 4,
    "start_time": "2024-05-31T08:36:09.788Z"
   },
   {
    "duration": 21,
    "start_time": "2024-05-31T08:36:09.793Z"
   },
   {
    "duration": 5,
    "start_time": "2024-05-31T08:36:09.815Z"
   },
   {
    "duration": 20,
    "start_time": "2024-05-31T08:36:09.822Z"
   },
   {
    "duration": 14,
    "start_time": "2024-05-31T08:36:09.843Z"
   },
   {
    "duration": 17,
    "start_time": "2024-05-31T08:36:09.859Z"
   },
   {
    "duration": 79,
    "start_time": "2024-05-31T08:36:09.878Z"
   },
   {
    "duration": 66,
    "start_time": "2024-05-31T08:36:09.959Z"
   },
   {
    "duration": 52,
    "start_time": "2024-05-31T08:36:10.028Z"
   },
   {
    "duration": 59,
    "start_time": "2024-05-31T08:36:10.081Z"
   },
   {
    "duration": 14,
    "start_time": "2024-05-31T08:36:10.142Z"
   },
   {
    "duration": 8,
    "start_time": "2024-05-31T08:36:10.158Z"
   },
   {
    "duration": 62,
    "start_time": "2024-05-31T08:36:10.167Z"
   },
   {
    "duration": 33,
    "start_time": "2024-05-31T08:36:10.231Z"
   },
   {
    "duration": 3,
    "start_time": "2024-05-31T08:36:10.266Z"
   },
   {
    "duration": 8,
    "start_time": "2024-05-31T08:36:10.270Z"
   },
   {
    "duration": 0,
    "start_time": "2024-05-31T08:36:10.279Z"
   },
   {
    "duration": 0,
    "start_time": "2024-05-31T08:36:10.281Z"
   },
   {
    "duration": 0,
    "start_time": "2024-05-31T08:36:10.282Z"
   },
   {
    "duration": 0,
    "start_time": "2024-05-31T08:36:10.283Z"
   },
   {
    "duration": 0,
    "start_time": "2024-05-31T08:36:10.284Z"
   },
   {
    "duration": 0,
    "start_time": "2024-05-31T08:36:10.285Z"
   },
   {
    "duration": 0,
    "start_time": "2024-05-31T08:36:10.312Z"
   },
   {
    "duration": 0,
    "start_time": "2024-05-31T08:36:10.313Z"
   },
   {
    "duration": 0,
    "start_time": "2024-05-31T08:36:10.314Z"
   },
   {
    "duration": 0,
    "start_time": "2024-05-31T08:36:10.315Z"
   },
   {
    "duration": 0,
    "start_time": "2024-05-31T08:36:10.316Z"
   },
   {
    "duration": 0,
    "start_time": "2024-05-31T08:36:10.317Z"
   },
   {
    "duration": 0,
    "start_time": "2024-05-31T08:36:10.317Z"
   },
   {
    "duration": 0,
    "start_time": "2024-05-31T08:36:10.318Z"
   },
   {
    "duration": 0,
    "start_time": "2024-05-31T08:36:10.319Z"
   },
   {
    "duration": 0,
    "start_time": "2024-05-31T08:36:10.320Z"
   },
   {
    "duration": 0,
    "start_time": "2024-05-31T08:36:10.321Z"
   },
   {
    "duration": 3,
    "start_time": "2024-05-31T08:40:10.177Z"
   },
   {
    "duration": 157,
    "start_time": "2024-05-31T08:40:10.181Z"
   },
   {
    "duration": 5,
    "start_time": "2024-05-31T08:40:10.340Z"
   },
   {
    "duration": 47,
    "start_time": "2024-05-31T08:40:10.347Z"
   },
   {
    "duration": 8,
    "start_time": "2024-05-31T08:40:10.397Z"
   },
   {
    "duration": 18,
    "start_time": "2024-05-31T08:40:10.406Z"
   },
   {
    "duration": 6,
    "start_time": "2024-05-31T08:40:10.425Z"
   },
   {
    "duration": 3,
    "start_time": "2024-05-31T08:40:10.432Z"
   },
   {
    "duration": 23,
    "start_time": "2024-05-31T08:40:10.437Z"
   },
   {
    "duration": 25,
    "start_time": "2024-05-31T08:40:10.462Z"
   },
   {
    "duration": 20,
    "start_time": "2024-05-31T08:40:10.489Z"
   },
   {
    "duration": 71,
    "start_time": "2024-05-31T08:40:10.511Z"
   },
   {
    "duration": 70,
    "start_time": "2024-05-31T08:40:10.584Z"
   },
   {
    "duration": 65,
    "start_time": "2024-05-31T08:40:10.657Z"
   },
   {
    "duration": 49,
    "start_time": "2024-05-31T08:40:10.724Z"
   },
   {
    "duration": 15,
    "start_time": "2024-05-31T08:40:10.775Z"
   },
   {
    "duration": 21,
    "start_time": "2024-05-31T08:40:10.791Z"
   },
   {
    "duration": 36,
    "start_time": "2024-05-31T08:40:10.813Z"
   },
   {
    "duration": 32,
    "start_time": "2024-05-31T08:40:10.850Z"
   },
   {
    "duration": 3,
    "start_time": "2024-05-31T08:40:10.883Z"
   },
   {
    "duration": 26,
    "start_time": "2024-05-31T08:40:10.888Z"
   },
   {
    "duration": 0,
    "start_time": "2024-05-31T08:40:10.915Z"
   },
   {
    "duration": 0,
    "start_time": "2024-05-31T08:40:10.916Z"
   },
   {
    "duration": 0,
    "start_time": "2024-05-31T08:40:10.916Z"
   },
   {
    "duration": 0,
    "start_time": "2024-05-31T08:40:10.917Z"
   },
   {
    "duration": 0,
    "start_time": "2024-05-31T08:40:10.918Z"
   },
   {
    "duration": 0,
    "start_time": "2024-05-31T08:40:10.919Z"
   },
   {
    "duration": 0,
    "start_time": "2024-05-31T08:40:10.920Z"
   },
   {
    "duration": 0,
    "start_time": "2024-05-31T08:40:10.921Z"
   },
   {
    "duration": 0,
    "start_time": "2024-05-31T08:40:10.922Z"
   },
   {
    "duration": 0,
    "start_time": "2024-05-31T08:40:10.923Z"
   },
   {
    "duration": 0,
    "start_time": "2024-05-31T08:40:10.924Z"
   },
   {
    "duration": 0,
    "start_time": "2024-05-31T08:40:10.925Z"
   },
   {
    "duration": 0,
    "start_time": "2024-05-31T08:40:10.926Z"
   },
   {
    "duration": 0,
    "start_time": "2024-05-31T08:40:10.927Z"
   },
   {
    "duration": 0,
    "start_time": "2024-05-31T08:40:10.928Z"
   },
   {
    "duration": 0,
    "start_time": "2024-05-31T08:40:10.929Z"
   },
   {
    "duration": 0,
    "start_time": "2024-05-31T08:40:10.929Z"
   },
   {
    "duration": 3,
    "start_time": "2024-05-31T08:40:41.452Z"
   },
   {
    "duration": 155,
    "start_time": "2024-05-31T08:40:41.457Z"
   },
   {
    "duration": 6,
    "start_time": "2024-05-31T08:40:41.614Z"
   },
   {
    "duration": 25,
    "start_time": "2024-05-31T08:40:41.621Z"
   },
   {
    "duration": 2,
    "start_time": "2024-05-31T08:40:41.648Z"
   },
   {
    "duration": 7,
    "start_time": "2024-05-31T08:40:41.652Z"
   },
   {
    "duration": 10,
    "start_time": "2024-05-31T08:40:41.661Z"
   },
   {
    "duration": 3,
    "start_time": "2024-05-31T08:40:41.672Z"
   },
   {
    "duration": 40,
    "start_time": "2024-05-31T08:40:41.676Z"
   },
   {
    "duration": 15,
    "start_time": "2024-05-31T08:40:41.717Z"
   },
   {
    "duration": 30,
    "start_time": "2024-05-31T08:40:41.733Z"
   },
   {
    "duration": 65,
    "start_time": "2024-05-31T08:40:41.764Z"
   },
   {
    "duration": 62,
    "start_time": "2024-05-31T08:40:41.831Z"
   },
   {
    "duration": 64,
    "start_time": "2024-05-31T08:40:41.896Z"
   },
   {
    "duration": 51,
    "start_time": "2024-05-31T08:40:41.961Z"
   },
   {
    "duration": 14,
    "start_time": "2024-05-31T08:40:42.014Z"
   },
   {
    "duration": 6,
    "start_time": "2024-05-31T08:40:42.029Z"
   },
   {
    "duration": 41,
    "start_time": "2024-05-31T08:40:42.036Z"
   },
   {
    "duration": 49,
    "start_time": "2024-05-31T08:40:42.078Z"
   },
   {
    "duration": 4,
    "start_time": "2024-05-31T08:40:42.129Z"
   },
   {
    "duration": 8,
    "start_time": "2024-05-31T08:40:42.134Z"
   },
   {
    "duration": 0,
    "start_time": "2024-05-31T08:40:42.144Z"
   },
   {
    "duration": 0,
    "start_time": "2024-05-31T08:40:42.146Z"
   },
   {
    "duration": 0,
    "start_time": "2024-05-31T08:40:42.147Z"
   },
   {
    "duration": 0,
    "start_time": "2024-05-31T08:40:42.148Z"
   },
   {
    "duration": 0,
    "start_time": "2024-05-31T08:40:42.150Z"
   },
   {
    "duration": 0,
    "start_time": "2024-05-31T08:40:42.151Z"
   },
   {
    "duration": 0,
    "start_time": "2024-05-31T08:40:42.152Z"
   },
   {
    "duration": 1,
    "start_time": "2024-05-31T08:40:42.153Z"
   },
   {
    "duration": 0,
    "start_time": "2024-05-31T08:40:42.155Z"
   },
   {
    "duration": 0,
    "start_time": "2024-05-31T08:40:42.156Z"
   },
   {
    "duration": 0,
    "start_time": "2024-05-31T08:40:42.157Z"
   },
   {
    "duration": 0,
    "start_time": "2024-05-31T08:40:42.159Z"
   },
   {
    "duration": 0,
    "start_time": "2024-05-31T08:40:42.160Z"
   },
   {
    "duration": 0,
    "start_time": "2024-05-31T08:40:42.161Z"
   },
   {
    "duration": 0,
    "start_time": "2024-05-31T08:40:42.163Z"
   },
   {
    "duration": 0,
    "start_time": "2024-05-31T08:40:42.164Z"
   },
   {
    "duration": 0,
    "start_time": "2024-05-31T08:40:42.165Z"
   },
   {
    "duration": 2,
    "start_time": "2024-05-31T08:41:12.534Z"
   },
   {
    "duration": 151,
    "start_time": "2024-05-31T08:41:12.539Z"
   },
   {
    "duration": 7,
    "start_time": "2024-05-31T08:41:12.692Z"
   },
   {
    "duration": 35,
    "start_time": "2024-05-31T08:41:12.700Z"
   },
   {
    "duration": 9,
    "start_time": "2024-05-31T08:41:12.738Z"
   },
   {
    "duration": 7,
    "start_time": "2024-05-31T08:41:12.749Z"
   },
   {
    "duration": 8,
    "start_time": "2024-05-31T08:41:12.757Z"
   },
   {
    "duration": 4,
    "start_time": "2024-05-31T08:41:12.766Z"
   },
   {
    "duration": 41,
    "start_time": "2024-05-31T08:41:12.772Z"
   },
   {
    "duration": 15,
    "start_time": "2024-05-31T08:41:12.815Z"
   },
   {
    "duration": 25,
    "start_time": "2024-05-31T08:41:12.832Z"
   },
   {
    "duration": 85,
    "start_time": "2024-05-31T08:41:12.858Z"
   },
   {
    "duration": 78,
    "start_time": "2024-05-31T08:41:12.944Z"
   },
   {
    "duration": 59,
    "start_time": "2024-05-31T08:41:13.025Z"
   },
   {
    "duration": 79,
    "start_time": "2024-05-31T08:41:13.085Z"
   },
   {
    "duration": 17,
    "start_time": "2024-05-31T08:41:13.166Z"
   },
   {
    "duration": 7,
    "start_time": "2024-05-31T08:41:13.185Z"
   },
   {
    "duration": 52,
    "start_time": "2024-05-31T08:41:13.193Z"
   },
   {
    "duration": 35,
    "start_time": "2024-05-31T08:41:13.246Z"
   },
   {
    "duration": 3,
    "start_time": "2024-05-31T08:41:13.283Z"
   },
   {
    "duration": 26,
    "start_time": "2024-05-31T08:41:13.287Z"
   },
   {
    "duration": 0,
    "start_time": "2024-05-31T08:41:13.315Z"
   },
   {
    "duration": 0,
    "start_time": "2024-05-31T08:41:13.316Z"
   },
   {
    "duration": 0,
    "start_time": "2024-05-31T08:41:13.317Z"
   },
   {
    "duration": 0,
    "start_time": "2024-05-31T08:41:13.318Z"
   },
   {
    "duration": 0,
    "start_time": "2024-05-31T08:41:13.319Z"
   },
   {
    "duration": 0,
    "start_time": "2024-05-31T08:41:13.320Z"
   },
   {
    "duration": 0,
    "start_time": "2024-05-31T08:41:13.322Z"
   },
   {
    "duration": 0,
    "start_time": "2024-05-31T08:41:13.323Z"
   },
   {
    "duration": 0,
    "start_time": "2024-05-31T08:41:13.325Z"
   },
   {
    "duration": 0,
    "start_time": "2024-05-31T08:41:13.326Z"
   },
   {
    "duration": 0,
    "start_time": "2024-05-31T08:41:13.328Z"
   },
   {
    "duration": 0,
    "start_time": "2024-05-31T08:41:13.329Z"
   },
   {
    "duration": 0,
    "start_time": "2024-05-31T08:41:13.331Z"
   },
   {
    "duration": 0,
    "start_time": "2024-05-31T08:41:13.332Z"
   },
   {
    "duration": 0,
    "start_time": "2024-05-31T08:41:13.333Z"
   },
   {
    "duration": 0,
    "start_time": "2024-05-31T08:41:13.335Z"
   },
   {
    "duration": 0,
    "start_time": "2024-05-31T08:41:13.336Z"
   },
   {
    "duration": 2,
    "start_time": "2024-05-31T08:41:56.685Z"
   },
   {
    "duration": 155,
    "start_time": "2024-05-31T08:41:56.689Z"
   },
   {
    "duration": 6,
    "start_time": "2024-05-31T08:41:56.846Z"
   },
   {
    "duration": 30,
    "start_time": "2024-05-31T08:41:56.853Z"
   },
   {
    "duration": 6,
    "start_time": "2024-05-31T08:41:56.885Z"
   },
   {
    "duration": 6,
    "start_time": "2024-05-31T08:41:56.892Z"
   },
   {
    "duration": 20,
    "start_time": "2024-05-31T08:41:56.899Z"
   },
   {
    "duration": 3,
    "start_time": "2024-05-31T08:41:56.920Z"
   },
   {
    "duration": 25,
    "start_time": "2024-05-31T08:41:56.924Z"
   },
   {
    "duration": 16,
    "start_time": "2024-05-31T08:41:56.950Z"
   },
   {
    "duration": 19,
    "start_time": "2024-05-31T08:41:56.967Z"
   },
   {
    "duration": 66,
    "start_time": "2024-05-31T08:41:56.988Z"
   },
   {
    "duration": 73,
    "start_time": "2024-05-31T08:41:57.056Z"
   },
   {
    "duration": 52,
    "start_time": "2024-05-31T08:41:57.131Z"
   },
   {
    "duration": 55,
    "start_time": "2024-05-31T08:41:57.184Z"
   },
   {
    "duration": 13,
    "start_time": "2024-05-31T08:41:57.240Z"
   },
   {
    "duration": 13,
    "start_time": "2024-05-31T08:41:57.255Z"
   },
   {
    "duration": 27,
    "start_time": "2024-05-31T08:41:57.270Z"
   },
   {
    "duration": 29,
    "start_time": "2024-05-31T08:41:57.312Z"
   },
   {
    "duration": 4,
    "start_time": "2024-05-31T08:41:57.342Z"
   },
   {
    "duration": 8,
    "start_time": "2024-05-31T08:41:57.347Z"
   },
   {
    "duration": 0,
    "start_time": "2024-05-31T08:41:57.356Z"
   },
   {
    "duration": 0,
    "start_time": "2024-05-31T08:41:57.357Z"
   },
   {
    "duration": 0,
    "start_time": "2024-05-31T08:41:57.358Z"
   },
   {
    "duration": 0,
    "start_time": "2024-05-31T08:41:57.359Z"
   },
   {
    "duration": 0,
    "start_time": "2024-05-31T08:41:57.360Z"
   },
   {
    "duration": 0,
    "start_time": "2024-05-31T08:41:57.361Z"
   },
   {
    "duration": 0,
    "start_time": "2024-05-31T08:41:57.361Z"
   },
   {
    "duration": 0,
    "start_time": "2024-05-31T08:41:57.362Z"
   },
   {
    "duration": 0,
    "start_time": "2024-05-31T08:41:57.363Z"
   },
   {
    "duration": 0,
    "start_time": "2024-05-31T08:41:57.364Z"
   },
   {
    "duration": 0,
    "start_time": "2024-05-31T08:41:57.365Z"
   },
   {
    "duration": 0,
    "start_time": "2024-05-31T08:41:57.365Z"
   },
   {
    "duration": 0,
    "start_time": "2024-05-31T08:41:57.366Z"
   },
   {
    "duration": 0,
    "start_time": "2024-05-31T08:41:57.367Z"
   },
   {
    "duration": 0,
    "start_time": "2024-05-31T08:41:57.368Z"
   },
   {
    "duration": 0,
    "start_time": "2024-05-31T08:41:57.369Z"
   },
   {
    "duration": 0,
    "start_time": "2024-05-31T08:41:57.370Z"
   },
   {
    "duration": 3,
    "start_time": "2024-05-31T08:43:01.975Z"
   },
   {
    "duration": 161,
    "start_time": "2024-05-31T08:43:01.980Z"
   },
   {
    "duration": 6,
    "start_time": "2024-05-31T08:43:02.142Z"
   },
   {
    "duration": 26,
    "start_time": "2024-05-31T08:43:02.150Z"
   },
   {
    "duration": 2,
    "start_time": "2024-05-31T08:43:02.178Z"
   },
   {
    "duration": 18,
    "start_time": "2024-05-31T08:43:02.181Z"
   },
   {
    "duration": 41,
    "start_time": "2024-05-31T08:43:02.201Z"
   },
   {
    "duration": 5,
    "start_time": "2024-05-31T08:43:02.244Z"
   },
   {
    "duration": 21,
    "start_time": "2024-05-31T08:43:02.251Z"
   },
   {
    "duration": 22,
    "start_time": "2024-05-31T08:43:02.274Z"
   },
   {
    "duration": 21,
    "start_time": "2024-05-31T08:43:02.298Z"
   },
   {
    "duration": 71,
    "start_time": "2024-05-31T08:43:02.321Z"
   },
   {
    "duration": 72,
    "start_time": "2024-05-31T08:43:02.396Z"
   },
   {
    "duration": 64,
    "start_time": "2024-05-31T08:43:02.470Z"
   },
   {
    "duration": 42,
    "start_time": "2024-05-31T08:43:02.536Z"
   },
   {
    "duration": 14,
    "start_time": "2024-05-31T08:43:02.580Z"
   },
   {
    "duration": 7,
    "start_time": "2024-05-31T08:43:02.611Z"
   },
   {
    "duration": 38,
    "start_time": "2024-05-31T08:43:02.619Z"
   },
   {
    "duration": 36,
    "start_time": "2024-05-31T08:43:02.658Z"
   },
   {
    "duration": 3,
    "start_time": "2024-05-31T08:43:02.712Z"
   },
   {
    "duration": 12,
    "start_time": "2024-05-31T08:43:02.717Z"
   },
   {
    "duration": 0,
    "start_time": "2024-05-31T08:43:02.731Z"
   },
   {
    "duration": 0,
    "start_time": "2024-05-31T08:43:02.732Z"
   },
   {
    "duration": 0,
    "start_time": "2024-05-31T08:43:02.732Z"
   },
   {
    "duration": 0,
    "start_time": "2024-05-31T08:43:02.733Z"
   },
   {
    "duration": 0,
    "start_time": "2024-05-31T08:43:02.735Z"
   },
   {
    "duration": 0,
    "start_time": "2024-05-31T08:43:02.736Z"
   },
   {
    "duration": 0,
    "start_time": "2024-05-31T08:43:02.737Z"
   },
   {
    "duration": 0,
    "start_time": "2024-05-31T08:43:02.737Z"
   },
   {
    "duration": 0,
    "start_time": "2024-05-31T08:43:02.738Z"
   },
   {
    "duration": 0,
    "start_time": "2024-05-31T08:43:02.739Z"
   },
   {
    "duration": 0,
    "start_time": "2024-05-31T08:43:02.740Z"
   },
   {
    "duration": 0,
    "start_time": "2024-05-31T08:43:02.741Z"
   },
   {
    "duration": 0,
    "start_time": "2024-05-31T08:43:02.742Z"
   },
   {
    "duration": 0,
    "start_time": "2024-05-31T08:43:02.743Z"
   },
   {
    "duration": 0,
    "start_time": "2024-05-31T08:43:02.744Z"
   },
   {
    "duration": 0,
    "start_time": "2024-05-31T08:43:02.745Z"
   },
   {
    "duration": 0,
    "start_time": "2024-05-31T08:43:02.746Z"
   },
   {
    "duration": 3,
    "start_time": "2024-05-31T08:45:26.793Z"
   },
   {
    "duration": 170,
    "start_time": "2024-05-31T08:45:26.798Z"
   },
   {
    "duration": 6,
    "start_time": "2024-05-31T08:45:26.970Z"
   },
   {
    "duration": 36,
    "start_time": "2024-05-31T08:45:26.979Z"
   },
   {
    "duration": 3,
    "start_time": "2024-05-31T08:45:27.017Z"
   },
   {
    "duration": 8,
    "start_time": "2024-05-31T08:45:27.021Z"
   },
   {
    "duration": 9,
    "start_time": "2024-05-31T08:45:27.030Z"
   },
   {
    "duration": 4,
    "start_time": "2024-05-31T08:45:27.040Z"
   },
   {
    "duration": 26,
    "start_time": "2024-05-31T08:45:27.046Z"
   },
   {
    "duration": 36,
    "start_time": "2024-05-31T08:45:27.076Z"
   },
   {
    "duration": 26,
    "start_time": "2024-05-31T08:45:27.114Z"
   },
   {
    "duration": 76,
    "start_time": "2024-05-31T08:45:27.142Z"
   },
   {
    "duration": 68,
    "start_time": "2024-05-31T08:45:27.220Z"
   },
   {
    "duration": 66,
    "start_time": "2024-05-31T08:45:27.290Z"
   },
   {
    "duration": 57,
    "start_time": "2024-05-31T08:45:27.358Z"
   },
   {
    "duration": 15,
    "start_time": "2024-05-31T08:45:27.417Z"
   },
   {
    "duration": 8,
    "start_time": "2024-05-31T08:45:27.433Z"
   },
   {
    "duration": 39,
    "start_time": "2024-05-31T08:45:27.442Z"
   },
   {
    "duration": 60,
    "start_time": "2024-05-31T08:45:27.482Z"
   },
   {
    "duration": 3,
    "start_time": "2024-05-31T08:45:27.543Z"
   },
   {
    "duration": 7,
    "start_time": "2024-05-31T08:45:27.547Z"
   },
   {
    "duration": 0,
    "start_time": "2024-05-31T08:45:27.556Z"
   },
   {
    "duration": 0,
    "start_time": "2024-05-31T08:45:27.557Z"
   },
   {
    "duration": 0,
    "start_time": "2024-05-31T08:45:27.558Z"
   },
   {
    "duration": 0,
    "start_time": "2024-05-31T08:45:27.559Z"
   },
   {
    "duration": 0,
    "start_time": "2024-05-31T08:45:27.560Z"
   },
   {
    "duration": 0,
    "start_time": "2024-05-31T08:45:27.561Z"
   },
   {
    "duration": 0,
    "start_time": "2024-05-31T08:45:27.562Z"
   },
   {
    "duration": 0,
    "start_time": "2024-05-31T08:45:27.563Z"
   },
   {
    "duration": 0,
    "start_time": "2024-05-31T08:45:27.563Z"
   },
   {
    "duration": 0,
    "start_time": "2024-05-31T08:45:27.564Z"
   },
   {
    "duration": 0,
    "start_time": "2024-05-31T08:45:27.565Z"
   },
   {
    "duration": 0,
    "start_time": "2024-05-31T08:45:27.566Z"
   },
   {
    "duration": 0,
    "start_time": "2024-05-31T08:45:27.567Z"
   },
   {
    "duration": 0,
    "start_time": "2024-05-31T08:45:27.568Z"
   },
   {
    "duration": 0,
    "start_time": "2024-05-31T08:45:27.612Z"
   },
   {
    "duration": 0,
    "start_time": "2024-05-31T08:45:27.613Z"
   },
   {
    "duration": 0,
    "start_time": "2024-05-31T08:45:27.614Z"
   },
   {
    "duration": 2,
    "start_time": "2024-05-31T08:50:28.177Z"
   },
   {
    "duration": 152,
    "start_time": "2024-05-31T08:50:28.181Z"
   },
   {
    "duration": 7,
    "start_time": "2024-05-31T08:50:28.335Z"
   },
   {
    "duration": 28,
    "start_time": "2024-05-31T08:50:28.343Z"
   },
   {
    "duration": 2,
    "start_time": "2024-05-31T08:50:28.374Z"
   },
   {
    "duration": 13,
    "start_time": "2024-05-31T08:50:28.378Z"
   },
   {
    "duration": 23,
    "start_time": "2024-05-31T08:50:28.392Z"
   },
   {
    "duration": 3,
    "start_time": "2024-05-31T08:50:28.416Z"
   },
   {
    "duration": 33,
    "start_time": "2024-05-31T08:50:28.421Z"
   },
   {
    "duration": 16,
    "start_time": "2024-05-31T08:50:28.456Z"
   },
   {
    "duration": 21,
    "start_time": "2024-05-31T08:50:28.473Z"
   },
   {
    "duration": 57,
    "start_time": "2024-05-31T08:50:28.512Z"
   },
   {
    "duration": 74,
    "start_time": "2024-05-31T08:50:28.571Z"
   },
   {
    "duration": 87,
    "start_time": "2024-05-31T08:50:28.648Z"
   },
   {
    "duration": 40,
    "start_time": "2024-05-31T08:50:28.736Z"
   },
   {
    "duration": 12,
    "start_time": "2024-05-31T08:50:28.778Z"
   },
   {
    "duration": 21,
    "start_time": "2024-05-31T08:50:28.791Z"
   },
   {
    "duration": 31,
    "start_time": "2024-05-31T08:50:28.814Z"
   },
   {
    "duration": 29,
    "start_time": "2024-05-31T08:50:28.847Z"
   },
   {
    "duration": 3,
    "start_time": "2024-05-31T08:50:28.877Z"
   },
   {
    "duration": 32,
    "start_time": "2024-05-31T08:50:28.882Z"
   },
   {
    "duration": 0,
    "start_time": "2024-05-31T08:50:28.915Z"
   },
   {
    "duration": 0,
    "start_time": "2024-05-31T08:50:28.916Z"
   },
   {
    "duration": 0,
    "start_time": "2024-05-31T08:50:28.917Z"
   },
   {
    "duration": 0,
    "start_time": "2024-05-31T08:50:28.918Z"
   },
   {
    "duration": 0,
    "start_time": "2024-05-31T08:50:28.919Z"
   },
   {
    "duration": 0,
    "start_time": "2024-05-31T08:50:28.920Z"
   },
   {
    "duration": 0,
    "start_time": "2024-05-31T08:50:28.921Z"
   },
   {
    "duration": 0,
    "start_time": "2024-05-31T08:50:28.922Z"
   },
   {
    "duration": 0,
    "start_time": "2024-05-31T08:50:28.923Z"
   },
   {
    "duration": 0,
    "start_time": "2024-05-31T08:50:28.923Z"
   },
   {
    "duration": 0,
    "start_time": "2024-05-31T08:50:28.924Z"
   },
   {
    "duration": 0,
    "start_time": "2024-05-31T08:50:28.925Z"
   },
   {
    "duration": 0,
    "start_time": "2024-05-31T08:50:28.926Z"
   },
   {
    "duration": 0,
    "start_time": "2024-05-31T08:50:28.927Z"
   },
   {
    "duration": 0,
    "start_time": "2024-05-31T08:50:28.928Z"
   },
   {
    "duration": 0,
    "start_time": "2024-05-31T08:50:28.929Z"
   },
   {
    "duration": 0,
    "start_time": "2024-05-31T08:50:28.930Z"
   },
   {
    "duration": 2,
    "start_time": "2024-05-31T08:51:08.115Z"
   },
   {
    "duration": 149,
    "start_time": "2024-05-31T08:51:08.119Z"
   },
   {
    "duration": 6,
    "start_time": "2024-05-31T08:51:08.269Z"
   },
   {
    "duration": 31,
    "start_time": "2024-05-31T08:51:08.276Z"
   },
   {
    "duration": 2,
    "start_time": "2024-05-31T08:51:08.312Z"
   },
   {
    "duration": 3,
    "start_time": "2024-05-31T08:51:08.316Z"
   },
   {
    "duration": 14,
    "start_time": "2024-05-31T08:51:08.320Z"
   },
   {
    "duration": 3,
    "start_time": "2024-05-31T08:51:08.335Z"
   },
   {
    "duration": 23,
    "start_time": "2024-05-31T08:51:08.340Z"
   },
   {
    "duration": 15,
    "start_time": "2024-05-31T08:51:08.364Z"
   },
   {
    "duration": 38,
    "start_time": "2024-05-31T08:51:08.380Z"
   },
   {
    "duration": 60,
    "start_time": "2024-05-31T08:51:08.420Z"
   },
   {
    "duration": 76,
    "start_time": "2024-05-31T08:51:08.481Z"
   },
   {
    "duration": 61,
    "start_time": "2024-05-31T08:51:08.560Z"
   },
   {
    "duration": 8,
    "start_time": "2024-05-31T08:51:08.622Z"
   },
   {
    "duration": 0,
    "start_time": "2024-05-31T08:51:08.631Z"
   },
   {
    "duration": 0,
    "start_time": "2024-05-31T08:51:08.632Z"
   },
   {
    "duration": 0,
    "start_time": "2024-05-31T08:51:08.633Z"
   },
   {
    "duration": 0,
    "start_time": "2024-05-31T08:51:08.634Z"
   },
   {
    "duration": 0,
    "start_time": "2024-05-31T08:51:08.635Z"
   },
   {
    "duration": 0,
    "start_time": "2024-05-31T08:51:08.636Z"
   },
   {
    "duration": 0,
    "start_time": "2024-05-31T08:51:08.636Z"
   },
   {
    "duration": 0,
    "start_time": "2024-05-31T08:51:08.637Z"
   },
   {
    "duration": 0,
    "start_time": "2024-05-31T08:51:08.638Z"
   },
   {
    "duration": 0,
    "start_time": "2024-05-31T08:51:08.639Z"
   },
   {
    "duration": 0,
    "start_time": "2024-05-31T08:51:08.640Z"
   },
   {
    "duration": 0,
    "start_time": "2024-05-31T08:51:08.641Z"
   },
   {
    "duration": 0,
    "start_time": "2024-05-31T08:51:08.641Z"
   },
   {
    "duration": 0,
    "start_time": "2024-05-31T08:51:08.642Z"
   },
   {
    "duration": 0,
    "start_time": "2024-05-31T08:51:08.643Z"
   },
   {
    "duration": 0,
    "start_time": "2024-05-31T08:51:08.643Z"
   },
   {
    "duration": 0,
    "start_time": "2024-05-31T08:51:08.644Z"
   },
   {
    "duration": 0,
    "start_time": "2024-05-31T08:51:08.645Z"
   },
   {
    "duration": 0,
    "start_time": "2024-05-31T08:51:08.646Z"
   },
   {
    "duration": 0,
    "start_time": "2024-05-31T08:51:08.646Z"
   },
   {
    "duration": 0,
    "start_time": "2024-05-31T08:51:08.647Z"
   },
   {
    "duration": 0,
    "start_time": "2024-05-31T08:51:08.648Z"
   },
   {
    "duration": 0,
    "start_time": "2024-05-31T08:51:08.649Z"
   },
   {
    "duration": 2,
    "start_time": "2024-05-31T08:52:28.706Z"
   },
   {
    "duration": 156,
    "start_time": "2024-05-31T08:52:28.710Z"
   },
   {
    "duration": 6,
    "start_time": "2024-05-31T08:52:28.867Z"
   },
   {
    "duration": 38,
    "start_time": "2024-05-31T08:52:28.874Z"
   },
   {
    "duration": 2,
    "start_time": "2024-05-31T08:52:28.914Z"
   },
   {
    "duration": 12,
    "start_time": "2024-05-31T08:52:28.917Z"
   },
   {
    "duration": 12,
    "start_time": "2024-05-31T08:52:28.930Z"
   },
   {
    "duration": 16,
    "start_time": "2024-05-31T08:52:28.944Z"
   },
   {
    "duration": 27,
    "start_time": "2024-05-31T08:52:28.962Z"
   },
   {
    "duration": 25,
    "start_time": "2024-05-31T08:52:28.990Z"
   },
   {
    "duration": 20,
    "start_time": "2024-05-31T08:52:29.017Z"
   },
   {
    "duration": 61,
    "start_time": "2024-05-31T08:52:29.038Z"
   },
   {
    "duration": 83,
    "start_time": "2024-05-31T08:52:29.101Z"
   },
   {
    "duration": 65,
    "start_time": "2024-05-31T08:52:29.187Z"
   },
   {
    "duration": 41,
    "start_time": "2024-05-31T08:52:29.253Z"
   },
   {
    "duration": 21,
    "start_time": "2024-05-31T08:52:29.295Z"
   },
   {
    "duration": 7,
    "start_time": "2024-05-31T08:52:29.318Z"
   },
   {
    "duration": 30,
    "start_time": "2024-05-31T08:52:29.326Z"
   },
   {
    "duration": 29,
    "start_time": "2024-05-31T08:52:29.357Z"
   },
   {
    "duration": 26,
    "start_time": "2024-05-31T08:52:29.387Z"
   },
   {
    "duration": 16,
    "start_time": "2024-05-31T08:52:29.414Z"
   },
   {
    "duration": 0,
    "start_time": "2024-05-31T08:52:29.431Z"
   },
   {
    "duration": 0,
    "start_time": "2024-05-31T08:52:29.432Z"
   },
   {
    "duration": 0,
    "start_time": "2024-05-31T08:52:29.433Z"
   },
   {
    "duration": 0,
    "start_time": "2024-05-31T08:52:29.434Z"
   },
   {
    "duration": 0,
    "start_time": "2024-05-31T08:52:29.435Z"
   },
   {
    "duration": 0,
    "start_time": "2024-05-31T08:52:29.436Z"
   },
   {
    "duration": 0,
    "start_time": "2024-05-31T08:52:29.437Z"
   },
   {
    "duration": 0,
    "start_time": "2024-05-31T08:52:29.438Z"
   },
   {
    "duration": 0,
    "start_time": "2024-05-31T08:52:29.439Z"
   },
   {
    "duration": 0,
    "start_time": "2024-05-31T08:52:29.440Z"
   },
   {
    "duration": 0,
    "start_time": "2024-05-31T08:52:29.441Z"
   },
   {
    "duration": 0,
    "start_time": "2024-05-31T08:52:29.441Z"
   },
   {
    "duration": 0,
    "start_time": "2024-05-31T08:52:29.442Z"
   },
   {
    "duration": 0,
    "start_time": "2024-05-31T08:52:29.443Z"
   },
   {
    "duration": 0,
    "start_time": "2024-05-31T08:52:29.444Z"
   },
   {
    "duration": 0,
    "start_time": "2024-05-31T08:52:29.445Z"
   },
   {
    "duration": 0,
    "start_time": "2024-05-31T08:52:29.446Z"
   },
   {
    "duration": 2,
    "start_time": "2024-05-31T08:52:57.633Z"
   },
   {
    "duration": 173,
    "start_time": "2024-05-31T08:52:57.637Z"
   },
   {
    "duration": 6,
    "start_time": "2024-05-31T08:52:57.811Z"
   },
   {
    "duration": 25,
    "start_time": "2024-05-31T08:52:57.819Z"
   },
   {
    "duration": 2,
    "start_time": "2024-05-31T08:52:57.846Z"
   },
   {
    "duration": 7,
    "start_time": "2024-05-31T08:52:57.850Z"
   },
   {
    "duration": 7,
    "start_time": "2024-05-31T08:52:57.859Z"
   },
   {
    "duration": 2,
    "start_time": "2024-05-31T08:52:57.868Z"
   },
   {
    "duration": 43,
    "start_time": "2024-05-31T08:52:57.872Z"
   },
   {
    "duration": 18,
    "start_time": "2024-05-31T08:52:57.917Z"
   },
   {
    "duration": 21,
    "start_time": "2024-05-31T08:52:57.936Z"
   },
   {
    "duration": 74,
    "start_time": "2024-05-31T08:52:57.958Z"
   },
   {
    "duration": 78,
    "start_time": "2024-05-31T08:52:58.034Z"
   },
   {
    "duration": 53,
    "start_time": "2024-05-31T08:52:58.113Z"
   },
   {
    "duration": 51,
    "start_time": "2024-05-31T08:52:58.169Z"
   },
   {
    "duration": 13,
    "start_time": "2024-05-31T08:52:58.221Z"
   },
   {
    "duration": 7,
    "start_time": "2024-05-31T08:52:58.235Z"
   },
   {
    "duration": 29,
    "start_time": "2024-05-31T08:52:58.244Z"
   },
   {
    "duration": 58,
    "start_time": "2024-05-31T08:52:58.274Z"
   },
   {
    "duration": 3,
    "start_time": "2024-05-31T08:52:58.337Z"
   },
   {
    "duration": 7,
    "start_time": "2024-05-31T08:52:58.341Z"
   },
   {
    "duration": 0,
    "start_time": "2024-05-31T08:52:58.350Z"
   },
   {
    "duration": 0,
    "start_time": "2024-05-31T08:52:58.351Z"
   },
   {
    "duration": 0,
    "start_time": "2024-05-31T08:52:58.352Z"
   },
   {
    "duration": 0,
    "start_time": "2024-05-31T08:52:58.353Z"
   },
   {
    "duration": 0,
    "start_time": "2024-05-31T08:52:58.354Z"
   },
   {
    "duration": 0,
    "start_time": "2024-05-31T08:52:58.355Z"
   },
   {
    "duration": 0,
    "start_time": "2024-05-31T08:52:58.356Z"
   },
   {
    "duration": 0,
    "start_time": "2024-05-31T08:52:58.357Z"
   },
   {
    "duration": 0,
    "start_time": "2024-05-31T08:52:58.357Z"
   },
   {
    "duration": 0,
    "start_time": "2024-05-31T08:52:58.358Z"
   },
   {
    "duration": 0,
    "start_time": "2024-05-31T08:52:58.359Z"
   },
   {
    "duration": 0,
    "start_time": "2024-05-31T08:52:58.360Z"
   },
   {
    "duration": 0,
    "start_time": "2024-05-31T08:52:58.361Z"
   },
   {
    "duration": 0,
    "start_time": "2024-05-31T08:52:58.362Z"
   },
   {
    "duration": 0,
    "start_time": "2024-05-31T08:52:58.363Z"
   },
   {
    "duration": 0,
    "start_time": "2024-05-31T08:52:58.364Z"
   },
   {
    "duration": 0,
    "start_time": "2024-05-31T08:52:58.364Z"
   },
   {
    "duration": 3,
    "start_time": "2024-05-31T08:56:30.118Z"
   },
   {
    "duration": 192,
    "start_time": "2024-05-31T08:56:30.123Z"
   },
   {
    "duration": 6,
    "start_time": "2024-05-31T08:56:30.317Z"
   },
   {
    "duration": 44,
    "start_time": "2024-05-31T08:56:30.324Z"
   },
   {
    "duration": 35,
    "start_time": "2024-05-31T08:56:30.370Z"
   },
   {
    "duration": 57,
    "start_time": "2024-05-31T08:56:30.406Z"
   },
   {
    "duration": 43,
    "start_time": "2024-05-31T08:56:30.465Z"
   },
   {
    "duration": 27,
    "start_time": "2024-05-31T08:56:30.510Z"
   },
   {
    "duration": 40,
    "start_time": "2024-05-31T08:56:30.538Z"
   },
   {
    "duration": 41,
    "start_time": "2024-05-31T08:56:30.579Z"
   },
   {
    "duration": 34,
    "start_time": "2024-05-31T08:56:30.622Z"
   },
   {
    "duration": 108,
    "start_time": "2024-05-31T08:56:30.658Z"
   },
   {
    "duration": 77,
    "start_time": "2024-05-31T08:56:30.767Z"
   },
   {
    "duration": 56,
    "start_time": "2024-05-31T08:56:30.847Z"
   },
   {
    "duration": 42,
    "start_time": "2024-05-31T08:56:30.912Z"
   },
   {
    "duration": 14,
    "start_time": "2024-05-31T08:56:30.956Z"
   },
   {
    "duration": 62,
    "start_time": "2024-05-31T08:56:30.971Z"
   },
   {
    "duration": 57,
    "start_time": "2024-05-31T08:56:31.034Z"
   },
   {
    "duration": 47,
    "start_time": "2024-05-31T08:56:31.093Z"
   },
   {
    "duration": 10,
    "start_time": "2024-05-31T08:56:31.142Z"
   },
   {
    "duration": 46,
    "start_time": "2024-05-31T08:56:31.154Z"
   },
   {
    "duration": 0,
    "start_time": "2024-05-31T08:56:31.201Z"
   },
   {
    "duration": 0,
    "start_time": "2024-05-31T08:56:31.203Z"
   },
   {
    "duration": 0,
    "start_time": "2024-05-31T08:56:31.204Z"
   },
   {
    "duration": 0,
    "start_time": "2024-05-31T08:56:31.205Z"
   },
   {
    "duration": 0,
    "start_time": "2024-05-31T08:56:31.206Z"
   },
   {
    "duration": 0,
    "start_time": "2024-05-31T08:56:31.207Z"
   },
   {
    "duration": 0,
    "start_time": "2024-05-31T08:56:31.208Z"
   },
   {
    "duration": 0,
    "start_time": "2024-05-31T08:56:31.209Z"
   },
   {
    "duration": 0,
    "start_time": "2024-05-31T08:56:31.210Z"
   },
   {
    "duration": 0,
    "start_time": "2024-05-31T08:56:31.211Z"
   },
   {
    "duration": 0,
    "start_time": "2024-05-31T08:56:31.212Z"
   },
   {
    "duration": 0,
    "start_time": "2024-05-31T08:56:31.214Z"
   },
   {
    "duration": 0,
    "start_time": "2024-05-31T08:56:31.214Z"
   },
   {
    "duration": 0,
    "start_time": "2024-05-31T08:56:31.216Z"
   },
   {
    "duration": 0,
    "start_time": "2024-05-31T08:56:31.217Z"
   },
   {
    "duration": 0,
    "start_time": "2024-05-31T08:56:31.218Z"
   },
   {
    "duration": 0,
    "start_time": "2024-05-31T08:56:31.219Z"
   },
   {
    "duration": 3,
    "start_time": "2024-05-31T09:00:40.462Z"
   },
   {
    "duration": 160,
    "start_time": "2024-05-31T09:00:40.467Z"
   },
   {
    "duration": 7,
    "start_time": "2024-05-31T09:00:40.629Z"
   },
   {
    "duration": 28,
    "start_time": "2024-05-31T09:00:40.638Z"
   },
   {
    "duration": 2,
    "start_time": "2024-05-31T09:00:40.669Z"
   },
   {
    "duration": 10,
    "start_time": "2024-05-31T09:00:40.673Z"
   },
   {
    "duration": 29,
    "start_time": "2024-05-31T09:00:40.684Z"
   },
   {
    "duration": 4,
    "start_time": "2024-05-31T09:00:40.715Z"
   },
   {
    "duration": 22,
    "start_time": "2024-05-31T09:00:40.720Z"
   },
   {
    "duration": 24,
    "start_time": "2024-05-31T09:00:40.744Z"
   },
   {
    "duration": 23,
    "start_time": "2024-05-31T09:00:40.770Z"
   },
   {
    "duration": 78,
    "start_time": "2024-05-31T09:00:40.795Z"
   },
   {
    "duration": 75,
    "start_time": "2024-05-31T09:00:40.875Z"
   },
   {
    "duration": 61,
    "start_time": "2024-05-31T09:00:40.953Z"
   },
   {
    "duration": 42,
    "start_time": "2024-05-31T09:00:41.016Z"
   },
   {
    "duration": 13,
    "start_time": "2024-05-31T09:00:41.060Z"
   },
   {
    "duration": 8,
    "start_time": "2024-05-31T09:00:41.075Z"
   },
   {
    "duration": 33,
    "start_time": "2024-05-31T09:00:41.111Z"
   },
   {
    "duration": 43,
    "start_time": "2024-05-31T09:00:41.145Z"
   },
   {
    "duration": 3,
    "start_time": "2024-05-31T09:00:41.189Z"
   },
   {
    "duration": 18,
    "start_time": "2024-05-31T09:00:41.193Z"
   },
   {
    "duration": 0,
    "start_time": "2024-05-31T09:00:41.212Z"
   },
   {
    "duration": 0,
    "start_time": "2024-05-31T09:00:41.213Z"
   },
   {
    "duration": 0,
    "start_time": "2024-05-31T09:00:41.214Z"
   },
   {
    "duration": 0,
    "start_time": "2024-05-31T09:00:41.215Z"
   },
   {
    "duration": 0,
    "start_time": "2024-05-31T09:00:41.215Z"
   },
   {
    "duration": 0,
    "start_time": "2024-05-31T09:00:41.216Z"
   },
   {
    "duration": 0,
    "start_time": "2024-05-31T09:00:41.217Z"
   },
   {
    "duration": 0,
    "start_time": "2024-05-31T09:00:41.217Z"
   },
   {
    "duration": 0,
    "start_time": "2024-05-31T09:00:41.218Z"
   },
   {
    "duration": 0,
    "start_time": "2024-05-31T09:00:41.220Z"
   },
   {
    "duration": 0,
    "start_time": "2024-05-31T09:00:41.221Z"
   },
   {
    "duration": 0,
    "start_time": "2024-05-31T09:00:41.221Z"
   },
   {
    "duration": 0,
    "start_time": "2024-05-31T09:00:41.223Z"
   },
   {
    "duration": 0,
    "start_time": "2024-05-31T09:00:41.223Z"
   },
   {
    "duration": 0,
    "start_time": "2024-05-31T09:00:41.224Z"
   },
   {
    "duration": 0,
    "start_time": "2024-05-31T09:00:41.225Z"
   },
   {
    "duration": 0,
    "start_time": "2024-05-31T09:00:41.226Z"
   },
   {
    "duration": 3,
    "start_time": "2024-05-31T09:03:04.353Z"
   },
   {
    "duration": 157,
    "start_time": "2024-05-31T09:03:04.357Z"
   },
   {
    "duration": 5,
    "start_time": "2024-05-31T09:03:04.516Z"
   },
   {
    "duration": 35,
    "start_time": "2024-05-31T09:03:04.523Z"
   },
   {
    "duration": 2,
    "start_time": "2024-05-31T09:03:04.560Z"
   },
   {
    "duration": 15,
    "start_time": "2024-05-31T09:03:04.563Z"
   },
   {
    "duration": 11,
    "start_time": "2024-05-31T09:03:04.579Z"
   },
   {
    "duration": 23,
    "start_time": "2024-05-31T09:03:04.591Z"
   },
   {
    "duration": 25,
    "start_time": "2024-05-31T09:03:04.615Z"
   },
   {
    "duration": 19,
    "start_time": "2024-05-31T09:03:04.643Z"
   },
   {
    "duration": 24,
    "start_time": "2024-05-31T09:03:04.663Z"
   },
   {
    "duration": 66,
    "start_time": "2024-05-31T09:03:04.688Z"
   },
   {
    "duration": 65,
    "start_time": "2024-05-31T09:03:04.755Z"
   },
   {
    "duration": 54,
    "start_time": "2024-05-31T09:03:04.822Z"
   },
   {
    "duration": 49,
    "start_time": "2024-05-31T09:03:04.877Z"
   },
   {
    "duration": 12,
    "start_time": "2024-05-31T09:03:04.928Z"
   },
   {
    "duration": 7,
    "start_time": "2024-05-31T09:03:04.941Z"
   },
   {
    "duration": 30,
    "start_time": "2024-05-31T09:03:04.949Z"
   },
   {
    "duration": 53,
    "start_time": "2024-05-31T09:03:04.980Z"
   },
   {
    "duration": 3,
    "start_time": "2024-05-31T09:03:05.035Z"
   },
   {
    "duration": 21,
    "start_time": "2024-05-31T09:03:05.039Z"
   },
   {
    "duration": 0,
    "start_time": "2024-05-31T09:03:05.062Z"
   },
   {
    "duration": 0,
    "start_time": "2024-05-31T09:03:05.062Z"
   },
   {
    "duration": 0,
    "start_time": "2024-05-31T09:03:05.063Z"
   },
   {
    "duration": 0,
    "start_time": "2024-05-31T09:03:05.064Z"
   },
   {
    "duration": 0,
    "start_time": "2024-05-31T09:03:05.065Z"
   },
   {
    "duration": 0,
    "start_time": "2024-05-31T09:03:05.066Z"
   },
   {
    "duration": 0,
    "start_time": "2024-05-31T09:03:05.066Z"
   },
   {
    "duration": 0,
    "start_time": "2024-05-31T09:03:05.067Z"
   },
   {
    "duration": 0,
    "start_time": "2024-05-31T09:03:05.068Z"
   },
   {
    "duration": 0,
    "start_time": "2024-05-31T09:03:05.069Z"
   },
   {
    "duration": 0,
    "start_time": "2024-05-31T09:03:05.070Z"
   },
   {
    "duration": 0,
    "start_time": "2024-05-31T09:03:05.071Z"
   },
   {
    "duration": 0,
    "start_time": "2024-05-31T09:03:05.072Z"
   },
   {
    "duration": 1,
    "start_time": "2024-05-31T09:03:05.072Z"
   },
   {
    "duration": 0,
    "start_time": "2024-05-31T09:03:05.073Z"
   },
   {
    "duration": 0,
    "start_time": "2024-05-31T09:03:05.074Z"
   },
   {
    "duration": 0,
    "start_time": "2024-05-31T09:03:05.075Z"
   },
   {
    "duration": 2,
    "start_time": "2024-05-31T09:05:12.478Z"
   },
   {
    "duration": 155,
    "start_time": "2024-05-31T09:05:12.482Z"
   },
   {
    "duration": 5,
    "start_time": "2024-05-31T09:05:12.639Z"
   },
   {
    "duration": 24,
    "start_time": "2024-05-31T09:05:12.646Z"
   },
   {
    "duration": 2,
    "start_time": "2024-05-31T09:05:12.671Z"
   },
   {
    "duration": 3,
    "start_time": "2024-05-31T09:05:12.675Z"
   },
   {
    "duration": 32,
    "start_time": "2024-05-31T09:05:12.680Z"
   },
   {
    "duration": 3,
    "start_time": "2024-05-31T09:05:12.713Z"
   },
   {
    "duration": 22,
    "start_time": "2024-05-31T09:05:12.718Z"
   },
   {
    "duration": 21,
    "start_time": "2024-05-31T09:05:12.742Z"
   },
   {
    "duration": 18,
    "start_time": "2024-05-31T09:05:12.765Z"
   },
   {
    "duration": 69,
    "start_time": "2024-05-31T09:05:12.784Z"
   },
   {
    "duration": 65,
    "start_time": "2024-05-31T09:05:12.855Z"
   },
   {
    "duration": 52,
    "start_time": "2024-05-31T09:05:12.922Z"
   },
   {
    "duration": 50,
    "start_time": "2024-05-31T09:05:12.976Z"
   },
   {
    "duration": 12,
    "start_time": "2024-05-31T09:05:13.027Z"
   },
   {
    "duration": 26,
    "start_time": "2024-05-31T09:05:13.040Z"
   },
   {
    "duration": 37,
    "start_time": "2024-05-31T09:05:13.067Z"
   },
   {
    "duration": 41,
    "start_time": "2024-05-31T09:05:13.105Z"
   },
   {
    "duration": 13,
    "start_time": "2024-05-31T09:05:13.148Z"
   },
   {
    "duration": 41,
    "start_time": "2024-05-31T09:05:13.162Z"
   },
   {
    "duration": 0,
    "start_time": "2024-05-31T09:05:13.205Z"
   },
   {
    "duration": 0,
    "start_time": "2024-05-31T09:05:13.206Z"
   },
   {
    "duration": 0,
    "start_time": "2024-05-31T09:05:13.207Z"
   },
   {
    "duration": 0,
    "start_time": "2024-05-31T09:05:13.208Z"
   },
   {
    "duration": 0,
    "start_time": "2024-05-31T09:05:13.209Z"
   },
   {
    "duration": 0,
    "start_time": "2024-05-31T09:05:13.210Z"
   },
   {
    "duration": 0,
    "start_time": "2024-05-31T09:05:13.211Z"
   },
   {
    "duration": 0,
    "start_time": "2024-05-31T09:05:13.212Z"
   },
   {
    "duration": 0,
    "start_time": "2024-05-31T09:05:13.213Z"
   },
   {
    "duration": 0,
    "start_time": "2024-05-31T09:05:13.214Z"
   },
   {
    "duration": 0,
    "start_time": "2024-05-31T09:05:13.216Z"
   },
   {
    "duration": 0,
    "start_time": "2024-05-31T09:05:13.217Z"
   },
   {
    "duration": 0,
    "start_time": "2024-05-31T09:05:13.218Z"
   },
   {
    "duration": 0,
    "start_time": "2024-05-31T09:05:13.219Z"
   },
   {
    "duration": 0,
    "start_time": "2024-05-31T09:05:13.220Z"
   },
   {
    "duration": 0,
    "start_time": "2024-05-31T09:05:13.221Z"
   },
   {
    "duration": 0,
    "start_time": "2024-05-31T09:05:13.223Z"
   },
   {
    "duration": 2,
    "start_time": "2024-05-31T09:06:26.510Z"
   },
   {
    "duration": 159,
    "start_time": "2024-05-31T09:06:26.514Z"
   },
   {
    "duration": 6,
    "start_time": "2024-05-31T09:06:26.675Z"
   },
   {
    "duration": 31,
    "start_time": "2024-05-31T09:06:26.682Z"
   },
   {
    "duration": 2,
    "start_time": "2024-05-31T09:06:26.715Z"
   },
   {
    "duration": 5,
    "start_time": "2024-05-31T09:06:26.718Z"
   },
   {
    "duration": 9,
    "start_time": "2024-05-31T09:06:26.724Z"
   },
   {
    "duration": 6,
    "start_time": "2024-05-31T09:06:26.735Z"
   },
   {
    "duration": 38,
    "start_time": "2024-05-31T09:06:26.742Z"
   },
   {
    "duration": 38,
    "start_time": "2024-05-31T09:06:26.783Z"
   },
   {
    "duration": 29,
    "start_time": "2024-05-31T09:06:26.822Z"
   },
   {
    "duration": 64,
    "start_time": "2024-05-31T09:06:26.853Z"
   },
   {
    "duration": 62,
    "start_time": "2024-05-31T09:06:26.918Z"
   },
   {
    "duration": 63,
    "start_time": "2024-05-31T09:06:26.982Z"
   },
   {
    "duration": 39,
    "start_time": "2024-05-31T09:06:27.046Z"
   },
   {
    "duration": 26,
    "start_time": "2024-05-31T09:06:27.086Z"
   },
   {
    "duration": 6,
    "start_time": "2024-05-31T09:06:27.114Z"
   },
   {
    "duration": 32,
    "start_time": "2024-05-31T09:06:27.122Z"
   },
   {
    "duration": 27,
    "start_time": "2024-05-31T09:06:27.156Z"
   },
   {
    "duration": 3,
    "start_time": "2024-05-31T09:06:27.185Z"
   },
   {
    "duration": 6,
    "start_time": "2024-05-31T09:06:27.212Z"
   },
   {
    "duration": 0,
    "start_time": "2024-05-31T09:06:27.220Z"
   },
   {
    "duration": 0,
    "start_time": "2024-05-31T09:06:27.221Z"
   },
   {
    "duration": 0,
    "start_time": "2024-05-31T09:06:27.222Z"
   },
   {
    "duration": 0,
    "start_time": "2024-05-31T09:06:27.223Z"
   },
   {
    "duration": 0,
    "start_time": "2024-05-31T09:06:27.223Z"
   },
   {
    "duration": 0,
    "start_time": "2024-05-31T09:06:27.224Z"
   },
   {
    "duration": 0,
    "start_time": "2024-05-31T09:06:27.225Z"
   },
   {
    "duration": 0,
    "start_time": "2024-05-31T09:06:27.226Z"
   },
   {
    "duration": 0,
    "start_time": "2024-05-31T09:06:27.227Z"
   },
   {
    "duration": 0,
    "start_time": "2024-05-31T09:06:27.228Z"
   },
   {
    "duration": 0,
    "start_time": "2024-05-31T09:06:27.228Z"
   },
   {
    "duration": 0,
    "start_time": "2024-05-31T09:06:27.229Z"
   },
   {
    "duration": 0,
    "start_time": "2024-05-31T09:06:27.230Z"
   },
   {
    "duration": 0,
    "start_time": "2024-05-31T09:06:27.231Z"
   },
   {
    "duration": 0,
    "start_time": "2024-05-31T09:06:27.232Z"
   },
   {
    "duration": 0,
    "start_time": "2024-05-31T09:06:27.232Z"
   },
   {
    "duration": 0,
    "start_time": "2024-05-31T09:06:27.233Z"
   },
   {
    "duration": 2,
    "start_time": "2024-05-31T09:09:37.876Z"
   },
   {
    "duration": 155,
    "start_time": "2024-05-31T09:09:37.880Z"
   },
   {
    "duration": 5,
    "start_time": "2024-05-31T09:09:38.037Z"
   },
   {
    "duration": 28,
    "start_time": "2024-05-31T09:09:38.044Z"
   },
   {
    "duration": 5,
    "start_time": "2024-05-31T09:09:38.074Z"
   },
   {
    "duration": 8,
    "start_time": "2024-05-31T09:09:38.081Z"
   },
   {
    "duration": 9,
    "start_time": "2024-05-31T09:09:38.090Z"
   },
   {
    "duration": 13,
    "start_time": "2024-05-31T09:09:38.100Z"
   },
   {
    "duration": 21,
    "start_time": "2024-05-31T09:09:38.115Z"
   },
   {
    "duration": 15,
    "start_time": "2024-05-31T09:09:38.137Z"
   },
   {
    "duration": 19,
    "start_time": "2024-05-31T09:09:38.154Z"
   },
   {
    "duration": 79,
    "start_time": "2024-05-31T09:09:38.175Z"
   },
   {
    "duration": 73,
    "start_time": "2024-05-31T09:09:38.255Z"
   },
   {
    "duration": 54,
    "start_time": "2024-05-31T09:09:38.331Z"
   },
   {
    "duration": 49,
    "start_time": "2024-05-31T09:09:38.387Z"
   },
   {
    "duration": 12,
    "start_time": "2024-05-31T09:09:38.438Z"
   },
   {
    "duration": 6,
    "start_time": "2024-05-31T09:09:38.452Z"
   },
   {
    "duration": 28,
    "start_time": "2024-05-31T09:09:38.460Z"
   },
   {
    "duration": 48,
    "start_time": "2024-05-31T09:09:38.489Z"
   },
   {
    "duration": 3,
    "start_time": "2024-05-31T09:09:38.539Z"
   },
   {
    "duration": 9,
    "start_time": "2024-05-31T09:09:38.543Z"
   },
   {
    "duration": 0,
    "start_time": "2024-05-31T09:09:38.553Z"
   },
   {
    "duration": 0,
    "start_time": "2024-05-31T09:09:38.555Z"
   },
   {
    "duration": 0,
    "start_time": "2024-05-31T09:09:38.556Z"
   },
   {
    "duration": 0,
    "start_time": "2024-05-31T09:09:38.557Z"
   },
   {
    "duration": 0,
    "start_time": "2024-05-31T09:09:38.558Z"
   },
   {
    "duration": 0,
    "start_time": "2024-05-31T09:09:38.559Z"
   },
   {
    "duration": 0,
    "start_time": "2024-05-31T09:09:38.560Z"
   },
   {
    "duration": 0,
    "start_time": "2024-05-31T09:09:38.561Z"
   },
   {
    "duration": 0,
    "start_time": "2024-05-31T09:09:38.562Z"
   },
   {
    "duration": 0,
    "start_time": "2024-05-31T09:09:38.563Z"
   },
   {
    "duration": 0,
    "start_time": "2024-05-31T09:09:38.564Z"
   },
   {
    "duration": 0,
    "start_time": "2024-05-31T09:09:38.565Z"
   },
   {
    "duration": 0,
    "start_time": "2024-05-31T09:09:38.566Z"
   },
   {
    "duration": 0,
    "start_time": "2024-05-31T09:09:38.567Z"
   },
   {
    "duration": 0,
    "start_time": "2024-05-31T09:09:38.568Z"
   },
   {
    "duration": 0,
    "start_time": "2024-05-31T09:09:38.569Z"
   },
   {
    "duration": 0,
    "start_time": "2024-05-31T09:09:38.569Z"
   },
   {
    "duration": 3,
    "start_time": "2024-05-31T09:25:26.716Z"
   },
   {
    "duration": 162,
    "start_time": "2024-05-31T09:25:26.720Z"
   },
   {
    "duration": 6,
    "start_time": "2024-05-31T09:25:26.883Z"
   },
   {
    "duration": 30,
    "start_time": "2024-05-31T09:25:26.891Z"
   },
   {
    "duration": 2,
    "start_time": "2024-05-31T09:25:26.923Z"
   },
   {
    "duration": 12,
    "start_time": "2024-05-31T09:25:26.927Z"
   },
   {
    "duration": 8,
    "start_time": "2024-05-31T09:25:26.940Z"
   },
   {
    "duration": 3,
    "start_time": "2024-05-31T09:25:26.950Z"
   },
   {
    "duration": 29,
    "start_time": "2024-05-31T09:25:26.954Z"
   },
   {
    "duration": 30,
    "start_time": "2024-05-31T09:25:26.985Z"
   },
   {
    "duration": 21,
    "start_time": "2024-05-31T09:25:27.016Z"
   },
   {
    "duration": 66,
    "start_time": "2024-05-31T09:25:27.038Z"
   },
   {
    "duration": 70,
    "start_time": "2024-05-31T09:25:27.111Z"
   },
   {
    "duration": 65,
    "start_time": "2024-05-31T09:25:27.182Z"
   },
   {
    "duration": 38,
    "start_time": "2024-05-31T09:25:27.249Z"
   },
   {
    "duration": 23,
    "start_time": "2024-05-31T09:25:27.289Z"
   },
   {
    "duration": 38,
    "start_time": "2024-05-31T09:25:27.313Z"
   },
   {
    "duration": 40,
    "start_time": "2024-05-31T09:25:27.353Z"
   },
   {
    "duration": 52,
    "start_time": "2024-05-31T09:25:27.395Z"
   },
   {
    "duration": 3,
    "start_time": "2024-05-31T09:25:27.448Z"
   },
   {
    "duration": 10,
    "start_time": "2024-05-31T09:25:27.453Z"
   },
   {
    "duration": 0,
    "start_time": "2024-05-31T09:25:27.464Z"
   },
   {
    "duration": 0,
    "start_time": "2024-05-31T09:25:27.466Z"
   },
   {
    "duration": 0,
    "start_time": "2024-05-31T09:25:27.466Z"
   },
   {
    "duration": 0,
    "start_time": "2024-05-31T09:25:27.467Z"
   },
   {
    "duration": 0,
    "start_time": "2024-05-31T09:25:27.468Z"
   },
   {
    "duration": 0,
    "start_time": "2024-05-31T09:25:27.469Z"
   },
   {
    "duration": 0,
    "start_time": "2024-05-31T09:25:27.469Z"
   },
   {
    "duration": 0,
    "start_time": "2024-05-31T09:25:27.470Z"
   },
   {
    "duration": 0,
    "start_time": "2024-05-31T09:25:27.471Z"
   },
   {
    "duration": 0,
    "start_time": "2024-05-31T09:25:27.472Z"
   },
   {
    "duration": 0,
    "start_time": "2024-05-31T09:25:27.473Z"
   },
   {
    "duration": 0,
    "start_time": "2024-05-31T09:25:27.473Z"
   },
   {
    "duration": 0,
    "start_time": "2024-05-31T09:25:27.474Z"
   },
   {
    "duration": 0,
    "start_time": "2024-05-31T09:25:27.475Z"
   },
   {
    "duration": 0,
    "start_time": "2024-05-31T09:25:27.476Z"
   },
   {
    "duration": 0,
    "start_time": "2024-05-31T09:25:27.477Z"
   },
   {
    "duration": 0,
    "start_time": "2024-05-31T09:25:27.478Z"
   },
   {
    "duration": 3,
    "start_time": "2024-05-31T09:26:46.522Z"
   },
   {
    "duration": 155,
    "start_time": "2024-05-31T09:26:46.527Z"
   },
   {
    "duration": 6,
    "start_time": "2024-05-31T09:26:46.683Z"
   },
   {
    "duration": 32,
    "start_time": "2024-05-31T09:26:46.690Z"
   },
   {
    "duration": 2,
    "start_time": "2024-05-31T09:26:46.724Z"
   },
   {
    "duration": 5,
    "start_time": "2024-05-31T09:26:46.728Z"
   },
   {
    "duration": 6,
    "start_time": "2024-05-31T09:26:46.735Z"
   },
   {
    "duration": 3,
    "start_time": "2024-05-31T09:26:46.743Z"
   },
   {
    "duration": 30,
    "start_time": "2024-05-31T09:26:46.747Z"
   },
   {
    "duration": 14,
    "start_time": "2024-05-31T09:26:46.779Z"
   },
   {
    "duration": 35,
    "start_time": "2024-05-31T09:26:46.794Z"
   },
   {
    "duration": 58,
    "start_time": "2024-05-31T09:26:46.830Z"
   },
   {
    "duration": 76,
    "start_time": "2024-05-31T09:26:46.889Z"
   },
   {
    "duration": 60,
    "start_time": "2024-05-31T09:26:46.968Z"
   },
   {
    "duration": 38,
    "start_time": "2024-05-31T09:26:47.030Z"
   },
   {
    "duration": 11,
    "start_time": "2024-05-31T09:26:47.070Z"
   },
   {
    "duration": 68,
    "start_time": "2024-05-31T09:26:47.082Z"
   },
   {
    "duration": 29,
    "start_time": "2024-05-31T09:26:47.151Z"
   },
   {
    "duration": 39,
    "start_time": "2024-05-31T09:26:47.182Z"
   },
   {
    "duration": 3,
    "start_time": "2024-05-31T09:26:47.223Z"
   },
   {
    "duration": 8,
    "start_time": "2024-05-31T09:26:47.227Z"
   },
   {
    "duration": 0,
    "start_time": "2024-05-31T09:26:47.236Z"
   },
   {
    "duration": 0,
    "start_time": "2024-05-31T09:26:47.237Z"
   },
   {
    "duration": 0,
    "start_time": "2024-05-31T09:26:47.238Z"
   },
   {
    "duration": 0,
    "start_time": "2024-05-31T09:26:47.239Z"
   },
   {
    "duration": 0,
    "start_time": "2024-05-31T09:26:47.240Z"
   },
   {
    "duration": 0,
    "start_time": "2024-05-31T09:26:47.241Z"
   },
   {
    "duration": 0,
    "start_time": "2024-05-31T09:26:47.241Z"
   },
   {
    "duration": 0,
    "start_time": "2024-05-31T09:26:47.242Z"
   },
   {
    "duration": 0,
    "start_time": "2024-05-31T09:26:47.243Z"
   },
   {
    "duration": 0,
    "start_time": "2024-05-31T09:26:47.243Z"
   },
   {
    "duration": 0,
    "start_time": "2024-05-31T09:26:47.244Z"
   },
   {
    "duration": 0,
    "start_time": "2024-05-31T09:26:47.245Z"
   },
   {
    "duration": 0,
    "start_time": "2024-05-31T09:26:47.246Z"
   },
   {
    "duration": 0,
    "start_time": "2024-05-31T09:26:47.246Z"
   },
   {
    "duration": 0,
    "start_time": "2024-05-31T09:26:47.247Z"
   },
   {
    "duration": 0,
    "start_time": "2024-05-31T09:26:47.248Z"
   },
   {
    "duration": 0,
    "start_time": "2024-05-31T09:26:47.248Z"
   },
   {
    "duration": 3,
    "start_time": "2024-05-31T09:27:50.986Z"
   },
   {
    "duration": 161,
    "start_time": "2024-05-31T09:27:50.990Z"
   },
   {
    "duration": 6,
    "start_time": "2024-05-31T09:27:51.152Z"
   },
   {
    "duration": 28,
    "start_time": "2024-05-31T09:27:51.159Z"
   },
   {
    "duration": 2,
    "start_time": "2024-05-31T09:27:51.189Z"
   },
   {
    "duration": 19,
    "start_time": "2024-05-31T09:27:51.193Z"
   },
   {
    "duration": 9,
    "start_time": "2024-05-31T09:27:51.214Z"
   },
   {
    "duration": 5,
    "start_time": "2024-05-31T09:27:51.224Z"
   },
   {
    "duration": 24,
    "start_time": "2024-05-31T09:27:51.230Z"
   },
   {
    "duration": 20,
    "start_time": "2024-05-31T09:27:51.256Z"
   },
   {
    "duration": 20,
    "start_time": "2024-05-31T09:27:51.277Z"
   },
   {
    "duration": 59,
    "start_time": "2024-05-31T09:27:51.311Z"
   },
   {
    "duration": 76,
    "start_time": "2024-05-31T09:27:51.373Z"
   },
   {
    "duration": 53,
    "start_time": "2024-05-31T09:27:51.450Z"
   },
   {
    "duration": 46,
    "start_time": "2024-05-31T09:27:51.504Z"
   },
   {
    "duration": 17,
    "start_time": "2024-05-31T09:27:51.553Z"
   },
   {
    "duration": 61,
    "start_time": "2024-05-31T09:27:51.572Z"
   },
   {
    "duration": 29,
    "start_time": "2024-05-31T09:27:51.635Z"
   },
   {
    "duration": 29,
    "start_time": "2024-05-31T09:27:51.665Z"
   },
   {
    "duration": 27,
    "start_time": "2024-05-31T09:27:51.696Z"
   },
   {
    "duration": 8,
    "start_time": "2024-05-31T09:27:51.725Z"
   },
   {
    "duration": 0,
    "start_time": "2024-05-31T09:27:51.734Z"
   },
   {
    "duration": 0,
    "start_time": "2024-05-31T09:27:51.735Z"
   },
   {
    "duration": 0,
    "start_time": "2024-05-31T09:27:51.736Z"
   },
   {
    "duration": 0,
    "start_time": "2024-05-31T09:27:51.737Z"
   },
   {
    "duration": 0,
    "start_time": "2024-05-31T09:27:51.738Z"
   },
   {
    "duration": 0,
    "start_time": "2024-05-31T09:27:51.739Z"
   },
   {
    "duration": 0,
    "start_time": "2024-05-31T09:27:51.740Z"
   },
   {
    "duration": 0,
    "start_time": "2024-05-31T09:27:51.741Z"
   },
   {
    "duration": 0,
    "start_time": "2024-05-31T09:27:51.742Z"
   },
   {
    "duration": 0,
    "start_time": "2024-05-31T09:27:51.743Z"
   },
   {
    "duration": 0,
    "start_time": "2024-05-31T09:27:51.744Z"
   },
   {
    "duration": 0,
    "start_time": "2024-05-31T09:27:51.745Z"
   },
   {
    "duration": 0,
    "start_time": "2024-05-31T09:27:51.746Z"
   },
   {
    "duration": 0,
    "start_time": "2024-05-31T09:27:51.746Z"
   },
   {
    "duration": 0,
    "start_time": "2024-05-31T09:27:51.747Z"
   },
   {
    "duration": 0,
    "start_time": "2024-05-31T09:27:51.748Z"
   },
   {
    "duration": 0,
    "start_time": "2024-05-31T09:27:51.749Z"
   },
   {
    "duration": 3,
    "start_time": "2024-05-31T09:35:22.714Z"
   },
   {
    "duration": 150,
    "start_time": "2024-05-31T09:35:22.718Z"
   },
   {
    "duration": 6,
    "start_time": "2024-05-31T09:35:22.870Z"
   },
   {
    "duration": 43,
    "start_time": "2024-05-31T09:35:22.877Z"
   },
   {
    "duration": 2,
    "start_time": "2024-05-31T09:35:22.922Z"
   },
   {
    "duration": 11,
    "start_time": "2024-05-31T09:35:22.925Z"
   },
   {
    "duration": 13,
    "start_time": "2024-05-31T09:35:22.937Z"
   },
   {
    "duration": 5,
    "start_time": "2024-05-31T09:35:22.951Z"
   },
   {
    "duration": 31,
    "start_time": "2024-05-31T09:35:22.957Z"
   },
   {
    "duration": 30,
    "start_time": "2024-05-31T09:35:22.989Z"
   },
   {
    "duration": 20,
    "start_time": "2024-05-31T09:35:23.021Z"
   },
   {
    "duration": 79,
    "start_time": "2024-05-31T09:35:23.042Z"
   },
   {
    "duration": 63,
    "start_time": "2024-05-31T09:35:23.125Z"
   },
   {
    "duration": 60,
    "start_time": "2024-05-31T09:35:23.191Z"
   },
   {
    "duration": 39,
    "start_time": "2024-05-31T09:35:23.253Z"
   },
   {
    "duration": 21,
    "start_time": "2024-05-31T09:35:23.293Z"
   },
   {
    "duration": 38,
    "start_time": "2024-05-31T09:35:23.315Z"
   },
   {
    "duration": 28,
    "start_time": "2024-05-31T09:35:23.355Z"
   },
   {
    "duration": 47,
    "start_time": "2024-05-31T09:35:23.384Z"
   },
   {
    "duration": 3,
    "start_time": "2024-05-31T09:35:23.432Z"
   },
   {
    "duration": 19,
    "start_time": "2024-05-31T09:35:23.436Z"
   },
   {
    "duration": 0,
    "start_time": "2024-05-31T09:35:23.457Z"
   },
   {
    "duration": 0,
    "start_time": "2024-05-31T09:35:23.458Z"
   },
   {
    "duration": 0,
    "start_time": "2024-05-31T09:35:23.459Z"
   },
   {
    "duration": 0,
    "start_time": "2024-05-31T09:35:23.460Z"
   },
   {
    "duration": 0,
    "start_time": "2024-05-31T09:35:23.461Z"
   },
   {
    "duration": 0,
    "start_time": "2024-05-31T09:35:23.461Z"
   },
   {
    "duration": 0,
    "start_time": "2024-05-31T09:35:23.462Z"
   },
   {
    "duration": 0,
    "start_time": "2024-05-31T09:35:23.463Z"
   },
   {
    "duration": 0,
    "start_time": "2024-05-31T09:35:23.464Z"
   },
   {
    "duration": 0,
    "start_time": "2024-05-31T09:35:23.465Z"
   },
   {
    "duration": 0,
    "start_time": "2024-05-31T09:35:23.466Z"
   },
   {
    "duration": 0,
    "start_time": "2024-05-31T09:35:23.468Z"
   },
   {
    "duration": 0,
    "start_time": "2024-05-31T09:35:23.469Z"
   },
   {
    "duration": 0,
    "start_time": "2024-05-31T09:35:23.471Z"
   },
   {
    "duration": 0,
    "start_time": "2024-05-31T09:35:23.472Z"
   },
   {
    "duration": 0,
    "start_time": "2024-05-31T09:35:23.474Z"
   },
   {
    "duration": 0,
    "start_time": "2024-05-31T09:35:23.476Z"
   },
   {
    "duration": 2,
    "start_time": "2024-05-31T09:37:16.341Z"
   },
   {
    "duration": 151,
    "start_time": "2024-05-31T09:37:16.345Z"
   },
   {
    "duration": 6,
    "start_time": "2024-05-31T09:37:16.498Z"
   },
   {
    "duration": 37,
    "start_time": "2024-05-31T09:37:16.512Z"
   },
   {
    "duration": 3,
    "start_time": "2024-05-31T09:37:16.551Z"
   },
   {
    "duration": 18,
    "start_time": "2024-05-31T09:37:16.555Z"
   },
   {
    "duration": 10,
    "start_time": "2024-05-31T09:37:16.575Z"
   },
   {
    "duration": 4,
    "start_time": "2024-05-31T09:37:16.586Z"
   },
   {
    "duration": 24,
    "start_time": "2024-05-31T09:37:16.592Z"
   },
   {
    "duration": 17,
    "start_time": "2024-05-31T09:37:16.618Z"
   },
   {
    "duration": 22,
    "start_time": "2024-05-31T09:37:16.637Z"
   },
   {
    "duration": 80,
    "start_time": "2024-05-31T09:37:16.660Z"
   },
   {
    "duration": 77,
    "start_time": "2024-05-31T09:37:16.741Z"
   },
   {
    "duration": 57,
    "start_time": "2024-05-31T09:37:16.822Z"
   },
   {
    "duration": 50,
    "start_time": "2024-05-31T09:37:16.881Z"
   },
   {
    "duration": 13,
    "start_time": "2024-05-31T09:37:16.933Z"
   },
   {
    "duration": 39,
    "start_time": "2024-05-31T09:37:16.948Z"
   },
   {
    "duration": 51,
    "start_time": "2024-05-31T09:37:16.989Z"
   },
   {
    "duration": 31,
    "start_time": "2024-05-31T09:37:17.042Z"
   },
   {
    "duration": 4,
    "start_time": "2024-05-31T09:37:17.074Z"
   },
   {
    "duration": 33,
    "start_time": "2024-05-31T09:37:17.079Z"
   },
   {
    "duration": 0,
    "start_time": "2024-05-31T09:37:17.113Z"
   },
   {
    "duration": 0,
    "start_time": "2024-05-31T09:37:17.115Z"
   },
   {
    "duration": 0,
    "start_time": "2024-05-31T09:37:17.116Z"
   },
   {
    "duration": 0,
    "start_time": "2024-05-31T09:37:17.117Z"
   },
   {
    "duration": 0,
    "start_time": "2024-05-31T09:37:17.118Z"
   },
   {
    "duration": 0,
    "start_time": "2024-05-31T09:37:17.120Z"
   },
   {
    "duration": 1,
    "start_time": "2024-05-31T09:37:17.121Z"
   },
   {
    "duration": 0,
    "start_time": "2024-05-31T09:37:17.123Z"
   },
   {
    "duration": 0,
    "start_time": "2024-05-31T09:37:17.124Z"
   },
   {
    "duration": 0,
    "start_time": "2024-05-31T09:37:17.126Z"
   },
   {
    "duration": 0,
    "start_time": "2024-05-31T09:37:17.127Z"
   },
   {
    "duration": 0,
    "start_time": "2024-05-31T09:37:17.128Z"
   },
   {
    "duration": 0,
    "start_time": "2024-05-31T09:37:17.129Z"
   },
   {
    "duration": 0,
    "start_time": "2024-05-31T09:37:17.130Z"
   },
   {
    "duration": 0,
    "start_time": "2024-05-31T09:37:17.132Z"
   },
   {
    "duration": 0,
    "start_time": "2024-05-31T09:37:17.133Z"
   },
   {
    "duration": 0,
    "start_time": "2024-05-31T09:37:17.134Z"
   },
   {
    "duration": 3,
    "start_time": "2024-05-31T10:05:39.025Z"
   },
   {
    "duration": 165,
    "start_time": "2024-05-31T10:05:39.030Z"
   },
   {
    "duration": 7,
    "start_time": "2024-05-31T10:05:39.196Z"
   },
   {
    "duration": 32,
    "start_time": "2024-05-31T10:05:39.204Z"
   },
   {
    "duration": 3,
    "start_time": "2024-05-31T10:05:39.237Z"
   },
   {
    "duration": 5,
    "start_time": "2024-05-31T10:05:39.241Z"
   },
   {
    "duration": 9,
    "start_time": "2024-05-31T10:05:39.247Z"
   },
   {
    "duration": 6,
    "start_time": "2024-05-31T10:05:39.258Z"
   },
   {
    "duration": 25,
    "start_time": "2024-05-31T10:05:39.266Z"
   },
   {
    "duration": 22,
    "start_time": "2024-05-31T10:05:39.293Z"
   },
   {
    "duration": 20,
    "start_time": "2024-05-31T10:05:39.316Z"
   },
   {
    "duration": 85,
    "start_time": "2024-05-31T10:05:39.338Z"
   },
   {
    "duration": 61,
    "start_time": "2024-05-31T10:05:39.425Z"
   },
   {
    "duration": 65,
    "start_time": "2024-05-31T10:05:39.487Z"
   },
   {
    "duration": 73,
    "start_time": "2024-05-31T10:05:39.553Z"
   },
   {
    "duration": 0,
    "start_time": "2024-05-31T10:05:39.628Z"
   },
   {
    "duration": 0,
    "start_time": "2024-05-31T10:05:39.629Z"
   },
   {
    "duration": 0,
    "start_time": "2024-05-31T10:05:39.630Z"
   },
   {
    "duration": 0,
    "start_time": "2024-05-31T10:05:39.631Z"
   },
   {
    "duration": 0,
    "start_time": "2024-05-31T10:05:39.632Z"
   },
   {
    "duration": 0,
    "start_time": "2024-05-31T10:05:39.633Z"
   },
   {
    "duration": 0,
    "start_time": "2024-05-31T10:05:39.634Z"
   },
   {
    "duration": 0,
    "start_time": "2024-05-31T10:05:39.635Z"
   },
   {
    "duration": 0,
    "start_time": "2024-05-31T10:05:39.636Z"
   },
   {
    "duration": 0,
    "start_time": "2024-05-31T10:05:39.637Z"
   },
   {
    "duration": 0,
    "start_time": "2024-05-31T10:05:39.638Z"
   },
   {
    "duration": 0,
    "start_time": "2024-05-31T10:05:39.638Z"
   },
   {
    "duration": 0,
    "start_time": "2024-05-31T10:05:39.639Z"
   },
   {
    "duration": 0,
    "start_time": "2024-05-31T10:05:39.640Z"
   },
   {
    "duration": 0,
    "start_time": "2024-05-31T10:05:39.642Z"
   },
   {
    "duration": 0,
    "start_time": "2024-05-31T10:05:39.643Z"
   },
   {
    "duration": 0,
    "start_time": "2024-05-31T10:05:39.644Z"
   },
   {
    "duration": 0,
    "start_time": "2024-05-31T10:05:39.645Z"
   },
   {
    "duration": 0,
    "start_time": "2024-05-31T10:05:39.646Z"
   },
   {
    "duration": 0,
    "start_time": "2024-05-31T10:05:39.647Z"
   },
   {
    "duration": 0,
    "start_time": "2024-05-31T10:05:39.648Z"
   },
   {
    "duration": 0,
    "start_time": "2024-05-31T10:05:39.649Z"
   },
   {
    "duration": 0,
    "start_time": "2024-05-31T10:05:39.649Z"
   },
   {
    "duration": 3,
    "start_time": "2024-05-31T10:06:03.699Z"
   },
   {
    "duration": 161,
    "start_time": "2024-05-31T10:06:03.703Z"
   },
   {
    "duration": 6,
    "start_time": "2024-05-31T10:06:03.865Z"
   },
   {
    "duration": 26,
    "start_time": "2024-05-31T10:06:03.873Z"
   },
   {
    "duration": 11,
    "start_time": "2024-05-31T10:06:03.901Z"
   },
   {
    "duration": 6,
    "start_time": "2024-05-31T10:06:03.914Z"
   },
   {
    "duration": 25,
    "start_time": "2024-05-31T10:06:03.921Z"
   },
   {
    "duration": 10,
    "start_time": "2024-05-31T10:06:03.948Z"
   },
   {
    "duration": 30,
    "start_time": "2024-05-31T10:06:03.959Z"
   },
   {
    "duration": 34,
    "start_time": "2024-05-31T10:06:03.991Z"
   },
   {
    "duration": 20,
    "start_time": "2024-05-31T10:06:04.026Z"
   },
   {
    "duration": 69,
    "start_time": "2024-05-31T10:06:04.047Z"
   },
   {
    "duration": 63,
    "start_time": "2024-05-31T10:06:04.118Z"
   },
   {
    "duration": 69,
    "start_time": "2024-05-31T10:06:04.182Z"
   },
   {
    "duration": 39,
    "start_time": "2024-05-31T10:06:04.252Z"
   },
   {
    "duration": 24,
    "start_time": "2024-05-31T10:06:04.293Z"
   },
   {
    "duration": 42,
    "start_time": "2024-05-31T10:06:04.319Z"
   },
   {
    "duration": 30,
    "start_time": "2024-05-31T10:06:04.363Z"
   },
   {
    "duration": 44,
    "start_time": "2024-05-31T10:06:04.395Z"
   },
   {
    "duration": 4,
    "start_time": "2024-05-31T10:06:04.441Z"
   },
   {
    "duration": 22,
    "start_time": "2024-05-31T10:06:04.446Z"
   },
   {
    "duration": 0,
    "start_time": "2024-05-31T10:06:04.470Z"
   },
   {
    "duration": 0,
    "start_time": "2024-05-31T10:06:04.471Z"
   },
   {
    "duration": 0,
    "start_time": "2024-05-31T10:06:04.472Z"
   },
   {
    "duration": 0,
    "start_time": "2024-05-31T10:06:04.474Z"
   },
   {
    "duration": 0,
    "start_time": "2024-05-31T10:06:04.475Z"
   },
   {
    "duration": 0,
    "start_time": "2024-05-31T10:06:04.476Z"
   },
   {
    "duration": 0,
    "start_time": "2024-05-31T10:06:04.478Z"
   },
   {
    "duration": 0,
    "start_time": "2024-05-31T10:06:04.479Z"
   },
   {
    "duration": 0,
    "start_time": "2024-05-31T10:06:04.480Z"
   },
   {
    "duration": 0,
    "start_time": "2024-05-31T10:06:04.481Z"
   },
   {
    "duration": 0,
    "start_time": "2024-05-31T10:06:04.483Z"
   },
   {
    "duration": 0,
    "start_time": "2024-05-31T10:06:04.484Z"
   },
   {
    "duration": 0,
    "start_time": "2024-05-31T10:06:04.485Z"
   },
   {
    "duration": 0,
    "start_time": "2024-05-31T10:06:04.487Z"
   },
   {
    "duration": 0,
    "start_time": "2024-05-31T10:06:04.487Z"
   },
   {
    "duration": 0,
    "start_time": "2024-05-31T10:06:04.512Z"
   },
   {
    "duration": 0,
    "start_time": "2024-05-31T10:06:04.513Z"
   },
   {
    "duration": 2,
    "start_time": "2024-05-31T10:06:36.945Z"
   },
   {
    "duration": 152,
    "start_time": "2024-05-31T10:06:36.949Z"
   },
   {
    "duration": 10,
    "start_time": "2024-05-31T10:06:37.103Z"
   },
   {
    "duration": 38,
    "start_time": "2024-05-31T10:06:37.116Z"
   },
   {
    "duration": 3,
    "start_time": "2024-05-31T10:06:37.156Z"
   },
   {
    "duration": 4,
    "start_time": "2024-05-31T10:06:37.160Z"
   },
   {
    "duration": 7,
    "start_time": "2024-05-31T10:06:37.166Z"
   },
   {
    "duration": 3,
    "start_time": "2024-05-31T10:06:37.175Z"
   },
   {
    "duration": 49,
    "start_time": "2024-05-31T10:06:37.179Z"
   },
   {
    "duration": 16,
    "start_time": "2024-05-31T10:06:37.231Z"
   },
   {
    "duration": 22,
    "start_time": "2024-05-31T10:06:37.248Z"
   },
   {
    "duration": 96,
    "start_time": "2024-05-31T10:06:37.272Z"
   },
   {
    "duration": 87,
    "start_time": "2024-05-31T10:06:37.370Z"
   },
   {
    "duration": 62,
    "start_time": "2024-05-31T10:06:37.458Z"
   },
   {
    "duration": 39,
    "start_time": "2024-05-31T10:06:37.522Z"
   },
   {
    "duration": 14,
    "start_time": "2024-05-31T10:06:37.563Z"
   },
   {
    "duration": 59,
    "start_time": "2024-05-31T10:06:37.579Z"
   },
   {
    "duration": 31,
    "start_time": "2024-05-31T10:06:37.640Z"
   },
   {
    "duration": 46,
    "start_time": "2024-05-31T10:06:37.673Z"
   },
   {
    "duration": 3,
    "start_time": "2024-05-31T10:06:37.721Z"
   },
   {
    "duration": 22,
    "start_time": "2024-05-31T10:06:37.726Z"
   },
   {
    "duration": 0,
    "start_time": "2024-05-31T10:06:37.750Z"
   },
   {
    "duration": 0,
    "start_time": "2024-05-31T10:06:37.751Z"
   },
   {
    "duration": 0,
    "start_time": "2024-05-31T10:06:37.753Z"
   },
   {
    "duration": 0,
    "start_time": "2024-05-31T10:06:37.754Z"
   },
   {
    "duration": 0,
    "start_time": "2024-05-31T10:06:37.755Z"
   },
   {
    "duration": 0,
    "start_time": "2024-05-31T10:06:37.756Z"
   },
   {
    "duration": 0,
    "start_time": "2024-05-31T10:06:37.758Z"
   },
   {
    "duration": 0,
    "start_time": "2024-05-31T10:06:37.759Z"
   },
   {
    "duration": 0,
    "start_time": "2024-05-31T10:06:37.761Z"
   },
   {
    "duration": 0,
    "start_time": "2024-05-31T10:06:37.762Z"
   },
   {
    "duration": 0,
    "start_time": "2024-05-31T10:06:37.763Z"
   },
   {
    "duration": 0,
    "start_time": "2024-05-31T10:06:37.764Z"
   },
   {
    "duration": 0,
    "start_time": "2024-05-31T10:06:37.766Z"
   },
   {
    "duration": 0,
    "start_time": "2024-05-31T10:06:37.767Z"
   },
   {
    "duration": 0,
    "start_time": "2024-05-31T10:06:37.768Z"
   },
   {
    "duration": 0,
    "start_time": "2024-05-31T10:06:37.768Z"
   },
   {
    "duration": 0,
    "start_time": "2024-05-31T10:06:37.770Z"
   },
   {
    "duration": 3,
    "start_time": "2024-05-31T10:40:51.070Z"
   },
   {
    "duration": 152,
    "start_time": "2024-05-31T10:40:51.086Z"
   },
   {
    "duration": 6,
    "start_time": "2024-05-31T10:40:51.240Z"
   },
   {
    "duration": 25,
    "start_time": "2024-05-31T10:40:51.247Z"
   },
   {
    "duration": 2,
    "start_time": "2024-05-31T10:40:51.273Z"
   },
   {
    "duration": 4,
    "start_time": "2024-05-31T10:40:51.277Z"
   },
   {
    "duration": 9,
    "start_time": "2024-05-31T10:40:51.282Z"
   },
   {
    "duration": 3,
    "start_time": "2024-05-31T10:40:51.312Z"
   },
   {
    "duration": 23,
    "start_time": "2024-05-31T10:40:51.316Z"
   },
   {
    "duration": 15,
    "start_time": "2024-05-31T10:40:51.340Z"
   },
   {
    "duration": 20,
    "start_time": "2024-05-31T10:40:51.357Z"
   },
   {
    "duration": 80,
    "start_time": "2024-05-31T10:40:51.378Z"
   },
   {
    "duration": 82,
    "start_time": "2024-05-31T10:40:51.459Z"
   },
   {
    "duration": 54,
    "start_time": "2024-05-31T10:40:51.543Z"
   },
   {
    "duration": 38,
    "start_time": "2024-05-31T10:40:51.611Z"
   },
   {
    "duration": 13,
    "start_time": "2024-05-31T10:40:51.651Z"
   },
   {
    "duration": 52,
    "start_time": "2024-05-31T10:40:51.665Z"
   },
   {
    "duration": 10,
    "start_time": "2024-05-31T10:40:51.719Z"
   },
   {
    "duration": 29,
    "start_time": "2024-05-31T10:40:51.730Z"
   },
   {
    "duration": 3,
    "start_time": "2024-05-31T10:40:51.761Z"
   },
   {
    "duration": 13,
    "start_time": "2024-05-31T10:40:51.765Z"
   },
   {
    "duration": 0,
    "start_time": "2024-05-31T10:40:51.779Z"
   },
   {
    "duration": 0,
    "start_time": "2024-05-31T10:40:51.780Z"
   },
   {
    "duration": 0,
    "start_time": "2024-05-31T10:40:51.781Z"
   },
   {
    "duration": 1,
    "start_time": "2024-05-31T10:40:51.781Z"
   },
   {
    "duration": 0,
    "start_time": "2024-05-31T10:40:51.782Z"
   },
   {
    "duration": 0,
    "start_time": "2024-05-31T10:40:51.783Z"
   },
   {
    "duration": 1,
    "start_time": "2024-05-31T10:40:51.784Z"
   },
   {
    "duration": 0,
    "start_time": "2024-05-31T10:40:51.811Z"
   },
   {
    "duration": 0,
    "start_time": "2024-05-31T10:40:51.812Z"
   },
   {
    "duration": 0,
    "start_time": "2024-05-31T10:40:51.813Z"
   },
   {
    "duration": 0,
    "start_time": "2024-05-31T10:40:51.814Z"
   },
   {
    "duration": 0,
    "start_time": "2024-05-31T10:40:51.815Z"
   },
   {
    "duration": 0,
    "start_time": "2024-05-31T10:40:51.816Z"
   },
   {
    "duration": 0,
    "start_time": "2024-05-31T10:40:51.817Z"
   },
   {
    "duration": 0,
    "start_time": "2024-05-31T10:40:51.818Z"
   },
   {
    "duration": 0,
    "start_time": "2024-05-31T10:40:51.819Z"
   },
   {
    "duration": 0,
    "start_time": "2024-05-31T10:40:51.820Z"
   },
   {
    "duration": 3,
    "start_time": "2024-05-31T10:53:19.805Z"
   },
   {
    "duration": 166,
    "start_time": "2024-05-31T10:53:19.809Z"
   },
   {
    "duration": 5,
    "start_time": "2024-05-31T10:53:19.977Z"
   },
   {
    "duration": 43,
    "start_time": "2024-05-31T10:53:19.984Z"
   },
   {
    "duration": 15,
    "start_time": "2024-05-31T10:53:20.028Z"
   },
   {
    "duration": 23,
    "start_time": "2024-05-31T10:53:20.044Z"
   },
   {
    "duration": 24,
    "start_time": "2024-05-31T10:53:20.068Z"
   },
   {
    "duration": 12,
    "start_time": "2024-05-31T10:53:20.094Z"
   },
   {
    "duration": 30,
    "start_time": "2024-05-31T10:53:20.108Z"
   },
   {
    "duration": 16,
    "start_time": "2024-05-31T10:53:20.140Z"
   },
   {
    "duration": 28,
    "start_time": "2024-05-31T10:53:20.158Z"
   },
   {
    "duration": 64,
    "start_time": "2024-05-31T10:53:20.187Z"
   },
   {
    "duration": 62,
    "start_time": "2024-05-31T10:53:20.253Z"
   },
   {
    "duration": 53,
    "start_time": "2024-05-31T10:53:20.316Z"
   },
   {
    "duration": 53,
    "start_time": "2024-05-31T10:53:20.371Z"
   },
   {
    "duration": 12,
    "start_time": "2024-05-31T10:53:20.426Z"
   },
   {
    "duration": 46,
    "start_time": "2024-05-31T10:53:20.439Z"
   },
   {
    "duration": 9,
    "start_time": "2024-05-31T10:53:20.487Z"
   },
   {
    "duration": 21,
    "start_time": "2024-05-31T10:53:20.497Z"
   },
   {
    "duration": 3,
    "start_time": "2024-05-31T10:53:20.519Z"
   },
   {
    "duration": 36,
    "start_time": "2024-05-31T10:53:20.523Z"
   },
   {
    "duration": 0,
    "start_time": "2024-05-31T10:53:20.560Z"
   },
   {
    "duration": 0,
    "start_time": "2024-05-31T10:53:20.561Z"
   },
   {
    "duration": 0,
    "start_time": "2024-05-31T10:53:20.562Z"
   },
   {
    "duration": 0,
    "start_time": "2024-05-31T10:53:20.563Z"
   },
   {
    "duration": 0,
    "start_time": "2024-05-31T10:53:20.564Z"
   },
   {
    "duration": 0,
    "start_time": "2024-05-31T10:53:20.565Z"
   },
   {
    "duration": 0,
    "start_time": "2024-05-31T10:53:20.566Z"
   },
   {
    "duration": 0,
    "start_time": "2024-05-31T10:53:20.567Z"
   },
   {
    "duration": 0,
    "start_time": "2024-05-31T10:53:20.567Z"
   },
   {
    "duration": 0,
    "start_time": "2024-05-31T10:53:20.568Z"
   },
   {
    "duration": 0,
    "start_time": "2024-05-31T10:53:20.569Z"
   },
   {
    "duration": 0,
    "start_time": "2024-05-31T10:53:20.570Z"
   },
   {
    "duration": 0,
    "start_time": "2024-05-31T10:53:20.571Z"
   },
   {
    "duration": 0,
    "start_time": "2024-05-31T10:53:20.572Z"
   },
   {
    "duration": 0,
    "start_time": "2024-05-31T10:53:20.573Z"
   },
   {
    "duration": 0,
    "start_time": "2024-05-31T10:53:20.574Z"
   },
   {
    "duration": 0,
    "start_time": "2024-05-31T10:53:20.574Z"
   },
   {
    "duration": 2,
    "start_time": "2024-05-31T12:13:36.019Z"
   },
   {
    "duration": 147,
    "start_time": "2024-05-31T12:13:36.025Z"
   },
   {
    "duration": 6,
    "start_time": "2024-05-31T12:13:36.174Z"
   },
   {
    "duration": 35,
    "start_time": "2024-05-31T12:13:36.182Z"
   },
   {
    "duration": 6,
    "start_time": "2024-05-31T12:13:36.218Z"
   },
   {
    "duration": 6,
    "start_time": "2024-05-31T12:13:36.226Z"
   },
   {
    "duration": 18,
    "start_time": "2024-05-31T12:13:36.233Z"
   },
   {
    "duration": 5,
    "start_time": "2024-05-31T12:13:36.253Z"
   },
   {
    "duration": 29,
    "start_time": "2024-05-31T12:13:36.260Z"
   },
   {
    "duration": 29,
    "start_time": "2024-05-31T12:13:36.290Z"
   },
   {
    "duration": 34,
    "start_time": "2024-05-31T12:13:36.320Z"
   },
   {
    "duration": 75,
    "start_time": "2024-05-31T12:13:36.355Z"
   },
   {
    "duration": 64,
    "start_time": "2024-05-31T12:13:36.431Z"
   },
   {
    "duration": 57,
    "start_time": "2024-05-31T12:13:36.496Z"
   },
   {
    "duration": 38,
    "start_time": "2024-05-31T12:13:36.556Z"
   },
   {
    "duration": 27,
    "start_time": "2024-05-31T12:13:36.595Z"
   },
   {
    "duration": 39,
    "start_time": "2024-05-31T12:13:36.623Z"
   },
   {
    "duration": 10,
    "start_time": "2024-05-31T12:13:36.663Z"
   },
   {
    "duration": 9,
    "start_time": "2024-05-31T12:13:36.675Z"
   },
   {
    "duration": 3,
    "start_time": "2024-05-31T12:13:36.686Z"
   },
   {
    "duration": 13,
    "start_time": "2024-05-31T12:13:36.712Z"
   },
   {
    "duration": 13,
    "start_time": "2024-05-31T12:13:36.726Z"
   },
   {
    "duration": 11,
    "start_time": "2024-05-31T12:13:36.740Z"
   },
   {
    "duration": 19,
    "start_time": "2024-05-31T12:13:36.753Z"
   },
   {
    "duration": 15,
    "start_time": "2024-05-31T12:13:36.774Z"
   },
   {
    "duration": 33,
    "start_time": "2024-05-31T12:13:36.790Z"
   },
   {
    "duration": 2,
    "start_time": "2024-05-31T12:13:36.824Z"
   },
   {
    "duration": 4,
    "start_time": "2024-05-31T12:13:36.827Z"
   },
   {
    "duration": 8,
    "start_time": "2024-05-31T12:13:36.832Z"
   },
   {
    "duration": 51,
    "start_time": "2024-05-31T12:13:36.841Z"
   },
   {
    "duration": 0,
    "start_time": "2024-05-31T12:13:36.893Z"
   },
   {
    "duration": 0,
    "start_time": "2024-05-31T12:13:36.894Z"
   },
   {
    "duration": 0,
    "start_time": "2024-05-31T12:13:36.895Z"
   },
   {
    "duration": 0,
    "start_time": "2024-05-31T12:13:36.904Z"
   },
   {
    "duration": 0,
    "start_time": "2024-05-31T12:13:36.905Z"
   },
   {
    "duration": 0,
    "start_time": "2024-05-31T12:13:36.907Z"
   },
   {
    "duration": 0,
    "start_time": "2024-05-31T12:13:36.908Z"
   },
   {
    "duration": 0,
    "start_time": "2024-05-31T12:13:36.909Z"
   },
   {
    "duration": 2,
    "start_time": "2024-05-31T12:22:39.922Z"
   },
   {
    "duration": 148,
    "start_time": "2024-05-31T12:22:39.926Z"
   },
   {
    "duration": 6,
    "start_time": "2024-05-31T12:22:40.075Z"
   },
   {
    "duration": 38,
    "start_time": "2024-05-31T12:22:40.083Z"
   },
   {
    "duration": 2,
    "start_time": "2024-05-31T12:22:40.123Z"
   },
   {
    "duration": 61,
    "start_time": "2024-05-31T12:22:40.126Z"
   },
   {
    "duration": 12,
    "start_time": "2024-05-31T12:22:40.188Z"
   },
   {
    "duration": 2,
    "start_time": "2024-05-31T12:22:40.202Z"
   },
   {
    "duration": 20,
    "start_time": "2024-05-31T12:22:40.206Z"
   },
   {
    "duration": 14,
    "start_time": "2024-05-31T12:22:40.228Z"
   },
   {
    "duration": 20,
    "start_time": "2024-05-31T12:22:40.243Z"
   },
   {
    "duration": 68,
    "start_time": "2024-05-31T12:22:40.264Z"
   },
   {
    "duration": 63,
    "start_time": "2024-05-31T12:22:40.334Z"
   },
   {
    "duration": 55,
    "start_time": "2024-05-31T12:22:40.411Z"
   },
   {
    "duration": 45,
    "start_time": "2024-05-31T12:22:40.467Z"
   },
   {
    "duration": 15,
    "start_time": "2024-05-31T12:22:40.514Z"
   },
   {
    "duration": 53,
    "start_time": "2024-05-31T12:22:40.530Z"
   },
   {
    "duration": 20,
    "start_time": "2024-05-31T12:22:40.584Z"
   },
   {
    "duration": 11,
    "start_time": "2024-05-31T12:22:40.606Z"
   },
   {
    "duration": 22,
    "start_time": "2024-05-31T12:22:40.619Z"
   },
   {
    "duration": 14,
    "start_time": "2024-05-31T12:22:40.642Z"
   },
   {
    "duration": 14,
    "start_time": "2024-05-31T12:22:40.657Z"
   },
   {
    "duration": 14,
    "start_time": "2024-05-31T12:22:40.672Z"
   },
   {
    "duration": 13,
    "start_time": "2024-05-31T12:22:40.687Z"
   },
   {
    "duration": 13,
    "start_time": "2024-05-31T12:22:40.712Z"
   },
   {
    "duration": 29,
    "start_time": "2024-05-31T12:22:40.727Z"
   },
   {
    "duration": 14,
    "start_time": "2024-05-31T12:22:40.758Z"
   },
   {
    "duration": 9,
    "start_time": "2024-05-31T12:22:40.774Z"
   },
   {
    "duration": 15,
    "start_time": "2024-05-31T12:22:40.785Z"
   },
   {
    "duration": 62,
    "start_time": "2024-05-31T12:22:40.801Z"
   },
   {
    "duration": 0,
    "start_time": "2024-05-31T12:22:40.864Z"
   },
   {
    "duration": 0,
    "start_time": "2024-05-31T12:22:40.866Z"
   },
   {
    "duration": 0,
    "start_time": "2024-05-31T12:22:40.867Z"
   },
   {
    "duration": 0,
    "start_time": "2024-05-31T12:22:40.869Z"
   },
   {
    "duration": 0,
    "start_time": "2024-05-31T12:22:40.871Z"
   },
   {
    "duration": 0,
    "start_time": "2024-05-31T12:22:40.872Z"
   },
   {
    "duration": 0,
    "start_time": "2024-05-31T12:22:40.873Z"
   },
   {
    "duration": 0,
    "start_time": "2024-05-31T12:22:40.875Z"
   },
   {
    "duration": 2,
    "start_time": "2024-05-31T12:33:16.223Z"
   },
   {
    "duration": 157,
    "start_time": "2024-05-31T12:33:16.227Z"
   },
   {
    "duration": 6,
    "start_time": "2024-05-31T12:33:16.385Z"
   },
   {
    "duration": 36,
    "start_time": "2024-05-31T12:33:16.392Z"
   },
   {
    "duration": 2,
    "start_time": "2024-05-31T12:33:16.430Z"
   },
   {
    "duration": 6,
    "start_time": "2024-05-31T12:33:16.433Z"
   },
   {
    "duration": 8,
    "start_time": "2024-05-31T12:33:16.440Z"
   },
   {
    "duration": 6,
    "start_time": "2024-05-31T12:33:16.449Z"
   },
   {
    "duration": 23,
    "start_time": "2024-05-31T12:33:16.456Z"
   },
   {
    "duration": 36,
    "start_time": "2024-05-31T12:33:16.481Z"
   },
   {
    "duration": 20,
    "start_time": "2024-05-31T12:33:16.518Z"
   },
   {
    "duration": 72,
    "start_time": "2024-05-31T12:33:16.540Z"
   },
   {
    "duration": 67,
    "start_time": "2024-05-31T12:33:16.614Z"
   },
   {
    "duration": 68,
    "start_time": "2024-05-31T12:33:16.682Z"
   },
   {
    "duration": 38,
    "start_time": "2024-05-31T12:33:16.752Z"
   },
   {
    "duration": 25,
    "start_time": "2024-05-31T12:33:16.792Z"
   },
   {
    "duration": 37,
    "start_time": "2024-05-31T12:33:16.818Z"
   },
   {
    "duration": 10,
    "start_time": "2024-05-31T12:33:16.857Z"
   },
   {
    "duration": 24,
    "start_time": "2024-05-31T12:33:16.869Z"
   },
   {
    "duration": 2,
    "start_time": "2024-05-31T12:33:16.895Z"
   },
   {
    "duration": 21,
    "start_time": "2024-05-31T12:33:16.899Z"
   },
   {
    "duration": 17,
    "start_time": "2024-05-31T12:33:16.921Z"
   },
   {
    "duration": 12,
    "start_time": "2024-05-31T12:33:16.939Z"
   },
   {
    "duration": 24,
    "start_time": "2024-05-31T12:33:16.952Z"
   },
   {
    "duration": 13,
    "start_time": "2024-05-31T12:33:16.977Z"
   },
   {
    "duration": 28,
    "start_time": "2024-05-31T12:33:16.992Z"
   },
   {
    "duration": 6,
    "start_time": "2024-05-31T12:33:17.021Z"
   },
   {
    "duration": 3,
    "start_time": "2024-05-31T12:33:17.029Z"
   },
   {
    "duration": 9,
    "start_time": "2024-05-31T12:33:17.034Z"
   },
   {
    "duration": 52,
    "start_time": "2024-05-31T12:33:17.045Z"
   },
   {
    "duration": 0,
    "start_time": "2024-05-31T12:33:17.099Z"
   },
   {
    "duration": 0,
    "start_time": "2024-05-31T12:33:17.100Z"
   },
   {
    "duration": 0,
    "start_time": "2024-05-31T12:33:17.101Z"
   },
   {
    "duration": 1,
    "start_time": "2024-05-31T12:33:17.102Z"
   },
   {
    "duration": 0,
    "start_time": "2024-05-31T12:33:17.104Z"
   },
   {
    "duration": 0,
    "start_time": "2024-05-31T12:33:17.104Z"
   },
   {
    "duration": 0,
    "start_time": "2024-05-31T12:33:17.106Z"
   },
   {
    "duration": 0,
    "start_time": "2024-05-31T12:33:17.107Z"
   },
   {
    "duration": 2,
    "start_time": "2024-05-31T13:45:21.737Z"
   },
   {
    "duration": 150,
    "start_time": "2024-05-31T13:45:21.741Z"
   },
   {
    "duration": 6,
    "start_time": "2024-05-31T13:45:21.892Z"
   },
   {
    "duration": 36,
    "start_time": "2024-05-31T13:45:21.900Z"
   },
   {
    "duration": 2,
    "start_time": "2024-05-31T13:45:21.938Z"
   },
   {
    "duration": 5,
    "start_time": "2024-05-31T13:45:21.941Z"
   },
   {
    "duration": 20,
    "start_time": "2024-05-31T13:45:21.947Z"
   },
   {
    "duration": 24,
    "start_time": "2024-05-31T13:45:21.968Z"
   },
   {
    "duration": 27,
    "start_time": "2024-05-31T13:45:21.993Z"
   },
   {
    "duration": 15,
    "start_time": "2024-05-31T13:45:22.023Z"
   },
   {
    "duration": 20,
    "start_time": "2024-05-31T13:45:22.039Z"
   },
   {
    "duration": 75,
    "start_time": "2024-05-31T13:45:22.060Z"
   },
   {
    "duration": 64,
    "start_time": "2024-05-31T13:45:22.136Z"
   },
   {
    "duration": 71,
    "start_time": "2024-05-31T13:45:22.201Z"
   },
   {
    "duration": 52,
    "start_time": "2024-05-31T13:45:22.273Z"
   },
   {
    "duration": 13,
    "start_time": "2024-05-31T13:45:22.327Z"
   },
   {
    "duration": 38,
    "start_time": "2024-05-31T13:45:22.342Z"
   },
   {
    "duration": 30,
    "start_time": "2024-05-31T13:45:22.382Z"
   },
   {
    "duration": 22,
    "start_time": "2024-05-31T13:45:22.413Z"
   },
   {
    "duration": 3,
    "start_time": "2024-05-31T13:45:22.436Z"
   },
   {
    "duration": 12,
    "start_time": "2024-05-31T13:45:22.441Z"
   },
   {
    "duration": 29,
    "start_time": "2024-05-31T13:45:22.454Z"
   },
   {
    "duration": 22,
    "start_time": "2024-05-31T13:45:22.484Z"
   },
   {
    "duration": 12,
    "start_time": "2024-05-31T13:45:22.507Z"
   },
   {
    "duration": 11,
    "start_time": "2024-05-31T13:45:22.520Z"
   },
   {
    "duration": 12,
    "start_time": "2024-05-31T13:45:22.532Z"
   },
   {
    "duration": 4,
    "start_time": "2024-05-31T13:45:22.546Z"
   },
   {
    "duration": 5,
    "start_time": "2024-05-31T13:45:22.553Z"
   },
   {
    "duration": 19,
    "start_time": "2024-05-31T13:45:22.559Z"
   },
   {
    "duration": 62,
    "start_time": "2024-05-31T13:45:22.579Z"
   },
   {
    "duration": 0,
    "start_time": "2024-05-31T13:45:22.642Z"
   },
   {
    "duration": 0,
    "start_time": "2024-05-31T13:45:22.643Z"
   },
   {
    "duration": 0,
    "start_time": "2024-05-31T13:45:22.644Z"
   },
   {
    "duration": 0,
    "start_time": "2024-05-31T13:45:22.645Z"
   },
   {
    "duration": 0,
    "start_time": "2024-05-31T13:45:22.646Z"
   },
   {
    "duration": 0,
    "start_time": "2024-05-31T13:45:22.647Z"
   },
   {
    "duration": 0,
    "start_time": "2024-05-31T13:45:22.648Z"
   },
   {
    "duration": 0,
    "start_time": "2024-05-31T13:45:22.649Z"
   },
   {
    "duration": 3,
    "start_time": "2024-05-31T13:46:19.272Z"
   },
   {
    "duration": 145,
    "start_time": "2024-05-31T13:46:19.277Z"
   },
   {
    "duration": 6,
    "start_time": "2024-05-31T13:46:19.423Z"
   },
   {
    "duration": 25,
    "start_time": "2024-05-31T13:46:19.430Z"
   },
   {
    "duration": 2,
    "start_time": "2024-05-31T13:46:19.457Z"
   },
   {
    "duration": 3,
    "start_time": "2024-05-31T13:46:19.460Z"
   },
   {
    "duration": 15,
    "start_time": "2024-05-31T13:46:19.465Z"
   },
   {
    "duration": 3,
    "start_time": "2024-05-31T13:46:19.481Z"
   },
   {
    "duration": 40,
    "start_time": "2024-05-31T13:46:19.486Z"
   },
   {
    "duration": 17,
    "start_time": "2024-05-31T13:46:19.527Z"
   },
   {
    "duration": 21,
    "start_time": "2024-05-31T13:46:19.546Z"
   },
   {
    "duration": 72,
    "start_time": "2024-05-31T13:46:19.568Z"
   },
   {
    "duration": 77,
    "start_time": "2024-05-31T13:46:19.642Z"
   },
   {
    "duration": 61,
    "start_time": "2024-05-31T13:46:19.722Z"
   },
   {
    "duration": 49,
    "start_time": "2024-05-31T13:46:19.784Z"
   },
   {
    "duration": 14,
    "start_time": "2024-05-31T13:46:19.835Z"
   },
   {
    "duration": 39,
    "start_time": "2024-05-31T13:46:19.851Z"
   },
   {
    "duration": 29,
    "start_time": "2024-05-31T13:46:19.891Z"
   },
   {
    "duration": 10,
    "start_time": "2024-05-31T13:46:19.922Z"
   },
   {
    "duration": 3,
    "start_time": "2024-05-31T13:46:19.933Z"
   },
   {
    "duration": 21,
    "start_time": "2024-05-31T13:46:19.938Z"
   },
   {
    "duration": 19,
    "start_time": "2024-05-31T13:46:19.960Z"
   },
   {
    "duration": 41,
    "start_time": "2024-05-31T13:46:19.981Z"
   },
   {
    "duration": 16,
    "start_time": "2024-05-31T13:46:20.023Z"
   },
   {
    "duration": 20,
    "start_time": "2024-05-31T13:46:20.040Z"
   },
   {
    "duration": 26,
    "start_time": "2024-05-31T13:46:20.061Z"
   },
   {
    "duration": 2,
    "start_time": "2024-05-31T13:46:20.089Z"
   },
   {
    "duration": 20,
    "start_time": "2024-05-31T13:46:20.092Z"
   },
   {
    "duration": 20,
    "start_time": "2024-05-31T13:46:20.113Z"
   },
   {
    "duration": 49,
    "start_time": "2024-05-31T13:46:20.134Z"
   },
   {
    "duration": 0,
    "start_time": "2024-05-31T13:46:20.184Z"
   },
   {
    "duration": 0,
    "start_time": "2024-05-31T13:46:20.185Z"
   },
   {
    "duration": 0,
    "start_time": "2024-05-31T13:46:20.187Z"
   },
   {
    "duration": 0,
    "start_time": "2024-05-31T13:46:20.187Z"
   },
   {
    "duration": 0,
    "start_time": "2024-05-31T13:46:20.188Z"
   },
   {
    "duration": 0,
    "start_time": "2024-05-31T13:46:20.189Z"
   },
   {
    "duration": 0,
    "start_time": "2024-05-31T13:46:20.190Z"
   },
   {
    "duration": 0,
    "start_time": "2024-05-31T13:46:20.191Z"
   },
   {
    "duration": 3,
    "start_time": "2024-05-31T13:55:21.919Z"
   },
   {
    "duration": 150,
    "start_time": "2024-05-31T13:55:21.923Z"
   },
   {
    "duration": 6,
    "start_time": "2024-05-31T13:55:22.075Z"
   },
   {
    "duration": 37,
    "start_time": "2024-05-31T13:55:22.082Z"
   },
   {
    "duration": 2,
    "start_time": "2024-05-31T13:55:22.120Z"
   },
   {
    "duration": 7,
    "start_time": "2024-05-31T13:55:22.124Z"
   },
   {
    "duration": 8,
    "start_time": "2024-05-31T13:55:22.132Z"
   },
   {
    "duration": 3,
    "start_time": "2024-05-31T13:55:22.142Z"
   },
   {
    "duration": 21,
    "start_time": "2024-05-31T13:55:22.146Z"
   },
   {
    "duration": 37,
    "start_time": "2024-05-31T13:55:22.175Z"
   },
   {
    "duration": 22,
    "start_time": "2024-05-31T13:55:22.214Z"
   },
   {
    "duration": 59,
    "start_time": "2024-05-31T13:55:22.238Z"
   },
   {
    "duration": 74,
    "start_time": "2024-05-31T13:55:22.299Z"
   },
   {
    "duration": 60,
    "start_time": "2024-05-31T13:55:22.374Z"
   },
   {
    "duration": 38,
    "start_time": "2024-05-31T13:55:22.436Z"
   },
   {
    "duration": 12,
    "start_time": "2024-05-31T13:55:22.476Z"
   },
   {
    "duration": 55,
    "start_time": "2024-05-31T13:55:22.490Z"
   },
   {
    "duration": 10,
    "start_time": "2024-05-31T13:55:22.546Z"
   },
   {
    "duration": 10,
    "start_time": "2024-05-31T13:55:22.557Z"
   },
   {
    "duration": 9,
    "start_time": "2024-05-31T13:55:22.568Z"
   },
   {
    "duration": 12,
    "start_time": "2024-05-31T13:55:22.579Z"
   },
   {
    "duration": 24,
    "start_time": "2024-05-31T13:55:22.592Z"
   },
   {
    "duration": 18,
    "start_time": "2024-05-31T13:55:22.618Z"
   },
   {
    "duration": 15,
    "start_time": "2024-05-31T13:55:22.637Z"
   },
   {
    "duration": 19,
    "start_time": "2024-05-31T13:55:22.653Z"
   },
   {
    "duration": 29,
    "start_time": "2024-05-31T13:55:22.673Z"
   },
   {
    "duration": 3,
    "start_time": "2024-05-31T13:55:22.711Z"
   },
   {
    "duration": 4,
    "start_time": "2024-05-31T13:55:22.716Z"
   },
   {
    "duration": 18,
    "start_time": "2024-05-31T13:55:22.721Z"
   },
   {
    "duration": 57,
    "start_time": "2024-05-31T13:55:22.740Z"
   },
   {
    "duration": 0,
    "start_time": "2024-05-31T13:55:22.799Z"
   },
   {
    "duration": 0,
    "start_time": "2024-05-31T13:55:22.800Z"
   },
   {
    "duration": 0,
    "start_time": "2024-05-31T13:55:22.802Z"
   },
   {
    "duration": 0,
    "start_time": "2024-05-31T13:55:22.803Z"
   },
   {
    "duration": 0,
    "start_time": "2024-05-31T13:55:22.804Z"
   },
   {
    "duration": 0,
    "start_time": "2024-05-31T13:55:22.806Z"
   },
   {
    "duration": 0,
    "start_time": "2024-05-31T13:55:22.807Z"
   },
   {
    "duration": 0,
    "start_time": "2024-05-31T13:55:22.809Z"
   },
   {
    "duration": 3,
    "start_time": "2024-05-31T14:03:04.945Z"
   },
   {
    "duration": 176,
    "start_time": "2024-05-31T14:03:04.950Z"
   },
   {
    "duration": 6,
    "start_time": "2024-05-31T14:03:05.128Z"
   },
   {
    "duration": 39,
    "start_time": "2024-05-31T14:03:05.136Z"
   },
   {
    "duration": 17,
    "start_time": "2024-05-31T14:03:05.177Z"
   },
   {
    "duration": 21,
    "start_time": "2024-05-31T14:03:05.195Z"
   },
   {
    "duration": 19,
    "start_time": "2024-05-31T14:03:05.217Z"
   },
   {
    "duration": 5,
    "start_time": "2024-05-31T14:03:05.238Z"
   },
   {
    "duration": 40,
    "start_time": "2024-05-31T14:03:05.245Z"
   },
   {
    "duration": 47,
    "start_time": "2024-05-31T14:03:05.288Z"
   },
   {
    "duration": 31,
    "start_time": "2024-05-31T14:03:05.337Z"
   },
   {
    "duration": 80,
    "start_time": "2024-05-31T14:03:05.370Z"
   },
   {
    "duration": 67,
    "start_time": "2024-05-31T14:03:05.452Z"
   },
   {
    "duration": 58,
    "start_time": "2024-05-31T14:03:05.521Z"
   },
   {
    "duration": 48,
    "start_time": "2024-05-31T14:03:05.581Z"
   },
   {
    "duration": 13,
    "start_time": "2024-05-31T14:03:05.630Z"
   },
   {
    "duration": 40,
    "start_time": "2024-05-31T14:03:05.644Z"
   },
   {
    "duration": 29,
    "start_time": "2024-05-31T14:03:05.686Z"
   },
   {
    "duration": 10,
    "start_time": "2024-05-31T14:03:05.716Z"
   },
   {
    "duration": 4,
    "start_time": "2024-05-31T14:03:05.727Z"
   },
   {
    "duration": 27,
    "start_time": "2024-05-31T14:03:05.733Z"
   },
   {
    "duration": 15,
    "start_time": "2024-05-31T14:03:05.762Z"
   },
   {
    "duration": 40,
    "start_time": "2024-05-31T14:03:05.779Z"
   },
   {
    "duration": 15,
    "start_time": "2024-05-31T14:03:05.820Z"
   },
   {
    "duration": 17,
    "start_time": "2024-05-31T14:03:05.837Z"
   },
   {
    "duration": 16,
    "start_time": "2024-05-31T14:03:05.855Z"
   },
   {
    "duration": 2,
    "start_time": "2024-05-31T14:03:05.872Z"
   },
   {
    "duration": 11,
    "start_time": "2024-05-31T14:03:05.877Z"
   },
   {
    "duration": 8,
    "start_time": "2024-05-31T14:03:05.889Z"
   },
   {
    "duration": 56,
    "start_time": "2024-05-31T14:03:05.911Z"
   },
   {
    "duration": 0,
    "start_time": "2024-05-31T14:03:05.968Z"
   },
   {
    "duration": 0,
    "start_time": "2024-05-31T14:03:05.969Z"
   },
   {
    "duration": 0,
    "start_time": "2024-05-31T14:03:05.970Z"
   },
   {
    "duration": 0,
    "start_time": "2024-05-31T14:03:05.971Z"
   },
   {
    "duration": 0,
    "start_time": "2024-05-31T14:03:05.972Z"
   },
   {
    "duration": 0,
    "start_time": "2024-05-31T14:03:05.973Z"
   },
   {
    "duration": 0,
    "start_time": "2024-05-31T14:03:05.974Z"
   },
   {
    "duration": 0,
    "start_time": "2024-05-31T14:03:05.975Z"
   },
   {
    "duration": 2,
    "start_time": "2024-05-31T14:24:28.649Z"
   },
   {
    "duration": 159,
    "start_time": "2024-05-31T14:24:28.653Z"
   },
   {
    "duration": 6,
    "start_time": "2024-05-31T14:24:28.813Z"
   },
   {
    "duration": 27,
    "start_time": "2024-05-31T14:24:28.821Z"
   },
   {
    "duration": 2,
    "start_time": "2024-05-31T14:24:28.850Z"
   },
   {
    "duration": 4,
    "start_time": "2024-05-31T14:24:28.853Z"
   },
   {
    "duration": 8,
    "start_time": "2024-05-31T14:24:28.858Z"
   },
   {
    "duration": 4,
    "start_time": "2024-05-31T14:24:28.867Z"
   },
   {
    "duration": 48,
    "start_time": "2024-05-31T14:24:28.872Z"
   },
   {
    "duration": 14,
    "start_time": "2024-05-31T14:24:28.922Z"
   },
   {
    "duration": 20,
    "start_time": "2024-05-31T14:24:28.937Z"
   },
   {
    "duration": 74,
    "start_time": "2024-05-31T14:24:28.959Z"
   },
   {
    "duration": 67,
    "start_time": "2024-05-31T14:24:29.034Z"
   },
   {
    "duration": 67,
    "start_time": "2024-05-31T14:24:29.104Z"
   },
   {
    "duration": 49,
    "start_time": "2024-05-31T14:24:29.173Z"
   },
   {
    "duration": 13,
    "start_time": "2024-05-31T14:24:29.224Z"
   },
   {
    "duration": 43,
    "start_time": "2024-05-31T14:24:29.239Z"
   },
   {
    "duration": 29,
    "start_time": "2024-05-31T14:24:29.284Z"
   },
   {
    "duration": 17,
    "start_time": "2024-05-31T14:24:29.314Z"
   },
   {
    "duration": 4,
    "start_time": "2024-05-31T14:24:29.333Z"
   },
   {
    "duration": 22,
    "start_time": "2024-05-31T14:24:29.338Z"
   },
   {
    "duration": 0,
    "start_time": "2024-05-31T14:24:29.361Z"
   },
   {
    "duration": 0,
    "start_time": "2024-05-31T14:24:29.363Z"
   },
   {
    "duration": 0,
    "start_time": "2024-05-31T14:24:29.363Z"
   },
   {
    "duration": 0,
    "start_time": "2024-05-31T14:24:29.365Z"
   },
   {
    "duration": 0,
    "start_time": "2024-05-31T14:24:29.365Z"
   },
   {
    "duration": 0,
    "start_time": "2024-05-31T14:24:29.367Z"
   },
   {
    "duration": 0,
    "start_time": "2024-05-31T14:24:29.367Z"
   },
   {
    "duration": 0,
    "start_time": "2024-05-31T14:24:29.368Z"
   },
   {
    "duration": 0,
    "start_time": "2024-05-31T14:24:29.369Z"
   },
   {
    "duration": 0,
    "start_time": "2024-05-31T14:24:29.370Z"
   },
   {
    "duration": 0,
    "start_time": "2024-05-31T14:24:29.371Z"
   },
   {
    "duration": 0,
    "start_time": "2024-05-31T14:24:29.372Z"
   },
   {
    "duration": 0,
    "start_time": "2024-05-31T14:24:29.411Z"
   },
   {
    "duration": 0,
    "start_time": "2024-05-31T14:24:29.413Z"
   },
   {
    "duration": 0,
    "start_time": "2024-05-31T14:24:29.414Z"
   },
   {
    "duration": 0,
    "start_time": "2024-05-31T14:24:29.415Z"
   },
   {
    "duration": 0,
    "start_time": "2024-05-31T14:24:29.416Z"
   },
   {
    "duration": 2,
    "start_time": "2024-05-31T14:25:07.240Z"
   },
   {
    "duration": 147,
    "start_time": "2024-05-31T14:25:07.244Z"
   },
   {
    "duration": 6,
    "start_time": "2024-05-31T14:25:07.393Z"
   },
   {
    "duration": 33,
    "start_time": "2024-05-31T14:25:07.401Z"
   },
   {
    "duration": 2,
    "start_time": "2024-05-31T14:25:07.437Z"
   },
   {
    "duration": 5,
    "start_time": "2024-05-31T14:25:07.440Z"
   },
   {
    "duration": 18,
    "start_time": "2024-05-31T14:25:07.446Z"
   },
   {
    "duration": 12,
    "start_time": "2024-05-31T14:25:07.466Z"
   },
   {
    "duration": 23,
    "start_time": "2024-05-31T14:25:07.479Z"
   },
   {
    "duration": 16,
    "start_time": "2024-05-31T14:25:07.511Z"
   },
   {
    "duration": 20,
    "start_time": "2024-05-31T14:25:07.529Z"
   },
   {
    "duration": 75,
    "start_time": "2024-05-31T14:25:07.551Z"
   },
   {
    "duration": 66,
    "start_time": "2024-05-31T14:25:07.627Z"
   },
   {
    "duration": 62,
    "start_time": "2024-05-31T14:25:07.696Z"
   },
   {
    "duration": 38,
    "start_time": "2024-05-31T14:25:07.760Z"
   },
   {
    "duration": 12,
    "start_time": "2024-05-31T14:25:07.812Z"
   },
   {
    "duration": 52,
    "start_time": "2024-05-31T14:25:07.826Z"
   },
   {
    "duration": 10,
    "start_time": "2024-05-31T14:25:07.879Z"
   },
   {
    "duration": 13,
    "start_time": "2024-05-31T14:25:07.890Z"
   },
   {
    "duration": 8,
    "start_time": "2024-05-31T14:25:07.905Z"
   },
   {
    "duration": 22,
    "start_time": "2024-05-31T14:25:07.914Z"
   },
   {
    "duration": 15,
    "start_time": "2024-05-31T14:25:07.937Z"
   },
   {
    "duration": 17,
    "start_time": "2024-05-31T14:25:07.953Z"
   },
   {
    "duration": 16,
    "start_time": "2024-05-31T14:25:07.971Z"
   },
   {
    "duration": 39,
    "start_time": "2024-05-31T14:25:07.988Z"
   },
   {
    "duration": 16,
    "start_time": "2024-05-31T14:25:08.028Z"
   },
   {
    "duration": 2,
    "start_time": "2024-05-31T14:25:08.046Z"
   },
   {
    "duration": 10,
    "start_time": "2024-05-31T14:25:08.049Z"
   },
   {
    "duration": 20,
    "start_time": "2024-05-31T14:25:08.060Z"
   },
   {
    "duration": 163,
    "start_time": "2024-05-31T14:25:08.082Z"
   },
   {
    "duration": 0,
    "start_time": "2024-05-31T14:25:08.246Z"
   },
   {
    "duration": 0,
    "start_time": "2024-05-31T14:25:08.247Z"
   },
   {
    "duration": 0,
    "start_time": "2024-05-31T14:25:08.249Z"
   },
   {
    "duration": 0,
    "start_time": "2024-05-31T14:25:08.250Z"
   },
   {
    "duration": 0,
    "start_time": "2024-05-31T14:25:08.251Z"
   },
   {
    "duration": 0,
    "start_time": "2024-05-31T14:25:08.251Z"
   },
   {
    "duration": 0,
    "start_time": "2024-05-31T14:25:08.253Z"
   },
   {
    "duration": 0,
    "start_time": "2024-05-31T14:25:08.254Z"
   },
   {
    "duration": 2,
    "start_time": "2024-05-31T14:45:47.785Z"
   },
   {
    "duration": 159,
    "start_time": "2024-05-31T14:45:47.789Z"
   },
   {
    "duration": 6,
    "start_time": "2024-05-31T14:45:47.950Z"
   },
   {
    "duration": 32,
    "start_time": "2024-05-31T14:45:47.958Z"
   },
   {
    "duration": 2,
    "start_time": "2024-05-31T14:45:47.993Z"
   },
   {
    "duration": 16,
    "start_time": "2024-05-31T14:45:47.997Z"
   },
   {
    "duration": 19,
    "start_time": "2024-05-31T14:45:48.014Z"
   },
   {
    "duration": 11,
    "start_time": "2024-05-31T14:45:48.034Z"
   },
   {
    "duration": 22,
    "start_time": "2024-05-31T14:45:48.047Z"
   },
   {
    "duration": 15,
    "start_time": "2024-05-31T14:45:48.071Z"
   },
   {
    "duration": 29,
    "start_time": "2024-05-31T14:45:48.089Z"
   },
   {
    "duration": 69,
    "start_time": "2024-05-31T14:45:48.119Z"
   },
   {
    "duration": 73,
    "start_time": "2024-05-31T14:45:48.190Z"
   },
   {
    "duration": 62,
    "start_time": "2024-05-31T14:45:48.266Z"
   },
   {
    "duration": 40,
    "start_time": "2024-05-31T14:45:48.330Z"
   },
   {
    "duration": 14,
    "start_time": "2024-05-31T14:45:48.372Z"
   },
   {
    "duration": 62,
    "start_time": "2024-05-31T14:45:48.388Z"
   },
   {
    "duration": 10,
    "start_time": "2024-05-31T14:45:48.451Z"
   },
   {
    "duration": 9,
    "start_time": "2024-05-31T14:45:48.463Z"
   },
   {
    "duration": 8,
    "start_time": "2024-05-31T14:45:48.474Z"
   },
   {
    "duration": 46,
    "start_time": "2024-05-31T14:45:48.483Z"
   },
   {
    "duration": 16,
    "start_time": "2024-05-31T14:45:48.531Z"
   },
   {
    "duration": 30,
    "start_time": "2024-05-31T14:45:48.549Z"
   },
   {
    "duration": 16,
    "start_time": "2024-05-31T14:45:48.580Z"
   },
   {
    "duration": 30,
    "start_time": "2024-05-31T14:45:48.597Z"
   },
   {
    "duration": 15,
    "start_time": "2024-05-31T14:45:48.629Z"
   },
   {
    "duration": 2,
    "start_time": "2024-05-31T14:45:48.646Z"
   },
   {
    "duration": 3,
    "start_time": "2024-05-31T14:45:48.649Z"
   },
   {
    "duration": 5,
    "start_time": "2024-05-31T14:45:48.655Z"
   },
   {
    "duration": 146,
    "start_time": "2024-05-31T14:45:48.661Z"
   },
   {
    "duration": 0,
    "start_time": "2024-05-31T14:45:48.809Z"
   },
   {
    "duration": 0,
    "start_time": "2024-05-31T14:45:48.810Z"
   },
   {
    "duration": 0,
    "start_time": "2024-05-31T14:45:48.811Z"
   },
   {
    "duration": 0,
    "start_time": "2024-05-31T14:45:48.812Z"
   },
   {
    "duration": 0,
    "start_time": "2024-05-31T14:45:48.813Z"
   },
   {
    "duration": 0,
    "start_time": "2024-05-31T14:45:48.814Z"
   },
   {
    "duration": 0,
    "start_time": "2024-05-31T14:45:48.815Z"
   },
   {
    "duration": 0,
    "start_time": "2024-05-31T14:45:48.815Z"
   },
   {
    "duration": 2,
    "start_time": "2024-05-31T16:15:53.078Z"
   },
   {
    "duration": 166,
    "start_time": "2024-05-31T16:15:53.082Z"
   },
   {
    "duration": 6,
    "start_time": "2024-05-31T16:15:53.249Z"
   },
   {
    "duration": 38,
    "start_time": "2024-05-31T16:15:53.257Z"
   },
   {
    "duration": 3,
    "start_time": "2024-05-31T16:15:53.297Z"
   },
   {
    "duration": 22,
    "start_time": "2024-05-31T16:15:53.302Z"
   },
   {
    "duration": 13,
    "start_time": "2024-05-31T16:15:53.325Z"
   },
   {
    "duration": 6,
    "start_time": "2024-05-31T16:15:53.340Z"
   },
   {
    "duration": 26,
    "start_time": "2024-05-31T16:15:53.347Z"
   },
   {
    "duration": 21,
    "start_time": "2024-05-31T16:15:53.374Z"
   },
   {
    "duration": 20,
    "start_time": "2024-05-31T16:15:53.396Z"
   },
   {
    "duration": 69,
    "start_time": "2024-05-31T16:15:53.418Z"
   },
   {
    "duration": 68,
    "start_time": "2024-05-31T16:15:53.489Z"
   },
   {
    "duration": 79,
    "start_time": "2024-05-31T16:15:53.560Z"
   },
   {
    "duration": 37,
    "start_time": "2024-05-31T16:15:53.641Z"
   },
   {
    "duration": 14,
    "start_time": "2024-05-31T16:15:53.680Z"
   },
   {
    "duration": 38,
    "start_time": "2024-05-31T16:15:53.712Z"
   },
   {
    "duration": 10,
    "start_time": "2024-05-31T16:15:53.752Z"
   },
   {
    "duration": 17,
    "start_time": "2024-05-31T16:15:53.763Z"
   },
   {
    "duration": 14,
    "start_time": "2024-05-31T16:15:53.782Z"
   },
   {
    "duration": 30,
    "start_time": "2024-05-31T16:15:53.797Z"
   },
   {
    "duration": 21,
    "start_time": "2024-05-31T16:15:53.829Z"
   },
   {
    "duration": 18,
    "start_time": "2024-05-31T16:15:53.852Z"
   },
   {
    "duration": 29,
    "start_time": "2024-05-31T16:15:53.872Z"
   },
   {
    "duration": 28,
    "start_time": "2024-05-31T16:15:53.903Z"
   },
   {
    "duration": 24,
    "start_time": "2024-05-31T16:15:53.933Z"
   },
   {
    "duration": 3,
    "start_time": "2024-05-31T16:15:53.958Z"
   },
   {
    "duration": 9,
    "start_time": "2024-05-31T16:15:53.962Z"
   },
   {
    "duration": 24,
    "start_time": "2024-05-31T16:15:53.972Z"
   },
   {
    "duration": 53,
    "start_time": "2024-05-31T16:15:53.997Z"
   },
   {
    "duration": 0,
    "start_time": "2024-05-31T16:15:54.051Z"
   },
   {
    "duration": 0,
    "start_time": "2024-05-31T16:15:54.052Z"
   },
   {
    "duration": 0,
    "start_time": "2024-05-31T16:15:54.053Z"
   },
   {
    "duration": 0,
    "start_time": "2024-05-31T16:15:54.054Z"
   },
   {
    "duration": 0,
    "start_time": "2024-05-31T16:15:54.055Z"
   },
   {
    "duration": 0,
    "start_time": "2024-05-31T16:15:54.056Z"
   },
   {
    "duration": 0,
    "start_time": "2024-05-31T16:15:54.057Z"
   },
   {
    "duration": 0,
    "start_time": "2024-05-31T16:15:54.058Z"
   },
   {
    "duration": 3,
    "start_time": "2024-05-31T16:21:47.678Z"
   },
   {
    "duration": 164,
    "start_time": "2024-05-31T16:21:47.683Z"
   },
   {
    "duration": 7,
    "start_time": "2024-05-31T16:21:47.848Z"
   },
   {
    "duration": 31,
    "start_time": "2024-05-31T16:21:47.856Z"
   },
   {
    "duration": 3,
    "start_time": "2024-05-31T16:21:47.890Z"
   },
   {
    "duration": 6,
    "start_time": "2024-05-31T16:21:47.894Z"
   },
   {
    "duration": 7,
    "start_time": "2024-05-31T16:21:47.912Z"
   },
   {
    "duration": 4,
    "start_time": "2024-05-31T16:21:47.920Z"
   },
   {
    "duration": 23,
    "start_time": "2024-05-31T16:21:47.925Z"
   },
   {
    "duration": 16,
    "start_time": "2024-05-31T16:21:47.950Z"
   },
   {
    "duration": 45,
    "start_time": "2024-05-31T16:21:47.967Z"
   },
   {
    "duration": 61,
    "start_time": "2024-05-31T16:21:48.013Z"
   },
   {
    "duration": 80,
    "start_time": "2024-05-31T16:21:48.076Z"
   },
   {
    "duration": 62,
    "start_time": "2024-05-31T16:21:48.159Z"
   },
   {
    "duration": 38,
    "start_time": "2024-05-31T16:21:48.222Z"
   },
   {
    "duration": 23,
    "start_time": "2024-05-31T16:21:48.262Z"
   },
   {
    "duration": 44,
    "start_time": "2024-05-31T16:21:48.286Z"
   },
   {
    "duration": 9,
    "start_time": "2024-05-31T16:21:48.332Z"
   },
   {
    "duration": 9,
    "start_time": "2024-05-31T16:21:48.343Z"
   },
   {
    "duration": 20,
    "start_time": "2024-05-31T16:21:48.354Z"
   },
   {
    "duration": 9,
    "start_time": "2024-05-31T16:21:48.375Z"
   },
   {
    "duration": 0,
    "start_time": "2024-05-31T16:21:48.385Z"
   },
   {
    "duration": 0,
    "start_time": "2024-05-31T16:21:48.386Z"
   },
   {
    "duration": 0,
    "start_time": "2024-05-31T16:21:48.387Z"
   },
   {
    "duration": 0,
    "start_time": "2024-05-31T16:21:48.388Z"
   },
   {
    "duration": 0,
    "start_time": "2024-05-31T16:21:48.389Z"
   },
   {
    "duration": 0,
    "start_time": "2024-05-31T16:21:48.412Z"
   },
   {
    "duration": 0,
    "start_time": "2024-05-31T16:21:48.413Z"
   },
   {
    "duration": 0,
    "start_time": "2024-05-31T16:21:48.414Z"
   },
   {
    "duration": 0,
    "start_time": "2024-05-31T16:21:48.415Z"
   },
   {
    "duration": 0,
    "start_time": "2024-05-31T16:21:48.416Z"
   },
   {
    "duration": 0,
    "start_time": "2024-05-31T16:21:48.417Z"
   },
   {
    "duration": 0,
    "start_time": "2024-05-31T16:21:48.418Z"
   },
   {
    "duration": 0,
    "start_time": "2024-05-31T16:21:48.419Z"
   },
   {
    "duration": 0,
    "start_time": "2024-05-31T16:21:48.420Z"
   },
   {
    "duration": 0,
    "start_time": "2024-05-31T16:21:48.420Z"
   },
   {
    "duration": 0,
    "start_time": "2024-05-31T16:21:48.421Z"
   },
   {
    "duration": 0,
    "start_time": "2024-05-31T16:21:48.422Z"
   },
   {
    "duration": 2,
    "start_time": "2024-05-31T16:22:32.720Z"
   },
   {
    "duration": 167,
    "start_time": "2024-05-31T16:22:32.724Z"
   },
   {
    "duration": 6,
    "start_time": "2024-05-31T16:22:32.892Z"
   },
   {
    "duration": 29,
    "start_time": "2024-05-31T16:22:32.899Z"
   },
   {
    "duration": 2,
    "start_time": "2024-05-31T16:22:32.930Z"
   },
   {
    "duration": 5,
    "start_time": "2024-05-31T16:22:32.933Z"
   },
   {
    "duration": 7,
    "start_time": "2024-05-31T16:22:32.939Z"
   },
   {
    "duration": 3,
    "start_time": "2024-05-31T16:22:32.947Z"
   },
   {
    "duration": 21,
    "start_time": "2024-05-31T16:22:32.951Z"
   },
   {
    "duration": 42,
    "start_time": "2024-05-31T16:22:32.973Z"
   },
   {
    "duration": 22,
    "start_time": "2024-05-31T16:22:33.016Z"
   },
   {
    "duration": 73,
    "start_time": "2024-05-31T16:22:33.039Z"
   },
   {
    "duration": 69,
    "start_time": "2024-05-31T16:22:33.115Z"
   },
   {
    "duration": 74,
    "start_time": "2024-05-31T16:22:33.186Z"
   },
   {
    "duration": 38,
    "start_time": "2024-05-31T16:22:33.262Z"
   },
   {
    "duration": 13,
    "start_time": "2024-05-31T16:22:33.312Z"
   },
   {
    "duration": 38,
    "start_time": "2024-05-31T16:22:33.326Z"
   },
   {
    "duration": 11,
    "start_time": "2024-05-31T16:22:33.365Z"
   },
   {
    "duration": 10,
    "start_time": "2024-05-31T16:22:33.377Z"
   },
   {
    "duration": 28,
    "start_time": "2024-05-31T16:22:33.388Z"
   },
   {
    "duration": 21,
    "start_time": "2024-05-31T16:22:33.418Z"
   },
   {
    "duration": 15,
    "start_time": "2024-05-31T16:22:33.441Z"
   },
   {
    "duration": 18,
    "start_time": "2024-05-31T16:22:33.457Z"
   },
   {
    "duration": 37,
    "start_time": "2024-05-31T16:22:33.476Z"
   },
   {
    "duration": 21,
    "start_time": "2024-05-31T16:22:33.514Z"
   },
   {
    "duration": 18,
    "start_time": "2024-05-31T16:22:33.536Z"
   },
   {
    "duration": 3,
    "start_time": "2024-05-31T16:22:33.556Z"
   },
   {
    "duration": 10,
    "start_time": "2024-05-31T16:22:33.560Z"
   },
   {
    "duration": 14,
    "start_time": "2024-05-31T16:22:33.572Z"
   },
   {
    "duration": 54,
    "start_time": "2024-05-31T16:22:33.587Z"
   },
   {
    "duration": 0,
    "start_time": "2024-05-31T16:22:33.642Z"
   },
   {
    "duration": 0,
    "start_time": "2024-05-31T16:22:33.643Z"
   },
   {
    "duration": 0,
    "start_time": "2024-05-31T16:22:33.644Z"
   },
   {
    "duration": 0,
    "start_time": "2024-05-31T16:22:33.645Z"
   },
   {
    "duration": 0,
    "start_time": "2024-05-31T16:22:33.651Z"
   },
   {
    "duration": 0,
    "start_time": "2024-05-31T16:22:33.652Z"
   },
   {
    "duration": 0,
    "start_time": "2024-05-31T16:22:33.653Z"
   },
   {
    "duration": 0,
    "start_time": "2024-05-31T16:22:33.653Z"
   },
   {
    "duration": 3,
    "start_time": "2024-05-31T16:24:06.362Z"
   },
   {
    "duration": 155,
    "start_time": "2024-05-31T16:24:06.366Z"
   },
   {
    "duration": 6,
    "start_time": "2024-05-31T16:24:06.522Z"
   },
   {
    "duration": 28,
    "start_time": "2024-05-31T16:24:06.529Z"
   },
   {
    "duration": 3,
    "start_time": "2024-05-31T16:24:06.559Z"
   },
   {
    "duration": 4,
    "start_time": "2024-05-31T16:24:06.563Z"
   },
   {
    "duration": 8,
    "start_time": "2024-05-31T16:24:06.569Z"
   },
   {
    "duration": 4,
    "start_time": "2024-05-31T16:24:06.578Z"
   },
   {
    "duration": 55,
    "start_time": "2024-05-31T16:24:06.583Z"
   },
   {
    "duration": 22,
    "start_time": "2024-05-31T16:24:06.640Z"
   },
   {
    "duration": 21,
    "start_time": "2024-05-31T16:24:06.664Z"
   },
   {
    "duration": 82,
    "start_time": "2024-05-31T16:24:06.686Z"
   },
   {
    "duration": 72,
    "start_time": "2024-05-31T16:24:06.769Z"
   },
   {
    "duration": 53,
    "start_time": "2024-05-31T16:24:06.844Z"
   },
   {
    "duration": 46,
    "start_time": "2024-05-31T16:24:06.898Z"
   },
   {
    "duration": 12,
    "start_time": "2024-05-31T16:24:06.946Z"
   },
   {
    "duration": 53,
    "start_time": "2024-05-31T16:24:06.959Z"
   },
   {
    "duration": 10,
    "start_time": "2024-05-31T16:24:07.014Z"
   },
   {
    "duration": 10,
    "start_time": "2024-05-31T16:24:07.026Z"
   },
   {
    "duration": 3,
    "start_time": "2024-05-31T16:24:07.037Z"
   },
   {
    "duration": 23,
    "start_time": "2024-05-31T16:24:07.041Z"
   },
   {
    "duration": 17,
    "start_time": "2024-05-31T16:24:07.065Z"
   },
   {
    "duration": 47,
    "start_time": "2024-05-31T16:24:07.083Z"
   },
   {
    "duration": 16,
    "start_time": "2024-05-31T16:24:07.132Z"
   },
   {
    "duration": 18,
    "start_time": "2024-05-31T16:24:07.150Z"
   },
   {
    "duration": 15,
    "start_time": "2024-05-31T16:24:07.170Z"
   },
   {
    "duration": 26,
    "start_time": "2024-05-31T16:24:07.186Z"
   },
   {
    "duration": 2,
    "start_time": "2024-05-31T16:24:07.214Z"
   },
   {
    "duration": 12,
    "start_time": "2024-05-31T16:24:07.217Z"
   },
   {
    "duration": 56,
    "start_time": "2024-05-31T16:24:07.230Z"
   },
   {
    "duration": 0,
    "start_time": "2024-05-31T16:24:07.287Z"
   },
   {
    "duration": 0,
    "start_time": "2024-05-31T16:24:07.289Z"
   },
   {
    "duration": 0,
    "start_time": "2024-05-31T16:24:07.290Z"
   },
   {
    "duration": 0,
    "start_time": "2024-05-31T16:24:07.291Z"
   },
   {
    "duration": 0,
    "start_time": "2024-05-31T16:24:07.292Z"
   },
   {
    "duration": 0,
    "start_time": "2024-05-31T16:24:07.293Z"
   },
   {
    "duration": 0,
    "start_time": "2024-05-31T16:24:07.294Z"
   },
   {
    "duration": 0,
    "start_time": "2024-05-31T16:24:07.294Z"
   },
   {
    "duration": 3,
    "start_time": "2024-05-31T16:39:01.673Z"
   },
   {
    "duration": 196,
    "start_time": "2024-05-31T16:39:01.677Z"
   },
   {
    "duration": 9,
    "start_time": "2024-05-31T16:39:01.875Z"
   },
   {
    "duration": 37,
    "start_time": "2024-05-31T16:39:01.886Z"
   },
   {
    "duration": 3,
    "start_time": "2024-05-31T16:39:01.924Z"
   },
   {
    "duration": 4,
    "start_time": "2024-05-31T16:39:01.928Z"
   },
   {
    "duration": 9,
    "start_time": "2024-05-31T16:39:01.933Z"
   },
   {
    "duration": 3,
    "start_time": "2024-05-31T16:39:01.943Z"
   },
   {
    "duration": 23,
    "start_time": "2024-05-31T16:39:01.947Z"
   },
   {
    "duration": 15,
    "start_time": "2024-05-31T16:39:01.972Z"
   },
   {
    "duration": 22,
    "start_time": "2024-05-31T16:39:02.011Z"
   },
   {
    "duration": 64,
    "start_time": "2024-05-31T16:39:02.034Z"
   },
   {
    "duration": 78,
    "start_time": "2024-05-31T16:39:02.099Z"
   },
   {
    "duration": 66,
    "start_time": "2024-05-31T16:39:02.179Z"
   },
   {
    "duration": 38,
    "start_time": "2024-05-31T16:39:02.247Z"
   },
   {
    "duration": 26,
    "start_time": "2024-05-31T16:39:02.287Z"
   },
   {
    "duration": 48,
    "start_time": "2024-05-31T16:39:02.314Z"
   },
   {
    "duration": 11,
    "start_time": "2024-05-31T16:39:02.363Z"
   },
   {
    "duration": 11,
    "start_time": "2024-05-31T16:39:02.375Z"
   },
   {
    "duration": 3,
    "start_time": "2024-05-31T16:39:02.387Z"
   },
   {
    "duration": 31,
    "start_time": "2024-05-31T16:39:02.391Z"
   },
   {
    "duration": 13,
    "start_time": "2024-05-31T16:39:02.423Z"
   },
   {
    "duration": 20,
    "start_time": "2024-05-31T16:39:02.437Z"
   },
   {
    "duration": 12,
    "start_time": "2024-05-31T16:39:02.459Z"
   },
   {
    "duration": 15,
    "start_time": "2024-05-31T16:39:02.473Z"
   },
   {
    "duration": 33,
    "start_time": "2024-05-31T16:39:02.490Z"
   },
   {
    "duration": 9,
    "start_time": "2024-05-31T16:39:02.525Z"
   },
   {
    "duration": 5,
    "start_time": "2024-05-31T16:39:02.538Z"
   },
   {
    "duration": 4,
    "start_time": "2024-05-31T16:39:02.545Z"
   },
   {
    "duration": 54,
    "start_time": "2024-05-31T16:39:02.551Z"
   },
   {
    "duration": 0,
    "start_time": "2024-05-31T16:39:02.607Z"
   },
   {
    "duration": 0,
    "start_time": "2024-05-31T16:39:02.608Z"
   },
   {
    "duration": 0,
    "start_time": "2024-05-31T16:39:02.610Z"
   },
   {
    "duration": 0,
    "start_time": "2024-05-31T16:39:02.611Z"
   },
   {
    "duration": 0,
    "start_time": "2024-05-31T16:39:02.612Z"
   },
   {
    "duration": 0,
    "start_time": "2024-05-31T16:39:02.614Z"
   },
   {
    "duration": 0,
    "start_time": "2024-05-31T16:39:02.615Z"
   },
   {
    "duration": 0,
    "start_time": "2024-05-31T16:39:02.616Z"
   },
   {
    "duration": 3,
    "start_time": "2024-05-31T18:04:02.234Z"
   },
   {
    "duration": 180,
    "start_time": "2024-05-31T18:04:02.239Z"
   },
   {
    "duration": 7,
    "start_time": "2024-05-31T18:04:02.421Z"
   },
   {
    "duration": 45,
    "start_time": "2024-05-31T18:04:02.430Z"
   },
   {
    "duration": 3,
    "start_time": "2024-05-31T18:04:02.477Z"
   },
   {
    "duration": 13,
    "start_time": "2024-05-31T18:04:02.481Z"
   },
   {
    "duration": 14,
    "start_time": "2024-05-31T18:04:02.495Z"
   },
   {
    "duration": 18,
    "start_time": "2024-05-31T18:04:02.510Z"
   },
   {
    "duration": 24,
    "start_time": "2024-05-31T18:04:02.529Z"
   },
   {
    "duration": 15,
    "start_time": "2024-05-31T18:04:02.557Z"
   },
   {
    "duration": 21,
    "start_time": "2024-05-31T18:04:02.573Z"
   },
   {
    "duration": 78,
    "start_time": "2024-05-31T18:04:02.595Z"
   },
   {
    "duration": 77,
    "start_time": "2024-05-31T18:04:02.674Z"
   },
   {
    "duration": 59,
    "start_time": "2024-05-31T18:04:02.753Z"
   },
   {
    "duration": 38,
    "start_time": "2024-05-31T18:04:02.814Z"
   },
   {
    "duration": 13,
    "start_time": "2024-05-31T18:04:02.854Z"
   },
   {
    "duration": 57,
    "start_time": "2024-05-31T18:04:02.868Z"
   },
   {
    "duration": 10,
    "start_time": "2024-05-31T18:04:02.927Z"
   },
   {
    "duration": 9,
    "start_time": "2024-05-31T18:04:02.939Z"
   },
   {
    "duration": 3,
    "start_time": "2024-05-31T18:04:02.950Z"
   },
   {
    "duration": 21,
    "start_time": "2024-05-31T18:04:02.954Z"
   },
   {
    "duration": 11,
    "start_time": "2024-05-31T18:04:02.976Z"
   },
   {
    "duration": 14,
    "start_time": "2024-05-31T18:04:03.011Z"
   },
   {
    "duration": 13,
    "start_time": "2024-05-31T18:04:03.027Z"
   },
   {
    "duration": 28,
    "start_time": "2024-05-31T18:04:03.041Z"
   },
   {
    "duration": 13,
    "start_time": "2024-05-31T18:04:03.071Z"
   },
   {
    "duration": 6,
    "start_time": "2024-05-31T18:04:03.085Z"
   },
   {
    "duration": 10,
    "start_time": "2024-05-31T18:04:03.113Z"
   },
   {
    "duration": 8,
    "start_time": "2024-05-31T18:04:03.125Z"
   },
   {
    "duration": 60,
    "start_time": "2024-05-31T18:04:03.135Z"
   },
   {
    "duration": 0,
    "start_time": "2024-05-31T18:04:03.196Z"
   },
   {
    "duration": 0,
    "start_time": "2024-05-31T18:04:03.198Z"
   },
   {
    "duration": 0,
    "start_time": "2024-05-31T18:04:03.199Z"
   },
   {
    "duration": 0,
    "start_time": "2024-05-31T18:04:03.200Z"
   },
   {
    "duration": 0,
    "start_time": "2024-05-31T18:04:03.202Z"
   },
   {
    "duration": 0,
    "start_time": "2024-05-31T18:04:03.203Z"
   },
   {
    "duration": 0,
    "start_time": "2024-05-31T18:04:03.204Z"
   },
   {
    "duration": 0,
    "start_time": "2024-05-31T18:04:03.205Z"
   },
   {
    "duration": 3,
    "start_time": "2024-05-31T18:09:40.434Z"
   },
   {
    "duration": 152,
    "start_time": "2024-05-31T18:09:40.439Z"
   },
   {
    "duration": 6,
    "start_time": "2024-05-31T18:09:40.592Z"
   },
   {
    "duration": 35,
    "start_time": "2024-05-31T18:09:40.599Z"
   },
   {
    "duration": 8,
    "start_time": "2024-05-31T18:09:40.636Z"
   },
   {
    "duration": 7,
    "start_time": "2024-05-31T18:09:40.645Z"
   },
   {
    "duration": 15,
    "start_time": "2024-05-31T18:09:40.653Z"
   },
   {
    "duration": 5,
    "start_time": "2024-05-31T18:09:40.669Z"
   },
   {
    "duration": 35,
    "start_time": "2024-05-31T18:09:40.678Z"
   },
   {
    "duration": 14,
    "start_time": "2024-05-31T18:09:40.715Z"
   },
   {
    "duration": 21,
    "start_time": "2024-05-31T18:09:40.730Z"
   },
   {
    "duration": 73,
    "start_time": "2024-05-31T18:09:40.752Z"
   },
   {
    "duration": 62,
    "start_time": "2024-05-31T18:09:40.826Z"
   },
   {
    "duration": 63,
    "start_time": "2024-05-31T18:09:40.891Z"
   },
   {
    "duration": 36,
    "start_time": "2024-05-31T18:09:40.956Z"
   },
   {
    "duration": 28,
    "start_time": "2024-05-31T18:09:40.994Z"
   },
   {
    "duration": 37,
    "start_time": "2024-05-31T18:09:41.023Z"
   },
   {
    "duration": 10,
    "start_time": "2024-05-31T18:09:41.062Z"
   },
   {
    "duration": 9,
    "start_time": "2024-05-31T18:09:41.074Z"
   },
   {
    "duration": 28,
    "start_time": "2024-05-31T18:09:41.084Z"
   },
   {
    "duration": 16,
    "start_time": "2024-05-31T18:09:41.114Z"
   },
   {
    "duration": 13,
    "start_time": "2024-05-31T18:09:41.132Z"
   },
   {
    "duration": 28,
    "start_time": "2024-05-31T18:09:41.146Z"
   },
   {
    "duration": 11,
    "start_time": "2024-05-31T18:09:41.175Z"
   },
   {
    "duration": 28,
    "start_time": "2024-05-31T18:09:41.187Z"
   },
   {
    "duration": 12,
    "start_time": "2024-05-31T18:09:41.216Z"
   },
   {
    "duration": 6,
    "start_time": "2024-05-31T18:09:41.229Z"
   },
   {
    "duration": 19,
    "start_time": "2024-05-31T18:09:41.236Z"
   },
   {
    "duration": 15,
    "start_time": "2024-05-31T18:09:41.257Z"
   },
   {
    "duration": 52,
    "start_time": "2024-05-31T18:09:41.274Z"
   },
   {
    "duration": 0,
    "start_time": "2024-05-31T18:09:41.328Z"
   },
   {
    "duration": 0,
    "start_time": "2024-05-31T18:09:41.329Z"
   },
   {
    "duration": 0,
    "start_time": "2024-05-31T18:09:41.330Z"
   },
   {
    "duration": 0,
    "start_time": "2024-05-31T18:09:41.330Z"
   },
   {
    "duration": 0,
    "start_time": "2024-05-31T18:09:41.331Z"
   },
   {
    "duration": 0,
    "start_time": "2024-05-31T18:09:41.332Z"
   },
   {
    "duration": 0,
    "start_time": "2024-05-31T18:09:41.333Z"
   },
   {
    "duration": 0,
    "start_time": "2024-05-31T18:09:41.334Z"
   },
   {
    "duration": 3,
    "start_time": "2024-05-31T18:10:35.874Z"
   },
   {
    "duration": 171,
    "start_time": "2024-05-31T18:10:35.878Z"
   },
   {
    "duration": 5,
    "start_time": "2024-05-31T18:10:36.051Z"
   },
   {
    "duration": 50,
    "start_time": "2024-05-31T18:10:36.058Z"
   },
   {
    "duration": 2,
    "start_time": "2024-05-31T18:10:36.109Z"
   },
   {
    "duration": 7,
    "start_time": "2024-05-31T18:10:36.113Z"
   },
   {
    "duration": 19,
    "start_time": "2024-05-31T18:10:36.121Z"
   },
   {
    "duration": 2,
    "start_time": "2024-05-31T18:10:36.142Z"
   },
   {
    "duration": 23,
    "start_time": "2024-05-31T18:10:36.146Z"
   },
   {
    "duration": 15,
    "start_time": "2024-05-31T18:10:36.171Z"
   },
   {
    "duration": 28,
    "start_time": "2024-05-31T18:10:36.187Z"
   },
   {
    "duration": 85,
    "start_time": "2024-05-31T18:10:36.217Z"
   },
   {
    "duration": 69,
    "start_time": "2024-05-31T18:10:36.303Z"
   },
   {
    "duration": 61,
    "start_time": "2024-05-31T18:10:36.374Z"
   },
   {
    "duration": 38,
    "start_time": "2024-05-31T18:10:36.437Z"
   },
   {
    "duration": 13,
    "start_time": "2024-05-31T18:10:36.476Z"
   },
   {
    "duration": 54,
    "start_time": "2024-05-31T18:10:36.490Z"
   },
   {
    "duration": 10,
    "start_time": "2024-05-31T18:10:36.545Z"
   },
   {
    "duration": 20,
    "start_time": "2024-05-31T18:10:36.556Z"
   },
   {
    "duration": 8,
    "start_time": "2024-05-31T18:10:36.578Z"
   },
   {
    "duration": 28,
    "start_time": "2024-05-31T18:10:36.587Z"
   },
   {
    "duration": 13,
    "start_time": "2024-05-31T18:10:36.616Z"
   },
   {
    "duration": 12,
    "start_time": "2024-05-31T18:10:36.630Z"
   },
   {
    "duration": 11,
    "start_time": "2024-05-31T18:10:36.644Z"
   },
   {
    "duration": 14,
    "start_time": "2024-05-31T18:10:36.656Z"
   },
   {
    "duration": 40,
    "start_time": "2024-05-31T18:10:36.675Z"
   },
   {
    "duration": 6,
    "start_time": "2024-05-31T18:10:36.717Z"
   },
   {
    "duration": 25,
    "start_time": "2024-05-31T18:10:36.724Z"
   },
   {
    "duration": 20,
    "start_time": "2024-05-31T18:10:36.750Z"
   },
   {
    "duration": 55,
    "start_time": "2024-05-31T18:10:36.772Z"
   },
   {
    "duration": 0,
    "start_time": "2024-05-31T18:10:36.829Z"
   },
   {
    "duration": 0,
    "start_time": "2024-05-31T18:10:36.831Z"
   },
   {
    "duration": 0,
    "start_time": "2024-05-31T18:10:36.832Z"
   },
   {
    "duration": 0,
    "start_time": "2024-05-31T18:10:36.833Z"
   },
   {
    "duration": 0,
    "start_time": "2024-05-31T18:10:36.834Z"
   },
   {
    "duration": 0,
    "start_time": "2024-05-31T18:10:36.835Z"
   },
   {
    "duration": 0,
    "start_time": "2024-05-31T18:10:36.835Z"
   },
   {
    "duration": 0,
    "start_time": "2024-05-31T18:10:36.836Z"
   },
   {
    "duration": 3,
    "start_time": "2024-05-31T18:11:50.427Z"
   },
   {
    "duration": 162,
    "start_time": "2024-05-31T18:11:50.432Z"
   },
   {
    "duration": 6,
    "start_time": "2024-05-31T18:11:50.595Z"
   },
   {
    "duration": 33,
    "start_time": "2024-05-31T18:11:50.603Z"
   },
   {
    "duration": 17,
    "start_time": "2024-05-31T18:11:50.638Z"
   },
   {
    "duration": 10,
    "start_time": "2024-05-31T18:11:50.656Z"
   },
   {
    "duration": 27,
    "start_time": "2024-05-31T18:11:50.667Z"
   },
   {
    "duration": 13,
    "start_time": "2024-05-31T18:11:50.696Z"
   },
   {
    "duration": 24,
    "start_time": "2024-05-31T18:11:50.710Z"
   },
   {
    "duration": 20,
    "start_time": "2024-05-31T18:11:50.737Z"
   },
   {
    "duration": 35,
    "start_time": "2024-05-31T18:11:50.758Z"
   },
   {
    "duration": 73,
    "start_time": "2024-05-31T18:11:50.795Z"
   },
   {
    "duration": 75,
    "start_time": "2024-05-31T18:11:50.869Z"
   },
   {
    "duration": 52,
    "start_time": "2024-05-31T18:11:50.946Z"
   },
   {
    "duration": 44,
    "start_time": "2024-05-31T18:11:51.000Z"
   },
   {
    "duration": 12,
    "start_time": "2024-05-31T18:11:51.046Z"
   },
   {
    "duration": 63,
    "start_time": "2024-05-31T18:11:51.060Z"
   },
   {
    "duration": 10,
    "start_time": "2024-05-31T18:11:51.125Z"
   },
   {
    "duration": 35,
    "start_time": "2024-05-31T18:11:51.137Z"
   },
   {
    "duration": 42,
    "start_time": "2024-05-31T18:11:51.173Z"
   },
   {
    "duration": 15,
    "start_time": "2024-05-31T18:11:51.216Z"
   },
   {
    "duration": 12,
    "start_time": "2024-05-31T18:11:51.232Z"
   },
   {
    "duration": 12,
    "start_time": "2024-05-31T18:11:51.245Z"
   },
   {
    "duration": 29,
    "start_time": "2024-05-31T18:11:51.259Z"
   },
   {
    "duration": 32,
    "start_time": "2024-05-31T18:11:51.289Z"
   },
   {
    "duration": 17,
    "start_time": "2024-05-31T18:11:51.323Z"
   },
   {
    "duration": 8,
    "start_time": "2024-05-31T18:11:51.341Z"
   },
   {
    "duration": 28,
    "start_time": "2024-05-31T18:11:51.352Z"
   },
   {
    "duration": 18,
    "start_time": "2024-05-31T18:11:51.381Z"
   },
   {
    "duration": 51,
    "start_time": "2024-05-31T18:11:51.401Z"
   },
   {
    "duration": 0,
    "start_time": "2024-05-31T18:11:51.454Z"
   },
   {
    "duration": 0,
    "start_time": "2024-05-31T18:11:51.454Z"
   },
   {
    "duration": 0,
    "start_time": "2024-05-31T18:11:51.455Z"
   },
   {
    "duration": 0,
    "start_time": "2024-05-31T18:11:51.456Z"
   },
   {
    "duration": 0,
    "start_time": "2024-05-31T18:11:51.457Z"
   },
   {
    "duration": 0,
    "start_time": "2024-05-31T18:11:51.458Z"
   },
   {
    "duration": 0,
    "start_time": "2024-05-31T18:11:51.459Z"
   },
   {
    "duration": 0,
    "start_time": "2024-05-31T18:11:51.461Z"
   },
   {
    "duration": 2,
    "start_time": "2024-05-31T18:32:12.515Z"
   },
   {
    "duration": 175,
    "start_time": "2024-05-31T18:32:12.520Z"
   },
   {
    "duration": 6,
    "start_time": "2024-05-31T18:32:12.697Z"
   },
   {
    "duration": 37,
    "start_time": "2024-05-31T18:32:12.704Z"
   },
   {
    "duration": 17,
    "start_time": "2024-05-31T18:32:12.743Z"
   },
   {
    "duration": 15,
    "start_time": "2024-05-31T18:32:12.761Z"
   },
   {
    "duration": 16,
    "start_time": "2024-05-31T18:32:12.777Z"
   },
   {
    "duration": 22,
    "start_time": "2024-05-31T18:32:12.794Z"
   },
   {
    "duration": 43,
    "start_time": "2024-05-31T18:32:12.818Z"
   },
   {
    "duration": 23,
    "start_time": "2024-05-31T18:32:12.863Z"
   },
   {
    "duration": 23,
    "start_time": "2024-05-31T18:32:12.888Z"
   },
   {
    "duration": 78,
    "start_time": "2024-05-31T18:32:12.913Z"
   },
   {
    "duration": 78,
    "start_time": "2024-05-31T18:32:12.994Z"
   },
   {
    "duration": 66,
    "start_time": "2024-05-31T18:32:13.074Z"
   },
   {
    "duration": 42,
    "start_time": "2024-05-31T18:32:13.142Z"
   },
   {
    "duration": 34,
    "start_time": "2024-05-31T18:32:13.186Z"
   },
   {
    "duration": 43,
    "start_time": "2024-05-31T18:32:13.221Z"
   },
   {
    "duration": 12,
    "start_time": "2024-05-31T18:32:13.265Z"
   },
   {
    "duration": 25,
    "start_time": "2024-05-31T18:32:13.278Z"
   },
   {
    "duration": 3,
    "start_time": "2024-05-31T18:32:13.304Z"
   },
   {
    "duration": 18,
    "start_time": "2024-05-31T18:32:13.311Z"
   },
   {
    "duration": 13,
    "start_time": "2024-05-31T18:32:13.330Z"
   },
   {
    "duration": 14,
    "start_time": "2024-05-31T18:32:13.345Z"
   },
   {
    "duration": 11,
    "start_time": "2024-05-31T18:32:13.361Z"
   },
   {
    "duration": 49,
    "start_time": "2024-05-31T18:32:13.373Z"
   },
   {
    "duration": 18,
    "start_time": "2024-05-31T18:32:13.423Z"
   },
   {
    "duration": 14,
    "start_time": "2024-05-31T18:32:13.442Z"
   },
   {
    "duration": 14,
    "start_time": "2024-05-31T18:32:13.457Z"
   },
   {
    "duration": 26,
    "start_time": "2024-05-31T18:32:13.473Z"
   },
   {
    "duration": 10,
    "start_time": "2024-05-31T18:32:13.502Z"
   },
   {
    "duration": 7,
    "start_time": "2024-05-31T18:32:13.514Z"
   },
   {
    "duration": 7,
    "start_time": "2024-05-31T18:32:13.523Z"
   },
   {
    "duration": 9,
    "start_time": "2024-05-31T18:32:13.532Z"
   },
   {
    "duration": 4,
    "start_time": "2024-05-31T18:32:13.542Z"
   },
   {
    "duration": 3,
    "start_time": "2024-05-31T18:32:13.548Z"
   },
   {
    "duration": 6,
    "start_time": "2024-05-31T18:32:13.553Z"
   },
   {
    "duration": 4,
    "start_time": "2024-05-31T18:32:13.563Z"
   },
   {
    "duration": 6,
    "start_time": "2024-05-31T18:32:13.569Z"
   },
   {
    "duration": 3,
    "start_time": "2024-05-31T18:55:17.530Z"
   },
   {
    "duration": 164,
    "start_time": "2024-05-31T18:55:17.534Z"
   },
   {
    "duration": 6,
    "start_time": "2024-05-31T18:55:17.699Z"
   },
   {
    "duration": 35,
    "start_time": "2024-05-31T18:55:17.711Z"
   },
   {
    "duration": 3,
    "start_time": "2024-05-31T18:55:17.748Z"
   },
   {
    "duration": 28,
    "start_time": "2024-05-31T18:55:17.752Z"
   },
   {
    "duration": 10,
    "start_time": "2024-05-31T18:55:17.782Z"
   },
   {
    "duration": 6,
    "start_time": "2024-05-31T18:55:17.793Z"
   },
   {
    "duration": 31,
    "start_time": "2024-05-31T18:55:17.800Z"
   },
   {
    "duration": 31,
    "start_time": "2024-05-31T18:55:17.833Z"
   },
   {
    "duration": 35,
    "start_time": "2024-05-31T18:55:17.865Z"
   },
   {
    "duration": 63,
    "start_time": "2024-05-31T18:55:17.902Z"
   },
   {
    "duration": 70,
    "start_time": "2024-05-31T18:55:17.967Z"
   },
   {
    "duration": 55,
    "start_time": "2024-05-31T18:55:18.041Z"
   },
   {
    "duration": 50,
    "start_time": "2024-05-31T18:55:18.097Z"
   },
   {
    "duration": 13,
    "start_time": "2024-05-31T18:55:18.148Z"
   },
   {
    "duration": 54,
    "start_time": "2024-05-31T18:55:18.162Z"
   },
   {
    "duration": 10,
    "start_time": "2024-05-31T18:55:18.218Z"
   },
   {
    "duration": 17,
    "start_time": "2024-05-31T18:55:18.229Z"
   },
   {
    "duration": 3,
    "start_time": "2024-05-31T18:55:18.248Z"
   },
   {
    "duration": 17,
    "start_time": "2024-05-31T18:55:18.252Z"
   },
   {
    "duration": 21,
    "start_time": "2024-05-31T18:55:18.270Z"
   },
   {
    "duration": 22,
    "start_time": "2024-05-31T18:55:18.292Z"
   },
   {
    "duration": 11,
    "start_time": "2024-05-31T18:55:18.316Z"
   },
   {
    "duration": 13,
    "start_time": "2024-05-31T18:55:18.329Z"
   },
   {
    "duration": 13,
    "start_time": "2024-05-31T18:55:18.343Z"
   },
   {
    "duration": 5,
    "start_time": "2024-05-31T18:55:18.358Z"
   },
   {
    "duration": 27,
    "start_time": "2024-05-31T18:55:18.365Z"
   },
   {
    "duration": 26,
    "start_time": "2024-05-31T18:55:18.393Z"
   },
   {
    "duration": 15,
    "start_time": "2024-05-31T18:55:18.420Z"
   },
   {
    "duration": 20,
    "start_time": "2024-05-31T18:55:18.437Z"
   },
   {
    "duration": 23,
    "start_time": "2024-05-31T18:55:18.458Z"
   },
   {
    "duration": 15,
    "start_time": "2024-05-31T18:55:18.482Z"
   },
   {
    "duration": 9,
    "start_time": "2024-05-31T18:55:18.499Z"
   },
   {
    "duration": 3,
    "start_time": "2024-05-31T18:55:18.509Z"
   },
   {
    "duration": 4,
    "start_time": "2024-05-31T18:55:18.513Z"
   },
   {
    "duration": 9,
    "start_time": "2024-05-31T18:55:18.519Z"
   },
   {
    "duration": 3,
    "start_time": "2024-05-31T18:55:18.530Z"
   },
   {
    "duration": 2,
    "start_time": "2024-05-31T19:10:03.134Z"
   },
   {
    "duration": 162,
    "start_time": "2024-05-31T19:10:03.138Z"
   },
   {
    "duration": 6,
    "start_time": "2024-05-31T19:10:03.301Z"
   },
   {
    "duration": 69,
    "start_time": "2024-05-31T19:10:03.308Z"
   },
   {
    "duration": 9,
    "start_time": "2024-05-31T19:10:03.378Z"
   },
   {
    "duration": 3,
    "start_time": "2024-05-31T19:10:04.015Z"
   },
   {
    "duration": 20,
    "start_time": "2024-05-31T19:10:04.019Z"
   },
   {
    "duration": 17,
    "start_time": "2024-05-31T19:10:04.040Z"
   },
   {
    "duration": 29,
    "start_time": "2024-05-31T19:10:04.058Z"
   },
   {
    "duration": 23,
    "start_time": "2024-05-31T19:10:04.089Z"
   },
   {
    "duration": 27,
    "start_time": "2024-05-31T19:10:04.114Z"
   },
   {
    "duration": 71,
    "start_time": "2024-05-31T19:10:04.142Z"
   },
   {
    "duration": 69,
    "start_time": "2024-05-31T19:10:04.215Z"
   },
   {
    "duration": 62,
    "start_time": "2024-05-31T19:10:04.286Z"
   },
   {
    "duration": 37,
    "start_time": "2024-05-31T19:10:04.350Z"
   },
   {
    "duration": 30,
    "start_time": "2024-05-31T19:10:04.389Z"
   },
   {
    "duration": 38,
    "start_time": "2024-05-31T19:10:04.420Z"
   },
   {
    "duration": 9,
    "start_time": "2024-05-31T19:10:04.460Z"
   },
   {
    "duration": 15,
    "start_time": "2024-05-31T19:10:04.472Z"
   },
   {
    "duration": 42,
    "start_time": "2024-05-31T19:10:04.488Z"
   },
   {
    "duration": 29,
    "start_time": "2024-05-31T19:10:04.531Z"
   },
   {
    "duration": 14,
    "start_time": "2024-05-31T19:10:04.562Z"
   },
   {
    "duration": 19,
    "start_time": "2024-05-31T19:10:04.577Z"
   },
   {
    "duration": 11,
    "start_time": "2024-05-31T19:10:04.598Z"
   },
   {
    "duration": 17,
    "start_time": "2024-05-31T19:10:04.610Z"
   },
   {
    "duration": 11,
    "start_time": "2024-05-31T19:10:04.629Z"
   },
   {
    "duration": 12,
    "start_time": "2024-05-31T19:10:04.642Z"
   },
   {
    "duration": 23,
    "start_time": "2024-05-31T19:10:04.655Z"
   },
   {
    "duration": 13,
    "start_time": "2024-05-31T19:10:04.679Z"
   },
   {
    "duration": 4,
    "start_time": "2024-05-31T19:10:04.694Z"
   },
   {
    "duration": 22,
    "start_time": "2024-05-31T19:10:04.700Z"
   },
   {
    "duration": 26,
    "start_time": "2024-05-31T19:10:04.723Z"
   },
   {
    "duration": 16,
    "start_time": "2024-05-31T19:10:04.751Z"
   },
   {
    "duration": 9,
    "start_time": "2024-05-31T19:10:04.768Z"
   },
   {
    "duration": 10,
    "start_time": "2024-05-31T19:10:04.779Z"
   },
   {
    "duration": 8,
    "start_time": "2024-05-31T19:10:04.791Z"
   },
   {
    "duration": 20,
    "start_time": "2024-05-31T19:10:04.801Z"
   },
   {
    "duration": 15,
    "start_time": "2024-05-31T19:10:04.822Z"
   },
   {
    "duration": 3,
    "start_time": "2024-05-31T19:16:28.672Z"
   },
   {
    "duration": 154,
    "start_time": "2024-05-31T19:16:28.676Z"
   },
   {
    "duration": 5,
    "start_time": "2024-05-31T19:16:28.832Z"
   },
   {
    "duration": 26,
    "start_time": "2024-05-31T19:16:28.839Z"
   },
   {
    "duration": 8,
    "start_time": "2024-05-31T19:16:28.866Z"
   },
   {
    "duration": 7,
    "start_time": "2024-05-31T19:16:28.875Z"
   },
   {
    "duration": 17,
    "start_time": "2024-05-31T19:16:28.883Z"
   },
   {
    "duration": 12,
    "start_time": "2024-05-31T19:16:28.901Z"
   },
   {
    "duration": 34,
    "start_time": "2024-05-31T19:16:28.916Z"
   },
   {
    "duration": 34,
    "start_time": "2024-05-31T19:16:28.951Z"
   },
   {
    "duration": 23,
    "start_time": "2024-05-31T19:16:28.986Z"
   },
   {
    "duration": 59,
    "start_time": "2024-05-31T19:16:29.011Z"
   },
   {
    "duration": 76,
    "start_time": "2024-05-31T19:16:29.071Z"
   },
   {
    "duration": 54,
    "start_time": "2024-05-31T19:16:29.148Z"
   },
   {
    "duration": 38,
    "start_time": "2024-05-31T19:16:29.212Z"
   },
   {
    "duration": 13,
    "start_time": "2024-05-31T19:16:29.251Z"
   },
   {
    "duration": 57,
    "start_time": "2024-05-31T19:16:29.265Z"
   },
   {
    "duration": 10,
    "start_time": "2024-05-31T19:16:29.323Z"
   },
   {
    "duration": 48,
    "start_time": "2024-05-31T19:16:29.335Z"
   },
   {
    "duration": 16,
    "start_time": "2024-05-31T19:16:29.384Z"
   },
   {
    "duration": 16,
    "start_time": "2024-05-31T19:16:29.401Z"
   },
   {
    "duration": 11,
    "start_time": "2024-05-31T19:16:29.419Z"
   },
   {
    "duration": 13,
    "start_time": "2024-05-31T19:16:29.431Z"
   },
   {
    "duration": 11,
    "start_time": "2024-05-31T19:16:29.447Z"
   },
   {
    "duration": 14,
    "start_time": "2024-05-31T19:16:29.460Z"
   },
   {
    "duration": 44,
    "start_time": "2024-05-31T19:16:29.475Z"
   },
   {
    "duration": 6,
    "start_time": "2024-05-31T19:16:29.521Z"
   },
   {
    "duration": 15,
    "start_time": "2024-05-31T19:16:29.529Z"
   },
   {
    "duration": 11,
    "start_time": "2024-05-31T19:16:29.545Z"
   },
   {
    "duration": 4,
    "start_time": "2024-05-31T19:16:29.557Z"
   },
   {
    "duration": 17,
    "start_time": "2024-05-31T19:16:29.563Z"
   },
   {
    "duration": 10,
    "start_time": "2024-05-31T19:16:29.612Z"
   },
   {
    "duration": 16,
    "start_time": "2024-05-31T19:16:29.623Z"
   },
   {
    "duration": 11,
    "start_time": "2024-05-31T19:16:29.640Z"
   },
   {
    "duration": 10,
    "start_time": "2024-05-31T19:16:29.653Z"
   },
   {
    "duration": 3,
    "start_time": "2024-05-31T19:16:29.664Z"
   },
   {
    "duration": 6,
    "start_time": "2024-05-31T19:16:29.668Z"
   },
   {
    "duration": 3,
    "start_time": "2024-05-31T19:16:29.675Z"
   },
   {
    "duration": 4418,
    "start_time": "2024-09-23T16:45:19.678Z"
   },
   {
    "duration": 3,
    "start_time": "2024-09-23T16:45:26.918Z"
   },
   {
    "duration": 3,
    "start_time": "2024-09-23T16:45:29.333Z"
   },
   {
    "duration": 8085,
    "start_time": "2024-09-23T16:45:32.359Z"
   },
   {
    "duration": 3,
    "start_time": "2024-09-23T16:45:40.446Z"
   },
   {
    "duration": 563,
    "start_time": "2024-09-23T16:45:40.450Z"
   },
   {
    "duration": 9,
    "start_time": "2024-09-23T16:45:41.015Z"
   },
   {
    "duration": 1201,
    "start_time": "2024-09-23T16:45:47.176Z"
   }
  ],
  "celltoolbar": "Отсутствует",
  "colab": {
   "collapsed_sections": [
    "E0vqbgi9ay0H",
    "VUC88oWjTJw2"
   ],
   "provenance": []
  },
  "kernelspec": {
   "display_name": "Python 3 (ipykernel)",
   "language": "python",
   "name": "python3"
  },
  "language_info": {
   "codemirror_mode": {
    "name": "ipython",
    "version": 3
   },
   "file_extension": ".py",
   "mimetype": "text/x-python",
   "name": "python",
   "nbconvert_exporter": "python",
   "pygments_lexer": "ipython3",
   "version": "3.11.7"
  },
  "toc": {
   "base_numbering": 1,
   "nav_menu": {
    "height": "215px",
    "width": "403px"
   },
   "number_sections": true,
   "sideBar": true,
   "skip_h1_title": true,
   "title_cell": "Table of Contents",
   "title_sidebar": "Contents",
   "toc_cell": false,
   "toc_position": {
    "height": "calc(100% - 180px)",
    "left": "10px",
    "top": "150px",
    "width": "285.825px"
   },
   "toc_section_display": true,
   "toc_window_display": false
  }
 },
 "nbformat": 4,
 "nbformat_minor": 4
}
