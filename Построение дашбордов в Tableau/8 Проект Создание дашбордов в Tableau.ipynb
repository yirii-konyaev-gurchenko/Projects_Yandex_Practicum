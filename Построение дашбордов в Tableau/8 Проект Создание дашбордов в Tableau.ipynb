{
 "cells": [
  {
   "cell_type": "markdown",
   "id": "0e8f0821",
   "metadata": {},
   "source": [
    "# Проект  Построение дашбордов в Tableau #"
   ]
  },
  {
   "cell_type": "markdown",
   "id": "e0633214",
   "metadata": {},
   "source": [
    "**Описание**\n",
    "\n",
    "TED (от англ. technology, education, design — «технологии, образование, дизайн») — некоммерческий фонд, который проводит популярные конференции. На них выступают специалисты из разных областей и читают лекции на актуальные социальные, культурные и научные темы. \n",
    "В разное время на TED-конференциях выступали математик Бенуа Мандельброт, теоретик искусственного интеллекта Марвин Минский, спортсменка Дана Ньяд и основатель Google Ларри Пейдж. В истории TED также были неоднозначные и даже скандальные выступления. Например, в 2010 году на конференции выступил Рэнди Пауэлл с рассказом о псевдонаучной «вихревой математике», а в 2014 году в конференции TEDMED участвовала Элизабет Холмс — основательница печально известного стартапа Theranos.\n",
    "\n",
    "**Цель**\n",
    "\n",
    "Исследовать историю TED-конференций с помощью Tableau.\n",
    "\n",
    "**Задачи:**\n",
    "\n",
    "1. Создать дашборды на основе данных о конференциях TED. \n",
    "2. Готовую работу  опубликуем на сайте Tableau Public.\n",
    "\n",
    "**Описание данных**\n",
    "\n",
    "Представлены данные:\n",
    "1. tableau_project_data_1.csv\n",
    "2. tableau_project_data_2.csv\n",
    "3. tableau_project_data_3.csv\n",
    "4. tableau_project_event_dict.csv\n",
    "5. tableau_project_speakers_dict.csv\n",
    "\n",
    "Файлы tableau_project_data_1.csv, tableau_project_data_2.csv, tableau_project_data_3.csv хранят данные выступлений. У них одинаковая структура:\n",
    "•\ttalk_id — идентификатор выступления;\n",
    "•\turl — ссылка на запись выступления;\n",
    "•\ttitle — название выступления;\n",
    "•\tdescription — краткое описание;\n",
    "•\tfilm_date — дата записи выступления;\n",
    "•\tduration — длительность в секундах;\n",
    "•\tviews — количество просмотров;\n",
    "•\tmain_tag — основная категория, к которой относится выступление;\n",
    "•\tspeaker_id — уникальный идентификатор автора выступления;\n",
    "•\tlaughter_count — количество раз, когда аудитория смеялась в ходе выступления;\n",
    "•\tapplause_count — количество раз, когда аудитория аплодировала в ходе выступления;\n",
    "•\tlanguage — язык, на котором велось выступление;\n",
    "•\tevent_id — уникальный идентификатор конференции.\n",
    "Файл tableau_project_event_dict.csv — справочник конференций. Описание таблицы:\n",
    "•\tconf_id — уникальный идентификатор конференции;\n",
    "•\tevent — название конференции;\n",
    "•\tcountry — страна проведения конференции.\n",
    "Файл tableau_project_speakers_dict.csv — справочник авторов выступления. Описание таблицы:\n",
    "•\tauthor_id — уникальный идентификатор автора выступления;\n",
    "•\tspeaker_name — имя автора;\n",
    "•\tspeaker_occupation — профессиональная область автора;\n",
    "•\tspeaker_description — описание профессиональной деятельности автора.\n",
    "Набор данных проекта мог вам напомнить известный датасет TED Talks, размещённый в библиотеке Kaggle. Он не является его копией: мы собрали данные на основе материалов сайта TED с помощью специальной программы.\n",
    "\n",
    "**Порядок работы**\n",
    "\n",
    "Построение визуализаций представленных данных в виде дашбордов с помощью программы Tableau.\n",
    "\n"
   ]
  },
  {
   "cell_type": "markdown",
   "id": "56f0082b",
   "metadata": {},
   "source": [
    "Ссылка на дашборд: https://public.tableau.com/app/profile/.65851180/viz/Tableau2_17323644615100/Story1"
   ]
  }
 ],
 "metadata": {
  "ExecuteTimeLog": [
   {
    "duration": 74,
    "start_time": "2024-11-22T16:20:58.838Z"
   }
  ],
  "kernelspec": {
   "display_name": "Python 3 (ipykernel)",
   "language": "python",
   "name": "python3"
  },
  "language_info": {
   "codemirror_mode": {
    "name": "ipython",
    "version": 3
   },
   "file_extension": ".py",
   "mimetype": "text/x-python",
   "name": "python",
   "nbconvert_exporter": "python",
   "pygments_lexer": "ipython3",
   "version": "3.11.7"
  },
  "toc": {
   "base_numbering": 1,
   "nav_menu": {},
   "number_sections": true,
   "sideBar": true,
   "skip_h1_title": true,
   "title_cell": "Table of Contents",
   "title_sidebar": "Contents",
   "toc_cell": false,
   "toc_position": {},
   "toc_section_display": true,
   "toc_window_display": false
  }
 },
 "nbformat": 4,
 "nbformat_minor": 5
}
