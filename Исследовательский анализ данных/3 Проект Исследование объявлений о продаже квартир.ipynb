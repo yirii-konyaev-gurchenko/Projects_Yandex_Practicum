{
 "cells": [
  {
   "cell_type": "markdown",
   "metadata": {
    "id": "-VFbjcb3Awb7"
   },
   "source": [
    "# Исследование объявлений о продаже квартир\n",
    "\n",
    "В вашем распоряжении данные сервиса Яндекс Недвижимость — архив объявлений о продаже квартир в Санкт-Петербурге и соседних населённых пунктах за несколько лет. Вам нужно научиться определять рыночную стоимость объектов недвижимости. Для этого проведите исследовательский анализ данных и установите параметры, влияющие на цену объектов. Это позволит построить автоматизированную систему: она отследит аномалии и мошенническую деятельность.\n",
    "\n",
    "По каждой квартире на продажу доступны два вида данных. Первые вписаны пользователем, вторые — получены автоматически на основе картографических данных. Например, расстояние до центра, аэропорта и других объектов — эти данные автоматически получены из геосервисов. Количество парков и водоёмов также заполняется без участия пользователя."
   ]
  },
  {
   "cell_type": "markdown",
   "metadata": {
    "id": "aeFLH07FAwb9"
   },
   "source": [
    "### Откройте файл с данными и изучите общую информацию"
   ]
  },
  {
   "cell_type": "markdown",
   "metadata": {},
   "source": [
    "**Импортируем библиотеки**"
   ]
  },
  {
   "cell_type": "code",
   "execution_count": 1,
   "metadata": {},
   "outputs": [],
   "source": [
    "import pandas as pd\n",
    "import numpy as np\n",
    "import matplotlib.pyplot as plt"
   ]
  },
  {
   "cell_type": "code",
   "execution_count": 2,
   "metadata": {
    "id": "7MZxY65pAwb9"
   },
   "outputs": [
    {
     "data": {
      "text/html": [
       "<div>\n",
       "<style scoped>\n",
       "    .dataframe tbody tr th:only-of-type {\n",
       "        vertical-align: middle;\n",
       "    }\n",
       "\n",
       "    .dataframe tbody tr th {\n",
       "        vertical-align: top;\n",
       "    }\n",
       "\n",
       "    .dataframe thead th {\n",
       "        text-align: right;\n",
       "    }\n",
       "</style>\n",
       "<table border=\"1\" class=\"dataframe\">\n",
       "  <thead>\n",
       "    <tr style=\"text-align: right;\">\n",
       "      <th></th>\n",
       "      <th>total_images</th>\n",
       "      <th>last_price</th>\n",
       "      <th>total_area</th>\n",
       "      <th>first_day_exposition</th>\n",
       "      <th>rooms</th>\n",
       "      <th>ceiling_height</th>\n",
       "      <th>floors_total</th>\n",
       "      <th>living_area</th>\n",
       "      <th>floor</th>\n",
       "      <th>is_apartment</th>\n",
       "      <th>studio</th>\n",
       "      <th>open_plan</th>\n",
       "      <th>kitchen_area</th>\n",
       "      <th>balcony</th>\n",
       "      <th>locality_name</th>\n",
       "      <th>airports_nearest</th>\n",
       "      <th>cityCenters_nearest</th>\n",
       "      <th>parks_around3000</th>\n",
       "      <th>parks_nearest</th>\n",
       "      <th>ponds_around3000</th>\n",
       "      <th>ponds_nearest</th>\n",
       "      <th>days_exposition</th>\n",
       "    </tr>\n",
       "  </thead>\n",
       "  <tbody>\n",
       "    <tr>\n",
       "      <th>0</th>\n",
       "      <td>20</td>\n",
       "      <td>13000000.00</td>\n",
       "      <td>108.00</td>\n",
       "      <td>2019-03-07T00:00:00</td>\n",
       "      <td>3</td>\n",
       "      <td>2.70</td>\n",
       "      <td>16.00</td>\n",
       "      <td>51.00</td>\n",
       "      <td>8</td>\n",
       "      <td>NaN</td>\n",
       "      <td>False</td>\n",
       "      <td>False</td>\n",
       "      <td>25.00</td>\n",
       "      <td>NaN</td>\n",
       "      <td>Санкт-Петербург</td>\n",
       "      <td>18863.00</td>\n",
       "      <td>16028.00</td>\n",
       "      <td>1.00</td>\n",
       "      <td>482.00</td>\n",
       "      <td>2.00</td>\n",
       "      <td>755.00</td>\n",
       "      <td>NaN</td>\n",
       "    </tr>\n",
       "    <tr>\n",
       "      <th>1</th>\n",
       "      <td>7</td>\n",
       "      <td>3350000.00</td>\n",
       "      <td>40.40</td>\n",
       "      <td>2018-12-04T00:00:00</td>\n",
       "      <td>1</td>\n",
       "      <td>NaN</td>\n",
       "      <td>11.00</td>\n",
       "      <td>18.60</td>\n",
       "      <td>1</td>\n",
       "      <td>NaN</td>\n",
       "      <td>False</td>\n",
       "      <td>False</td>\n",
       "      <td>11.00</td>\n",
       "      <td>2.00</td>\n",
       "      <td>посёлок Шушары</td>\n",
       "      <td>12817.00</td>\n",
       "      <td>18603.00</td>\n",
       "      <td>0.00</td>\n",
       "      <td>NaN</td>\n",
       "      <td>0.00</td>\n",
       "      <td>NaN</td>\n",
       "      <td>81.00</td>\n",
       "    </tr>\n",
       "    <tr>\n",
       "      <th>2</th>\n",
       "      <td>10</td>\n",
       "      <td>5196000.00</td>\n",
       "      <td>56.00</td>\n",
       "      <td>2015-08-20T00:00:00</td>\n",
       "      <td>2</td>\n",
       "      <td>NaN</td>\n",
       "      <td>5.00</td>\n",
       "      <td>34.30</td>\n",
       "      <td>4</td>\n",
       "      <td>NaN</td>\n",
       "      <td>False</td>\n",
       "      <td>False</td>\n",
       "      <td>8.30</td>\n",
       "      <td>0.00</td>\n",
       "      <td>Санкт-Петербург</td>\n",
       "      <td>21741.00</td>\n",
       "      <td>13933.00</td>\n",
       "      <td>1.00</td>\n",
       "      <td>90.00</td>\n",
       "      <td>2.00</td>\n",
       "      <td>574.00</td>\n",
       "      <td>558.00</td>\n",
       "    </tr>\n",
       "    <tr>\n",
       "      <th>3</th>\n",
       "      <td>0</td>\n",
       "      <td>64900000.00</td>\n",
       "      <td>159.00</td>\n",
       "      <td>2015-07-24T00:00:00</td>\n",
       "      <td>3</td>\n",
       "      <td>NaN</td>\n",
       "      <td>14.00</td>\n",
       "      <td>NaN</td>\n",
       "      <td>9</td>\n",
       "      <td>NaN</td>\n",
       "      <td>False</td>\n",
       "      <td>False</td>\n",
       "      <td>NaN</td>\n",
       "      <td>0.00</td>\n",
       "      <td>Санкт-Петербург</td>\n",
       "      <td>28098.00</td>\n",
       "      <td>6800.00</td>\n",
       "      <td>2.00</td>\n",
       "      <td>84.00</td>\n",
       "      <td>3.00</td>\n",
       "      <td>234.00</td>\n",
       "      <td>424.00</td>\n",
       "    </tr>\n",
       "    <tr>\n",
       "      <th>4</th>\n",
       "      <td>2</td>\n",
       "      <td>10000000.00</td>\n",
       "      <td>100.00</td>\n",
       "      <td>2018-06-19T00:00:00</td>\n",
       "      <td>2</td>\n",
       "      <td>3.03</td>\n",
       "      <td>14.00</td>\n",
       "      <td>32.00</td>\n",
       "      <td>13</td>\n",
       "      <td>NaN</td>\n",
       "      <td>False</td>\n",
       "      <td>False</td>\n",
       "      <td>41.00</td>\n",
       "      <td>NaN</td>\n",
       "      <td>Санкт-Петербург</td>\n",
       "      <td>31856.00</td>\n",
       "      <td>8098.00</td>\n",
       "      <td>2.00</td>\n",
       "      <td>112.00</td>\n",
       "      <td>1.00</td>\n",
       "      <td>48.00</td>\n",
       "      <td>121.00</td>\n",
       "    </tr>\n",
       "    <tr>\n",
       "      <th>5</th>\n",
       "      <td>10</td>\n",
       "      <td>2890000.00</td>\n",
       "      <td>30.40</td>\n",
       "      <td>2018-09-10T00:00:00</td>\n",
       "      <td>1</td>\n",
       "      <td>NaN</td>\n",
       "      <td>12.00</td>\n",
       "      <td>14.40</td>\n",
       "      <td>5</td>\n",
       "      <td>NaN</td>\n",
       "      <td>False</td>\n",
       "      <td>False</td>\n",
       "      <td>9.10</td>\n",
       "      <td>NaN</td>\n",
       "      <td>городской посёлок Янино-1</td>\n",
       "      <td>NaN</td>\n",
       "      <td>NaN</td>\n",
       "      <td>NaN</td>\n",
       "      <td>NaN</td>\n",
       "      <td>NaN</td>\n",
       "      <td>NaN</td>\n",
       "      <td>55.00</td>\n",
       "    </tr>\n",
       "    <tr>\n",
       "      <th>6</th>\n",
       "      <td>6</td>\n",
       "      <td>3700000.00</td>\n",
       "      <td>37.30</td>\n",
       "      <td>2017-11-02T00:00:00</td>\n",
       "      <td>1</td>\n",
       "      <td>NaN</td>\n",
       "      <td>26.00</td>\n",
       "      <td>10.60</td>\n",
       "      <td>6</td>\n",
       "      <td>NaN</td>\n",
       "      <td>False</td>\n",
       "      <td>False</td>\n",
       "      <td>14.40</td>\n",
       "      <td>1.00</td>\n",
       "      <td>посёлок Парголово</td>\n",
       "      <td>52996.00</td>\n",
       "      <td>19143.00</td>\n",
       "      <td>0.00</td>\n",
       "      <td>NaN</td>\n",
       "      <td>0.00</td>\n",
       "      <td>NaN</td>\n",
       "      <td>155.00</td>\n",
       "    </tr>\n",
       "    <tr>\n",
       "      <th>7</th>\n",
       "      <td>5</td>\n",
       "      <td>7915000.00</td>\n",
       "      <td>71.60</td>\n",
       "      <td>2019-04-18T00:00:00</td>\n",
       "      <td>2</td>\n",
       "      <td>NaN</td>\n",
       "      <td>24.00</td>\n",
       "      <td>NaN</td>\n",
       "      <td>22</td>\n",
       "      <td>NaN</td>\n",
       "      <td>False</td>\n",
       "      <td>False</td>\n",
       "      <td>18.90</td>\n",
       "      <td>2.00</td>\n",
       "      <td>Санкт-Петербург</td>\n",
       "      <td>23982.00</td>\n",
       "      <td>11634.00</td>\n",
       "      <td>0.00</td>\n",
       "      <td>NaN</td>\n",
       "      <td>0.00</td>\n",
       "      <td>NaN</td>\n",
       "      <td>NaN</td>\n",
       "    </tr>\n",
       "  </tbody>\n",
       "</table>\n",
       "</div>"
      ],
      "text/plain": [
       "   total_images  last_price  total_area first_day_exposition  rooms  \\\n",
       "0            20 13000000.00      108.00  2019-03-07T00:00:00      3   \n",
       "1             7  3350000.00       40.40  2018-12-04T00:00:00      1   \n",
       "2            10  5196000.00       56.00  2015-08-20T00:00:00      2   \n",
       "3             0 64900000.00      159.00  2015-07-24T00:00:00      3   \n",
       "4             2 10000000.00      100.00  2018-06-19T00:00:00      2   \n",
       "5            10  2890000.00       30.40  2018-09-10T00:00:00      1   \n",
       "6             6  3700000.00       37.30  2017-11-02T00:00:00      1   \n",
       "7             5  7915000.00       71.60  2019-04-18T00:00:00      2   \n",
       "\n",
       "   ceiling_height  floors_total  living_area  floor is_apartment  studio  \\\n",
       "0            2.70         16.00        51.00      8          NaN   False   \n",
       "1             NaN         11.00        18.60      1          NaN   False   \n",
       "2             NaN          5.00        34.30      4          NaN   False   \n",
       "3             NaN         14.00          NaN      9          NaN   False   \n",
       "4            3.03         14.00        32.00     13          NaN   False   \n",
       "5             NaN         12.00        14.40      5          NaN   False   \n",
       "6             NaN         26.00        10.60      6          NaN   False   \n",
       "7             NaN         24.00          NaN     22          NaN   False   \n",
       "\n",
       "   open_plan  kitchen_area  balcony              locality_name  \\\n",
       "0      False         25.00      NaN            Санкт-Петербург   \n",
       "1      False         11.00     2.00             посёлок Шушары   \n",
       "2      False          8.30     0.00            Санкт-Петербург   \n",
       "3      False           NaN     0.00            Санкт-Петербург   \n",
       "4      False         41.00      NaN            Санкт-Петербург   \n",
       "5      False          9.10      NaN  городской посёлок Янино-1   \n",
       "6      False         14.40     1.00          посёлок Парголово   \n",
       "7      False         18.90     2.00            Санкт-Петербург   \n",
       "\n",
       "   airports_nearest  cityCenters_nearest  parks_around3000  parks_nearest  \\\n",
       "0          18863.00             16028.00              1.00         482.00   \n",
       "1          12817.00             18603.00              0.00            NaN   \n",
       "2          21741.00             13933.00              1.00          90.00   \n",
       "3          28098.00              6800.00              2.00          84.00   \n",
       "4          31856.00              8098.00              2.00         112.00   \n",
       "5               NaN                  NaN               NaN            NaN   \n",
       "6          52996.00             19143.00              0.00            NaN   \n",
       "7          23982.00             11634.00              0.00            NaN   \n",
       "\n",
       "   ponds_around3000  ponds_nearest  days_exposition  \n",
       "0              2.00         755.00              NaN  \n",
       "1              0.00            NaN            81.00  \n",
       "2              2.00         574.00           558.00  \n",
       "3              3.00         234.00           424.00  \n",
       "4              1.00          48.00           121.00  \n",
       "5               NaN            NaN            55.00  \n",
       "6              0.00            NaN           155.00  \n",
       "7              0.00            NaN              NaN  "
      ]
     },
     "execution_count": 2,
     "metadata": {},
     "output_type": "execute_result"
    }
   ],
   "source": [
    "pd.set_option('display.max_columns', 30) \n",
    "pd.set_option(\"display.float_format\", \"{:.2f}\".format)\n",
    "df = pd.read_csv('/datasets/real_estate_data.csv', sep='\\t')\n",
    "df.head(8)"
   ]
  },
  {
   "cell_type": "markdown",
   "metadata": {},
   "source": [
    "**Выводим информацию о данных фрейма**"
   ]
  },
  {
   "cell_type": "code",
   "execution_count": 3,
   "metadata": {},
   "outputs": [
    {
     "name": "stdout",
     "output_type": "stream",
     "text": [
      "<class 'pandas.core.frame.DataFrame'>\n",
      "RangeIndex: 23699 entries, 0 to 23698\n",
      "Data columns (total 22 columns):\n",
      " #   Column                Non-Null Count  Dtype  \n",
      "---  ------                --------------  -----  \n",
      " 0   total_images          23699 non-null  int64  \n",
      " 1   last_price            23699 non-null  float64\n",
      " 2   total_area            23699 non-null  float64\n",
      " 3   first_day_exposition  23699 non-null  object \n",
      " 4   rooms                 23699 non-null  int64  \n",
      " 5   ceiling_height        14504 non-null  float64\n",
      " 6   floors_total          23613 non-null  float64\n",
      " 7   living_area           21796 non-null  float64\n",
      " 8   floor                 23699 non-null  int64  \n",
      " 9   is_apartment          2775 non-null   object \n",
      " 10  studio                23699 non-null  bool   \n",
      " 11  open_plan             23699 non-null  bool   \n",
      " 12  kitchen_area          21421 non-null  float64\n",
      " 13  balcony               12180 non-null  float64\n",
      " 14  locality_name         23650 non-null  object \n",
      " 15  airports_nearest      18157 non-null  float64\n",
      " 16  cityCenters_nearest   18180 non-null  float64\n",
      " 17  parks_around3000      18181 non-null  float64\n",
      " 18  parks_nearest         8079 non-null   float64\n",
      " 19  ponds_around3000      18181 non-null  float64\n",
      " 20  ponds_nearest         9110 non-null   float64\n",
      " 21  days_exposition       20518 non-null  float64\n",
      "dtypes: bool(2), float64(14), int64(3), object(3)\n",
      "memory usage: 3.7+ MB\n"
     ]
    }
   ],
   "source": [
    "df.info()"
   ]
  },
  {
   "cell_type": "code",
   "execution_count": 4,
   "metadata": {},
   "outputs": [
    {
     "data": {
      "text/plain": [
       "0"
      ]
     },
     "execution_count": 4,
     "metadata": {},
     "output_type": "execute_result"
    }
   ],
   "source": [
    "#Проверяем наличие явных дубликатов в DateFrame\n",
    "df.duplicated().sum()"
   ]
  },
  {
   "cell_type": "code",
   "execution_count": 5,
   "metadata": {},
   "outputs": [
    {
     "data": {
      "image/png": "[encoded data removed]",
      "text/plain": [
       "<Figure size 1080x1440 with 20 Axes>"
      ]
     },
     "metadata": {
      "needs_background": "light"
     },
     "output_type": "display_data"
    }
   ],
   "source": [
    "#Построим гистограмму для всех числовых столбцов таблицы\n",
    "df.hist(figsize=(15,20));"
   ]
  },
  {
   "cell_type": "markdown",
   "metadata": {},
   "source": [
    "**Вывод:**\n",
    "\n",
    "В общей информации о данных 23699 записей. \n",
    "В столбцах есть пропуски и некорректные типы данных. \n",
    "Дубликаты отсутствуют. \n",
    "На нескольких гистограммах есть выбросы."
   ]
  },
  {
   "cell_type": "markdown",
   "metadata": {
    "id": "-O5NtivEAwb9"
   },
   "source": [
    "### Выполните предобработку данных"
   ]
  },
  {
   "cell_type": "markdown",
   "metadata": {},
   "source": [
    "**Найдем пропуски в данных**"
   ]
  },
  {
   "cell_type": "code",
   "execution_count": 6,
   "metadata": {
    "id": "7v3vAeTuAwb-"
   },
   "outputs": [
    {
     "data": {
      "text/plain": [
       "total_images                0\n",
       "last_price                  0\n",
       "total_area                  0\n",
       "first_day_exposition        0\n",
       "rooms                       0\n",
       "ceiling_height           9195\n",
       "floors_total               86\n",
       "living_area              1903\n",
       "floor                       0\n",
       "is_apartment            20924\n",
       "studio                      0\n",
       "open_plan                   0\n",
       "kitchen_area             2278\n",
       "balcony                 11519\n",
       "locality_name              49\n",
       "airports_nearest         5542\n",
       "cityCenters_nearest      5519\n",
       "parks_around3000         5518\n",
       "parks_nearest           15620\n",
       "ponds_around3000         5518\n",
       "ponds_nearest           14589\n",
       "days_exposition          3181\n",
       "dtype: int64"
      ]
     },
     "execution_count": 6,
     "metadata": {},
     "output_type": "execute_result"
    }
   ],
   "source": [
    "df.isna().sum()"
   ]
  },
  {
   "cell_type": "markdown",
   "metadata": {},
   "source": [
    "**Заменим некорректные названия**"
   ]
  },
  {
   "cell_type": "code",
   "execution_count": 7,
   "metadata": {},
   "outputs": [
    {
     "data": {
      "text/plain": [
       "Index(['total_images', 'last_price', 'total_area', 'first_day_exposition',\n",
       "       'rooms', 'ceiling_height', 'floors_total', 'living_area', 'floor',\n",
       "       'is_apartment', 'studio', 'open_plan', 'kitchen_area', 'balcony',\n",
       "       'locality_name', 'airports_nearest', 'city_centers_nearest',\n",
       "       'parks_around3000', 'parks_nearest', 'ponds_around3000',\n",
       "       'ponds_nearest', 'days_exposition'],\n",
       "      dtype='object')"
      ]
     },
     "execution_count": 7,
     "metadata": {},
     "output_type": "execute_result"
    }
   ],
   "source": [
    "# переименуем столбец с Заглавной буквой\n",
    "df = df.rename(columns = {'cityCenters_nearest':'city_centers_nearest'})\n",
    "df.columns"
   ]
  },
  {
   "cell_type": "markdown",
   "metadata": {},
   "source": [
    "Изменим регистр в название столбца - для стиля написания "
   ]
  },
  {
   "cell_type": "code",
   "execution_count": 8,
   "metadata": {},
   "outputs": [
    {
     "data": {
      "text/plain": [
       "0        13000000\n",
       "1         3350000\n",
       "2         5196000\n",
       "3        64900000\n",
       "4        10000000\n",
       "           ...   \n",
       "23694     9700000\n",
       "23695     3100000\n",
       "23696     2500000\n",
       "23697    11475000\n",
       "23698     1350000\n",
       "Name: last_price, Length: 23699, dtype: int64"
      ]
     },
     "execution_count": 8,
     "metadata": {},
     "output_type": "execute_result"
    }
   ],
   "source": [
    "# сменим тип данных в last_price c чисел с плавающей точкой на целочисленное\n",
    "df['last_price'].astype('int')"
   ]
  },
  {
   "cell_type": "markdown",
   "metadata": {},
   "source": [
    "Математические операции с целыми числами выполняются быстрее чем с числами с плавающей точкой, да и значение цены обычно указывается для недвижимости кратно тысячи."
   ]
  },
  {
   "cell_type": "code",
   "execution_count": 9,
   "metadata": {},
   "outputs": [
    {
     "data": {
      "text/plain": [
       "14235   2018-01-12\n",
       "21624   2018-08-02\n",
       "3138    2016-10-09\n",
       "13472   2018-07-10\n",
       "16675   2015-08-23\n",
       "17627   2017-11-08\n",
       "17892   2018-04-01\n",
       "3440    2018-10-17\n",
       "11931   2018-02-15\n",
       "17528   2016-05-23\n",
       "Name: first_day_exposition, dtype: datetime64[ns]"
      ]
     },
     "execution_count": 9,
     "metadata": {},
     "output_type": "execute_result"
    }
   ],
   "source": [
    "# преобразуем строки в даты, с округлением до дня размещения\n",
    "df['first_day_exposition'] = pd.to_datetime(df['first_day_exposition'], format='%Y-%m-%dT%H:%M:%S') \n",
    "df['first_day_exposition'] = df['first_day_exposition'].dt.round('1d')\n",
    "df['first_day_exposition'].sample(10)"
   ]
  },
  {
   "cell_type": "markdown",
   "metadata": {},
   "source": [
    "В дате размещения объявления указано и время размещения. Для удобства оставляем только дату и заменим тип данных на временной."
   ]
  },
  {
   "cell_type": "code",
   "execution_count": 10,
   "metadata": {},
   "outputs": [
    {
     "name": "stdout",
     "output_type": "stream",
     "text": [
      "9654    2.70\n",
      "7072    3.00\n",
      "5991    2.65\n",
      "17518   2.65\n",
      "6815    2.72\n",
      "7995    2.65\n",
      "16959   2.55\n",
      "7720    2.65\n",
      "20366   2.65\n",
      "12022   2.50\n",
      "Name: ceiling_height, dtype: float64\n",
      "count   23699.00\n",
      "mean        2.70\n",
      "std         0.23\n",
      "min         0.60\n",
      "25%         2.60\n",
      "50%         2.65\n",
      "75%         2.70\n",
      "max        10.00\n",
      "Name: ceiling_height, dtype: float64\n"
     ]
    }
   ],
   "source": [
    "# NaN в информации о высоте потолка заполним медианным значением\n",
    "df['ceiling_height'] = df['ceiling_height'].fillna(df['ceiling_height'].median())\n",
    "print(df['ceiling_height'].sample(10))\n",
    "# переносом запятой исправляем явную ошибку в данных\n",
    "df.loc[(df['ceiling_height'] >= 6.0), 'ceiling_height'] = df['ceiling_height'] / 10\n",
    "print(df['ceiling_height'].describe())"
   ]
  },
  {
   "cell_type": "markdown",
   "metadata": {},
   "source": [
    "Указанная высота потолка выше 6м может быть ошибкой ручного ввода данных. Большинство квартир имеет высоту потолка от 2.6 и выше. Вернем запятую на место и добавим медианную высоту потолка вместо недостающей."
   ]
  },
  {
   "cell_type": "code",
   "execution_count": 11,
   "metadata": {},
   "outputs": [
    {
     "data": {
      "text/plain": [
       "count   23699.00\n",
       "mean       10.68\n",
       "std         6.60\n",
       "min         1.00\n",
       "25%         5.00\n",
       "50%         9.00\n",
       "75%        16.00\n",
       "max        60.00\n",
       "Name: floors_total, dtype: float64"
      ]
     },
     "execution_count": 11,
     "metadata": {},
     "output_type": "execute_result"
    }
   ],
   "source": [
    "# исправим пропуски в значениях этажей\n",
    "for i in [5, 9, 16, 24]:\n",
    "    df.loc[(df['floors_total'].isna()) & (df['floor'] <= i), 'floors_total'] = i\n",
    "df.floors_total.describe()"
   ]
  },
  {
   "cell_type": "markdown",
   "metadata": {},
   "source": [
    "Примем среднюю этажность постройки зданий 5, 9, 14, 24. Исправим пропуск в данных на одно из этих чисел."
   ]
  },
  {
   "cell_type": "code",
   "execution_count": 12,
   "metadata": {},
   "outputs": [
    {
     "data": {
      "text/plain": [
       "count   23699.00\n",
       "mean       35.20\n",
       "std        23.03\n",
       "min         2.00\n",
       "25%        19.00\n",
       "50%        30.40\n",
       "75%        42.90\n",
       "max       435.17\n",
       "Name: living_area, dtype: float64"
      ]
     },
     "execution_count": 12,
     "metadata": {},
     "output_type": "execute_result"
    }
   ],
   "source": [
    "# заменяем пропуски в  жилой площади медианной жилой площади из общей площади для каждого значения диапазона количества комнат\n",
    "for i in range(0, df['rooms'].max()):\n",
    "    ratio = (df[df['rooms'] == i]['living_area'] / df[df['rooms'] == i]['total_area']).median()\n",
    "    df['living_area'] = df['living_area'].fillna(value = df['total_area'] * ratio)\n",
    "df['living_area'].describe()"
   ]
  },
  {
   "cell_type": "markdown",
   "metadata": {},
   "source": [
    "Пропуски в данных скорее всего ошибка ввода."
   ]
  },
  {
   "cell_type": "code",
   "execution_count": 13,
   "metadata": {},
   "outputs": [
    {
     "data": {
      "text/plain": [
       "count     23699\n",
       "unique        2\n",
       "top       False\n",
       "freq      23649\n",
       "Name: is_apartment, dtype: object"
      ]
     },
     "execution_count": 13,
     "metadata": {},
     "output_type": "execute_result"
    }
   ],
   "source": [
    "# изменим данные с NaN в is_apartament на False \n",
    "df['is_apartment'] = df['is_apartment'].fillna(value=False)\n",
    "df['is_apartment'].astype(bool)\n",
    "df['is_apartment'].describe()"
   ]
  },
  {
   "cell_type": "markdown",
   "metadata": {},
   "source": [
    "Аппартаменты - ответ либо да либо нет - не имеет числа комнат, поэтому булев тип. Пропуск может быть из-за операции ввода данных."
   ]
  },
  {
   "cell_type": "code",
   "execution_count": 14,
   "metadata": {},
   "outputs": [
    {
     "data": {
      "text/plain": [
       "kitchen_area            1.00\n",
       "total_area              0.61\n",
       "last_price              0.52\n",
       "living_area             0.44\n",
       "ceiling_height          0.33\n",
       "rooms                   0.27\n",
       "floors_total            0.16\n",
       "ponds_around3000        0.15\n",
       "floor                   0.14\n",
       "total_images            0.10\n",
       "days_exposition         0.10\n",
       "balcony                 0.10\n",
       "parks_around3000        0.09\n",
       "is_apartment            0.05\n",
       "parks_nearest           0.03\n",
       "airports_nearest        0.01\n",
       "ponds_nearest          -0.11\n",
       "city_centers_nearest   -0.19\n",
       "studio                   NaN\n",
       "open_plan                NaN\n",
       "Name: kitchen_area, dtype: float64"
      ]
     },
     "execution_count": 14,
     "metadata": {},
     "output_type": "execute_result"
    }
   ],
   "source": [
    "# найдем корреляцию данных к столбцу kitchen_area\n",
    "df.corr().sort_values(by='kitchen_area', ascending=False)['kitchen_area']"
   ]
  },
  {
   "cell_type": "markdown",
   "metadata": {},
   "source": [
    "Явной зависимости от других данных непрослеживается, может быть не указали владельцы аппартаментов или квартир со свободной планировкой."
   ]
  },
  {
   "cell_type": "code",
   "execution_count": 15,
   "metadata": {},
   "outputs": [],
   "source": [
    "# заменим пропуски в kitchen_area  на 0\n",
    "df['kitchen_area'] = df['kitchen_area'].fillna(0)"
   ]
  },
  {
   "cell_type": "markdown",
   "metadata": {},
   "source": [
    "Пропуски в столбце - отсутствие кухни в студии"
   ]
  },
  {
   "cell_type": "code",
   "execution_count": 16,
   "metadata": {},
   "outputs": [
    {
     "data": {
      "text/plain": [
       "balcony                 1.00\n",
       "floors_total            0.19\n",
       "floor                   0.17\n",
       "total_images            0.12\n",
       "kitchen_area            0.11\n",
       "airports_nearest        0.07\n",
       "parks_nearest           0.05\n",
       "city_centers_nearest    0.05\n",
       "total_area              0.05\n",
       "is_apartment            0.04\n",
       "studio                  0.03\n",
       "last_price              0.03\n",
       "open_plan               0.02\n",
       "living_area             0.02\n",
       "rooms                   0.02\n",
       "ponds_nearest           0.01\n",
       "ceiling_height         -0.02\n",
       "ponds_around3000       -0.03\n",
       "days_exposition        -0.03\n",
       "parks_around3000       -0.08\n",
       "Name: balcony, dtype: float64"
      ]
     },
     "execution_count": 16,
     "metadata": {},
     "output_type": "execute_result"
    }
   ],
   "source": [
    "# найдем зависимость данных к столбцу balcony корреляцией Пирсона\n",
    "df.corr().sort_values(by='balcony', ascending=False)['balcony']"
   ]
  },
  {
   "cell_type": "markdown",
   "metadata": {},
   "source": [
    "Зависимости от данных не наблюдается. Причины отсутствия балконов примерно в 50% данных - их нет или просто не указали."
   ]
  },
  {
   "cell_type": "code",
   "execution_count": 17,
   "metadata": {},
   "outputs": [],
   "source": [
    "# заменим пропуски в balcony на 0\n",
    "df['balcony'] = df['balcony'].fillna(0)\n",
    "df['balcony'] = df['balcony'].astype(int)"
   ]
  },
  {
   "cell_type": "code",
   "execution_count": 18,
   "metadata": {},
   "outputs": [
    {
     "data": {
      "text/plain": [
       "{'69-й километр',\n",
       " nan,\n",
       " 'агалатово',\n",
       " 'александровская',\n",
       " 'алексеевка',\n",
       " 'аннино',\n",
       " 'аро',\n",
       " 'барышево',\n",
       " 'батово',\n",
       " 'бегуницы',\n",
       " 'белогорка',\n",
       " 'белоостров',\n",
       " 'бокситогорск',\n",
       " 'большая вруда',\n",
       " 'большая ижора',\n",
       " 'большая пустомержа',\n",
       " 'большие колпаны',\n",
       " 'большое рейзино',\n",
       " 'большой сабск',\n",
       " 'бор',\n",
       " 'борисова грива',\n",
       " 'бугры',\n",
       " 'будогощь',\n",
       " 'ваганово',\n",
       " 'важины',\n",
       " 'вартемяги',\n",
       " 'вахнова кара',\n",
       " 'вещево',\n",
       " 'виллози',\n",
       " 'вознесенье',\n",
       " 'возрождение',\n",
       " 'войсковицы',\n",
       " 'войскорово',\n",
       " 'володарское',\n",
       " 'волосово',\n",
       " 'волхов',\n",
       " 'всеволожск',\n",
       " 'выборг',\n",
       " 'вырица',\n",
       " 'выскатка',\n",
       " 'высокоключевой',\n",
       " 'высоцк',\n",
       " 'гаврилово',\n",
       " 'гарболово',\n",
       " 'гатчина',\n",
       " 'гладкое',\n",
       " 'глажево',\n",
       " 'глебычево',\n",
       " 'глинка',\n",
       " 'гончарово',\n",
       " 'горбунки',\n",
       " 'гостилицы',\n",
       " 'громово',\n",
       " 'дзержинского',\n",
       " 'дружная горка',\n",
       " 'дружноселье',\n",
       " 'дубровка',\n",
       " 'елизаветино',\n",
       " 'ефимовский',\n",
       " 'жилгородок',\n",
       " 'жилпоселок',\n",
       " 'житково',\n",
       " 'заводской',\n",
       " 'заклинье',\n",
       " 'заневка',\n",
       " 'запорожское',\n",
       " 'зеленогорск',\n",
       " 'зеленый бор',\n",
       " 'зимитицы',\n",
       " 'ивангород',\n",
       " 'извара',\n",
       " 'ильичево',\n",
       " 'имени морозова',\n",
       " 'имени свердлова',\n",
       " 'иссад',\n",
       " 'калитино',\n",
       " 'каложицы',\n",
       " 'кальтино',\n",
       " 'каменногорск',\n",
       " 'камышовка',\n",
       " 'каськово',\n",
       " 'келози',\n",
       " 'кикерино',\n",
       " 'кингисепп',\n",
       " 'кингисеппский',\n",
       " 'кипень',\n",
       " 'кириши',\n",
       " 'кировск',\n",
       " 'кирпичное',\n",
       " 'кисельня',\n",
       " 'кобралово',\n",
       " 'кобринское',\n",
       " 'колпино',\n",
       " 'колтуши',\n",
       " 'коммунар',\n",
       " 'коммунары',\n",
       " 'кондратьево',\n",
       " 'копорье',\n",
       " 'коркино',\n",
       " 'корнево',\n",
       " 'коробицыно',\n",
       " 'котельский',\n",
       " 'котлы',\n",
       " 'коттеджный кивеннапа север',\n",
       " 'коттеджный лесное',\n",
       " 'коттеджный счастье',\n",
       " 'красная долина',\n",
       " 'красное село',\n",
       " 'красносельское',\n",
       " 'красный бор',\n",
       " 'кривко',\n",
       " 'кронштадт',\n",
       " 'кудрово',\n",
       " 'кузнечное',\n",
       " 'кузьмолово',\n",
       " 'кузьмоловский',\n",
       " 'курковицы',\n",
       " 'куровицы',\n",
       " 'куттузи',\n",
       " 'лаврики',\n",
       " 'лаголово',\n",
       " 'лампово',\n",
       " 'лебяжье',\n",
       " 'левашово',\n",
       " 'ленинское',\n",
       " 'лесколово',\n",
       " 'лесная поляна',\n",
       " 'лесное',\n",
       " 'лесогорский',\n",
       " 'лисий нос',\n",
       " 'лодейное поле',\n",
       " 'ломоносов',\n",
       " 'лопухинка',\n",
       " 'луга',\n",
       " 'лужайка',\n",
       " 'лукаши',\n",
       " 'лупполово',\n",
       " 'любань',\n",
       " 'малая романовка',\n",
       " 'малое верево',\n",
       " 'малое карлино',\n",
       " 'малые колпаны',\n",
       " 'мануйлово',\n",
       " 'мга',\n",
       " 'мельниково',\n",
       " 'меньково',\n",
       " 'металлострой',\n",
       " 'мины',\n",
       " 'мистолово',\n",
       " 'мичуринское',\n",
       " 'молодежное',\n",
       " 'молодцово',\n",
       " 'мурино',\n",
       " 'мыза-ивановка',\n",
       " 'назия',\n",
       " 'ненимяки',\n",
       " 'нижние осельки',\n",
       " 'нижняя',\n",
       " 'низино',\n",
       " 'никольский',\n",
       " 'никольское',\n",
       " 'новая ладога',\n",
       " 'новая ропша',\n",
       " 'новогорелово',\n",
       " 'новое девяткино',\n",
       " 'новолисино',\n",
       " 'новоселье',\n",
       " 'новый свет',\n",
       " 'новый учхоз',\n",
       " 'нурма',\n",
       " 'оредеж',\n",
       " 'оржицы',\n",
       " 'отрадное',\n",
       " 'павлово',\n",
       " 'павловск',\n",
       " 'парголово',\n",
       " 'парицы',\n",
       " 'паша',\n",
       " 'пельгора',\n",
       " 'пеники',\n",
       " 'первомайское',\n",
       " 'перово',\n",
       " 'песочный',\n",
       " 'петергоф',\n",
       " 'петро-славянка',\n",
       " 'петровское',\n",
       " 'пижма',\n",
       " 'пикалево',\n",
       " 'пикколово',\n",
       " 'плодовое',\n",
       " 'плоское',\n",
       " 'победа',\n",
       " 'подпорожье',\n",
       " 'поляны',\n",
       " 'понтонный',\n",
       " 'почап',\n",
       " 'починок',\n",
       " 'приветнинское',\n",
       " 'пригородный',\n",
       " 'приладожский',\n",
       " 'приморск',\n",
       " 'приозерск',\n",
       " 'пудомяги',\n",
       " 'пудость',\n",
       " 'пустынка',\n",
       " 'путилово',\n",
       " 'пушкин',\n",
       " 'пушное',\n",
       " 'пчева',\n",
       " 'пчевжа',\n",
       " 'рабитицы',\n",
       " 'разбегаево',\n",
       " 'раздолье',\n",
       " 'разметелево',\n",
       " 'рапполово',\n",
       " 'рахья',\n",
       " 'реброво',\n",
       " 'репино',\n",
       " 'рождествено',\n",
       " 'романовка',\n",
       " 'ромашки',\n",
       " 'ропша',\n",
       " 'рощино',\n",
       " 'русско',\n",
       " 'русско-высоцкое',\n",
       " 'рябово',\n",
       " 'садко',\n",
       " 'санкт-петербург',\n",
       " 'саперное',\n",
       " 'саперный',\n",
       " 'светогорск',\n",
       " 'свирь',\n",
       " 'свирьстрой',\n",
       " 'севастьяново',\n",
       " 'селезнево',\n",
       " 'сельцо',\n",
       " 'семиозерье',\n",
       " 'семрино',\n",
       " 'серебрянский',\n",
       " 'сертолово',\n",
       " 'сестрорецк',\n",
       " 'сиверский',\n",
       " 'сижно',\n",
       " 'синявино',\n",
       " 'сланцы',\n",
       " 'снегиревка',\n",
       " 'советский',\n",
       " 'совхозный',\n",
       " 'сосново',\n",
       " 'сосновый бор',\n",
       " 'старая',\n",
       " 'старая ладога',\n",
       " 'старая малукса',\n",
       " 'старая пустошь',\n",
       " 'старое хинколово',\n",
       " 'старополье',\n",
       " 'старосиверская',\n",
       " 'старые бегуницы',\n",
       " 'стеклянный',\n",
       " 'стрельна',\n",
       " 'суйда',\n",
       " 'сумино',\n",
       " 'суоранда',\n",
       " 'суходолье',\n",
       " 'сяськелево',\n",
       " 'сясьстрой',\n",
       " 'тайцы',\n",
       " 'тарасово',\n",
       " 'тельмана',\n",
       " 'терволово',\n",
       " 'терпилицы',\n",
       " 'тесово-4',\n",
       " 'тихвин',\n",
       " 'тихковицы',\n",
       " 'тойворово',\n",
       " 'токсово',\n",
       " 'торковичи',\n",
       " 'торосово',\n",
       " 'торошковичи',\n",
       " 'торфяное',\n",
       " 'тосно',\n",
       " 'трубников бор',\n",
       " 'углово',\n",
       " 'ульяновка',\n",
       " 'усть-ижора',\n",
       " 'усть-луга',\n",
       " 'ушаки',\n",
       " 'фалилеево',\n",
       " 'федоровское',\n",
       " 'форносово',\n",
       " 'форт красная горка',\n",
       " 'хапо-ое',\n",
       " 'хязельки',\n",
       " 'цвелодубово',\n",
       " 'цвылево',\n",
       " 'чудской бор',\n",
       " 'шлиссельбург',\n",
       " 'шпаньково',\n",
       " 'шугозеро',\n",
       " 'шум',\n",
       " 'шушары',\n",
       " 'щеглово',\n",
       " 'юкки',\n",
       " 'ялгино',\n",
       " 'яльгелево',\n",
       " 'ям-тесово',\n",
       " 'янино-1'}"
      ]
     },
     "execution_count": 18,
     "metadata": {},
     "output_type": "execute_result"
    }
   ],
   "source": [
    "# производим замену на строчные буквы в locality_name\n",
    "df['locality_name'] = df['locality_name'].str.lower()\n",
    "# удаляем неудобные названия\n",
    "df['locality_name'] = df['locality_name'].str.replace('ё','е').replace(['городской поселок ', 'городского типа ', 'деревня ',  'пансионат ', 'платформа ', 'поселок ', 'при железнодорожной станции ', 'садоводческое некоммерческое товарищество ',\n",
    "    'садовое товарищество ', 'село ', 'станции '], '', regex=True)\n",
    "# Уникальные значения в алфавитном порядке\n",
    "set(df['locality_name'].unique())"
   ]
  },
  {
   "cell_type": "code",
   "execution_count": 19,
   "metadata": {},
   "outputs": [],
   "source": [
    "#заменим NaN на Unknow\n",
    "df['locality_name'] = df['locality_name'].fillna('unknown')"
   ]
  },
  {
   "cell_type": "code",
   "execution_count": 20,
   "metadata": {},
   "outputs": [
    {
     "data": {
      "text/plain": [
       "0        санкт-петербург\n",
       "1                 шушары\n",
       "2        санкт-петербург\n",
       "3        санкт-петербург\n",
       "4        санкт-петербург\n",
       "              ...       \n",
       "23694    санкт-петербург\n",
       "23695              тосно\n",
       "23696        рождествено\n",
       "23697    санкт-петербург\n",
       "23698        новый учхоз\n",
       "Name: locality_name, Length: 23699, dtype: object"
      ]
     },
     "execution_count": 20,
     "metadata": {},
     "output_type": "execute_result"
    }
   ],
   "source": [
    "df['locality_name']"
   ]
  },
  {
   "cell_type": "markdown",
   "metadata": {},
   "source": [
    "Изменили данные в столбце имя объекта - убрали вид объекта, заменили пропуски."
   ]
  },
  {
   "cell_type": "code",
   "execution_count": 21,
   "metadata": {},
   "outputs": [
    {
     "data": {
      "text/plain": [
       "0       18863.00\n",
       "1       12817.00\n",
       "2       21741.00\n",
       "3       28098.00\n",
       "4       31856.00\n",
       "          ...   \n",
       "23694   24665.00\n",
       "23695        NaN\n",
       "23696        NaN\n",
       "23697   39140.00\n",
       "23698        NaN\n",
       "Name: airports_nearest, Length: 23699, dtype: float64"
      ]
     },
     "execution_count": 21,
     "metadata": {},
     "output_type": "execute_result"
    }
   ],
   "source": [
    "df['airports_nearest']"
   ]
  },
  {
   "cell_type": "markdown",
   "metadata": {},
   "source": [
    "пропуски в данных airports_nearest могу указывать на отсутствие аэропорта или не близком его расположении, не изменяем данные "
   ]
  },
  {
   "cell_type": "code",
   "execution_count": 22,
   "metadata": {},
   "outputs": [
    {
     "data": {
      "text/plain": [
       "0       16028.00\n",
       "1       18603.00\n",
       "2       13933.00\n",
       "3        6800.00\n",
       "4        8098.00\n",
       "          ...   \n",
       "23694    4232.00\n",
       "23695        NaN\n",
       "23696        NaN\n",
       "23697   10364.00\n",
       "23698        NaN\n",
       "Name: city_centers_nearest, Length: 23699, dtype: float64"
      ]
     },
     "execution_count": 22,
     "metadata": {},
     "output_type": "execute_result"
    }
   ],
   "source": [
    "df['city_centers_nearest']\n",
    "# оставим данные без корректировки"
   ]
  },
  {
   "cell_type": "markdown",
   "metadata": {},
   "source": [
    "незаполненые данные в столбце city_centers_nearest могут говорить о наличии объекта вне города (поселок, СНТ, и др.)"
   ]
  },
  {
   "cell_type": "code",
   "execution_count": 23,
   "metadata": {},
   "outputs": [],
   "source": [
    "# изменим тип данных и заполним пропуски на 0 в столбце parks_around3000\n",
    "df['parks_around3000'] = df['parks_around3000'].fillna(0)\n",
    "df['parks_around3000'] = df['parks_around3000'].astype(int)"
   ]
  },
  {
   "cell_type": "markdown",
   "metadata": {},
   "source": [
    "незаполненые пропуски заменяем на 0, т.к. это говорит об отсутствии парков возле объекта продажи"
   ]
  },
  {
   "cell_type": "code",
   "execution_count": 24,
   "metadata": {},
   "outputs": [
    {
     "data": {
      "text/plain": [
       "0       482.00\n",
       "1          NaN\n",
       "2        90.00\n",
       "3        84.00\n",
       "4       112.00\n",
       "         ...  \n",
       "23694   796.00\n",
       "23695      NaN\n",
       "23696      NaN\n",
       "23697   173.00\n",
       "23698      NaN\n",
       "Name: parks_nearest, Length: 23699, dtype: float64"
      ]
     },
     "execution_count": 24,
     "metadata": {},
     "output_type": "execute_result"
    }
   ],
   "source": [
    "# пропуски в parks_nearest\n",
    "df['parks_nearest']"
   ]
  },
  {
   "cell_type": "markdown",
   "metadata": {},
   "source": [
    "оставим без изменения пропуски,  могут указывать на отсутствие парка возле объекта продажи"
   ]
  },
  {
   "cell_type": "code",
   "execution_count": 25,
   "metadata": {},
   "outputs": [],
   "source": [
    "# изменим тип данных и заполним пропуски на 0 в столбце ponds_around3000\n",
    "df['ponds_around3000'] = df['ponds_around3000'].fillna(0)\n",
    "df['ponds_around3000'] = df['ponds_around3000'].astype(int) "
   ]
  },
  {
   "cell_type": "markdown",
   "metadata": {},
   "source": [
    " незаполненые пропуски заменяем на 0, т.к. это говорит об отсутствии водоема возле объекта продажи на указанном растоянии"
   ]
  },
  {
   "cell_type": "code",
   "execution_count": 26,
   "metadata": {},
   "outputs": [
    {
     "data": {
      "text/plain": [
       "0       755.00\n",
       "1          NaN\n",
       "2       574.00\n",
       "3       234.00\n",
       "4        48.00\n",
       "         ...  \n",
       "23694   381.00\n",
       "23695      NaN\n",
       "23696      NaN\n",
       "23697   196.00\n",
       "23698      NaN\n",
       "Name: ponds_nearest, Length: 23699, dtype: float64"
      ]
     },
     "execution_count": 26,
     "metadata": {},
     "output_type": "execute_result"
    }
   ],
   "source": [
    "# пропуски в ponds_nearest могут указывать что объект продается не возле водоема\n",
    "df['ponds_nearest']"
   ]
  },
  {
   "cell_type": "code",
   "execution_count": 27,
   "metadata": {},
   "outputs": [],
   "source": [
    "# пропуски в days_exposition могут говорить о снятии с продажи объекта, данные оставим без изменения"
   ]
  },
  {
   "cell_type": "markdown",
   "metadata": {},
   "source": [
    "**Вывод**\n",
    "1. Произвели округление значений данных таблицы в нескольких столбцах.\n",
    "2. Переименовали название столбца cityCenters_nearest на city_centers_nearest.\n",
    "3. Изменили тип данных, в соответствии с данными находяшимися в столбцах:\n",
    "    1. last_price    float64  int64    содержит только целые числа\n",
    "\t2. first_day_exposition\tobject\tdatetime64[ns]\tcодержит время (удалили время размещения объявления)\n",
    "\t3. is_apartment\tobject\tbool\tcодержит булевы значения\n",
    "\t4. balcony\tfloat64\tint64\tcодержит только целые числа\n",
    "\t5. parks_around3000\tfloat64\tint64\tcодержит только целые числа\n",
    "\t6. ponds_around3000\tfloat64\tint64\tcодержит только целые числа\n",
    "4. Заменили пропущенные значения на медианные: балкона и жилой площади, высоты потолка (и переместили ошибочную запятую).\n",
    "5. В других столбац произвели замены пропусков: \n",
    "    1. is_apartment\n",
    "    2. kitchen_area\n",
    "    3. locality_name\n",
    "    4. airports_nearest\n",
    "    5. parks_around3000\n",
    "    6. ponds_around3000\n",
    "6. Пропуски в автоматически собранных данных вероятно появиться вследствие некорректной информации от пользователя - некорректный адрес квартиры. Пропуски и ошибки в информации от пользователя - человеческий фактор(некорректный ввод данных или отсутствие технической возможности внести эти данные). Возможно, необходимо доработать форму подачи объявления."
   ]
  },
  {
   "cell_type": "markdown",
   "metadata": {
    "id": "QCcvyY6YAwb-"
   },
   "source": [
    "### Добавьте в таблицу новые столбцы"
   ]
  },
  {
   "cell_type": "markdown",
   "metadata": {},
   "source": [
    "**Внесем новые данные**"
   ]
  },
  {
   "cell_type": "markdown",
   "metadata": {},
   "source": [
    "***Добавим столбец price_square_meter с ценой одного метра квадратного объекта с точностью до двух знаков после точки***"
   ]
  },
  {
   "cell_type": "code",
   "execution_count": 28,
   "metadata": {},
   "outputs": [
    {
     "data": {
      "text/plain": [
       "array([120370.37,  82920.79,  92785.71, ...,  44091.71, 149511.4 ,\n",
       "        41795.67])"
      ]
     },
     "execution_count": 28,
     "metadata": {},
     "output_type": "execute_result"
    }
   ],
   "source": [
    "df['price_square_meter'] = (df['last_price'] / df['total_area']).round(2)\n",
    "df['price_square_meter'].unique()"
   ]
  },
  {
   "cell_type": "markdown",
   "metadata": {},
   "source": [
    "***Добавим столбец day_publication день недели публикации объявления (0-понедельник, 1-вторник и т.д.)***"
   ]
  },
  {
   "cell_type": "code",
   "execution_count": 29,
   "metadata": {
    "id": "Z8eJek3IAwb-"
   },
   "outputs": [
    {
     "data": {
      "text/plain": [
       "array([3, 1, 4, 0, 2, 6, 5])"
      ]
     },
     "execution_count": 29,
     "metadata": {},
     "output_type": "execute_result"
    }
   ],
   "source": [
    "# день недели публикации объявления\n",
    "df['day_publication'] = df['first_day_exposition'].dt.weekday\n",
    "df['day_publication'].unique()"
   ]
  },
  {
   "cell_type": "markdown",
   "metadata": {},
   "source": [
    "***Добавим столбец month_publication месяц публикации объявления***"
   ]
  },
  {
   "cell_type": "code",
   "execution_count": 30,
   "metadata": {},
   "outputs": [
    {
     "data": {
      "text/plain": [
       "array([ 3, 12,  8,  7,  6,  9, 11,  4,  5,  2,  1, 10])"
      ]
     },
     "execution_count": 30,
     "metadata": {},
     "output_type": "execute_result"
    }
   ],
   "source": [
    "df['month_publication'] = df['first_day_exposition'].dt.month\n",
    "df['month_publication'].unique()"
   ]
  },
  {
   "cell_type": "markdown",
   "metadata": {},
   "source": [
    "***Добавим столбец year_publication год публикации объявления***"
   ]
  },
  {
   "cell_type": "code",
   "execution_count": 31,
   "metadata": {},
   "outputs": [
    {
     "data": {
      "text/plain": [
       "array([2019, 2018, 2015, 2017, 2016, 2014])"
      ]
     },
     "execution_count": 31,
     "metadata": {},
     "output_type": "execute_result"
    }
   ],
   "source": [
    "df['year_publication'] = df['first_day_exposition'].dt.year\n",
    "df['year_publication'].unique()"
   ]
  },
  {
   "cell_type": "markdown",
   "metadata": {},
   "source": [
    "***Добавим столбец type_floor_apartment тип этажа квартиры (\"первый\",\"последний\",\"другой\")***"
   ]
  },
  {
   "cell_type": "code",
   "execution_count": 32,
   "metadata": {},
   "outputs": [
    {
     "data": {
      "text/plain": [
       "array(['другой', 'первый', 'последний'], dtype=object)"
      ]
     },
     "execution_count": 32,
     "metadata": {},
     "output_type": "execute_result"
    }
   ],
   "source": [
    "def floor(row):\n",
    "    if row['floor'] == 1:\n",
    "        return 'первый'\n",
    "    if row['floor'] == row['floors_total']:\n",
    "        return 'последний'\n",
    "    else:\n",
    "        return 'другой'\n",
    "df['type_floor_apartment'] = df.apply(floor, axis=1) \n",
    "df['type_floor_apartment'].unique()"
   ]
  },
  {
   "cell_type": "markdown",
   "metadata": {},
   "source": [
    "***Добавим столбец distance_city_centers расстояние до центра города в км***"
   ]
  },
  {
   "cell_type": "code",
   "execution_count": 33,
   "metadata": {},
   "outputs": [
    {
     "data": {
      "text/plain": [
       "array([16., 19., 14.,  7.,  8., nan, 12., 15., 52., 33., 31., 11., 13.,\n",
       "       10.,  2., 32.,  4., 17., 30.,  5., 51., 50., 24., 18.,  9., 28.,\n",
       "        3.,  6., 27., 21., 49., 35., 36., 34.,  1., 29., 26., 53., 22.,\n",
       "       55., 20., 23., 25.,  0., 66., 47., 40., 57., 37., 41., 43., 48.,\n",
       "       62., 60., 39., 42., 65., 54., 59., 45., 61., 63.])"
      ]
     },
     "execution_count": 33,
     "metadata": {},
     "output_type": "execute_result"
    }
   ],
   "source": [
    "df['distance_city_centers'] = (df['city_centers_nearest']/1000).round(0) \n",
    "df['distance_city_centers'].unique()"
   ]
  },
  {
   "cell_type": "code",
   "execution_count": 34,
   "metadata": {},
   "outputs": [
    {
     "data": {
      "text/html": [
       "<div>\n",
       "<style scoped>\n",
       "    .dataframe tbody tr th:only-of-type {\n",
       "        vertical-align: middle;\n",
       "    }\n",
       "\n",
       "    .dataframe tbody tr th {\n",
       "        vertical-align: top;\n",
       "    }\n",
       "\n",
       "    .dataframe thead th {\n",
       "        text-align: right;\n",
       "    }\n",
       "</style>\n",
       "<table border=\"1\" class=\"dataframe\">\n",
       "  <thead>\n",
       "    <tr style=\"text-align: right;\">\n",
       "      <th></th>\n",
       "      <th>total_images</th>\n",
       "      <th>last_price</th>\n",
       "      <th>total_area</th>\n",
       "      <th>first_day_exposition</th>\n",
       "      <th>rooms</th>\n",
       "      <th>ceiling_height</th>\n",
       "      <th>floors_total</th>\n",
       "      <th>living_area</th>\n",
       "      <th>floor</th>\n",
       "      <th>is_apartment</th>\n",
       "      <th>studio</th>\n",
       "      <th>open_plan</th>\n",
       "      <th>kitchen_area</th>\n",
       "      <th>balcony</th>\n",
       "      <th>locality_name</th>\n",
       "      <th>airports_nearest</th>\n",
       "      <th>city_centers_nearest</th>\n",
       "      <th>parks_around3000</th>\n",
       "      <th>parks_nearest</th>\n",
       "      <th>ponds_around3000</th>\n",
       "      <th>ponds_nearest</th>\n",
       "      <th>days_exposition</th>\n",
       "      <th>price_square_meter</th>\n",
       "      <th>day_publication</th>\n",
       "      <th>month_publication</th>\n",
       "      <th>year_publication</th>\n",
       "      <th>type_floor_apartment</th>\n",
       "      <th>distance_city_centers</th>\n",
       "    </tr>\n",
       "  </thead>\n",
       "  <tbody>\n",
       "    <tr>\n",
       "      <th>0</th>\n",
       "      <td>20</td>\n",
       "      <td>13000000.00</td>\n",
       "      <td>108.00</td>\n",
       "      <td>2019-03-07</td>\n",
       "      <td>3</td>\n",
       "      <td>2.70</td>\n",
       "      <td>16.00</td>\n",
       "      <td>51.00</td>\n",
       "      <td>8</td>\n",
       "      <td>False</td>\n",
       "      <td>False</td>\n",
       "      <td>False</td>\n",
       "      <td>25.00</td>\n",
       "      <td>0</td>\n",
       "      <td>санкт-петербург</td>\n",
       "      <td>18863.00</td>\n",
       "      <td>16028.00</td>\n",
       "      <td>1</td>\n",
       "      <td>482.00</td>\n",
       "      <td>2</td>\n",
       "      <td>755.00</td>\n",
       "      <td>NaN</td>\n",
       "      <td>120370.37</td>\n",
       "      <td>3</td>\n",
       "      <td>3</td>\n",
       "      <td>2019</td>\n",
       "      <td>другой</td>\n",
       "      <td>16.00</td>\n",
       "    </tr>\n",
       "    <tr>\n",
       "      <th>1</th>\n",
       "      <td>7</td>\n",
       "      <td>3350000.00</td>\n",
       "      <td>40.40</td>\n",
       "      <td>2018-12-04</td>\n",
       "      <td>1</td>\n",
       "      <td>2.65</td>\n",
       "      <td>11.00</td>\n",
       "      <td>18.60</td>\n",
       "      <td>1</td>\n",
       "      <td>False</td>\n",
       "      <td>False</td>\n",
       "      <td>False</td>\n",
       "      <td>11.00</td>\n",
       "      <td>2</td>\n",
       "      <td>шушары</td>\n",
       "      <td>12817.00</td>\n",
       "      <td>18603.00</td>\n",
       "      <td>0</td>\n",
       "      <td>NaN</td>\n",
       "      <td>0</td>\n",
       "      <td>NaN</td>\n",
       "      <td>81.00</td>\n",
       "      <td>82920.79</td>\n",
       "      <td>1</td>\n",
       "      <td>12</td>\n",
       "      <td>2018</td>\n",
       "      <td>первый</td>\n",
       "      <td>19.00</td>\n",
       "    </tr>\n",
       "    <tr>\n",
       "      <th>2</th>\n",
       "      <td>10</td>\n",
       "      <td>5196000.00</td>\n",
       "      <td>56.00</td>\n",
       "      <td>2015-08-20</td>\n",
       "      <td>2</td>\n",
       "      <td>2.65</td>\n",
       "      <td>5.00</td>\n",
       "      <td>34.30</td>\n",
       "      <td>4</td>\n",
       "      <td>False</td>\n",
       "      <td>False</td>\n",
       "      <td>False</td>\n",
       "      <td>8.30</td>\n",
       "      <td>0</td>\n",
       "      <td>санкт-петербург</td>\n",
       "      <td>21741.00</td>\n",
       "      <td>13933.00</td>\n",
       "      <td>1</td>\n",
       "      <td>90.00</td>\n",
       "      <td>2</td>\n",
       "      <td>574.00</td>\n",
       "      <td>558.00</td>\n",
       "      <td>92785.71</td>\n",
       "      <td>3</td>\n",
       "      <td>8</td>\n",
       "      <td>2015</td>\n",
       "      <td>другой</td>\n",
       "      <td>14.00</td>\n",
       "    </tr>\n",
       "  </tbody>\n",
       "</table>\n",
       "</div>"
      ],
      "text/plain": [
       "   total_images  last_price  total_area first_day_exposition  rooms  \\\n",
       "0            20 13000000.00      108.00           2019-03-07      3   \n",
       "1             7  3350000.00       40.40           2018-12-04      1   \n",
       "2            10  5196000.00       56.00           2015-08-20      2   \n",
       "\n",
       "   ceiling_height  floors_total  living_area  floor  is_apartment  studio  \\\n",
       "0            2.70         16.00        51.00      8         False   False   \n",
       "1            2.65         11.00        18.60      1         False   False   \n",
       "2            2.65          5.00        34.30      4         False   False   \n",
       "\n",
       "   open_plan  kitchen_area  balcony    locality_name  airports_nearest  \\\n",
       "0      False         25.00        0  санкт-петербург          18863.00   \n",
       "1      False         11.00        2           шушары          12817.00   \n",
       "2      False          8.30        0  санкт-петербург          21741.00   \n",
       "\n",
       "   city_centers_nearest  parks_around3000  parks_nearest  ponds_around3000  \\\n",
       "0              16028.00                 1         482.00                 2   \n",
       "1              18603.00                 0            NaN                 0   \n",
       "2              13933.00                 1          90.00                 2   \n",
       "\n",
       "   ponds_nearest  days_exposition  price_square_meter  day_publication  \\\n",
       "0         755.00              NaN           120370.37                3   \n",
       "1            NaN            81.00            82920.79                1   \n",
       "2         574.00           558.00            92785.71                3   \n",
       "\n",
       "   month_publication  year_publication type_floor_apartment  \\\n",
       "0                  3              2019               другой   \n",
       "1                 12              2018               первый   \n",
       "2                  8              2015               другой   \n",
       "\n",
       "   distance_city_centers  \n",
       "0                  16.00  \n",
       "1                  19.00  \n",
       "2                  14.00  "
      ]
     },
     "execution_count": 34,
     "metadata": {},
     "output_type": "execute_result"
    }
   ],
   "source": [
    "df.head(3)"
   ]
  },
  {
   "cell_type": "markdown",
   "metadata": {
    "id": "pPyxrKWTAwb-"
   },
   "source": [
    "### Проведите исследовательский анализ данных"
   ]
  },
  {
   "cell_type": "markdown",
   "metadata": {},
   "source": [
    "***Построим гистограммы по отдельным параметрам и проведем их анализ*** "
   ]
  },
  {
   "cell_type": "markdown",
   "metadata": {},
   "source": [
    "****Общая площадь****"
   ]
  },
  {
   "cell_type": "code",
   "execution_count": 35,
   "metadata": {
    "id": "V2f0D3kLAwb-"
   },
   "outputs": [
    {
     "data": {
      "text/plain": [
       "count   23699.00\n",
       "mean       60.35\n",
       "std        35.65\n",
       "min        12.00\n",
       "25%        40.00\n",
       "50%        52.00\n",
       "75%        69.90\n",
       "max       900.00\n",
       "Name: total_area, dtype: float64"
      ]
     },
     "execution_count": 35,
     "metadata": {},
     "output_type": "execute_result"
    }
   ],
   "source": [
    "df['total_area'].describe()"
   ]
  },
  {
   "cell_type": "code",
   "execution_count": 36,
   "metadata": {},
   "outputs": [
    {
     "data": {
      "image/png": "[encoded data removed]",
      "text/plain": [
       "<Figure size 1080x360 with 1 Axes>"
      ]
     },
     "metadata": {
      "needs_background": "light"
     },
     "output_type": "display_data"
    }
   ],
   "source": [
    "df.hist('total_area', bins=100, range=(0,200), figsize=(15,5))\n",
    "plt.title('Зависимость продаж квартир от площади квартир')\n",
    "plt.xlabel('Квадратные метры')\n",
    "plt.ylabel('Количество квартир')\n",
    "plt.show()"
   ]
  },
  {
   "cell_type": "markdown",
   "metadata": {},
   "source": [
    "Средняя площадь продаваемых квартир находится от 40 до 70 кв.м. По гистограмме видно что значительный объем (примерно 20%) в продаже занимает  площадь от 30 до 40 кв.м. Выбросы площади более 200 кв.м. скорее относится к элитному жилью (загородный дом)."
   ]
  },
  {
   "cell_type": "markdown",
   "metadata": {},
   "source": [
    "****Жилая площадь****"
   ]
  },
  {
   "cell_type": "code",
   "execution_count": 37,
   "metadata": {},
   "outputs": [
    {
     "data": {
      "text/plain": [
       "count   23699.00\n",
       "mean       35.20\n",
       "std        23.03\n",
       "min         2.00\n",
       "25%        19.00\n",
       "50%        30.40\n",
       "75%        42.90\n",
       "max       435.17\n",
       "Name: living_area, dtype: float64"
      ]
     },
     "execution_count": 37,
     "metadata": {},
     "output_type": "execute_result"
    }
   ],
   "source": [
    "df['living_area'].describe()"
   ]
  },
  {
   "cell_type": "code",
   "execution_count": 38,
   "metadata": {},
   "outputs": [
    {
     "data": {
      "image/png": "[encoded data removed]",
      "text/plain": [
       "<Figure size 1080x360 with 1 Axes>"
      ]
     },
     "metadata": {
      "needs_background": "light"
     },
     "output_type": "display_data"
    }
   ],
   "source": [
    "df.hist('living_area', bins=100, range=(0,120), figsize=(15,5))\n",
    "plt.title('Зависимость продаж квартир от жилой площади квартир')\n",
    "plt.xlabel('Квадратные метры')\n",
    "plt.ylabel('Количество квартир')\n",
    "plt.show()"
   ]
  },
  {
   "cell_type": "markdown",
   "metadata": {},
   "source": [
    "50% продаж приходится на квартиры площадью от 30 до 50 кв.м., 30% на квартиры площадьи от 14 до 22 кв.м."
   ]
  },
  {
   "cell_type": "markdown",
   "metadata": {},
   "source": [
    "****Площадь кухни****"
   ]
  },
  {
   "cell_type": "code",
   "execution_count": 39,
   "metadata": {},
   "outputs": [
    {
     "data": {
      "text/plain": [
       "count   23699.00\n",
       "mean        9.55\n",
       "std         6.42\n",
       "min         0.00\n",
       "25%         6.30\n",
       "50%         9.00\n",
       "75%        11.44\n",
       "max       112.00\n",
       "Name: kitchen_area, dtype: float64"
      ]
     },
     "execution_count": 39,
     "metadata": {},
     "output_type": "execute_result"
    }
   ],
   "source": [
    "df['kitchen_area'].describe()"
   ]
  },
  {
   "cell_type": "code",
   "execution_count": 40,
   "metadata": {},
   "outputs": [
    {
     "data": {
      "image/png": "[encoded data removed]",
      "text/plain": [
       "<Figure size 1080x360 with 1 Axes>"
      ]
     },
     "metadata": {
      "needs_background": "light"
     },
     "output_type": "display_data"
    }
   ],
   "source": [
    "df.hist('kitchen_area', bins=100, range=(0,15), figsize=(15,5))\n",
    "plt.title('Зависимость продаж квартир от площади кухни')\n",
    "plt.xlabel('Квадратные метры')\n",
    "plt.ylabel('Количество квартир')\n",
    "plt.show()"
   ]
  },
  {
   "cell_type": "markdown",
   "metadata": {},
   "source": [
    "Размер кухни не влияет на продажу квартир, т.к. не видно на гистограмме явного выделения в какой-либо группе.\n",
    "Большую часть продаж занимают квартиры со стандартной площадью 6-12 кв.м.\n",
    "Группа продаж около 0 значения относится скорее к студии."
   ]
  },
  {
   "cell_type": "markdown",
   "metadata": {},
   "source": [
    "****Цена объекта****"
   ]
  },
  {
   "cell_type": "code",
   "execution_count": 41,
   "metadata": {},
   "outputs": [
    {
     "data": {
      "text/plain": [
       "count   23699.00\n",
       "mean        6.54\n",
       "std        10.89\n",
       "min         0.01\n",
       "25%         3.40\n",
       "50%         4.65\n",
       "75%         6.80\n",
       "max       763.00\n",
       "Name: last_price, dtype: float64"
      ]
     },
     "execution_count": 41,
     "metadata": {},
     "output_type": "execute_result"
    }
   ],
   "source": [
    "# изменим размерность столбца last_price на значение - в млн.\n",
    "df['last_price'] = df['last_price']/1000000\n",
    "df['last_price'].describe()"
   ]
  },
  {
   "cell_type": "code",
   "execution_count": 42,
   "metadata": {},
   "outputs": [
    {
     "data": {
      "image/png": "[encoded data removed]",
      "text/plain": [
       "<Figure size 1080x360 with 1 Axes>"
      ]
     },
     "metadata": {
      "needs_background": "light"
     },
     "output_type": "display_data"
    }
   ],
   "source": [
    "df.hist('last_price', bins=100, range=(0,15), figsize=(15,5))\n",
    "plt.title('Зависимость продаж квартир от цены')\n",
    "plt.xlabel('Цена, млн.у.е.')\n",
    "plt.ylabel('Количество квартир')\n",
    "plt.show()"
   ]
  },
  {
   "cell_type": "markdown",
   "metadata": {},
   "source": [
    "Пик продаж приходится на квартиры ценой 3,5-4,5 млн. Дальше наблюдается спад в количестве продаваемых квартир. В дальнейшем рассчитаем корреляцию значения цены к другим предоставленным данным (площадь квартир и др.)."
   ]
  },
  {
   "cell_type": "markdown",
   "metadata": {},
   "source": [
    "****Количество комнат****"
   ]
  },
  {
   "cell_type": "code",
   "execution_count": 43,
   "metadata": {},
   "outputs": [
    {
     "data": {
      "text/plain": [
       "count   23699.00\n",
       "mean        2.07\n",
       "std         1.08\n",
       "min         0.00\n",
       "25%         1.00\n",
       "50%         2.00\n",
       "75%         3.00\n",
       "max        19.00\n",
       "Name: rooms, dtype: float64"
      ]
     },
     "execution_count": 43,
     "metadata": {},
     "output_type": "execute_result"
    }
   ],
   "source": [
    "df['rooms'].describe()"
   ]
  },
  {
   "cell_type": "code",
   "execution_count": 44,
   "metadata": {},
   "outputs": [
    {
     "data": {
      "image/png": "[encoded data removed]",
      "text/plain": [
       "<Figure size 1080x360 with 1 Axes>"
      ]
     },
     "metadata": {
      "needs_background": "light"
     },
     "output_type": "display_data"
    }
   ],
   "source": [
    "df.hist('rooms', bins=10, range=(0,10), figsize=(15,5))\n",
    "plt.title('Зависимость продаж квартир от количества комнат')\n",
    "plt.xlabel('Количество комнат')\n",
    "plt.ylabel('Количество квартир')\n",
    "plt.show()"
   ]
  },
  {
   "cell_type": "markdown",
   "metadata": {},
   "source": [
    "По гистограмме видно что в продаже больше всего 1, 2, 3 комнатных квартир. Увеличение количества комнат в продаваемых объектах в дальнейшем снижается линейно."
   ]
  },
  {
   "cell_type": "markdown",
   "metadata": {},
   "source": [
    "****Высота потолков****"
   ]
  },
  {
   "cell_type": "code",
   "execution_count": 45,
   "metadata": {},
   "outputs": [
    {
     "data": {
      "text/plain": [
       "count   23699.00\n",
       "mean        2.70\n",
       "std         0.23\n",
       "min         0.60\n",
       "25%         2.60\n",
       "50%         2.65\n",
       "75%         2.70\n",
       "max        10.00\n",
       "Name: ceiling_height, dtype: float64"
      ]
     },
     "execution_count": 45,
     "metadata": {},
     "output_type": "execute_result"
    }
   ],
   "source": [
    "df['ceiling_height'].describe()"
   ]
  },
  {
   "cell_type": "code",
   "execution_count": 46,
   "metadata": {},
   "outputs": [
    {
     "data": {
      "image/png": "[encoded data removed]",
      "text/plain": [
       "<Figure size 1080x360 with 1 Axes>"
      ]
     },
     "metadata": {
      "needs_background": "light"
     },
     "output_type": "display_data"
    }
   ],
   "source": [
    "df.hist('ceiling_height', bins=14, range=(2.3, 3.5), figsize=(15,5))\n",
    "plt.title('Зависимость продаж квартир от высоты потолков')\n",
    "plt.xlabel('Высота потолков')\n",
    "plt.ylabel('Количество квартир')\n",
    "plt.show()"
   ]
  },
  {
   "cell_type": "markdown",
   "metadata": {},
   "source": [
    "В продаже 80% квартир со стандартной высотой потолков 2.5 - 2.8м. "
   ]
  },
  {
   "cell_type": "markdown",
   "metadata": {},
   "source": [
    "****Тип этажа квартиры (\"первый\", \"последний\",\"другой\")****"
   ]
  },
  {
   "cell_type": "code",
   "execution_count": 47,
   "metadata": {},
   "outputs": [
    {
     "data": {
      "text/plain": [
       "count   23699.00\n",
       "mean        5.89\n",
       "std         4.89\n",
       "min         1.00\n",
       "25%         2.00\n",
       "50%         4.00\n",
       "75%         8.00\n",
       "max        33.00\n",
       "Name: floor, dtype: float64"
      ]
     },
     "execution_count": 47,
     "metadata": {},
     "output_type": "execute_result"
    }
   ],
   "source": [
    "df['floor'].describe()"
   ]
  },
  {
   "cell_type": "code",
   "execution_count": 48,
   "metadata": {},
   "outputs": [
    {
     "data": {
      "image/png": "[encoded data removed]",
      "text/plain": [
       "<Figure size 1080x360 with 1 Axes>"
      ]
     },
     "metadata": {
      "needs_background": "light"
     },
     "output_type": "display_data"
    }
   ],
   "source": [
    "df.hist('floor', bins=30, range=(0, 30), figsize=(15,5))\n",
    "plt.title('Зависимость продаж квартир от этажа')\n",
    "plt.xlabel('Этаж')\n",
    "plt.ylabel('Количество квартир')\n",
    "plt.show()"
   ]
  },
  {
   "cell_type": "code",
   "execution_count": 49,
   "metadata": {},
   "outputs": [
    {
     "data": {
      "image/png": "[encoded data removed]",
      "text/plain": [
       "<Figure size 432x432 with 1 Axes>"
      ]
     },
     "metadata": {},
     "output_type": "display_data"
    }
   ],
   "source": [
    "# Строим круговую диаграмму цены объекта от его этажности\n",
    "df.pivot_table(index='type_floor_apartment',values='last_price',aggfunc='count').plot.pie(y='last_price', figsize=(6,6), label='', title='Зависимость предложений от этажности объекта')\n",
    "plt.show()"
   ]
  },
  {
   "cell_type": "markdown",
   "metadata": {},
   "source": [
    "3/4 всех объявлений в продаже занимают квартиры между первым и последним этажом. 1/4 в продаже составляют первые и последнии этажи. Из гистограммы видно что большую часть продаж составляют этажи с 1 по 6, дальше идет спад."
   ]
  },
  {
   "cell_type": "markdown",
   "metadata": {},
   "source": [
    "****Общее количество этажей в доме****"
   ]
  },
  {
   "cell_type": "code",
   "execution_count": 50,
   "metadata": {},
   "outputs": [
    {
     "data": {
      "text/plain": [
       "count   23699.00\n",
       "mean       10.68\n",
       "std         6.60\n",
       "min         1.00\n",
       "25%         5.00\n",
       "50%         9.00\n",
       "75%        16.00\n",
       "max        60.00\n",
       "Name: floors_total, dtype: float64"
      ]
     },
     "execution_count": 50,
     "metadata": {},
     "output_type": "execute_result"
    }
   ],
   "source": [
    "df['floors_total'].describe()"
   ]
  },
  {
   "cell_type": "code",
   "execution_count": 51,
   "metadata": {},
   "outputs": [
    {
     "data": {
      "image/png": "[encoded data removed]",
      "text/plain": [
       "<Figure size 1080x360 with 1 Axes>"
      ]
     },
     "metadata": {
      "needs_background": "light"
     },
     "output_type": "display_data"
    }
   ],
   "source": [
    "df.hist('floors_total', bins=30, range=(0, 30), figsize=(15,5))\n",
    "plt.title('Зависимость продаж квартир от этажности дома')\n",
    "plt.xlabel('количество этажей в доме')\n",
    "plt.ylabel('Количество квартир')\n",
    "plt.show()"
   ]
  },
  {
   "cell_type": "markdown",
   "metadata": {},
   "source": [
    "Больший объем объявлений о продаже приходится на дома с 5 этажами (около 6тыс.), потом в 9-ти этажных домах(около 4тыс.). Ничего не обычного - эти дома типовой застройки. "
   ]
  },
  {
   "cell_type": "markdown",
   "metadata": {},
   "source": [
    "****Расстояние до центра города в м****"
   ]
  },
  {
   "cell_type": "code",
   "execution_count": 52,
   "metadata": {},
   "outputs": [
    {
     "data": {
      "text/plain": [
       "count   18180.00\n",
       "mean    14191.28\n",
       "std      8608.39\n",
       "min       181.00\n",
       "25%      9238.00\n",
       "50%     13098.50\n",
       "75%     16293.00\n",
       "max     65968.00\n",
       "Name: city_centers_nearest, dtype: float64"
      ]
     },
     "execution_count": 52,
     "metadata": {},
     "output_type": "execute_result"
    }
   ],
   "source": [
    "df['city_centers_nearest'].describe()"
   ]
  },
  {
   "cell_type": "code",
   "execution_count": 53,
   "metadata": {},
   "outputs": [
    {
     "data": {
      "image/png": "[encoded data removed]",
      "text/plain": [
       "<Figure size 1080x360 with 1 Axes>"
      ]
     },
     "metadata": {
      "needs_background": "light"
     },
     "output_type": "display_data"
    }
   ],
   "source": [
    "df.hist('city_centers_nearest', bins=100, range=(0,25000), figsize=(15,5))\n",
    "plt.title('Зависимость продаж квартир от расстояния квартиры от центра города')\n",
    "plt.xlabel('Расстояние до центра города, м')\n",
    "plt.ylabel('Количество квартир')\n",
    "plt.show()"
   ]
  },
  {
   "cell_type": "markdown",
   "metadata": {},
   "source": [
    "Наблюдается увеличение продаж в районе 5км и 12-15км (возможно это спальный район или пригород)"
   ]
  },
  {
   "cell_type": "markdown",
   "metadata": {},
   "source": [
    "****Расстояние до ближайшего парка****"
   ]
  },
  {
   "cell_type": "code",
   "execution_count": 54,
   "metadata": {},
   "outputs": [
    {
     "data": {
      "text/plain": [
       "count   8079.00\n",
       "mean     490.80\n",
       "std      342.32\n",
       "min        1.00\n",
       "25%      288.00\n",
       "50%      455.00\n",
       "75%      612.00\n",
       "max     3190.00\n",
       "Name: parks_nearest, dtype: float64"
      ]
     },
     "execution_count": 54,
     "metadata": {},
     "output_type": "execute_result"
    }
   ],
   "source": [
    "df['parks_nearest'].describe()"
   ]
  },
  {
   "cell_type": "code",
   "execution_count": 55,
   "metadata": {},
   "outputs": [
    {
     "data": {
      "image/png": "[encoded data removed]",
      "text/plain": [
       "<Figure size 1080x360 with 1 Axes>"
      ]
     },
     "metadata": {
      "needs_background": "light"
     },
     "output_type": "display_data"
    }
   ],
   "source": [
    "df.hist('parks_nearest', bins=100, range=(0,3300), figsize=(15,5))\n",
    "plt.title('Зависимость продаж квартир от расстояния квартиры до ближайшего парка')\n",
    "plt.xlabel('Расстояние до парка, м')\n",
    "plt.ylabel('Количество квартир')\n",
    "plt.show()"
   ]
  },
  {
   "cell_type": "markdown",
   "metadata": {},
   "source": [
    "Среднее расстояние до парка от продаваемых объектов 300-600 м."
   ]
  },
  {
   "cell_type": "markdown",
   "metadata": {},
   "source": [
    "**Вывод по разделу - изучение параметров объекта продажи:**\n",
    "1. Средняя площадь продаваемых квартир находится от 40 до 70 кв.м. По гистограмме видно что значительный объем (примерно 20%) в продаже занимает площадь от 30 до 40 кв.м. Выбросы площади более 200 кв.м. скорее относится к элитному жилью (загородный дом).\n",
    "2. 50% продаж приходится на квартиры площадью от 30 до 50 кв.м., 30% на квартиры площадьи от 14 до 22 кв.м.\n",
    "3. Размер кухни не влияет на продажу квартир, т.к. не видно на гистограмме явного выделения в какой-либо группе. Большую часть продаж занимают квартиры со стандартной площадью 6-12 кв.м. Группа продаж около 0 значения относится скорее к студии.\n",
    "4. Пик продаж приходится на квартиры ценой 3,5-4,5 млн. Дальше наблюдается спад в количестве продаваемых квартир. \n",
    "5. По гистограмме видно что в продаже больше всего 1, 2, 3 комнатных квартир. Увеличение количества комнат в продаваемых объектах в дальнейшем снижается линейно.\n",
    "6. В продаже 80% квартир со стандартной высотой потолков 2.6 - 2.8м.\n",
    "7. 3/4 всех объявлений в продаже занимают квартиры между первым и последним этажом. 1/4 в продаже составляют первые и последнии этажи. Из гистограммы видно что большую часть продаж составляют этажи с 1 по 6, дальше идет спад.\n",
    "8. Больший объем объявлений о продаже приходится на дома с 5 этажами (около 6тыс.), потом в 9-ти этажных домах(около 4тыс.). Ничего не обычного - эти дома типовой застройки.\n",
    "9. Наблюдается увеличение продаж в районе 5км и 12-15км (возможно это спальный район или пригород)\n",
    "10. От парка до продаваемых объектов 300-600 м.\n",
    "\n",
    "Заключение: Среднестатистическое предложение - квартира в 5-9-ти этажном доме средней площадью до 52 кв. метра с кухней в 6 (8-10) кв. метров, высотой потолков 2,65 метра, скорее всего однокомнатная или двухкомнатная в предела 5-12км от центра города.."
   ]
  },
  {
   "cell_type": "markdown",
   "metadata": {},
   "source": [
    "***Изучим как быстро продаются квартиры***"
   ]
  },
  {
   "cell_type": "code",
   "execution_count": 56,
   "metadata": {},
   "outputs": [
    {
     "data": {
      "text/plain": [
       "count   20518.00\n",
       "mean      180.89\n",
       "std       219.73\n",
       "min         1.00\n",
       "25%        45.00\n",
       "50%        95.00\n",
       "75%       232.00\n",
       "max      1580.00\n",
       "Name: days_exposition, dtype: float64"
      ]
     },
     "execution_count": 56,
     "metadata": {},
     "output_type": "execute_result"
    }
   ],
   "source": [
    "df['days_exposition'].describe()"
   ]
  },
  {
   "cell_type": "code",
   "execution_count": 57,
   "metadata": {},
   "outputs": [
    {
     "data": {
      "image/png": "[encoded data removed]",
      "text/plain": [
       "<Figure size 1080x360 with 1 Axes>"
      ]
     },
     "metadata": {
      "needs_background": "light"
     },
     "output_type": "display_data"
    }
   ],
   "source": [
    "df.hist('days_exposition', bins=52, range=(0,365), figsize=(15,5))\n",
    "plt.title('Продажи квартир по времени')\n",
    "plt.xlabel('Общее время размещения объявления, дней')\n",
    "plt.ylabel('Количество квартир')\n",
    "plt.show()"
   ]
  },
  {
   "cell_type": "markdown",
   "metadata": {},
   "source": [
    "**Вывод**\n",
    "Гистограмма показывает что быстрые продажи объекта - до 45 дней, средние продажи в районе 180 дней, долгие - свыше 230 дней.\n",
    "Медианное значение в 95 дней указывает на более правильное среднее время продажи т.к. не зависит от выбросов"
   ]
  },
  {
   "cell_type": "markdown",
   "metadata": {},
   "source": [
    "***Определим факторы, которые больше всего влияют на общую (полную) стоимость объекта.***"
   ]
  },
  {
   "cell_type": "markdown",
   "metadata": {},
   "source": [
    "Произведем очистку столбцов kitchen_area, last_price, living_area, rooms, total_area, ceiling_height от первой и последней четверти выборки для исключения влияния выбросов."
   ]
  },
  {
   "cell_type": "code",
   "execution_count": 58,
   "metadata": {},
   "outputs": [],
   "source": [
    "# Оставим данные в диапазоне 25-75% межквартильного размаха\n",
    "def quartile_range(df, column):\n",
    "    q1 = df[column].quantile(0.25)\n",
    "    q3 = df[column].quantile(0.75)\n",
    "    iqr = q3 - q1\n",
    "    dfq = df.loc[(df[column] < q3 + 1.5*iqr) & (df[column] > q1 - 1.5*iqr), column]\n",
    "    return dfq\n",
    "# Столбцы с выбросами\n",
    "new = ['last_price', 'total_area', 'living_area', 'kitchen_area', 'rooms']\n",
    "for col in new:\n",
    "    df[col] = quartile_range(df, col)"
   ]
  },
  {
   "cell_type": "code",
   "execution_count": 59,
   "metadata": {},
   "outputs": [
    {
     "name": "stdout",
     "output_type": "stream",
     "text": [
      "Корреляция:\n",
      "              kitchen_area  last_price  living_area  rooms  total_area\n",
      "kitchen_area          1.00        0.51        -0.14  -0.13        0.34\n",
      "last_price            0.51        1.00         0.71   0.55        0.91\n",
      "living_area          -0.14        0.71         1.00   0.90        0.91\n",
      "rooms                -0.13        0.55         0.90   1.00        0.79\n",
      "total_area            0.34        0.91         0.91   0.79        1.00\n"
     ]
    }
   ],
   "source": [
    "print('Корреляция:')\n",
    "print(df.pivot_table(index='floor', values=['last_price','total_area','living_area','kitchen_area','rooms']).corr())"
   ]
  },
  {
   "cell_type": "markdown",
   "metadata": {},
   "source": [
    "Чем выше корреляция тем зависимость параметров больше друг от друга. Измененые данные позволяют сказать что есть прямая зависимость стоимости объекта от общей площади, жилой площади. Меньше всего влияет на стоимость объекта размер кухни и количество комнат. "
   ]
  },
  {
   "cell_type": "markdown",
   "metadata": {},
   "source": [
    "Построим графики зависимости стоимости от параметров указанных выше."
   ]
  },
  {
   "cell_type": "code",
   "execution_count": 60,
   "metadata": {},
   "outputs": [
    {
     "data": {
      "image/png": "[encoded data removed]",
      "text/plain": [
       "<Figure size 720x288 with 1 Axes>"
      ]
     },
     "metadata": {
      "needs_background": "light"
     },
     "output_type": "display_data"
    }
   ],
   "source": [
    "df.pivot_table(index='total_area', values='last_price').plot(grid=True, style='o', figsize=(10, 4))\n",
    "plt.title('Зависимость стоимости от общей площади')\n",
    "plt.show()"
   ]
  },
  {
   "cell_type": "code",
   "execution_count": 61,
   "metadata": {},
   "outputs": [
    {
     "data": {
      "image/png": "[encoded data removed]",
      "text/plain": [
       "<Figure size 720x288 with 1 Axes>"
      ]
     },
     "metadata": {
      "needs_background": "light"
     },
     "output_type": "display_data"
    }
   ],
   "source": [
    "df.pivot_table(index='living_area', values='last_price').plot(grid=True, style='o', figsize=(10, 4))\n",
    "plt.title('Зависимость стоимости от жилой площади')\n",
    "plt.show()"
   ]
  },
  {
   "cell_type": "code",
   "execution_count": 62,
   "metadata": {},
   "outputs": [
    {
     "data": {
      "image/png": "[encoded data removed]",
      "text/plain": [
       "<Figure size 720x288 with 1 Axes>"
      ]
     },
     "metadata": {
      "needs_background": "light"
     },
     "output_type": "display_data"
    }
   ],
   "source": [
    "df.pivot_table(index='kitchen_area', values='last_price').plot(grid=True, style='o', figsize=(10, 4))\n",
    "plt.title('Зависимость стоимости от площади кухни')\n",
    "plt.show()"
   ]
  },
  {
   "cell_type": "code",
   "execution_count": 63,
   "metadata": {},
   "outputs": [
    {
     "data": {
      "image/png": "[encoded data removed]",
      "text/plain": [
       "<Figure size 720x288 with 1 Axes>"
      ]
     },
     "metadata": {
      "needs_background": "light"
     },
     "output_type": "display_data"
    }
   ],
   "source": [
    "df.pivot_table(index='rooms', values='last_price').plot(grid=True, style='o-', figsize=(10, 4))\n",
    "plt.title('Зависимость стоимости от количества комнат')\n",
    "plt.show()"
   ]
  },
  {
   "cell_type": "code",
   "execution_count": 64,
   "metadata": {},
   "outputs": [
    {
     "data": {
      "image/png": "[encoded data removed]",
      "text/plain": [
       "<Figure size 720x288 with 1 Axes>"
      ]
     },
     "metadata": {
      "needs_background": "light"
     },
     "output_type": "display_data"
    }
   ],
   "source": [
    "df.pivot_table(index='type_floor_apartment', values='last_price').plot(grid=True, style='o-', figsize=(10, 4))\n",
    "plt.title('Зависимость стоимости от типа расположения этажа')\n",
    "plt.show()"
   ]
  },
  {
   "cell_type": "code",
   "execution_count": 65,
   "metadata": {},
   "outputs": [
    {
     "data": {
      "image/png": "[encoded data removed]",
      "text/plain": [
       "<Figure size 720x288 with 1 Axes>"
      ]
     },
     "metadata": {
      "needs_background": "light"
     },
     "output_type": "display_data"
    }
   ],
   "source": [
    "df.pivot_table(index='day_publication', values='last_price').plot(grid=True, style='o-', figsize=(10, 4))\n",
    "plt.title('Зависимость стоимости от дня публикации')\n",
    "plt.show()"
   ]
  },
  {
   "cell_type": "code",
   "execution_count": 66,
   "metadata": {},
   "outputs": [
    {
     "data": {
      "image/png": "[encoded data removed]",
      "text/plain": [
       "<Figure size 720x288 with 1 Axes>"
      ]
     },
     "metadata": {
      "needs_background": "light"
     },
     "output_type": "display_data"
    }
   ],
   "source": [
    "df.pivot_table(index='month_publication', values='last_price').plot(grid=True, style='o-', figsize=(10, 4))\n",
    "plt.title('Зависимость стоимости от месяца публикации')\n",
    "plt.show()"
   ]
  },
  {
   "cell_type": "code",
   "execution_count": 67,
   "metadata": {},
   "outputs": [
    {
     "data": {
      "image/png": "[encoded data removed]",
      "text/plain": [
       "<Figure size 720x288 with 1 Axes>"
      ]
     },
     "metadata": {
      "needs_background": "light"
     },
     "output_type": "display_data"
    }
   ],
   "source": [
    "df.pivot_table(index='year_publication', values='last_price').plot(grid=True, style='o-', figsize=(10, 4))\n",
    "plt.title('Зависимость стоимости от года публикации')\n",
    "plt.show()"
   ]
  },
  {
   "cell_type": "markdown",
   "metadata": {},
   "source": [
    "***Вывод***\n",
    "\n",
    "Графики рассеивания подтвердили прямую зависимость стоимости объекта от общей и жилой площади. Чем больше площадь, тем выше стоимость.\n",
    "Количество комнат прямо пропорционально влияет на стоимость (больше комнат выше цена, т.к. увеличивается жилая площадь), хотя корреляция и меньше чем от жилой площади. Возможно это из-за квартир свободной планировки.\n",
    "Наблюдается небольшая тенденция к увеличению стоимости квартиры от площади кухни.  \n",
    "В продаже значительно больше объектов расположенных средних этажах.\n",
    "Зависимости стоимости от дня недели, когда квартира была выставлена на продажу, месяца и года практически нулевая. "
   ]
  },
  {
   "cell_type": "markdown",
   "metadata": {},
   "source": [
    "***Посчитаем среднюю цену одного квадратного метра в 10 населенных пунктах с наибольшим числом объявлений***"
   ]
  },
  {
   "cell_type": "code",
   "execution_count": 68,
   "metadata": {},
   "outputs": [
    {
     "name": "stdout",
     "output_type": "stream",
     "text": [
      "                 count  price_square_meter\n",
      "locality_name                             \n",
      "санкт-петербург  13737           114849.01\n",
      "мурино             590            86087.51\n",
      "кудрово            470            95324.93\n",
      "шушары             440            78677.36\n",
      "всеволожск         397            68654.47\n",
      "пушкин             338           103125.82\n",
      "колпино            336            75424.58\n",
      "парголово          327            90175.91\n",
      "гатчина            305            68746.15\n",
      "выборг             236            58141.91\n"
     ]
    }
   ],
   "source": [
    "# создаем переменную с данными таблицы\n",
    "average_price_sq_m_locality_name = df.pivot_table(index='locality_name', values='last_price', aggfunc=['count'])\n",
    "average_price_sq_m_locality_name.columns = ['count']\n",
    "# сортируем данные по количеству объявлений\n",
    "average_price_sq_m_locality_name = average_price_sq_m_locality_name.sort_values(by='count', ascending=False)\n",
    "average_price_sq_m_locality_name['price_square_meter'] = df.pivot_table(index='locality_name', values='price_square_meter').round(2)\n",
    "print(average_price_sq_m_locality_name.head(10))"
   ]
  },
  {
   "cell_type": "markdown",
   "metadata": {},
   "source": [
    "****Вывод****\n",
    "\n",
    "В таблице выведены 10 городов с наибольшими количествами объявлений о продаже. Лидером по стоимости кв.м. является Санкт-Петербург, как и по количеству объявлений, что на прямую связано с количеством населения. Самым низким по стоимости кв.м. жилья из 10 первых по количеству объявлений является район Выборга (скорее всего из-за удаленности от Санкт-Петербурга)."
   ]
  },
  {
   "cell_type": "markdown",
   "metadata": {},
   "source": [
    "**Средняя стоимость квартир в зависимости от удаления от центра Санкт-Петербурга**"
   ]
  },
  {
   "cell_type": "code",
   "execution_count": 69,
   "metadata": {},
   "outputs": [
    {
     "data": {
      "text/html": [
       "<div>\n",
       "<style scoped>\n",
       "    .dataframe tbody tr th:only-of-type {\n",
       "        vertical-align: middle;\n",
       "    }\n",
       "\n",
       "    .dataframe tbody tr th {\n",
       "        vertical-align: top;\n",
       "    }\n",
       "\n",
       "    .dataframe thead th {\n",
       "        text-align: right;\n",
       "    }\n",
       "</style>\n",
       "<table border=\"1\" class=\"dataframe\">\n",
       "  <thead>\n",
       "    <tr style=\"text-align: right;\">\n",
       "      <th></th>\n",
       "      <th>mean_price</th>\n",
       "    </tr>\n",
       "    <tr>\n",
       "      <th>distance_city_centers</th>\n",
       "      <th></th>\n",
       "    </tr>\n",
       "  </thead>\n",
       "  <tbody>\n",
       "    <tr>\n",
       "      <th>0.00</th>\n",
       "      <td>8.40</td>\n",
       "    </tr>\n",
       "    <tr>\n",
       "      <th>1.00</th>\n",
       "      <td>8.15</td>\n",
       "    </tr>\n",
       "    <tr>\n",
       "      <th>2.00</th>\n",
       "      <td>7.97</td>\n",
       "    </tr>\n",
       "    <tr>\n",
       "      <th>3.00</th>\n",
       "      <td>7.35</td>\n",
       "    </tr>\n",
       "    <tr>\n",
       "      <th>4.00</th>\n",
       "      <td>7.61</td>\n",
       "    </tr>\n",
       "    <tr>\n",
       "      <th>5.00</th>\n",
       "      <td>7.66</td>\n",
       "    </tr>\n",
       "    <tr>\n",
       "      <th>6.00</th>\n",
       "      <td>7.11</td>\n",
       "    </tr>\n",
       "    <tr>\n",
       "      <th>7.00</th>\n",
       "      <td>6.64</td>\n",
       "    </tr>\n",
       "    <tr>\n",
       "      <th>8.00</th>\n",
       "      <td>6.62</td>\n",
       "    </tr>\n",
       "    <tr>\n",
       "      <th>9.00</th>\n",
       "      <td>5.52</td>\n",
       "    </tr>\n",
       "    <tr>\n",
       "      <th>10.00</th>\n",
       "      <td>5.43</td>\n",
       "    </tr>\n",
       "    <tr>\n",
       "      <th>11.00</th>\n",
       "      <td>5.32</td>\n",
       "    </tr>\n",
       "    <tr>\n",
       "      <th>12.00</th>\n",
       "      <td>5.29</td>\n",
       "    </tr>\n",
       "    <tr>\n",
       "      <th>13.00</th>\n",
       "      <td>5.51</td>\n",
       "    </tr>\n",
       "    <tr>\n",
       "      <th>14.00</th>\n",
       "      <td>5.27</td>\n",
       "    </tr>\n",
       "    <tr>\n",
       "      <th>15.00</th>\n",
       "      <td>5.29</td>\n",
       "    </tr>\n",
       "    <tr>\n",
       "      <th>16.00</th>\n",
       "      <td>5.10</td>\n",
       "    </tr>\n",
       "    <tr>\n",
       "      <th>17.00</th>\n",
       "      <td>4.86</td>\n",
       "    </tr>\n",
       "    <tr>\n",
       "      <th>18.00</th>\n",
       "      <td>4.71</td>\n",
       "    </tr>\n",
       "    <tr>\n",
       "      <th>19.00</th>\n",
       "      <td>4.81</td>\n",
       "    </tr>\n",
       "    <tr>\n",
       "      <th>20.00</th>\n",
       "      <td>5.95</td>\n",
       "    </tr>\n",
       "    <tr>\n",
       "      <th>21.00</th>\n",
       "      <td>5.49</td>\n",
       "    </tr>\n",
       "    <tr>\n",
       "      <th>22.00</th>\n",
       "      <td>5.17</td>\n",
       "    </tr>\n",
       "    <tr>\n",
       "      <th>23.00</th>\n",
       "      <td>4.69</td>\n",
       "    </tr>\n",
       "    <tr>\n",
       "      <th>24.00</th>\n",
       "      <td>3.85</td>\n",
       "    </tr>\n",
       "    <tr>\n",
       "      <th>25.00</th>\n",
       "      <td>4.05</td>\n",
       "    </tr>\n",
       "    <tr>\n",
       "      <th>26.00</th>\n",
       "      <td>3.97</td>\n",
       "    </tr>\n",
       "    <tr>\n",
       "      <th>27.00</th>\n",
       "      <td>2.25</td>\n",
       "    </tr>\n",
       "    <tr>\n",
       "      <th>28.00</th>\n",
       "      <td>5.03</td>\n",
       "    </tr>\n",
       "    <tr>\n",
       "      <th>29.00</th>\n",
       "      <td>4.24</td>\n",
       "    </tr>\n",
       "  </tbody>\n",
       "</table>\n",
       "</div>"
      ],
      "text/plain": [
       "                       mean_price\n",
       "distance_city_centers            \n",
       "0.00                         8.40\n",
       "1.00                         8.15\n",
       "2.00                         7.97\n",
       "3.00                         7.35\n",
       "4.00                         7.61\n",
       "5.00                         7.66\n",
       "6.00                         7.11\n",
       "7.00                         6.64\n",
       "8.00                         6.62\n",
       "9.00                         5.52\n",
       "10.00                        5.43\n",
       "11.00                        5.32\n",
       "12.00                        5.29\n",
       "13.00                        5.51\n",
       "14.00                        5.27\n",
       "15.00                        5.29\n",
       "16.00                        5.10\n",
       "17.00                        4.86\n",
       "18.00                        4.71\n",
       "19.00                        4.81\n",
       "20.00                        5.95\n",
       "21.00                        5.49\n",
       "22.00                        5.17\n",
       "23.00                        4.69\n",
       "24.00                        3.85\n",
       "25.00                        4.05\n",
       "26.00                        3.97\n",
       "27.00                        2.25\n",
       "28.00                        5.03\n",
       "29.00                        4.24"
      ]
     },
     "execution_count": 69,
     "metadata": {},
     "output_type": "execute_result"
    }
   ],
   "source": [
    "spb_km_price = df.query('locality_name == \"санкт-петербург\"')\n",
    "spb_km_price = spb_km_price.pivot_table(index='distance_city_centers', values='last_price', aggfunc=['mean'])\n",
    "spb_km_price.columns = ['mean_price']\n",
    "spb_km_price.head(32)"
   ]
  },
  {
   "cell_type": "code",
   "execution_count": 70,
   "metadata": {},
   "outputs": [
    {
     "data": {
      "text/plain": [
       "Text(0.5, 1.0, 'Зависимость стоимости квартиры от расстояния до центра СПБ')"
      ]
     },
     "execution_count": 70,
     "metadata": {},
     "output_type": "execute_result"
    },
    {
     "data": {
      "image/png": "[encoded data removed]",
      "text/plain": [
       "<Figure size 1440x360 with 1 Axes>"
      ]
     },
     "metadata": {
      "needs_background": "light"
     },
     "output_type": "display_data"
    }
   ],
   "source": [
    "spb_km_price.pivot_table(index='distance_city_centers', values='mean_price').plot(grid=True, style='o-', figsize=(20, 5))\n",
    "plt.title('Зависимость стоимости квартиры от расстояния до центра СПБ')"
   ]
  },
  {
   "cell_type": "markdown",
   "metadata": {},
   "source": [
    "**Вывод**\n",
    "\n",
    "В таблице выведена средняя стоимость объектов в СПБ в зависимости от удаления от центра. \n",
    "По графику можно сделать заключение, что на квартиры в центре в пределах до 2 км будет наибольшая стоимость. Дальше до 19 км идет почти линейное снижение цены объекта. Наблюдается всплеск на 20 и 28 км (возможно это новые районы застройки).  "
   ]
  },
  {
   "cell_type": "markdown",
   "metadata": {
    "id": "h7VpzkIDAwb-"
   },
   "source": [
    "### Напишите общий вывод"
   ]
  },
  {
   "cell_type": "markdown",
   "metadata": {
    "id": "3H4lnp_KAwb-"
   },
   "source": [
    "*ОБЩИЙ ВЫВОД*\n",
    "\n",
    "1. Из общей информации о предоставленных данных можно сказать следующее:\n",
    " 1. наличие пропущенных значений и не корректный тип данных\n",
    " 2. отсутствие дубликатов\n",
    " 3. в нескольких гистограммах есть незначительные выбросы данных\n",
    "\n",
    "Вывод - произведем предобработку данных\n",
    "\n",
    "2. Предобработкой данных изменили: столбец с заглавной буквой, заполнили пропуски в значениях, изменили типы данных, во временном столбце убрали значение внутридневного размещения объявления. В таблицу добавлены столбцы:  price_square_meter, day_publication, month_publication, year_publication, type_floor_apartment, distance_city_centers.\n",
    "\n",
    "Вывод - пропуски в автоматически собранных данных вероятно появиться вследствие некорректной информации от пользователя (некорректный адрес квартиры). Пропуски и ошибки в информации от пользователя - возможно человеческий фактор (некорректный ввод данных или отсутствие технической возможности внести эти данные, либо неполная информация). Возможно, необходимо доработать форму подачи объявления.\n",
    "\n",
    "3. Провели исследовательский анализ предоставленных данных\n",
    "   1. С помощью гистограмм провели анализ зависимости по отдельным параметрам \n",
    "      1. Средняя площадь  квартир находится от 40 до 70 кв.м. 50% - квартиры площадью от 30 до 50кв.м., 30% -от  14 до 22 кв.м.\n",
    "      2. Размер кухни не влияет на продажу квартир. Большую часть продаж занимают квартиры со стандартной площадью 6-12 кв.м.\n",
    "      3. Пик продаж приходится на квартиры ценой 3,5-4,5 млн. \n",
    "      4. Больше всего 1, 2, 3 комнатных квартир. \n",
    "      4. В продаже 80% квартир со стандартной высотой потолков 2.6 - 2.8м.\n",
    "      5. 3/4 всех объявлений в продаже занимают квартиры между первым и последним этажом в 5-9-ти этажных домах.\n",
    "      6. Увеличение продаж в районе 5км и 12-15км (возможно это спальный район или пригород), и в 300-600 м от парка.\n",
    "         \n",
    "      Заключение: Среднестатистическое предложение - квартира в 5-9-ти этажном доме средней площадью до 52 кв. метра с кухней в 8 кв. метров, высотой потолков 2,65 метра, скорее всего однокомнатная или двухкомнатная в предела 5-12км от центра города.\n",
    "   \n",
    "   2. Определили среднее время продажи квартиры в 180 дней. Быстрые продажи объекта - до 45 дней, долгие - свыше 230 дней. Среднее (медианное)время продажи в 3 месяца более реалистично, т.к. меньше подвержено влиянию сверхбыстрых и сверхдолгих продаж.\n",
    "   \n",
    "   3. Определили факторы, которые больше всего влияют на общую (полную) стоимость объекта. \n",
    "       Заключение: \n",
    "       1. Графики рассеивания подтвердили прямую зависимость стоимости объекта от общей и жилой площади. \n",
    "       2. Количество комнат прямо пропорционально влияет на стоимость (больше комнат выше цена, т.к. увеличивается жилая площадь), хотя корреляция и меньше чем от жилой площади. \n",
    "       3. Наблюдается небольшая тенденция к увеличению стоимости квартиры от площади кухни.\n",
    "       4. В продаже значительно больше объектов расположенных не на первом и не на последнем этажах. \n",
    "       5. Зависимости стоимости от дня недели, когда квартира была выставлена на продажу, месяца и года практически нулевая.\n",
    "\n",
    "   4. Рассчитали среднюю цену одного квадратного метра в 10 населенных пунктах с наибольшим числом объявлений\n",
    "      Лидером по стоимости кв.м. является Санкт-Петербург, как и по количеству объявлений, что на прямую связано с количеством населения. Самым низким по стоимости кв.м. жилья из 10 первых по количеству объявлений является район Выборга (скорее всего из-за удаленности от Санкт-Петербурга).\n",
    "   \n",
    "   5. Вычислили среднюю стоимость квартиры  на удалении от центра.\n",
    "      В центре квартира в пределах до 2 км будет иметь наибольшую стоимость (8-8.4млн). Чем дальше от центра тем цена уменьшается. Наблюдается всплеск на 20 и 28 км (возможно это новые районы застройки).\n",
    "      \n",
    "Итоговое заключение:\n",
    "\n",
    "    Параметры влияющие на стоимость квартиры в порядке убывания:\n",
    "    1. Общая, жилая площадь и количество комнат\n",
    "    2. Расположение квартиры по отношению к центру города\n",
    "    3. Этаж нахождения квартиры\n",
    "  \n",
    "    Остальные параметры не влияют на прямую зависимость от них стоимости жилья. \n",
    "    Для более полной картины зависимости стоимости квартиры можно добавить параметры относящиеся к самому зданию (паркинг, количество лифтов, расположение котельной...), а также к инфраструктуре объекта (наличие детского сада, поликлиники, остановки транспортных средств, магазинов, рынков и т.д.).   \n",
    "      "
   ]
  }
 ],
 "metadata": {
  "ExecuteTimeLog": [
   {
    "duration": 485,
    "start_time": "2024-06-29T13:04:58.786Z"
   },
   {
    "duration": 110,
    "start_time": "2024-06-29T13:10:54.370Z"
   },
   {
    "duration": 263,
    "start_time": "2024-06-29T13:11:14.286Z"
   },
   {
    "duration": 102,
    "start_time": "2024-06-29T13:13:31.656Z"
   },
   {
    "duration": 63,
    "start_time": "2024-06-29T13:14:44.287Z"
   },
   {
    "duration": 64,
    "start_time": "2024-06-29T13:14:58.671Z"
   },
   {
    "duration": 498,
    "start_time": "2024-06-29T13:15:34.776Z"
   },
   {
    "duration": 97,
    "start_time": "2024-06-29T13:15:46.410Z"
   },
   {
    "duration": 129,
    "start_time": "2024-06-29T13:18:27.801Z"
   },
   {
    "duration": 100,
    "start_time": "2024-06-29T13:20:02.248Z"
   },
   {
    "duration": 97,
    "start_time": "2024-06-29T13:20:11.762Z"
   },
   {
    "duration": 126,
    "start_time": "2024-06-29T13:20:17.975Z"
   },
   {
    "duration": 11,
    "start_time": "2024-06-29T13:25:24.675Z"
   },
   {
    "duration": 99,
    "start_time": "2024-06-29T13:25:31.774Z"
   },
   {
    "duration": 89,
    "start_time": "2024-06-29T13:29:50.472Z"
   },
   {
    "duration": 107,
    "start_time": "2024-06-29T13:30:13.331Z"
   },
   {
    "duration": 127,
    "start_time": "2024-06-29T13:30:58.194Z"
   },
   {
    "duration": 106,
    "start_time": "2024-06-29T13:36:15.217Z"
   },
   {
    "duration": 101,
    "start_time": "2024-06-29T13:36:36.473Z"
   },
   {
    "duration": 94,
    "start_time": "2024-06-29T13:37:46.465Z"
   },
   {
    "duration": 18,
    "start_time": "2024-06-29T13:42:32.534Z"
   },
   {
    "duration": 1692,
    "start_time": "2024-06-29T13:45:13.305Z"
   },
   {
    "duration": 8,
    "start_time": "2024-06-29T14:41:49.792Z"
   },
   {
    "duration": 55,
    "start_time": "2024-06-29T14:49:22.420Z"
   },
   {
    "duration": 60,
    "start_time": "2024-06-29T14:49:53.739Z"
   },
   {
    "duration": 60,
    "start_time": "2024-06-29T14:50:26.140Z"
   },
   {
    "duration": 3,
    "start_time": "2024-06-29T14:51:25.843Z"
   },
   {
    "duration": 7,
    "start_time": "2024-06-29T14:52:59.158Z"
   },
   {
    "duration": 6,
    "start_time": "2024-06-29T15:05:05.633Z"
   },
   {
    "duration": 132,
    "start_time": "2024-06-29T15:06:28.883Z"
   },
   {
    "duration": 94,
    "start_time": "2024-06-29T16:48:48.278Z"
   },
   {
    "duration": 6,
    "start_time": "2024-06-29T17:31:37.628Z"
   },
   {
    "duration": 9,
    "start_time": "2024-06-29T17:35:13.963Z"
   },
   {
    "duration": 5,
    "start_time": "2024-06-29T17:41:02.999Z"
   },
   {
    "duration": 111,
    "start_time": "2024-06-29T17:47:06.725Z"
   },
   {
    "duration": 121,
    "start_time": "2024-06-29T17:47:35.968Z"
   },
   {
    "duration": 95,
    "start_time": "2024-06-29T17:47:57.471Z"
   },
   {
    "duration": 848,
    "start_time": "2024-06-29T18:15:02.629Z"
   },
   {
    "duration": 19,
    "start_time": "2024-06-29T18:17:13.808Z"
   },
   {
    "duration": 5,
    "start_time": "2024-06-29T18:17:49.441Z"
   },
   {
    "duration": 8,
    "start_time": "2024-06-29T18:24:25.482Z"
   },
   {
    "duration": 14,
    "start_time": "2024-06-29T18:26:44.968Z"
   },
   {
    "duration": 71,
    "start_time": "2024-06-29T18:28:53.963Z"
   },
   {
    "duration": 18,
    "start_time": "2024-06-29T18:35:50.778Z"
   },
   {
    "duration": 5,
    "start_time": "2024-06-29T18:38:15.654Z"
   },
   {
    "duration": 4,
    "start_time": "2024-06-29T18:38:25.745Z"
   },
   {
    "duration": 6,
    "start_time": "2024-06-29T18:38:39.934Z"
   },
   {
    "duration": 6,
    "start_time": "2024-06-29T18:39:00.952Z"
   },
   {
    "duration": 12,
    "start_time": "2024-06-29T18:39:35.887Z"
   },
   {
    "duration": 5,
    "start_time": "2024-06-29T18:45:22.425Z"
   },
   {
    "duration": 8,
    "start_time": "2024-06-29T18:48:52.651Z"
   },
   {
    "duration": 70,
    "start_time": "2024-06-29T18:55:31.814Z"
   },
   {
    "duration": 59,
    "start_time": "2024-06-29T18:55:40.275Z"
   },
   {
    "duration": 9,
    "start_time": "2024-06-29T18:55:52.785Z"
   },
   {
    "duration": 9,
    "start_time": "2024-06-29T18:56:05.466Z"
   },
   {
    "duration": 8,
    "start_time": "2024-06-29T18:56:14.969Z"
   },
   {
    "duration": 8,
    "start_time": "2024-06-29T18:56:31.413Z"
   },
   {
    "duration": 114,
    "start_time": "2024-06-29T19:01:51.074Z"
   },
   {
    "duration": 8,
    "start_time": "2024-06-29T19:03:59.593Z"
   },
   {
    "duration": 8,
    "start_time": "2024-06-29T19:07:44.282Z"
   },
   {
    "duration": 9,
    "start_time": "2024-06-29T19:08:06.972Z"
   },
   {
    "duration": 10,
    "start_time": "2024-06-29T19:09:23.255Z"
   },
   {
    "duration": 65,
    "start_time": "2024-06-29T19:10:26.426Z"
   },
   {
    "duration": 70,
    "start_time": "2024-06-29T19:10:34.161Z"
   },
   {
    "duration": 10,
    "start_time": "2024-06-29T19:11:51.683Z"
   },
   {
    "duration": 9,
    "start_time": "2024-06-29T19:17:47.948Z"
   },
   {
    "duration": 11,
    "start_time": "2024-06-29T19:20:16.077Z"
   },
   {
    "duration": 10,
    "start_time": "2024-06-29T19:20:22.008Z"
   },
   {
    "duration": 29,
    "start_time": "2024-06-29T19:21:12.193Z"
   },
   {
    "duration": 30,
    "start_time": "2024-06-29T19:22:16.518Z"
   },
   {
    "duration": 9,
    "start_time": "2024-06-29T19:22:33.267Z"
   },
   {
    "duration": 7,
    "start_time": "2024-06-29T19:22:49.593Z"
   },
   {
    "duration": 10,
    "start_time": "2024-06-29T19:23:19.217Z"
   },
   {
    "duration": 20,
    "start_time": "2024-06-29T19:25:56.710Z"
   },
   {
    "duration": 10,
    "start_time": "2024-06-29T19:26:43.293Z"
   },
   {
    "duration": 7,
    "start_time": "2024-06-29T19:28:12.851Z"
   },
   {
    "duration": 15,
    "start_time": "2024-06-29T19:29:09.524Z"
   },
   {
    "duration": 6,
    "start_time": "2024-06-29T19:30:20.068Z"
   },
   {
    "duration": 15,
    "start_time": "2024-06-29T19:42:20.461Z"
   },
   {
    "duration": 15,
    "start_time": "2024-06-29T19:43:23.766Z"
   },
   {
    "duration": 8,
    "start_time": "2024-06-29T19:44:12.495Z"
   },
   {
    "duration": 7,
    "start_time": "2024-06-29T19:47:46.970Z"
   },
   {
    "duration": 61,
    "start_time": "2024-06-29T20:06:40.932Z"
   },
   {
    "duration": 10,
    "start_time": "2024-06-29T20:07:22.469Z"
   },
   {
    "duration": 5,
    "start_time": "2024-06-29T20:08:24.586Z"
   },
   {
    "duration": 6,
    "start_time": "2024-06-29T20:08:40.215Z"
   },
   {
    "duration": 662,
    "start_time": "2024-06-29T20:09:02.874Z"
   },
   {
    "duration": 5,
    "start_time": "2024-06-29T20:09:24.618Z"
   },
   {
    "duration": 4,
    "start_time": "2024-06-29T20:10:09.529Z"
   },
   {
    "duration": 3,
    "start_time": "2024-06-29T20:10:18.388Z"
   },
   {
    "duration": 4,
    "start_time": "2024-06-29T20:10:38.926Z"
   },
   {
    "duration": 6,
    "start_time": "2024-06-29T20:10:59.236Z"
   },
   {
    "duration": 5,
    "start_time": "2024-06-29T20:11:22.473Z"
   },
   {
    "duration": 4,
    "start_time": "2024-06-29T20:11:44.652Z"
   },
   {
    "duration": 4,
    "start_time": "2024-06-29T20:13:15.307Z"
   },
   {
    "duration": 5,
    "start_time": "2024-06-29T20:13:24.820Z"
   },
   {
    "duration": 11,
    "start_time": "2024-06-29T20:13:54.885Z"
   },
   {
    "duration": 4,
    "start_time": "2024-06-29T20:14:11.259Z"
   },
   {
    "duration": 162,
    "start_time": "2024-06-29T20:22:29.821Z"
   },
   {
    "duration": 47,
    "start_time": "2024-06-30T04:40:15.227Z"
   },
   {
    "duration": 10,
    "start_time": "2024-06-30T04:40:22.907Z"
   },
   {
    "duration": 13,
    "start_time": "2024-06-30T04:40:35.312Z"
   },
   {
    "duration": 7,
    "start_time": "2024-06-30T04:40:40.963Z"
   },
   {
    "duration": 7,
    "start_time": "2024-06-30T04:41:22.662Z"
   },
   {
    "duration": 6,
    "start_time": "2024-06-30T04:41:29.350Z"
   },
   {
    "duration": 7,
    "start_time": "2024-06-30T04:41:35.793Z"
   },
   {
    "duration": 9,
    "start_time": "2024-06-30T04:42:28.880Z"
   },
   {
    "duration": 5,
    "start_time": "2024-06-30T04:42:56.547Z"
   },
   {
    "duration": 5,
    "start_time": "2024-06-30T04:43:24.153Z"
   },
   {
    "duration": 7,
    "start_time": "2024-06-30T04:43:53.533Z"
   },
   {
    "duration": 5,
    "start_time": "2024-06-30T04:44:47.978Z"
   },
   {
    "duration": 707,
    "start_time": "2024-06-30T04:45:16.481Z"
   },
   {
    "duration": 14,
    "start_time": "2024-06-30T04:45:26.243Z"
   },
   {
    "duration": 1713,
    "start_time": "2024-06-30T04:45:33.135Z"
   },
   {
    "duration": 11,
    "start_time": "2024-06-30T04:45:45.719Z"
   },
   {
    "duration": 8,
    "start_time": "2024-06-30T04:45:59.221Z"
   },
   {
    "duration": 5,
    "start_time": "2024-06-30T04:46:08.270Z"
   },
   {
    "duration": 12,
    "start_time": "2024-06-30T04:46:22.144Z"
   },
   {
    "duration": 14,
    "start_time": "2024-06-30T04:46:31.152Z"
   },
   {
    "duration": 41,
    "start_time": "2024-06-30T04:48:35.163Z"
   },
   {
    "duration": 10,
    "start_time": "2024-06-30T04:48:44.193Z"
   },
   {
    "duration": 13,
    "start_time": "2024-06-30T04:55:03.999Z"
   },
   {
    "duration": 11,
    "start_time": "2024-06-30T04:55:33.611Z"
   },
   {
    "duration": 13,
    "start_time": "2024-06-30T04:56:40.823Z"
   },
   {
    "duration": 17,
    "start_time": "2024-06-30T04:58:18.068Z"
   },
   {
    "duration": 7,
    "start_time": "2024-06-30T04:58:57.797Z"
   },
   {
    "duration": 12,
    "start_time": "2024-06-30T05:00:08.323Z"
   },
   {
    "duration": 40,
    "start_time": "2024-06-30T05:52:14.579Z"
   },
   {
    "duration": 46,
    "start_time": "2024-06-30T05:52:19.483Z"
   },
   {
    "duration": 50,
    "start_time": "2024-06-30T05:52:40.575Z"
   },
   {
    "duration": 49,
    "start_time": "2024-06-30T06:01:14.080Z"
   },
   {
    "duration": 796,
    "start_time": "2024-06-30T06:36:15.741Z"
   },
   {
    "duration": 8,
    "start_time": "2024-06-30T06:36:36.158Z"
   },
   {
    "duration": 7,
    "start_time": "2024-06-30T06:37:16.128Z"
   },
   {
    "duration": 8,
    "start_time": "2024-06-30T06:37:31.133Z"
   },
   {
    "duration": 8,
    "start_time": "2024-06-30T06:39:06.307Z"
   },
   {
    "duration": 6,
    "start_time": "2024-06-30T06:39:50.960Z"
   },
   {
    "duration": 3,
    "start_time": "2024-06-30T06:40:12.418Z"
   },
   {
    "duration": 8,
    "start_time": "2024-06-30T06:41:51.463Z"
   },
   {
    "duration": 8,
    "start_time": "2024-06-30T06:42:07.571Z"
   },
   {
    "duration": 65,
    "start_time": "2024-06-30T06:43:46.751Z"
   },
   {
    "duration": 71,
    "start_time": "2024-06-30T06:43:57.142Z"
   },
   {
    "duration": 79,
    "start_time": "2024-06-30T06:44:13.005Z"
   },
   {
    "duration": 69,
    "start_time": "2024-06-30T06:45:34.721Z"
   },
   {
    "duration": 68,
    "start_time": "2024-06-30T06:45:46.542Z"
   },
   {
    "duration": 14,
    "start_time": "2024-06-30T06:45:58.912Z"
   },
   {
    "duration": 17,
    "start_time": "2024-06-30T06:46:11.723Z"
   },
   {
    "duration": 42,
    "start_time": "2024-06-30T06:46:35.200Z"
   },
   {
    "duration": 58,
    "start_time": "2024-06-30T06:46:55.905Z"
   },
   {
    "duration": 67,
    "start_time": "2024-06-30T06:47:13.365Z"
   },
   {
    "duration": 78,
    "start_time": "2024-06-30T06:56:16.273Z"
   },
   {
    "duration": 77,
    "start_time": "2024-06-30T06:56:43.484Z"
   },
   {
    "duration": 10,
    "start_time": "2024-06-30T06:59:06.883Z"
   },
   {
    "duration": 13,
    "start_time": "2024-06-30T06:59:41.974Z"
   },
   {
    "duration": 10,
    "start_time": "2024-06-30T07:00:13.823Z"
   },
   {
    "duration": 58,
    "start_time": "2024-06-30T07:00:35.463Z"
   },
   {
    "duration": 34,
    "start_time": "2024-06-30T07:00:50.513Z"
   },
   {
    "duration": 6,
    "start_time": "2024-06-30T07:01:10.901Z"
   },
   {
    "duration": 108,
    "start_time": "2024-06-30T07:02:48.077Z"
   },
   {
    "duration": 82,
    "start_time": "2024-06-30T07:10:39.352Z"
   },
   {
    "duration": 59,
    "start_time": "2024-06-30T07:10:49.316Z"
   },
   {
    "duration": 95,
    "start_time": "2024-06-30T07:11:13.909Z"
   },
   {
    "duration": 14,
    "start_time": "2024-06-30T07:12:31.703Z"
   },
   {
    "duration": 24,
    "start_time": "2024-06-30T07:12:37.431Z"
   },
   {
    "duration": 1380,
    "start_time": "2024-06-30T07:12:40.330Z"
   },
   {
    "duration": 10,
    "start_time": "2024-06-30T07:12:55.821Z"
   },
   {
    "duration": 4,
    "start_time": "2024-06-30T07:15:48.497Z"
   },
   {
    "duration": 6,
    "start_time": "2024-06-30T07:15:56.309Z"
   },
   {
    "duration": 11,
    "start_time": "2024-06-30T07:16:02.764Z"
   },
   {
    "duration": 9,
    "start_time": "2024-06-30T07:16:07.603Z"
   },
   {
    "duration": 11,
    "start_time": "2024-06-30T07:16:12.042Z"
   },
   {
    "duration": 48,
    "start_time": "2024-06-30T07:16:15.966Z"
   },
   {
    "duration": 10,
    "start_time": "2024-06-30T07:16:24.411Z"
   },
   {
    "duration": 37,
    "start_time": "2024-06-30T07:29:31.788Z"
   },
   {
    "duration": 46,
    "start_time": "2024-06-30T07:32:03.915Z"
   },
   {
    "duration": 32,
    "start_time": "2024-06-30T07:33:38.278Z"
   },
   {
    "duration": 4,
    "start_time": "2024-06-30T07:51:50.038Z"
   },
   {
    "duration": 45,
    "start_time": "2024-06-30T07:54:40.786Z"
   },
   {
    "duration": 35,
    "start_time": "2024-06-30T07:55:11.590Z"
   },
   {
    "duration": 38,
    "start_time": "2024-06-30T07:56:29.388Z"
   },
   {
    "duration": 47,
    "start_time": "2024-06-30T07:56:36.254Z"
   },
   {
    "duration": 48,
    "start_time": "2024-06-30T07:56:43.970Z"
   },
   {
    "duration": 78,
    "start_time": "2024-06-30T08:01:48.022Z"
   },
   {
    "duration": 5,
    "start_time": "2024-06-30T08:05:23.044Z"
   },
   {
    "duration": 43,
    "start_time": "2024-06-30T16:57:13.674Z"
   },
   {
    "duration": 0,
    "start_time": "2024-06-30T17:02:45.350Z"
   },
   {
    "duration": 0,
    "start_time": "2024-06-30T17:02:45.351Z"
   },
   {
    "duration": 4,
    "start_time": "2024-06-30T17:02:45.358Z"
   },
   {
    "duration": 0,
    "start_time": "2024-06-30T17:02:45.364Z"
   },
   {
    "duration": 0,
    "start_time": "2024-06-30T17:02:45.364Z"
   },
   {
    "duration": 0,
    "start_time": "2024-06-30T17:02:45.365Z"
   },
   {
    "duration": 0,
    "start_time": "2024-06-30T17:02:45.366Z"
   },
   {
    "duration": 0,
    "start_time": "2024-06-30T17:02:45.367Z"
   },
   {
    "duration": 0,
    "start_time": "2024-06-30T17:02:45.368Z"
   },
   {
    "duration": 20,
    "start_time": "2024-06-30T17:02:45.369Z"
   },
   {
    "duration": 0,
    "start_time": "2024-06-30T17:02:45.390Z"
   },
   {
    "duration": 0,
    "start_time": "2024-06-30T17:02:45.391Z"
   },
   {
    "duration": 0,
    "start_time": "2024-06-30T17:02:45.392Z"
   },
   {
    "duration": 0,
    "start_time": "2024-06-30T17:02:45.393Z"
   },
   {
    "duration": 0,
    "start_time": "2024-06-30T17:02:45.394Z"
   },
   {
    "duration": 0,
    "start_time": "2024-06-30T17:02:45.395Z"
   },
   {
    "duration": 6,
    "start_time": "2024-06-30T17:10:12.416Z"
   },
   {
    "duration": 669,
    "start_time": "2024-06-30T17:10:23.304Z"
   },
   {
    "duration": 13,
    "start_time": "2024-06-30T17:10:23.974Z"
   },
   {
    "duration": 19,
    "start_time": "2024-06-30T17:10:23.988Z"
   },
   {
    "duration": 1681,
    "start_time": "2024-06-30T17:10:24.008Z"
   },
   {
    "duration": 9,
    "start_time": "2024-06-30T17:10:25.691Z"
   },
   {
    "duration": 7,
    "start_time": "2024-06-30T17:10:25.702Z"
   },
   {
    "duration": 4,
    "start_time": "2024-06-30T17:10:25.711Z"
   },
   {
    "duration": 28,
    "start_time": "2024-06-30T17:10:25.716Z"
   },
   {
    "duration": 9,
    "start_time": "2024-06-30T17:10:25.745Z"
   },
   {
    "duration": 54,
    "start_time": "2024-06-30T17:10:25.771Z"
   },
   {
    "duration": 49,
    "start_time": "2024-06-30T17:10:25.827Z"
   },
   {
    "duration": 8,
    "start_time": "2024-06-30T17:10:25.878Z"
   },
   {
    "duration": 35,
    "start_time": "2024-06-30T17:10:25.887Z"
   },
   {
    "duration": 2,
    "start_time": "2024-06-30T17:10:25.925Z"
   },
   {
    "duration": 48,
    "start_time": "2024-06-30T17:10:25.928Z"
   },
   {
    "duration": 4,
    "start_time": "2024-06-30T17:10:25.977Z"
   },
   {
    "duration": 4,
    "start_time": "2024-06-30T17:11:00.649Z"
   },
   {
    "duration": 12,
    "start_time": "2024-06-30T17:11:39.845Z"
   },
   {
    "duration": 5,
    "start_time": "2024-06-30T17:13:22.687Z"
   },
   {
    "duration": 97,
    "start_time": "2024-06-30T17:51:38.531Z"
   },
   {
    "duration": 13,
    "start_time": "2024-06-30T17:51:38.629Z"
   },
   {
    "duration": 26,
    "start_time": "2024-06-30T17:51:38.643Z"
   },
   {
    "duration": 1368,
    "start_time": "2024-06-30T17:51:38.671Z"
   },
   {
    "duration": 8,
    "start_time": "2024-06-30T17:51:40.041Z"
   },
   {
    "duration": 12,
    "start_time": "2024-06-30T17:51:40.050Z"
   },
   {
    "duration": 6,
    "start_time": "2024-06-30T17:51:40.070Z"
   },
   {
    "duration": 20,
    "start_time": "2024-06-30T17:51:40.078Z"
   },
   {
    "duration": 11,
    "start_time": "2024-06-30T17:51:40.100Z"
   },
   {
    "duration": 13,
    "start_time": "2024-06-30T17:51:40.113Z"
   },
   {
    "duration": 70,
    "start_time": "2024-06-30T17:51:40.127Z"
   },
   {
    "duration": 8,
    "start_time": "2024-06-30T17:51:40.198Z"
   },
   {
    "duration": 35,
    "start_time": "2024-06-30T17:51:40.208Z"
   },
   {
    "duration": 3,
    "start_time": "2024-06-30T17:51:40.246Z"
   },
   {
    "duration": 65,
    "start_time": "2024-06-30T17:51:40.251Z"
   },
   {
    "duration": 4,
    "start_time": "2024-06-30T17:51:40.317Z"
   },
   {
    "duration": 5,
    "start_time": "2024-06-30T17:51:40.322Z"
   },
   {
    "duration": 230,
    "start_time": "2024-06-30T18:15:50.793Z"
   },
   {
    "duration": 5,
    "start_time": "2024-06-30T18:18:17.244Z"
   },
   {
    "duration": 4,
    "start_time": "2024-06-30T18:18:36.565Z"
   },
   {
    "duration": 5,
    "start_time": "2024-06-30T18:19:00.471Z"
   },
   {
    "duration": 4,
    "start_time": "2024-06-30T18:33:34.473Z"
   },
   {
    "duration": 4,
    "start_time": "2024-06-30T18:42:17.621Z"
   },
   {
    "duration": 5,
    "start_time": "2024-06-30T18:54:31.312Z"
   },
   {
    "duration": 5,
    "start_time": "2024-06-30T18:58:18.732Z"
   },
   {
    "duration": 6,
    "start_time": "2024-06-30T19:10:17.779Z"
   },
   {
    "duration": 50,
    "start_time": "2024-07-01T12:07:02.373Z"
   },
   {
    "duration": 7,
    "start_time": "2024-07-01T12:07:18.720Z"
   },
   {
    "duration": 7,
    "start_time": "2024-07-01T12:08:23.618Z"
   },
   {
    "duration": 7,
    "start_time": "2024-07-01T12:08:30.755Z"
   },
   {
    "duration": 7,
    "start_time": "2024-07-01T12:08:53.278Z"
   },
   {
    "duration": 6,
    "start_time": "2024-07-01T12:09:04.426Z"
   },
   {
    "duration": 7,
    "start_time": "2024-07-01T12:09:37.130Z"
   },
   {
    "duration": 7,
    "start_time": "2024-07-01T12:11:39.610Z"
   },
   {
    "duration": 7,
    "start_time": "2024-07-01T12:11:55.981Z"
   },
   {
    "duration": 7,
    "start_time": "2024-07-01T12:12:09.319Z"
   },
   {
    "duration": 7,
    "start_time": "2024-07-01T12:12:38.871Z"
   },
   {
    "duration": 11,
    "start_time": "2024-07-01T12:14:38.009Z"
   },
   {
    "duration": 8,
    "start_time": "2024-07-01T12:15:23.597Z"
   },
   {
    "duration": 7,
    "start_time": "2024-07-01T12:15:53.009Z"
   },
   {
    "duration": 7,
    "start_time": "2024-07-01T12:16:10.562Z"
   },
   {
    "duration": 6,
    "start_time": "2024-07-01T12:16:15.612Z"
   },
   {
    "duration": 7,
    "start_time": "2024-07-01T12:17:37.385Z"
   },
   {
    "duration": 700,
    "start_time": "2024-07-01T12:17:40.573Z"
   },
   {
    "duration": 16,
    "start_time": "2024-07-01T12:17:41.274Z"
   },
   {
    "duration": 33,
    "start_time": "2024-07-01T12:17:41.292Z"
   },
   {
    "duration": 1948,
    "start_time": "2024-07-01T12:17:41.326Z"
   },
   {
    "duration": 10,
    "start_time": "2024-07-01T12:17:43.277Z"
   },
   {
    "duration": 11,
    "start_time": "2024-07-01T12:17:43.289Z"
   },
   {
    "duration": 15,
    "start_time": "2024-07-01T12:17:43.302Z"
   },
   {
    "duration": 21,
    "start_time": "2024-07-01T12:17:43.318Z"
   },
   {
    "duration": 12,
    "start_time": "2024-07-01T12:17:43.340Z"
   },
   {
    "duration": 13,
    "start_time": "2024-07-01T12:17:43.353Z"
   },
   {
    "duration": 83,
    "start_time": "2024-07-01T12:17:43.367Z"
   },
   {
    "duration": 10,
    "start_time": "2024-07-01T12:17:43.451Z"
   },
   {
    "duration": 36,
    "start_time": "2024-07-01T12:17:43.462Z"
   },
   {
    "duration": 4,
    "start_time": "2024-07-01T12:17:43.501Z"
   },
   {
    "duration": 54,
    "start_time": "2024-07-01T12:17:43.507Z"
   },
   {
    "duration": 6,
    "start_time": "2024-07-01T12:17:43.563Z"
   },
   {
    "duration": 297,
    "start_time": "2024-07-01T12:17:43.570Z"
   },
   {
    "duration": 5,
    "start_time": "2024-07-01T12:17:43.868Z"
   },
   {
    "duration": 10,
    "start_time": "2024-07-01T12:17:43.874Z"
   },
   {
    "duration": 17,
    "start_time": "2024-07-01T12:17:43.886Z"
   },
   {
    "duration": 47,
    "start_time": "2024-07-01T12:17:43.904Z"
   },
   {
    "duration": 15,
    "start_time": "2024-07-01T12:17:43.953Z"
   },
   {
    "duration": 5,
    "start_time": "2024-07-01T12:17:43.970Z"
   },
   {
    "duration": 8,
    "start_time": "2024-07-01T12:17:43.976Z"
   },
   {
    "duration": 5,
    "start_time": "2024-07-01T12:17:43.985Z"
   },
   {
    "duration": 5,
    "start_time": "2024-07-01T12:17:43.991Z"
   },
   {
    "duration": 61,
    "start_time": "2024-07-01T13:46:57.690Z"
   },
   {
    "duration": 263,
    "start_time": "2024-07-01T13:59:22.706Z"
   },
   {
    "duration": 8,
    "start_time": "2024-07-01T14:58:10.723Z"
   },
   {
    "duration": 7,
    "start_time": "2024-07-01T14:58:30.051Z"
   },
   {
    "duration": 9,
    "start_time": "2024-07-01T15:49:54.062Z"
   },
   {
    "duration": 7,
    "start_time": "2024-07-01T15:50:26.351Z"
   },
   {
    "duration": 35,
    "start_time": "2024-07-01T15:57:11.742Z"
   },
   {
    "duration": 8,
    "start_time": "2024-07-01T15:58:18.312Z"
   },
   {
    "duration": 7,
    "start_time": "2024-07-01T15:58:54.531Z"
   },
   {
    "duration": 7,
    "start_time": "2024-07-01T15:59:49.493Z"
   },
   {
    "duration": 2383,
    "start_time": "2024-07-01T16:11:12.796Z"
   },
   {
    "duration": 313,
    "start_time": "2024-07-01T16:49:18.380Z"
   },
   {
    "duration": 9,
    "start_time": "2024-07-01T16:52:49.947Z"
   },
   {
    "duration": 101,
    "start_time": "2024-07-01T16:53:09.758Z"
   },
   {
    "duration": 14,
    "start_time": "2024-07-01T16:53:09.860Z"
   },
   {
    "duration": 19,
    "start_time": "2024-07-01T16:53:09.875Z"
   },
   {
    "duration": 1841,
    "start_time": "2024-07-01T16:53:09.896Z"
   },
   {
    "duration": 9,
    "start_time": "2024-07-01T16:53:11.739Z"
   },
   {
    "duration": 5,
    "start_time": "2024-07-01T16:53:11.750Z"
   },
   {
    "duration": 5,
    "start_time": "2024-07-01T16:53:11.757Z"
   },
   {
    "duration": 14,
    "start_time": "2024-07-01T16:53:11.763Z"
   },
   {
    "duration": 16,
    "start_time": "2024-07-01T16:53:11.778Z"
   },
   {
    "duration": 18,
    "start_time": "2024-07-01T16:53:11.796Z"
   },
   {
    "duration": 77,
    "start_time": "2024-07-01T16:53:11.815Z"
   },
   {
    "duration": 9,
    "start_time": "2024-07-01T16:53:11.893Z"
   },
   {
    "duration": 50,
    "start_time": "2024-07-01T16:53:11.904Z"
   },
   {
    "duration": 3,
    "start_time": "2024-07-01T16:53:11.957Z"
   },
   {
    "duration": 36,
    "start_time": "2024-07-01T16:53:11.961Z"
   },
   {
    "duration": 5,
    "start_time": "2024-07-01T16:53:11.999Z"
   },
   {
    "duration": 264,
    "start_time": "2024-07-01T16:53:12.005Z"
   },
   {
    "duration": 4,
    "start_time": "2024-07-01T16:53:12.271Z"
   },
   {
    "duration": 89,
    "start_time": "2024-07-01T16:53:12.276Z"
   },
   {
    "duration": 7,
    "start_time": "2024-07-01T16:53:12.367Z"
   },
   {
    "duration": 5,
    "start_time": "2024-07-01T16:53:12.375Z"
   },
   {
    "duration": 9,
    "start_time": "2024-07-01T16:53:12.381Z"
   },
   {
    "duration": 10,
    "start_time": "2024-07-01T16:53:12.391Z"
   },
   {
    "duration": 21,
    "start_time": "2024-07-01T16:53:12.402Z"
   },
   {
    "duration": 17,
    "start_time": "2024-07-01T16:53:12.424Z"
   },
   {
    "duration": 5,
    "start_time": "2024-07-01T16:53:12.443Z"
   },
   {
    "duration": 8,
    "start_time": "2024-07-01T16:53:12.449Z"
   },
   {
    "duration": 6,
    "start_time": "2024-07-01T16:53:12.458Z"
   },
   {
    "duration": 6,
    "start_time": "2024-07-01T16:53:12.465Z"
   },
   {
    "duration": 7,
    "start_time": "2024-07-01T16:53:12.473Z"
   },
   {
    "duration": 329,
    "start_time": "2024-07-01T16:53:12.482Z"
   },
   {
    "duration": 5,
    "start_time": "2024-07-01T16:53:12.813Z"
   },
   {
    "duration": 20,
    "start_time": "2024-07-01T16:55:02.748Z"
   },
   {
    "duration": 10,
    "start_time": "2024-07-01T18:36:56.093Z"
   },
   {
    "duration": 27150,
    "start_time": "2024-07-01T18:50:15.895Z"
   },
   {
    "duration": 26300,
    "start_time": "2024-07-01T18:51:20.214Z"
   },
   {
    "duration": 226,
    "start_time": "2024-07-01T18:52:43.599Z"
   },
   {
    "duration": 232,
    "start_time": "2024-07-01T18:53:44.925Z"
   },
   {
    "duration": 251,
    "start_time": "2024-07-01T18:54:09.431Z"
   },
   {
    "duration": 226,
    "start_time": "2024-07-01T18:54:21.264Z"
   },
   {
    "duration": 230,
    "start_time": "2024-07-01T18:54:31.300Z"
   },
   {
    "duration": 9,
    "start_time": "2024-07-01T18:56:47.375Z"
   },
   {
    "duration": 8,
    "start_time": "2024-07-01T18:56:54.680Z"
   },
   {
    "duration": 9,
    "start_time": "2024-07-01T19:09:00.276Z"
   },
   {
    "duration": 8,
    "start_time": "2024-07-01T19:09:08.495Z"
   },
   {
    "duration": 109,
    "start_time": "2024-07-01T19:13:35.710Z"
   },
   {
    "duration": 26,
    "start_time": "2024-07-01T19:13:35.821Z"
   },
   {
    "duration": 33,
    "start_time": "2024-07-01T19:13:35.848Z"
   },
   {
    "duration": 1945,
    "start_time": "2024-07-01T19:13:35.883Z"
   },
   {
    "duration": 16,
    "start_time": "2024-07-01T19:13:37.830Z"
   },
   {
    "duration": 10,
    "start_time": "2024-07-01T19:13:37.848Z"
   },
   {
    "duration": 48,
    "start_time": "2024-07-01T19:13:37.861Z"
   },
   {
    "duration": 47,
    "start_time": "2024-07-01T19:13:37.911Z"
   },
   {
    "duration": 47,
    "start_time": "2024-07-01T19:13:37.959Z"
   },
   {
    "duration": 53,
    "start_time": "2024-07-01T19:13:38.008Z"
   },
   {
    "duration": 94,
    "start_time": "2024-07-01T19:13:38.063Z"
   },
   {
    "duration": 9,
    "start_time": "2024-07-01T19:13:38.159Z"
   },
   {
    "duration": 50,
    "start_time": "2024-07-01T19:13:38.171Z"
   },
   {
    "duration": 3,
    "start_time": "2024-07-01T19:13:38.223Z"
   },
   {
    "duration": 50,
    "start_time": "2024-07-01T19:13:38.228Z"
   },
   {
    "duration": 6,
    "start_time": "2024-07-01T19:13:38.280Z"
   },
   {
    "duration": 272,
    "start_time": "2024-07-01T19:13:38.287Z"
   },
   {
    "duration": 5,
    "start_time": "2024-07-01T19:13:38.561Z"
   },
   {
    "duration": 14,
    "start_time": "2024-07-01T19:13:38.568Z"
   },
   {
    "duration": 9,
    "start_time": "2024-07-01T19:13:38.584Z"
   },
   {
    "duration": 15,
    "start_time": "2024-07-01T19:13:38.594Z"
   },
   {
    "duration": 35,
    "start_time": "2024-07-01T19:13:38.610Z"
   },
   {
    "duration": 11,
    "start_time": "2024-07-01T19:13:38.647Z"
   },
   {
    "duration": 5,
    "start_time": "2024-07-01T19:13:38.660Z"
   },
   {
    "duration": 8,
    "start_time": "2024-07-01T19:13:38.666Z"
   },
   {
    "duration": 5,
    "start_time": "2024-07-01T19:13:38.675Z"
   },
   {
    "duration": 12,
    "start_time": "2024-07-01T19:13:38.681Z"
   },
   {
    "duration": 16,
    "start_time": "2024-07-01T19:13:38.695Z"
   },
   {
    "duration": 6,
    "start_time": "2024-07-01T19:13:38.712Z"
   },
   {
    "duration": 19,
    "start_time": "2024-07-01T19:13:38.720Z"
   },
   {
    "duration": 326,
    "start_time": "2024-07-01T19:13:38.741Z"
   },
   {
    "duration": 9,
    "start_time": "2024-07-01T19:13:39.068Z"
   },
   {
    "duration": 25,
    "start_time": "2024-07-01T19:13:39.078Z"
   },
   {
    "duration": 12,
    "start_time": "2024-07-01T19:13:39.104Z"
   },
   {
    "duration": 263,
    "start_time": "2024-07-01T19:13:39.119Z"
   },
   {
    "duration": 212,
    "start_time": "2024-07-01T19:15:47.259Z"
   },
   {
    "duration": 232,
    "start_time": "2024-07-01T19:16:57.873Z"
   },
   {
    "duration": 224,
    "start_time": "2024-07-01T19:17:44.316Z"
   },
   {
    "duration": 263,
    "start_time": "2024-07-01T19:18:24.167Z"
   },
   {
    "duration": 254,
    "start_time": "2024-07-01T19:19:47.193Z"
   },
   {
    "duration": 271,
    "start_time": "2024-07-01T19:20:16.425Z"
   },
   {
    "duration": 245,
    "start_time": "2024-07-01T19:24:28.421Z"
   },
   {
    "duration": 325,
    "start_time": "2024-07-01T19:25:27.559Z"
   },
   {
    "duration": 52,
    "start_time": "2024-07-02T05:04:28.975Z"
   },
   {
    "duration": 8,
    "start_time": "2024-07-02T05:04:47.536Z"
   },
   {
    "duration": 1085,
    "start_time": "2024-07-02T05:05:47.493Z"
   },
   {
    "duration": 17,
    "start_time": "2024-07-02T05:05:48.580Z"
   },
   {
    "duration": 23,
    "start_time": "2024-07-02T05:05:48.599Z"
   },
   {
    "duration": 2036,
    "start_time": "2024-07-02T05:05:48.624Z"
   },
   {
    "duration": 10,
    "start_time": "2024-07-02T05:05:50.662Z"
   },
   {
    "duration": 7,
    "start_time": "2024-07-02T05:05:50.674Z"
   },
   {
    "duration": 11,
    "start_time": "2024-07-02T05:05:50.683Z"
   },
   {
    "duration": 20,
    "start_time": "2024-07-02T05:05:50.696Z"
   },
   {
    "duration": 12,
    "start_time": "2024-07-02T05:05:50.717Z"
   },
   {
    "duration": 38,
    "start_time": "2024-07-02T05:05:50.731Z"
   },
   {
    "duration": 59,
    "start_time": "2024-07-02T05:05:50.771Z"
   },
   {
    "duration": 10,
    "start_time": "2024-07-02T05:05:50.832Z"
   },
   {
    "duration": 52,
    "start_time": "2024-07-02T05:05:50.844Z"
   },
   {
    "duration": 4,
    "start_time": "2024-07-02T05:05:50.899Z"
   },
   {
    "duration": 33,
    "start_time": "2024-07-02T05:05:50.904Z"
   },
   {
    "duration": 29,
    "start_time": "2024-07-02T05:05:50.939Z"
   },
   {
    "duration": 260,
    "start_time": "2024-07-02T05:05:50.970Z"
   },
   {
    "duration": 5,
    "start_time": "2024-07-02T05:05:51.232Z"
   },
   {
    "duration": 9,
    "start_time": "2024-07-02T05:05:51.238Z"
   },
   {
    "duration": 17,
    "start_time": "2024-07-02T05:05:51.249Z"
   },
   {
    "duration": 105,
    "start_time": "2024-07-02T05:05:51.268Z"
   },
   {
    "duration": 15,
    "start_time": "2024-07-02T05:05:51.375Z"
   },
   {
    "duration": 12,
    "start_time": "2024-07-02T05:05:51.392Z"
   },
   {
    "duration": 6,
    "start_time": "2024-07-02T05:05:51.406Z"
   },
   {
    "duration": 5,
    "start_time": "2024-07-02T05:05:51.414Z"
   },
   {
    "duration": 8,
    "start_time": "2024-07-02T05:05:51.421Z"
   },
   {
    "duration": 11,
    "start_time": "2024-07-02T05:05:51.430Z"
   },
   {
    "duration": 34,
    "start_time": "2024-07-02T05:05:51.442Z"
   },
   {
    "duration": 69,
    "start_time": "2024-07-02T05:05:51.478Z"
   },
   {
    "duration": 8,
    "start_time": "2024-07-02T05:05:51.549Z"
   },
   {
    "duration": 356,
    "start_time": "2024-07-02T05:05:51.558Z"
   },
   {
    "duration": 9,
    "start_time": "2024-07-02T05:05:51.916Z"
   },
   {
    "duration": 20,
    "start_time": "2024-07-02T05:05:51.926Z"
   },
   {
    "duration": 8,
    "start_time": "2024-07-02T05:05:51.966Z"
   },
   {
    "duration": 307,
    "start_time": "2024-07-02T05:05:51.976Z"
   },
   {
    "duration": 10,
    "start_time": "2024-07-02T05:39:54.900Z"
   },
   {
    "duration": 46,
    "start_time": "2024-07-02T05:42:22.193Z"
   },
   {
    "duration": 354,
    "start_time": "2024-07-02T05:43:25.997Z"
   },
   {
    "duration": 11,
    "start_time": "2024-07-02T06:31:58.435Z"
   },
   {
    "duration": 263,
    "start_time": "2024-07-02T06:33:33.056Z"
   },
   {
    "duration": 295,
    "start_time": "2024-07-02T06:33:49.028Z"
   },
   {
    "duration": 259,
    "start_time": "2024-07-02T06:35:26.709Z"
   },
   {
    "duration": 278,
    "start_time": "2024-07-02T06:36:18.480Z"
   },
   {
    "duration": 284,
    "start_time": "2024-07-02T06:37:05.233Z"
   },
   {
    "duration": 411,
    "start_time": "2024-07-02T06:41:02.461Z"
   },
   {
    "duration": 10,
    "start_time": "2024-07-02T06:56:12.339Z"
   },
   {
    "duration": 261,
    "start_time": "2024-07-02T06:56:18.146Z"
   },
   {
    "duration": 264,
    "start_time": "2024-07-02T06:56:47.987Z"
   },
   {
    "duration": 286,
    "start_time": "2024-07-02T06:59:30.916Z"
   },
   {
    "duration": 281,
    "start_time": "2024-07-02T06:59:59.776Z"
   },
   {
    "duration": 436,
    "start_time": "2024-07-02T07:08:15.704Z"
   },
   {
    "duration": 8,
    "start_time": "2024-07-02T07:09:27.150Z"
   },
   {
    "duration": 288,
    "start_time": "2024-07-02T07:10:55.743Z"
   },
   {
    "duration": 288,
    "start_time": "2024-07-02T07:11:55.921Z"
   },
   {
    "duration": 288,
    "start_time": "2024-07-02T07:12:04.698Z"
   },
   {
    "duration": 268,
    "start_time": "2024-07-02T07:12:20.946Z"
   },
   {
    "duration": 186,
    "start_time": "2024-07-02T07:24:05.540Z"
   },
   {
    "duration": 220,
    "start_time": "2024-07-02T07:25:25.708Z"
   },
   {
    "duration": 413,
    "start_time": "2024-07-02T07:26:11.396Z"
   },
   {
    "duration": 201,
    "start_time": "2024-07-02T07:26:22.563Z"
   },
   {
    "duration": 190,
    "start_time": "2024-07-02T07:26:35.931Z"
   },
   {
    "duration": 160,
    "start_time": "2024-07-02T07:26:51.043Z"
   },
   {
    "duration": 179,
    "start_time": "2024-07-02T07:37:21.567Z"
   },
   {
    "duration": 169,
    "start_time": "2024-07-02T07:37:37.966Z"
   },
   {
    "duration": 11,
    "start_time": "2024-07-02T07:38:00.122Z"
   },
   {
    "duration": 190,
    "start_time": "2024-07-02T07:38:27.044Z"
   },
   {
    "duration": 184,
    "start_time": "2024-07-02T07:40:29.259Z"
   },
   {
    "duration": 182,
    "start_time": "2024-07-02T07:40:46.944Z"
   },
   {
    "duration": 1090,
    "start_time": "2024-07-02T07:57:47.036Z"
   },
   {
    "duration": 12,
    "start_time": "2024-07-02T07:58:24.710Z"
   },
   {
    "duration": 101,
    "start_time": "2024-07-02T08:09:43.967Z"
   },
   {
    "duration": 56,
    "start_time": "2024-07-02T08:10:14.206Z"
   },
   {
    "duration": 53,
    "start_time": "2024-07-02T08:10:39.046Z"
   },
   {
    "duration": 172,
    "start_time": "2024-07-02T08:11:21.954Z"
   },
   {
    "duration": 295,
    "start_time": "2024-07-02T08:14:07.170Z"
   },
   {
    "duration": 167,
    "start_time": "2024-07-02T08:14:33.679Z"
   },
   {
    "duration": 9,
    "start_time": "2024-07-02T08:26:43.366Z"
   },
   {
    "duration": 75,
    "start_time": "2024-07-02T08:27:13.278Z"
   },
   {
    "duration": 14,
    "start_time": "2024-07-02T08:29:25.133Z"
   },
   {
    "duration": 203,
    "start_time": "2024-07-02T08:30:19.788Z"
   },
   {
    "duration": 212,
    "start_time": "2024-07-02T08:45:53.665Z"
   },
   {
    "duration": 178,
    "start_time": "2024-07-02T08:46:27.197Z"
   },
   {
    "duration": 158,
    "start_time": "2024-07-02T08:48:16.020Z"
   },
   {
    "duration": 114,
    "start_time": "2024-07-02T09:26:32.344Z"
   },
   {
    "duration": 22,
    "start_time": "2024-07-02T09:26:37.904Z"
   },
   {
    "duration": 21,
    "start_time": "2024-07-02T09:26:43.033Z"
   },
   {
    "duration": 2099,
    "start_time": "2024-07-02T09:26:44.818Z"
   },
   {
    "duration": 9,
    "start_time": "2024-07-02T09:26:48.761Z"
   },
   {
    "duration": 6,
    "start_time": "2024-07-02T09:26:50.525Z"
   },
   {
    "duration": 7,
    "start_time": "2024-07-02T09:26:52.591Z"
   },
   {
    "duration": 13,
    "start_time": "2024-07-02T09:26:55.028Z"
   },
   {
    "duration": 12,
    "start_time": "2024-07-02T09:26:56.892Z"
   },
   {
    "duration": 15,
    "start_time": "2024-07-02T09:26:58.969Z"
   },
   {
    "duration": 66,
    "start_time": "2024-07-02T09:27:00.853Z"
   },
   {
    "duration": 10,
    "start_time": "2024-07-02T09:27:04.226Z"
   },
   {
    "duration": 33,
    "start_time": "2024-07-02T09:27:05.693Z"
   },
   {
    "duration": 4,
    "start_time": "2024-07-02T09:27:07.061Z"
   },
   {
    "duration": 34,
    "start_time": "2024-07-02T09:27:08.056Z"
   },
   {
    "duration": 5,
    "start_time": "2024-07-02T09:27:09.360Z"
   },
   {
    "duration": 279,
    "start_time": "2024-07-02T09:27:09.882Z"
   },
   {
    "duration": 7,
    "start_time": "2024-07-02T09:27:11.196Z"
   },
   {
    "duration": 5,
    "start_time": "2024-07-02T09:27:12.056Z"
   },
   {
    "duration": 5,
    "start_time": "2024-07-02T09:27:20.684Z"
   },
   {
    "duration": 6,
    "start_time": "2024-07-02T09:27:23.046Z"
   },
   {
    "duration": 5,
    "start_time": "2024-07-02T09:27:23.975Z"
   },
   {
    "duration": 6,
    "start_time": "2024-07-02T09:27:26.862Z"
   },
   {
    "duration": 6,
    "start_time": "2024-07-02T09:27:28.231Z"
   },
   {
    "duration": 5,
    "start_time": "2024-07-02T09:27:29.368Z"
   },
   {
    "duration": 3,
    "start_time": "2024-07-02T09:27:30.170Z"
   },
   {
    "duration": 8,
    "start_time": "2024-07-02T09:27:34.089Z"
   },
   {
    "duration": 8,
    "start_time": "2024-07-02T09:27:35.555Z"
   },
   {
    "duration": 8,
    "start_time": "2024-07-02T09:27:36.636Z"
   },
   {
    "duration": 8,
    "start_time": "2024-07-02T09:27:37.767Z"
   },
   {
    "duration": 357,
    "start_time": "2024-07-02T09:27:38.660Z"
   },
   {
    "duration": 8,
    "start_time": "2024-07-02T09:27:39.815Z"
   },
   {
    "duration": 20,
    "start_time": "2024-07-02T09:27:40.520Z"
   },
   {
    "duration": 10,
    "start_time": "2024-07-02T09:27:43.020Z"
   },
   {
    "duration": 292,
    "start_time": "2024-07-02T09:27:43.790Z"
   },
   {
    "duration": 9,
    "start_time": "2024-07-02T09:27:45.896Z"
   },
   {
    "duration": 294,
    "start_time": "2024-07-02T09:27:46.582Z"
   },
   {
    "duration": 9,
    "start_time": "2024-07-02T09:27:48.777Z"
   },
   {
    "duration": 292,
    "start_time": "2024-07-02T09:27:49.339Z"
   },
   {
    "duration": 9,
    "start_time": "2024-07-02T09:27:50.965Z"
   },
   {
    "duration": 302,
    "start_time": "2024-07-02T09:27:51.622Z"
   },
   {
    "duration": 9,
    "start_time": "2024-07-02T09:27:53.241Z"
   },
   {
    "duration": 184,
    "start_time": "2024-07-02T09:27:53.910Z"
   },
   {
    "duration": 9,
    "start_time": "2024-07-02T09:27:55.920Z"
   },
   {
    "duration": 194,
    "start_time": "2024-07-02T09:27:56.708Z"
   },
   {
    "duration": 10,
    "start_time": "2024-07-02T09:27:58.926Z"
   },
   {
    "duration": 258,
    "start_time": "2024-07-02T09:27:59.824Z"
   },
   {
    "duration": 156,
    "start_time": "2024-07-02T09:28:01.057Z"
   },
   {
    "duration": 154,
    "start_time": "2024-07-02T09:34:42.575Z"
   },
   {
    "duration": 11,
    "start_time": "2024-07-02T09:52:59.862Z"
   },
   {
    "duration": 301,
    "start_time": "2024-07-02T09:55:48.338Z"
   },
   {
    "duration": 264,
    "start_time": "2024-07-02T09:56:35.970Z"
   },
   {
    "duration": 11,
    "start_time": "2024-07-02T10:36:46.138Z"
   },
   {
    "duration": 283,
    "start_time": "2024-07-02T10:39:11.985Z"
   },
   {
    "duration": 29585,
    "start_time": "2024-07-02T10:42:59.628Z"
   },
   {
    "duration": 1106,
    "start_time": "2024-07-02T11:11:54.086Z"
   },
   {
    "duration": 13,
    "start_time": "2024-07-02T11:12:03.369Z"
   },
   {
    "duration": 184,
    "start_time": "2024-07-02T11:13:22.992Z"
   },
   {
    "duration": 15,
    "start_time": "2024-07-02T16:24:59.169Z"
   },
   {
    "duration": 258,
    "start_time": "2024-07-02T16:28:10.667Z"
   },
   {
    "duration": 291,
    "start_time": "2024-07-02T16:28:47.507Z"
   },
   {
    "duration": 22,
    "start_time": "2024-07-02T17:22:18.435Z"
   },
   {
    "duration": 15,
    "start_time": "2024-07-02T17:24:12.906Z"
   },
   {
    "duration": 29,
    "start_time": "2024-07-02T17:58:48.422Z"
   },
   {
    "duration": 17,
    "start_time": "2024-07-02T17:59:07.077Z"
   },
   {
    "duration": 19,
    "start_time": "2024-07-02T18:22:23.216Z"
   },
   {
    "duration": 24,
    "start_time": "2024-07-02T18:27:27.269Z"
   },
   {
    "duration": 14,
    "start_time": "2024-07-02T18:27:28.067Z"
   },
   {
    "duration": 13,
    "start_time": "2024-07-02T18:33:11.421Z"
   },
   {
    "duration": 18,
    "start_time": "2024-07-02T18:33:33.006Z"
   },
   {
    "duration": 26,
    "start_time": "2024-07-02T18:33:40.699Z"
   },
   {
    "duration": 12,
    "start_time": "2024-07-02T18:33:44.639Z"
   },
   {
    "duration": 13,
    "start_time": "2024-07-02T18:36:07.726Z"
   },
   {
    "duration": 13,
    "start_time": "2024-07-02T18:36:22.537Z"
   },
   {
    "duration": 17,
    "start_time": "2024-07-02T18:39:52.588Z"
   },
   {
    "duration": 2,
    "start_time": "2024-07-02T18:40:36.646Z"
   },
   {
    "duration": 36,
    "start_time": "2024-07-02T18:40:41.508Z"
   },
   {
    "duration": 42,
    "start_time": "2024-07-02T18:52:04.862Z"
   },
   {
    "duration": 50,
    "start_time": "2024-07-03T06:17:25.992Z"
   },
   {
    "duration": 8,
    "start_time": "2024-07-03T06:18:47.310Z"
   },
   {
    "duration": 62,
    "start_time": "2024-07-03T06:19:06.891Z"
   },
   {
    "duration": 88,
    "start_time": "2024-07-03T06:35:20.442Z"
   },
   {
    "duration": 76,
    "start_time": "2024-07-03T06:35:29.358Z"
   },
   {
    "duration": 70,
    "start_time": "2024-07-03T06:35:42.381Z"
   },
   {
    "duration": 8,
    "start_time": "2024-07-03T06:36:34.368Z"
   },
   {
    "duration": 7,
    "start_time": "2024-07-03T06:37:28.765Z"
   },
   {
    "duration": 8,
    "start_time": "2024-07-03T06:37:37.566Z"
   },
   {
    "duration": 8,
    "start_time": "2024-07-03T06:37:44.185Z"
   },
   {
    "duration": 8,
    "start_time": "2024-07-03T06:38:02.208Z"
   },
   {
    "duration": 6,
    "start_time": "2024-07-03T06:38:55.146Z"
   },
   {
    "duration": 9,
    "start_time": "2024-07-03T06:48:35.609Z"
   },
   {
    "duration": 6,
    "start_time": "2024-07-03T06:49:25.223Z"
   },
   {
    "duration": 6,
    "start_time": "2024-07-03T06:49:36.564Z"
   },
   {
    "duration": 1150,
    "start_time": "2024-07-03T06:49:49.904Z"
   },
   {
    "duration": 14,
    "start_time": "2024-07-03T06:49:51.057Z"
   },
   {
    "duration": 35,
    "start_time": "2024-07-03T06:49:51.073Z"
   },
   {
    "duration": 1932,
    "start_time": "2024-07-03T06:49:51.110Z"
   },
   {
    "duration": 9,
    "start_time": "2024-07-03T06:49:53.044Z"
   },
   {
    "duration": 58,
    "start_time": "2024-07-03T06:49:53.054Z"
   },
   {
    "duration": 116,
    "start_time": "2024-07-03T06:49:53.113Z"
   },
   {
    "duration": 35,
    "start_time": "2024-07-03T06:49:53.231Z"
   },
   {
    "duration": 24,
    "start_time": "2024-07-03T06:49:53.267Z"
   },
   {
    "duration": 16,
    "start_time": "2024-07-03T06:49:53.293Z"
   },
   {
    "duration": 56,
    "start_time": "2024-07-03T06:49:53.311Z"
   },
   {
    "duration": 29,
    "start_time": "2024-07-03T06:49:53.369Z"
   },
   {
    "duration": 58,
    "start_time": "2024-07-03T06:49:53.401Z"
   },
   {
    "duration": 3,
    "start_time": "2024-07-03T06:49:53.462Z"
   },
   {
    "duration": 49,
    "start_time": "2024-07-03T06:49:53.466Z"
   },
   {
    "duration": 6,
    "start_time": "2024-07-03T06:49:53.516Z"
   },
   {
    "duration": 282,
    "start_time": "2024-07-03T06:49:53.523Z"
   },
   {
    "duration": 5,
    "start_time": "2024-07-03T06:49:53.806Z"
   },
   {
    "duration": 28,
    "start_time": "2024-07-03T06:49:53.812Z"
   },
   {
    "duration": 105,
    "start_time": "2024-07-03T06:49:53.841Z"
   },
   {
    "duration": 95,
    "start_time": "2024-07-03T06:49:53.947Z"
   },
   {
    "duration": 77,
    "start_time": "2024-07-03T06:49:54.044Z"
   },
   {
    "duration": 25,
    "start_time": "2024-07-03T06:49:54.122Z"
   },
   {
    "duration": 32,
    "start_time": "2024-07-03T06:49:54.148Z"
   },
   {
    "duration": 28,
    "start_time": "2024-07-03T06:49:54.181Z"
   },
   {
    "duration": 24,
    "start_time": "2024-07-03T06:49:54.211Z"
   },
   {
    "duration": 14,
    "start_time": "2024-07-03T06:49:54.236Z"
   },
   {
    "duration": 18,
    "start_time": "2024-07-03T06:49:54.252Z"
   },
   {
    "duration": 10,
    "start_time": "2024-07-03T06:49:54.272Z"
   },
   {
    "duration": 13,
    "start_time": "2024-07-03T06:49:54.283Z"
   },
   {
    "duration": 372,
    "start_time": "2024-07-03T06:49:54.298Z"
   },
   {
    "duration": 6,
    "start_time": "2024-07-03T06:49:54.671Z"
   },
   {
    "duration": 48,
    "start_time": "2024-07-03T06:49:54.678Z"
   },
   {
    "duration": 46,
    "start_time": "2024-07-03T06:49:54.728Z"
   },
   {
    "duration": 304,
    "start_time": "2024-07-03T06:49:54.775Z"
   },
   {
    "duration": 15,
    "start_time": "2024-07-03T06:49:55.081Z"
   },
   {
    "duration": 335,
    "start_time": "2024-07-03T06:49:55.099Z"
   },
   {
    "duration": 8,
    "start_time": "2024-07-03T06:49:55.436Z"
   },
   {
    "duration": 256,
    "start_time": "2024-07-03T06:49:55.446Z"
   },
   {
    "duration": 9,
    "start_time": "2024-07-03T06:49:55.704Z"
   },
   {
    "duration": 326,
    "start_time": "2024-07-03T06:49:55.718Z"
   },
   {
    "duration": 8,
    "start_time": "2024-07-03T06:49:56.046Z"
   },
   {
    "duration": 189,
    "start_time": "2024-07-03T06:49:56.056Z"
   },
   {
    "duration": 8,
    "start_time": "2024-07-03T06:49:56.247Z"
   },
   {
    "duration": 190,
    "start_time": "2024-07-03T06:49:56.257Z"
   },
   {
    "duration": 7,
    "start_time": "2024-07-03T06:49:56.449Z"
   },
   {
    "duration": 223,
    "start_time": "2024-07-03T06:49:56.458Z"
   },
   {
    "duration": 155,
    "start_time": "2024-07-03T06:49:56.682Z"
   },
   {
    "duration": 8,
    "start_time": "2024-07-03T06:49:56.838Z"
   },
   {
    "duration": 206,
    "start_time": "2024-07-03T06:49:56.847Z"
   },
   {
    "duration": 7,
    "start_time": "2024-07-03T06:49:57.055Z"
   },
   {
    "duration": 364,
    "start_time": "2024-07-03T06:49:57.064Z"
   },
   {
    "duration": 8,
    "start_time": "2024-07-03T06:49:57.430Z"
   },
   {
    "duration": 293,
    "start_time": "2024-07-03T06:49:57.439Z"
   },
   {
    "duration": 9,
    "start_time": "2024-07-03T06:49:57.733Z"
   },
   {
    "duration": 284,
    "start_time": "2024-07-03T06:49:57.743Z"
   },
   {
    "duration": 21,
    "start_time": "2024-07-03T06:49:58.029Z"
   },
   {
    "duration": 44,
    "start_time": "2024-07-03T06:49:58.052Z"
   },
   {
    "duration": 14,
    "start_time": "2024-07-03T06:49:58.098Z"
   },
   {
    "duration": 38,
    "start_time": "2024-07-03T07:25:04.947Z"
   },
   {
    "duration": 1105,
    "start_time": "2024-07-03T07:31:19.314Z"
   },
   {
    "duration": 24,
    "start_time": "2024-07-03T07:32:35.681Z"
   },
   {
    "duration": 13,
    "start_time": "2024-07-03T07:32:40.402Z"
   },
   {
    "duration": 11,
    "start_time": "2024-07-03T08:09:59.653Z"
   },
   {
    "duration": 11,
    "start_time": "2024-07-03T08:10:16.186Z"
   },
   {
    "duration": 136,
    "start_time": "2024-07-03T08:32:51.153Z"
   },
   {
    "duration": 144,
    "start_time": "2024-07-03T08:33:05.298Z"
   },
   {
    "duration": 141,
    "start_time": "2024-07-03T08:33:17.996Z"
   },
   {
    "duration": 139,
    "start_time": "2024-07-03T08:33:33.307Z"
   },
   {
    "duration": 156,
    "start_time": "2024-07-03T08:36:35.164Z"
   },
   {
    "duration": 149,
    "start_time": "2024-07-03T08:38:45.481Z"
   },
   {
    "duration": 198,
    "start_time": "2024-07-03T08:40:47.077Z"
   },
   {
    "duration": 140,
    "start_time": "2024-07-03T08:41:14.927Z"
   },
   {
    "duration": 153,
    "start_time": "2024-07-03T08:41:25.496Z"
   },
   {
    "duration": 155,
    "start_time": "2024-07-03T08:41:30.635Z"
   },
   {
    "duration": 126,
    "start_time": "2024-07-03T08:41:36.006Z"
   },
   {
    "duration": 146,
    "start_time": "2024-07-03T08:42:35.098Z"
   },
   {
    "duration": 162,
    "start_time": "2024-07-03T08:43:00.221Z"
   },
   {
    "duration": 144,
    "start_time": "2024-07-03T08:49:46.671Z"
   },
   {
    "duration": 144,
    "start_time": "2024-07-03T08:50:59.518Z"
   },
   {
    "duration": 139,
    "start_time": "2024-07-03T08:51:28.116Z"
   },
   {
    "duration": 147,
    "start_time": "2024-07-03T08:57:28.705Z"
   },
   {
    "duration": 132,
    "start_time": "2024-07-03T09:07:43.263Z"
   },
   {
    "duration": 149,
    "start_time": "2024-07-03T09:10:38.220Z"
   },
   {
    "duration": 208,
    "start_time": "2024-07-03T09:10:54.416Z"
   },
   {
    "duration": 5,
    "start_time": "2024-07-03T09:24:18.769Z"
   },
   {
    "duration": 65,
    "start_time": "2024-07-03T09:24:25.607Z"
   },
   {
    "duration": 4,
    "start_time": "2024-07-03T09:25:18.994Z"
   },
   {
    "duration": 16,
    "start_time": "2024-07-03T10:39:06.758Z"
   },
   {
    "duration": 24,
    "start_time": "2024-07-03T10:39:24.255Z"
   },
   {
    "duration": 27,
    "start_time": "2024-07-03T10:49:42.930Z"
   },
   {
    "duration": 11,
    "start_time": "2024-07-03T10:49:55.183Z"
   },
   {
    "duration": 27,
    "start_time": "2024-07-03T10:50:02.983Z"
   },
   {
    "duration": 12,
    "start_time": "2024-07-03T10:54:10.059Z"
   },
   {
    "duration": 12,
    "start_time": "2024-07-03T10:54:16.185Z"
   },
   {
    "duration": 11,
    "start_time": "2024-07-03T10:54:20.245Z"
   },
   {
    "duration": 14,
    "start_time": "2024-07-03T10:54:27.154Z"
   },
   {
    "duration": 24,
    "start_time": "2024-07-03T10:54:35.016Z"
   },
   {
    "duration": 7,
    "start_time": "2024-07-03T11:02:09.131Z"
   },
   {
    "duration": 9,
    "start_time": "2024-07-03T11:02:26.450Z"
   },
   {
    "duration": 6,
    "start_time": "2024-07-03T11:02:29.753Z"
   },
   {
    "duration": 745,
    "start_time": "2024-07-03T11:02:46.071Z"
   },
   {
    "duration": 25,
    "start_time": "2024-07-03T11:04:13.040Z"
   },
   {
    "duration": 1208,
    "start_time": "2024-07-03T11:04:50.428Z"
   },
   {
    "duration": 760,
    "start_time": "2024-07-03T11:16:07.310Z"
   },
   {
    "duration": 741,
    "start_time": "2024-07-03T11:16:27.530Z"
   },
   {
    "duration": 8,
    "start_time": "2024-07-03T11:16:57.873Z"
   },
   {
    "duration": 24,
    "start_time": "2024-07-03T11:18:20.100Z"
   },
   {
    "duration": 30,
    "start_time": "2024-07-03T11:19:36.590Z"
   },
   {
    "duration": 25,
    "start_time": "2024-07-03T11:19:50.930Z"
   },
   {
    "duration": 24,
    "start_time": "2024-07-03T11:20:03.231Z"
   },
   {
    "duration": 23,
    "start_time": "2024-07-03T11:20:31.280Z"
   },
   {
    "duration": 12,
    "start_time": "2024-07-03T11:21:09.768Z"
   },
   {
    "duration": 20,
    "start_time": "2024-07-03T11:21:19.865Z"
   },
   {
    "duration": 24,
    "start_time": "2024-07-03T11:21:40.736Z"
   },
   {
    "duration": 19,
    "start_time": "2024-07-03T11:21:59.204Z"
   },
   {
    "duration": 24,
    "start_time": "2024-07-03T11:25:51.384Z"
   },
   {
    "duration": 23,
    "start_time": "2024-07-03T11:27:23.134Z"
   },
   {
    "duration": 25,
    "start_time": "2024-07-03T11:28:51.674Z"
   },
   {
    "duration": 25,
    "start_time": "2024-07-03T11:35:45.042Z"
   },
   {
    "duration": 24,
    "start_time": "2024-07-03T11:36:05.553Z"
   },
   {
    "duration": 24,
    "start_time": "2024-07-03T11:36:22.844Z"
   },
   {
    "duration": 25,
    "start_time": "2024-07-03T12:54:44.187Z"
   },
   {
    "duration": 13,
    "start_time": "2024-07-03T13:01:16.589Z"
   },
   {
    "duration": 13,
    "start_time": "2024-07-03T13:02:29.331Z"
   },
   {
    "duration": 13,
    "start_time": "2024-07-03T13:03:19.919Z"
   },
   {
    "duration": 24,
    "start_time": "2024-07-03T13:03:27.730Z"
   },
   {
    "duration": 21,
    "start_time": "2024-07-03T13:07:34.238Z"
   },
   {
    "duration": 24,
    "start_time": "2024-07-03T13:10:49.711Z"
   },
   {
    "duration": 19,
    "start_time": "2024-07-03T13:10:58.954Z"
   },
   {
    "duration": 26,
    "start_time": "2024-07-03T13:11:41.977Z"
   },
   {
    "duration": 25,
    "start_time": "2024-07-03T13:14:00.704Z"
   },
   {
    "duration": 27,
    "start_time": "2024-07-03T13:14:22.886Z"
   },
   {
    "duration": 43,
    "start_time": "2024-07-03T17:09:19.623Z"
   },
   {
    "duration": 8,
    "start_time": "2024-07-03T17:11:16.000Z"
   },
   {
    "duration": 7,
    "start_time": "2024-07-03T17:14:41.094Z"
   },
   {
    "duration": 1014,
    "start_time": "2024-07-03T17:16:13.784Z"
   },
   {
    "duration": 76,
    "start_time": "2024-07-03T17:16:29.103Z"
   },
   {
    "duration": 6,
    "start_time": "2024-07-03T17:16:47.394Z"
   },
   {
    "duration": 6,
    "start_time": "2024-07-03T17:17:44.159Z"
   },
   {
    "duration": 5,
    "start_time": "2024-07-03T17:21:48.154Z"
   },
   {
    "duration": 7,
    "start_time": "2024-07-03T17:22:21.128Z"
   },
   {
    "duration": 5,
    "start_time": "2024-07-03T17:22:31.995Z"
   },
   {
    "duration": 6,
    "start_time": "2024-07-03T17:22:47.879Z"
   },
   {
    "duration": 7,
    "start_time": "2024-07-03T17:24:40.392Z"
   },
   {
    "duration": 10,
    "start_time": "2024-07-03T17:24:50.400Z"
   },
   {
    "duration": 7,
    "start_time": "2024-07-03T17:24:56.486Z"
   },
   {
    "duration": 7,
    "start_time": "2024-07-03T17:25:48.010Z"
   },
   {
    "duration": 6,
    "start_time": "2024-07-03T17:25:52.879Z"
   },
   {
    "duration": 7,
    "start_time": "2024-07-03T17:25:56.435Z"
   },
   {
    "duration": 1006,
    "start_time": "2024-07-03T17:26:00.263Z"
   },
   {
    "duration": 13,
    "start_time": "2024-07-03T17:26:01.271Z"
   },
   {
    "duration": 47,
    "start_time": "2024-07-03T17:26:01.286Z"
   },
   {
    "duration": 1610,
    "start_time": "2024-07-03T17:26:01.334Z"
   },
   {
    "duration": 7,
    "start_time": "2024-07-03T17:26:02.946Z"
   },
   {
    "duration": 6,
    "start_time": "2024-07-03T17:26:02.955Z"
   },
   {
    "duration": 11,
    "start_time": "2024-07-03T17:26:02.962Z"
   },
   {
    "duration": 24,
    "start_time": "2024-07-03T17:26:02.974Z"
   },
   {
    "duration": 16,
    "start_time": "2024-07-03T17:26:03.000Z"
   },
   {
    "duration": 10,
    "start_time": "2024-07-03T17:26:03.017Z"
   },
   {
    "duration": 47,
    "start_time": "2024-07-03T17:26:03.028Z"
   },
   {
    "duration": 8,
    "start_time": "2024-07-03T17:26:03.076Z"
   },
   {
    "duration": 49,
    "start_time": "2024-07-03T17:26:03.085Z"
   },
   {
    "duration": 3,
    "start_time": "2024-07-03T17:26:03.137Z"
   },
   {
    "duration": 41,
    "start_time": "2024-07-03T17:26:03.141Z"
   },
   {
    "duration": 20,
    "start_time": "2024-07-03T17:26:03.184Z"
   },
   {
    "duration": 242,
    "start_time": "2024-07-03T17:26:03.205Z"
   },
   {
    "duration": 4,
    "start_time": "2024-07-03T17:26:03.448Z"
   },
   {
    "duration": 34,
    "start_time": "2024-07-03T17:26:03.453Z"
   },
   {
    "duration": 21,
    "start_time": "2024-07-03T17:26:03.488Z"
   },
   {
    "duration": 41,
    "start_time": "2024-07-03T17:26:03.510Z"
   },
   {
    "duration": 10,
    "start_time": "2024-07-03T17:26:03.552Z"
   },
   {
    "duration": 30,
    "start_time": "2024-07-03T17:26:03.563Z"
   },
   {
    "duration": 26,
    "start_time": "2024-07-03T17:26:03.595Z"
   },
   {
    "duration": 11,
    "start_time": "2024-07-03T17:26:03.623Z"
   },
   {
    "duration": 7,
    "start_time": "2024-07-03T17:26:03.635Z"
   },
   {
    "duration": 6,
    "start_time": "2024-07-03T17:26:03.644Z"
   },
   {
    "duration": 7,
    "start_time": "2024-07-03T17:26:03.651Z"
   },
   {
    "duration": 5,
    "start_time": "2024-07-03T17:26:03.659Z"
   },
   {
    "duration": 62,
    "start_time": "2024-07-03T17:26:03.665Z"
   },
   {
    "duration": 327,
    "start_time": "2024-07-03T17:26:03.728Z"
   },
   {
    "duration": 5,
    "start_time": "2024-07-03T17:26:04.057Z"
   },
   {
    "duration": 24,
    "start_time": "2024-07-03T17:26:04.064Z"
   },
   {
    "duration": 9,
    "start_time": "2024-07-03T17:26:04.102Z"
   },
   {
    "duration": 316,
    "start_time": "2024-07-03T17:26:04.113Z"
   },
   {
    "duration": 17,
    "start_time": "2024-07-03T17:26:04.430Z"
   },
   {
    "duration": 317,
    "start_time": "2024-07-03T17:26:04.448Z"
   },
   {
    "duration": 9,
    "start_time": "2024-07-03T17:26:04.767Z"
   },
   {
    "duration": 253,
    "start_time": "2024-07-03T17:26:04.777Z"
   },
   {
    "duration": 9,
    "start_time": "2024-07-03T17:26:05.031Z"
   },
   {
    "duration": 248,
    "start_time": "2024-07-03T17:26:05.043Z"
   },
   {
    "duration": 14,
    "start_time": "2024-07-03T17:26:05.293Z"
   },
   {
    "duration": 155,
    "start_time": "2024-07-03T17:26:05.308Z"
   },
   {
    "duration": 7,
    "start_time": "2024-07-03T17:26:05.465Z"
   },
   {
    "duration": 155,
    "start_time": "2024-07-03T17:26:05.473Z"
   },
   {
    "duration": 9,
    "start_time": "2024-07-03T17:26:05.629Z"
   },
   {
    "duration": 171,
    "start_time": "2024-07-03T17:26:05.640Z"
   },
   {
    "duration": 145,
    "start_time": "2024-07-03T17:26:05.813Z"
   },
   {
    "duration": 9,
    "start_time": "2024-07-03T17:26:05.960Z"
   },
   {
    "duration": 198,
    "start_time": "2024-07-03T17:26:05.970Z"
   },
   {
    "duration": 9,
    "start_time": "2024-07-03T17:26:06.169Z"
   },
   {
    "duration": 306,
    "start_time": "2024-07-03T17:26:06.180Z"
   },
   {
    "duration": 18,
    "start_time": "2024-07-03T17:26:06.488Z"
   },
   {
    "duration": 224,
    "start_time": "2024-07-03T17:26:06.507Z"
   },
   {
    "duration": 8,
    "start_time": "2024-07-03T17:26:06.732Z"
   },
   {
    "duration": 238,
    "start_time": "2024-07-03T17:26:06.741Z"
   },
   {
    "duration": 21,
    "start_time": "2024-07-03T17:26:06.981Z"
   },
   {
    "duration": 62,
    "start_time": "2024-07-03T17:26:07.003Z"
   },
   {
    "duration": 18,
    "start_time": "2024-07-03T17:26:07.066Z"
   },
   {
    "duration": 140,
    "start_time": "2024-07-03T17:26:07.085Z"
   },
   {
    "duration": 209,
    "start_time": "2024-07-03T17:26:07.226Z"
   },
   {
    "duration": 146,
    "start_time": "2024-07-03T17:26:07.436Z"
   },
   {
    "duration": 146,
    "start_time": "2024-07-03T17:26:07.583Z"
   },
   {
    "duration": 144,
    "start_time": "2024-07-03T17:26:07.731Z"
   },
   {
    "duration": 214,
    "start_time": "2024-07-03T17:26:07.876Z"
   },
   {
    "duration": 127,
    "start_time": "2024-07-03T17:26:08.092Z"
   },
   {
    "duration": 134,
    "start_time": "2024-07-03T17:26:08.220Z"
   },
   {
    "duration": 21,
    "start_time": "2024-07-03T17:26:08.355Z"
   },
   {
    "duration": 26,
    "start_time": "2024-07-03T17:26:08.377Z"
   },
   {
    "duration": 43,
    "start_time": "2024-07-03T17:26:08.405Z"
   },
   {
    "duration": 9,
    "start_time": "2024-07-03T17:27:13.511Z"
   },
   {
    "duration": 16,
    "start_time": "2024-07-03T17:29:26.152Z"
   },
   {
    "duration": 29,
    "start_time": "2024-07-03T17:30:39.349Z"
   },
   {
    "duration": 29,
    "start_time": "2024-07-03T17:32:13.897Z"
   },
   {
    "duration": 28,
    "start_time": "2024-07-03T17:32:21.871Z"
   },
   {
    "duration": 107,
    "start_time": "2024-07-03T17:32:28.398Z"
   },
   {
    "duration": 12,
    "start_time": "2024-07-03T17:32:28.506Z"
   },
   {
    "duration": 21,
    "start_time": "2024-07-03T17:32:28.519Z"
   },
   {
    "duration": 1681,
    "start_time": "2024-07-03T17:32:28.542Z"
   },
   {
    "duration": 10,
    "start_time": "2024-07-03T17:32:30.226Z"
   },
   {
    "duration": 70,
    "start_time": "2024-07-03T17:32:30.237Z"
   },
   {
    "duration": 70,
    "start_time": "2024-07-03T17:32:30.309Z"
   },
   {
    "duration": 56,
    "start_time": "2024-07-03T17:32:30.381Z"
   },
   {
    "duration": 72,
    "start_time": "2024-07-03T17:32:30.439Z"
   },
   {
    "duration": 59,
    "start_time": "2024-07-03T17:32:30.513Z"
   },
   {
    "duration": 84,
    "start_time": "2024-07-03T17:32:30.575Z"
   },
   {
    "duration": 8,
    "start_time": "2024-07-03T17:32:30.661Z"
   },
   {
    "duration": 76,
    "start_time": "2024-07-03T17:32:30.670Z"
   },
   {
    "duration": 8,
    "start_time": "2024-07-03T17:32:30.751Z"
   },
   {
    "duration": 66,
    "start_time": "2024-07-03T17:32:30.761Z"
   },
   {
    "duration": 31,
    "start_time": "2024-07-03T17:32:30.829Z"
   },
   {
    "duration": 268,
    "start_time": "2024-07-03T17:32:30.861Z"
   },
   {
    "duration": 4,
    "start_time": "2024-07-03T17:32:31.131Z"
   },
   {
    "duration": 36,
    "start_time": "2024-07-03T17:32:31.136Z"
   },
   {
    "duration": 23,
    "start_time": "2024-07-03T17:32:31.174Z"
   },
   {
    "duration": 72,
    "start_time": "2024-07-03T17:32:31.199Z"
   },
   {
    "duration": 65,
    "start_time": "2024-07-03T17:32:31.272Z"
   },
   {
    "duration": 48,
    "start_time": "2024-07-03T17:32:31.338Z"
   },
   {
    "duration": 37,
    "start_time": "2024-07-03T17:32:31.388Z"
   },
   {
    "duration": 31,
    "start_time": "2024-07-03T17:32:31.427Z"
   },
   {
    "duration": 42,
    "start_time": "2024-07-03T17:32:31.460Z"
   },
   {
    "duration": 34,
    "start_time": "2024-07-03T17:32:31.504Z"
   },
   {
    "duration": 81,
    "start_time": "2024-07-03T17:32:31.540Z"
   },
   {
    "duration": 32,
    "start_time": "2024-07-03T17:32:31.622Z"
   },
   {
    "duration": 68,
    "start_time": "2024-07-03T17:32:31.656Z"
   },
   {
    "duration": 331,
    "start_time": "2024-07-03T17:32:31.726Z"
   },
   {
    "duration": 6,
    "start_time": "2024-07-03T17:32:32.058Z"
   },
   {
    "duration": 18,
    "start_time": "2024-07-03T17:32:32.065Z"
   },
   {
    "duration": 10,
    "start_time": "2024-07-03T17:32:32.085Z"
   },
   {
    "duration": 307,
    "start_time": "2024-07-03T17:32:32.097Z"
   },
   {
    "duration": 9,
    "start_time": "2024-07-03T17:32:32.405Z"
   },
   {
    "duration": 332,
    "start_time": "2024-07-03T17:32:32.415Z"
   },
   {
    "duration": 7,
    "start_time": "2024-07-03T17:32:32.749Z"
   },
   {
    "duration": 223,
    "start_time": "2024-07-03T17:32:32.757Z"
   },
   {
    "duration": 7,
    "start_time": "2024-07-03T17:32:32.981Z"
   },
   {
    "duration": 331,
    "start_time": "2024-07-03T17:32:33.001Z"
   },
   {
    "duration": 7,
    "start_time": "2024-07-03T17:32:33.333Z"
   },
   {
    "duration": 155,
    "start_time": "2024-07-03T17:32:33.341Z"
   },
   {
    "duration": 7,
    "start_time": "2024-07-03T17:32:33.497Z"
   },
   {
    "duration": 148,
    "start_time": "2024-07-03T17:32:33.505Z"
   },
   {
    "duration": 8,
    "start_time": "2024-07-03T17:32:33.654Z"
   },
   {
    "duration": 167,
    "start_time": "2024-07-03T17:32:33.663Z"
   },
   {
    "duration": 123,
    "start_time": "2024-07-03T17:32:33.832Z"
   },
   {
    "duration": 8,
    "start_time": "2024-07-03T17:32:33.957Z"
   },
   {
    "duration": 177,
    "start_time": "2024-07-03T17:32:33.967Z"
   },
   {
    "duration": 9,
    "start_time": "2024-07-03T17:32:34.146Z"
   },
   {
    "duration": 228,
    "start_time": "2024-07-03T17:32:34.156Z"
   },
   {
    "duration": 8,
    "start_time": "2024-07-03T17:32:34.385Z"
   },
   {
    "duration": 229,
    "start_time": "2024-07-03T17:32:34.394Z"
   },
   {
    "duration": 8,
    "start_time": "2024-07-03T17:32:34.625Z"
   },
   {
    "duration": 328,
    "start_time": "2024-07-03T17:32:34.635Z"
   },
   {
    "duration": 14,
    "start_time": "2024-07-03T17:32:34.965Z"
   },
   {
    "duration": 35,
    "start_time": "2024-07-03T17:32:34.980Z"
   },
   {
    "duration": 11,
    "start_time": "2024-07-03T17:32:35.016Z"
   },
   {
    "duration": 142,
    "start_time": "2024-07-03T17:32:35.029Z"
   },
   {
    "duration": 162,
    "start_time": "2024-07-03T17:32:35.173Z"
   },
   {
    "duration": 144,
    "start_time": "2024-07-03T17:32:35.336Z"
   },
   {
    "duration": 160,
    "start_time": "2024-07-03T17:32:35.481Z"
   },
   {
    "duration": 135,
    "start_time": "2024-07-03T17:32:35.643Z"
   },
   {
    "duration": 150,
    "start_time": "2024-07-03T17:32:35.780Z"
   },
   {
    "duration": 129,
    "start_time": "2024-07-03T17:32:35.932Z"
   },
   {
    "duration": 134,
    "start_time": "2024-07-03T17:32:36.062Z"
   },
   {
    "duration": 22,
    "start_time": "2024-07-03T17:32:36.197Z"
   },
   {
    "duration": 10,
    "start_time": "2024-07-03T17:32:36.220Z"
   },
   {
    "duration": 16,
    "start_time": "2024-07-03T17:32:36.231Z"
   },
   {
    "duration": 22,
    "start_time": "2024-07-03T17:33:31.154Z"
   },
   {
    "duration": 18,
    "start_time": "2024-07-03T17:38:57.956Z"
   },
   {
    "duration": 29,
    "start_time": "2024-07-03T17:40:42.373Z"
   },
   {
    "duration": 9,
    "start_time": "2024-07-03T17:41:43.434Z"
   },
   {
    "duration": 9,
    "start_time": "2024-07-03T17:41:49.476Z"
   },
   {
    "duration": 16,
    "start_time": "2024-07-03T17:42:34.615Z"
   },
   {
    "duration": 8,
    "start_time": "2024-07-03T17:42:51.107Z"
   },
   {
    "duration": 23,
    "start_time": "2024-07-03T17:43:11.672Z"
   },
   {
    "duration": 7,
    "start_time": "2024-07-03T17:45:03.012Z"
   },
   {
    "duration": 28,
    "start_time": "2024-07-03T17:47:24.212Z"
   },
   {
    "duration": 7,
    "start_time": "2024-07-03T17:47:42.067Z"
   },
   {
    "duration": 7,
    "start_time": "2024-07-03T17:47:48.856Z"
   },
   {
    "duration": 17,
    "start_time": "2024-07-03T17:48:08.927Z"
   },
   {
    "duration": 54,
    "start_time": "2024-07-03T17:49:29.945Z"
   },
   {
    "duration": 56,
    "start_time": "2024-07-03T17:49:36.602Z"
   },
   {
    "duration": 61,
    "start_time": "2024-07-03T17:49:53.819Z"
   },
   {
    "duration": 13,
    "start_time": "2024-07-03T18:01:27.324Z"
   },
   {
    "duration": 12,
    "start_time": "2024-07-03T18:01:34.881Z"
   },
   {
    "duration": 14,
    "start_time": "2024-07-03T18:02:21.582Z"
   },
   {
    "duration": 18,
    "start_time": "2024-07-03T18:03:58.105Z"
   },
   {
    "duration": 9,
    "start_time": "2024-07-03T18:04:11.165Z"
   },
   {
    "duration": 81,
    "start_time": "2024-07-03T18:05:30.521Z"
   },
   {
    "duration": 12,
    "start_time": "2024-07-03T18:05:35.401Z"
   },
   {
    "duration": 29,
    "start_time": "2024-07-03T18:05:41.046Z"
   },
   {
    "duration": 15,
    "start_time": "2024-07-03T18:06:05.259Z"
   },
   {
    "duration": 161,
    "start_time": "2024-07-03T18:07:29.497Z"
   },
   {
    "duration": 50,
    "start_time": "2024-07-03T18:28:29.316Z"
   },
   {
    "duration": 202,
    "start_time": "2024-07-03T18:30:49.784Z"
   },
   {
    "duration": 375,
    "start_time": "2024-07-03T18:32:30.979Z"
   },
   {
    "duration": 231,
    "start_time": "2024-07-03T18:39:58.080Z"
   },
   {
    "duration": 230,
    "start_time": "2024-07-03T18:41:51.145Z"
   },
   {
    "duration": 229,
    "start_time": "2024-07-03T18:42:19.653Z"
   },
   {
    "duration": 24,
    "start_time": "2024-07-03T18:45:21.544Z"
   },
   {
    "duration": 10,
    "start_time": "2024-07-03T18:45:26.987Z"
   },
   {
    "duration": 20,
    "start_time": "2024-07-03T18:56:44.594Z"
   },
   {
    "duration": 14,
    "start_time": "2024-07-03T18:59:18.101Z"
   },
   {
    "duration": 14,
    "start_time": "2024-07-03T19:00:00.667Z"
   },
   {
    "duration": 61,
    "start_time": "2024-07-03T19:01:05.379Z"
   },
   {
    "duration": 59,
    "start_time": "2024-07-03T19:01:12.691Z"
   },
   {
    "duration": 58,
    "start_time": "2024-07-03T19:02:09.714Z"
   },
   {
    "duration": 43,
    "start_time": "2024-07-04T03:41:26.516Z"
   },
   {
    "duration": 6,
    "start_time": "2024-07-04T03:42:04.562Z"
   },
   {
    "duration": 5,
    "start_time": "2024-07-04T03:42:54.429Z"
   },
   {
    "duration": 955,
    "start_time": "2024-07-04T03:44:20.010Z"
   },
   {
    "duration": 35,
    "start_time": "2024-07-04T03:44:50.418Z"
   },
   {
    "duration": 10,
    "start_time": "2024-07-04T03:45:04.216Z"
   },
   {
    "duration": 9,
    "start_time": "2024-07-04T03:46:47.765Z"
   },
   {
    "duration": 10,
    "start_time": "2024-07-04T03:47:07.829Z"
   },
   {
    "duration": 8,
    "start_time": "2024-07-04T03:47:37.745Z"
   },
   {
    "duration": 54,
    "start_time": "2024-07-04T03:47:58.439Z"
   },
   {
    "duration": 11,
    "start_time": "2024-07-04T03:48:12.805Z"
   },
   {
    "duration": 9,
    "start_time": "2024-07-04T03:48:25.479Z"
   },
   {
    "duration": 10,
    "start_time": "2024-07-04T03:48:46.253Z"
   },
   {
    "duration": 9,
    "start_time": "2024-07-04T04:26:05.617Z"
   },
   {
    "duration": 9,
    "start_time": "2024-07-04T04:26:22.409Z"
   },
   {
    "duration": 10,
    "start_time": "2024-07-04T04:26:30.035Z"
   },
   {
    "duration": 250,
    "start_time": "2024-07-04T04:33:31.124Z"
   },
   {
    "duration": 4,
    "start_time": "2024-07-04T04:34:12.866Z"
   },
   {
    "duration": 6,
    "start_time": "2024-07-04T04:51:34.373Z"
   },
   {
    "duration": 6,
    "start_time": "2024-07-04T04:51:51.797Z"
   },
   {
    "duration": 12,
    "start_time": "2024-07-04T04:51:59.303Z"
   },
   {
    "duration": 11,
    "start_time": "2024-07-04T04:54:51.555Z"
   },
   {
    "duration": 12,
    "start_time": "2024-07-04T04:55:22.722Z"
   },
   {
    "duration": 11,
    "start_time": "2024-07-04T04:56:07.502Z"
   },
   {
    "duration": 14,
    "start_time": "2024-07-04T04:56:56.633Z"
   },
   {
    "duration": 15,
    "start_time": "2024-07-04T04:57:15.753Z"
   },
   {
    "duration": 12,
    "start_time": "2024-07-04T04:58:09.786Z"
   },
   {
    "duration": 12,
    "start_time": "2024-07-04T05:01:24.690Z"
   },
   {
    "duration": 14,
    "start_time": "2024-07-04T05:01:55.743Z"
   },
   {
    "duration": 53,
    "start_time": "2024-07-04T05:02:21.088Z"
   },
   {
    "duration": 6,
    "start_time": "2024-07-04T05:02:33.896Z"
   },
   {
    "duration": 5,
    "start_time": "2024-07-04T05:02:47.442Z"
   },
   {
    "duration": 1059,
    "start_time": "2024-07-04T05:03:18.484Z"
   },
   {
    "duration": 22,
    "start_time": "2024-07-04T05:08:26.641Z"
   },
   {
    "duration": 21,
    "start_time": "2024-07-04T05:09:09.306Z"
   },
   {
    "duration": 24,
    "start_time": "2024-07-04T05:13:24.240Z"
   },
   {
    "duration": 61,
    "start_time": "2024-07-04T05:16:20.343Z"
   },
   {
    "duration": 2,
    "start_time": "2024-07-04T05:16:37.044Z"
   },
   {
    "duration": 6,
    "start_time": "2024-07-04T05:16:59.344Z"
   },
   {
    "duration": 8,
    "start_time": "2024-07-04T05:21:55.013Z"
   },
   {
    "duration": 8,
    "start_time": "2024-07-04T05:22:24.501Z"
   },
   {
    "duration": 101,
    "start_time": "2024-07-04T05:33:00.852Z"
   },
   {
    "duration": 13,
    "start_time": "2024-07-04T05:34:08.877Z"
   },
   {
    "duration": 29,
    "start_time": "2024-07-04T05:35:15.596Z"
   },
   {
    "duration": 20,
    "start_time": "2024-07-04T05:35:52.050Z"
   },
   {
    "duration": 24,
    "start_time": "2024-07-04T05:36:05.628Z"
   },
   {
    "duration": 25,
    "start_time": "2024-07-04T05:36:24.654Z"
   },
   {
    "duration": 1043,
    "start_time": "2024-07-04T05:37:10.015Z"
   },
   {
    "duration": 16,
    "start_time": "2024-07-04T05:51:29.215Z"
   },
   {
    "duration": 55,
    "start_time": "2024-07-04T05:51:46.796Z"
   },
   {
    "duration": 22,
    "start_time": "2024-07-04T06:09:48.939Z"
   },
   {
    "duration": 7,
    "start_time": "2024-07-04T06:11:49.777Z"
   },
   {
    "duration": 23,
    "start_time": "2024-07-04T06:11:59.672Z"
   },
   {
    "duration": 21,
    "start_time": "2024-07-04T06:15:41.908Z"
   },
   {
    "duration": 19,
    "start_time": "2024-07-04T06:16:06.440Z"
   },
   {
    "duration": 19,
    "start_time": "2024-07-04T06:21:52.660Z"
   },
   {
    "duration": 11,
    "start_time": "2024-07-04T06:23:11.233Z"
   },
   {
    "duration": 98,
    "start_time": "2024-07-04T06:23:19.939Z"
   },
   {
    "duration": 13,
    "start_time": "2024-07-04T06:23:20.282Z"
   },
   {
    "duration": 27,
    "start_time": "2024-07-04T06:23:20.297Z"
   },
   {
    "duration": 1639,
    "start_time": "2024-07-04T06:23:20.325Z"
   },
   {
    "duration": 7,
    "start_time": "2024-07-04T06:23:21.965Z"
   },
   {
    "duration": 17,
    "start_time": "2024-07-04T06:23:21.974Z"
   },
   {
    "duration": 10,
    "start_time": "2024-07-04T06:23:21.992Z"
   },
   {
    "duration": 29,
    "start_time": "2024-07-04T06:23:22.004Z"
   },
   {
    "duration": 10,
    "start_time": "2024-07-04T06:23:22.035Z"
   },
   {
    "duration": 16,
    "start_time": "2024-07-04T06:23:22.046Z"
   },
   {
    "duration": 49,
    "start_time": "2024-07-04T06:23:22.063Z"
   },
   {
    "duration": 7,
    "start_time": "2024-07-04T06:23:22.113Z"
   },
   {
    "duration": 40,
    "start_time": "2024-07-04T06:23:22.121Z"
   },
   {
    "duration": 25,
    "start_time": "2024-07-04T06:23:22.163Z"
   },
   {
    "duration": 34,
    "start_time": "2024-07-04T06:23:22.191Z"
   },
   {
    "duration": 4,
    "start_time": "2024-07-04T06:23:22.226Z"
   },
   {
    "duration": 235,
    "start_time": "2024-07-04T06:23:22.231Z"
   },
   {
    "duration": 5,
    "start_time": "2024-07-04T06:23:22.467Z"
   },
   {
    "duration": 20,
    "start_time": "2024-07-04T06:23:22.474Z"
   },
   {
    "duration": 8,
    "start_time": "2024-07-04T06:23:22.495Z"
   },
   {
    "duration": 8,
    "start_time": "2024-07-04T06:23:22.504Z"
   },
   {
    "duration": 7,
    "start_time": "2024-07-04T06:23:22.513Z"
   },
   {
    "duration": 6,
    "start_time": "2024-07-04T06:23:22.521Z"
   },
   {
    "duration": 10,
    "start_time": "2024-07-04T06:23:22.528Z"
   },
   {
    "duration": 9,
    "start_time": "2024-07-04T06:23:22.539Z"
   },
   {
    "duration": 6,
    "start_time": "2024-07-04T06:23:22.549Z"
   },
   {
    "duration": 7,
    "start_time": "2024-07-04T06:23:22.556Z"
   },
   {
    "duration": 6,
    "start_time": "2024-07-04T06:23:22.564Z"
   },
   {
    "duration": 6,
    "start_time": "2024-07-04T06:23:22.571Z"
   },
   {
    "duration": 23,
    "start_time": "2024-07-04T06:23:22.578Z"
   },
   {
    "duration": 314,
    "start_time": "2024-07-04T06:23:22.603Z"
   },
   {
    "duration": 6,
    "start_time": "2024-07-04T06:23:22.919Z"
   },
   {
    "duration": 15,
    "start_time": "2024-07-04T06:23:22.927Z"
   },
   {
    "duration": 13,
    "start_time": "2024-07-04T06:23:22.944Z"
   },
   {
    "duration": 253,
    "start_time": "2024-07-04T06:23:22.958Z"
   },
   {
    "duration": 8,
    "start_time": "2024-07-04T06:23:23.213Z"
   },
   {
    "duration": 285,
    "start_time": "2024-07-04T06:23:23.223Z"
   },
   {
    "duration": 7,
    "start_time": "2024-07-04T06:23:23.510Z"
   },
   {
    "duration": 233,
    "start_time": "2024-07-04T06:23:23.518Z"
   },
   {
    "duration": 8,
    "start_time": "2024-07-04T06:23:23.753Z"
   },
   {
    "duration": 254,
    "start_time": "2024-07-04T06:23:23.762Z"
   },
   {
    "duration": 8,
    "start_time": "2024-07-04T06:23:24.019Z"
   },
   {
    "duration": 162,
    "start_time": "2024-07-04T06:23:24.028Z"
   },
   {
    "duration": 13,
    "start_time": "2024-07-04T06:23:24.191Z"
   },
   {
    "duration": 140,
    "start_time": "2024-07-04T06:23:24.205Z"
   },
   {
    "duration": 6,
    "start_time": "2024-07-04T06:23:24.346Z"
   },
   {
    "duration": 164,
    "start_time": "2024-07-04T06:23:24.354Z"
   },
   {
    "duration": 119,
    "start_time": "2024-07-04T06:23:24.520Z"
   },
   {
    "duration": 7,
    "start_time": "2024-07-04T06:23:24.640Z"
   },
   {
    "duration": 166,
    "start_time": "2024-07-04T06:23:24.648Z"
   },
   {
    "duration": 7,
    "start_time": "2024-07-04T06:23:24.815Z"
   },
   {
    "duration": 313,
    "start_time": "2024-07-04T06:23:24.823Z"
   },
   {
    "duration": 8,
    "start_time": "2024-07-04T06:23:25.137Z"
   },
   {
    "duration": 253,
    "start_time": "2024-07-04T06:23:25.146Z"
   },
   {
    "duration": 7,
    "start_time": "2024-07-04T06:23:25.401Z"
   },
   {
    "duration": 250,
    "start_time": "2024-07-04T06:23:25.409Z"
   },
   {
    "duration": 14,
    "start_time": "2024-07-04T06:23:25.661Z"
   },
   {
    "duration": 31,
    "start_time": "2024-07-04T06:23:25.676Z"
   },
   {
    "duration": 12,
    "start_time": "2024-07-04T06:23:25.709Z"
   },
   {
    "duration": 94,
    "start_time": "2024-07-04T06:28:06.284Z"
   },
   {
    "duration": 12,
    "start_time": "2024-07-04T06:28:06.379Z"
   },
   {
    "duration": 18,
    "start_time": "2024-07-04T06:28:06.401Z"
   },
   {
    "duration": 1624,
    "start_time": "2024-07-04T06:28:06.421Z"
   },
   {
    "duration": 8,
    "start_time": "2024-07-04T06:28:08.046Z"
   },
   {
    "duration": 10,
    "start_time": "2024-07-04T06:28:08.055Z"
   },
   {
    "duration": 31,
    "start_time": "2024-07-04T06:28:08.066Z"
   },
   {
    "duration": 24,
    "start_time": "2024-07-04T06:28:08.098Z"
   },
   {
    "duration": 10,
    "start_time": "2024-07-04T06:28:08.123Z"
   },
   {
    "duration": 34,
    "start_time": "2024-07-04T06:28:08.134Z"
   },
   {
    "duration": 58,
    "start_time": "2024-07-04T06:28:08.170Z"
   },
   {
    "duration": 7,
    "start_time": "2024-07-04T06:28:08.230Z"
   },
   {
    "duration": 33,
    "start_time": "2024-07-04T06:28:08.238Z"
   },
   {
    "duration": 2,
    "start_time": "2024-07-04T06:28:08.274Z"
   },
   {
    "duration": 43,
    "start_time": "2024-07-04T06:28:08.277Z"
   },
   {
    "duration": 3,
    "start_time": "2024-07-04T06:28:08.321Z"
   },
   {
    "duration": 219,
    "start_time": "2024-07-04T06:28:08.325Z"
   },
   {
    "duration": 4,
    "start_time": "2024-07-04T06:28:08.545Z"
   },
   {
    "duration": 14,
    "start_time": "2024-07-04T06:28:08.550Z"
   },
   {
    "duration": 15,
    "start_time": "2024-07-04T06:28:08.566Z"
   },
   {
    "duration": 14,
    "start_time": "2024-07-04T06:28:08.582Z"
   },
   {
    "duration": 30,
    "start_time": "2024-07-04T06:28:08.598Z"
   },
   {
    "duration": 16,
    "start_time": "2024-07-04T06:28:08.629Z"
   },
   {
    "duration": 20,
    "start_time": "2024-07-04T06:28:08.647Z"
   },
   {
    "duration": 25,
    "start_time": "2024-07-04T06:28:08.668Z"
   },
   {
    "duration": 33,
    "start_time": "2024-07-04T06:28:08.695Z"
   },
   {
    "duration": 12,
    "start_time": "2024-07-04T06:28:08.730Z"
   },
   {
    "duration": 9,
    "start_time": "2024-07-04T06:28:08.743Z"
   },
   {
    "duration": 9,
    "start_time": "2024-07-04T06:28:08.753Z"
   },
   {
    "duration": 9,
    "start_time": "2024-07-04T06:28:08.763Z"
   },
   {
    "duration": 292,
    "start_time": "2024-07-04T06:28:08.773Z"
   },
   {
    "duration": 5,
    "start_time": "2024-07-04T06:28:09.066Z"
   },
   {
    "duration": 116,
    "start_time": "2024-07-04T06:28:09.072Z"
   },
   {
    "duration": 14,
    "start_time": "2024-07-04T06:28:09.190Z"
   },
   {
    "duration": 251,
    "start_time": "2024-07-04T06:28:09.206Z"
   },
   {
    "duration": 7,
    "start_time": "2024-07-04T06:28:09.459Z"
   },
   {
    "duration": 314,
    "start_time": "2024-07-04T06:28:09.467Z"
   },
   {
    "duration": 7,
    "start_time": "2024-07-04T06:28:09.783Z"
   },
   {
    "duration": 215,
    "start_time": "2024-07-04T06:28:09.801Z"
   },
   {
    "duration": 8,
    "start_time": "2024-07-04T06:28:10.018Z"
   },
   {
    "duration": 239,
    "start_time": "2024-07-04T06:28:10.030Z"
   },
   {
    "duration": 7,
    "start_time": "2024-07-04T06:28:10.271Z"
   },
   {
    "duration": 172,
    "start_time": "2024-07-04T06:28:10.279Z"
   },
   {
    "duration": 7,
    "start_time": "2024-07-04T06:28:10.453Z"
   },
   {
    "duration": 146,
    "start_time": "2024-07-04T06:28:10.461Z"
   },
   {
    "duration": 7,
    "start_time": "2024-07-04T06:28:10.608Z"
   },
   {
    "duration": 164,
    "start_time": "2024-07-04T06:28:10.616Z"
   },
   {
    "duration": 137,
    "start_time": "2024-07-04T06:28:10.781Z"
   },
   {
    "duration": 7,
    "start_time": "2024-07-04T06:28:10.919Z"
   },
   {
    "duration": 169,
    "start_time": "2024-07-04T06:28:10.927Z"
   },
   {
    "duration": 10,
    "start_time": "2024-07-04T06:28:11.097Z"
   },
   {
    "duration": 273,
    "start_time": "2024-07-04T06:28:11.108Z"
   },
   {
    "duration": 7,
    "start_time": "2024-07-04T06:28:11.383Z"
   },
   {
    "duration": 222,
    "start_time": "2024-07-04T06:28:11.391Z"
   },
   {
    "duration": 7,
    "start_time": "2024-07-04T06:28:11.614Z"
   },
   {
    "duration": 340,
    "start_time": "2024-07-04T06:28:11.622Z"
   },
   {
    "duration": 14,
    "start_time": "2024-07-04T06:28:11.964Z"
   },
   {
    "duration": 31,
    "start_time": "2024-07-04T06:28:11.979Z"
   },
   {
    "duration": 10,
    "start_time": "2024-07-04T06:28:12.012Z"
   },
   {
    "duration": 137,
    "start_time": "2024-07-04T06:28:12.023Z"
   },
   {
    "duration": 152,
    "start_time": "2024-07-04T06:28:12.161Z"
   },
   {
    "duration": 161,
    "start_time": "2024-07-04T06:28:12.315Z"
   },
   {
    "duration": 132,
    "start_time": "2024-07-04T06:28:12.477Z"
   },
   {
    "duration": 127,
    "start_time": "2024-07-04T06:28:12.610Z"
   },
   {
    "duration": 138,
    "start_time": "2024-07-04T06:28:12.738Z"
   },
   {
    "duration": 129,
    "start_time": "2024-07-04T06:28:12.878Z"
   },
   {
    "duration": 127,
    "start_time": "2024-07-04T06:28:13.008Z"
   },
   {
    "duration": 20,
    "start_time": "2024-07-04T06:28:13.136Z"
   },
   {
    "duration": 42,
    "start_time": "2024-07-04T06:28:13.157Z"
   },
   {
    "duration": 29,
    "start_time": "2024-07-04T06:31:15.015Z"
   },
   {
    "duration": 18,
    "start_time": "2024-07-04T06:31:29.141Z"
   },
   {
    "duration": 1201,
    "start_time": "2024-07-04T06:33:00.140Z"
   },
   {
    "duration": 19,
    "start_time": "2024-07-04T06:38:22.444Z"
   },
   {
    "duration": 1043,
    "start_time": "2024-07-04T06:47:59.187Z"
   },
   {
    "duration": 313,
    "start_time": "2024-07-04T06:48:38.011Z"
   },
   {
    "duration": 12,
    "start_time": "2024-07-04T06:51:19.326Z"
   },
   {
    "duration": 15,
    "start_time": "2024-07-04T06:51:41.099Z"
   },
   {
    "duration": 16,
    "start_time": "2024-07-04T06:51:58.799Z"
   },
   {
    "duration": 18,
    "start_time": "2024-07-04T06:55:09.117Z"
   },
   {
    "duration": 16,
    "start_time": "2024-07-04T06:56:20.853Z"
   },
   {
    "duration": 1116,
    "start_time": "2024-07-04T07:02:45.994Z"
   },
   {
    "duration": 1176,
    "start_time": "2024-07-04T07:03:29.355Z"
   },
   {
    "duration": 1313,
    "start_time": "2024-07-04T07:04:41.610Z"
   },
   {
    "duration": 226,
    "start_time": "2024-07-04T07:07:29.790Z"
   },
   {
    "duration": 165,
    "start_time": "2024-07-04T07:08:27.952Z"
   },
   {
    "duration": 133,
    "start_time": "2024-07-04T07:08:40.788Z"
   },
   {
    "duration": 152,
    "start_time": "2024-07-04T07:12:20.025Z"
   },
   {
    "duration": 109,
    "start_time": "2024-07-04T07:12:41.811Z"
   },
   {
    "duration": 146,
    "start_time": "2024-07-04T07:12:47.973Z"
   },
   {
    "duration": 145,
    "start_time": "2024-07-04T07:12:54.558Z"
   },
   {
    "duration": 167,
    "start_time": "2024-07-04T07:13:03.156Z"
   },
   {
    "duration": 164,
    "start_time": "2024-07-04T07:13:59.524Z"
   },
   {
    "duration": 154,
    "start_time": "2024-07-04T07:14:07.722Z"
   },
   {
    "duration": 12,
    "start_time": "2024-07-04T08:39:53.034Z"
   },
   {
    "duration": 14,
    "start_time": "2024-07-04T08:40:11.033Z"
   },
   {
    "duration": 839,
    "start_time": "2024-07-04T11:24:44.608Z"
   },
   {
    "duration": 16,
    "start_time": "2024-07-04T11:24:45.450Z"
   },
   {
    "duration": 25,
    "start_time": "2024-07-04T11:24:45.467Z"
   },
   {
    "duration": 2106,
    "start_time": "2024-07-04T11:24:45.494Z"
   },
   {
    "duration": 10,
    "start_time": "2024-07-04T11:24:47.603Z"
   },
   {
    "duration": 28,
    "start_time": "2024-07-04T11:24:47.614Z"
   },
   {
    "duration": 7,
    "start_time": "2024-07-04T11:24:47.644Z"
   },
   {
    "duration": 20,
    "start_time": "2024-07-04T11:24:47.653Z"
   },
   {
    "duration": 16,
    "start_time": "2024-07-04T11:24:47.675Z"
   },
   {
    "duration": 13,
    "start_time": "2024-07-04T11:24:47.693Z"
   },
   {
    "duration": 96,
    "start_time": "2024-07-04T11:24:47.707Z"
   },
   {
    "duration": 11,
    "start_time": "2024-07-04T11:24:47.805Z"
   },
   {
    "duration": 89,
    "start_time": "2024-07-04T11:24:47.818Z"
   },
   {
    "duration": 4,
    "start_time": "2024-07-04T11:24:47.911Z"
   },
   {
    "duration": 35,
    "start_time": "2024-07-04T11:24:47.916Z"
   },
   {
    "duration": 12,
    "start_time": "2024-07-04T11:24:47.953Z"
   },
   {
    "duration": 272,
    "start_time": "2024-07-04T11:24:47.966Z"
   },
   {
    "duration": 6,
    "start_time": "2024-07-04T11:24:48.245Z"
   },
   {
    "duration": 10,
    "start_time": "2024-07-04T11:24:48.253Z"
   },
   {
    "duration": 26,
    "start_time": "2024-07-04T11:24:48.265Z"
   },
   {
    "duration": 10,
    "start_time": "2024-07-04T11:24:48.293Z"
   },
   {
    "duration": 22,
    "start_time": "2024-07-04T11:24:48.305Z"
   },
   {
    "duration": 9,
    "start_time": "2024-07-04T11:24:48.329Z"
   },
   {
    "duration": 17,
    "start_time": "2024-07-04T11:24:48.340Z"
   },
   {
    "duration": 8,
    "start_time": "2024-07-04T11:24:48.359Z"
   },
   {
    "duration": 4,
    "start_time": "2024-07-04T11:24:48.368Z"
   },
   {
    "duration": 9,
    "start_time": "2024-07-04T11:24:48.374Z"
   },
   {
    "duration": 8,
    "start_time": "2024-07-04T11:24:48.385Z"
   },
   {
    "duration": 7,
    "start_time": "2024-07-04T11:24:48.396Z"
   },
   {
    "duration": 41,
    "start_time": "2024-07-04T11:24:48.405Z"
   },
   {
    "duration": 399,
    "start_time": "2024-07-04T11:24:48.448Z"
   },
   {
    "duration": 9,
    "start_time": "2024-07-04T11:24:48.848Z"
   },
   {
    "duration": 32,
    "start_time": "2024-07-04T11:24:48.860Z"
   },
   {
    "duration": 10,
    "start_time": "2024-07-04T11:24:48.894Z"
   },
   {
    "duration": 331,
    "start_time": "2024-07-04T11:24:48.906Z"
   },
   {
    "duration": 15,
    "start_time": "2024-07-04T11:24:49.239Z"
   },
   {
    "duration": 397,
    "start_time": "2024-07-04T11:24:49.255Z"
   },
   {
    "duration": 9,
    "start_time": "2024-07-04T11:24:49.655Z"
   },
   {
    "duration": 293,
    "start_time": "2024-07-04T11:24:49.666Z"
   },
   {
    "duration": 9,
    "start_time": "2024-07-04T11:24:49.961Z"
   },
   {
    "duration": 335,
    "start_time": "2024-07-04T11:24:49.974Z"
   },
   {
    "duration": 11,
    "start_time": "2024-07-04T11:24:50.311Z"
   },
   {
    "duration": 224,
    "start_time": "2024-07-04T11:24:50.325Z"
   },
   {
    "duration": 12,
    "start_time": "2024-07-04T11:24:50.550Z"
   },
   {
    "duration": 241,
    "start_time": "2024-07-04T11:24:50.564Z"
   },
   {
    "duration": 9,
    "start_time": "2024-07-04T11:24:50.807Z"
   },
   {
    "duration": 228,
    "start_time": "2024-07-04T11:24:50.818Z"
   },
   {
    "duration": 168,
    "start_time": "2024-07-04T11:24:51.047Z"
   },
   {
    "duration": 9,
    "start_time": "2024-07-04T11:24:51.217Z"
   },
   {
    "duration": 229,
    "start_time": "2024-07-04T11:24:51.228Z"
   },
   {
    "duration": 9,
    "start_time": "2024-07-04T11:24:51.459Z"
   },
   {
    "duration": 426,
    "start_time": "2024-07-04T11:24:51.470Z"
   },
   {
    "duration": 13,
    "start_time": "2024-07-04T11:24:51.898Z"
   },
   {
    "duration": 341,
    "start_time": "2024-07-04T11:24:51.913Z"
   },
   {
    "duration": 9,
    "start_time": "2024-07-04T11:24:52.256Z"
   },
   {
    "duration": 325,
    "start_time": "2024-07-04T11:24:52.267Z"
   },
   {
    "duration": 18,
    "start_time": "2024-07-04T11:24:52.594Z"
   },
   {
    "duration": 50,
    "start_time": "2024-07-04T11:24:52.614Z"
   },
   {
    "duration": 13,
    "start_time": "2024-07-04T11:24:52.666Z"
   },
   {
    "duration": 187,
    "start_time": "2024-07-04T11:24:52.681Z"
   },
   {
    "duration": 197,
    "start_time": "2024-07-04T11:24:52.870Z"
   },
   {
    "duration": 191,
    "start_time": "2024-07-04T11:24:53.069Z"
   },
   {
    "duration": 172,
    "start_time": "2024-07-04T11:24:53.262Z"
   },
   {
    "duration": 170,
    "start_time": "2024-07-04T11:24:53.436Z"
   },
   {
    "duration": 196,
    "start_time": "2024-07-04T11:24:53.607Z"
   },
   {
    "duration": 300,
    "start_time": "2024-07-04T11:24:53.806Z"
   },
   {
    "duration": 175,
    "start_time": "2024-07-04T11:24:54.108Z"
   },
   {
    "duration": 28,
    "start_time": "2024-07-04T11:24:54.285Z"
   },
   {
    "duration": 35,
    "start_time": "2024-07-04T11:24:54.315Z"
   },
   {
    "duration": 224,
    "start_time": "2024-07-04T11:24:54.352Z"
   },
   {
    "duration": 1074,
    "start_time": "2024-07-04T15:39:53.120Z"
   },
   {
    "duration": 15,
    "start_time": "2024-07-04T15:39:54.196Z"
   },
   {
    "duration": 43,
    "start_time": "2024-07-04T15:39:54.213Z"
   },
   {
    "duration": 2532,
    "start_time": "2024-07-04T15:39:54.258Z"
   },
   {
    "duration": 100,
    "start_time": "2024-07-04T15:39:56.793Z"
   },
   {
    "duration": 11,
    "start_time": "2024-07-04T15:39:56.895Z"
   },
   {
    "duration": 5,
    "start_time": "2024-07-04T15:39:56.908Z"
   },
   {
    "duration": 77,
    "start_time": "2024-07-04T15:39:56.914Z"
   },
   {
    "duration": 13,
    "start_time": "2024-07-04T15:39:56.992Z"
   },
   {
    "duration": 23,
    "start_time": "2024-07-04T15:39:57.006Z"
   },
   {
    "duration": 165,
    "start_time": "2024-07-04T15:39:57.030Z"
   },
   {
    "duration": 10,
    "start_time": "2024-07-04T15:39:57.196Z"
   },
   {
    "duration": 99,
    "start_time": "2024-07-04T15:39:57.207Z"
   },
   {
    "duration": 3,
    "start_time": "2024-07-04T15:39:57.309Z"
   },
   {
    "duration": 82,
    "start_time": "2024-07-04T15:39:57.313Z"
   },
   {
    "duration": 4,
    "start_time": "2024-07-04T15:39:57.397Z"
   },
   {
    "duration": 616,
    "start_time": "2024-07-04T15:39:57.403Z"
   },
   {
    "duration": 5,
    "start_time": "2024-07-04T15:39:58.021Z"
   },
   {
    "duration": 66,
    "start_time": "2024-07-04T15:39:58.027Z"
   },
   {
    "duration": 17,
    "start_time": "2024-07-04T15:39:58.095Z"
   },
   {
    "duration": 15,
    "start_time": "2024-07-04T15:39:58.114Z"
   },
   {
    "duration": 67,
    "start_time": "2024-07-04T15:39:58.130Z"
   },
   {
    "duration": 16,
    "start_time": "2024-07-04T15:39:58.198Z"
   },
   {
    "duration": 5,
    "start_time": "2024-07-04T15:39:58.215Z"
   },
   {
    "duration": 5,
    "start_time": "2024-07-04T15:39:58.222Z"
   },
   {
    "duration": 62,
    "start_time": "2024-07-04T15:39:58.228Z"
   },
   {
    "duration": 14,
    "start_time": "2024-07-04T15:39:58.292Z"
   },
   {
    "duration": 7,
    "start_time": "2024-07-04T15:39:58.307Z"
   },
   {
    "duration": 7,
    "start_time": "2024-07-04T15:39:58.316Z"
   },
   {
    "duration": 6,
    "start_time": "2024-07-04T15:39:58.324Z"
   },
   {
    "duration": 631,
    "start_time": "2024-07-04T15:39:58.389Z"
   },
   {
    "duration": 5,
    "start_time": "2024-07-04T15:39:59.022Z"
   },
   {
    "duration": 71,
    "start_time": "2024-07-04T15:39:59.029Z"
   },
   {
    "duration": 12,
    "start_time": "2024-07-04T15:39:59.101Z"
   },
   {
    "duration": 520,
    "start_time": "2024-07-04T15:39:59.115Z"
   },
   {
    "duration": 59,
    "start_time": "2024-07-04T15:39:59.637Z"
   },
   {
    "duration": 618,
    "start_time": "2024-07-04T15:39:59.697Z"
   },
   {
    "duration": 8,
    "start_time": "2024-07-04T15:40:00.317Z"
   },
   {
    "duration": 578,
    "start_time": "2024-07-04T15:40:00.327Z"
   },
   {
    "duration": 8,
    "start_time": "2024-07-04T15:40:00.906Z"
   },
   {
    "duration": 695,
    "start_time": "2024-07-04T15:40:00.918Z"
   },
   {
    "duration": 9,
    "start_time": "2024-07-04T15:40:01.615Z"
   },
   {
    "duration": 310,
    "start_time": "2024-07-04T15:40:01.626Z"
   },
   {
    "duration": 56,
    "start_time": "2024-07-04T15:40:01.937Z"
   },
   {
    "duration": 467,
    "start_time": "2024-07-04T15:40:01.995Z"
   },
   {
    "duration": 27,
    "start_time": "2024-07-04T15:40:02.463Z"
   },
   {
    "duration": 1500,
    "start_time": "2024-07-04T15:40:02.492Z"
   },
   {
    "duration": 229,
    "start_time": "2024-07-04T15:40:03.994Z"
   },
   {
    "duration": 7,
    "start_time": "2024-07-04T15:40:04.224Z"
   },
   {
    "duration": 191,
    "start_time": "2024-07-04T15:40:04.233Z"
   },
   {
    "duration": 7,
    "start_time": "2024-07-04T15:40:04.426Z"
   },
   {
    "duration": 330,
    "start_time": "2024-07-04T15:40:04.435Z"
   },
   {
    "duration": 8,
    "start_time": "2024-07-04T15:40:04.767Z"
   },
   {
    "duration": 261,
    "start_time": "2024-07-04T15:40:04.776Z"
   },
   {
    "duration": 8,
    "start_time": "2024-07-04T15:40:05.039Z"
   },
   {
    "duration": 300,
    "start_time": "2024-07-04T15:40:05.049Z"
   },
   {
    "duration": 17,
    "start_time": "2024-07-04T15:40:05.350Z"
   },
   {
    "duration": 55,
    "start_time": "2024-07-04T15:40:05.368Z"
   },
   {
    "duration": 18,
    "start_time": "2024-07-04T15:40:05.425Z"
   },
   {
    "duration": 162,
    "start_time": "2024-07-04T15:40:05.445Z"
   },
   {
    "duration": 174,
    "start_time": "2024-07-04T15:40:05.609Z"
   },
   {
    "duration": 162,
    "start_time": "2024-07-04T15:40:05.784Z"
   },
   {
    "duration": 146,
    "start_time": "2024-07-04T15:40:05.947Z"
   },
   {
    "duration": 147,
    "start_time": "2024-07-04T15:40:06.094Z"
   },
   {
    "duration": 156,
    "start_time": "2024-07-04T15:40:06.242Z"
   },
   {
    "duration": 237,
    "start_time": "2024-07-04T15:40:06.399Z"
   },
   {
    "duration": 159,
    "start_time": "2024-07-04T15:40:06.638Z"
   },
   {
    "duration": 27,
    "start_time": "2024-07-04T15:40:06.798Z"
   },
   {
    "duration": 19,
    "start_time": "2024-07-04T15:40:06.827Z"
   },
   {
    "duration": 207,
    "start_time": "2024-07-04T15:40:06.848Z"
   },
   {
    "duration": 6,
    "start_time": "2024-07-04T15:49:57.194Z"
   },
   {
    "duration": 74,
    "start_time": "2024-07-04T15:50:18.426Z"
   },
   {
    "duration": 810,
    "start_time": "2024-07-04T18:01:07.577Z"
   },
   {
    "duration": 307,
    "start_time": "2024-07-04T18:01:12.160Z"
   },
   {
    "duration": 1848,
    "start_time": "2024-07-04T18:02:05.491Z"
   },
   {
    "duration": 23,
    "start_time": "2024-07-04T18:24:19.996Z"
   },
   {
    "duration": 8,
    "start_time": "2024-07-04T18:24:54.123Z"
   },
   {
    "duration": 9,
    "start_time": "2024-07-04T18:25:21.112Z"
   },
   {
    "duration": 9,
    "start_time": "2024-07-04T18:25:35.220Z"
   },
   {
    "duration": 251,
    "start_time": "2024-07-04T18:25:41.154Z"
   },
   {
    "duration": 10,
    "start_time": "2024-07-04T18:26:51.204Z"
   },
   {
    "duration": 8,
    "start_time": "2024-07-04T18:28:03.898Z"
   },
   {
    "duration": 9,
    "start_time": "2024-07-04T18:28:16.449Z"
   },
   {
    "duration": 9,
    "start_time": "2024-07-04T18:28:33.569Z"
   },
   {
    "duration": 7,
    "start_time": "2024-07-04T18:28:45.295Z"
   },
   {
    "duration": 259,
    "start_time": "2024-07-04T18:29:05.952Z"
   },
   {
    "duration": 3,
    "start_time": "2024-07-04T18:29:12.368Z"
   },
   {
    "duration": 131,
    "start_time": "2024-07-04T18:29:12.373Z"
   },
   {
    "duration": 15,
    "start_time": "2024-07-04T18:29:12.506Z"
   },
   {
    "duration": 24,
    "start_time": "2024-07-04T18:29:12.523Z"
   },
   {
    "duration": 1840,
    "start_time": "2024-07-04T18:29:12.548Z"
   },
   {
    "duration": 14,
    "start_time": "2024-07-04T18:29:14.389Z"
   },
   {
    "duration": 6,
    "start_time": "2024-07-04T18:29:14.404Z"
   },
   {
    "duration": 5,
    "start_time": "2024-07-04T18:29:14.411Z"
   },
   {
    "duration": 11,
    "start_time": "2024-07-04T18:29:14.418Z"
   },
   {
    "duration": 12,
    "start_time": "2024-07-04T18:29:14.430Z"
   },
   {
    "duration": 13,
    "start_time": "2024-07-04T18:29:14.443Z"
   },
   {
    "duration": 92,
    "start_time": "2024-07-04T18:29:14.458Z"
   },
   {
    "duration": 11,
    "start_time": "2024-07-04T18:29:14.551Z"
   },
   {
    "duration": 47,
    "start_time": "2024-07-04T18:29:14.565Z"
   },
   {
    "duration": 4,
    "start_time": "2024-07-04T18:29:14.613Z"
   },
   {
    "duration": 33,
    "start_time": "2024-07-04T18:29:14.618Z"
   },
   {
    "duration": 4,
    "start_time": "2024-07-04T18:29:14.653Z"
   },
   {
    "duration": 261,
    "start_time": "2024-07-04T18:29:14.659Z"
   },
   {
    "duration": 4,
    "start_time": "2024-07-04T18:29:14.921Z"
   },
   {
    "duration": 6,
    "start_time": "2024-07-04T18:29:14.926Z"
   },
   {
    "duration": 5,
    "start_time": "2024-07-04T18:29:14.933Z"
   },
   {
    "duration": 4,
    "start_time": "2024-07-04T18:29:14.939Z"
   },
   {
    "duration": 4,
    "start_time": "2024-07-04T18:29:14.945Z"
   },
   {
    "duration": 15,
    "start_time": "2024-07-04T18:29:14.951Z"
   },
   {
    "duration": 28,
    "start_time": "2024-07-04T18:29:14.967Z"
   },
   {
    "duration": 55,
    "start_time": "2024-07-04T18:29:14.996Z"
   },
   {
    "duration": 15,
    "start_time": "2024-07-04T18:29:15.053Z"
   },
   {
    "duration": 24,
    "start_time": "2024-07-04T18:29:15.069Z"
   },
   {
    "duration": 16,
    "start_time": "2024-07-04T18:29:15.095Z"
   },
   {
    "duration": 12,
    "start_time": "2024-07-04T18:29:15.113Z"
   },
   {
    "duration": 31,
    "start_time": "2024-07-04T18:29:15.126Z"
   },
   {
    "duration": 318,
    "start_time": "2024-07-04T18:29:15.159Z"
   },
   {
    "duration": 6,
    "start_time": "2024-07-04T18:29:15.479Z"
   },
   {
    "duration": 65,
    "start_time": "2024-07-04T18:29:15.486Z"
   },
   {
    "duration": 8,
    "start_time": "2024-07-04T18:29:15.552Z"
   },
   {
    "duration": 378,
    "start_time": "2024-07-04T18:29:15.561Z"
   },
   {
    "duration": 12,
    "start_time": "2024-07-04T18:29:15.941Z"
   },
   {
    "duration": 290,
    "start_time": "2024-07-04T18:29:15.955Z"
   },
   {
    "duration": 9,
    "start_time": "2024-07-04T18:29:16.246Z"
   },
   {
    "duration": 261,
    "start_time": "2024-07-04T18:29:16.256Z"
   },
   {
    "duration": 7,
    "start_time": "2024-07-04T18:29:16.521Z"
   },
   {
    "duration": 305,
    "start_time": "2024-07-04T18:29:16.530Z"
   },
   {
    "duration": 7,
    "start_time": "2024-07-04T18:29:16.837Z"
   },
   {
    "duration": 174,
    "start_time": "2024-07-04T18:29:16.846Z"
   },
   {
    "duration": 9,
    "start_time": "2024-07-04T18:29:17.021Z"
   },
   {
    "duration": 178,
    "start_time": "2024-07-04T18:29:17.032Z"
   },
   {
    "duration": 7,
    "start_time": "2024-07-04T18:29:17.212Z"
   },
   {
    "duration": 203,
    "start_time": "2024-07-04T18:29:17.221Z"
   },
   {
    "duration": 140,
    "start_time": "2024-07-04T18:29:17.425Z"
   },
   {
    "duration": 8,
    "start_time": "2024-07-04T18:29:17.566Z"
   },
   {
    "duration": 257,
    "start_time": "2024-07-04T18:29:17.576Z"
   },
   {
    "duration": 9,
    "start_time": "2024-07-04T18:29:17.834Z"
   },
   {
    "duration": 270,
    "start_time": "2024-07-04T18:29:17.844Z"
   },
   {
    "duration": 9,
    "start_time": "2024-07-04T18:29:18.116Z"
   },
   {
    "duration": 279,
    "start_time": "2024-07-04T18:29:18.127Z"
   },
   {
    "duration": 9,
    "start_time": "2024-07-04T18:29:18.408Z"
   },
   {
    "duration": 283,
    "start_time": "2024-07-04T18:29:18.418Z"
   },
   {
    "duration": 18,
    "start_time": "2024-07-04T18:29:18.702Z"
   },
   {
    "duration": 25,
    "start_time": "2024-07-04T18:29:18.721Z"
   },
   {
    "duration": 13,
    "start_time": "2024-07-04T18:29:18.748Z"
   },
   {
    "duration": 175,
    "start_time": "2024-07-04T18:29:18.763Z"
   },
   {
    "duration": 186,
    "start_time": "2024-07-04T18:29:18.940Z"
   },
   {
    "duration": 169,
    "start_time": "2024-07-04T18:29:19.127Z"
   },
   {
    "duration": 152,
    "start_time": "2024-07-04T18:29:19.300Z"
   },
   {
    "duration": 211,
    "start_time": "2024-07-04T18:29:19.454Z"
   },
   {
    "duration": 154,
    "start_time": "2024-07-04T18:29:19.666Z"
   },
   {
    "duration": 146,
    "start_time": "2024-07-04T18:29:19.822Z"
   },
   {
    "duration": 153,
    "start_time": "2024-07-04T18:29:19.970Z"
   },
   {
    "duration": 22,
    "start_time": "2024-07-04T18:29:20.124Z"
   },
   {
    "duration": 17,
    "start_time": "2024-07-04T18:29:20.148Z"
   },
   {
    "duration": 195,
    "start_time": "2024-07-04T18:29:20.167Z"
   },
   {
    "duration": 10,
    "start_time": "2024-07-04T18:32:19.192Z"
   },
   {
    "duration": 8,
    "start_time": "2024-07-04T18:32:38.415Z"
   },
   {
    "duration": 10,
    "start_time": "2024-07-04T18:32:45.861Z"
   },
   {
    "duration": 244,
    "start_time": "2024-07-04T18:32:49.867Z"
   },
   {
    "duration": 8,
    "start_time": "2024-07-04T18:32:53.892Z"
   },
   {
    "duration": 9,
    "start_time": "2024-07-04T18:33:23.896Z"
   },
   {
    "duration": 244,
    "start_time": "2024-07-04T18:34:06.843Z"
   },
   {
    "duration": 8,
    "start_time": "2024-07-04T18:34:25.761Z"
   },
   {
    "duration": 3,
    "start_time": "2024-07-04T18:34:38.805Z"
   },
   {
    "duration": 106,
    "start_time": "2024-07-04T18:34:38.809Z"
   },
   {
    "duration": 16,
    "start_time": "2024-07-04T18:34:38.917Z"
   },
   {
    "duration": 24,
    "start_time": "2024-07-04T18:34:38.934Z"
   },
   {
    "duration": 1807,
    "start_time": "2024-07-04T18:34:38.960Z"
   },
   {
    "duration": 9,
    "start_time": "2024-07-04T18:34:40.768Z"
   },
   {
    "duration": 6,
    "start_time": "2024-07-04T18:34:40.779Z"
   },
   {
    "duration": 6,
    "start_time": "2024-07-04T18:34:40.799Z"
   },
   {
    "duration": 14,
    "start_time": "2024-07-04T18:34:40.806Z"
   },
   {
    "duration": 11,
    "start_time": "2024-07-04T18:34:40.821Z"
   },
   {
    "duration": 12,
    "start_time": "2024-07-04T18:34:40.834Z"
   },
   {
    "duration": 89,
    "start_time": "2024-07-04T18:34:40.847Z"
   },
   {
    "duration": 9,
    "start_time": "2024-07-04T18:34:40.938Z"
   },
   {
    "duration": 31,
    "start_time": "2024-07-04T18:34:40.949Z"
   },
   {
    "duration": 3,
    "start_time": "2024-07-04T18:34:40.981Z"
   },
   {
    "duration": 32,
    "start_time": "2024-07-04T18:34:40.999Z"
   },
   {
    "duration": 5,
    "start_time": "2024-07-04T18:34:41.032Z"
   },
   {
    "duration": 261,
    "start_time": "2024-07-04T18:34:41.038Z"
   },
   {
    "duration": 5,
    "start_time": "2024-07-04T18:34:41.300Z"
   },
   {
    "duration": 6,
    "start_time": "2024-07-04T18:34:41.307Z"
   },
   {
    "duration": 5,
    "start_time": "2024-07-04T18:34:41.314Z"
   },
   {
    "duration": 5,
    "start_time": "2024-07-04T18:34:41.320Z"
   },
   {
    "duration": 5,
    "start_time": "2024-07-04T18:34:41.327Z"
   },
   {
    "duration": 5,
    "start_time": "2024-07-04T18:34:41.333Z"
   },
   {
    "duration": 5,
    "start_time": "2024-07-04T18:34:41.339Z"
   },
   {
    "duration": 6,
    "start_time": "2024-07-04T18:34:41.345Z"
   },
   {
    "duration": 48,
    "start_time": "2024-07-04T18:34:41.352Z"
   },
   {
    "duration": 7,
    "start_time": "2024-07-04T18:34:41.401Z"
   },
   {
    "duration": 7,
    "start_time": "2024-07-04T18:34:41.410Z"
   },
   {
    "duration": 7,
    "start_time": "2024-07-04T18:34:41.418Z"
   },
   {
    "duration": 7,
    "start_time": "2024-07-04T18:34:41.426Z"
   },
   {
    "duration": 342,
    "start_time": "2024-07-04T18:34:41.434Z"
   },
   {
    "duration": 25,
    "start_time": "2024-07-04T18:34:41.778Z"
   },
   {
    "duration": 14,
    "start_time": "2024-07-04T18:34:41.805Z"
   },
   {
    "duration": 8,
    "start_time": "2024-07-04T18:34:41.821Z"
   },
   {
    "duration": 475,
    "start_time": "2024-07-04T18:34:41.830Z"
   },
   {
    "duration": 8,
    "start_time": "2024-07-04T18:34:42.306Z"
   },
   {
    "duration": 268,
    "start_time": "2024-07-04T18:34:42.315Z"
   },
   {
    "duration": 17,
    "start_time": "2024-07-04T18:34:42.585Z"
   },
   {
    "duration": 253,
    "start_time": "2024-07-04T18:34:42.603Z"
   },
   {
    "duration": 9,
    "start_time": "2024-07-04T18:34:42.860Z"
   },
   {
    "duration": 272,
    "start_time": "2024-07-04T18:34:42.870Z"
   },
   {
    "duration": 7,
    "start_time": "2024-07-04T18:34:43.144Z"
   },
   {
    "duration": 177,
    "start_time": "2024-07-04T18:34:43.153Z"
   },
   {
    "duration": 8,
    "start_time": "2024-07-04T18:34:43.332Z"
   },
   {
    "duration": 172,
    "start_time": "2024-07-04T18:34:43.342Z"
   },
   {
    "duration": 9,
    "start_time": "2024-07-04T18:34:43.515Z"
   },
   {
    "duration": 200,
    "start_time": "2024-07-04T18:34:43.525Z"
   },
   {
    "duration": 140,
    "start_time": "2024-07-04T18:34:43.727Z"
   },
   {
    "duration": 8,
    "start_time": "2024-07-04T18:34:43.870Z"
   },
   {
    "duration": 262,
    "start_time": "2024-07-04T18:34:43.880Z"
   },
   {
    "duration": 9,
    "start_time": "2024-07-04T18:34:44.144Z"
   },
   {
    "duration": 296,
    "start_time": "2024-07-04T18:34:44.155Z"
   },
   {
    "duration": 10,
    "start_time": "2024-07-04T18:34:44.452Z"
   },
   {
    "duration": 274,
    "start_time": "2024-07-04T18:34:44.464Z"
   },
   {
    "duration": 8,
    "start_time": "2024-07-04T18:34:44.740Z"
   },
   {
    "duration": 280,
    "start_time": "2024-07-04T18:34:44.749Z"
   },
   {
    "duration": 17,
    "start_time": "2024-07-04T18:34:45.030Z"
   },
   {
    "duration": 36,
    "start_time": "2024-07-04T18:34:45.049Z"
   },
   {
    "duration": 22,
    "start_time": "2024-07-04T18:34:45.086Z"
   },
   {
    "duration": 153,
    "start_time": "2024-07-04T18:34:45.110Z"
   },
   {
    "duration": 173,
    "start_time": "2024-07-04T18:34:45.264Z"
   },
   {
    "duration": 169,
    "start_time": "2024-07-04T18:34:45.439Z"
   },
   {
    "duration": 140,
    "start_time": "2024-07-04T18:34:45.610Z"
   },
   {
    "duration": 249,
    "start_time": "2024-07-04T18:34:45.751Z"
   },
   {
    "duration": 155,
    "start_time": "2024-07-04T18:34:46.001Z"
   },
   {
    "duration": 150,
    "start_time": "2024-07-04T18:34:46.157Z"
   },
   {
    "duration": 149,
    "start_time": "2024-07-04T18:34:46.309Z"
   },
   {
    "duration": 41,
    "start_time": "2024-07-04T18:34:46.460Z"
   },
   {
    "duration": 19,
    "start_time": "2024-07-04T18:34:46.503Z"
   },
   {
    "duration": 201,
    "start_time": "2024-07-04T18:34:46.524Z"
   },
   {
    "duration": 261,
    "start_time": "2024-07-04T18:35:14.300Z"
   },
   {
    "duration": 231,
    "start_time": "2024-07-04T18:55:19.525Z"
   },
   {
    "duration": 214,
    "start_time": "2024-07-04T18:56:59.326Z"
   },
   {
    "duration": 33,
    "start_time": "2024-07-04T19:36:45.795Z"
   },
   {
    "duration": 14,
    "start_time": "2024-07-04T19:36:51.710Z"
   },
   {
    "duration": 13,
    "start_time": "2024-07-04T19:37:39.035Z"
   },
   {
    "duration": 13,
    "start_time": "2024-07-04T19:37:52.342Z"
   },
   {
    "duration": 69,
    "start_time": "2024-07-04T19:41:32.841Z"
   },
   {
    "duration": 66,
    "start_time": "2024-07-04T19:43:10.411Z"
   },
   {
    "duration": 62,
    "start_time": "2024-07-04T19:43:24.790Z"
   },
   {
    "duration": 2650,
    "start_time": "2024-07-04T19:44:33.514Z"
   },
   {
    "duration": 2454,
    "start_time": "2024-07-04T19:46:43.965Z"
   },
   {
    "duration": 3,
    "start_time": "2024-07-04T19:47:11.622Z"
   },
   {
    "duration": 102,
    "start_time": "2024-07-04T19:47:11.626Z"
   },
   {
    "duration": 14,
    "start_time": "2024-07-04T19:47:11.729Z"
   },
   {
    "duration": 34,
    "start_time": "2024-07-04T19:47:11.744Z"
   },
   {
    "duration": 1799,
    "start_time": "2024-07-04T19:47:11.780Z"
   },
   {
    "duration": 9,
    "start_time": "2024-07-04T19:47:13.581Z"
   },
   {
    "duration": 5,
    "start_time": "2024-07-04T19:47:13.599Z"
   },
   {
    "duration": 5,
    "start_time": "2024-07-04T19:47:13.606Z"
   },
   {
    "duration": 14,
    "start_time": "2024-07-04T19:47:13.612Z"
   },
   {
    "duration": 11,
    "start_time": "2024-07-04T19:47:13.628Z"
   },
   {
    "duration": 12,
    "start_time": "2024-07-04T19:47:13.640Z"
   },
   {
    "duration": 90,
    "start_time": "2024-07-04T19:47:13.653Z"
   },
   {
    "duration": 8,
    "start_time": "2024-07-04T19:47:13.744Z"
   },
   {
    "duration": 45,
    "start_time": "2024-07-04T19:47:13.755Z"
   },
   {
    "duration": 3,
    "start_time": "2024-07-04T19:47:13.801Z"
   },
   {
    "duration": 31,
    "start_time": "2024-07-04T19:47:13.806Z"
   },
   {
    "duration": 4,
    "start_time": "2024-07-04T19:47:13.839Z"
   },
   {
    "duration": 262,
    "start_time": "2024-07-04T19:47:13.844Z"
   },
   {
    "duration": 4,
    "start_time": "2024-07-04T19:47:14.108Z"
   },
   {
    "duration": 7,
    "start_time": "2024-07-04T19:47:14.114Z"
   },
   {
    "duration": 102,
    "start_time": "2024-07-04T19:47:14.122Z"
   },
   {
    "duration": 15,
    "start_time": "2024-07-04T19:47:14.225Z"
   },
   {
    "duration": 8,
    "start_time": "2024-07-04T19:47:14.241Z"
   },
   {
    "duration": 7,
    "start_time": "2024-07-04T19:47:14.250Z"
   },
   {
    "duration": 6,
    "start_time": "2024-07-04T19:47:14.259Z"
   },
   {
    "duration": 5,
    "start_time": "2024-07-04T19:47:14.266Z"
   },
   {
    "duration": 9,
    "start_time": "2024-07-04T19:47:14.272Z"
   },
   {
    "duration": 12,
    "start_time": "2024-07-04T19:47:14.283Z"
   },
   {
    "duration": 8,
    "start_time": "2024-07-04T19:47:14.296Z"
   },
   {
    "duration": 7,
    "start_time": "2024-07-04T19:47:14.306Z"
   },
   {
    "duration": 6,
    "start_time": "2024-07-04T19:47:14.315Z"
   },
   {
    "duration": 488,
    "start_time": "2024-07-04T19:47:14.323Z"
   },
   {
    "duration": 7,
    "start_time": "2024-07-04T19:47:14.813Z"
   },
   {
    "duration": 15,
    "start_time": "2024-07-04T19:47:14.821Z"
   },
   {
    "duration": 9,
    "start_time": "2024-07-04T19:47:14.838Z"
   },
   {
    "duration": 302,
    "start_time": "2024-07-04T19:47:14.848Z"
   },
   {
    "duration": 9,
    "start_time": "2024-07-04T19:47:15.152Z"
   },
   {
    "duration": 285,
    "start_time": "2024-07-04T19:47:15.163Z"
   },
   {
    "duration": 8,
    "start_time": "2024-07-04T19:47:15.450Z"
   },
   {
    "duration": 284,
    "start_time": "2024-07-04T19:47:15.459Z"
   },
   {
    "duration": 9,
    "start_time": "2024-07-04T19:47:15.747Z"
   },
   {
    "duration": 316,
    "start_time": "2024-07-04T19:47:15.757Z"
   },
   {
    "duration": 7,
    "start_time": "2024-07-04T19:47:16.075Z"
   },
   {
    "duration": 175,
    "start_time": "2024-07-04T19:47:16.084Z"
   },
   {
    "duration": 8,
    "start_time": "2024-07-04T19:47:16.261Z"
   },
   {
    "duration": 273,
    "start_time": "2024-07-04T19:47:16.270Z"
   },
   {
    "duration": 9,
    "start_time": "2024-07-04T19:47:16.544Z"
   },
   {
    "duration": 214,
    "start_time": "2024-07-04T19:47:16.554Z"
   },
   {
    "duration": 154,
    "start_time": "2024-07-04T19:47:16.770Z"
   },
   {
    "duration": 9,
    "start_time": "2024-07-04T19:47:16.926Z"
   },
   {
    "duration": 197,
    "start_time": "2024-07-04T19:47:16.936Z"
   },
   {
    "duration": 10,
    "start_time": "2024-07-04T19:47:17.135Z"
   },
   {
    "duration": 267,
    "start_time": "2024-07-04T19:47:17.146Z"
   },
   {
    "duration": 8,
    "start_time": "2024-07-04T19:47:17.415Z"
   },
   {
    "duration": 258,
    "start_time": "2024-07-04T19:47:17.425Z"
   },
   {
    "duration": 16,
    "start_time": "2024-07-04T19:47:17.684Z"
   },
   {
    "duration": 255,
    "start_time": "2024-07-04T19:47:17.702Z"
   },
   {
    "duration": 26,
    "start_time": "2024-07-04T19:47:17.959Z"
   },
   {
    "duration": 23,
    "start_time": "2024-07-04T19:47:17.986Z"
   },
   {
    "duration": 151,
    "start_time": "2024-07-04T19:47:18.011Z"
   },
   {
    "duration": 263,
    "start_time": "2024-07-04T19:47:18.163Z"
   },
   {
    "duration": 163,
    "start_time": "2024-07-04T19:47:18.427Z"
   },
   {
    "duration": 147,
    "start_time": "2024-07-04T19:47:18.591Z"
   },
   {
    "duration": 147,
    "start_time": "2024-07-04T19:47:18.740Z"
   },
   {
    "duration": 171,
    "start_time": "2024-07-04T19:47:18.889Z"
   },
   {
    "duration": 148,
    "start_time": "2024-07-04T19:47:19.062Z"
   },
   {
    "duration": 155,
    "start_time": "2024-07-04T19:47:19.212Z"
   },
   {
    "duration": 31,
    "start_time": "2024-07-04T19:47:19.369Z"
   },
   {
    "duration": 20,
    "start_time": "2024-07-04T19:47:19.401Z"
   },
   {
    "duration": 189,
    "start_time": "2024-07-04T19:47:19.423Z"
   },
   {
    "duration": 13,
    "start_time": "2024-07-04T19:56:16.026Z"
   },
   {
    "duration": 13,
    "start_time": "2024-07-04T19:56:26.410Z"
   },
   {
    "duration": 76,
    "start_time": "2024-07-04T20:11:17.543Z"
   },
   {
    "duration": 11,
    "start_time": "2024-07-04T20:11:52.424Z"
   },
   {
    "duration": 101,
    "start_time": "2024-07-04T20:12:36.266Z"
   },
   {
    "duration": 8,
    "start_time": "2024-07-04T20:12:48.748Z"
   },
   {
    "duration": 24,
    "start_time": "2024-07-04T20:36:17.060Z"
   },
   {
    "duration": 15,
    "start_time": "2024-07-04T20:36:23.017Z"
   },
   {
    "duration": 620,
    "start_time": "2024-07-04T20:37:31.229Z"
   },
   {
    "duration": 111,
    "start_time": "2024-07-04T20:37:31.850Z"
   },
   {
    "duration": 13,
    "start_time": "2024-07-04T20:37:31.963Z"
   },
   {
    "duration": 36,
    "start_time": "2024-07-04T20:37:31.978Z"
   },
   {
    "duration": 1807,
    "start_time": "2024-07-04T20:37:32.016Z"
   },
   {
    "duration": 9,
    "start_time": "2024-07-04T20:37:33.824Z"
   },
   {
    "duration": 54,
    "start_time": "2024-07-04T20:37:33.835Z"
   },
   {
    "duration": 5,
    "start_time": "2024-07-04T20:37:33.891Z"
   },
   {
    "duration": 13,
    "start_time": "2024-07-04T20:37:33.897Z"
   },
   {
    "duration": 12,
    "start_time": "2024-07-04T20:37:33.911Z"
   },
   {
    "duration": 11,
    "start_time": "2024-07-04T20:37:33.924Z"
   },
   {
    "duration": 77,
    "start_time": "2024-07-04T20:37:33.936Z"
   },
   {
    "duration": 9,
    "start_time": "2024-07-04T20:37:34.014Z"
   },
   {
    "duration": 66,
    "start_time": "2024-07-04T20:37:34.026Z"
   },
   {
    "duration": 3,
    "start_time": "2024-07-04T20:37:34.093Z"
   },
   {
    "duration": 35,
    "start_time": "2024-07-04T20:37:34.098Z"
   },
   {
    "duration": 4,
    "start_time": "2024-07-04T20:37:34.135Z"
   },
   {
    "duration": 241,
    "start_time": "2024-07-04T20:37:34.140Z"
   },
   {
    "duration": 5,
    "start_time": "2024-07-04T20:37:34.382Z"
   },
   {
    "duration": 12,
    "start_time": "2024-07-04T20:37:34.388Z"
   },
   {
    "duration": 4,
    "start_time": "2024-07-04T20:37:34.402Z"
   },
   {
    "duration": 4,
    "start_time": "2024-07-04T20:37:34.407Z"
   },
   {
    "duration": 4,
    "start_time": "2024-07-04T20:37:34.413Z"
   },
   {
    "duration": 11,
    "start_time": "2024-07-04T20:37:34.418Z"
   },
   {
    "duration": 4,
    "start_time": "2024-07-04T20:37:34.431Z"
   },
   {
    "duration": 4,
    "start_time": "2024-07-04T20:37:34.436Z"
   },
   {
    "duration": 3,
    "start_time": "2024-07-04T20:37:34.442Z"
   },
   {
    "duration": 7,
    "start_time": "2024-07-04T20:37:34.446Z"
   },
   {
    "duration": 7,
    "start_time": "2024-07-04T20:37:34.454Z"
   },
   {
    "duration": 40,
    "start_time": "2024-07-04T20:37:34.462Z"
   },
   {
    "duration": 6,
    "start_time": "2024-07-04T20:37:34.503Z"
   },
   {
    "duration": 330,
    "start_time": "2024-07-04T20:37:34.511Z"
   },
   {
    "duration": 6,
    "start_time": "2024-07-04T20:37:34.843Z"
   },
   {
    "duration": 52,
    "start_time": "2024-07-04T20:37:34.850Z"
   },
   {
    "duration": 9,
    "start_time": "2024-07-04T20:37:34.904Z"
   },
   {
    "duration": 286,
    "start_time": "2024-07-04T20:37:34.914Z"
   },
   {
    "duration": 9,
    "start_time": "2024-07-04T20:37:35.202Z"
   },
   {
    "duration": 355,
    "start_time": "2024-07-04T20:37:35.212Z"
   },
   {
    "duration": 8,
    "start_time": "2024-07-04T20:37:35.569Z"
   },
   {
    "duration": 306,
    "start_time": "2024-07-04T20:37:35.578Z"
   },
   {
    "duration": 15,
    "start_time": "2024-07-04T20:37:35.888Z"
   },
   {
    "duration": 312,
    "start_time": "2024-07-04T20:37:35.904Z"
   },
   {
    "duration": 7,
    "start_time": "2024-07-04T20:37:36.218Z"
   },
   {
    "duration": 174,
    "start_time": "2024-07-04T20:37:36.227Z"
   },
   {
    "duration": 9,
    "start_time": "2024-07-04T20:37:36.402Z"
   },
   {
    "duration": 170,
    "start_time": "2024-07-04T20:37:36.412Z"
   },
   {
    "duration": 17,
    "start_time": "2024-07-04T20:37:36.584Z"
   },
   {
    "duration": 190,
    "start_time": "2024-07-04T20:37:36.602Z"
   },
   {
    "duration": 153,
    "start_time": "2024-07-04T20:37:36.794Z"
   },
   {
    "duration": 9,
    "start_time": "2024-07-04T20:37:36.949Z"
   },
   {
    "duration": 209,
    "start_time": "2024-07-04T20:37:36.960Z"
   },
   {
    "duration": 10,
    "start_time": "2024-07-04T20:37:37.171Z"
   },
   {
    "duration": 361,
    "start_time": "2024-07-04T20:37:37.182Z"
   },
   {
    "duration": 8,
    "start_time": "2024-07-04T20:37:37.544Z"
   },
   {
    "duration": 262,
    "start_time": "2024-07-04T20:37:37.553Z"
   },
   {
    "duration": 8,
    "start_time": "2024-07-04T20:37:37.816Z"
   },
   {
    "duration": 220,
    "start_time": "2024-07-04T20:37:37.826Z"
   },
   {
    "duration": 22,
    "start_time": "2024-07-04T20:37:38.048Z"
   },
   {
    "duration": 12,
    "start_time": "2024-07-04T20:37:38.071Z"
   },
   {
    "duration": 156,
    "start_time": "2024-07-04T20:37:38.084Z"
   },
   {
    "duration": 186,
    "start_time": "2024-07-04T20:37:38.242Z"
   },
   {
    "duration": 162,
    "start_time": "2024-07-04T20:37:38.429Z"
   },
   {
    "duration": 141,
    "start_time": "2024-07-04T20:37:38.593Z"
   },
   {
    "duration": 143,
    "start_time": "2024-07-04T20:37:38.735Z"
   },
   {
    "duration": 169,
    "start_time": "2024-07-04T20:37:38.880Z"
   },
   {
    "duration": 211,
    "start_time": "2024-07-04T20:37:39.051Z"
   },
   {
    "duration": 145,
    "start_time": "2024-07-04T20:37:39.263Z"
   },
   {
    "duration": 24,
    "start_time": "2024-07-04T20:37:39.410Z"
   },
   {
    "duration": 22,
    "start_time": "2024-07-04T20:37:39.435Z"
   },
   {
    "duration": 196,
    "start_time": "2024-07-04T20:37:39.459Z"
   },
   {
    "duration": 604,
    "start_time": "2024-07-05T15:45:51.400Z"
   },
   {
    "duration": 120,
    "start_time": "2024-07-05T15:45:52.006Z"
   },
   {
    "duration": 15,
    "start_time": "2024-07-05T15:45:52.127Z"
   },
   {
    "duration": 43,
    "start_time": "2024-07-05T15:45:52.144Z"
   },
   {
    "duration": 2017,
    "start_time": "2024-07-05T15:45:52.190Z"
   },
   {
    "duration": 14,
    "start_time": "2024-07-05T15:45:54.209Z"
   },
   {
    "duration": 8,
    "start_time": "2024-07-05T15:45:54.225Z"
   },
   {
    "duration": 29,
    "start_time": "2024-07-05T15:45:54.235Z"
   },
   {
    "duration": 17,
    "start_time": "2024-07-05T15:45:54.265Z"
   },
   {
    "duration": 11,
    "start_time": "2024-07-05T15:45:54.284Z"
   },
   {
    "duration": 12,
    "start_time": "2024-07-05T15:45:54.296Z"
   },
   {
    "duration": 117,
    "start_time": "2024-07-05T15:45:54.309Z"
   },
   {
    "duration": 10,
    "start_time": "2024-07-05T15:45:54.427Z"
   },
   {
    "duration": 41,
    "start_time": "2024-07-05T15:45:54.441Z"
   },
   {
    "duration": 4,
    "start_time": "2024-07-05T15:45:54.484Z"
   },
   {
    "duration": 53,
    "start_time": "2024-07-05T15:45:54.490Z"
   },
   {
    "duration": 4,
    "start_time": "2024-07-05T15:45:54.545Z"
   },
   {
    "duration": 302,
    "start_time": "2024-07-05T15:45:54.551Z"
   },
   {
    "duration": 15,
    "start_time": "2024-07-05T15:45:54.854Z"
   },
   {
    "duration": 9,
    "start_time": "2024-07-05T15:45:54.871Z"
   },
   {
    "duration": 8,
    "start_time": "2024-07-05T15:45:54.882Z"
   },
   {
    "duration": 7,
    "start_time": "2024-07-05T15:45:54.892Z"
   },
   {
    "duration": 6,
    "start_time": "2024-07-05T15:45:54.900Z"
   },
   {
    "duration": 5,
    "start_time": "2024-07-05T15:45:54.907Z"
   },
   {
    "duration": 5,
    "start_time": "2024-07-05T15:45:54.913Z"
   },
   {
    "duration": 13,
    "start_time": "2024-07-05T15:45:54.920Z"
   },
   {
    "duration": 32,
    "start_time": "2024-07-05T15:45:54.935Z"
   },
   {
    "duration": 7,
    "start_time": "2024-07-05T15:45:54.969Z"
   },
   {
    "duration": 8,
    "start_time": "2024-07-05T15:45:54.978Z"
   },
   {
    "duration": 6,
    "start_time": "2024-07-05T15:45:54.987Z"
   },
   {
    "duration": 6,
    "start_time": "2024-07-05T15:45:54.995Z"
   },
   {
    "duration": 369,
    "start_time": "2024-07-05T15:45:55.002Z"
   },
   {
    "duration": 7,
    "start_time": "2024-07-05T15:45:55.372Z"
   },
   {
    "duration": 37,
    "start_time": "2024-07-05T15:45:55.381Z"
   },
   {
    "duration": 9,
    "start_time": "2024-07-05T15:45:55.420Z"
   },
   {
    "duration": 283,
    "start_time": "2024-07-05T15:45:55.431Z"
   },
   {
    "duration": 8,
    "start_time": "2024-07-05T15:45:55.716Z"
   },
   {
    "duration": 391,
    "start_time": "2024-07-05T15:45:55.726Z"
   },
   {
    "duration": 9,
    "start_time": "2024-07-05T15:45:56.119Z"
   },
   {
    "duration": 307,
    "start_time": "2024-07-05T15:45:56.129Z"
   },
   {
    "duration": 8,
    "start_time": "2024-07-05T15:45:56.440Z"
   },
   {
    "duration": 291,
    "start_time": "2024-07-05T15:45:56.455Z"
   },
   {
    "duration": 22,
    "start_time": "2024-07-05T15:45:56.748Z"
   },
   {
    "duration": 210,
    "start_time": "2024-07-05T15:45:56.772Z"
   },
   {
    "duration": 7,
    "start_time": "2024-07-05T15:45:56.984Z"
   },
   {
    "duration": 185,
    "start_time": "2024-07-05T15:45:56.993Z"
   },
   {
    "duration": 9,
    "start_time": "2024-07-05T15:45:57.180Z"
   },
   {
    "duration": 225,
    "start_time": "2024-07-05T15:45:57.190Z"
   },
   {
    "duration": 169,
    "start_time": "2024-07-05T15:45:57.417Z"
   },
   {
    "duration": 9,
    "start_time": "2024-07-05T15:45:57.588Z"
   },
   {
    "duration": 239,
    "start_time": "2024-07-05T15:45:57.598Z"
   },
   {
    "duration": 9,
    "start_time": "2024-07-05T15:45:57.839Z"
   },
   {
    "duration": 388,
    "start_time": "2024-07-05T15:45:57.856Z"
   },
   {
    "duration": 24,
    "start_time": "2024-07-05T15:45:58.245Z"
   },
   {
    "duration": 279,
    "start_time": "2024-07-05T15:45:58.271Z"
   },
   {
    "duration": 12,
    "start_time": "2024-07-05T15:45:58.558Z"
   },
   {
    "duration": 250,
    "start_time": "2024-07-05T15:45:58.571Z"
   },
   {
    "duration": 23,
    "start_time": "2024-07-05T15:45:58.823Z"
   },
   {
    "duration": 22,
    "start_time": "2024-07-05T15:45:58.854Z"
   },
   {
    "duration": 186,
    "start_time": "2024-07-05T15:45:58.878Z"
   },
   {
    "duration": 185,
    "start_time": "2024-07-05T15:45:59.065Z"
   },
   {
    "duration": 213,
    "start_time": "2024-07-05T15:45:59.252Z"
   },
   {
    "duration": 167,
    "start_time": "2024-07-05T15:45:59.467Z"
   },
   {
    "duration": 165,
    "start_time": "2024-07-05T15:45:59.636Z"
   },
   {
    "duration": 173,
    "start_time": "2024-07-05T15:45:59.803Z"
   },
   {
    "duration": 252,
    "start_time": "2024-07-05T15:45:59.978Z"
   },
   {
    "duration": 168,
    "start_time": "2024-07-05T15:46:00.231Z"
   },
   {
    "duration": 281,
    "start_time": "2024-07-05T15:46:00.401Z"
   },
   {
    "duration": 67,
    "start_time": "2024-07-05T15:46:00.684Z"
   },
   {
    "duration": 287,
    "start_time": "2024-07-05T15:46:00.752Z"
   },
   {
    "duration": 623,
    "start_time": "2024-07-05T15:47:16.618Z"
   },
   {
    "duration": 131,
    "start_time": "2024-07-05T15:47:17.243Z"
   },
   {
    "duration": 15,
    "start_time": "2024-07-05T15:47:17.375Z"
   },
   {
    "duration": 23,
    "start_time": "2024-07-05T15:47:17.392Z"
   },
   {
    "duration": 2235,
    "start_time": "2024-07-05T15:47:17.417Z"
   },
   {
    "duration": 23,
    "start_time": "2024-07-05T15:47:19.653Z"
   },
   {
    "duration": 8,
    "start_time": "2024-07-05T15:47:19.677Z"
   },
   {
    "duration": 14,
    "start_time": "2024-07-05T15:47:19.686Z"
   },
   {
    "duration": 17,
    "start_time": "2024-07-05T15:47:19.702Z"
   },
   {
    "duration": 24,
    "start_time": "2024-07-05T15:47:19.722Z"
   },
   {
    "duration": 30,
    "start_time": "2024-07-05T15:47:19.748Z"
   },
   {
    "duration": 65,
    "start_time": "2024-07-05T15:47:19.779Z"
   },
   {
    "duration": 9,
    "start_time": "2024-07-05T15:47:19.845Z"
   },
   {
    "duration": 74,
    "start_time": "2024-07-05T15:47:19.867Z"
   },
   {
    "duration": 7,
    "start_time": "2024-07-05T15:47:19.943Z"
   },
   {
    "duration": 50,
    "start_time": "2024-07-05T15:47:19.952Z"
   },
   {
    "duration": 5,
    "start_time": "2024-07-05T15:47:20.004Z"
   },
   {
    "duration": 329,
    "start_time": "2024-07-05T15:47:20.010Z"
   },
   {
    "duration": 5,
    "start_time": "2024-07-05T15:47:20.341Z"
   },
   {
    "duration": 40,
    "start_time": "2024-07-05T15:47:20.347Z"
   },
   {
    "duration": 38,
    "start_time": "2024-07-05T15:47:20.389Z"
   },
   {
    "duration": 39,
    "start_time": "2024-07-05T15:47:20.429Z"
   },
   {
    "duration": 15,
    "start_time": "2024-07-05T15:47:20.470Z"
   },
   {
    "duration": 38,
    "start_time": "2024-07-05T15:47:20.487Z"
   },
   {
    "duration": 45,
    "start_time": "2024-07-05T15:47:20.526Z"
   },
   {
    "duration": 34,
    "start_time": "2024-07-05T15:47:20.572Z"
   },
   {
    "duration": 36,
    "start_time": "2024-07-05T15:47:20.607Z"
   },
   {
    "duration": 28,
    "start_time": "2024-07-05T15:47:20.647Z"
   },
   {
    "duration": 38,
    "start_time": "2024-07-05T15:47:20.677Z"
   },
   {
    "duration": 100,
    "start_time": "2024-07-05T15:47:20.716Z"
   },
   {
    "duration": 28,
    "start_time": "2024-07-05T15:47:20.817Z"
   },
   {
    "duration": 384,
    "start_time": "2024-07-05T15:47:20.847Z"
   },
   {
    "duration": 7,
    "start_time": "2024-07-05T15:47:21.232Z"
   },
   {
    "duration": 41,
    "start_time": "2024-07-05T15:47:21.240Z"
   },
   {
    "duration": 101,
    "start_time": "2024-07-05T15:47:21.283Z"
   },
   {
    "duration": 338,
    "start_time": "2024-07-05T15:47:21.386Z"
   },
   {
    "duration": 9,
    "start_time": "2024-07-05T15:47:21.725Z"
   },
   {
    "duration": 409,
    "start_time": "2024-07-05T15:47:21.735Z"
   },
   {
    "duration": 8,
    "start_time": "2024-07-05T15:47:22.146Z"
   },
   {
    "duration": 339,
    "start_time": "2024-07-05T15:47:22.168Z"
   },
   {
    "duration": 9,
    "start_time": "2024-07-05T15:47:22.509Z"
   },
   {
    "duration": 310,
    "start_time": "2024-07-05T15:47:22.519Z"
   },
   {
    "duration": 8,
    "start_time": "2024-07-05T15:47:22.830Z"
   },
   {
    "duration": 186,
    "start_time": "2024-07-05T15:47:22.840Z"
   },
   {
    "duration": 8,
    "start_time": "2024-07-05T15:47:23.028Z"
   },
   {
    "duration": 206,
    "start_time": "2024-07-05T15:47:23.038Z"
   },
   {
    "duration": 12,
    "start_time": "2024-07-05T15:47:23.246Z"
   },
   {
    "duration": 249,
    "start_time": "2024-07-05T15:47:23.261Z"
   },
   {
    "duration": 150,
    "start_time": "2024-07-05T15:47:23.512Z"
   },
   {
    "duration": 8,
    "start_time": "2024-07-05T15:47:23.664Z"
   },
   {
    "duration": 216,
    "start_time": "2024-07-05T15:47:23.673Z"
   },
   {
    "duration": 9,
    "start_time": "2024-07-05T15:47:23.890Z"
   },
   {
    "duration": 446,
    "start_time": "2024-07-05T15:47:23.900Z"
   },
   {
    "duration": 14,
    "start_time": "2024-07-05T15:47:24.348Z"
   },
   {
    "duration": 326,
    "start_time": "2024-07-05T15:47:24.366Z"
   },
   {
    "duration": 10,
    "start_time": "2024-07-05T15:47:24.694Z"
   },
   {
    "duration": 344,
    "start_time": "2024-07-05T15:47:24.706Z"
   },
   {
    "duration": 26,
    "start_time": "2024-07-05T15:47:25.052Z"
   },
   {
    "duration": 36,
    "start_time": "2024-07-05T15:47:25.080Z"
   },
   {
    "duration": 177,
    "start_time": "2024-07-05T15:47:25.118Z"
   },
   {
    "duration": 188,
    "start_time": "2024-07-05T15:47:25.296Z"
   },
   {
    "duration": 187,
    "start_time": "2024-07-05T15:47:25.486Z"
   },
   {
    "duration": 138,
    "start_time": "2024-07-05T15:47:25.675Z"
   },
   {
    "duration": 155,
    "start_time": "2024-07-05T15:47:25.815Z"
   },
   {
    "duration": 194,
    "start_time": "2024-07-05T15:47:25.972Z"
   },
   {
    "duration": 255,
    "start_time": "2024-07-05T15:47:26.168Z"
   },
   {
    "duration": 181,
    "start_time": "2024-07-05T15:47:26.424Z"
   },
   {
    "duration": 35,
    "start_time": "2024-07-05T15:47:26.607Z"
   },
   {
    "duration": 23,
    "start_time": "2024-07-05T15:47:26.655Z"
   },
   {
    "duration": 195,
    "start_time": "2024-07-05T15:47:26.680Z"
   }
  ],
  "colab": {
   "provenance": []
  },
  "kernelspec": {
   "display_name": "Python 3 (ipykernel)",
   "language": "python",
   "name": "python3"
  },
  "language_info": {
   "codemirror_mode": {
    "name": "ipython",
    "version": 3
   },
   "file_extension": ".py",
   "mimetype": "text/x-python",
   "name": "python",
   "nbconvert_exporter": "python",
   "pygments_lexer": "ipython3",
   "version": "3.11.7"
  },
  "toc": {
   "base_numbering": 1,
   "nav_menu": {},
   "number_sections": true,
   "sideBar": true,
   "skip_h1_title": true,
   "title_cell": "Table of Contents",
   "title_sidebar": "Contents",
   "toc_cell": false,
   "toc_position": {},
   "toc_section_display": true,
   "toc_window_display": false
  }
 },
 "nbformat": 4,
 "nbformat_minor": 4
}
